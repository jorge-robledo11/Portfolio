{
 "cells": [
  {
   "cell_type": "markdown",
   "source": "# Simple Linear Regression",
   "metadata": {
    "tags": [],
    "is_collapsed": false,
    "cell_id": "00000-4b33bd4f-ef9f-40b4-9739-2671fe815933",
    "deepnote_cell_type": "text-cell-h1"
   }
  },
  {
   "cell_type": "code",
   "metadata": {
    "tags": [],
    "cell_id": "00000-bdd8bffc-6ded-498f-8eb9-999fc9bb39c7",
    "deepnote_to_be_reexecuted": false,
    "source_hash": "cceb3d48",
    "execution_start": 1636531382690,
    "execution_millis": 2436,
    "deepnote_cell_type": "code"
   },
   "source": "import numpy as np\nimport pandas as pd\nimport matplotlib.pyplot as plt\nimport seaborn as sns",
   "outputs": [],
   "execution_count": 1
  },
  {
   "cell_type": "code",
   "source": "# Variables\n\nx = 1.5 + 2.5 * np.random.randn(100)\nres = 0 + 0.8 * np.random.randn(100)\ny_pred = 0.2 + 2.5 * x\ny = 0.2 + 2.5 * x + res\n",
   "metadata": {
    "tags": [],
    "cell_id": "00002-6f3db5d2-01eb-4a6b-984e-fbe06358a9e0",
    "deepnote_to_be_reexecuted": false,
    "source_hash": "90b16d41",
    "execution_start": 1636531385135,
    "execution_millis": 3,
    "deepnote_cell_type": "code"
   },
   "outputs": [],
   "execution_count": 2
  },
  {
   "cell_type": "code",
   "source": "# Transformamos nuestros arrays en listas\n\nx_list = list(x)\ny_pred_list = list(y_pred)\ny_list = list(y)",
   "metadata": {
    "tags": [],
    "cell_id": "00003-4c46cc34-7aad-4d31-a587-2875fdcd4d2a",
    "deepnote_to_be_reexecuted": false,
    "source_hash": "88561ee9",
    "execution_start": 1636531385145,
    "execution_millis": 2,
    "deepnote_cell_type": "code"
   },
   "outputs": [],
   "execution_count": 3
  },
  {
   "cell_type": "code",
   "source": "# Creamos nuestro dataset con valores random\n\ndata = pd.DataFrame(\n    {\n        \"x\": x_list,\n        \"y\": y_list,\n        \"y_pred\": y_pred_list\n    }\n)",
   "metadata": {
    "tags": [],
    "cell_id": "00004-194a8506-71a4-4d6d-80b8-bc23d06743fb",
    "deepnote_to_be_reexecuted": false,
    "source_hash": "dd1162cd",
    "execution_start": 1636531385195,
    "execution_millis": 0,
    "deepnote_cell_type": "code"
   },
   "outputs": [],
   "execution_count": 4
  },
  {
   "cell_type": "code",
   "source": "data.head()",
   "metadata": {
    "tags": [],
    "cell_id": "00005-3a12dbef-ddbe-4bac-86e5-86258434df31",
    "deepnote_to_be_reexecuted": false,
    "source_hash": "41313cfa",
    "execution_start": 1636531385196,
    "execution_millis": 39,
    "deepnote_cell_type": "code"
   },
   "outputs": [
    {
     "output_type": "execute_result",
     "execution_count": 5,
     "data": {
      "application/vnd.deepnote.dataframe.v2+json": {
       "row_count": 5,
       "column_count": 3,
       "columns": [
        {
         "name": "x",
         "dtype": "float64",
         "stats": {
          "unique_count": 5,
          "nan_count": 0,
          "min": "-0.23049931023991221",
          "max": "7.0316754296456585",
          "histogram": [
           {
            "bin_start": -0.23049931023991221,
            "bin_end": 0.49571816374864486,
            "count": 1
           },
           {
            "bin_start": 0.49571816374864486,
            "bin_end": 1.221935637737202,
            "count": 0
           },
           {
            "bin_start": 1.221935637737202,
            "bin_end": 1.9481531117257591,
            "count": 1
           },
           {
            "bin_start": 1.9481531117257591,
            "bin_end": 2.674370585714316,
            "count": 0
           },
           {
            "bin_start": 2.674370585714316,
            "bin_end": 3.400588059702873,
            "count": 0
           },
           {
            "bin_start": 3.400588059702873,
            "bin_end": 4.126805533691431,
            "count": 2
           },
           {
            "bin_start": 4.126805533691431,
            "bin_end": 4.853023007679988,
            "count": 0
           },
           {
            "bin_start": 4.853023007679988,
            "bin_end": 5.579240481668545,
            "count": 0
           },
           {
            "bin_start": 5.579240481668545,
            "bin_end": 6.3054579556571015,
            "count": 0
           },
           {
            "bin_start": 6.3054579556571015,
            "bin_end": 7.0316754296456585,
            "count": 1
           }
          ]
         }
        },
        {
         "name": "y",
         "dtype": "float64",
         "stats": {
          "unique_count": 5,
          "nan_count": 0,
          "min": "0.060290037886441716",
          "max": "18.65186503920895",
          "histogram": [
           {
            "bin_start": 0.060290037886441716,
            "bin_end": 1.9194475380186924,
            "count": 1
           },
           {
            "bin_start": 1.9194475380186924,
            "bin_end": 3.778605038150943,
            "count": 0
           },
           {
            "bin_start": 3.778605038150943,
            "bin_end": 5.6377625382831935,
            "count": 1
           },
           {
            "bin_start": 5.6377625382831935,
            "bin_end": 7.496920038415444,
            "count": 0
           },
           {
            "bin_start": 7.496920038415444,
            "bin_end": 9.356077538547694,
            "count": 0
           },
           {
            "bin_start": 9.356077538547694,
            "bin_end": 11.215235038679946,
            "count": 2
           },
           {
            "bin_start": 11.215235038679946,
            "bin_end": 13.074392538812198,
            "count": 0
           },
           {
            "bin_start": 13.074392538812198,
            "bin_end": 14.933550038944446,
            "count": 0
           },
           {
            "bin_start": 14.933550038944446,
            "bin_end": 16.792707539076698,
            "count": 0
           },
           {
            "bin_start": 16.792707539076698,
            "bin_end": 18.65186503920895,
            "count": 1
           }
          ]
         }
        },
        {
         "name": "y_pred",
         "dtype": "float64",
         "stats": {
          "unique_count": 5,
          "nan_count": 0,
          "min": "-0.3762482755997805",
          "max": "17.779188574114144",
          "histogram": [
           {
            "bin_start": -0.3762482755997805,
            "bin_end": 1.4392954093716122,
            "count": 1
           },
           {
            "bin_start": 1.4392954093716122,
            "bin_end": 3.2548390943430046,
            "count": 0
           },
           {
            "bin_start": 3.2548390943430046,
            "bin_end": 5.070382779314397,
            "count": 1
           },
           {
            "bin_start": 5.070382779314397,
            "bin_end": 6.88592646428579,
            "count": 0
           },
           {
            "bin_start": 6.88592646428579,
            "bin_end": 8.701470149257183,
            "count": 0
           },
           {
            "bin_start": 8.701470149257183,
            "bin_end": 10.517013834228576,
            "count": 2
           },
           {
            "bin_start": 10.517013834228576,
            "bin_end": 12.332557519199968,
            "count": 0
           },
           {
            "bin_start": 12.332557519199968,
            "bin_end": 14.148101204171361,
            "count": 0
           },
           {
            "bin_start": 14.148101204171361,
            "bin_end": 15.963644889142754,
            "count": 0
           },
           {
            "bin_start": 15.963644889142754,
            "bin_end": 17.779188574114144,
            "count": 1
           }
          ]
         }
        },
        {
         "name": "_deepnote_index_column",
         "dtype": "int64"
        }
       ],
       "rows_top": [
        {
         "x": 1.5435571113838114,
         "y": 5.5772183742678525,
         "y_pred": 4.058892778459528,
         "_deepnote_index_column": 0
        },
        {
         "x": -0.23049931023991221,
         "y": 0.060290037886441716,
         "y_pred": -0.3762482755997805,
         "_deepnote_index_column": 1
        },
        {
         "x": 7.0316754296456585,
         "y": 18.65186503920895,
         "y_pred": 17.779188574114144,
         "_deepnote_index_column": 2
        },
        {
         "x": 3.6079448663490306,
         "y": 10.355256361319896,
         "y_pred": 9.219862165872575,
         "_deepnote_index_column": 3
        },
        {
         "x": 4.083216421799372,
         "y": 10.582062980576442,
         "y_pred": 10.408041054498428,
         "_deepnote_index_column": 4
        }
       ],
       "rows_bottom": null
      },
      "text/plain": "          x          y     y_pred\n0  1.543557   5.577218   4.058893\n1 -0.230499   0.060290  -0.376248\n2  7.031675  18.651865  17.779189\n3  3.607945  10.355256   9.219862\n4  4.083216  10.582063  10.408041",
      "text/html": "<div>\n<style scoped>\n    .dataframe tbody tr th:only-of-type {\n        vertical-align: middle;\n    }\n\n    .dataframe tbody tr th {\n        vertical-align: top;\n    }\n\n    .dataframe thead th {\n        text-align: right;\n    }\n</style>\n<table border=\"1\" class=\"dataframe\">\n  <thead>\n    <tr style=\"text-align: right;\">\n      <th></th>\n      <th>x</th>\n      <th>y</th>\n      <th>y_pred</th>\n    </tr>\n  </thead>\n  <tbody>\n    <tr>\n      <th>0</th>\n      <td>1.543557</td>\n      <td>5.577218</td>\n      <td>4.058893</td>\n    </tr>\n    <tr>\n      <th>1</th>\n      <td>-0.230499</td>\n      <td>0.060290</td>\n      <td>-0.376248</td>\n    </tr>\n    <tr>\n      <th>2</th>\n      <td>7.031675</td>\n      <td>18.651865</td>\n      <td>17.779189</td>\n    </tr>\n    <tr>\n      <th>3</th>\n      <td>3.607945</td>\n      <td>10.355256</td>\n      <td>9.219862</td>\n    </tr>\n    <tr>\n      <th>4</th>\n      <td>4.083216</td>\n      <td>10.582063</td>\n      <td>10.408041</td>\n    </tr>\n  </tbody>\n</table>\n</div>"
     },
     "metadata": {}
    }
   ],
   "execution_count": 5
  },
  {
   "cell_type": "code",
   "source": "# Trazamos nuestra Regresión lineal\n\ny_mean = [np.mean(y) for i in range(1, len(x_list) + 1)]\n\n%matplotlib inline\nplt.plot(x, y_pred)\nplt.plot(x, y, \"ro\")\nplt.plot(x, y_mean, \"g\")\nplt.title('Valor Actual vs Valor Estimado\\n')\nplt.tight_layout();",
   "metadata": {
    "tags": [],
    "cell_id": "00006-b5fe04a8-7134-4883-8288-20300ec44add",
    "deepnote_to_be_reexecuted": false,
    "source_hash": "e36c4cc8",
    "execution_start": 1636531385234,
    "execution_millis": 348,
    "deepnote_cell_type": "code"
   },
   "outputs": [
    {
     "data": {
      "text/plain": "<Figure size 432x288 with 1 Axes>",
      "image/png": "[encoded data removed]"
     },
     "metadata": {
      "needs_background": "light",
      "image/png": {
       "width": 424,
       "height": 280
      }
     },
     "output_type": "display_data"
    }
   ],
   "execution_count": 6
  },
  {
   "cell_type": "markdown",
   "source": "¿Cómo sabemos si nuestra predicción es buena?\n\n- $SST = SSD + SSR$\n- $SST$ : **Variabilidad** de los datos con respecto de su **media**\n- $SSD$ : Diferencia entre los **datos originales** y las **predicciones** que el **modelo** no es capaz de explicar (errores que deberían seguir una **distribución normal**)\n- $SSR$ : Diferencia entre la **regresión** y el **valor medio** que el modelo busca explicar\n- $R^2$ = $\\frac{SSR}{SST}$, **coeficiente de determinación** entre $0$ y $1$\n\n",
   "metadata": {
    "tags": [],
    "cell_id": "00008-86f4af95-5621-46aa-997c-eec533898422",
    "deepnote_cell_type": "markdown"
   }
  },
  {
   "cell_type": "code",
   "source": "# Análisis de la varianza (ANOVA)\n\ny_m = np.mean(y)\ndata[\"SSR\"] = (data[\"y_pred\"] - y_m)**2\ndata[\"SSD\"] = (data[\"y_pred\"] - data[\"y\"])**2\ndata[\"SST\"] = (data[\"y\"] - y_m)**2",
   "metadata": {
    "tags": [],
    "cell_id": "00007-66b919d6-ab77-4a7f-8d02-81bcf33a8c5d",
    "deepnote_to_be_reexecuted": false,
    "source_hash": "be322d21",
    "execution_start": 1636531385628,
    "execution_millis": 1,
    "deepnote_cell_type": "code"
   },
   "outputs": [],
   "execution_count": 7
  },
  {
   "cell_type": "code",
   "source": "data.head()",
   "metadata": {
    "tags": [],
    "cell_id": "00008-24abf462-b81c-4dd4-a026-a895e0a8ae74",
    "deepnote_to_be_reexecuted": false,
    "source_hash": "41313cfa",
    "execution_start": 1636531385649,
    "execution_millis": 8,
    "deepnote_cell_type": "code"
   },
   "outputs": [
    {
     "output_type": "execute_result",
     "execution_count": 8,
     "data": {
      "application/vnd.deepnote.dataframe.v2+json": {
       "row_count": 5,
       "column_count": 6,
       "columns": [
        {
         "name": "x",
         "dtype": "float64",
         "stats": {
          "unique_count": 5,
          "nan_count": 0,
          "min": "-0.23049931023991221",
          "max": "7.0316754296456585",
          "histogram": [
           {
            "bin_start": -0.23049931023991221,
            "bin_end": 0.49571816374864486,
            "count": 1
           },
           {
            "bin_start": 0.49571816374864486,
            "bin_end": 1.221935637737202,
            "count": 0
           },
           {
            "bin_start": 1.221935637737202,
            "bin_end": 1.9481531117257591,
            "count": 1
           },
           {
            "bin_start": 1.9481531117257591,
            "bin_end": 2.674370585714316,
            "count": 0
           },
           {
            "bin_start": 2.674370585714316,
            "bin_end": 3.400588059702873,
            "count": 0
           },
           {
            "bin_start": 3.400588059702873,
            "bin_end": 4.126805533691431,
            "count": 2
           },
           {
            "bin_start": 4.126805533691431,
            "bin_end": 4.853023007679988,
            "count": 0
           },
           {
            "bin_start": 4.853023007679988,
            "bin_end": 5.579240481668545,
            "count": 0
           },
           {
            "bin_start": 5.579240481668545,
            "bin_end": 6.3054579556571015,
            "count": 0
           },
           {
            "bin_start": 6.3054579556571015,
            "bin_end": 7.0316754296456585,
            "count": 1
           }
          ]
         }
        },
        {
         "name": "y",
         "dtype": "float64",
         "stats": {
          "unique_count": 5,
          "nan_count": 0,
          "min": "0.060290037886441716",
          "max": "18.65186503920895",
          "histogram": [
           {
            "bin_start": 0.060290037886441716,
            "bin_end": 1.9194475380186924,
            "count": 1
           },
           {
            "bin_start": 1.9194475380186924,
            "bin_end": 3.778605038150943,
            "count": 0
           },
           {
            "bin_start": 3.778605038150943,
            "bin_end": 5.6377625382831935,
            "count": 1
           },
           {
            "bin_start": 5.6377625382831935,
            "bin_end": 7.496920038415444,
            "count": 0
           },
           {
            "bin_start": 7.496920038415444,
            "bin_end": 9.356077538547694,
            "count": 0
           },
           {
            "bin_start": 9.356077538547694,
            "bin_end": 11.215235038679946,
            "count": 2
           },
           {
            "bin_start": 11.215235038679946,
            "bin_end": 13.074392538812198,
            "count": 0
           },
           {
            "bin_start": 13.074392538812198,
            "bin_end": 14.933550038944446,
            "count": 0
           },
           {
            "bin_start": 14.933550038944446,
            "bin_end": 16.792707539076698,
            "count": 0
           },
           {
            "bin_start": 16.792707539076698,
            "bin_end": 18.65186503920895,
            "count": 1
           }
          ]
         }
        },
        {
         "name": "y_pred",
         "dtype": "float64",
         "stats": {
          "unique_count": 5,
          "nan_count": 0,
          "min": "-0.3762482755997805",
          "max": "17.779188574114144",
          "histogram": [
           {
            "bin_start": -0.3762482755997805,
            "bin_end": 1.4392954093716122,
            "count": 1
           },
           {
            "bin_start": 1.4392954093716122,
            "bin_end": 3.2548390943430046,
            "count": 0
           },
           {
            "bin_start": 3.2548390943430046,
            "bin_end": 5.070382779314397,
            "count": 1
           },
           {
            "bin_start": 5.070382779314397,
            "bin_end": 6.88592646428579,
            "count": 0
           },
           {
            "bin_start": 6.88592646428579,
            "bin_end": 8.701470149257183,
            "count": 0
           },
           {
            "bin_start": 8.701470149257183,
            "bin_end": 10.517013834228576,
            "count": 2
           },
           {
            "bin_start": 10.517013834228576,
            "bin_end": 12.332557519199968,
            "count": 0
           },
           {
            "bin_start": 12.332557519199968,
            "bin_end": 14.148101204171361,
            "count": 0
           },
           {
            "bin_start": 14.148101204171361,
            "bin_end": 15.963644889142754,
            "count": 0
           },
           {
            "bin_start": 15.963644889142754,
            "bin_end": 17.779188574114144,
            "count": 1
           }
          ]
         }
        },
        {
         "name": "SSR",
         "dtype": "float64",
         "stats": {
          "unique_count": 5,
          "nan_count": 0,
          "min": "0.02892945308544808",
          "max": "183.60816911966072",
          "histogram": [
           {
            "bin_start": 0.02892945308544808,
            "bin_end": 18.386853419742977,
            "count": 1
           },
           {
            "bin_start": 18.386853419742977,
            "bin_end": 36.7447773864005,
            "count": 2
           },
           {
            "bin_start": 36.7447773864005,
            "bin_end": 55.10270135305803,
            "count": 1
           },
           {
            "bin_start": 55.10270135305803,
            "bin_end": 73.46062531971556,
            "count": 0
           },
           {
            "bin_start": 73.46062531971556,
            "bin_end": 91.81854928637308,
            "count": 0
           },
           {
            "bin_start": 91.81854928637308,
            "bin_end": 110.17647325303062,
            "count": 0
           },
           {
            "bin_start": 110.17647325303062,
            "bin_end": 128.53439721968815,
            "count": 0
           },
           {
            "bin_start": 128.53439721968815,
            "bin_end": 146.89232118634567,
            "count": 0
           },
           {
            "bin_start": 146.89232118634567,
            "bin_end": 165.2502451530032,
            "count": 0
           },
           {
            "bin_start": 165.2502451530032,
            "bin_end": 183.60816911966072,
            "count": 1
           }
          ]
         }
        },
        {
         "name": "SSD",
         "dtype": "float64",
         "stats": {
          "unique_count": 5,
          "nan_count": 0,
          "min": "0.03028363075590178",
          "max": "2.305312614886703",
          "histogram": [
           {
            "bin_start": 0.03028363075590178,
            "bin_end": 0.2577865291689819,
            "count": 2
           },
           {
            "bin_start": 0.2577865291689819,
            "bin_end": 0.4852894275820621,
            "count": 0
           },
           {
            "bin_start": 0.4852894275820621,
            "bin_end": 0.7127923259951423,
            "count": 0
           },
           {
            "bin_start": 0.7127923259951423,
            "bin_end": 0.9402952244082224,
            "count": 1
           },
           {
            "bin_start": 0.9402952244082224,
            "bin_end": 1.1677981228213026,
            "count": 0
           },
           {
            "bin_start": 1.1677981228213026,
            "bin_end": 1.3953010212343828,
            "count": 1
           },
           {
            "bin_start": 1.3953010212343828,
            "bin_end": 1.6228039196474628,
            "count": 0
           },
           {
            "bin_start": 1.6228039196474628,
            "bin_end": 1.850306818060543,
            "count": 0
           },
           {
            "bin_start": 1.850306818060543,
            "bin_end": 2.077809716473623,
            "count": 0
           },
           {
            "bin_start": 2.077809716473623,
            "bin_end": 2.305312614886703,
            "count": 1
           }
          ]
         }
        },
        {
         "name": "SST",
         "dtype": "float64",
         "stats": {
          "unique_count": 5,
          "nan_count": 0,
          "min": "1.8177483772472538",
          "max": "208.01963064857225",
          "histogram": [
           {
            "bin_start": 1.8177483772472538,
            "bin_end": 22.43793660437975,
            "count": 2
           },
           {
            "bin_start": 22.43793660437975,
            "bin_end": 43.05812483151225,
            "count": 2
           },
           {
            "bin_start": 43.05812483151225,
            "bin_end": 63.67831305864475,
            "count": 0
           },
           {
            "bin_start": 63.67831305864475,
            "bin_end": 84.29850128577725,
            "count": 0
           },
           {
            "bin_start": 84.29850128577725,
            "bin_end": 104.91868951290975,
            "count": 0
           },
           {
            "bin_start": 104.91868951290975,
            "bin_end": 125.53887774004224,
            "count": 0
           },
           {
            "bin_start": 125.53887774004224,
            "bin_end": 146.15906596717474,
            "count": 0
           },
           {
            "bin_start": 146.15906596717474,
            "bin_end": 166.77925419430724,
            "count": 0
           },
           {
            "bin_start": 166.77925419430724,
            "bin_end": 187.39944242143974,
            "count": 0
           },
           {
            "bin_start": 187.39944242143974,
            "bin_end": 208.01963064857225,
            "count": 1
           }
          ]
         }
        },
        {
         "name": "_deepnote_index_column",
         "dtype": "int64"
        }
       ],
       "rows_top": [
        {
         "x": 1.5435571113838114,
         "y": 5.5772183742678525,
         "y_pred": 4.058892778459528,
         "SSR": 0.02892945308544808,
         "SSD": 2.305312614886703,
         "SST": 1.8177483772472538,
         "_deepnote_index_column": 0
        },
        {
         "x": -0.23049931023991221,
         "y": 0.060290037886441716,
         "y_pred": -0.3762482755997805,
         "SSR": 21.208121788651763,
         "SSD": 0.19056569914139523,
         "SST": 17.377970857076548,
         "_deepnote_index_column": 1
        },
        {
         "x": 7.0316754296456585,
         "y": 18.65186503920895,
         "y_pred": 17.779188574114144,
         "SSR": 183.60816911966072,
         "SSD": 0.7615642127303653,
         "SST": 208.01963064857225,
         "_deepnote_index_column": 2
        },
        {
         "x": 3.6079448663490306,
         "y": 10.355256361319896,
         "y_pred": 9.219862165872575,
         "SSR": 24.908910951160816,
         "SSD": 1.289119979055468,
         "SST": 37.5312696136033,
         "_deepnote_index_column": 3
        },
        {
         "x": 4.083216421799372,
         "y": 10.582062980576442,
         "y_pred": 10.408041054498428,
         "SSR": 38.18080313867907,
         "SSD": 0.03028363075590178,
         "SST": 40.36167119625065,
         "_deepnote_index_column": 4
        }
       ],
       "rows_bottom": null
      },
      "text/plain": "          x          y     y_pred         SSR       SSD         SST\n0  1.543557   5.577218   4.058893    0.028929  2.305313    1.817748\n1 -0.230499   0.060290  -0.376248   21.208122  0.190566   17.377971\n2  7.031675  18.651865  17.779189  183.608169  0.761564  208.019631\n3  3.607945  10.355256   9.219862   24.908911  1.289120   37.531270\n4  4.083216  10.582063  10.408041   38.180803  0.030284   40.361671",
      "text/html": "<div>\n<style scoped>\n    .dataframe tbody tr th:only-of-type {\n        vertical-align: middle;\n    }\n\n    .dataframe tbody tr th {\n        vertical-align: top;\n    }\n\n    .dataframe thead th {\n        text-align: right;\n    }\n</style>\n<table border=\"1\" class=\"dataframe\">\n  <thead>\n    <tr style=\"text-align: right;\">\n      <th></th>\n      <th>x</th>\n      <th>y</th>\n      <th>y_pred</th>\n      <th>SSR</th>\n      <th>SSD</th>\n      <th>SST</th>\n    </tr>\n  </thead>\n  <tbody>\n    <tr>\n      <th>0</th>\n      <td>1.543557</td>\n      <td>5.577218</td>\n      <td>4.058893</td>\n      <td>0.028929</td>\n      <td>2.305313</td>\n      <td>1.817748</td>\n    </tr>\n    <tr>\n      <th>1</th>\n      <td>-0.230499</td>\n      <td>0.060290</td>\n      <td>-0.376248</td>\n      <td>21.208122</td>\n      <td>0.190566</td>\n      <td>17.377971</td>\n    </tr>\n    <tr>\n      <th>2</th>\n      <td>7.031675</td>\n      <td>18.651865</td>\n      <td>17.779189</td>\n      <td>183.608169</td>\n      <td>0.761564</td>\n      <td>208.019631</td>\n    </tr>\n    <tr>\n      <th>3</th>\n      <td>3.607945</td>\n      <td>10.355256</td>\n      <td>9.219862</td>\n      <td>24.908911</td>\n      <td>1.289120</td>\n      <td>37.531270</td>\n    </tr>\n    <tr>\n      <th>4</th>\n      <td>4.083216</td>\n      <td>10.582063</td>\n      <td>10.408041</td>\n      <td>38.180803</td>\n      <td>0.030284</td>\n      <td>40.361671</td>\n    </tr>\n  </tbody>\n</table>\n</div>"
     },
     "metadata": {}
    }
   ],
   "execution_count": 8
  },
  {
   "cell_type": "code",
   "source": "# Sumatorias ANOVA\n\nSSR = sum(data['SSR'])\nSSD = sum(data['SSD'])\nSST = sum(data['SST'])\n\n# Display\n\ndisplay(SSR)\ndisplay(SSD)\ndisplay(SST)",
   "metadata": {
    "tags": [],
    "cell_id": "00010-ef8bd51e-d7af-4f60-93da-4c6bf597a94a",
    "deepnote_to_be_reexecuted": false,
    "source_hash": "6ef39b3e",
    "execution_start": 1636531385661,
    "execution_millis": 55,
    "deepnote_cell_type": "code"
   },
   "outputs": [
    {
     "data": {
      "text/plain": "3303.2720997496467"
     },
     "metadata": {},
     "output_type": "display_data"
    },
    {
     "data": {
      "text/plain": "63.783536154200256"
     },
     "metadata": {},
     "output_type": "display_data"
    },
    {
     "data": {
      "text/plain": "3494.020550880892"
     },
     "metadata": {},
     "output_type": "display_data"
    }
   ],
   "execution_count": 9
  },
  {
   "cell_type": "code",
   "source": "# Coeficiente de correlación\n\nR2 = SSR/SST\nR2 = round(R2,2)\ndisplay(R2)",
   "metadata": {
    "tags": [],
    "cell_id": "00012-2ea4f21f-942a-4cab-8ea6-402d7a130ad5",
    "deepnote_to_be_reexecuted": false,
    "source_hash": "33f65d3d",
    "execution_start": 1636531385713,
    "execution_millis": 3,
    "deepnote_cell_type": "code"
   },
   "outputs": [
    {
     "data": {
      "text/plain": "0.95"
     },
     "metadata": {},
     "output_type": "display_data"
    }
   ],
   "execution_count": 10
  },
  {
   "cell_type": "code",
   "source": "# SSD\n\nsns.set_theme(style=\"whitegrid\")\nsns.histplot(data[\"y_pred\"] - data[\"y\"], kde=True, edgecolor='black', linewidth=0.6, bins=10, color='purple')\nplt.tight_layout();",
   "metadata": {
    "tags": [],
    "cell_id": "00013-d3c60f0d-040e-487a-8954-64e8850b92b9",
    "deepnote_to_be_reexecuted": false,
    "source_hash": "440f038d",
    "execution_start": 1636531385778,
    "execution_millis": 419,
    "deepnote_cell_type": "code"
   },
   "outputs": [
    {
     "data": {
      "text/plain": "<Figure size 432x288 with 1 Axes>",
      "image/png": "[encoded data removed]"
     },
     "metadata": {
      "image/png": {
       "width": 420,
       "height": 276
      }
     },
     "output_type": "display_data"
    }
   ],
   "execution_count": 11
  },
  {
   "cell_type": "code",
   "source": "# Promedios\n\nx_mean = np.mean(data[\"x\"])\ny_mean = np.mean(data[\"y\"])\nx_mean, y_mean",
   "metadata": {
    "tags": [],
    "cell_id": "00013-66313a5b-bcf1-4c6b-82ef-93a918f17137",
    "deepnote_to_be_reexecuted": false,
    "source_hash": "4922ea7d",
    "execution_start": 1636531386236,
    "execution_millis": 23,
    "deepnote_cell_type": "code"
   },
   "outputs": [
    {
     "output_type": "execute_result",
     "execution_count": 12,
     "data": {
      "text/plain": "(1.6402723949879232, 4.22897938312153)"
     },
     "metadata": {}
    }
   ],
   "execution_count": 12
  },
  {
   "cell_type": "code",
   "source": "# Beta estimadores\n\ndata[\"beta_n\"] = (data[\"x\"] - x_mean)*(data[\"y\"]-y_mean)\ndata[\"beta_d\"] = (data[\"x\"] - x_mean)**2",
   "metadata": {
    "tags": [],
    "cell_id": "00014-dda86d9d-7ea1-4dbe-bfc7-adf17fe2600d",
    "deepnote_to_be_reexecuted": false,
    "source_hash": "97aeab39",
    "execution_start": 1636531386237,
    "execution_millis": 1,
    "deepnote_cell_type": "code"
   },
   "outputs": [],
   "execution_count": 13
  },
  {
   "cell_type": "code",
   "source": "# Coeficientes\n\nbeta = sum(data[\"beta_n\"])/sum(data[\"beta_d\"])\nalpha = y_mean - beta * x_mean",
   "metadata": {
    "tags": [],
    "cell_id": "00015-9ab8913e-b329-46f7-9aee-a43cf0f94147",
    "deepnote_to_be_reexecuted": false,
    "source_hash": "5d3e7d27",
    "execution_start": 1636531386244,
    "execution_millis": 0,
    "deepnote_cell_type": "code"
   },
   "outputs": [],
   "execution_count": 14
  },
  {
   "cell_type": "code",
   "source": "alpha, beta",
   "metadata": {
    "tags": [],
    "cell_id": "00016-e8de8dda-bf4f-41f0-9090-bf26cac64232",
    "deepnote_to_be_reexecuted": false,
    "source_hash": "350579af",
    "execution_start": 1636531386245,
    "execution_millis": 22,
    "deepnote_cell_type": "code"
   },
   "outputs": [
    {
     "output_type": "execute_result",
     "execution_count": 15,
     "data": {
      "text/plain": "(0.04884070702727872, 2.5484417642260135)"
     },
     "metadata": {}
    }
   ],
   "execution_count": 15
  },
  {
   "cell_type": "code",
   "source": "data[\"y_model\"] = alpha + beta * data[\"x\"]\ndata.head()",
   "metadata": {
    "tags": [],
    "cell_id": "00017-53dc0ef2-4db5-4f16-982f-0cf7ffff0fc0",
    "deepnote_to_be_reexecuted": false,
    "source_hash": "b3d51478",
    "execution_start": 1636531386263,
    "execution_millis": 49,
    "deepnote_cell_type": "code"
   },
   "outputs": [
    {
     "output_type": "execute_result",
     "execution_count": 16,
     "data": {
      "application/vnd.deepnote.dataframe.v2+json": {
       "row_count": 5,
       "column_count": 9,
       "columns": [
        {
         "name": "x",
         "dtype": "float64",
         "stats": {
          "unique_count": 5,
          "nan_count": 0,
          "min": "-0.23049931023991221",
          "max": "7.0316754296456585",
          "histogram": [
           {
            "bin_start": -0.23049931023991221,
            "bin_end": 0.49571816374864486,
            "count": 1
           },
           {
            "bin_start": 0.49571816374864486,
            "bin_end": 1.221935637737202,
            "count": 0
           },
           {
            "bin_start": 1.221935637737202,
            "bin_end": 1.9481531117257591,
            "count": 1
           },
           {
            "bin_start": 1.9481531117257591,
            "bin_end": 2.674370585714316,
            "count": 0
           },
           {
            "bin_start": 2.674370585714316,
            "bin_end": 3.400588059702873,
            "count": 0
           },
           {
            "bin_start": 3.400588059702873,
            "bin_end": 4.126805533691431,
            "count": 2
           },
           {
            "bin_start": 4.126805533691431,
            "bin_end": 4.853023007679988,
            "count": 0
           },
           {
            "bin_start": 4.853023007679988,
            "bin_end": 5.579240481668545,
            "count": 0
           },
           {
            "bin_start": 5.579240481668545,
            "bin_end": 6.3054579556571015,
            "count": 0
           },
           {
            "bin_start": 6.3054579556571015,
            "bin_end": 7.0316754296456585,
            "count": 1
           }
          ]
         }
        },
        {
         "name": "y",
         "dtype": "float64",
         "stats": {
          "unique_count": 5,
          "nan_count": 0,
          "min": "0.060290037886441716",
          "max": "18.65186503920895",
          "histogram": [
           {
            "bin_start": 0.060290037886441716,
            "bin_end": 1.9194475380186924,
            "count": 1
           },
           {
            "bin_start": 1.9194475380186924,
            "bin_end": 3.778605038150943,
            "count": 0
           },
           {
            "bin_start": 3.778605038150943,
            "bin_end": 5.6377625382831935,
            "count": 1
           },
           {
            "bin_start": 5.6377625382831935,
            "bin_end": 7.496920038415444,
            "count": 0
           },
           {
            "bin_start": 7.496920038415444,
            "bin_end": 9.356077538547694,
            "count": 0
           },
           {
            "bin_start": 9.356077538547694,
            "bin_end": 11.215235038679946,
            "count": 2
           },
           {
            "bin_start": 11.215235038679946,
            "bin_end": 13.074392538812198,
            "count": 0
           },
           {
            "bin_start": 13.074392538812198,
            "bin_end": 14.933550038944446,
            "count": 0
           },
           {
            "bin_start": 14.933550038944446,
            "bin_end": 16.792707539076698,
            "count": 0
           },
           {
            "bin_start": 16.792707539076698,
            "bin_end": 18.65186503920895,
            "count": 1
           }
          ]
         }
        },
        {
         "name": "y_pred",
         "dtype": "float64",
         "stats": {
          "unique_count": 5,
          "nan_count": 0,
          "min": "-0.3762482755997805",
          "max": "17.779188574114144",
          "histogram": [
           {
            "bin_start": -0.3762482755997805,
            "bin_end": 1.4392954093716122,
            "count": 1
           },
           {
            "bin_start": 1.4392954093716122,
            "bin_end": 3.2548390943430046,
            "count": 0
           },
           {
            "bin_start": 3.2548390943430046,
            "bin_end": 5.070382779314397,
            "count": 1
           },
           {
            "bin_start": 5.070382779314397,
            "bin_end": 6.88592646428579,
            "count": 0
           },
           {
            "bin_start": 6.88592646428579,
            "bin_end": 8.701470149257183,
            "count": 0
           },
           {
            "bin_start": 8.701470149257183,
            "bin_end": 10.517013834228576,
            "count": 2
           },
           {
            "bin_start": 10.517013834228576,
            "bin_end": 12.332557519199968,
            "count": 0
           },
           {
            "bin_start": 12.332557519199968,
            "bin_end": 14.148101204171361,
            "count": 0
           },
           {
            "bin_start": 14.148101204171361,
            "bin_end": 15.963644889142754,
            "count": 0
           },
           {
            "bin_start": 15.963644889142754,
            "bin_end": 17.779188574114144,
            "count": 1
           }
          ]
         }
        },
        {
         "name": "SSR",
         "dtype": "float64",
         "stats": {
          "unique_count": 5,
          "nan_count": 0,
          "min": "0.02892945308544808",
          "max": "183.60816911966072",
          "histogram": [
           {
            "bin_start": 0.02892945308544808,
            "bin_end": 18.386853419742977,
            "count": 1
           },
           {
            "bin_start": 18.386853419742977,
            "bin_end": 36.7447773864005,
            "count": 2
           },
           {
            "bin_start": 36.7447773864005,
            "bin_end": 55.10270135305803,
            "count": 1
           },
           {
            "bin_start": 55.10270135305803,
            "bin_end": 73.46062531971556,
            "count": 0
           },
           {
            "bin_start": 73.46062531971556,
            "bin_end": 91.81854928637308,
            "count": 0
           },
           {
            "bin_start": 91.81854928637308,
            "bin_end": 110.17647325303062,
            "count": 0
           },
           {
            "bin_start": 110.17647325303062,
            "bin_end": 128.53439721968815,
            "count": 0
           },
           {
            "bin_start": 128.53439721968815,
            "bin_end": 146.89232118634567,
            "count": 0
           },
           {
            "bin_start": 146.89232118634567,
            "bin_end": 165.2502451530032,
            "count": 0
           },
           {
            "bin_start": 165.2502451530032,
            "bin_end": 183.60816911966072,
            "count": 1
           }
          ]
         }
        },
        {
         "name": "SSD",
         "dtype": "float64",
         "stats": {
          "unique_count": 5,
          "nan_count": 0,
          "min": "0.03028363075590178",
          "max": "2.305312614886703",
          "histogram": [
           {
            "bin_start": 0.03028363075590178,
            "bin_end": 0.2577865291689819,
            "count": 2
           },
           {
            "bin_start": 0.2577865291689819,
            "bin_end": 0.4852894275820621,
            "count": 0
           },
           {
            "bin_start": 0.4852894275820621,
            "bin_end": 0.7127923259951423,
            "count": 0
           },
           {
            "bin_start": 0.7127923259951423,
            "bin_end": 0.9402952244082224,
            "count": 1
           },
           {
            "bin_start": 0.9402952244082224,
            "bin_end": 1.1677981228213026,
            "count": 0
           },
           {
            "bin_start": 1.1677981228213026,
            "bin_end": 1.3953010212343828,
            "count": 1
           },
           {
            "bin_start": 1.3953010212343828,
            "bin_end": 1.6228039196474628,
            "count": 0
           },
           {
            "bin_start": 1.6228039196474628,
            "bin_end": 1.850306818060543,
            "count": 0
           },
           {
            "bin_start": 1.850306818060543,
            "bin_end": 2.077809716473623,
            "count": 0
           },
           {
            "bin_start": 2.077809716473623,
            "bin_end": 2.305312614886703,
            "count": 1
           }
          ]
         }
        },
        {
         "name": "SST",
         "dtype": "float64",
         "stats": {
          "unique_count": 5,
          "nan_count": 0,
          "min": "1.8177483772472538",
          "max": "208.01963064857225",
          "histogram": [
           {
            "bin_start": 1.8177483772472538,
            "bin_end": 22.43793660437975,
            "count": 2
           },
           {
            "bin_start": 22.43793660437975,
            "bin_end": 43.05812483151225,
            "count": 2
           },
           {
            "bin_start": 43.05812483151225,
            "bin_end": 63.67831305864475,
            "count": 0
           },
           {
            "bin_start": 63.67831305864475,
            "bin_end": 84.29850128577725,
            "count": 0
           },
           {
            "bin_start": 84.29850128577725,
            "bin_end": 104.91868951290975,
            "count": 0
           },
           {
            "bin_start": 104.91868951290975,
            "bin_end": 125.53887774004224,
            "count": 0
           },
           {
            "bin_start": 125.53887774004224,
            "bin_end": 146.15906596717474,
            "count": 0
           },
           {
            "bin_start": 146.15906596717474,
            "bin_end": 166.77925419430724,
            "count": 0
           },
           {
            "bin_start": 166.77925419430724,
            "bin_end": 187.39944242143974,
            "count": 0
           },
           {
            "bin_start": 187.39944242143974,
            "bin_end": 208.01963064857225,
            "count": 1
           }
          ]
         }
        },
        {
         "name": "beta_n",
         "dtype": "float64",
         "stats": {
          "unique_count": 5,
          "nan_count": 0,
          "min": "-0.13039531639483826",
          "max": "77.75958949475122",
          "histogram": [
           {
            "bin_start": -0.13039531639483826,
            "bin_end": 7.658603164719768,
            "count": 1
           },
           {
            "bin_start": 7.658603164719768,
            "bin_end": 15.447601645834375,
            "count": 2
           },
           {
            "bin_start": 15.447601645834375,
            "bin_end": 23.23660012694898,
            "count": 1
           },
           {
            "bin_start": 23.23660012694898,
            "bin_end": 31.025598608063586,
            "count": 0
           },
           {
            "bin_start": 31.025598608063586,
            "bin_end": 38.81459708917819,
            "count": 0
           },
           {
            "bin_start": 38.81459708917819,
            "bin_end": 46.603595570292796,
            "count": 0
           },
           {
            "bin_start": 46.603595570292796,
            "bin_end": 54.39259405140741,
            "count": 0
           },
           {
            "bin_start": 54.39259405140741,
            "bin_end": 62.18159253252201,
            "count": 0
           },
           {
            "bin_start": 62.18159253252201,
            "bin_end": 69.97059101363662,
            "count": 0
           },
           {
            "bin_start": 69.97059101363662,
            "bin_end": 77.75958949475122,
            "count": 1
           }
          ]
         }
        },
        {
         "name": "beta_d",
         "dtype": "float64",
         "stats": {
          "unique_count": 5,
          "nan_count": 0,
          "min": "0.009353846082623787",
          "max": "29.067226682116633",
          "histogram": [
           {
            "bin_start": 0.009353846082623787,
            "bin_end": 2.915141129686025,
            "count": 1
           },
           {
            "bin_start": 2.915141129686025,
            "bin_end": 5.820928413289425,
            "count": 2
           },
           {
            "bin_start": 5.820928413289425,
            "bin_end": 8.726715696892827,
            "count": 1
           },
           {
            "bin_start": 8.726715696892827,
            "bin_end": 11.632502980496227,
            "count": 0
           },
           {
            "bin_start": 11.632502980496227,
            "bin_end": 14.538290264099627,
            "count": 0
           },
           {
            "bin_start": 14.538290264099627,
            "bin_end": 17.44407754770303,
            "count": 0
           },
           {
            "bin_start": 17.44407754770303,
            "bin_end": 20.34986483130643,
            "count": 0
           },
           {
            "bin_start": 20.34986483130643,
            "bin_end": 23.255652114909832,
            "count": 0
           },
           {
            "bin_start": 23.255652114909832,
            "bin_end": 26.161439398513235,
            "count": 0
           },
           {
            "bin_start": 26.161439398513235,
            "bin_end": 29.067226682116633,
            "count": 1
           }
          ]
         }
        },
        {
         "name": "y_model",
         "dtype": "float64",
         "stats": {
          "unique_count": 5,
          "nan_count": 0,
          "min": "-0.5385733618134024",
          "max": "17.96865604441817",
          "histogram": [
           {
            "bin_start": -0.5385733618134024,
            "bin_end": 1.312149578809755,
            "count": 1
           },
           {
            "bin_start": 1.312149578809755,
            "bin_end": 3.1628725194329124,
            "count": 0
           },
           {
            "bin_start": 3.1628725194329124,
            "bin_end": 5.013595460056069,
            "count": 1
           },
           {
            "bin_start": 5.013595460056069,
            "bin_end": 6.864318400679227,
            "count": 0
           },
           {
            "bin_start": 6.864318400679227,
            "bin_end": 8.715041341302385,
            "count": 0
           },
           {
            "bin_start": 8.715041341302385,
            "bin_end": 10.565764281925542,
            "count": 2
           },
           {
            "bin_start": 10.565764281925542,
            "bin_end": 12.4164872225487,
            "count": 0
           },
           {
            "bin_start": 12.4164872225487,
            "bin_end": 14.267210163171857,
            "count": 0
           },
           {
            "bin_start": 14.267210163171857,
            "bin_end": 16.117933103795014,
            "count": 0
           },
           {
            "bin_start": 16.117933103795014,
            "bin_end": 17.96865604441817,
            "count": 1
           }
          ]
         }
        },
        {
         "name": "_deepnote_index_column",
         "dtype": "int64"
        }
       ],
       "rows_top": [
        {
         "x": 1.5435571113838114,
         "y": 5.5772183742678525,
         "y_pred": 4.058892778459528,
         "SSR": 0.02892945308544808,
         "SSD": 2.305312614886703,
         "SST": 1.8177483772472538,
         "beta_n": -0.13039531639483826,
         "beta_d": 0.009353846082623787,
         "y_model": 3.9825061151458483,
         "_deepnote_index_column": 0
        },
        {
         "x": -0.23049931023991221,
         "y": 0.060290037886441716,
         "y_pred": -0.3762482755997805,
         "SSR": 21.208121788651763,
         "SSD": 0.19056569914139523,
         "SST": 17.377970857076548,
         "beta_n": 7.798666074950555,
         "beta_d": 3.499786773081063,
         "y_model": -0.5385733618134024,
         "_deepnote_index_column": 1
        },
        {
         "x": 7.0316754296456585,
         "y": 18.65186503920895,
         "y_pred": 17.779188574114144,
         "SSR": 183.60816911966072,
         "SSD": 0.7615642127303653,
         "SST": 208.01963064857225,
         "beta_n": 77.75958949475122,
         "beta_d": 29.067226682116633,
         "y_model": 17.96865604441817,
         "_deepnote_index_column": 2
        },
        {
         "x": 3.6079448663490306,
         "y": 10.355256361319896,
         "y_pred": 9.219862165872575,
         "SSR": 24.908910951160816,
         "SSD": 1.289119979055468,
         "SST": 37.5312696136033,
         "beta_n": 12.054506561934234,
         "beta_d": 3.871734954552328,
         "y_model": 9.24347808745599,
         "_deepnote_index_column": 3
        },
        {
         "x": 4.083216421799372,
         "y": 10.582062980576442,
         "y_pred": 10.408041054498428,
         "SSR": 38.18080313867907,
         "SSD": 0.03028363075590178,
         "SST": 40.36167119625065,
         "beta_n": 15.520227626236265,
         "beta_d": 5.967975518133735,
         "y_model": 10.454679968714299,
         "_deepnote_index_column": 4
        }
       ],
       "rows_bottom": null
      },
      "text/plain": "          x          y     y_pred         SSR       SSD         SST  \\\n0  1.543557   5.577218   4.058893    0.028929  2.305313    1.817748   \n1 -0.230499   0.060290  -0.376248   21.208122  0.190566   17.377971   \n2  7.031675  18.651865  17.779189  183.608169  0.761564  208.019631   \n3  3.607945  10.355256   9.219862   24.908911  1.289120   37.531270   \n4  4.083216  10.582063  10.408041   38.180803  0.030284   40.361671   \n\n      beta_n     beta_d    y_model  \n0  -0.130395   0.009354   3.982506  \n1   7.798666   3.499787  -0.538573  \n2  77.759589  29.067227  17.968656  \n3  12.054507   3.871735   9.243478  \n4  15.520228   5.967976  10.454680  ",
      "text/html": "<div>\n<style scoped>\n    .dataframe tbody tr th:only-of-type {\n        vertical-align: middle;\n    }\n\n    .dataframe tbody tr th {\n        vertical-align: top;\n    }\n\n    .dataframe thead th {\n        text-align: right;\n    }\n</style>\n<table border=\"1\" class=\"dataframe\">\n  <thead>\n    <tr style=\"text-align: right;\">\n      <th></th>\n      <th>x</th>\n      <th>y</th>\n      <th>y_pred</th>\n      <th>SSR</th>\n      <th>SSD</th>\n      <th>SST</th>\n      <th>beta_n</th>\n      <th>beta_d</th>\n      <th>y_model</th>\n    </tr>\n  </thead>\n  <tbody>\n    <tr>\n      <th>0</th>\n      <td>1.543557</td>\n      <td>5.577218</td>\n      <td>4.058893</td>\n      <td>0.028929</td>\n      <td>2.305313</td>\n      <td>1.817748</td>\n      <td>-0.130395</td>\n      <td>0.009354</td>\n      <td>3.982506</td>\n    </tr>\n    <tr>\n      <th>1</th>\n      <td>-0.230499</td>\n      <td>0.060290</td>\n      <td>-0.376248</td>\n      <td>21.208122</td>\n      <td>0.190566</td>\n      <td>17.377971</td>\n      <td>7.798666</td>\n      <td>3.499787</td>\n      <td>-0.538573</td>\n    </tr>\n    <tr>\n      <th>2</th>\n      <td>7.031675</td>\n      <td>18.651865</td>\n      <td>17.779189</td>\n      <td>183.608169</td>\n      <td>0.761564</td>\n      <td>208.019631</td>\n      <td>77.759589</td>\n      <td>29.067227</td>\n      <td>17.968656</td>\n    </tr>\n    <tr>\n      <th>3</th>\n      <td>3.607945</td>\n      <td>10.355256</td>\n      <td>9.219862</td>\n      <td>24.908911</td>\n      <td>1.289120</td>\n      <td>37.531270</td>\n      <td>12.054507</td>\n      <td>3.871735</td>\n      <td>9.243478</td>\n    </tr>\n    <tr>\n      <th>4</th>\n      <td>4.083216</td>\n      <td>10.582063</td>\n      <td>10.408041</td>\n      <td>38.180803</td>\n      <td>0.030284</td>\n      <td>40.361671</td>\n      <td>15.520228</td>\n      <td>5.967976</td>\n      <td>10.454680</td>\n    </tr>\n  </tbody>\n</table>\n</div>"
     },
     "metadata": {}
    }
   ],
   "execution_count": 16
  },
  {
   "cell_type": "code",
   "source": "# ANOVA\n\nSSR = sum((data[\"y_model\"] - y_mean)**2)\nSSD = sum((data[\"y_model\"] - data[\"y\"])**2)\nSST = sum((data[\"y\"] - y_mean)**2)\n\ndisplay(SSR, SSD, SST)",
   "metadata": {
    "tags": [],
    "cell_id": "00018-a31ab919-1f81-4736-9d31-0db2ef753c2d",
    "deepnote_to_be_reexecuted": false,
    "source_hash": "3da7024e",
    "execution_start": 1636531386309,
    "execution_millis": 23,
    "deepnote_cell_type": "code"
   },
   "outputs": [
    {
     "data": {
      "text/plain": "3431.9911694256048"
     },
     "metadata": {},
     "output_type": "display_data"
    },
    {
     "data": {
      "text/plain": "62.02938145528572"
     },
     "metadata": {},
     "output_type": "display_data"
    },
    {
     "data": {
      "text/plain": "3494.020550880892"
     },
     "metadata": {},
     "output_type": "display_data"
    }
   ],
   "execution_count": 17
  },
  {
   "cell_type": "code",
   "source": "# R2 Ajustado del modelo\n\nR2 = SSR/SST\nR2 = round(R2,2)\ndisplay(R2)",
   "metadata": {
    "tags": [],
    "cell_id": "00019-7741b9fb-a316-440a-9a3c-9842d24bedde",
    "deepnote_to_be_reexecuted": false,
    "source_hash": "708a0611",
    "execution_start": 1636531386326,
    "execution_millis": 4366373,
    "deepnote_cell_type": "code"
   },
   "outputs": [
    {
     "data": {
      "text/plain": "0.98"
     },
     "metadata": {},
     "output_type": "display_data"
    }
   ],
   "execution_count": 18
  },
  {
   "cell_type": "code",
   "source": "# Predicción\n\ny_mean = [np.mean(y) for i in range(1, len(x_list) + 1)]\n\n%matplotlib inline\nplt.plot(data[\"x\"],data[\"y_pred\"])\nplt.plot(data[\"x\"], data[\"y\"], \"ro\")\nplt.plot(data[\"x\"],y_mean, \"g\")\nplt.plot(data[\"x\"], data[\"y_model\"])\nplt.title(\"Valor Actual vs Estimado\\n\")\nplt.tight_layout();",
   "metadata": {
    "tags": [],
    "cell_id": "00020-7112e235-b2b0-4f64-bbf9-51fa54548978",
    "deepnote_to_be_reexecuted": false,
    "source_hash": "6514431",
    "execution_start": 1636531386338,
    "execution_millis": 413,
    "deepnote_cell_type": "code"
   },
   "outputs": [
    {
     "data": {
      "text/plain": "<Figure size 432x288 with 1 Axes>",
      "image/png": "[encoded data removed]"
     },
     "metadata": {
      "needs_background": "light",
      "image/png": {
       "width": 424,
       "height": 280
      }
     },
     "output_type": "display_data"
    }
   ],
   "execution_count": 19
  },
  {
   "cell_type": "markdown",
   "source": "# Error&nbsp;estándar&nbsp;de&nbsp;los&nbsp;residuos&nbsp;(RSE)",
   "metadata": {
    "tags": [],
    "is_collapsed": false,
    "cell_id": "00021-a80dd3da-63d5-49b3-b3d6-b8a674568dad",
    "deepnote_cell_type": "text-cell-h1"
   }
  },
  {
   "cell_type": "code",
   "source": "# RSE\n\nRSE = np.sqrt(SSD/(len(data)-2))\nRSE = round(RSE, 2)\ndisplay(RSE)",
   "metadata": {
    "tags": [],
    "cell_id": "00021-3d101178-ca76-4e45-bb72-ff1c8f7de85d",
    "deepnote_to_be_reexecuted": false,
    "source_hash": "b473530",
    "execution_start": 1636531422399,
    "execution_millis": 4,
    "deepnote_cell_type": "code"
   },
   "outputs": [
    {
     "data": {
      "text/plain": "0.8"
     },
     "metadata": {},
     "output_type": "display_data"
    }
   ],
   "execution_count": 23
  },
  {
   "cell_type": "code",
   "source": "np.mean(data[\"y\"]), RSE / np.mean(data[\"y\"])",
   "metadata": {
    "tags": [],
    "cell_id": "00023-8731081e-e51d-4336-90db-90a4cac5bc39",
    "deepnote_to_be_reexecuted": false,
    "source_hash": "f4211122",
    "execution_start": 1636531386801,
    "execution_millis": 3,
    "deepnote_cell_type": "code"
   },
   "outputs": [
    {
     "output_type": "execute_result",
     "execution_count": 21,
     "data": {
      "text/plain": "(4.22897938312153, 0.18917093878322416)"
     },
     "metadata": {}
    }
   ],
   "execution_count": 21
  },
  {
   "cell_type": "markdown",
   "source": "<a style='text-decoration:none;line-height:16px;display:flex;color:#5B5B62;padding:10px;justify-content:end;' href='https://deepnote.com?utm_source=created-in-deepnote-cell&projectId=4ec84517-f553-446b-9032-1da3132bd62a' target=\"_blank\">\n<img alt='Created in deepnote.com' style='display:inline;max-height:16px;margin:0px;margin-right:7.5px;' src='data:image/svg+xml;base64,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' > </img>\nCreated in <span style='font-weight:600;margin-left:4px;'>Deepnote</span></a>",
   "metadata": {
    "tags": [],
    "created_in_deepnote_cell": true,
    "deepnote_cell_type": "markdown"
   }
  }
 ],
 "nbformat": 4,
 "nbformat_minor": 2,
 "metadata": {
  "orig_nbformat": 2,
  "deepnote": {
   "is_reactive": false
  },
  "deepnote_notebook_id": "ce479515-6215-46d9-87be-9ef292444f3e",
  "deepnote_execution_queue": []
 }
}