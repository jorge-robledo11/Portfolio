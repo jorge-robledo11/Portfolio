{
 "cells": [
  {
   "cell_type": "markdown",
   "source": "# Mean Shift",
   "metadata": {
    "tags": [],
    "is_collapsed": false,
    "cell_id": "00000-7049fdbc-5b37-46cf-8656-ffcc6b6126b0",
    "deepnote_cell_type": "text-cell-h1"
   }
  },
  {
   "cell_type": "code",
   "metadata": {
    "tags": [],
    "cell_id": "00000-c5f5bf0d-060a-402f-bd8b-c9bc05c7636d",
    "deepnote_to_be_reexecuted": false,
    "source_hash": "39729662",
    "execution_start": 1637206784762,
    "execution_millis": 1767,
    "deepnote_cell_type": "code"
   },
   "source": "# Core\nimport pandas as pd\nimport numpy as np\nimport warnings\nfrom IPython.display import *\nimport matplotlib.pyplot as plt\nimport seaborn as sns",
   "outputs": [],
   "execution_count": 1
  },
  {
   "cell_type": "code",
   "metadata": {
    "tags": [],
    "cell_id": "00001-dfd472fa-9eda-44ea-bc42-f8ce97760b0d",
    "deepnote_to_be_reexecuted": false,
    "source_hash": "96b7119d",
    "execution_start": 1637206786556,
    "execution_millis": 7,
    "deepnote_cell_type": "code"
   },
   "source": "# Evitamos la notación científica y rendondeamos los valores a 2 dígitos después de la coma\npd.options.display.float_format = '{:,.2f}'.format\n\n# Ignore Warnings\nwarnings.filterwarnings('ignore')",
   "outputs": [],
   "execution_count": 2
  },
  {
   "cell_type": "code",
   "metadata": {
    "tags": [],
    "cell_id": "00002-639e4532-d236-43a9-8c76-91f6a2ce2f09",
    "deepnote_to_be_reexecuted": false,
    "source_hash": "bbcb90c0",
    "execution_start": 1637206786576,
    "execution_millis": 256,
    "deepnote_cell_type": "code"
   },
   "source": "# Cargamos nuestro dataset\ndata = pd.read_csv('https://raw.githubusercontent.com/jorge-robledo11/Datasets/main/Datasets/candies.csv')\ndata.head()",
   "outputs": [
    {
     "output_type": "execute_result",
     "execution_count": 3,
     "data": {
      "application/vnd.deepnote.dataframe.v2+json": {
       "row_count": 5,
       "column_count": 13,
       "columns": [
        {
         "name": "competitorname",
         "dtype": "object",
         "stats": {
          "unique_count": 5,
          "nan_count": 0,
          "categories": [
           {
            "name": "100 Grand",
            "count": 1
           },
           {
            "name": "3 Musketeers",
            "count": 1
           },
           {
            "name": "3 others",
            "count": 3
           }
          ]
         }
        },
        {
         "name": "chocolate",
         "dtype": "int64",
         "stats": {
          "unique_count": 2,
          "nan_count": 0,
          "min": "0",
          "max": "1",
          "histogram": [
           {
            "bin_start": 0,
            "bin_end": 0.1,
            "count": 3
           },
           {
            "bin_start": 0.1,
            "bin_end": 0.2,
            "count": 0
           },
           {
            "bin_start": 0.2,
            "bin_end": 0.30000000000000004,
            "count": 0
           },
           {
            "bin_start": 0.30000000000000004,
            "bin_end": 0.4,
            "count": 0
           },
           {
            "bin_start": 0.4,
            "bin_end": 0.5,
            "count": 0
           },
           {
            "bin_start": 0.5,
            "bin_end": 0.6000000000000001,
            "count": 0
           },
           {
            "bin_start": 0.6000000000000001,
            "bin_end": 0.7000000000000001,
            "count": 0
           },
           {
            "bin_start": 0.7000000000000001,
            "bin_end": 0.8,
            "count": 0
           },
           {
            "bin_start": 0.8,
            "bin_end": 0.9,
            "count": 0
           },
           {
            "bin_start": 0.9,
            "bin_end": 1,
            "count": 2
           }
          ]
         }
        },
        {
         "name": "fruity",
         "dtype": "int64",
         "stats": {
          "unique_count": 2,
          "nan_count": 0,
          "min": "0",
          "max": "1",
          "histogram": [
           {
            "bin_start": 0,
            "bin_end": 0.1,
            "count": 4
           },
           {
            "bin_start": 0.1,
            "bin_end": 0.2,
            "count": 0
           },
           {
            "bin_start": 0.2,
            "bin_end": 0.30000000000000004,
            "count": 0
           },
           {
            "bin_start": 0.30000000000000004,
            "bin_end": 0.4,
            "count": 0
           },
           {
            "bin_start": 0.4,
            "bin_end": 0.5,
            "count": 0
           },
           {
            "bin_start": 0.5,
            "bin_end": 0.6000000000000001,
            "count": 0
           },
           {
            "bin_start": 0.6000000000000001,
            "bin_end": 0.7000000000000001,
            "count": 0
           },
           {
            "bin_start": 0.7000000000000001,
            "bin_end": 0.8,
            "count": 0
           },
           {
            "bin_start": 0.8,
            "bin_end": 0.9,
            "count": 0
           },
           {
            "bin_start": 0.9,
            "bin_end": 1,
            "count": 1
           }
          ]
         }
        },
        {
         "name": "caramel",
         "dtype": "int64",
         "stats": {
          "unique_count": 2,
          "nan_count": 0,
          "min": "0",
          "max": "1",
          "histogram": [
           {
            "bin_start": 0,
            "bin_end": 0.1,
            "count": 4
           },
           {
            "bin_start": 0.1,
            "bin_end": 0.2,
            "count": 0
           },
           {
            "bin_start": 0.2,
            "bin_end": 0.30000000000000004,
            "count": 0
           },
           {
            "bin_start": 0.30000000000000004,
            "bin_end": 0.4,
            "count": 0
           },
           {
            "bin_start": 0.4,
            "bin_end": 0.5,
            "count": 0
           },
           {
            "bin_start": 0.5,
            "bin_end": 0.6000000000000001,
            "count": 0
           },
           {
            "bin_start": 0.6000000000000001,
            "bin_end": 0.7000000000000001,
            "count": 0
           },
           {
            "bin_start": 0.7000000000000001,
            "bin_end": 0.8,
            "count": 0
           },
           {
            "bin_start": 0.8,
            "bin_end": 0.9,
            "count": 0
           },
           {
            "bin_start": 0.9,
            "bin_end": 1,
            "count": 1
           }
          ]
         }
        },
        {
         "name": "peanutyalmondy",
         "dtype": "int64",
         "stats": {
          "unique_count": 1,
          "nan_count": 0,
          "min": "0",
          "max": "0",
          "histogram": [
           {
            "bin_start": -0.5,
            "bin_end": -0.4,
            "count": 0
           },
           {
            "bin_start": -0.4,
            "bin_end": -0.3,
            "count": 0
           },
           {
            "bin_start": -0.3,
            "bin_end": -0.19999999999999996,
            "count": 0
           },
           {
            "bin_start": -0.19999999999999996,
            "bin_end": -0.09999999999999998,
            "count": 0
           },
           {
            "bin_start": -0.09999999999999998,
            "bin_end": 0,
            "count": 0
           },
           {
            "bin_start": 0,
            "bin_end": 0.10000000000000009,
            "count": 5
           },
           {
            "bin_start": 0.10000000000000009,
            "bin_end": 0.20000000000000007,
            "count": 0
           },
           {
            "bin_start": 0.20000000000000007,
            "bin_end": 0.30000000000000004,
            "count": 0
           },
           {
            "bin_start": 0.30000000000000004,
            "bin_end": 0.4,
            "count": 0
           },
           {
            "bin_start": 0.4,
            "bin_end": 0.5,
            "count": 0
           }
          ]
         }
        },
        {
         "name": "nougat",
         "dtype": "int64",
         "stats": {
          "unique_count": 2,
          "nan_count": 0,
          "min": "0",
          "max": "1",
          "histogram": [
           {
            "bin_start": 0,
            "bin_end": 0.1,
            "count": 4
           },
           {
            "bin_start": 0.1,
            "bin_end": 0.2,
            "count": 0
           },
           {
            "bin_start": 0.2,
            "bin_end": 0.30000000000000004,
            "count": 0
           },
           {
            "bin_start": 0.30000000000000004,
            "bin_end": 0.4,
            "count": 0
           },
           {
            "bin_start": 0.4,
            "bin_end": 0.5,
            "count": 0
           },
           {
            "bin_start": 0.5,
            "bin_end": 0.6000000000000001,
            "count": 0
           },
           {
            "bin_start": 0.6000000000000001,
            "bin_end": 0.7000000000000001,
            "count": 0
           },
           {
            "bin_start": 0.7000000000000001,
            "bin_end": 0.8,
            "count": 0
           },
           {
            "bin_start": 0.8,
            "bin_end": 0.9,
            "count": 0
           },
           {
            "bin_start": 0.9,
            "bin_end": 1,
            "count": 1
           }
          ]
         }
        },
        {
         "name": "crispedricewafer",
         "dtype": "int64",
         "stats": {
          "unique_count": 2,
          "nan_count": 0,
          "min": "0",
          "max": "1",
          "histogram": [
           {
            "bin_start": 0,
            "bin_end": 0.1,
            "count": 4
           },
           {
            "bin_start": 0.1,
            "bin_end": 0.2,
            "count": 0
           },
           {
            "bin_start": 0.2,
            "bin_end": 0.30000000000000004,
            "count": 0
           },
           {
            "bin_start": 0.30000000000000004,
            "bin_end": 0.4,
            "count": 0
           },
           {
            "bin_start": 0.4,
            "bin_end": 0.5,
            "count": 0
           },
           {
            "bin_start": 0.5,
            "bin_end": 0.6000000000000001,
            "count": 0
           },
           {
            "bin_start": 0.6000000000000001,
            "bin_end": 0.7000000000000001,
            "count": 0
           },
           {
            "bin_start": 0.7000000000000001,
            "bin_end": 0.8,
            "count": 0
           },
           {
            "bin_start": 0.8,
            "bin_end": 0.9,
            "count": 0
           },
           {
            "bin_start": 0.9,
            "bin_end": 1,
            "count": 1
           }
          ]
         }
        },
        {
         "name": "hard",
         "dtype": "int64",
         "stats": {
          "unique_count": 1,
          "nan_count": 0,
          "min": "0",
          "max": "0",
          "histogram": [
           {
            "bin_start": -0.5,
            "bin_end": -0.4,
            "count": 0
           },
           {
            "bin_start": -0.4,
            "bin_end": -0.3,
            "count": 0
           },
           {
            "bin_start": -0.3,
            "bin_end": -0.19999999999999996,
            "count": 0
           },
           {
            "bin_start": -0.19999999999999996,
            "bin_end": -0.09999999999999998,
            "count": 0
           },
           {
            "bin_start": -0.09999999999999998,
            "bin_end": 0,
            "count": 0
           },
           {
            "bin_start": 0,
            "bin_end": 0.10000000000000009,
            "count": 5
           },
           {
            "bin_start": 0.10000000000000009,
            "bin_end": 0.20000000000000007,
            "count": 0
           },
           {
            "bin_start": 0.20000000000000007,
            "bin_end": 0.30000000000000004,
            "count": 0
           },
           {
            "bin_start": 0.30000000000000004,
            "bin_end": 0.4,
            "count": 0
           },
           {
            "bin_start": 0.4,
            "bin_end": 0.5,
            "count": 0
           }
          ]
         }
        },
        {
         "name": "bar",
         "dtype": "int64",
         "stats": {
          "unique_count": 2,
          "nan_count": 0,
          "min": "0",
          "max": "1",
          "histogram": [
           {
            "bin_start": 0,
            "bin_end": 0.1,
            "count": 3
           },
           {
            "bin_start": 0.1,
            "bin_end": 0.2,
            "count": 0
           },
           {
            "bin_start": 0.2,
            "bin_end": 0.30000000000000004,
            "count": 0
           },
           {
            "bin_start": 0.30000000000000004,
            "bin_end": 0.4,
            "count": 0
           },
           {
            "bin_start": 0.4,
            "bin_end": 0.5,
            "count": 0
           },
           {
            "bin_start": 0.5,
            "bin_end": 0.6000000000000001,
            "count": 0
           },
           {
            "bin_start": 0.6000000000000001,
            "bin_end": 0.7000000000000001,
            "count": 0
           },
           {
            "bin_start": 0.7000000000000001,
            "bin_end": 0.8,
            "count": 0
           },
           {
            "bin_start": 0.8,
            "bin_end": 0.9,
            "count": 0
           },
           {
            "bin_start": 0.9,
            "bin_end": 1,
            "count": 2
           }
          ]
         }
        },
        {
         "name": "pluribus",
         "dtype": "int64",
         "stats": {
          "unique_count": 1,
          "nan_count": 0,
          "min": "0",
          "max": "0",
          "histogram": [
           {
            "bin_start": -0.5,
            "bin_end": -0.4,
            "count": 0
           },
           {
            "bin_start": -0.4,
            "bin_end": -0.3,
            "count": 0
           },
           {
            "bin_start": -0.3,
            "bin_end": -0.19999999999999996,
            "count": 0
           },
           {
            "bin_start": -0.19999999999999996,
            "bin_end": -0.09999999999999998,
            "count": 0
           },
           {
            "bin_start": -0.09999999999999998,
            "bin_end": 0,
            "count": 0
           },
           {
            "bin_start": 0,
            "bin_end": 0.10000000000000009,
            "count": 5
           },
           {
            "bin_start": 0.10000000000000009,
            "bin_end": 0.20000000000000007,
            "count": 0
           },
           {
            "bin_start": 0.20000000000000007,
            "bin_end": 0.30000000000000004,
            "count": 0
           },
           {
            "bin_start": 0.30000000000000004,
            "bin_end": 0.4,
            "count": 0
           },
           {
            "bin_start": 0.4,
            "bin_end": 0.5,
            "count": 0
           }
          ]
         }
        },
        {
         "name": "sugarpercent",
         "dtype": "float64",
         "stats": {
          "unique_count": 4,
          "nan_count": 0,
          "min": "0.011",
          "max": "0.90600002",
          "histogram": [
           {
            "bin_start": 0.011,
            "bin_end": 0.10050000199999999,
            "count": 2
           },
           {
            "bin_start": 0.10050000199999999,
            "bin_end": 0.190000004,
            "count": 0
           },
           {
            "bin_start": 0.190000004,
            "bin_end": 0.279500006,
            "count": 0
           },
           {
            "bin_start": 0.279500006,
            "bin_end": 0.369000008,
            "count": 0
           },
           {
            "bin_start": 0.369000008,
            "bin_end": 0.45850000999999996,
            "count": 0
           },
           {
            "bin_start": 0.45850000999999996,
            "bin_end": 0.548000012,
            "count": 0
           },
           {
            "bin_start": 0.548000012,
            "bin_end": 0.637500014,
            "count": 1
           },
           {
            "bin_start": 0.637500014,
            "bin_end": 0.727000016,
            "count": 0
           },
           {
            "bin_start": 0.727000016,
            "bin_end": 0.8165000179999999,
            "count": 1
           },
           {
            "bin_start": 0.8165000179999999,
            "bin_end": 0.90600002,
            "count": 1
           }
          ]
         }
        },
        {
         "name": "pricepercent",
         "dtype": "float64",
         "stats": {
          "unique_count": 3,
          "nan_count": 0,
          "min": "0.116",
          "max": "0.86000001",
          "histogram": [
           {
            "bin_start": 0.116,
            "bin_end": 0.190400001,
            "count": 1
           },
           {
            "bin_start": 0.190400001,
            "bin_end": 0.26480000200000003,
            "count": 0
           },
           {
            "bin_start": 0.26480000200000003,
            "bin_end": 0.339200003,
            "count": 0
           },
           {
            "bin_start": 0.339200003,
            "bin_end": 0.413600004,
            "count": 0
           },
           {
            "bin_start": 0.413600004,
            "bin_end": 0.488000005,
            "count": 0
           },
           {
            "bin_start": 0.488000005,
            "bin_end": 0.5624000060000001,
            "count": 3
           },
           {
            "bin_start": 0.5624000060000001,
            "bin_end": 0.6368000070000001,
            "count": 0
           },
           {
            "bin_start": 0.6368000070000001,
            "bin_end": 0.711200008,
            "count": 0
           },
           {
            "bin_start": 0.711200008,
            "bin_end": 0.785600009,
            "count": 0
           },
           {
            "bin_start": 0.785600009,
            "bin_end": 0.86000001,
            "count": 1
           }
          ]
         }
        },
        {
         "name": "winpercent",
         "dtype": "float64",
         "stats": {
          "unique_count": 5,
          "nan_count": 0,
          "min": "32.261086",
          "max": "67.602936",
          "histogram": [
           {
            "bin_start": 32.261086,
            "bin_end": 35.795271,
            "count": 1
           },
           {
            "bin_start": 35.795271,
            "bin_end": 39.329456,
            "count": 0
           },
           {
            "bin_start": 39.329456,
            "bin_end": 42.863641,
            "count": 0
           },
           {
            "bin_start": 42.863641,
            "bin_end": 46.397825999999995,
            "count": 1
           },
           {
            "bin_start": 46.397825999999995,
            "bin_end": 49.932011,
            "count": 0
           },
           {
            "bin_start": 49.932011,
            "bin_end": 53.466196,
            "count": 1
           },
           {
            "bin_start": 53.466196,
            "bin_end": 57.000381,
            "count": 0
           },
           {
            "bin_start": 57.000381,
            "bin_end": 60.534566,
            "count": 0
           },
           {
            "bin_start": 60.534566,
            "bin_end": 64.06875099999999,
            "count": 0
           },
           {
            "bin_start": 64.06875099999999,
            "bin_end": 67.602936,
            "count": 2
           }
          ]
         }
        },
        {
         "name": "_deepnote_index_column",
         "dtype": "int64"
        }
       ],
       "rows_top": [
        {
         "competitorname": "100 Grand",
         "chocolate": 1,
         "fruity": 0,
         "caramel": 1,
         "peanutyalmondy": 0,
         "nougat": 0,
         "crispedricewafer": 1,
         "hard": 0,
         "bar": 1,
         "pluribus": 0,
         "sugarpercent": 0.73199999,
         "pricepercent": 0.86000001,
         "winpercent": 66.971725,
         "_deepnote_index_column": 0
        },
        {
         "competitorname": "3 Musketeers",
         "chocolate": 1,
         "fruity": 0,
         "caramel": 0,
         "peanutyalmondy": 0,
         "nougat": 1,
         "crispedricewafer": 0,
         "hard": 0,
         "bar": 1,
         "pluribus": 0,
         "sugarpercent": 0.60399997,
         "pricepercent": 0.51099998,
         "winpercent": 67.602936,
         "_deepnote_index_column": 1
        },
        {
         "competitorname": "One dime",
         "chocolate": 0,
         "fruity": 0,
         "caramel": 0,
         "peanutyalmondy": 0,
         "nougat": 0,
         "crispedricewafer": 0,
         "hard": 0,
         "bar": 0,
         "pluribus": 0,
         "sugarpercent": 0.011,
         "pricepercent": 0.116,
         "winpercent": 32.261086,
         "_deepnote_index_column": 2
        },
        {
         "competitorname": "One quarter",
         "chocolate": 0,
         "fruity": 0,
         "caramel": 0,
         "peanutyalmondy": 0,
         "nougat": 0,
         "crispedricewafer": 0,
         "hard": 0,
         "bar": 0,
         "pluribus": 0,
         "sugarpercent": 0.011,
         "pricepercent": 0.51099998,
         "winpercent": 46.116505,
         "_deepnote_index_column": 3
        },
        {
         "competitorname": "Air Heads",
         "chocolate": 0,
         "fruity": 1,
         "caramel": 0,
         "peanutyalmondy": 0,
         "nougat": 0,
         "crispedricewafer": 0,
         "hard": 0,
         "bar": 0,
         "pluribus": 0,
         "sugarpercent": 0.90600002,
         "pricepercent": 0.51099998,
         "winpercent": 52.341465,
         "_deepnote_index_column": 4
        }
       ],
       "rows_bottom": null
      },
      "text/plain": "  competitorname  chocolate  fruity  caramel  peanutyalmondy  nougat  \\\n0      100 Grand          1       0        1               0       0   \n1   3 Musketeers          1       0        0               0       1   \n2       One dime          0       0        0               0       0   \n3    One quarter          0       0        0               0       0   \n4      Air Heads          0       1        0               0       0   \n\n   crispedricewafer  hard  bar  pluribus  sugarpercent  pricepercent  \\\n0                 1     0    1         0          0.73          0.86   \n1                 0     0    1         0          0.60          0.51   \n2                 0     0    0         0          0.01          0.12   \n3                 0     0    0         0          0.01          0.51   \n4                 0     0    0         0          0.91          0.51   \n\n   winpercent  \n0       66.97  \n1       67.60  \n2       32.26  \n3       46.12  \n4       52.34  ",
      "text/html": "<div>\n<style scoped>\n    .dataframe tbody tr th:only-of-type {\n        vertical-align: middle;\n    }\n\n    .dataframe tbody tr th {\n        vertical-align: top;\n    }\n\n    .dataframe thead th {\n        text-align: right;\n    }\n</style>\n<table border=\"1\" class=\"dataframe\">\n  <thead>\n    <tr style=\"text-align: right;\">\n      <th></th>\n      <th>competitorname</th>\n      <th>chocolate</th>\n      <th>fruity</th>\n      <th>caramel</th>\n      <th>peanutyalmondy</th>\n      <th>nougat</th>\n      <th>crispedricewafer</th>\n      <th>hard</th>\n      <th>bar</th>\n      <th>pluribus</th>\n      <th>sugarpercent</th>\n      <th>pricepercent</th>\n      <th>winpercent</th>\n    </tr>\n  </thead>\n  <tbody>\n    <tr>\n      <th>0</th>\n      <td>100 Grand</td>\n      <td>1</td>\n      <td>0</td>\n      <td>1</td>\n      <td>0</td>\n      <td>0</td>\n      <td>1</td>\n      <td>0</td>\n      <td>1</td>\n      <td>0</td>\n      <td>0.73</td>\n      <td>0.86</td>\n      <td>66.97</td>\n    </tr>\n    <tr>\n      <th>1</th>\n      <td>3 Musketeers</td>\n      <td>1</td>\n      <td>0</td>\n      <td>0</td>\n      <td>0</td>\n      <td>1</td>\n      <td>0</td>\n      <td>0</td>\n      <td>1</td>\n      <td>0</td>\n      <td>0.60</td>\n      <td>0.51</td>\n      <td>67.60</td>\n    </tr>\n    <tr>\n      <th>2</th>\n      <td>One dime</td>\n      <td>0</td>\n      <td>0</td>\n      <td>0</td>\n      <td>0</td>\n      <td>0</td>\n      <td>0</td>\n      <td>0</td>\n      <td>0</td>\n      <td>0</td>\n      <td>0.01</td>\n      <td>0.12</td>\n      <td>32.26</td>\n    </tr>\n    <tr>\n      <th>3</th>\n      <td>One quarter</td>\n      <td>0</td>\n      <td>0</td>\n      <td>0</td>\n      <td>0</td>\n      <td>0</td>\n      <td>0</td>\n      <td>0</td>\n      <td>0</td>\n      <td>0</td>\n      <td>0.01</td>\n      <td>0.51</td>\n      <td>46.12</td>\n    </tr>\n    <tr>\n      <th>4</th>\n      <td>Air Heads</td>\n      <td>0</td>\n      <td>1</td>\n      <td>0</td>\n      <td>0</td>\n      <td>0</td>\n      <td>0</td>\n      <td>0</td>\n      <td>0</td>\n      <td>0</td>\n      <td>0.91</td>\n      <td>0.51</td>\n      <td>52.34</td>\n    </tr>\n  </tbody>\n</table>\n</div>"
     },
     "metadata": {}
    }
   ],
   "execution_count": 3
  },
  {
   "cell_type": "code",
   "metadata": {
    "tags": [],
    "cell_id": "00003-9d3c8d2e-294b-4d09-9c80-29dc1b45152b",
    "deepnote_to_be_reexecuted": false,
    "source_hash": "a68a16d1",
    "execution_start": 1637206786847,
    "execution_millis": 20,
    "deepnote_cell_type": "code"
   },
   "source": "# Dimensiones\ndisplay(data.shape)",
   "outputs": [
    {
     "data": {
      "text/plain": "(85, 13)"
     },
     "metadata": {},
     "output_type": "display_data"
    }
   ],
   "execution_count": 4
  },
  {
   "cell_type": "code",
   "metadata": {
    "tags": [],
    "cell_id": "00004-303d819f-1c7a-4afd-a47c-5252d3548399",
    "deepnote_to_be_reexecuted": false,
    "source_hash": "d196566c",
    "execution_start": 1637206786875,
    "execution_millis": 15,
    "deepnote_cell_type": "code"
   },
   "source": "# Datos faltantes\ndisplay(data.isnull().sum())",
   "outputs": [
    {
     "data": {
      "text/plain": "competitorname      0\nchocolate           0\nfruity              0\ncaramel             0\npeanutyalmondy      0\nnougat              0\ncrispedricewafer    0\nhard                0\nbar                 0\npluribus            0\nsugarpercent        0\npricepercent        0\nwinpercent          0\ndtype: int64"
     },
     "metadata": {},
     "output_type": "display_data"
    }
   ],
   "execution_count": 5
  },
  {
   "cell_type": "code",
   "metadata": {
    "tags": [],
    "cell_id": "00005-69db7bf1-d7c0-4878-bb25-ddcf68431ac6",
    "deepnote_to_be_reexecuted": false,
    "source_hash": "2b3dad9",
    "execution_start": 1637206786902,
    "execution_millis": 27,
    "deepnote_cell_type": "code"
   },
   "source": "# Tipos de variables del dataset\ndisplay(data.dtypes)",
   "outputs": [
    {
     "data": {
      "text/plain": "competitorname       object\nchocolate             int64\nfruity                int64\ncaramel               int64\npeanutyalmondy        int64\nnougat                int64\ncrispedricewafer      int64\nhard                  int64\nbar                   int64\npluribus              int64\nsugarpercent        float64\npricepercent        float64\nwinpercent          float64\ndtype: object"
     },
     "metadata": {},
     "output_type": "display_data"
    }
   ],
   "execution_count": 6
  },
  {
   "cell_type": "code",
   "metadata": {
    "tags": [],
    "cell_id": "00006-51b2f6fc-8e93-4494-a117-a7e33598e842",
    "deepnote_to_be_reexecuted": false,
    "source_hash": "2cb52ae",
    "execution_start": 1637206786990,
    "execution_millis": 136,
    "deepnote_cell_type": "code"
   },
   "source": "# Resumen de nuestro dataset\ndata.describe()",
   "outputs": [
    {
     "output_type": "execute_result",
     "execution_count": 7,
     "data": {
      "application/vnd.deepnote.dataframe.v2+json": {
       "row_count": 8,
       "column_count": 12,
       "columns": [
        {
         "name": "chocolate",
         "dtype": "float64",
         "stats": {
          "unique_count": 5,
          "nan_count": 0,
          "min": "0.0",
          "max": "85.0",
          "histogram": [
           {
            "bin_start": 0,
            "bin_end": 8.5,
            "count": 7
           },
           {
            "bin_start": 8.5,
            "bin_end": 17,
            "count": 0
           },
           {
            "bin_start": 17,
            "bin_end": 25.5,
            "count": 0
           },
           {
            "bin_start": 25.5,
            "bin_end": 34,
            "count": 0
           },
           {
            "bin_start": 34,
            "bin_end": 42.5,
            "count": 0
           },
           {
            "bin_start": 42.5,
            "bin_end": 51,
            "count": 0
           },
           {
            "bin_start": 51,
            "bin_end": 59.5,
            "count": 0
           },
           {
            "bin_start": 59.5,
            "bin_end": 68,
            "count": 0
           },
           {
            "bin_start": 68,
            "bin_end": 76.5,
            "count": 0
           },
           {
            "bin_start": 76.5,
            "bin_end": 85,
            "count": 1
           }
          ]
         }
        },
        {
         "name": "fruity",
         "dtype": "float64",
         "stats": {
          "unique_count": 5,
          "nan_count": 0,
          "min": "0.0",
          "max": "85.0",
          "histogram": [
           {
            "bin_start": 0,
            "bin_end": 8.5,
            "count": 7
           },
           {
            "bin_start": 8.5,
            "bin_end": 17,
            "count": 0
           },
           {
            "bin_start": 17,
            "bin_end": 25.5,
            "count": 0
           },
           {
            "bin_start": 25.5,
            "bin_end": 34,
            "count": 0
           },
           {
            "bin_start": 34,
            "bin_end": 42.5,
            "count": 0
           },
           {
            "bin_start": 42.5,
            "bin_end": 51,
            "count": 0
           },
           {
            "bin_start": 51,
            "bin_end": 59.5,
            "count": 0
           },
           {
            "bin_start": 59.5,
            "bin_end": 68,
            "count": 0
           },
           {
            "bin_start": 68,
            "bin_end": 76.5,
            "count": 0
           },
           {
            "bin_start": 76.5,
            "bin_end": 85,
            "count": 1
           }
          ]
         }
        },
        {
         "name": "caramel",
         "dtype": "float64",
         "stats": {
          "unique_count": 5,
          "nan_count": 0,
          "min": "0.0",
          "max": "85.0",
          "histogram": [
           {
            "bin_start": 0,
            "bin_end": 8.5,
            "count": 7
           },
           {
            "bin_start": 8.5,
            "bin_end": 17,
            "count": 0
           },
           {
            "bin_start": 17,
            "bin_end": 25.5,
            "count": 0
           },
           {
            "bin_start": 25.5,
            "bin_end": 34,
            "count": 0
           },
           {
            "bin_start": 34,
            "bin_end": 42.5,
            "count": 0
           },
           {
            "bin_start": 42.5,
            "bin_end": 51,
            "count": 0
           },
           {
            "bin_start": 51,
            "bin_end": 59.5,
            "count": 0
           },
           {
            "bin_start": 59.5,
            "bin_end": 68,
            "count": 0
           },
           {
            "bin_start": 68,
            "bin_end": 76.5,
            "count": 0
           },
           {
            "bin_start": 76.5,
            "bin_end": 85,
            "count": 1
           }
          ]
         }
        },
        {
         "name": "peanutyalmondy",
         "dtype": "float64",
         "stats": {
          "unique_count": 5,
          "nan_count": 0,
          "min": "0.0",
          "max": "85.0",
          "histogram": [
           {
            "bin_start": 0,
            "bin_end": 8.5,
            "count": 7
           },
           {
            "bin_start": 8.5,
            "bin_end": 17,
            "count": 0
           },
           {
            "bin_start": 17,
            "bin_end": 25.5,
            "count": 0
           },
           {
            "bin_start": 25.5,
            "bin_end": 34,
            "count": 0
           },
           {
            "bin_start": 34,
            "bin_end": 42.5,
            "count": 0
           },
           {
            "bin_start": 42.5,
            "bin_end": 51,
            "count": 0
           },
           {
            "bin_start": 51,
            "bin_end": 59.5,
            "count": 0
           },
           {
            "bin_start": 59.5,
            "bin_end": 68,
            "count": 0
           },
           {
            "bin_start": 68,
            "bin_end": 76.5,
            "count": 0
           },
           {
            "bin_start": 76.5,
            "bin_end": 85,
            "count": 1
           }
          ]
         }
        },
        {
         "name": "nougat",
         "dtype": "float64",
         "stats": {
          "unique_count": 5,
          "nan_count": 0,
          "min": "0.0",
          "max": "85.0",
          "histogram": [
           {
            "bin_start": 0,
            "bin_end": 8.5,
            "count": 7
           },
           {
            "bin_start": 8.5,
            "bin_end": 17,
            "count": 0
           },
           {
            "bin_start": 17,
            "bin_end": 25.5,
            "count": 0
           },
           {
            "bin_start": 25.5,
            "bin_end": 34,
            "count": 0
           },
           {
            "bin_start": 34,
            "bin_end": 42.5,
            "count": 0
           },
           {
            "bin_start": 42.5,
            "bin_end": 51,
            "count": 0
           },
           {
            "bin_start": 51,
            "bin_end": 59.5,
            "count": 0
           },
           {
            "bin_start": 59.5,
            "bin_end": 68,
            "count": 0
           },
           {
            "bin_start": 68,
            "bin_end": 76.5,
            "count": 0
           },
           {
            "bin_start": 76.5,
            "bin_end": 85,
            "count": 1
           }
          ]
         }
        },
        {
         "name": "crispedricewafer",
         "dtype": "float64",
         "stats": {
          "unique_count": 5,
          "nan_count": 0,
          "min": "0.0",
          "max": "85.0",
          "histogram": [
           {
            "bin_start": 0,
            "bin_end": 8.5,
            "count": 7
           },
           {
            "bin_start": 8.5,
            "bin_end": 17,
            "count": 0
           },
           {
            "bin_start": 17,
            "bin_end": 25.5,
            "count": 0
           },
           {
            "bin_start": 25.5,
            "bin_end": 34,
            "count": 0
           },
           {
            "bin_start": 34,
            "bin_end": 42.5,
            "count": 0
           },
           {
            "bin_start": 42.5,
            "bin_end": 51,
            "count": 0
           },
           {
            "bin_start": 51,
            "bin_end": 59.5,
            "count": 0
           },
           {
            "bin_start": 59.5,
            "bin_end": 68,
            "count": 0
           },
           {
            "bin_start": 68,
            "bin_end": 76.5,
            "count": 0
           },
           {
            "bin_start": 76.5,
            "bin_end": 85,
            "count": 1
           }
          ]
         }
        },
        {
         "name": "hard",
         "dtype": "float64",
         "stats": {
          "unique_count": 5,
          "nan_count": 0,
          "min": "0.0",
          "max": "85.0",
          "histogram": [
           {
            "bin_start": 0,
            "bin_end": 8.5,
            "count": 7
           },
           {
            "bin_start": 8.5,
            "bin_end": 17,
            "count": 0
           },
           {
            "bin_start": 17,
            "bin_end": 25.5,
            "count": 0
           },
           {
            "bin_start": 25.5,
            "bin_end": 34,
            "count": 0
           },
           {
            "bin_start": 34,
            "bin_end": 42.5,
            "count": 0
           },
           {
            "bin_start": 42.5,
            "bin_end": 51,
            "count": 0
           },
           {
            "bin_start": 51,
            "bin_end": 59.5,
            "count": 0
           },
           {
            "bin_start": 59.5,
            "bin_end": 68,
            "count": 0
           },
           {
            "bin_start": 68,
            "bin_end": 76.5,
            "count": 0
           },
           {
            "bin_start": 76.5,
            "bin_end": 85,
            "count": 1
           }
          ]
         }
        },
        {
         "name": "bar",
         "dtype": "float64",
         "stats": {
          "unique_count": 5,
          "nan_count": 0,
          "min": "0.0",
          "max": "85.0",
          "histogram": [
           {
            "bin_start": 0,
            "bin_end": 8.5,
            "count": 7
           },
           {
            "bin_start": 8.5,
            "bin_end": 17,
            "count": 0
           },
           {
            "bin_start": 17,
            "bin_end": 25.5,
            "count": 0
           },
           {
            "bin_start": 25.5,
            "bin_end": 34,
            "count": 0
           },
           {
            "bin_start": 34,
            "bin_end": 42.5,
            "count": 0
           },
           {
            "bin_start": 42.5,
            "bin_end": 51,
            "count": 0
           },
           {
            "bin_start": 51,
            "bin_end": 59.5,
            "count": 0
           },
           {
            "bin_start": 59.5,
            "bin_end": 68,
            "count": 0
           },
           {
            "bin_start": 68,
            "bin_end": 76.5,
            "count": 0
           },
           {
            "bin_start": 76.5,
            "bin_end": 85,
            "count": 1
           }
          ]
         }
        },
        {
         "name": "pluribus",
         "dtype": "float64",
         "stats": {
          "unique_count": 5,
          "nan_count": 0,
          "min": "0.0",
          "max": "85.0",
          "histogram": [
           {
            "bin_start": 0,
            "bin_end": 8.5,
            "count": 7
           },
           {
            "bin_start": 8.5,
            "bin_end": 17,
            "count": 0
           },
           {
            "bin_start": 17,
            "bin_end": 25.5,
            "count": 0
           },
           {
            "bin_start": 25.5,
            "bin_end": 34,
            "count": 0
           },
           {
            "bin_start": 34,
            "bin_end": 42.5,
            "count": 0
           },
           {
            "bin_start": 42.5,
            "bin_end": 51,
            "count": 0
           },
           {
            "bin_start": 51,
            "bin_end": 59.5,
            "count": 0
           },
           {
            "bin_start": 59.5,
            "bin_end": 68,
            "count": 0
           },
           {
            "bin_start": 68,
            "bin_end": 76.5,
            "count": 0
           },
           {
            "bin_start": 76.5,
            "bin_end": 85,
            "count": 1
           }
          ]
         }
        },
        {
         "name": "sugarpercent",
         "dtype": "float64",
         "stats": {
          "unique_count": 8,
          "nan_count": 0,
          "min": "0.011",
          "max": "85.0",
          "histogram": [
           {
            "bin_start": 0.011,
            "bin_end": 8.5099,
            "count": 7
           },
           {
            "bin_start": 8.5099,
            "bin_end": 17.0088,
            "count": 0
           },
           {
            "bin_start": 17.0088,
            "bin_end": 25.507700000000003,
            "count": 0
           },
           {
            "bin_start": 25.507700000000003,
            "bin_end": 34.006600000000006,
            "count": 0
           },
           {
            "bin_start": 34.006600000000006,
            "bin_end": 42.505500000000005,
            "count": 0
           },
           {
            "bin_start": 42.505500000000005,
            "bin_end": 51.00440000000001,
            "count": 0
           },
           {
            "bin_start": 51.00440000000001,
            "bin_end": 59.50330000000001,
            "count": 0
           },
           {
            "bin_start": 59.50330000000001,
            "bin_end": 68.0022,
            "count": 0
           },
           {
            "bin_start": 68.0022,
            "bin_end": 76.50110000000001,
            "count": 0
           },
           {
            "bin_start": 76.50110000000001,
            "bin_end": 85,
            "count": 1
           }
          ]
         }
        },
        {
         "name": "pricepercent",
         "dtype": "float64",
         "stats": {
          "unique_count": 8,
          "nan_count": 0,
          "min": "0.011",
          "max": "85.0",
          "histogram": [
           {
            "bin_start": 0.011,
            "bin_end": 8.5099,
            "count": 7
           },
           {
            "bin_start": 8.5099,
            "bin_end": 17.0088,
            "count": 0
           },
           {
            "bin_start": 17.0088,
            "bin_end": 25.507700000000003,
            "count": 0
           },
           {
            "bin_start": 25.507700000000003,
            "bin_end": 34.006600000000006,
            "count": 0
           },
           {
            "bin_start": 34.006600000000006,
            "bin_end": 42.505500000000005,
            "count": 0
           },
           {
            "bin_start": 42.505500000000005,
            "bin_end": 51.00440000000001,
            "count": 0
           },
           {
            "bin_start": 51.00440000000001,
            "bin_end": 59.50330000000001,
            "count": 0
           },
           {
            "bin_start": 59.50330000000001,
            "bin_end": 68.0022,
            "count": 0
           },
           {
            "bin_start": 68.0022,
            "bin_end": 76.50110000000001,
            "count": 0
           },
           {
            "bin_start": 76.50110000000001,
            "bin_end": 85,
            "count": 1
           }
          ]
         }
        },
        {
         "name": "winpercent",
         "dtype": "float64",
         "stats": {
          "unique_count": 8,
          "nan_count": 0,
          "min": "14.71435741340785",
          "max": "85.0",
          "histogram": [
           {
            "bin_start": 14.71435741340785,
            "bin_end": 21.742921672067062,
            "count": 1
           },
           {
            "bin_start": 21.742921672067062,
            "bin_end": 28.77148593072628,
            "count": 1
           },
           {
            "bin_start": 28.77148593072628,
            "bin_end": 35.80005018938549,
            "count": 0
           },
           {
            "bin_start": 35.80005018938549,
            "bin_end": 42.8286144480447,
            "count": 1
           },
           {
            "bin_start": 42.8286144480447,
            "bin_end": 49.85717870670392,
            "count": 1
           },
           {
            "bin_start": 49.85717870670392,
            "bin_end": 56.885742965363136,
            "count": 1
           },
           {
            "bin_start": 56.885742965363136,
            "bin_end": 63.91430722402235,
            "count": 1
           },
           {
            "bin_start": 63.91430722402235,
            "bin_end": 70.94287148268157,
            "count": 0
           },
           {
            "bin_start": 70.94287148268157,
            "bin_end": 77.97143574134078,
            "count": 0
           },
           {
            "bin_start": 77.97143574134078,
            "bin_end": 85,
            "count": 2
           }
          ]
         }
        },
        {
         "name": "_deepnote_index_column",
         "dtype": "object"
        }
       ],
       "rows_top": [
        {
         "chocolate": 85,
         "fruity": 85,
         "caramel": 85,
         "peanutyalmondy": 85,
         "nougat": 85,
         "crispedricewafer": 85,
         "hard": 85,
         "bar": 85,
         "pluribus": 85,
         "sugarpercent": 85,
         "pricepercent": 85,
         "winpercent": 85,
         "_deepnote_index_column": "count"
        },
        {
         "chocolate": 0.43529411764705883,
         "fruity": 0.4470588235294118,
         "caramel": 0.16470588235294117,
         "peanutyalmondy": 0.16470588235294117,
         "nougat": 0.08235294117647059,
         "crispedricewafer": 0.08235294117647059,
         "hard": 0.17647058823529413,
         "bar": 0.24705882352941178,
         "pluribus": 0.5176470588235295,
         "sugarpercent": 0.4786470514588235,
         "pricepercent": 0.46888235249411764,
         "winpercent": 50.316763811764716,
         "_deepnote_index_column": "mean"
        },
        {
         "chocolate": 0.4987379029092529,
         "fruity": 0.5001400364122122,
         "caramel": 0.373116183345764,
         "peanutyalmondy": 0.373116183345764,
         "nougat": 0.27653315937748607,
         "crispedricewafer": 0.27653315937748607,
         "hard": 0.3834824944236852,
         "bar": 0.4338609156373123,
         "pluribus": 0.5026540206004227,
         "sugarpercent": 0.28277787067790333,
         "pricepercent": 0.2857396194331744,
         "winpercent": 14.71435741340785,
         "_deepnote_index_column": "std"
        },
        {
         "chocolate": 0,
         "fruity": 0,
         "caramel": 0,
         "peanutyalmondy": 0,
         "nougat": 0,
         "crispedricewafer": 0,
         "hard": 0,
         "bar": 0,
         "pluribus": 0,
         "sugarpercent": 0.011,
         "pricepercent": 0.011,
         "winpercent": 22.445341,
         "_deepnote_index_column": "min"
        },
        {
         "chocolate": 0,
         "fruity": 0,
         "caramel": 0,
         "peanutyalmondy": 0,
         "nougat": 0,
         "crispedricewafer": 0,
         "hard": 0,
         "bar": 0,
         "pluribus": 0,
         "sugarpercent": 0.22,
         "pricepercent": 0.255,
         "winpercent": 39.141056,
         "_deepnote_index_column": "25%"
        },
        {
         "chocolate": 0,
         "fruity": 0,
         "caramel": 0,
         "peanutyalmondy": 0,
         "nougat": 0,
         "crispedricewafer": 0,
         "hard": 0,
         "bar": 0,
         "pluribus": 1,
         "sugarpercent": 0.465,
         "pricepercent": 0.465,
         "winpercent": 47.829754,
         "_deepnote_index_column": "50%"
        },
        {
         "chocolate": 1,
         "fruity": 1,
         "caramel": 0,
         "peanutyalmondy": 0,
         "nougat": 0,
         "crispedricewafer": 0,
         "hard": 0,
         "bar": 0,
         "pluribus": 1,
         "sugarpercent": 0.73199999,
         "pricepercent": 0.65100002,
         "winpercent": 59.863998,
         "_deepnote_index_column": "75%"
        },
        {
         "chocolate": 1,
         "fruity": 1,
         "caramel": 1,
         "peanutyalmondy": 1,
         "nougat": 1,
         "crispedricewafer": 1,
         "hard": 1,
         "bar": 1,
         "pluribus": 1,
         "sugarpercent": 0.98799998,
         "pricepercent": 0.97600001,
         "winpercent": 84.18029,
         "_deepnote_index_column": "max"
        }
       ],
       "rows_bottom": null
      },
      "text/plain": "       chocolate  fruity  caramel  peanutyalmondy  nougat  crispedricewafer  \\\ncount      85.00   85.00    85.00           85.00   85.00             85.00   \nmean        0.44    0.45     0.16            0.16    0.08              0.08   \nstd         0.50    0.50     0.37            0.37    0.28              0.28   \nmin         0.00    0.00     0.00            0.00    0.00              0.00   \n25%         0.00    0.00     0.00            0.00    0.00              0.00   \n50%         0.00    0.00     0.00            0.00    0.00              0.00   \n75%         1.00    1.00     0.00            0.00    0.00              0.00   \nmax         1.00    1.00     1.00            1.00    1.00              1.00   \n\n       hard   bar  pluribus  sugarpercent  pricepercent  winpercent  \ncount 85.00 85.00     85.00         85.00         85.00       85.00  \nmean   0.18  0.25      0.52          0.48          0.47       50.32  \nstd    0.38  0.43      0.50          0.28          0.29       14.71  \nmin    0.00  0.00      0.00          0.01          0.01       22.45  \n25%    0.00  0.00      0.00          0.22          0.26       39.14  \n50%    0.00  0.00      1.00          0.47          0.47       47.83  \n75%    0.00  0.00      1.00          0.73          0.65       59.86  \nmax    1.00  1.00      1.00          0.99          0.98       84.18  ",
      "text/html": "<div>\n<style scoped>\n    .dataframe tbody tr th:only-of-type {\n        vertical-align: middle;\n    }\n\n    .dataframe tbody tr th {\n        vertical-align: top;\n    }\n\n    .dataframe thead th {\n        text-align: right;\n    }\n</style>\n<table border=\"1\" class=\"dataframe\">\n  <thead>\n    <tr style=\"text-align: right;\">\n      <th></th>\n      <th>chocolate</th>\n      <th>fruity</th>\n      <th>caramel</th>\n      <th>peanutyalmondy</th>\n      <th>nougat</th>\n      <th>crispedricewafer</th>\n      <th>hard</th>\n      <th>bar</th>\n      <th>pluribus</th>\n      <th>sugarpercent</th>\n      <th>pricepercent</th>\n      <th>winpercent</th>\n    </tr>\n  </thead>\n  <tbody>\n    <tr>\n      <th>count</th>\n      <td>85.00</td>\n      <td>85.00</td>\n      <td>85.00</td>\n      <td>85.00</td>\n      <td>85.00</td>\n      <td>85.00</td>\n      <td>85.00</td>\n      <td>85.00</td>\n      <td>85.00</td>\n      <td>85.00</td>\n      <td>85.00</td>\n      <td>85.00</td>\n    </tr>\n    <tr>\n      <th>mean</th>\n      <td>0.44</td>\n      <td>0.45</td>\n      <td>0.16</td>\n      <td>0.16</td>\n      <td>0.08</td>\n      <td>0.08</td>\n      <td>0.18</td>\n      <td>0.25</td>\n      <td>0.52</td>\n      <td>0.48</td>\n      <td>0.47</td>\n      <td>50.32</td>\n    </tr>\n    <tr>\n      <th>std</th>\n      <td>0.50</td>\n      <td>0.50</td>\n      <td>0.37</td>\n      <td>0.37</td>\n      <td>0.28</td>\n      <td>0.28</td>\n      <td>0.38</td>\n      <td>0.43</td>\n      <td>0.50</td>\n      <td>0.28</td>\n      <td>0.29</td>\n      <td>14.71</td>\n    </tr>\n    <tr>\n      <th>min</th>\n      <td>0.00</td>\n      <td>0.00</td>\n      <td>0.00</td>\n      <td>0.00</td>\n      <td>0.00</td>\n      <td>0.00</td>\n      <td>0.00</td>\n      <td>0.00</td>\n      <td>0.00</td>\n      <td>0.01</td>\n      <td>0.01</td>\n      <td>22.45</td>\n    </tr>\n    <tr>\n      <th>25%</th>\n      <td>0.00</td>\n      <td>0.00</td>\n      <td>0.00</td>\n      <td>0.00</td>\n      <td>0.00</td>\n      <td>0.00</td>\n      <td>0.00</td>\n      <td>0.00</td>\n      <td>0.00</td>\n      <td>0.22</td>\n      <td>0.26</td>\n      <td>39.14</td>\n    </tr>\n    <tr>\n      <th>50%</th>\n      <td>0.00</td>\n      <td>0.00</td>\n      <td>0.00</td>\n      <td>0.00</td>\n      <td>0.00</td>\n      <td>0.00</td>\n      <td>0.00</td>\n      <td>0.00</td>\n      <td>1.00</td>\n      <td>0.47</td>\n      <td>0.47</td>\n      <td>47.83</td>\n    </tr>\n    <tr>\n      <th>75%</th>\n      <td>1.00</td>\n      <td>1.00</td>\n      <td>0.00</td>\n      <td>0.00</td>\n      <td>0.00</td>\n      <td>0.00</td>\n      <td>0.00</td>\n      <td>0.00</td>\n      <td>1.00</td>\n      <td>0.73</td>\n      <td>0.65</td>\n      <td>59.86</td>\n    </tr>\n    <tr>\n      <th>max</th>\n      <td>1.00</td>\n      <td>1.00</td>\n      <td>1.00</td>\n      <td>1.00</td>\n      <td>1.00</td>\n      <td>1.00</td>\n      <td>1.00</td>\n      <td>1.00</td>\n      <td>1.00</td>\n      <td>0.99</td>\n      <td>0.98</td>\n      <td>84.18</td>\n    </tr>\n  </tbody>\n</table>\n</div>"
     },
     "metadata": {}
    }
   ],
   "execution_count": 7
  },
  {
   "cell_type": "code",
   "metadata": {
    "tags": [],
    "cell_id": "00007-c0569b10-456a-43ab-8c75-5e2a088f43d3",
    "deepnote_to_be_reexecuted": false,
    "source_hash": "3c20eebf",
    "execution_start": 1637206787121,
    "execution_millis": 12,
    "deepnote_cell_type": "code"
   },
   "source": "# Definimos nuestros features\nX = data.drop(['competitorname'], axis=1)",
   "outputs": [],
   "execution_count": 8
  },
  {
   "cell_type": "code",
   "metadata": {
    "tags": [],
    "cell_id": "00009-47619a9b-b7eb-427d-b209-3067f426b4a4",
    "deepnote_to_be_reexecuted": false,
    "source_hash": "794dc03",
    "execution_start": 1637206787141,
    "execution_millis": 452,
    "deepnote_cell_type": "code"
   },
   "source": "# Importamos nuestro cluster MeanShift\nfrom sklearn.cluster import MeanShift, KMeans",
   "outputs": [],
   "execution_count": 9
  },
  {
   "cell_type": "code",
   "metadata": {
    "tags": [],
    "cell_id": "00009-c3cfc9a2-85a1-4064-82d2-b7aae7b7f424",
    "deepnote_to_be_reexecuted": false,
    "source_hash": "3adb5628",
    "execution_start": 1637206787615,
    "execution_millis": 4849,
    "deepnote_cell_type": "code"
   },
   "source": "\"\"\"\n1. Codo de Jambú\n2. Buscamos el 'k' óptimo\n3. Vemos el valor de la Inertia\n4. Graficamos\n\"\"\"\n\nwcss = []\n\nfor i in list(range(1,11)):\n\n    k_means = KMeans(n_clusters=i, init='k-means++', max_iter=300, n_init=10, random_state=0)\n    k_means.fit(X)\n    wcss.append(k_means.inertia_)\n\n\nsns.set_theme(style='whitegrid')\nplt.subplots(figsize=(9,5))\nplt.plot(list(range(1,11)), wcss, marker='D', markersize=10, color='purple', linewidth=2)\nplt.title('Codo de Jambú\\n', fontsize=14)\nplt.xlabel('Número de Clusters')\nplt.ylabel('WCSS')\nplt.tight_layout();",
   "outputs": [
    {
     "data": {
      "text/plain": "<Figure size 648x360 with 1 Axes>",
      "image/png": "[encoded data removed]"
     },
     "metadata": {
      "image/png": {
       "width": 636,
       "height": 348
      }
     },
     "output_type": "display_data"
    }
   ],
   "execution_count": 10
  },
  {
   "cell_type": "code",
   "metadata": {
    "tags": [],
    "cell_id": "00010-fa57ad13-91fe-4898-a29a-2da66553b602",
    "deepnote_to_be_reexecuted": false,
    "source_hash": "5d52e9c6",
    "execution_start": 1637206792468,
    "execution_millis": 602,
    "deepnote_cell_type": "code"
   },
   "source": "# Creamos el modelo y lo entrenamos con los datos que tenemos en este caso \"X\"\nmean_shift = MeanShift()\nmean_shift.fit(X)\nmean_shift",
   "outputs": [
    {
     "output_type": "execute_result",
     "execution_count": 11,
     "data": {
      "text/plain": "MeanShift()"
     },
     "metadata": {}
    }
   ],
   "execution_count": 11
  },
  {
   "cell_type": "code",
   "metadata": {
    "tags": [],
    "cell_id": "00011-e1aa802e-0c78-47aa-aaa6-6e19bd8b537a",
    "deepnote_to_be_reexecuted": false,
    "source_hash": "a105730f",
    "execution_start": 1637206793073,
    "execution_millis": 17,
    "deepnote_cell_type": "code"
   },
   "source": "# Centroides\ndisplay(mean_shift.cluster_centers_)",
   "outputs": [
    {
     "data": {
      "text/plain": "array([[2.25000000e-01, 5.75000000e-01, 1.00000000e-01, 2.50000000e-02,\n        5.00000000e-02, 2.50000000e-02, 3.00000000e-01, 1.00000000e-01,\n        5.50000000e-01, 4.57599993e-01, 3.67824996e-01, 4.10442122e+01],\n       [4.68750000e-01, 5.00000000e-01, 1.25000000e-01, 1.56250000e-01,\n        9.37500000e-02, 6.25000000e-02, 1.25000000e-01, 3.12500000e-01,\n        5.31250000e-01, 4.57281243e-01, 4.67874998e-01, 5.21138597e+01],\n       [8.26086957e-01, 1.73913043e-01, 3.04347826e-01, 3.04347826e-01,\n        1.73913043e-01, 1.73913043e-01, 0.00000000e+00, 5.21739130e-01,\n        4.34782609e-01, 5.81391293e-01, 6.38086963e-01, 6.47120799e+01]])"
     },
     "metadata": {},
     "output_type": "display_data"
    }
   ],
   "execution_count": 12
  },
  {
   "cell_type": "code",
   "metadata": {
    "tags": [],
    "cell_id": "00012-3799947e-7857-4877-9ea8-6c161b723902",
    "deepnote_to_be_reexecuted": false,
    "source_hash": "d7e6c396",
    "execution_start": 1637206793099,
    "execution_millis": 19,
    "deepnote_cell_type": "code"
   },
   "source": "# Predicción\ny_pred = mean_shift.predict(X)\ndisplay(y_pred)",
   "outputs": [
    {
     "data": {
      "text/plain": "array([2, 2, 0, 0, 1, 1, 1, 0, 0, 0, 0, 0, 0, 0, 0, 0, 0, 1, 1, 0, 1, 0,\n       1, 2, 1, 2, 0, 1, 2, 0, 0, 1, 2, 2, 0, 1, 2, 2, 2, 1, 1, 1, 2, 2,\n       0, 0, 0, 2, 0, 0, 0, 2, 2, 2, 2, 0, 2, 0, 0, 0, 2, 1, 0, 0, 2, 2,\n       2, 1, 2, 0, 0, 0, 0, 1, 1, 0, 0, 1, 1, 2, 0, 0, 0, 0, 1])"
     },
     "metadata": {},
     "output_type": "display_data"
    }
   ],
   "execution_count": 13
  },
  {
   "cell_type": "code",
   "metadata": {
    "tags": [],
    "cell_id": "00013-e85de1fa-5d5e-4afc-a7ce-e0b038297b2e",
    "deepnote_to_be_reexecuted": false,
    "source_hash": "60d6c6e1",
    "execution_start": 1637206793142,
    "execution_millis": 108,
    "deepnote_cell_type": "code"
   },
   "source": "# Definimos nuestras etiquetas en un objeto para posteriormente almacenarlo en los datos normalizados\netiquetas_mean_shift = mean_shift.labels_\n\ndata['Labels Mean Shift'] = etiquetas_mean_shift\ndata.head()",
   "outputs": [
    {
     "output_type": "execute_result",
     "execution_count": 14,
     "data": {
      "application/vnd.deepnote.dataframe.v2+json": {
       "row_count": 5,
       "column_count": 14,
       "columns": [
        {
         "name": "competitorname",
         "dtype": "object",
         "stats": {
          "unique_count": 5,
          "nan_count": 0,
          "categories": [
           {
            "name": "100 Grand",
            "count": 1
           },
           {
            "name": "3 Musketeers",
            "count": 1
           },
           {
            "name": "3 others",
            "count": 3
           }
          ]
         }
        },
        {
         "name": "chocolate",
         "dtype": "int64",
         "stats": {
          "unique_count": 2,
          "nan_count": 0,
          "min": "0",
          "max": "1",
          "histogram": [
           {
            "bin_start": 0,
            "bin_end": 0.1,
            "count": 3
           },
           {
            "bin_start": 0.1,
            "bin_end": 0.2,
            "count": 0
           },
           {
            "bin_start": 0.2,
            "bin_end": 0.30000000000000004,
            "count": 0
           },
           {
            "bin_start": 0.30000000000000004,
            "bin_end": 0.4,
            "count": 0
           },
           {
            "bin_start": 0.4,
            "bin_end": 0.5,
            "count": 0
           },
           {
            "bin_start": 0.5,
            "bin_end": 0.6000000000000001,
            "count": 0
           },
           {
            "bin_start": 0.6000000000000001,
            "bin_end": 0.7000000000000001,
            "count": 0
           },
           {
            "bin_start": 0.7000000000000001,
            "bin_end": 0.8,
            "count": 0
           },
           {
            "bin_start": 0.8,
            "bin_end": 0.9,
            "count": 0
           },
           {
            "bin_start": 0.9,
            "bin_end": 1,
            "count": 2
           }
          ]
         }
        },
        {
         "name": "fruity",
         "dtype": "int64",
         "stats": {
          "unique_count": 2,
          "nan_count": 0,
          "min": "0",
          "max": "1",
          "histogram": [
           {
            "bin_start": 0,
            "bin_end": 0.1,
            "count": 4
           },
           {
            "bin_start": 0.1,
            "bin_end": 0.2,
            "count": 0
           },
           {
            "bin_start": 0.2,
            "bin_end": 0.30000000000000004,
            "count": 0
           },
           {
            "bin_start": 0.30000000000000004,
            "bin_end": 0.4,
            "count": 0
           },
           {
            "bin_start": 0.4,
            "bin_end": 0.5,
            "count": 0
           },
           {
            "bin_start": 0.5,
            "bin_end": 0.6000000000000001,
            "count": 0
           },
           {
            "bin_start": 0.6000000000000001,
            "bin_end": 0.7000000000000001,
            "count": 0
           },
           {
            "bin_start": 0.7000000000000001,
            "bin_end": 0.8,
            "count": 0
           },
           {
            "bin_start": 0.8,
            "bin_end": 0.9,
            "count": 0
           },
           {
            "bin_start": 0.9,
            "bin_end": 1,
            "count": 1
           }
          ]
         }
        },
        {
         "name": "caramel",
         "dtype": "int64",
         "stats": {
          "unique_count": 2,
          "nan_count": 0,
          "min": "0",
          "max": "1",
          "histogram": [
           {
            "bin_start": 0,
            "bin_end": 0.1,
            "count": 4
           },
           {
            "bin_start": 0.1,
            "bin_end": 0.2,
            "count": 0
           },
           {
            "bin_start": 0.2,
            "bin_end": 0.30000000000000004,
            "count": 0
           },
           {
            "bin_start": 0.30000000000000004,
            "bin_end": 0.4,
            "count": 0
           },
           {
            "bin_start": 0.4,
            "bin_end": 0.5,
            "count": 0
           },
           {
            "bin_start": 0.5,
            "bin_end": 0.6000000000000001,
            "count": 0
           },
           {
            "bin_start": 0.6000000000000001,
            "bin_end": 0.7000000000000001,
            "count": 0
           },
           {
            "bin_start": 0.7000000000000001,
            "bin_end": 0.8,
            "count": 0
           },
           {
            "bin_start": 0.8,
            "bin_end": 0.9,
            "count": 0
           },
           {
            "bin_start": 0.9,
            "bin_end": 1,
            "count": 1
           }
          ]
         }
        },
        {
         "name": "peanutyalmondy",
         "dtype": "int64",
         "stats": {
          "unique_count": 1,
          "nan_count": 0,
          "min": "0",
          "max": "0",
          "histogram": [
           {
            "bin_start": -0.5,
            "bin_end": -0.4,
            "count": 0
           },
           {
            "bin_start": -0.4,
            "bin_end": -0.3,
            "count": 0
           },
           {
            "bin_start": -0.3,
            "bin_end": -0.19999999999999996,
            "count": 0
           },
           {
            "bin_start": -0.19999999999999996,
            "bin_end": -0.09999999999999998,
            "count": 0
           },
           {
            "bin_start": -0.09999999999999998,
            "bin_end": 0,
            "count": 0
           },
           {
            "bin_start": 0,
            "bin_end": 0.10000000000000009,
            "count": 5
           },
           {
            "bin_start": 0.10000000000000009,
            "bin_end": 0.20000000000000007,
            "count": 0
           },
           {
            "bin_start": 0.20000000000000007,
            "bin_end": 0.30000000000000004,
            "count": 0
           },
           {
            "bin_start": 0.30000000000000004,
            "bin_end": 0.4,
            "count": 0
           },
           {
            "bin_start": 0.4,
            "bin_end": 0.5,
            "count": 0
           }
          ]
         }
        },
        {
         "name": "nougat",
         "dtype": "int64",
         "stats": {
          "unique_count": 2,
          "nan_count": 0,
          "min": "0",
          "max": "1",
          "histogram": [
           {
            "bin_start": 0,
            "bin_end": 0.1,
            "count": 4
           },
           {
            "bin_start": 0.1,
            "bin_end": 0.2,
            "count": 0
           },
           {
            "bin_start": 0.2,
            "bin_end": 0.30000000000000004,
            "count": 0
           },
           {
            "bin_start": 0.30000000000000004,
            "bin_end": 0.4,
            "count": 0
           },
           {
            "bin_start": 0.4,
            "bin_end": 0.5,
            "count": 0
           },
           {
            "bin_start": 0.5,
            "bin_end": 0.6000000000000001,
            "count": 0
           },
           {
            "bin_start": 0.6000000000000001,
            "bin_end": 0.7000000000000001,
            "count": 0
           },
           {
            "bin_start": 0.7000000000000001,
            "bin_end": 0.8,
            "count": 0
           },
           {
            "bin_start": 0.8,
            "bin_end": 0.9,
            "count": 0
           },
           {
            "bin_start": 0.9,
            "bin_end": 1,
            "count": 1
           }
          ]
         }
        },
        {
         "name": "crispedricewafer",
         "dtype": "int64",
         "stats": {
          "unique_count": 2,
          "nan_count": 0,
          "min": "0",
          "max": "1",
          "histogram": [
           {
            "bin_start": 0,
            "bin_end": 0.1,
            "count": 4
           },
           {
            "bin_start": 0.1,
            "bin_end": 0.2,
            "count": 0
           },
           {
            "bin_start": 0.2,
            "bin_end": 0.30000000000000004,
            "count": 0
           },
           {
            "bin_start": 0.30000000000000004,
            "bin_end": 0.4,
            "count": 0
           },
           {
            "bin_start": 0.4,
            "bin_end": 0.5,
            "count": 0
           },
           {
            "bin_start": 0.5,
            "bin_end": 0.6000000000000001,
            "count": 0
           },
           {
            "bin_start": 0.6000000000000001,
            "bin_end": 0.7000000000000001,
            "count": 0
           },
           {
            "bin_start": 0.7000000000000001,
            "bin_end": 0.8,
            "count": 0
           },
           {
            "bin_start": 0.8,
            "bin_end": 0.9,
            "count": 0
           },
           {
            "bin_start": 0.9,
            "bin_end": 1,
            "count": 1
           }
          ]
         }
        },
        {
         "name": "hard",
         "dtype": "int64",
         "stats": {
          "unique_count": 1,
          "nan_count": 0,
          "min": "0",
          "max": "0",
          "histogram": [
           {
            "bin_start": -0.5,
            "bin_end": -0.4,
            "count": 0
           },
           {
            "bin_start": -0.4,
            "bin_end": -0.3,
            "count": 0
           },
           {
            "bin_start": -0.3,
            "bin_end": -0.19999999999999996,
            "count": 0
           },
           {
            "bin_start": -0.19999999999999996,
            "bin_end": -0.09999999999999998,
            "count": 0
           },
           {
            "bin_start": -0.09999999999999998,
            "bin_end": 0,
            "count": 0
           },
           {
            "bin_start": 0,
            "bin_end": 0.10000000000000009,
            "count": 5
           },
           {
            "bin_start": 0.10000000000000009,
            "bin_end": 0.20000000000000007,
            "count": 0
           },
           {
            "bin_start": 0.20000000000000007,
            "bin_end": 0.30000000000000004,
            "count": 0
           },
           {
            "bin_start": 0.30000000000000004,
            "bin_end": 0.4,
            "count": 0
           },
           {
            "bin_start": 0.4,
            "bin_end": 0.5,
            "count": 0
           }
          ]
         }
        },
        {
         "name": "bar",
         "dtype": "int64",
         "stats": {
          "unique_count": 2,
          "nan_count": 0,
          "min": "0",
          "max": "1",
          "histogram": [
           {
            "bin_start": 0,
            "bin_end": 0.1,
            "count": 3
           },
           {
            "bin_start": 0.1,
            "bin_end": 0.2,
            "count": 0
           },
           {
            "bin_start": 0.2,
            "bin_end": 0.30000000000000004,
            "count": 0
           },
           {
            "bin_start": 0.30000000000000004,
            "bin_end": 0.4,
            "count": 0
           },
           {
            "bin_start": 0.4,
            "bin_end": 0.5,
            "count": 0
           },
           {
            "bin_start": 0.5,
            "bin_end": 0.6000000000000001,
            "count": 0
           },
           {
            "bin_start": 0.6000000000000001,
            "bin_end": 0.7000000000000001,
            "count": 0
           },
           {
            "bin_start": 0.7000000000000001,
            "bin_end": 0.8,
            "count": 0
           },
           {
            "bin_start": 0.8,
            "bin_end": 0.9,
            "count": 0
           },
           {
            "bin_start": 0.9,
            "bin_end": 1,
            "count": 2
           }
          ]
         }
        },
        {
         "name": "pluribus",
         "dtype": "int64",
         "stats": {
          "unique_count": 1,
          "nan_count": 0,
          "min": "0",
          "max": "0",
          "histogram": [
           {
            "bin_start": -0.5,
            "bin_end": -0.4,
            "count": 0
           },
           {
            "bin_start": -0.4,
            "bin_end": -0.3,
            "count": 0
           },
           {
            "bin_start": -0.3,
            "bin_end": -0.19999999999999996,
            "count": 0
           },
           {
            "bin_start": -0.19999999999999996,
            "bin_end": -0.09999999999999998,
            "count": 0
           },
           {
            "bin_start": -0.09999999999999998,
            "bin_end": 0,
            "count": 0
           },
           {
            "bin_start": 0,
            "bin_end": 0.10000000000000009,
            "count": 5
           },
           {
            "bin_start": 0.10000000000000009,
            "bin_end": 0.20000000000000007,
            "count": 0
           },
           {
            "bin_start": 0.20000000000000007,
            "bin_end": 0.30000000000000004,
            "count": 0
           },
           {
            "bin_start": 0.30000000000000004,
            "bin_end": 0.4,
            "count": 0
           },
           {
            "bin_start": 0.4,
            "bin_end": 0.5,
            "count": 0
           }
          ]
         }
        },
        {
         "name": "sugarpercent",
         "dtype": "float64",
         "stats": {
          "unique_count": 4,
          "nan_count": 0,
          "min": "0.011",
          "max": "0.90600002",
          "histogram": [
           {
            "bin_start": 0.011,
            "bin_end": 0.10050000199999999,
            "count": 2
           },
           {
            "bin_start": 0.10050000199999999,
            "bin_end": 0.190000004,
            "count": 0
           },
           {
            "bin_start": 0.190000004,
            "bin_end": 0.279500006,
            "count": 0
           },
           {
            "bin_start": 0.279500006,
            "bin_end": 0.369000008,
            "count": 0
           },
           {
            "bin_start": 0.369000008,
            "bin_end": 0.45850000999999996,
            "count": 0
           },
           {
            "bin_start": 0.45850000999999996,
            "bin_end": 0.548000012,
            "count": 0
           },
           {
            "bin_start": 0.548000012,
            "bin_end": 0.637500014,
            "count": 1
           },
           {
            "bin_start": 0.637500014,
            "bin_end": 0.727000016,
            "count": 0
           },
           {
            "bin_start": 0.727000016,
            "bin_end": 0.8165000179999999,
            "count": 1
           },
           {
            "bin_start": 0.8165000179999999,
            "bin_end": 0.90600002,
            "count": 1
           }
          ]
         }
        },
        {
         "name": "pricepercent",
         "dtype": "float64",
         "stats": {
          "unique_count": 3,
          "nan_count": 0,
          "min": "0.116",
          "max": "0.86000001",
          "histogram": [
           {
            "bin_start": 0.116,
            "bin_end": 0.190400001,
            "count": 1
           },
           {
            "bin_start": 0.190400001,
            "bin_end": 0.26480000200000003,
            "count": 0
           },
           {
            "bin_start": 0.26480000200000003,
            "bin_end": 0.339200003,
            "count": 0
           },
           {
            "bin_start": 0.339200003,
            "bin_end": 0.413600004,
            "count": 0
           },
           {
            "bin_start": 0.413600004,
            "bin_end": 0.488000005,
            "count": 0
           },
           {
            "bin_start": 0.488000005,
            "bin_end": 0.5624000060000001,
            "count": 3
           },
           {
            "bin_start": 0.5624000060000001,
            "bin_end": 0.6368000070000001,
            "count": 0
           },
           {
            "bin_start": 0.6368000070000001,
            "bin_end": 0.711200008,
            "count": 0
           },
           {
            "bin_start": 0.711200008,
            "bin_end": 0.785600009,
            "count": 0
           },
           {
            "bin_start": 0.785600009,
            "bin_end": 0.86000001,
            "count": 1
           }
          ]
         }
        },
        {
         "name": "winpercent",
         "dtype": "float64",
         "stats": {
          "unique_count": 5,
          "nan_count": 0,
          "min": "32.261086",
          "max": "67.602936",
          "histogram": [
           {
            "bin_start": 32.261086,
            "bin_end": 35.795271,
            "count": 1
           },
           {
            "bin_start": 35.795271,
            "bin_end": 39.329456,
            "count": 0
           },
           {
            "bin_start": 39.329456,
            "bin_end": 42.863641,
            "count": 0
           },
           {
            "bin_start": 42.863641,
            "bin_end": 46.397825999999995,
            "count": 1
           },
           {
            "bin_start": 46.397825999999995,
            "bin_end": 49.932011,
            "count": 0
           },
           {
            "bin_start": 49.932011,
            "bin_end": 53.466196,
            "count": 1
           },
           {
            "bin_start": 53.466196,
            "bin_end": 57.000381,
            "count": 0
           },
           {
            "bin_start": 57.000381,
            "bin_end": 60.534566,
            "count": 0
           },
           {
            "bin_start": 60.534566,
            "bin_end": 64.06875099999999,
            "count": 0
           },
           {
            "bin_start": 64.06875099999999,
            "bin_end": 67.602936,
            "count": 2
           }
          ]
         }
        },
        {
         "name": "Labels Mean Shift",
         "dtype": "int64",
         "stats": {
          "unique_count": 3,
          "nan_count": 0,
          "min": "0",
          "max": "2",
          "histogram": [
           {
            "bin_start": 0,
            "bin_end": 0.2,
            "count": 2
           },
           {
            "bin_start": 0.2,
            "bin_end": 0.4,
            "count": 0
           },
           {
            "bin_start": 0.4,
            "bin_end": 0.6000000000000001,
            "count": 0
           },
           {
            "bin_start": 0.6000000000000001,
            "bin_end": 0.8,
            "count": 0
           },
           {
            "bin_start": 0.8,
            "bin_end": 1,
            "count": 0
           },
           {
            "bin_start": 1,
            "bin_end": 1.2000000000000002,
            "count": 1
           },
           {
            "bin_start": 1.2000000000000002,
            "bin_end": 1.4000000000000001,
            "count": 0
           },
           {
            "bin_start": 1.4000000000000001,
            "bin_end": 1.6,
            "count": 0
           },
           {
            "bin_start": 1.6,
            "bin_end": 1.8,
            "count": 0
           },
           {
            "bin_start": 1.8,
            "bin_end": 2,
            "count": 2
           }
          ]
         }
        },
        {
         "name": "_deepnote_index_column",
         "dtype": "int64"
        }
       ],
       "rows_top": [
        {
         "competitorname": "100 Grand",
         "chocolate": 1,
         "fruity": 0,
         "caramel": 1,
         "peanutyalmondy": 0,
         "nougat": 0,
         "crispedricewafer": 1,
         "hard": 0,
         "bar": 1,
         "pluribus": 0,
         "sugarpercent": 0.73199999,
         "pricepercent": 0.86000001,
         "winpercent": 66.971725,
         "Labels Mean Shift": 2,
         "_deepnote_index_column": 0
        },
        {
         "competitorname": "3 Musketeers",
         "chocolate": 1,
         "fruity": 0,
         "caramel": 0,
         "peanutyalmondy": 0,
         "nougat": 1,
         "crispedricewafer": 0,
         "hard": 0,
         "bar": 1,
         "pluribus": 0,
         "sugarpercent": 0.60399997,
         "pricepercent": 0.51099998,
         "winpercent": 67.602936,
         "Labels Mean Shift": 2,
         "_deepnote_index_column": 1
        },
        {
         "competitorname": "One dime",
         "chocolate": 0,
         "fruity": 0,
         "caramel": 0,
         "peanutyalmondy": 0,
         "nougat": 0,
         "crispedricewafer": 0,
         "hard": 0,
         "bar": 0,
         "pluribus": 0,
         "sugarpercent": 0.011,
         "pricepercent": 0.116,
         "winpercent": 32.261086,
         "Labels Mean Shift": 0,
         "_deepnote_index_column": 2
        },
        {
         "competitorname": "One quarter",
         "chocolate": 0,
         "fruity": 0,
         "caramel": 0,
         "peanutyalmondy": 0,
         "nougat": 0,
         "crispedricewafer": 0,
         "hard": 0,
         "bar": 0,
         "pluribus": 0,
         "sugarpercent": 0.011,
         "pricepercent": 0.51099998,
         "winpercent": 46.116505,
         "Labels Mean Shift": 0,
         "_deepnote_index_column": 3
        },
        {
         "competitorname": "Air Heads",
         "chocolate": 0,
         "fruity": 1,
         "caramel": 0,
         "peanutyalmondy": 0,
         "nougat": 0,
         "crispedricewafer": 0,
         "hard": 0,
         "bar": 0,
         "pluribus": 0,
         "sugarpercent": 0.90600002,
         "pricepercent": 0.51099998,
         "winpercent": 52.341465,
         "Labels Mean Shift": 1,
         "_deepnote_index_column": 4
        }
       ],
       "rows_bottom": null
      },
      "text/plain": "  competitorname  chocolate  fruity  caramel  peanutyalmondy  nougat  \\\n0      100 Grand          1       0        1               0       0   \n1   3 Musketeers          1       0        0               0       1   \n2       One dime          0       0        0               0       0   \n3    One quarter          0       0        0               0       0   \n4      Air Heads          0       1        0               0       0   \n\n   crispedricewafer  hard  bar  pluribus  sugarpercent  pricepercent  \\\n0                 1     0    1         0          0.73          0.86   \n1                 0     0    1         0          0.60          0.51   \n2                 0     0    0         0          0.01          0.12   \n3                 0     0    0         0          0.01          0.51   \n4                 0     0    0         0          0.91          0.51   \n\n   winpercent  Labels Mean Shift  \n0       66.97                  2  \n1       67.60                  2  \n2       32.26                  0  \n3       46.12                  0  \n4       52.34                  1  ",
      "text/html": "<div>\n<style scoped>\n    .dataframe tbody tr th:only-of-type {\n        vertical-align: middle;\n    }\n\n    .dataframe tbody tr th {\n        vertical-align: top;\n    }\n\n    .dataframe thead th {\n        text-align: right;\n    }\n</style>\n<table border=\"1\" class=\"dataframe\">\n  <thead>\n    <tr style=\"text-align: right;\">\n      <th></th>\n      <th>competitorname</th>\n      <th>chocolate</th>\n      <th>fruity</th>\n      <th>caramel</th>\n      <th>peanutyalmondy</th>\n      <th>nougat</th>\n      <th>crispedricewafer</th>\n      <th>hard</th>\n      <th>bar</th>\n      <th>pluribus</th>\n      <th>sugarpercent</th>\n      <th>pricepercent</th>\n      <th>winpercent</th>\n      <th>Labels Mean Shift</th>\n    </tr>\n  </thead>\n  <tbody>\n    <tr>\n      <th>0</th>\n      <td>100 Grand</td>\n      <td>1</td>\n      <td>0</td>\n      <td>1</td>\n      <td>0</td>\n      <td>0</td>\n      <td>1</td>\n      <td>0</td>\n      <td>1</td>\n      <td>0</td>\n      <td>0.73</td>\n      <td>0.86</td>\n      <td>66.97</td>\n      <td>2</td>\n    </tr>\n    <tr>\n      <th>1</th>\n      <td>3 Musketeers</td>\n      <td>1</td>\n      <td>0</td>\n      <td>0</td>\n      <td>0</td>\n      <td>1</td>\n      <td>0</td>\n      <td>0</td>\n      <td>1</td>\n      <td>0</td>\n      <td>0.60</td>\n      <td>0.51</td>\n      <td>67.60</td>\n      <td>2</td>\n    </tr>\n    <tr>\n      <th>2</th>\n      <td>One dime</td>\n      <td>0</td>\n      <td>0</td>\n      <td>0</td>\n      <td>0</td>\n      <td>0</td>\n      <td>0</td>\n      <td>0</td>\n      <td>0</td>\n      <td>0</td>\n      <td>0.01</td>\n      <td>0.12</td>\n      <td>32.26</td>\n      <td>0</td>\n    </tr>\n    <tr>\n      <th>3</th>\n      <td>One quarter</td>\n      <td>0</td>\n      <td>0</td>\n      <td>0</td>\n      <td>0</td>\n      <td>0</td>\n      <td>0</td>\n      <td>0</td>\n      <td>0</td>\n      <td>0</td>\n      <td>0.01</td>\n      <td>0.51</td>\n      <td>46.12</td>\n      <td>0</td>\n    </tr>\n    <tr>\n      <th>4</th>\n      <td>Air Heads</td>\n      <td>0</td>\n      <td>1</td>\n      <td>0</td>\n      <td>0</td>\n      <td>0</td>\n      <td>0</td>\n      <td>0</td>\n      <td>0</td>\n      <td>0</td>\n      <td>0.91</td>\n      <td>0.51</td>\n      <td>52.34</td>\n      <td>1</td>\n    </tr>\n  </tbody>\n</table>\n</div>"
     },
     "metadata": {}
    }
   ],
   "execution_count": 14
  },
  {
   "cell_type": "code",
   "metadata": {
    "tags": [],
    "cell_id": "00014-c02bed3e-2177-4191-a349-f48d16879f86",
    "deepnote_to_be_reexecuted": false,
    "source_hash": "a44dac7c",
    "execution_start": 1637206793251,
    "execution_millis": 16,
    "deepnote_cell_type": "code"
   },
   "source": "# Etiquetas basada en cada uno de los clusters\ndisplay(data['Labels Mean Shift'].value_counts().sort_values(ascending=False))",
   "outputs": [
    {
     "data": {
      "text/plain": "0    40\n2    24\n1    21\nName: Labels Mean Shift, dtype: int64"
     },
     "metadata": {},
     "output_type": "display_data"
    }
   ],
   "execution_count": 15
  },
  {
   "cell_type": "code",
   "metadata": {
    "tags": [],
    "cell_id": "00013-d83cb706-dfcc-4de6-b584-c83539d3efb8",
    "deepnote_to_be_reexecuted": false,
    "source_hash": "b02c1cce",
    "execution_start": 1637206793327,
    "execution_millis": 2,
    "deepnote_cell_type": "code"
   },
   "source": "\"\"\"\"\n1. Importamos las métricas\n2. Evaluamos nuestro modelo\n\"\"\"\n# Importamos las métricas\nfrom sklearn import metrics\n\n# Métricas\nsilueta = round(metrics.silhouette_score(X, etiquetas_mean_shift, metric=\"sqeuclidean\"),2)\ndisplay(f'Silhouette Score: {silueta}')",
   "outputs": [
    {
     "data": {
      "text/plain": "'Silhouette Score: 0.59'"
     },
     "metadata": {},
     "output_type": "display_data"
    }
   ],
   "execution_count": 16
  },
  {
   "cell_type": "code",
   "source": "# Exportamos nuestros datos a Excel\ndata.to_csv(r'/work/Proyectos de Machine Learning/candies.csv', index=False)",
   "metadata": {
    "tags": [],
    "cell_id": "00017-08dc8260-0c5f-4f3d-802b-27e5eb1ce0f6",
    "deepnote_to_be_reexecuted": false,
    "source_hash": "3b433c2b",
    "execution_start": 1637206793327,
    "execution_millis": 1,
    "deepnote_cell_type": "code"
   },
   "outputs": [],
   "execution_count": 17
  },
  {
   "cell_type": "markdown",
   "source": "<a style='text-decoration:none;line-height:16px;display:flex;color:#5B5B62;padding:10px;justify-content:end;' href='https://deepnote.com?utm_source=created-in-deepnote-cell&projectId=4ec84517-f553-446b-9032-1da3132bd62a' target=\"_blank\">\n<img alt='Created in deepnote.com' style='display:inline;max-height:16px;margin:0px;margin-right:7.5px;' src='data:image/svg+xml;base64,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' > </img>\nCreated in <span style='font-weight:600;margin-left:4px;'>Deepnote</span></a>",
   "metadata": {
    "tags": [],
    "created_in_deepnote_cell": true,
    "deepnote_cell_type": "markdown"
   }
  }
 ],
 "nbformat": 4,
 "nbformat_minor": 2,
 "metadata": {
  "orig_nbformat": 2,
  "deepnote": {
   "is_reactive": false
  },
  "deepnote_notebook_id": "f168be5e-af41-4d33-ad17-679c8f1c50e8",
  "deepnote_execution_queue": []
 }
}