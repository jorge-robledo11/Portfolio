{
 "cells": [
  {
   "cell_type": "markdown",
   "metadata": {},
   "source": [
    "# **Redes Neuronales Artificiales / Binary** "
   ]
  },
  {
   "cell_type": "markdown",
   "metadata": {},
   "source": [
    "## **1. Initial Configuration**"
   ]
  },
  {
   "cell_type": "code",
   "execution_count": 1,
   "metadata": {},
   "outputs": [
    {
     "data": {
      "text/html": [
       "<div>\n",
       "<style scoped>\n",
       "    .dataframe tbody tr th:only-of-type {\n",
       "        vertical-align: middle;\n",
       "    }\n",
       "\n",
       "    .dataframe tbody tr th {\n",
       "        vertical-align: top;\n",
       "    }\n",
       "\n",
       "    .dataframe thead th {\n",
       "        text-align: right;\n",
       "    }\n",
       "</style>\n",
       "<table border=\"1\" class=\"dataframe\">\n",
       "  <thead>\n",
       "    <tr style=\"text-align: right;\">\n",
       "      <th></th>\n",
       "      <th>RowNumber</th>\n",
       "      <th>CustomerId</th>\n",
       "      <th>Surname</th>\n",
       "      <th>CreditScore</th>\n",
       "      <th>Geography</th>\n",
       "      <th>Gender</th>\n",
       "      <th>Age</th>\n",
       "      <th>Tenure</th>\n",
       "      <th>Balance</th>\n",
       "      <th>NumOfProducts</th>\n",
       "      <th>HasCrCard</th>\n",
       "      <th>IsActiveMember</th>\n",
       "      <th>EstimatedSalary</th>\n",
       "      <th>Exited</th>\n",
       "    </tr>\n",
       "  </thead>\n",
       "  <tbody>\n",
       "    <tr>\n",
       "      <th>0</th>\n",
       "      <td>1</td>\n",
       "      <td>15634602</td>\n",
       "      <td>Hargrave</td>\n",
       "      <td>619</td>\n",
       "      <td>France</td>\n",
       "      <td>Female</td>\n",
       "      <td>42</td>\n",
       "      <td>2</td>\n",
       "      <td>0.00</td>\n",
       "      <td>1</td>\n",
       "      <td>1</td>\n",
       "      <td>1</td>\n",
       "      <td>101348.88</td>\n",
       "      <td>1</td>\n",
       "    </tr>\n",
       "    <tr>\n",
       "      <th>1</th>\n",
       "      <td>2</td>\n",
       "      <td>15647311</td>\n",
       "      <td>Hill</td>\n",
       "      <td>608</td>\n",
       "      <td>Spain</td>\n",
       "      <td>Female</td>\n",
       "      <td>41</td>\n",
       "      <td>1</td>\n",
       "      <td>83807.86</td>\n",
       "      <td>1</td>\n",
       "      <td>0</td>\n",
       "      <td>1</td>\n",
       "      <td>112542.58</td>\n",
       "      <td>0</td>\n",
       "    </tr>\n",
       "    <tr>\n",
       "      <th>2</th>\n",
       "      <td>3</td>\n",
       "      <td>15619304</td>\n",
       "      <td>Onio</td>\n",
       "      <td>502</td>\n",
       "      <td>France</td>\n",
       "      <td>Female</td>\n",
       "      <td>42</td>\n",
       "      <td>8</td>\n",
       "      <td>159660.80</td>\n",
       "      <td>3</td>\n",
       "      <td>1</td>\n",
       "      <td>0</td>\n",
       "      <td>113931.57</td>\n",
       "      <td>1</td>\n",
       "    </tr>\n",
       "    <tr>\n",
       "      <th>3</th>\n",
       "      <td>4</td>\n",
       "      <td>15701354</td>\n",
       "      <td>Boni</td>\n",
       "      <td>699</td>\n",
       "      <td>France</td>\n",
       "      <td>Female</td>\n",
       "      <td>39</td>\n",
       "      <td>1</td>\n",
       "      <td>0.00</td>\n",
       "      <td>2</td>\n",
       "      <td>0</td>\n",
       "      <td>0</td>\n",
       "      <td>93826.63</td>\n",
       "      <td>0</td>\n",
       "    </tr>\n",
       "    <tr>\n",
       "      <th>4</th>\n",
       "      <td>5</td>\n",
       "      <td>15737888</td>\n",
       "      <td>Mitchell</td>\n",
       "      <td>850</td>\n",
       "      <td>Spain</td>\n",
       "      <td>Female</td>\n",
       "      <td>43</td>\n",
       "      <td>2</td>\n",
       "      <td>125510.82</td>\n",
       "      <td>1</td>\n",
       "      <td>1</td>\n",
       "      <td>1</td>\n",
       "      <td>79084.10</td>\n",
       "      <td>0</td>\n",
       "    </tr>\n",
       "  </tbody>\n",
       "</table>\n",
       "</div>"
      ],
      "text/plain": [
       "   RowNumber  CustomerId   Surname  CreditScore Geography  Gender  Age  \\\n",
       "0          1    15634602  Hargrave          619    France  Female   42   \n",
       "1          2    15647311      Hill          608     Spain  Female   41   \n",
       "2          3    15619304      Onio          502    France  Female   42   \n",
       "3          4    15701354      Boni          699    France  Female   39   \n",
       "4          5    15737888  Mitchell          850     Spain  Female   43   \n",
       "\n",
       "   Tenure    Balance  NumOfProducts  HasCrCard  IsActiveMember  \\\n",
       "0       2       0.00              1          1               1   \n",
       "1       1   83807.86              1          0               1   \n",
       "2       8  159660.80              3          1               0   \n",
       "3       1       0.00              2          0               0   \n",
       "4       2  125510.82              1          1               1   \n",
       "\n",
       "   EstimatedSalary  Exited  \n",
       "0        101348.88       1  \n",
       "1        112542.58       0  \n",
       "2        113931.57       1  \n",
       "3         93826.63       0  \n",
       "4         79084.10       0  "
      ]
     },
     "execution_count": 1,
     "metadata": {},
     "output_type": "execute_result"
    }
   ],
   "source": [
    "# Libraries\n",
    "import numpy as np\n",
    "import matplotlib.pyplot as plt\n",
    "import pandas as pd\n",
    "import math\n",
    "import tensorflow as tf\n",
    "import seaborn as sns\n",
    "\n",
    "# Load dataset\n",
    "url = 'https://raw.githubusercontent.com/jorge-robledo11/Datasets/main/Datasets/Churn_Modelling.csv'\n",
    "dataset = pd.read_csv(url, encoding='utf-8')\n",
    "dataset.head()"
   ]
  },
  {
   "cell_type": "code",
   "execution_count": 2,
   "metadata": {},
   "outputs": [],
   "source": [
    "# Evitar warnings\n",
    "import warnings\n",
    "warnings.filterwarnings('ignore')\n",
    "\n",
    "# Seed\n",
    "seed = 1337\n",
    "np.random.seed(seed)\n",
    "\n",
    "# Dataset copy\n",
    "data = dataset.copy()"
   ]
  },
  {
   "cell_type": "markdown",
   "metadata": {},
   "source": [
    "### **Split into features and target**"
   ]
  },
  {
   "cell_type": "code",
   "execution_count": 3,
   "metadata": {},
   "outputs": [],
   "source": [
    "# Split into features 'X' and target 'y'\n",
    "array = data.values\n",
    "X = array[:, 3:13]\n",
    "y = array[:, 13]"
   ]
  },
  {
   "cell_type": "markdown",
   "metadata": {},
   "source": [
    "## **2. Data Preprocessing**"
   ]
  },
  {
   "cell_type": "code",
   "execution_count": 4,
   "metadata": {},
   "outputs": [
    {
     "name": "stdout",
     "output_type": "stream",
     "text": [
      "Bias\n"
     ]
    },
    {
     "data": {
      "text/plain": [
       "8    -0.901812\n",
       "3    -0.183596\n",
       "6    -0.141109\n",
       "2    -0.071607\n",
       "9    -0.060437\n",
       "10    0.002085\n",
       "5     0.010991\n",
       "7     0.745568\n",
       "4     1.011320\n",
       "0     1.149340\n",
       "1     1.169106\n",
       "dtype: float64"
      ]
     },
     "execution_count": 4,
     "metadata": {},
     "output_type": "execute_result"
    }
   ],
   "source": [
    "# Coding categorical data\n",
    "from sklearn.preprocessing import LabelEncoder, OneHotEncoder\n",
    "from sklearn.compose import ColumnTransformer\n",
    "\n",
    "# Labeling\n",
    "le = LabelEncoder()\n",
    "X[:, 1] = le.fit_transform(X[:, 1])\n",
    "X[:, 2] = le.fit_transform(X[:, 2])\n",
    "\n",
    "# Transforming\n",
    "\"\"\"\n",
    "Transformamos la columna 1 del dataset con un One-Hot encoding\n",
    "\"\"\"\n",
    "ct = ColumnTransformer([('Country', OneHotEncoder(handle_unknown='ignore'), [1])], remainder='passthrough', n_jobs=-1)\n",
    "X = ct.fit_transform(X)\n",
    "X = X[:, 1:]\n",
    "\n",
    "X = X.astype(float)\n",
    "y = y.astype(int)\n",
    "\n",
    "# Bias\n",
    "print('Bias')\n",
    "X = pd.DataFrame(X)\n",
    "X.skew().sort_values()"
   ]
  },
  {
   "cell_type": "markdown",
   "metadata": {},
   "source": [
    "### **Scale and reduce bias**"
   ]
  },
  {
   "cell_type": "code",
   "execution_count": 5,
   "metadata": {},
   "outputs": [
    {
     "name": "stdout",
     "output_type": "stream",
     "text": [
      "Bias\n"
     ]
    },
    {
     "data": {
      "text/plain": [
       "8    -0.901812\n",
       "6    -0.555956\n",
       "10   -0.290537\n",
       "3    -0.183596\n",
       "5    -0.176025\n",
       "9    -0.060437\n",
       "2    -0.025403\n",
       "4    -0.002495\n",
       "7     0.151289\n",
       "0     1.149340\n",
       "1     1.169106\n",
       "dtype: float64"
      ]
     },
     "execution_count": 5,
     "metadata": {},
     "output_type": "execute_result"
    }
   ],
   "source": [
    "# Numerical\n",
    "from sklearn.pipeline import Pipeline\n",
    "from sklearn.preprocessing import MinMaxScaler, StandardScaler, RobustScaler\n",
    "from sklearn.impute import SimpleImputer, KNNImputer\n",
    "from sklearn.preprocessing import PowerTransformer\n",
    "\n",
    "numerical_pipe = Pipeline([\n",
    "    ('Imputer', KNNImputer()),\n",
    "    ('Transfomer', PowerTransformer()),\n",
    "    ('Scaler', StandardScaler())\n",
    "])\n",
    "\n",
    "# Categorical\n",
    "from sklearn.compose import ColumnTransformer\n",
    "from sklearn.preprocessing import OneHotEncoder\n",
    "\n",
    "numerical = list(X.select_dtypes(exclude=['object']))\n",
    "categorical = list(X.select_dtypes(include=['object']))\n",
    "\n",
    "# Transformer\n",
    "full_pipe = ColumnTransformer([\n",
    "    ('Números', numerical_pipe, numerical),\n",
    "    ('Categorías', OneHotEncoder(), categorical)\n",
    "])\n",
    "\n",
    "# Transform\n",
    "X = full_pipe.fit_transform(X.values)\n",
    "\n",
    "# Bias\n",
    "print('Bias')\n",
    "X = pd.DataFrame(X)\n",
    "X.skew().sort_values()"
   ]
  },
  {
   "cell_type": "markdown",
   "metadata": {},
   "source": [
    "### **Split into train and test set**"
   ]
  },
  {
   "cell_type": "code",
   "execution_count": 6,
   "metadata": {},
   "outputs": [
    {
     "name": "stdout",
     "output_type": "stream",
     "text": [
      "Train data: (9000, 11) (9000, 1)\n",
      "Test data: (1000, 11) (1000, 1)\n",
      "\n",
      "Train data: (9000, 11) (9000, 1)\n",
      "Test data: (500, 11) (500, 1)\n",
      "Validation data: (500, 11) (500, 1)\n"
     ]
    }
   ],
   "source": [
    "from sklearn.model_selection import train_test_split\n",
    "from sklearn.model_selection import KFold\n",
    "\n",
    "# K-Fold\n",
    "kfold = KFold(n_splits=10, shuffle=True, random_state=seed)\n",
    "\n",
    "# Casting to Dataframe\n",
    "X = pd.DataFrame(X)\n",
    "y = pd.DataFrame(y)\n",
    "\n",
    "for train, test in kfold.split(X, y):\n",
    "\n",
    "    X_train = X.iloc[train]\n",
    "    X_test = X.iloc[test]\n",
    "    y_train = y.iloc[train]\n",
    "    y_test = y.iloc[test]\n",
    "\n",
    "# Train & Test\n",
    "print('Train data:', X_train.shape, y_train.shape)\n",
    "print('Test data:', X_test.shape, y_test.shape)\n",
    "print()\n",
    "\n",
    "# Test & Validation\n",
    "X_val, X_test, y_val, y_test = train_test_split(X_test, y_test, test_size=0.5, random_state=seed, shuffle=True)\n",
    "print('Train data:', X_train.shape, y_train.shape)\n",
    "print('Test data:', X_test.shape, y_test.shape)\n",
    "print('Validation data:', X_val.shape, y_val.shape)\n",
    "\n",
    "# Casting to Numpy array\n",
    "X_train = np.array(X_train)\n",
    "X_test = np.array(X_test)\n",
    "X_val = np.array(X_val)\n",
    "y_train = np.array(y_train)\n",
    "y_test = np.array(y_test)\n",
    "y_val = np.array(y_val)"
   ]
  },
  {
   "cell_type": "markdown",
   "metadata": {},
   "source": [
    "## **3. Build model**"
   ]
  },
  {
   "cell_type": "code",
   "execution_count": 7,
   "metadata": {},
   "outputs": [
    {
     "name": "stdout",
     "output_type": "stream",
     "text": [
      "dict_keys(['loss', 'accuracy', 'val_loss', 'val_accuracy'])\n",
      "Loss: 38.82%\n",
      "Accuracy: 83.2%\n"
     ]
    }
   ],
   "source": [
    "from keras import Sequential\n",
    "from keras.layers import Dense, Dropout\n",
    "from keras.constraints import maxnorm\n",
    "from keras.optimizers import gradient_descent_v2\n",
    "\n",
    "# Baseline Model\n",
    "model = Sequential()\n",
    "model.add(Dropout(0.2, input_shape=(11,)))\n",
    "model.add(Dense(32, activation='relu', kernel_constraint=maxnorm(3)))\n",
    "model.add(Dropout(0.2))\n",
    "model.add(Dense(32, activation='relu', kernel_constraint=maxnorm(3)))\n",
    "model.add(Dropout(0.2))\n",
    "model.add(Dense(1, activation='sigmoid'))\n",
    "\n",
    "# Stochastic Gradient Descent / Optimizer\n",
    "sgd = gradient_descent_v2.SGD(lr=0.01, momentum=0.9)\n",
    "\n",
    "# Compile\n",
    "model.compile(loss='binary_crossentropy',\n",
    "                optimizer=sgd,\n",
    "                metrics=['accuracy'])\n",
    "\n",
    "# Fit\n",
    "history = model.fit(X, y, validation_split=0.3, batch_size=32, epochs=200, verbose=0)\n",
    "\n",
    "# Dictionary all data in history\n",
    "print(history.history.keys())\n",
    "\n",
    "# Evaluate\n",
    "eval = model.evaluate(X_test, y_test, batch_size=32, verbose=0)\n",
    "print(f'Loss: {round(eval[0]*100, 2)}%')\n",
    "print(f'Accuracy: {round(eval[1]*100, 2)}%')"
   ]
  },
  {
   "cell_type": "markdown",
   "metadata": {},
   "source": [
    "### **Train Analysis**"
   ]
  },
  {
   "cell_type": "code",
   "execution_count": 8,
   "metadata": {},
   "outputs": [
    {
     "data": {
      "image/png": "[encoded data removed]",
      "text/plain": [
       "<Figure size 432x288 with 1 Axes>"
      ]
     },
     "metadata": {
      "needs_background": "light"
     },
     "output_type": "display_data"
    },
    {
     "data": {
      "image/png": "[encoded data removed]",
      "text/plain": [
       "<Figure size 432x288 with 1 Axes>"
      ]
     },
     "metadata": {},
     "output_type": "display_data"
    }
   ],
   "source": [
    "%matplotlib inline\n",
    "# Summarize history for accuracy\n",
    "plt.plot(history.history['accuracy'], c='red')\n",
    "plt.plot(history.history['val_accuracy'], c='blue')\n",
    "plt.title('Accuracy del modelo')\n",
    "plt.ylabel('Accuracy')\n",
    "plt.xlabel('Epochs')\n",
    "plt.legend(['Entrenamiento', 'Validación'], loc='upper left')\n",
    "sns.set_theme(style='white', palette='deep', color_codes=True)\n",
    "plt.show();\n",
    "\n",
    "# Summarize history for loss\n",
    "plt.plot(history.history['loss'], c='red')\n",
    "plt.plot(history.history['val_loss'], c='blue')\n",
    "plt.title('Loss del modelo')\n",
    "plt.ylabel('Loss')\n",
    "plt.xlabel('Epochs')\n",
    "plt.legend(['Entrenamiento', 'Validación'], loc='upper left')\n",
    "sns.set_theme(style='white', palette='deep', color_codes=True)\n",
    "plt.show();"
   ]
  },
  {
   "cell_type": "markdown",
   "metadata": {},
   "source": [
    "## **4. Evaluate**"
   ]
  },
  {
   "cell_type": "code",
   "execution_count": 9,
   "metadata": {},
   "outputs": [
    {
     "name": "stdout",
     "output_type": "stream",
     "text": [
      "Baseline model\n",
      "Accuracy: 85.07%\n",
      "Variance: 0.57%\n"
     ]
    }
   ],
   "source": [
    "from keras.wrappers.scikit_learn import KerasClassifier\n",
    "from sklearn.model_selection import cross_val_score, StratifiedKFold\n",
    "\n",
    "# Baseline Model\n",
    "def baseline_model():\n",
    "    \n",
    "    model = Sequential()\n",
    "    model.add(Dropout(0.2, input_shape=(11,)))\n",
    "    model.add(Dense(32, activation='relu', kernel_constraint=maxnorm(3)))\n",
    "    model.add(Dropout(0.2))\n",
    "    model.add(Dense(32, activation='relu', kernel_constraint=maxnorm(3)))\n",
    "    model.add(Dropout(0.2))\n",
    "    model.add(Dense(32, activation='relu', kernel_constraint=maxnorm(3)))\n",
    "    model.add(Dropout(0.2))\n",
    "    model.add(Dense(1, activation='sigmoid'))\n",
    "\n",
    "    # Stochastic Gradient Descent / Optimizer\n",
    "    sgd = gradient_descent_v2.SGD(lr=0.01, momentum=0.9)\n",
    "\n",
    "    # Compile\n",
    "    model.compile(loss='binary_crossentropy',\n",
    "                    optimizer=sgd,\n",
    "                    metrics=['accuracy'])\n",
    "\n",
    "    return model\n",
    "\n",
    "# Stratified K-Fold\n",
    "skfold = StratifiedKFold(n_splits=10, shuffle=True, random_state=seed)\n",
    "\n",
    "# Classifier\n",
    "classifier = KerasClassifier(build_fn=baseline_model, batch_size=32, epochs=200)\n",
    "\n",
    "# Results\n",
    "accuracies = cross_val_score(estimator=classifier, X=X_train, y=y_train, cv=skfold, n_jobs=-1)\n",
    "means = np.mean(accuracies)*100\n",
    "variances = np.std(accuracies)*100\n",
    "\n",
    "print('Baseline model')\n",
    "print(f'Accuracy: {round(means, 2)}%')\n",
    "print(f'Variance: {round(variances, 2)}%')"
   ]
  },
  {
   "cell_type": "markdown",
   "metadata": {},
   "source": [
    "### **Predict**"
   ]
  },
  {
   "cell_type": "code",
   "execution_count": 10,
   "metadata": {},
   "outputs": [],
   "source": [
    "# Prediction\n",
    "y_pred = model.predict(X_test)\n",
    "y_pred = (y_pred > 0.5)"
   ]
  },
  {
   "cell_type": "markdown",
   "metadata": {},
   "source": [
    "### **Confusion Matrix**"
   ]
  },
  {
   "cell_type": "code",
   "execution_count": 11,
   "metadata": {},
   "outputs": [
    {
     "data": {
      "image/png": "[encoded data removed]",
      "text/plain": [
       "<Figure size 576x504 with 2 Axes>"
      ]
     },
     "metadata": {},
     "output_type": "display_data"
    }
   ],
   "source": [
    "from sklearn.metrics import confusion_matrix\n",
    "\n",
    "cm = confusion_matrix(y_test, y_pred)\n",
    "\n",
    "# Labels\n",
    "class_names = [0,1]\n",
    "fig, ax = plt.subplots(figsize=(8,7)) \n",
    "tick_marks = np.arange(len(class_names))\n",
    "plt.xticks(tick_marks, class_names)\n",
    "plt.yticks(tick_marks, class_names) \n",
    "\n",
    "# Confusion Matrix\n",
    "sns.heatmap(pd.DataFrame(cm), annot = True, cmap='YlOrRd', fmt='g')\n",
    "ax.xaxis.set_label_position('top')\n",
    "plt.title('Matriz de Confusión', y=1.1, fontsize=14)\n",
    "plt.ylabel('Etiqueta Actual', fontsize=12)\n",
    "plt.xlabel('Etiqueta de Predicción', fontsize=12)\n",
    "plt.tight_layout();"
   ]
  },
  {
   "cell_type": "code",
   "execution_count": 12,
   "metadata": {},
   "outputs": [
    {
     "name": "stdout",
     "output_type": "stream",
     "text": [
      "              precision    recall  f1-score   support\n",
      "\n",
      "           0       0.83      0.95      0.88       410\n",
      "           1       0.29      0.09      0.14        90\n",
      "\n",
      "    accuracy                           0.80       500\n",
      "   macro avg       0.56      0.52      0.51       500\n",
      "weighted avg       0.73      0.80      0.75       500\n",
      "\n",
      "Precision Score: 72.9%\n",
      "Accuracy Score: 79.6%\n",
      "F1 Score Score: 74.96%\n",
      "Kappa Score: 5.49%\n"
     ]
    }
   ],
   "source": [
    "from sklearn.metrics import classification_report\n",
    "from sklearn.metrics import precision_score\n",
    "from sklearn.metrics import accuracy_score\n",
    "from sklearn.metrics import cohen_kappa_score\n",
    "from sklearn.metrics import f1_score\n",
    "\n",
    "# Validation Set\n",
    "print(classification_report(y_val, y_pred))\n",
    "print(f'Precision Score: {round(precision_score(y_val, y_pred, average=\"weighted\")*100, 2)}%')\n",
    "print(f'Accuracy Score: {round(accuracy_score(y_val, y_pred)*100, 2)}%')\n",
    "print(f'F1 Score Score: {round(f1_score(y_val, y_pred, average=\"weighted\")*100, 2)}%')\n",
    "print(f'Kappa Score: {round(cohen_kappa_score(y_val, y_pred)*100, 2)}%')"
   ]
  }
 ],
 "metadata": {
  "interpreter": {
   "hash": "2ec14317ea0ff09be3fa4525b0755cb9a534d91c7a73f611d7805ebe1951320a"
  },
  "kernelspec": {
   "display_name": "Python 3.10.0 ('lynn')",
   "language": "python",
   "name": "python3"
  },
  "language_info": {
   "codemirror_mode": {
    "name": "ipython",
    "version": 3
   },
   "file_extension": ".py",
   "mimetype": "text/x-python",
   "name": "python",
   "nbconvert_exporter": "python",
   "pygments_lexer": "ipython3",
   "version": "3.10.0"
  },
  "orig_nbformat": 4
 },
 "nbformat": 4,
 "nbformat_minor": 2
}
