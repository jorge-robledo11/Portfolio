{
 "cells": [
  {
   "cell_type": "markdown",
   "metadata": {},
   "source": [
    "# **CNN**"
   ]
  },
  {
   "cell_type": "code",
   "execution_count": 24,
   "metadata": {},
   "outputs": [],
   "source": [
    "# Parte 1 - Construir la arquitectura de una CNN\n",
    "from keras import Sequential\n",
    "from keras.layers import Conv2D\n",
    "from keras.layers import MaxPooling2D\n",
    "from keras.layers import Flatten\n",
    "from keras.layers import Dense\n",
    "\n",
    "# Libraries\n",
    "import matplotlib.pyplot as plt\n",
    "import seaborn as sns\n",
    "import numpy as np"
   ]
  },
  {
   "cell_type": "code",
   "execution_count": 3,
   "metadata": {},
   "outputs": [],
   "source": [
    "# Definir el modelo\n",
    "model = Sequential()\n",
    "\n",
    "# Paso 1 => Convolución (Convolution)\n",
    "model.add(Conv2D(filters=32, kernel_size=(3,3), input_shape=(64,64,3), activation='relu'))\n",
    "\n",
    "# Paso 2 => Agrupación (Max Pooling)\n",
    "model.add(MaxPooling2D(pool_size=(2,2)))\n",
    "\n",
    "# Paso 3 => Aplanado (Flattening)\n",
    "model.add(Flatten())\n",
    "\n",
    "# Paso 4 => Sinapsis (Full conection)\n",
    "model.add(Dense(128, activation='relu'))\n",
    "\n",
    "# Paso 5 => Capa de Salida (Output layer)\n",
    "model.add(Dense(1, activation='sigmoid'))\n",
    "\n",
    "# Paso 6 => Compilar (Compile)\n",
    "model.compile(optimizer='adam',\n",
    "              loss='binary_crossentropy',\n",
    "              metrics=['accuracy'])"
   ]
  },
  {
   "cell_type": "code",
   "execution_count": 28,
   "metadata": {},
   "outputs": [],
   "source": [
    "# Segundo modelo\n",
    "model = Sequential()\n",
    "\n",
    "# Paso 1 => Convolución (Convolution)\n",
    "model.add(Conv2D(filters=32, kernel_size=(3,3), input_shape=(64,64,3), activation='relu'))\n",
    "\n",
    "# Paso 2 => Agrupación (Max Pooling)\n",
    "model.add(MaxPooling2D(pool_size=(2,2)))\n",
    "\n",
    "# Añadiendo otra capa de Convolución\n",
    "model.add(Conv2D(filters=32, kernel_size=(3,3), activation='relu'))\n",
    "\n",
    "# Añadiendo otra capa de Max Pooling\n",
    "model.add(MaxPooling2D(pool_size=(2,2)))\n",
    "\n",
    "# Añadiendo otra capa de Convolución\n",
    "model.add(Conv2D(filters=64, kernel_size=(3,3), activation='relu'))\n",
    "\n",
    "# Añadiendo otra capa de Max Pooling\n",
    "model.add(MaxPooling2D(pool_size=(2,2)))\n",
    "\n",
    "# Paso 3 => Aplanado (Flattening)\n",
    "model.add(Flatten())\n",
    "\n",
    "# Paso 4 => Sinapsis (Full conection)\n",
    "model.add(Dense(128, activation='relu'))\n",
    "\n",
    "# Añadiendo otra capa oculta\n",
    "model.add(Dense(128, activation='relu'))\n",
    "\n",
    "# Paso 5 => Capa de Salida (Output layer)\n",
    "model.add(Dense(1, activation='sigmoid'))\n",
    "\n",
    "# Paso 6 => Compilar (Compile)\n",
    "model.compile(optimizer='adam',\n",
    "              loss='binary_crossentropy',\n",
    "              metrics=['accuracy'])"
   ]
  },
  {
   "cell_type": "code",
   "execution_count": 15,
   "metadata": {},
   "outputs": [
    {
     "name": "stdout",
     "output_type": "stream",
     "text": [
      "Found 8000 images belonging to 2 classes.\n",
      "Found 2000 images belonging to 2 classes.\n"
     ]
    },
    {
     "data": {
      "text/plain": [
       "<keras.callbacks.History at 0x276ceedd4b0>"
      ]
     },
     "execution_count": 15,
     "metadata": {},
     "output_type": "execute_result"
    }
   ],
   "source": [
    "# Parte 2 - Ajustar la CNN a las imágenes para entrenar\n",
    "from keras.preprocessing.image import ImageDataGenerator\n",
    "\n",
    "# Image Data Generator\n",
    "train_datagen = ImageDataGenerator(rescale=1./255,\n",
    "                                   shear_range=0.2,\n",
    "                                   zoom_range=0.2,\n",
    "                                   horizontal_flip=True)\n",
    "\n",
    "test_datagen = ImageDataGenerator(rescale=1./255)\n",
    "\n",
    "# Directories\n",
    "train = 'dataset/training_set'\n",
    "test = 'dataset/test_set'\n",
    "\n",
    "# Dataset dividido en train y test\n",
    "training_dataset = train_datagen.flow_from_directory(train,\n",
    "                                                    target_size=(64, 64),\n",
    "                                                    batch_size=32,\n",
    "                                                    class_mode='binary',\n",
    "                                                    color_mode='grayscale')\n",
    "\n",
    "testing_dataset = test_datagen.flow_from_directory(test,\n",
    "                                                   target_size=(64, 64),\n",
    "                                                   batch_size=32,\n",
    "                                                   class_mode='binary',\n",
    "                                                   color_mode='grayscale')"
   ]
  },
  {
   "cell_type": "code",
   "execution_count": 29,
   "metadata": {},
   "outputs": [
    {
     "name": "stdout",
     "output_type": "stream",
     "text": [
      "63/63 [==============================] - 3s 45ms/step - loss: 0.4862 - accuracy: 0.8160\n"
     ]
    },
    {
     "data": {
      "text/plain": [
       "[0.4861568212509155, 0.8159999847412109]"
      ]
     },
     "execution_count": 29,
     "metadata": {},
     "output_type": "execute_result"
    }
   ],
   "source": [
    "# Fit                                                   \n",
    "model.fit(training_dataset,\n",
    "          epochs=25,\n",
    "          batch_size=128,\n",
    "          validation_data=testing_dataset,\n",
    "          verbose=0)\n",
    "\n",
    "# Evaluate\n",
    "model.evaluate(testing_dataset)"
   ]
  },
  {
   "cell_type": "code",
   "execution_count": 52,
   "metadata": {},
   "outputs": [],
   "source": [
    "from keras.preprocessing import image\n",
    "\n",
    "test_image = image.load_img('dataset/single_prediction/cat_or_dog_3.jpg', target_size = (64, 64))\n",
    "test_image = image.img_to_array(test_image)\n",
    "test_image = np.expand_dims(test_image, axis = 0)\n",
    "\n",
    "result = model.predict(test_image)\n",
    "training_dataset.class_indices\n",
    "\n",
    "if result[0][0] == 1:\n",
    "    prediction = 'Dog'\n",
    "else:\n",
    "    prediction = 'Cat'"
   ]
  },
  {
   "cell_type": "code",
   "execution_count": 56,
   "metadata": {},
   "outputs": [
    {
     "data": {
      "text/plain": [
       "1.0"
      ]
     },
     "execution_count": 56,
     "metadata": {},
     "output_type": "execute_result"
    }
   ],
   "source": [
    "result[0][0]"
   ]
  }
 ],
 "metadata": {
  "interpreter": {
   "hash": "2ec14317ea0ff09be3fa4525b0755cb9a534d91c7a73f611d7805ebe1951320a"
  },
  "kernelspec": {
   "display_name": "Python 3.10.0 ('lynn')",
   "language": "python",
   "name": "python3"
  },
  "language_info": {
   "codemirror_mode": {
    "name": "ipython",
    "version": 3
   },
   "file_extension": ".py",
   "mimetype": "text/x-python",
   "name": "python",
   "nbconvert_exporter": "python",
   "pygments_lexer": "ipython3",
   "version": "3.10.0"
  },
  "orig_nbformat": 4
 },
 "nbformat": 4,
 "nbformat_minor": 2
}
