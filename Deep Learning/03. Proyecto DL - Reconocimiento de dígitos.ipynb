{
  "cells": [
    {
      "cell_type": "markdown",
      "metadata": {
        "id": "lTgtXc57PtW2"
      },
      "source": [
        "<h1><font color=\"#e61500\" size=6>Deep Learning con Python y Keras</font></h1>\n",
        "\n",
        "<h1><font color=\"#e61500\" size=5>Redes Neuronales Convolucionales</font></h1>\n",
        "\n",
        "<h1><font color=\"#e61500\" size=4>Reconocimiento de dígitos</font></h1>\n",
        "\n",
        "<br><br>\n",
        "<div style=\"text-align: right\">\n",
        "<font color=\"#e61500\" size=3>Jorge Andrés Robledo Ariza</font><br>\n",
        "\n",
        "</div>"
      ]
    },
    {
      "cell_type": "markdown",
      "metadata": {
        "id": "63J5DhyJPtW6"
      },
      "source": [
        "---\n",
        "<a id=\"section0\"></a>\n",
        "# <font color=\"#e61500\" size=6> 0. Contexto</font>"
      ]
    },
    {
      "cell_type": "markdown",
      "metadata": {
        "id": "5Yc4gS4zPtW7"
      },
      "source": [
        "En este proyecto, descubrirá cómo desarrollar un modelo de Deep Learning en la tarea de reconocimiento de dígitos manuscritos del MNIST. Después de completar esta clase sabrá:\n",
        "* Cómo cargar MNIST y desarrollar un modelo de red neuronal.\n",
        "* Cómo implementar y evaluar una CNN de línea base para MNIST.\n",
        "* Cómo implementar un modelo de Deep Learning avanzado para MNIST."
      ]
    },
    {
      "cell_type": "code",
      "execution_count": null,
      "metadata": {
        "id": "FzuMFC_fPtW9"
      },
      "outputs": [],
      "source": [
        "import tensorflow as tf\n",
        "# Eliminar warning\n",
        "tf.compat.v1.logging.set_verbosity(tf.compat.v1.logging.ERROR)\n",
        "\n",
        "# Evitar warnings\n",
        "import warnings\n",
        "warnings.filterwarnings('ignore')"
      ]
    },
    {
      "cell_type": "markdown",
      "metadata": {
        "id": "QbeqiOB4PtW-"
      },
      "source": [
        "---\n",
        "<div style=\"text-align: right\"> <font size=5> <a href=\"#indice\"><i class=\"fa fa-arrow-circle-up\" aria-hidden=\"true\" style=\"color:#004D7F\"></i></a></font></div>\n",
        "\n",
        "---"
      ]
    },
    {
      "cell_type": "markdown",
      "metadata": {
        "id": "vMx09Qh6PtW-"
      },
      "source": [
        "<a id=\"section1\"></a>\n",
        "# <font color=\"#e61500\" size=6>1. MNIST dataset</font>"
      ]
    },
    {
      "cell_type": "markdown",
      "metadata": {
        "id": "I-JK7ibhPtW_"
      },
      "source": [
        "MNIST toma imágenes de dígitos de una variedad de documentos escaneados, normalizados en tamaño y centrados.\n",
        "\n",
        "Cada imagen es está dada en blanco y negro con $28 × 28$ píxeles (784 píxeles en total). Se usan 60,000 imágenes para entrenar un modelo y 10,000 imágenes para validarlo.\n",
        "\n",
        "Es una tarea de reconocimiento de dígitos. Como tal, hay 10 dígitos (0 a 9) o 10 clases para predecir. \n",
        "\n",
        "En la página web de Rodrigo Benenson hay una lista de los resultados más avanzados y enlaces a los artículos relevantes sobre el MNIST y otros conjuntos de datos."
      ]
    },
    {
      "cell_type": "markdown",
      "metadata": {
        "id": "OinU1OLePtXB"
      },
      "source": [
        "---\n",
        "<div style=\"text-align: right\"> <font size=5> <a href=\"#indice\"><i class=\"fa fa-arrow-circle-up\" aria-hidden=\"true\" style=\"color:#004D7F\"></i></a></font></div>\n",
        "\n",
        "---"
      ]
    },
    {
      "cell_type": "markdown",
      "metadata": {
        "id": "pCasz-ypPtXB"
      },
      "source": [
        "<a id=\"section2\"></a>\n",
        "# <font color=\"#e61500\" size=6>2. Cargar MNIST</font>"
      ]
    },
    {
      "cell_type": "markdown",
      "metadata": {
        "id": "dHwoR06HPtXC"
      },
      "source": [
        "El conjunto de datos se descarga automáticamente la primera vez que se llama a esta función y se almacena en su directorio de inicio en `~/.keras/datasets/mnist.pkl.gz` como un archivo de 15 megabytes. \n",
        "\n",
        "Primero escribiremos un pequeño script para descargar y visualizar las primeras 4 imágenes mediante la función `mnist.load data()`."
      ]
    },
    {
      "cell_type": "code",
      "execution_count": null,
      "metadata": {
        "colab": {
          "base_uri": "https://localhost:8080/",
          "height": 268
        },
        "id": "-gWIi6jePtXC",
        "outputId": "03c8c250-340c-4143-e1eb-18cc5e831014"
      },
      "outputs": [
        {
          "data": {
            "image/png": "[encoded data removed]",
            "text/plain": [
              "<Figure size 432x288 with 4 Axes>"
            ]
          },
          "metadata": {
            "needs_background": "light"
          },
          "output_type": "display_data"
        }
      ],
      "source": [
        "# Plot ad hoc mnist instances\n",
        "from keras.datasets import mnist\n",
        "import matplotlib.pyplot as plt\n",
        "\n",
        "# Load (downloaded if needed) the MNIST dataset\n",
        "(X_train, y_train), (X_test, y_test) = mnist.load_data()\n",
        "\n",
        "# Plot 4 images as gray scale\n",
        "plt.subplot(221)\n",
        "plt.imshow(X_train[0], cmap=plt.get_cmap('gray'))\n",
        "\n",
        "plt.subplot(222)\n",
        "plt.imshow(X_train[1], cmap=plt.get_cmap('gray'))\n",
        "\n",
        "plt.subplot(223)\n",
        "plt.imshow(X_train[2], cmap=plt.get_cmap('gray'))\n",
        "\n",
        "plt.subplot(224)\n",
        "plt.imshow(X_train[3], cmap=plt.get_cmap('gray'))\n",
        "\n",
        "# Show the plot\n",
        "plt.show();"
      ]
    },
    {
      "cell_type": "markdown",
      "metadata": {
        "id": "9ruhhyE5PtXE"
      },
      "source": [
        "---\n",
        "<div style=\"text-align: right\"> <font size=5> <a href=\"#indice\"><i class=\"fa fa-arrow-circle-up\" aria-hidden=\"true\" style=\"color:#004D7F\"></i></a></font></div>\n",
        "\n",
        "---"
      ]
    },
    {
      "cell_type": "markdown",
      "metadata": {
        "id": "EKrVuB93PtXE"
      },
      "source": [
        "<a id=\"section3\"></a>\n",
        "# <font color=\"#e61500\" size=6>3. MLP de línea base</font>"
      ]
    },
    {
      "cell_type": "markdown",
      "metadata": {
        "id": "W8Cp8WoRPtXF"
      },
      "source": [
        "Vamos a usar un MLP clásico como base para la comparación con modelos de redes neuronales convolucionales. \n",
        "\n",
        "Importamos las clases, funciones y el dataset MNIST."
      ]
    },
    {
      "cell_type": "code",
      "execution_count": null,
      "metadata": {
        "id": "E7KTadW4PtXG"
      },
      "outputs": [],
      "source": [
        "# Baseline MLP for MNIST dataset\n",
        "from keras import Sequential\n",
        "from keras.layers import Dense\n",
        "from keras.utils import np_utils\n",
        "\n",
        "# Load data\n",
        "(X_train, y_train), (X_test, y_test) = mnist.load_data()"
      ]
    },
    {
      "cell_type": "markdown",
      "metadata": {
        "id": "w-wiEu2VPtXG"
      },
      "source": [
        "Para un MLP clásico debemos reducir las imágenes a un vector de píxeles. En este caso, las imágenes de tamaño $28 × 28$ serán vectores de entrada de 784 píxeles. \n",
        "\n",
        "Realizamos esta transformación meidante la función `reshape()`. \n",
        "\n",
        "Los valores de los píxeles son números enteros, por lo que los convertimos a punto flotante para poder normalizarlos."
      ]
    },
    {
      "cell_type": "code",
      "execution_count": null,
      "metadata": {
        "id": "8DAgIvOUPtXH"
      },
      "outputs": [],
      "source": [
        "# Flatten 28*28 images to a 784 vector for each image\n",
        "num_pixels = X_train.shape[1] * X_train.shape[2]\n",
        "\n",
        "X_train = X_train.reshape((X_train.shape[0], num_pixels)).astype('float32')\n",
        "X_test = X_test.reshape((X_test.shape[0], num_pixels)).astype('float32')"
      ]
    },
    {
      "cell_type": "markdown",
      "metadata": {
        "id": "fM9DXwt6PtXH"
      },
      "source": [
        "Los valores de los píxeles están en una escala de grises entre 0 y 255. Podemos normalizar los valores de los píxeles en el rango 0 y 1 dividiendo cada valor por el máximo valor, i.e., 255."
      ]
    },
    {
      "cell_type": "code",
      "execution_count": null,
      "metadata": {
        "id": "kIdEoi-6PtXH"
      },
      "outputs": [],
      "source": [
        "# Normalize inputs from 0-255 to 0-1\n",
        "X_train = X_train / 255\n",
        "X_test = X_test / 255"
      ]
    },
    {
      "cell_type": "markdown",
      "metadata": {
        "id": "j42OfcAPPtXH"
      },
      "source": [
        "Finalmente, la variable de salida es un número entero de 0 a 9. Por tanto, usaremos One-Hot Encoding para transformar el vector de enteros de clase en una matriz binaria. \n",
        "\n",
        "Usaremos para ello la función de Keras `np_utils.to_categorical()`."
      ]
    },
    {
      "cell_type": "code",
      "execution_count": null,
      "metadata": {
        "id": "wGzfwjlsPtXI"
      },
      "outputs": [],
      "source": [
        "# One hot encode outputs\n",
        "y_train = np_utils.to_categorical(y_train)\n",
        "y_test = np_utils.to_categorical(y_test)\n",
        "\n",
        "num_classes = y_train.shape[1]"
      ]
    },
    {
      "cell_type": "markdown",
      "metadata": {
        "id": "pSI5bgM4PtXI"
      },
      "source": [
        "Vamos a definir nuestro modelo:\n",
        "1. El número de entradas será el tamaño máximo de pixeles (784)\n",
        "2. Tendrá una capa oculta con el mismo número de neuronas que entradas (784). \n",
        "3. Se utiliza una función de activación ReLU en la capa oculta. \n",
        "4. Se utiliza una función de activación Softmax en la capa de salida. \n",
        "5. La función de pérdida será `categorical_crossentropy`. \n",
        "6. Utilizaremos ADAM para aprender los pesos.\n",
        "\n",
        "[![baseline-MLP.png](https://i.postimg.cc/QdMZk3cC/baseline-MLP.png)](https://postimg.cc/4mj0sjLR)"
      ]
    },
    {
      "cell_type": "code",
      "execution_count": null,
      "metadata": {
        "id": "U8jmmW6GPtXJ"
      },
      "outputs": [],
      "source": [
        "# Define baseline model\n",
        "\n",
        "def baseline_model():\n",
        "    # Create model\n",
        "    model = Sequential()\n",
        "    model.add(Dense(num_pixels, input_dim=num_pixels, activation='relu'))\n",
        "    model.add(Dense(num_classes, activation='softmax'))\n",
        "    # Compile model\n",
        "    model.compile(loss='categorical_crossentropy',\n",
        "                  optimizer='adam',\n",
        "                  metrics=['accuracy'])\n",
        "    return model"
      ]
    },
    {
      "cell_type": "markdown",
      "metadata": {
        "id": "0_EHttKKPtXJ"
      },
      "source": [
        "Entrenamos y evaluamos el modelo. \n",
        "1. El modelo se ajusta a más de 10 épocas con actualizaciones cada 200 imágenes. \n",
        "2. Los datos de test se utilizan como conjunto de datos de validación.\n",
        "3. Se utiliza un valor `verbose` de 2. \n",
        "4. Evaluamos en test e imprimimos las métricas."
      ]
    },
    {
      "cell_type": "code",
      "execution_count": null,
      "metadata": {
        "colab": {
          "base_uri": "https://localhost:8080/"
        },
        "id": "zaQGZ99mPtXJ",
        "outputId": "ce74d84e-69dd-43f0-ac01-5943979deb0a"
      },
      "outputs": [
        {
          "name": "stdout",
          "output_type": "stream",
          "text": [
            "Epoch 1/10\n",
            "300/300 - 2s - loss: 0.2828 - accuracy: 0.9197 - val_loss: 0.1509 - val_accuracy: 0.9556 - 2s/epoch - 8ms/step\n",
            "Epoch 2/10\n",
            "300/300 - 1s - loss: 0.1162 - accuracy: 0.9669 - val_loss: 0.0896 - val_accuracy: 0.9731 - 1s/epoch - 4ms/step\n",
            "Epoch 3/10\n",
            "300/300 - 1s - loss: 0.0742 - accuracy: 0.9780 - val_loss: 0.0802 - val_accuracy: 0.9739 - 1s/epoch - 4ms/step\n",
            "Epoch 4/10\n",
            "300/300 - 1s - loss: 0.0530 - accuracy: 0.9851 - val_loss: 0.0713 - val_accuracy: 0.9779 - 1s/epoch - 4ms/step\n",
            "Epoch 5/10\n",
            "300/300 - 1s - loss: 0.0389 - accuracy: 0.9887 - val_loss: 0.0686 - val_accuracy: 0.9786 - 1s/epoch - 4ms/step\n",
            "Epoch 6/10\n",
            "300/300 - 1s - loss: 0.0287 - accuracy: 0.9918 - val_loss: 0.0624 - val_accuracy: 0.9800 - 1s/epoch - 4ms/step\n",
            "Epoch 7/10\n",
            "300/300 - 1s - loss: 0.0207 - accuracy: 0.9948 - val_loss: 0.0604 - val_accuracy: 0.9817 - 1s/epoch - 4ms/step\n",
            "Epoch 8/10\n",
            "300/300 - 1s - loss: 0.0158 - accuracy: 0.9962 - val_loss: 0.0655 - val_accuracy: 0.9791 - 1s/epoch - 4ms/step\n",
            "Epoch 9/10\n",
            "300/300 - 1s - loss: 0.0123 - accuracy: 0.9975 - val_loss: 0.0651 - val_accuracy: 0.9808 - 1s/epoch - 4ms/step\n",
            "Epoch 10/10\n",
            "300/300 - 1s - loss: 0.0089 - accuracy: 0.9984 - val_loss: 0.0585 - val_accuracy: 0.9823 - 1s/epoch - 4ms/step\n",
            "Error del modelo de línea base: 1.77%\n"
          ]
        }
      ],
      "source": [
        "# Build the model\n",
        "model = baseline_model()\n",
        "\n",
        "# Fit the model\n",
        "model.fit(X_train, y_train, validation_data=(X_test, y_test), epochs=10, batch_size=200, verbose=2)\n",
        "\n",
        "# Final evaluation of the model\n",
        "score = model.evaluate(X_test, y_test, verbose=0)\n",
        "print(f'Error del modelo de línea base: {round(100 - score[1]*100, 2)}%')"
      ]
    },
    {
      "cell_type": "markdown",
      "metadata": {
        "id": "GdK_WVRcPtXK"
      },
      "source": [
        "---\n",
        "<div style=\"text-align: right\"> <font size=5> <a href=\"#indice\"><i class=\"fa fa-arrow-circle-up\" aria-hidden=\"true\" style=\"color:#004D7F\"></i></a></font></div>\n",
        "\n",
        "---"
      ]
    },
    {
      "cell_type": "markdown",
      "metadata": {
        "id": "OlD9b_qnPtXK"
      },
      "source": [
        "<a id=\"section4\"></a>\n",
        "# <font color=\"#e61500\" size=6>4. CNN para MNIST </font>"
      ]
    },
    {
      "cell_type": "markdown",
      "metadata": {
        "id": "gn-MgX36PtXK"
      },
      "source": [
        "Ahora que hemos visto cómo cargar el conjunto de datos MNIST y entrenar un modelo simple de perceptrón multicapa en él, es hora de desarrollar una red neuronal convolucional más sofisticada o un modelo CNN. \n",
        "\n",
        "Crearemos una CNN simple para MNIST que demuestra cómo utilizar todos los aspectos de una implementación de CNN moderna, incluidas las capas convolucionales, las capas de agrupación y las capas de dropout. \n",
        "\n",
        "El primer paso es importar las clases y funciones necesarias."
      ]
    },
    {
      "cell_type": "code",
      "execution_count": 1,
      "metadata": {
        "id": "oDPvFCpXPtXL"
      },
      "outputs": [],
      "source": [
        "# Simple CNN for the MNIST Dataset\n",
        "from keras import Sequential\n",
        "from keras.layers import Conv2D\n",
        "from keras.layers import MaxPooling2D\n",
        "from keras.layers import Flatten\n",
        "from keras.layers import Dense\n",
        "from keras.layers import Dropout\n",
        "from keras.utils import np_utils\n",
        "from keras.datasets import mnist"
      ]
    },
    {
      "cell_type": "markdown",
      "metadata": {
        "id": "zmMy1keePtXL"
      },
      "source": [
        "En Keras, las capas utilizadas para convoluciones bidimensionales esperan valores de píxeles con las dimensiones `[muestras]-[ancho]-[alto]-[canales]`. \n",
        "\n",
        "En cuanto al canal en MNIST, ya que está dada en escala de grises, la dimensión de píxel se establece en 1."
      ]
    },
    {
      "cell_type": "code",
      "execution_count": 2,
      "metadata": {
        "colab": {
          "base_uri": "https://localhost:8080/"
        },
        "id": "ox-K8MioPtXL",
        "outputId": "1e7c3788-b980-44d4-c838-4c530828f4e6"
      },
      "outputs": [
        {
          "name": "stdout",
          "output_type": "stream",
          "text": [
            "Downloading data from https://storage.googleapis.com/tensorflow/tf-keras-datasets/mnist.npz\n",
            "11493376/11490434 [==============================] - 0s 0us/step\n",
            "11501568/11490434 [==============================] - 0s 0us/step\n"
          ]
        }
      ],
      "source": [
        "# Load data\n",
        "(X_train, y_train), (X_test, y_test) = mnist.load_data()\n",
        "\n",
        "# Reshape to be [samples][width][height][channels]\n",
        "X_train = X_train.reshape((X_train.shape[0], 28, 28, 1)).astype('float32')\n",
        "X_test = X_test.reshape((X_test.shape[0], 28, 28, 1)).astype('float32')"
      ]
    },
    {
      "cell_type": "markdown",
      "metadata": {
        "id": "F3J2ELPMPtXM"
      },
      "source": [
        "Normalizamos los valores de los píxeles en el rango 0 y 1 y realizar OHE en el target."
      ]
    },
    {
      "cell_type": "code",
      "execution_count": 3,
      "metadata": {
        "id": "Tby6jGEcPtXM"
      },
      "outputs": [],
      "source": [
        "# Normalize inputs from 0-255 to 0-1\n",
        "X_train = X_train / 255\n",
        "X_test = X_test / 255\n",
        "\n",
        "# One hot encode outputs\n",
        "y_train = np_utils.to_categorical(y_train)\n",
        "y_test = np_utils.to_categorical(y_test)\n",
        "\n",
        "num_classes = y_train.shape[1]"
      ]
    },
    {
      "cell_type": "markdown",
      "metadata": {
        "id": "OWUpMWFYPtXM"
      },
      "source": [
        "A continuación, definimos nuestro modelo de red neuronal:\n",
        "\n",
        "1. La primera capa oculta es una capa convolucional llamada `Conv2D`. \n",
        "    * Tiene 32 mapas de características, con un tamaño de $5 × 5$ y una función de activación ReLu.\n",
        "2. Capa Pooling  `MaxPooling2D `. \n",
        "    * Tamaño de pacht de $2 × 2$.\n",
        "3. Capa de regularización `Dropout`. \n",
        "4. Capa `Flatten` para conversión de la matriz 2D en un vector (1D).\n",
        "5. Capa `Dense` con 128 neuronas y la función de activación ReLU.\n",
        "6. Capa de salida con 10 neuronas para las 10 clases y una función de activación **Softmax**.\n",
        "7. La compilación con ADAM, pérdida logarítmica como función de coste y Accuracy como métrica.\n",
        "\n",
        "[![cnn-Topology.png](https://i.postimg.cc/28M7TdZW/cnn-Topology.png)](https://postimg.cc/4mvcx9w4)"
      ]
    },
    {
      "cell_type": "code",
      "execution_count": 4,
      "metadata": {
        "id": "IVs7510bPtXN"
      },
      "outputs": [],
      "source": [
        "# Define a simple CNN model\n",
        "def baseline_model():\n",
        "    # Create model\n",
        "    model = Sequential()\n",
        "    model.add(Conv2D(32, (5,5), input_shape=(28,28,1), activation='relu'))\n",
        "    model.add(MaxPooling2D(pool_size=(2,2)))\n",
        "    model.add(Dropout(0.2))\n",
        "    model.add(Flatten())\n",
        "    model.add(Dense(128, activation='relu'))\n",
        "    model.add(Dense(num_classes, activation='softmax'))\n",
        "    # Compile model\n",
        "    model.compile(loss='categorical_crossentropy',\n",
        "                  optimizer='adam',\n",
        "                  metrics=['accuracy'])\n",
        "    return model"
      ]
    },
    {
      "cell_type": "markdown",
      "metadata": {
        "id": "tP_t19rmPtXN"
      },
      "source": [
        "Entrenamos con 10 épocas a un tamaño de batch de 200."
      ]
    },
    {
      "cell_type": "code",
      "execution_count": 6,
      "metadata": {
        "colab": {
          "base_uri": "https://localhost:8080/"
        },
        "id": "WF9olJc4PtXO",
        "outputId": "d6f1509c-77ae-40ac-ec8e-e4622083c3f2"
      },
      "outputs": [
        {
          "name": "stdout",
          "output_type": "stream",
          "text": [
            "Epoch 1/10\n",
            "300/300 [==============================] - 5s 13ms/step - loss: 0.2428 - accuracy: 0.9300 - val_loss: 0.0769 - val_accuracy: 0.9775\n",
            "Epoch 2/10\n",
            "300/300 [==============================] - 3s 9ms/step - loss: 0.0757 - accuracy: 0.9775 - val_loss: 0.0566 - val_accuracy: 0.9817\n",
            "Epoch 3/10\n",
            "300/300 [==============================] - 3s 9ms/step - loss: 0.0522 - accuracy: 0.9843 - val_loss: 0.0485 - val_accuracy: 0.9844\n",
            "Epoch 4/10\n",
            "300/300 [==============================] - 3s 9ms/step - loss: 0.0409 - accuracy: 0.9875 - val_loss: 0.0394 - val_accuracy: 0.9876\n",
            "Epoch 5/10\n",
            "300/300 [==============================] - 3s 9ms/step - loss: 0.0331 - accuracy: 0.9896 - val_loss: 0.0360 - val_accuracy: 0.9882\n",
            "Epoch 6/10\n",
            "300/300 [==============================] - 3s 8ms/step - loss: 0.0284 - accuracy: 0.9912 - val_loss: 0.0336 - val_accuracy: 0.9885\n",
            "Epoch 7/10\n",
            "300/300 [==============================] - 3s 9ms/step - loss: 0.0233 - accuracy: 0.9925 - val_loss: 0.0341 - val_accuracy: 0.9885\n",
            "Epoch 8/10\n",
            "300/300 [==============================] - 2s 8ms/step - loss: 0.0198 - accuracy: 0.9935 - val_loss: 0.0370 - val_accuracy: 0.9890\n",
            "Epoch 9/10\n",
            "300/300 [==============================] - 3s 9ms/step - loss: 0.0172 - accuracy: 0.9946 - val_loss: 0.0384 - val_accuracy: 0.9886\n",
            "Epoch 10/10\n",
            "300/300 [==============================] - 3s 9ms/step - loss: 0.0132 - accuracy: 0.9961 - val_loss: 0.0340 - val_accuracy: 0.9891\n",
            "Error de la CNN de línea base: 1.09%\n"
          ]
        }
      ],
      "source": [
        "# Build the model\n",
        "model = baseline_model()\n",
        "\n",
        "# Fit the model\n",
        "model.fit(X_train, y_train, validation_data=(X_test, y_test), epochs=10, batch_size=200)\n",
        "\n",
        "# Final evaluation of the model\n",
        "score = model.evaluate(X_test, y_test, verbose=0)\n",
        "print(f'Error de la CNN de línea base: {round(100 - score[1]*100, 2)}%')"
      ]
    },
    {
      "cell_type": "markdown",
      "metadata": {
        "id": "uTAu-KmXPtXO"
      },
      "source": [
        "---\n",
        "<div style=\"text-align: right\"> <font size=5> <a href=\"#indice\"><i class=\"fa fa-arrow-circle-up\" aria-hidden=\"true\" style=\"color:#004D7F\"></i></a></font></div>\n",
        "\n",
        "---"
      ]
    },
    {
      "cell_type": "markdown",
      "metadata": {
        "id": "BfaGK7sCPtXO"
      },
      "source": [
        "<a id=\"section5\"></a>\n",
        "# <font color=\"#e61500\" size=6>5. CNN más profunda para MNIST </font>"
      ]
    },
    {
      "cell_type": "markdown",
      "metadata": {
        "id": "_98rX_8_PtXP"
      },
      "source": [
        "Esta vez definimos una arquitectura con más capas de convolucionales, Max-pooling y capas completamente conectadas.\n",
        "\n",
        "1. Capa convolucional con 30 mapas de tamaño $5 × 5$.\n",
        "2. Capa de Pooling con patch de $2 × 2$.\n",
        "3. Capa convolucional con 15 mapas de tamaño $3 × 3$.\n",
        "4. Capa de Pooling con patch de $2 × 2$.\n",
        "5. Capa de Dropout del 20%.\n",
        "6. Capa Flatten.\n",
        "7. Capa completamente conectada con 128 neuronas y ReLu.\n",
        "8. Capa completamente conectada con 50 neuronas y ReLu\n",
        "9. Capa de salida cpm activación Softmax.\n",
        "10. La compilación con ADAM, pérdida logarítmica como función de coste y Accuracy como métrica.\n",
        "\n",
        "[![cnnlarger.png](https://i.postimg.cc/fb45W7Ws/cnnlarger.png)](https://postimg.cc/jDXyZ7J3)"
      ]
    },
    {
      "cell_type": "code",
      "execution_count": 7,
      "metadata": {
        "id": "cWGuCmW8PtXP"
      },
      "outputs": [],
      "source": [
        "def larger_model():\n",
        "    # Create model\n",
        "    model = Sequential()\n",
        "    model.add(Conv2D(30, (5,5), input_shape=(28,28,1), activation='relu'))\n",
        "    model.add(MaxPooling2D(pool_size=(2,2)))\n",
        "    model.add(Conv2D(15, (5,5), activation='relu'))\n",
        "    model.add(Dropout(0.2))\n",
        "    model.add(Flatten())\n",
        "    model.add(Dense(128, activation='relu'))\n",
        "    model.add(Dense(50, activation='relu'))\n",
        "    model.add(Dense(num_classes, activation='softmax'))\n",
        "    # Compile model\n",
        "    model.compile(loss='categorical_crossentropy',\n",
        "                  optimizer='adam',\n",
        "                  metrics=['accuracy'])\n",
        "    return model"
      ]
    },
    {
      "cell_type": "markdown",
      "metadata": {
        "id": "k3kLbhq-PtXP"
      },
      "source": [
        "<div style=\"text-align: right\"> <font size=5> <a href=\"#indice\"><i class=\"fa fa-arrow-circle-up\" aria-hidden=\"true\" style=\"color:#004D7F\"></i></a></font></div>\n",
        "\n",
        "---\n",
        "\n",
        "<div style=\"text-align: right\"> <font size=6><i class=\"fa fa-coffee\" aria-hidden=\"true\" style=\"color:#004D7F\"></i> </font></div>"
      ]
    },
    {
      "cell_type": "code",
      "execution_count": 8,
      "metadata": {
        "colab": {
          "base_uri": "https://localhost:8080/"
        },
        "id": "lRX-_wyTv2D6",
        "outputId": "a7c2e88a-182b-4659-cf18-a1ec2bfac571"
      },
      "outputs": [
        {
          "name": "stdout",
          "output_type": "stream",
          "text": [
            "Epoch 1/10\n",
            "300/300 [==============================] - 4s 11ms/step - loss: 0.2981 - accuracy: 0.9082 - val_loss: 0.0824 - val_accuracy: 0.9754\n",
            "Epoch 2/10\n",
            "300/300 [==============================] - 3s 10ms/step - loss: 0.0788 - accuracy: 0.9759 - val_loss: 0.0446 - val_accuracy: 0.9855\n",
            "Epoch 3/10\n",
            "300/300 [==============================] - 3s 11ms/step - loss: 0.0537 - accuracy: 0.9836 - val_loss: 0.0375 - val_accuracy: 0.9880\n",
            "Epoch 4/10\n",
            "300/300 [==============================] - 3s 11ms/step - loss: 0.0417 - accuracy: 0.9871 - val_loss: 0.0332 - val_accuracy: 0.9881\n",
            "Epoch 5/10\n",
            "300/300 [==============================] - 3s 11ms/step - loss: 0.0356 - accuracy: 0.9884 - val_loss: 0.0319 - val_accuracy: 0.9896\n",
            "Epoch 6/10\n",
            "300/300 [==============================] - 3s 11ms/step - loss: 0.0296 - accuracy: 0.9904 - val_loss: 0.0273 - val_accuracy: 0.9912\n",
            "Epoch 7/10\n",
            "300/300 [==============================] - 3s 11ms/step - loss: 0.0252 - accuracy: 0.9922 - val_loss: 0.0313 - val_accuracy: 0.9900\n",
            "Epoch 8/10\n",
            "300/300 [==============================] - 3s 11ms/step - loss: 0.0219 - accuracy: 0.9926 - val_loss: 0.0279 - val_accuracy: 0.9914\n",
            "Epoch 9/10\n",
            "300/300 [==============================] - 3s 11ms/step - loss: 0.0202 - accuracy: 0.9934 - val_loss: 0.0254 - val_accuracy: 0.9932\n",
            "Epoch 10/10\n",
            "300/300 [==============================] - 3s 10ms/step - loss: 0.0173 - accuracy: 0.9942 - val_loss: 0.0259 - val_accuracy: 0.9930\n",
            "Error de la CNN más profunda: 0.7%\n"
          ]
        }
      ],
      "source": [
        "# Build the model\n",
        "model = larger_model()\n",
        "\n",
        "# Fit the model\n",
        "model.fit(X_train, y_train, validation_data=(X_test, y_test), epochs=10, batch_size=200)\n",
        "\n",
        "# Final evaluation of the model\n",
        "score = model.evaluate(X_test, y_test, verbose=0)\n",
        "print(f'Error de la CNN más profunda: {round(100 - score[1]*100, 2)}%')"
      ]
    },
    {
      "cell_type": "code",
      "execution_count": 15,
      "metadata": {
        "id": "MD17WMaAwZby"
      },
      "outputs": [],
      "source": [
        "def cnn():\n",
        "    # Create model\n",
        "    model = Sequential()\n",
        "    model.add(Conv2D(30, (5,5), input_shape=(28,28,1), activation='relu'))\n",
        "    model.add(MaxPooling2D(pool_size=(2,2)))\n",
        "    model.add(Dropout(0.2))\n",
        "    model.add(Conv2D(15, (5,5), activation='relu'))\n",
        "    model.add(Dropout(0.2))\n",
        "    model.add(Flatten())\n",
        "    model.add(Dense(128, activation='relu'))\n",
        "    model.add(Dropout(0.2))\n",
        "    model.add(Dense(32, activation='relu'))\n",
        "    model.add(Dropout(0.2))\n",
        "    model.add(Dense(32, activation='relu'))\n",
        "    model.add(Dense(num_classes, activation='softmax'))\n",
        "    # Compile model\n",
        "    model.compile(loss='categorical_crossentropy',\n",
        "                  optimizer='adam',\n",
        "                  metrics=['accuracy'])\n",
        "    return model"
      ]
    },
    {
      "cell_type": "code",
      "execution_count": 16,
      "metadata": {
        "colab": {
          "base_uri": "https://localhost:8080/"
        },
        "id": "q5v3MNBzwVxa",
        "outputId": "d7ef2e77-d3e2-401e-a645-3b1de2b6b722"
      },
      "outputs": [
        {
          "name": "stdout",
          "output_type": "stream",
          "text": [
            "Epoch 1/10\n",
            "300/300 [==============================] - 4s 12ms/step - loss: 0.5275 - accuracy: 0.8313 - val_loss: 0.0845 - val_accuracy: 0.9740\n",
            "Epoch 2/10\n",
            "300/300 [==============================] - 3s 10ms/step - loss: 0.1400 - accuracy: 0.9602 - val_loss: 0.0530 - val_accuracy: 0.9837\n",
            "Epoch 3/10\n",
            "300/300 [==============================] - 3s 10ms/step - loss: 0.1010 - accuracy: 0.9726 - val_loss: 0.0466 - val_accuracy: 0.9862\n",
            "Epoch 4/10\n",
            "300/300 [==============================] - 3s 10ms/step - loss: 0.0838 - accuracy: 0.9767 - val_loss: 0.0367 - val_accuracy: 0.9887\n",
            "Epoch 5/10\n",
            "300/300 [==============================] - 3s 10ms/step - loss: 0.0695 - accuracy: 0.9803 - val_loss: 0.0383 - val_accuracy: 0.9885\n",
            "Epoch 6/10\n",
            "300/300 [==============================] - 3s 10ms/step - loss: 0.0620 - accuracy: 0.9829 - val_loss: 0.0315 - val_accuracy: 0.9908\n",
            "Epoch 7/10\n",
            "300/300 [==============================] - 3s 10ms/step - loss: 0.0558 - accuracy: 0.9849 - val_loss: 0.0272 - val_accuracy: 0.9914\n",
            "Epoch 8/10\n",
            "300/300 [==============================] - 3s 10ms/step - loss: 0.0514 - accuracy: 0.9858 - val_loss: 0.0298 - val_accuracy: 0.9915\n",
            "Epoch 9/10\n",
            "300/300 [==============================] - 3s 10ms/step - loss: 0.0467 - accuracy: 0.9863 - val_loss: 0.0288 - val_accuracy: 0.9911\n",
            "Epoch 10/10\n",
            "300/300 [==============================] - 3s 10ms/step - loss: 0.0421 - accuracy: 0.9884 - val_loss: 0.0248 - val_accuracy: 0.9927\n",
            "Error de la CNN: 0.73%\n"
          ]
        }
      ],
      "source": [
        "# Build the model\n",
        "model = cnn()\n",
        "\n",
        "# Fit the model\n",
        "model.fit(X_train, y_train, validation_data=(X_test, y_test), epochs=10, batch_size=200)\n",
        "\n",
        "# Final evaluation of the model\n",
        "score = model.evaluate(X_test, y_test, verbose=0)\n",
        "print(f'Error de la CNN: {round(100 - score[1]*100, 2)}%')"
      ]
    }
  ],
  "metadata": {
    "accelerator": "GPU",
    "colab": {
      "collapsed_sections": [],
      "name": "2. Reconocimiento de dígitos.ipynb",
      "provenance": []
    },
    "kernelspec": {
      "display_name": "Python 3",
      "language": "python",
      "name": "python3"
    },
    "language_info": {
      "codemirror_mode": {
        "name": "ipython",
        "version": 3
      },
      "file_extension": ".py",
      "mimetype": "text/x-python",
      "name": "python",
      "nbconvert_exporter": "python",
      "pygments_lexer": "ipython3",
      "version": "3.6.9"
    }
  },
  "nbformat": 4,
  "nbformat_minor": 0
}
