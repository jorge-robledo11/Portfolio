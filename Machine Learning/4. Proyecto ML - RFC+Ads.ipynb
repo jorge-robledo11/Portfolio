{
 "cells": [
  {
   "cell_type": "markdown",
   "source": "# 1. Definición del problema 🎯",
   "metadata": {
    "tags": [],
    "is_collapsed": false,
    "cell_id": "00000-d7996d2b-4c5d-4d6c-8f67-d1bc4ef2f34a",
    "deepnote_cell_type": "text-cell-h1"
   }
  },
  {
   "cell_type": "markdown",
   "source": "El **dataset** que utilizaremos es de **Kaggle**, un gran lugar para conseguir **datasets** para tus estudios en Ciencia de Datos e Inteligencia Artificial\n\nEl **dataset** es sobre una recolección de datos de personas en Ads de Redes Sociales y de las cuales tiene variables como su edad, género, salario estimado, etc. Puedes descargarlo [aquí](https://www.kaggle.com/rakeshrau/social-network-ads) en **Kaggle**. El objetivo de este **dataset** es **clasificar** a las personas de manera predictiva quiénes compraron o no el producto, nuestra **hipótesis** es que no sabemos apriori cómo se relacionan esas variables y de ser acertada la **hipótesis**, qué tan cierta puede llegar a serla",
   "metadata": {
    "tags": [],
    "cell_id": "00001-abf2ecb8-b9ca-448b-8764-a98415b1a044",
    "deepnote_cell_type": "markdown"
   }
  },
  {
   "cell_type": "markdown",
   "source": "# 2. Preparación de los datos 💿 🧑🏻‍💻",
   "metadata": {
    "tags": [],
    "is_collapsed": false,
    "cell_id": "00003-e3e99122-f5ef-49f0-bf74-94df203aa432",
    "deepnote_cell_type": "text-cell-h1"
   }
  },
  {
   "cell_type": "markdown",
   "source": "## 2.1 configuración inicial 👨🏻‍💻",
   "metadata": {
    "tags": [],
    "is_collapsed": false,
    "cell_id": "00003-892015d6-b57f-4ab4-9496-4a2f71402286",
    "deepnote_cell_type": "text-cell-h2"
   }
  },
  {
   "cell_type": "code",
   "metadata": {
    "tags": [],
    "cell_id": "00000-e3bee6b8-8de2-4f8c-88cf-dcc3fee0c811",
    "deepnote_to_be_reexecuted": false,
    "source_hash": "b8e224f6",
    "execution_start": 1637019169050,
    "execution_millis": 1391,
    "deepnote_cell_type": "code"
   },
   "source": "# Core\nimport pandas as pd\nfrom pandas import Timestamp\nimport numpy as np\nimport matplotlib.pyplot as plt\nimport seaborn as sns\nimport warnings\nfrom IPython.display import *\n\n# Validación\nfrom sklearn.model_selection import cross_val_score, KFold, GridSearchCV",
   "execution_count": 1,
   "outputs": []
  },
  {
   "cell_type": "code",
   "metadata": {
    "tags": [],
    "cell_id": "00001-817dda75-bc28-465a-8631-c6edff97d785",
    "deepnote_to_be_reexecuted": false,
    "source_hash": "96b7119d",
    "execution_start": 1637019170461,
    "execution_millis": 0,
    "deepnote_cell_type": "code"
   },
   "source": "# Evitamos la notación científica y rendondeamos los valores a 2 dígitos después de la coma\npd.options.display.float_format = '{:,.2f}'.format\n\n# Ignore Warnings\nwarnings.filterwarnings('ignore')",
   "execution_count": 2,
   "outputs": []
  },
  {
   "cell_type": "markdown",
   "source": "## 2.2 Obtención de los datos 💿💻",
   "metadata": {
    "tags": [],
    "is_collapsed": false,
    "cell_id": "00004-921f79a7-f4b6-44f0-8c43-742a48b335f0",
    "deepnote_cell_type": "text-cell-h2"
   }
  },
  {
   "cell_type": "code",
   "metadata": {
    "tags": [],
    "cell_id": "00002-597315dc-0432-4f23-9810-98a524c42039",
    "deepnote_to_be_reexecuted": false,
    "source_hash": "5c063f18",
    "execution_start": 1637019170466,
    "execution_millis": 91,
    "deepnote_cell_type": "code"
   },
   "source": "# Cargamos nuestro dataset\ndataset = pd.read_csv('https://raw.githubusercontent.com/jorge-robledo11/Datasets/main/Datasets/Social_Network_Ads.csv')\ndataset.head()\n\n# Creamos una copia del dataset\ndata = dataset",
   "execution_count": 3,
   "outputs": []
  },
  {
   "cell_type": "markdown",
   "source": "## 2.3 Limpieza de los datos 📁🧹",
   "metadata": {
    "tags": [],
    "is_collapsed": false,
    "cell_id": "00005-b9d24ea9-8963-4c9e-b90a-5d2accd188bc",
    "deepnote_cell_type": "text-cell-h2"
   }
  },
  {
   "cell_type": "code",
   "metadata": {
    "tags": [],
    "cell_id": "00003-831a03ec-a108-4e9e-bdb1-ee9cdce9a47e",
    "deepnote_to_be_reexecuted": false,
    "source_hash": "24f9a356",
    "execution_start": 1637019170566,
    "execution_millis": 4,
    "deepnote_cell_type": "code"
   },
   "source": "# Dimensionamos\ndata.shape",
   "execution_count": 4,
   "outputs": [
    {
     "output_type": "execute_result",
     "execution_count": 4,
     "data": {
      "text/plain": "(400, 5)"
     },
     "metadata": {}
    }
   ]
  },
  {
   "cell_type": "code",
   "metadata": {
    "tags": [],
    "cell_id": "00008-873671ee-c67b-4fd9-82c2-bb28f9ad7912",
    "deepnote_to_be_reexecuted": false,
    "source_hash": "ab810087",
    "execution_start": 1637019170615,
    "execution_millis": 2,
    "deepnote_cell_type": "code"
   },
   "source": "# Tipos de variables del dataset\ndata.dtypes",
   "execution_count": 5,
   "outputs": [
    {
     "output_type": "execute_result",
     "execution_count": 5,
     "data": {
      "text/plain": "User ID             int64\nGender             object\nAge                 int64\nEstimatedSalary     int64\nPurchased           int64\ndtype: object"
     },
     "metadata": {}
    }
   ]
  },
  {
   "cell_type": "code",
   "metadata": {
    "tags": [],
    "cell_id": "00003-606abad4-bff0-4feb-9b8d-b22348603854",
    "deepnote_to_be_reexecuted": false,
    "source_hash": "a6a25be4",
    "execution_start": 1637019170616,
    "execution_millis": 280355,
    "deepnote_cell_type": "code"
   },
   "source": "# Datos faltantes\ndata.isnull().sum()",
   "execution_count": 6,
   "outputs": [
    {
     "output_type": "execute_result",
     "execution_count": 6,
     "data": {
      "text/plain": "User ID            0\nGender             0\nAge                0\nEstimatedSalary    0\nPurchased          0\ndtype: int64"
     },
     "metadata": {}
    }
   ]
  },
  {
   "cell_type": "markdown",
   "source": "## 2.4 Transformación de variables categóricas",
   "metadata": {
    "tags": [],
    "is_collapsed": false,
    "cell_id": "00011-3cca3281-119b-4f24-8ac7-19de2b4bde44",
    "deepnote_cell_type": "text-cell-h2"
   }
  },
  {
   "cell_type": "code",
   "metadata": {
    "tags": [],
    "cell_id": "00003-9eff3a30-cb89-4a73-b7d7-c3b3f980419e",
    "deepnote_to_be_reexecuted": false,
    "source_hash": "d36252",
    "execution_start": 1637019170645,
    "execution_millis": 280311,
    "deepnote_cell_type": "code"
   },
   "source": "\"\"\"\n1. Transformamos el Género a una variable binaria\n2. Renombramos la columna a su nombre original\n\"\"\"\n\ndata = pd.get_dummies(data, columns = [\"Gender\"], drop_first = True)\ndata = data.rename(columns={'Gender_Male':'Gender'})",
   "execution_count": 7,
   "outputs": []
  },
  {
   "cell_type": "markdown",
   "source": "Para hacer una **clasificación** el modelo necesita información en números, por esta razón convertimos el género en un tipo de variable **binaria**",
   "metadata": {
    "tags": [],
    "cell_id": "00014-e6719565-f848-4757-9ffe-7503cd787366",
    "deepnote_cell_type": "markdown"
   }
  },
  {
   "cell_type": "code",
   "metadata": {
    "tags": [],
    "cell_id": "00005-c9ed4830-10fb-475b-ac97-3ebe09c02b00",
    "deepnote_to_be_reexecuted": false,
    "source_hash": "dc7fa0b5",
    "execution_start": 1637019170646,
    "execution_millis": 280338,
    "deepnote_cell_type": "code"
   },
   "source": "# Segmentamos las edades de las personas y le damos una etiqueta\n\"\"\"\n0 ~ 11 años = 1\n12 ~ 18 años = 2\n19 ~ 35 años = 3\n36 ~ 60 años = 4\n61 ~ 100 años = 5\n\"\"\"\n\nbins = [0, 12, 18, 35, 60, 100]\nnames = [\"1\",\"2\",\"3\",\"4\",\"5\"]\n\ndata[\"Age\"] = pd.cut(data[\"Age\"], bins, labels = names)",
   "execution_count": 8,
   "outputs": []
  },
  {
   "cell_type": "markdown",
   "source": "**Segmentamos** en rangos de edades para que nuestro modelo trabaje de mejor manera con los datos",
   "metadata": {
    "tags": [],
    "cell_id": "00015-1842e5ec-c5b0-49a2-97da-436432742a27",
    "deepnote_cell_type": "markdown"
   }
  },
  {
   "cell_type": "code",
   "metadata": {
    "tags": [],
    "cell_id": "00008-02c9cc84-6247-4b3a-a365-54e5f4289149",
    "deepnote_to_be_reexecuted": false,
    "source_hash": "320eb8c",
    "execution_start": 1637019170646,
    "execution_millis": 280299,
    "deepnote_cell_type": "code"
   },
   "source": "# Downcasteamos\ndata['EstimatedSalary'] = pd.to_numeric(data['EstimatedSalary'], downcast='float')\ndata['User ID'] = pd.to_numeric(data['User ID'], downcast='float')\ndata['Purchased'] = pd.to_numeric(data['Purchased'], downcast='integer')",
   "execution_count": 9,
   "outputs": []
  },
  {
   "cell_type": "code",
   "metadata": {
    "tags": [],
    "cell_id": "00010-d309a539-058c-4011-8b3c-993ff2a742cd",
    "deepnote_to_be_reexecuted": false,
    "source_hash": "2a92a26e",
    "execution_start": 1637019170648,
    "execution_millis": 6,
    "deepnote_cell_type": "code"
   },
   "source": "# Observamos los cambios\ndata.dtypes",
   "execution_count": 10,
   "outputs": [
    {
     "output_type": "execute_result",
     "execution_count": 10,
     "data": {
      "text/plain": "User ID             float32\nAge                category\nEstimatedSalary     float32\nPurchased              int8\nGender                uint8\ndtype: object"
     },
     "metadata": {}
    }
   ]
  },
  {
   "cell_type": "markdown",
   "source": "# 3. Análisis exploratorio de los datos 🔎👾",
   "metadata": {
    "tags": [],
    "is_collapsed": false,
    "cell_id": "00017-1765b8a1-28bb-4685-a7f5-8297ae27e634",
    "deepnote_cell_type": "text-cell-h1"
   }
  },
  {
   "cell_type": "markdown",
   "source": "## 3.1 Resumen estadístico 📄📈",
   "metadata": {
    "tags": [],
    "is_collapsed": false,
    "cell_id": "00015-f3743103-ceb5-4aa0-a169-d06801f938fd",
    "deepnote_cell_type": "text-cell-h2"
   }
  },
  {
   "cell_type": "code",
   "metadata": {
    "tags": [],
    "cell_id": "00017-f2dab89b-367b-47ec-8b96-d7d4734b14b7",
    "deepnote_to_be_reexecuted": false,
    "source_hash": "2cb52ae",
    "execution_start": 1637019170656,
    "execution_millis": 52,
    "deepnote_cell_type": "code"
   },
   "source": "# Resumen de nuestro dataset\ndata.describe()",
   "execution_count": 11,
   "outputs": [
    {
     "output_type": "execute_result",
     "execution_count": 11,
     "data": {
      "application/vnd.deepnote.dataframe.v2+json": {
       "row_count": 8,
       "column_count": 4,
       "columns": [
        {
         "name": "User ID",
         "dtype": "float64",
         "stats": {
          "unique_count": 8,
          "nan_count": 0,
          "min": "400.0",
          "max": "15815236.0",
          "histogram": [
           {
            "bin_start": 400,
            "bin_end": 1581883.6,
            "count": 2
           },
           {
            "bin_start": 1581883.6,
            "bin_end": 3163367.2,
            "count": 0
           },
           {
            "bin_start": 3163367.2,
            "bin_end": 4744850.800000001,
            "count": 0
           },
           {
            "bin_start": 4744850.800000001,
            "bin_end": 6326334.4,
            "count": 0
           },
           {
            "bin_start": 6326334.4,
            "bin_end": 7907818,
            "count": 0
           },
           {
            "bin_start": 7907818,
            "bin_end": 9489301.600000001,
            "count": 0
           },
           {
            "bin_start": 9489301.600000001,
            "bin_end": 11070785.200000001,
            "count": 0
           },
           {
            "bin_start": 11070785.200000001,
            "bin_end": 12652268.8,
            "count": 0
           },
           {
            "bin_start": 12652268.8,
            "bin_end": 14233752.4,
            "count": 0
           },
           {
            "bin_start": 14233752.4,
            "bin_end": 15815236,
            "count": 6
           }
          ]
         }
        },
        {
         "name": "EstimatedSalary",
         "dtype": "float64",
         "stats": {
          "unique_count": 8,
          "nan_count": 0,
          "min": "400.0",
          "max": "150000.0",
          "histogram": [
           {
            "bin_start": 400,
            "bin_end": 15360,
            "count": 2
           },
           {
            "bin_start": 15360,
            "bin_end": 30320,
            "count": 0
           },
           {
            "bin_start": 30320,
            "bin_end": 45280,
            "count": 2
           },
           {
            "bin_start": 45280,
            "bin_end": 60240,
            "count": 0
           },
           {
            "bin_start": 60240,
            "bin_end": 75200,
            "count": 2
           },
           {
            "bin_start": 75200,
            "bin_end": 90160,
            "count": 1
           },
           {
            "bin_start": 90160,
            "bin_end": 105120,
            "count": 0
           },
           {
            "bin_start": 105120,
            "bin_end": 120080,
            "count": 0
           },
           {
            "bin_start": 120080,
            "bin_end": 135040,
            "count": 0
           },
           {
            "bin_start": 135040,
            "bin_end": 150000,
            "count": 1
           }
          ]
         }
        },
        {
         "name": "Purchased",
         "dtype": "float64",
         "stats": {
          "unique_count": 5,
          "nan_count": 0,
          "min": "0.0",
          "max": "400.0",
          "histogram": [
           {
            "bin_start": 0,
            "bin_end": 40,
            "count": 7
           },
           {
            "bin_start": 40,
            "bin_end": 80,
            "count": 0
           },
           {
            "bin_start": 80,
            "bin_end": 120,
            "count": 0
           },
           {
            "bin_start": 120,
            "bin_end": 160,
            "count": 0
           },
           {
            "bin_start": 160,
            "bin_end": 200,
            "count": 0
           },
           {
            "bin_start": 200,
            "bin_end": 240,
            "count": 0
           },
           {
            "bin_start": 240,
            "bin_end": 280,
            "count": 0
           },
           {
            "bin_start": 280,
            "bin_end": 320,
            "count": 0
           },
           {
            "bin_start": 320,
            "bin_end": 360,
            "count": 0
           },
           {
            "bin_start": 360,
            "bin_end": 400,
            "count": 1
           }
          ]
         }
        },
        {
         "name": "Gender",
         "dtype": "float64",
         "stats": {
          "unique_count": 5,
          "nan_count": 0,
          "min": "0.0",
          "max": "400.0",
          "histogram": [
           {
            "bin_start": 0,
            "bin_end": 40,
            "count": 7
           },
           {
            "bin_start": 40,
            "bin_end": 80,
            "count": 0
           },
           {
            "bin_start": 80,
            "bin_end": 120,
            "count": 0
           },
           {
            "bin_start": 120,
            "bin_end": 160,
            "count": 0
           },
           {
            "bin_start": 160,
            "bin_end": 200,
            "count": 0
           },
           {
            "bin_start": 200,
            "bin_end": 240,
            "count": 0
           },
           {
            "bin_start": 240,
            "bin_end": 280,
            "count": 0
           },
           {
            "bin_start": 280,
            "bin_end": 320,
            "count": 0
           },
           {
            "bin_start": 320,
            "bin_end": 360,
            "count": 0
           },
           {
            "bin_start": 360,
            "bin_end": 400,
            "count": 1
           }
          ]
         }
        },
        {
         "name": "_deepnote_index_column",
         "dtype": "object"
        }
       ],
       "rows_top": [
        {
         "User ID": 400,
         "EstimatedSalary": 400,
         "Purchased": 400,
         "Gender": 400,
         "_deepnote_index_column": "count"
        },
        {
         "User ID": 15691540,
         "EstimatedSalary": 69742.5,
         "Purchased": 0.3575,
         "Gender": 0.49,
         "_deepnote_index_column": "mean"
        },
        {
         "User ID": 71658.3203125,
         "EstimatedSalary": 34096.9609375,
         "Purchased": 0.479863963596869,
         "Gender": 0.500526039072368,
         "_deepnote_index_column": "std"
        },
        {
         "User ID": 15566689,
         "EstimatedSalary": 15000,
         "Purchased": 0,
         "Gender": 0,
         "_deepnote_index_column": "min"
        },
        {
         "User ID": 15626763.75,
         "EstimatedSalary": 43000,
         "Purchased": 0,
         "Gender": 0,
         "_deepnote_index_column": "25%"
        },
        {
         "User ID": 15694341.5,
         "EstimatedSalary": 70000,
         "Purchased": 0,
         "Gender": 0,
         "_deepnote_index_column": "50%"
        },
        {
         "User ID": 15750363,
         "EstimatedSalary": 88000,
         "Purchased": 1,
         "Gender": 1,
         "_deepnote_index_column": "75%"
        },
        {
         "User ID": 15815236,
         "EstimatedSalary": 150000,
         "Purchased": 1,
         "Gender": 1,
         "_deepnote_index_column": "max"
        }
       ],
       "rows_bottom": null
      },
      "text/plain": "            User ID  EstimatedSalary  Purchased  Gender\ncount        400.00           400.00     400.00  400.00\nmean  15,691,540.00        69,742.50       0.36    0.49\nstd       71,658.32        34,096.96       0.48    0.50\nmin   15,566,689.00        15,000.00       0.00    0.00\n25%   15,626,763.75        43,000.00       0.00    0.00\n50%   15,694,341.50        70,000.00       0.00    0.00\n75%   15,750,363.00        88,000.00       1.00    1.00\nmax   15,815,236.00       150,000.00       1.00    1.00",
      "text/html": "<div>\n<style scoped>\n    .dataframe tbody tr th:only-of-type {\n        vertical-align: middle;\n    }\n\n    .dataframe tbody tr th {\n        vertical-align: top;\n    }\n\n    .dataframe thead th {\n        text-align: right;\n    }\n</style>\n<table border=\"1\" class=\"dataframe\">\n  <thead>\n    <tr style=\"text-align: right;\">\n      <th></th>\n      <th>User ID</th>\n      <th>EstimatedSalary</th>\n      <th>Purchased</th>\n      <th>Gender</th>\n    </tr>\n  </thead>\n  <tbody>\n    <tr>\n      <th>count</th>\n      <td>400.00</td>\n      <td>400.00</td>\n      <td>400.00</td>\n      <td>400.00</td>\n    </tr>\n    <tr>\n      <th>mean</th>\n      <td>15,691,540.00</td>\n      <td>69,742.50</td>\n      <td>0.36</td>\n      <td>0.49</td>\n    </tr>\n    <tr>\n      <th>std</th>\n      <td>71,658.32</td>\n      <td>34,096.96</td>\n      <td>0.48</td>\n      <td>0.50</td>\n    </tr>\n    <tr>\n      <th>min</th>\n      <td>15,566,689.00</td>\n      <td>15,000.00</td>\n      <td>0.00</td>\n      <td>0.00</td>\n    </tr>\n    <tr>\n      <th>25%</th>\n      <td>15,626,763.75</td>\n      <td>43,000.00</td>\n      <td>0.00</td>\n      <td>0.00</td>\n    </tr>\n    <tr>\n      <th>50%</th>\n      <td>15,694,341.50</td>\n      <td>70,000.00</td>\n      <td>0.00</td>\n      <td>0.00</td>\n    </tr>\n    <tr>\n      <th>75%</th>\n      <td>15,750,363.00</td>\n      <td>88,000.00</td>\n      <td>1.00</td>\n      <td>1.00</td>\n    </tr>\n    <tr>\n      <th>max</th>\n      <td>15,815,236.00</td>\n      <td>150,000.00</td>\n      <td>1.00</td>\n      <td>1.00</td>\n    </tr>\n  </tbody>\n</table>\n</div>"
     },
     "metadata": {}
    }
   ]
  },
  {
   "cell_type": "code",
   "metadata": {
    "tags": [],
    "cell_id": "00017-cecfce20-279b-462c-99bd-52c7dc164b09",
    "deepnote_to_be_reexecuted": false,
    "source_hash": "d3478518",
    "execution_start": 1637019170759,
    "execution_millis": 3,
    "deepnote_cell_type": "code"
   },
   "source": "\"\"\"\n1. Para conocer las cantidades de mujeres y hombres\n2. 204 mujeres y 196 hombres\n\"\"\"\n\ndata['Gender'].value_counts()",
   "execution_count": 12,
   "outputs": [
    {
     "output_type": "execute_result",
     "execution_count": 12,
     "data": {
      "text/plain": "0    204\n1    196\nName: Gender, dtype: int64"
     },
     "metadata": {}
    }
   ]
  },
  {
   "cell_type": "markdown",
   "source": "Más mujeres compran la diferencia no es muy grande, pero es algo a tener en cuenta",
   "metadata": {
    "tags": [],
    "cell_id": "00021-43c8fefd-fab9-46ca-a1fc-b72053ee5422",
    "deepnote_cell_type": "markdown"
   }
  },
  {
   "cell_type": "code",
   "metadata": {
    "tags": [],
    "cell_id": "00010-bdbe4cb7-68df-45ec-9620-b426fa8cd50b",
    "deepnote_to_be_reexecuted": false,
    "source_hash": "86f3968",
    "execution_start": 1637019170760,
    "execution_millis": 2,
    "deepnote_cell_type": "code"
   },
   "source": "\"\"\"\n1. Para conocer las cantidades de personas que compraron y que no lo hicieron\n2. No lo hicieron 257 personas y si lo hicieron 143 personas\n\"\"\"\n\ndata['Purchased'].value_counts()",
   "execution_count": 13,
   "outputs": [
    {
     "output_type": "execute_result",
     "execution_count": 13,
     "data": {
      "text/plain": "0    257\n1    143\nName: Purchased, dtype: int64"
     },
     "metadata": {}
    }
   ]
  },
  {
   "cell_type": "markdown",
   "source": "Esta información es crucial, saber que solo un porcentaje de personas se decidieron por comprar basado en interacciones de Redes Sociales es algo interesante de saber",
   "metadata": {
    "tags": [],
    "cell_id": "00022-abb028ee-340c-4e49-97ba-eafa8298540c",
    "deepnote_cell_type": "markdown"
   }
  },
  {
   "cell_type": "markdown",
   "source": "## 3.2 Diagramas de frecuencia 📊",
   "metadata": {
    "tags": [],
    "is_collapsed": false,
    "cell_id": "00016-ac65226f-59d9-4787-8510-1d565f36c734",
    "deepnote_cell_type": "text-cell-h2"
   }
  },
  {
   "cell_type": "code",
   "metadata": {
    "tags": [],
    "cell_id": "00014-1577078b-cb01-421b-8d56-54a48aec90b9",
    "deepnote_to_be_reexecuted": false,
    "source_hash": "c9aae93f",
    "execution_start": 1637019170761,
    "execution_millis": 601,
    "deepnote_cell_type": "code"
   },
   "source": "# Histplot\n%matplotlib inline\nsns.set_theme(style='whitegrid')\nsns.histplot(data=dataset, x='Age', color='blue', linewidth=0.75, edgecolor='black', kde=True)\nplt.title(\"Histograma de la Edad\\n\")\nplt.xlabel(\"Edad\")\nplt.ylabel(\"Cliente\")\nplt.tight_layout();",
   "execution_count": 14,
   "outputs": [
    {
     "data": {
      "text/plain": "<Figure size 432x288 with 1 Axes>",
      "image/png": "[encoded data removed]"
     },
     "metadata": {
      "image/png": {
       "width": 420,
       "height": 276
      }
     },
     "output_type": "display_data"
    }
   ]
  },
  {
   "cell_type": "markdown",
   "source": "### Análisis del Histplot 🔎📊\n\nPodemos notar algo sumamente importante el rango de edad de personas que más compran se encuentran aproximádamente entre los $40$ a $45$ años, tiene un poco de lógica porque es una edad en el que las personas tienen **solvencia económica** y probablemente se vean atrapados por sus preferencias a la hora de tomar una decisión, y las personas muy jóvenes o muy mayores se ven desinteresados de comprar seguramente por la falta de **músculo financiero**",
   "metadata": {
    "tags": [],
    "cell_id": "00028-882ce0ed-884b-4135-b8cd-c3327c1d0218",
    "deepnote_cell_type": "markdown"
   }
  },
  {
   "cell_type": "code",
   "metadata": {
    "tags": [],
    "cell_id": "00013-f90d5cd5-f105-4948-8e6d-c4c4ecafbee3",
    "deepnote_to_be_reexecuted": false,
    "source_hash": "eeb565eb",
    "execution_start": 1637019171341,
    "execution_millis": 470,
    "deepnote_cell_type": "code"
   },
   "source": "# Histplot\n%matplotlib inline\nsns.set_theme(style='whitegrid')\nsns.histplot(data=dataset, x='EstimatedSalary', linewidth=0.75, color='brown', edgecolor='black', kde=True)\nplt.title(\"Histograma del salario estimado\\n\")\nplt.xlabel(\"Salario estimado\")\nplt.ylabel(\"Cliente\")\nplt.tight_layout();",
   "execution_count": 15,
   "outputs": [
    {
     "data": {
      "text/plain": "<Figure size 432x288 with 1 Axes>",
      "image/png": "[encoded data removed]"
     },
     "metadata": {
      "image/png": {
       "width": 420,
       "height": 276
      }
     },
     "output_type": "display_data"
    }
   ]
  },
  {
   "cell_type": "markdown",
   "source": "### Análisis del Histplot 🔎📊\n\nPodemos observar que existe una **distribución** no tan normal, se cumple un poco lo que ocurría con el rango de edad de las personas, los que menos ganan porque son muy jóvenes no tienen capacidad de comprar por distintos motivos personales, por otra parte las personas que más ganan tampoco les interesa mucho comprar los productos, puede ser debido a que no se trata de algo \"exclusivo\" y sean productos para clases media por así decirlo",
   "metadata": {
    "tags": [],
    "cell_id": "00030-d24f1105-9b5d-46af-941a-fb8c87513857",
    "deepnote_cell_type": "markdown"
   }
  },
  {
   "cell_type": "markdown",
   "source": "## 3.3 Matriz de Correlación",
   "metadata": {
    "tags": [],
    "is_collapsed": false,
    "cell_id": "00022-e22b8fea-552c-4d4e-aa94-465f5de1b45a",
    "deepnote_cell_type": "text-cell-h2"
   }
  },
  {
   "cell_type": "code",
   "metadata": {
    "tags": [],
    "cell_id": "00016-12c11ba0-936c-4027-8737-8cc8d5483429",
    "deepnote_to_be_reexecuted": false,
    "source_hash": "3bd3f185",
    "execution_start": 1637019171883,
    "execution_millis": 462,
    "deepnote_cell_type": "code"
   },
   "source": "# Correlation Matrix\nmatriz_corr = dataset[['Age','EstimatedSalary','Purchased']].corr(method='spearman')\n\n# Heatmap\nplt.subplots(figsize=(8,6))\nplt.title('Matriz de Correlación\\n', fontsize=14)\nsns.heatmap(matriz_corr, annot=True, linewidths=1.5, cmap=sns.color_palette(\"copper\", as_cmap=True));",
   "execution_count": 16,
   "outputs": [
    {
     "data": {
      "text/plain": "<Figure size 576x432 with 2 Axes>",
      "image/png": "[encoded data removed]"
     },
     "metadata": {
      "image/png": {
       "width": 456,
       "height": 393
      }
     },
     "output_type": "display_data"
    }
   ]
  },
  {
   "cell_type": "markdown",
   "source": "### Análisis de la Matriz de Correlación 🔢😳\n\nPodemos observar que existe una **correlación** considerablemente aceptable entre `Age` y `Purchased` al parecer se cumple la regla de que la edad influye al momento de efectuar una compra en este tipo de mercado",
   "metadata": {
    "tags": [],
    "cell_id": "00033-a578567b-28ce-44f8-87e9-ca74e9486515",
    "deepnote_cell_type": "markdown"
   }
  },
  {
   "cell_type": "markdown",
   "source": "## 3.4 Diagrama de dispersión ☁📈",
   "metadata": {
    "tags": [],
    "is_collapsed": false,
    "cell_id": "00024-c5c565df-054e-4075-b551-3632a3b1f930",
    "deepnote_cell_type": "text-cell-h2"
   }
  },
  {
   "cell_type": "code",
   "metadata": {
    "tags": [],
    "cell_id": "00015-656b8de9-436c-40ee-a573-386e5ce791d7",
    "deepnote_to_be_reexecuted": false,
    "source_hash": "ee4fda7e",
    "execution_start": 1637019172430,
    "execution_millis": 531,
    "deepnote_cell_type": "code"
   },
   "source": "# Scatterplot\nsns.set_theme(style=\"darkgrid\")\nplt.subplot(1,1,1)\nsns.scatterplot(data=dataset, x='Age', y='EstimatedSalary', palette='Accent_r', alpha=1, hue='Gender')\nplt.title('Edad vs Salario estimado\\n', fontsize=14)\nplt.xlabel('Edad',fontsize=10)\nplt.ylabel('Salario estimado',fontsize=10)\nplt.tight_layout();",
   "execution_count": 17,
   "outputs": [
    {
     "data": {
      "text/plain": "<Figure size 432x288 with 1 Axes>",
      "image/png": "[encoded data removed]"
     },
     "metadata": {
      "image/png": {
       "width": 420,
       "height": 276
      }
     },
     "output_type": "display_data"
    }
   ]
  },
  {
   "cell_type": "markdown",
   "source": "### Análisis del Scatterplot 📈🔍\n\nHay mucha **dispersión** y la **correlación** es nula entre estos dos **features**, lo único que podemos concluir es que tantos hombres y mujeres tienen comportamientos similares tomando como referencia esos **features**",
   "metadata": {
    "tags": [],
    "cell_id": "00036-a748828b-b6f3-448b-9d1f-3d6a0de6730d",
    "deepnote_cell_type": "markdown"
   }
  },
  {
   "cell_type": "markdown",
   "source": "## 3.5 Selección de features y de target 👉🏻💯",
   "metadata": {
    "tags": [],
    "is_collapsed": false,
    "cell_id": "00023-961cf203-f815-4f19-8249-5ca10fba9114",
    "deepnote_cell_type": "text-cell-h2"
   }
  },
  {
   "cell_type": "code",
   "metadata": {
    "tags": [],
    "cell_id": "00005-d91a2b37-7ee0-40b8-b436-7333dd75e53e",
    "deepnote_to_be_reexecuted": false,
    "source_hash": "d80f9a5c",
    "execution_start": 1637019173020,
    "execution_millis": 0,
    "deepnote_cell_type": "code"
   },
   "source": "# Definimos nuestros features y target\nX = data.drop(['User ID','Purchased'], axis=1)\ny = data['Purchased']",
   "execution_count": 18,
   "outputs": []
  },
  {
   "cell_type": "markdown",
   "source": "Tomamos los **features** que nos interesan y definimos nuestra variable **target**",
   "metadata": {
    "tags": [],
    "cell_id": "00039-5c29144d-05e5-4f6b-8269-603b7ec869d6",
    "deepnote_cell_type": "markdown"
   }
  },
  {
   "cell_type": "code",
   "metadata": {
    "tags": [],
    "cell_id": "00031-421f56dd-ab36-43a1-9906-3508f4041749",
    "deepnote_to_be_reexecuted": false,
    "source_hash": "6eb27abc",
    "execution_start": 1637019173021,
    "execution_millis": 51,
    "deepnote_cell_type": "code"
   },
   "source": "\"\"\"\n1. Hacemos Cross Validation a nuestros datos de entrenamiento y test por medio de K-Fold\n2. Printeamos para saber si la distribución fue la correcta\n\"\"\"\n\nkf = KFold(n_splits=10, shuffle=True, random_state=0)\n\nfor train, test in kf.split(X):\n\n    X_train = X.iloc[train]\n    y_train = y.iloc[train]\n    X_test = X.iloc[test]\n    y_test = y.iloc[test]\n\n\ndisplay(f'Datos de entrenamiento de X: {len(X_train)}')\ndisplay(f'Datos de prueba de X: {len(X_test)}')\ndisplay(f'Datos de entrenamiento de Y: {len(y_train)}')\ndisplay(f'Datos de prueba de Y: {len(y_test)}')",
   "execution_count": 19,
   "outputs": [
    {
     "data": {
      "text/plain": "'Datos de entrenamiento de X: 360'"
     },
     "metadata": {},
     "output_type": "display_data"
    },
    {
     "data": {
      "text/plain": "'Datos de prueba de X: 40'"
     },
     "metadata": {},
     "output_type": "display_data"
    },
    {
     "data": {
      "text/plain": "'Datos de entrenamiento de Y: 360'"
     },
     "metadata": {},
     "output_type": "display_data"
    },
    {
     "data": {
      "text/plain": "'Datos de prueba de Y: 40'"
     },
     "metadata": {},
     "output_type": "display_data"
    }
   ]
  },
  {
   "cell_type": "markdown",
   "source": "Realizamos **K-Fold** para que nuestros datos se encuentren lo más **barajados** posible para que el modelo trate de generalizar lo más que pueda y no caigamos en situación de **overfitting** ",
   "metadata": {
    "tags": [],
    "cell_id": "00042-0378a293-23ff-4b9f-992f-11876d21835a",
    "deepnote_cell_type": "markdown"
   }
  },
  {
   "cell_type": "markdown",
   "source": "# 4. Modelamiento 🧠🤖",
   "metadata": {
    "tags": [],
    "is_collapsed": false,
    "cell_id": "00032-5d69f1f5-ce36-48c5-a504-a1321c7f2dcf",
    "deepnote_cell_type": "text-cell-h1"
   }
  },
  {
   "cell_type": "code",
   "metadata": {
    "tags": [],
    "cell_id": "00032-bc4174a1-e91c-4110-b542-a2af39457bfe",
    "deepnote_to_be_reexecuted": false,
    "source_hash": "a59170eb",
    "execution_start": 1637019173068,
    "execution_millis": 197,
    "deepnote_cell_type": "code"
   },
   "source": "# Importamos nuestro estimador\nfrom sklearn.ensemble import RandomForestClassifier",
   "execution_count": 20,
   "outputs": []
  },
  {
   "cell_type": "markdown",
   "source": "## 4.1 Selección del modelo 👉🏻🤖",
   "metadata": {
    "tags": [],
    "is_collapsed": false,
    "cell_id": "00034-6e0254c1-50d3-4727-a0d8-b745f6f7f990",
    "deepnote_cell_type": "text-cell-h2"
   }
  },
  {
   "cell_type": "code",
   "metadata": {
    "tags": [],
    "cell_id": "00032-3459140c-9a2e-4dfa-ad09-eae363b300a1",
    "deepnote_to_be_reexecuted": false,
    "source_hash": "661d60ac",
    "execution_start": 1637019173274,
    "execution_millis": 6,
    "deepnote_cell_type": "code"
   },
   "source": "# Estimador\nclf = RandomForestClassifier()",
   "execution_count": 21,
   "outputs": []
  },
  {
   "cell_type": "markdown",
   "source": "## 4.2 Entrenamiento del modelo 🦾🤖",
   "metadata": {
    "tags": [],
    "is_collapsed": false,
    "cell_id": "00036-29143544-8eed-4674-9958-d3f9c8a6f7d6",
    "deepnote_cell_type": "text-cell-h2"
   }
  },
  {
   "cell_type": "code",
   "metadata": {
    "tags": [],
    "cell_id": "00035-51b7fdef-090e-4155-9ee8-0c010aeda287",
    "deepnote_to_be_reexecuted": false,
    "source_hash": "5fc5894f",
    "execution_start": 1637019173314,
    "execution_millis": 260,
    "deepnote_cell_type": "code"
   },
   "source": "# Entrenamos el estimador\nclf.fit(X_train, y_train)",
   "execution_count": 22,
   "outputs": [
    {
     "output_type": "execute_result",
     "execution_count": 22,
     "data": {
      "text/plain": "RandomForestClassifier()"
     },
     "metadata": {}
    }
   ]
  },
  {
   "cell_type": "markdown",
   "source": "## 4.3 Predicción del modelo 📈📉",
   "metadata": {
    "tags": [],
    "is_collapsed": false,
    "cell_id": "00038-263f95e4-2135-4f52-9f0b-728dfd8844ca",
    "deepnote_cell_type": "text-cell-h2"
   }
  },
  {
   "cell_type": "code",
   "metadata": {
    "tags": [],
    "cell_id": "00038-e0fbf9d5-ccd7-402b-8446-9cd738d494d2",
    "deepnote_to_be_reexecuted": false,
    "source_hash": "d4f7177b",
    "execution_start": 1637019173549,
    "execution_millis": 28,
    "deepnote_cell_type": "code"
   },
   "source": "# Predicción del estimador\nprint('\\t\\t\\tPredicción del modelo')\ny_pred = clf.predict(X_test)\ny_pred",
   "execution_count": 23,
   "outputs": [
    {
     "name": "stdout",
     "text": "\t\t\tPredicción del modelo\n",
     "output_type": "stream"
    },
    {
     "output_type": "execute_result",
     "execution_count": 23,
     "data": {
      "text/plain": "array([0, 1, 0, 0, 0, 0, 0, 0, 0, 0, 0, 1, 0, 1, 0, 0, 0, 0, 0, 0, 1, 1,\n       1, 0, 1, 1, 1, 1, 1, 0, 1, 0, 0, 0, 0, 0, 0, 1, 0, 0], dtype=int8)"
     },
     "metadata": {}
    }
   ]
  },
  {
   "cell_type": "markdown",
   "source": "En esta matriz podemos observar la **predicción** del modelo basado en los datos con los que se entrenó, ahora pasaremos a evaluarlo para ver cómo responde",
   "metadata": {
    "tags": [],
    "cell_id": "00051-3fa395cd-228a-4923-a2c7-6857440910cd",
    "deepnote_cell_type": "markdown"
   }
  },
  {
   "cell_type": "markdown",
   "source": "# 5. Evaluación del modelo 💻🤖",
   "metadata": {
    "tags": [],
    "is_collapsed": false,
    "cell_id": "00040-36b3677b-a503-404a-94dc-fd8c0c7bfad1",
    "deepnote_cell_type": "text-cell-h1"
   }
  },
  {
   "cell_type": "markdown",
   "source": "## 5.1 Cross Validation 🔀💻",
   "metadata": {
    "tags": [],
    "is_collapsed": false,
    "cell_id": "00041-f063ecc5-5b34-48df-8d12-ffa82cf71e25",
    "deepnote_cell_type": "text-cell-h2"
   }
  },
  {
   "cell_type": "code",
   "metadata": {
    "tags": [],
    "cell_id": "00042-352edda7-cdd4-4a13-ab30-7c0f79bbca75",
    "deepnote_to_be_reexecuted": false,
    "source_hash": "d56dcf",
    "execution_start": 1637019173571,
    "execution_millis": 2296,
    "deepnote_cell_type": "code"
   },
   "source": "# Hacemos validación cruzada con nuestro modelo\nresultados = cross_val_score(clf, X_train, y_train, cv=kf, scoring='f1_macro').mean()\ndisplay(f'Cross Validation del modelo: {resultados*100:.2f}%')",
   "execution_count": 24,
   "outputs": [
    {
     "data": {
      "text/plain": "'Cross Validation del modelo: 79.45%'"
     },
     "metadata": {},
     "output_type": "display_data"
    }
   ]
  },
  {
   "cell_type": "markdown",
   "source": "Realizamos **Cross Validation** con nuestro modelo y nos damos cuenta que obtuvo un buen **performance**",
   "metadata": {
    "tags": [],
    "cell_id": "00055-4352b612-3117-4274-ac33-8acfc5468a1d",
    "deepnote_cell_type": "markdown"
   }
  },
  {
   "cell_type": "code",
   "metadata": {
    "tags": [],
    "cell_id": "00044-14b73427-be02-455f-92e4-fc82209cddd4",
    "deepnote_to_be_reexecuted": false,
    "source_hash": "b92c2b7a",
    "execution_start": 1637019175875,
    "execution_millis": 25,
    "deepnote_cell_type": "code"
   },
   "source": "\"\"\"\n1. Importamos nuestras métricas\n2. Evaluamos el modelo con un Accuracy Score\n\"\"\"\n\n# Métricas\nfrom sklearn.metrics import make_scorer, accuracy_score\nfrom sklearn import metrics\n\n# Accuracy Score\naccuracy = clf.score(X_test, y_test)\ndisplay(f'Acuracy Score del modelo: {accuracy*100:.2f}%')",
   "execution_count": 25,
   "outputs": [
    {
     "data": {
      "text/plain": "'Acuracy Score del modelo: 85.00%'"
     },
     "metadata": {},
     "output_type": "display_data"
    }
   ]
  },
  {
   "cell_type": "markdown",
   "source": "Al validar los resultados con el **Accuracy Score** confirmamos lo antes mencionado",
   "metadata": {
    "tags": [],
    "cell_id": "00057-0b01483b-4073-4881-8e19-595823016a09",
    "deepnote_cell_type": "markdown"
   }
  },
  {
   "cell_type": "markdown",
   "source": "## 5.2 Optimización paramétrica 🔣🤖",
   "metadata": {
    "tags": [],
    "is_collapsed": false,
    "cell_id": "00045-2468f91f-43de-467d-86c1-7ade27da45cd",
    "deepnote_cell_type": "text-cell-h2"
   }
  },
  {
   "cell_type": "code",
   "metadata": {
    "tags": [],
    "cell_id": "00043-221e706e-fc47-4e19-b2f2-9023cb7a7209",
    "deepnote_to_be_reexecuted": false,
    "source_hash": "cab5f77c",
    "execution_start": 1637019175909,
    "execution_millis": 4,
    "deepnote_cell_type": "code"
   },
   "source": "# Grilla de Parámetros\narray = list(range(2,11))\narray2 = list(range(4,11))\n\nparameters = {'max_depth': array,\n              'n_estimators': array2,\n              'criterion': ['gini','entropy']}",
   "execution_count": 26,
   "outputs": []
  },
  {
   "cell_type": "markdown",
   "source": "Creamos una **grilla** de **parámetros** para tunear nuestro modelo para ver si le podemos hacer mejoras a este",
   "metadata": {
    "tags": [],
    "cell_id": "00060-8fb467d5-d4bc-49c9-a341-5f28dde45ae9",
    "deepnote_cell_type": "markdown"
   }
  },
  {
   "cell_type": "code",
   "metadata": {
    "tags": [],
    "cell_id": "00047-3cd2aa99-92b3-46af-b576-6e27c55c6321",
    "deepnote_to_be_reexecuted": false,
    "source_hash": "fc7a32e0",
    "execution_start": 1637019175923,
    "execution_millis": 34316,
    "deepnote_cell_type": "code"
   },
   "source": "\"\"\"\n1. Entrenamos nuestro clasificador con validación cruzada y los parámetros conseguidos\n2. Tomamos la media de la combinación de modelos\n3. Utilizamos el mejor modelo obtenido\n\"\"\"\n\nclf_cv = GridSearchCV(clf, parameters, cv=kf, n_jobs=-1, scoring='f1_macro')\nclf_cv = clf_cv.fit(X_train, y_train)\nclf_cv.cv_results_['mean_test_score']\nbest_model = clf_cv.best_estimator_",
   "execution_count": 27,
   "outputs": []
  },
  {
   "cell_type": "markdown",
   "source": "Al hacer varios procesos iterativos conseguimos los mejores **parámetros** y lo almacenamos como nuestro `best_model` ",
   "metadata": {
    "tags": [],
    "cell_id": "00062-2c356337-d64b-494e-b8d2-6876529b2b28",
    "deepnote_cell_type": "markdown"
   }
  },
  {
   "cell_type": "code",
   "metadata": {
    "tags": [],
    "cell_id": "00048-29492d7b-b8aa-4a31-af78-454748bf788f",
    "deepnote_to_be_reexecuted": false,
    "source_hash": "603dc1fa",
    "execution_start": 1637019210239,
    "execution_millis": 202,
    "deepnote_cell_type": "code"
   },
   "source": "# Hacemos validación cruzada con nuestro mejor modelo y sacamos la media de la validación cruzada\n\nscores = cross_val_score(best_model, X_train, y_train, cv=kf, scoring='f1_macro').mean()\ndisplay(f'Cross Validation del modelo optimizado: {scores*100:.2f}%')",
   "execution_count": 28,
   "outputs": [
    {
     "data": {
      "text/plain": "'Cross Validation del modelo optimizado: 83.86%'"
     },
     "metadata": {},
     "output_type": "display_data"
    }
   ]
  },
  {
   "cell_type": "markdown",
   "source": "Al hacer nuevamente **Cross Validation** pero con nuestro nuevo **modelo parametrizado** conseguimos un **Accuraccy Score** más bajo pero seguramente con mejor **performance** en el que probablemente no sufrirá de **overfitting**",
   "metadata": {
    "tags": [],
    "cell_id": "00064-6777fdbc-5565-4886-bc44-990cc36d2208",
    "deepnote_cell_type": "markdown"
   }
  },
  {
   "cell_type": "code",
   "metadata": {
    "tags": [],
    "cell_id": "00065-0ad6d9c2-25fa-4d3c-9dc2-a4727261c674",
    "deepnote_to_be_reexecuted": false,
    "source_hash": "7fd2fe1b",
    "execution_start": 1637019210453,
    "execution_millis": 8,
    "deepnote_cell_type": "code"
   },
   "source": "# Accuracy Score\n\naccuracy2 = clf_cv.score(X_test, y_test)\ndisplay(f'Acuracy Score del modelo optimizado: {accuracy2*100:.2f}%')",
   "execution_count": 29,
   "outputs": [
    {
     "data": {
      "text/plain": "'Acuracy Score del modelo optimizado: 88.60%'"
     },
     "metadata": {},
     "output_type": "display_data"
    }
   ]
  },
  {
   "cell_type": "markdown",
   "source": "Confirmamos los resultados de nuestro **modelo optimizado** con un mejor **Accuracy Score** que el anterior",
   "metadata": {
    "tags": [],
    "cell_id": "00066-16fdf910-ca62-4da6-99c4-ed2a4bc84dcd",
    "deepnote_cell_type": "markdown"
   }
  },
  {
   "cell_type": "markdown",
   "source": "## 5.3 Predicción optimizada 📈📉",
   "metadata": {
    "tags": [],
    "is_collapsed": false,
    "cell_id": "00049-79b382e6-0ebb-47df-82d2-3af90bf12be6",
    "deepnote_cell_type": "text-cell-h2"
   }
  },
  {
   "cell_type": "code",
   "metadata": {
    "tags": [],
    "cell_id": "00049-222bd0f0-8fe3-45b7-853f-bee17245f6df",
    "deepnote_to_be_reexecuted": false,
    "source_hash": "24ff609c",
    "execution_start": 1637019210478,
    "execution_millis": 0,
    "deepnote_cell_type": "code"
   },
   "source": "# Predicción optimizada\nprint('\\t\\t\\tPredicción del modelo')\ny_pred_cv = best_model.predict(X_test)\ndisplay(y_pred_cv)",
   "execution_count": 30,
   "outputs": [
    {
     "name": "stdout",
     "text": "\t\t\tPredicción del modelo\n",
     "output_type": "stream"
    },
    {
     "data": {
      "text/plain": "array([0, 1, 0, 0, 0, 0, 0, 0, 0, 0, 0, 1, 0, 1, 0, 0, 0, 0, 0, 0, 1, 1,\n       1, 0, 1, 1, 1, 0, 1, 0, 1, 0, 0, 0, 0, 0, 0, 0, 1, 1], dtype=int8)"
     },
     "metadata": {},
     "output_type": "display_data"
    }
   ]
  },
  {
   "cell_type": "markdown",
   "source": "Realizamos nuevamente la **predicción** con el **nuevo modelo**",
   "metadata": {
    "tags": [],
    "cell_id": "00067-c90411ba-ce7f-4263-b1f4-bda3f68e4aa0",
    "deepnote_cell_type": "markdown"
   }
  },
  {
   "cell_type": "markdown",
   "source": "## 5.4 Matriz de Confusión 🔢😵",
   "metadata": {
    "tags": [],
    "is_collapsed": false,
    "cell_id": "00051-9d885c5a-8779-466b-9048-913fdb5c3f98",
    "deepnote_cell_type": "text-cell-h2"
   }
  },
  {
   "cell_type": "code",
   "metadata": {
    "tags": [],
    "cell_id": "00052-e9c3148c-a3e9-4e80-a4b9-29f33f078420",
    "deepnote_to_be_reexecuted": false,
    "source_hash": "a4ad8f89",
    "execution_start": 1637019210491,
    "execution_millis": 3,
    "deepnote_cell_type": "code"
   },
   "source": "# Matriz de confusión sin Optimización\ncnf_matrix_clf = metrics.confusion_matrix(y_test,y_pred)\ncnf_matrix_clf",
   "execution_count": 31,
   "outputs": [
    {
     "output_type": "execute_result",
     "execution_count": 31,
     "data": {
      "text/plain": "array([[24,  3],\n       [ 3, 10]])"
     },
     "metadata": {}
    }
   ]
  },
  {
   "cell_type": "markdown",
   "source": "Para finalizar con la **validación** de nuestro **modelo** haremos una **Matriz de Confusión** para ver cómo se comportaron los datos de **prueba** con los de **predicción** y ante un posible escenario en el que haya ingesta de datos el modelo pueda **generalizar** de la mejor forma",
   "metadata": {
    "tags": [],
    "cell_id": "00070-d4ceac69-4c71-434d-9870-d9ea144918a1",
    "deepnote_cell_type": "markdown"
   }
  },
  {
   "cell_type": "code",
   "metadata": {
    "tags": [],
    "cell_id": "00052-da6bb935-8f7a-471d-8d9f-d4dfc29a26bf",
    "deepnote_to_be_reexecuted": false,
    "source_hash": "63fd79d4",
    "execution_start": 1637019210507,
    "execution_millis": 437,
    "deepnote_cell_type": "code"
   },
   "source": "# Definimos las etiquetas de nuestra Matriz de confusión\nclass_names = [0,1]\nfig,ax = plt.subplots(figsize=(8,7)) \ntick_marks = np.arange(len(class_names))\nplt.xticks(tick_marks, class_names)\nplt.yticks(tick_marks, class_names) \n\n# Creamos nuestra Matriz de confusión\nsns.heatmap(pd.DataFrame(cnf_matrix_clf), annot = True, cmap='OrRd', fmt='g')\nax.xaxis.set_label_position('top')\nplt.title('Matriz de Confusión\\n', y=1.1, fontsize=14)\nplt.ylabel('Etiqueta Actual', fontsize=12)\nplt.xlabel('Etiqueta de Predicción', fontsize=12)\nplt.tight_layout();",
   "execution_count": 32,
   "outputs": [
    {
     "data": {
      "text/plain": "<Figure size 576x504 with 2 Axes>",
      "image/png": "[encoded data removed]"
     },
     "metadata": {
      "image/png": {
       "width": 540,
       "height": 493
      }
     },
     "output_type": "display_data"
    }
   ]
  },
  {
   "cell_type": "code",
   "metadata": {
    "tags": [],
    "cell_id": "00054-2b07fb2d-f1b3-45c1-891c-888e3f027ddd",
    "deepnote_to_be_reexecuted": false,
    "source_hash": "eae62400",
    "execution_start": 1637019210952,
    "execution_millis": 296698,
    "deepnote_cell_type": "code"
   },
   "source": "# Matriz de confusión sin Optimización\ncnf_matrix_clf_cv = metrics.confusion_matrix(y_test,y_pred_cv)\ncnf_matrix_clf_cv",
   "execution_count": 33,
   "outputs": [
    {
     "output_type": "execute_result",
     "execution_count": 33,
     "data": {
      "text/plain": "array([[25,  2],\n       [ 2, 11]])"
     },
     "metadata": {}
    }
   ]
  },
  {
   "cell_type": "code",
   "metadata": {
    "tags": [],
    "cell_id": "00053-9641768e-3976-4299-bbdb-c228445b4f99",
    "deepnote_to_be_reexecuted": false,
    "source_hash": "dc2c84eb",
    "execution_start": 1637019210963,
    "execution_millis": 400,
    "deepnote_cell_type": "code"
   },
   "source": "# Definimos las etiquetas de nuestra Matriz de confusión\nclass_names = [0,1]\nfig,ax = plt.subplots(figsize=(8,7)) \ntick_marks = np.arange(len(class_names))\nplt.xticks(tick_marks, class_names)\nplt.yticks(tick_marks, class_names) \n\n# Creamos nuestra Matriz de confusión\nsns.heatmap(pd.DataFrame(cnf_matrix_clf_cv), annot = True, cmap='Greens_r', fmt='g')\nax.xaxis.set_label_position('top')\nplt.title('Matriz de Confusión\\n', y=1.1, fontsize=14)\nplt.ylabel('Etiqueta Actual', fontsize=12)\nplt.xlabel('Etiqueta de Predicción', fontsize=12)\nplt.tight_layout();",
   "execution_count": 34,
   "outputs": [
    {
     "data": {
      "text/plain": "<Figure size 576x504 with 2 Axes>",
      "image/png": "[encoded data removed]"
     },
     "metadata": {
      "image/png": {
       "width": 530,
       "height": 493
      }
     },
     "output_type": "display_data"
    }
   ]
  },
  {
   "cell_type": "markdown",
   "source": "### Análisis de las Matrices de Confusión\n\nComo podemos notar son muy parecidos los resultados, sin embargo es más probable que la segunda tenga mejor **precisión** con los resultados, ya que se tomaron las medidas para que se consiguiera el **mejor modelo** dentro de una combinación de **permutaciones** posibles al tratar de mejorarlo.\n\n**Resultados**\n\n$Verdaderos \\ Postivos \\ 25$\n\n$Verdaderos \\ Negativos \\ 11$\n\n$Falsos \\ Postivos \\ 2$\n\n$Falsos \\ Negativos \\ 2$",
   "metadata": {
    "tags": [],
    "cell_id": "00074-414a5b0b-cf45-48c8-b90b-bc1739cc8eaa",
    "deepnote_cell_type": "markdown"
   }
  },
  {
   "cell_type": "markdown",
   "source": "# 6. Conclusiones 📋🖊",
   "metadata": {
    "tags": [],
    "is_collapsed": false,
    "cell_id": "00075-b3d8d2a8-a097-453c-9a9e-cd72b65e07bd",
    "deepnote_cell_type": "text-cell-h1"
   }
  },
  {
   "cell_type": "markdown",
   "source": "- Llevamos a cabo un estudio con la **técnica de EDA (Exploratory Data Analysis)**.\n- Las **visualizaciones** mostradas en los gráficos dijeron cosas muy apropiadas que fueron relevantes. \n- La **Matriz de Correlaciones** mostró un patrón de manera más marcada.\n- Obtuvimos excelentes performance con **Cross Validation** del $79,45$% y $83,86$% sin parametrizar y parametrizado respectivamente.\n- Nuestro **clasificador parametrizado** resultó ser más **robusto** y nos condujo a un mejor escenario.\n- Nuestros Scores mejoraron con la parametrización, pasamos de $85$% a $88,60$% con una tasa de variación de $4$% en **performance**.",
   "metadata": {
    "tags": [],
    "cell_id": "00076-e7964ba6-c339-4b53-84b1-531c12879a24",
    "deepnote_cell_type": "markdown"
   }
  },
  {
   "cell_type": "markdown",
   "source": "# 7. Trabajo finalizado 📄✔",
   "metadata": {
    "tags": [],
    "is_collapsed": false,
    "cell_id": "00077-920266d7-85f0-462b-8621-b0f8e14fbf18",
    "deepnote_cell_type": "text-cell-h1"
   }
  },
  {
   "cell_type": "markdown",
   "source": "![link text](https://media.giphy.com/media/fDzM81OYrNjJC/source.gif?cid=ecf05e471mkgebs0ci5cquqshmfeg7fbpcbmws5rspjgh31e&rid=source.gif&ct=g)",
   "metadata": {
    "tags": [],
    "cell_id": "00078-ea42a1d4-9386-4acd-accb-f7d22fc0f9a2",
    "deepnote_cell_type": "markdown"
   }
  },
  {
   "cell_type": "markdown",
   "source": "<a style='text-decoration:none;line-height:16px;display:flex;color:#5B5B62;padding:10px;justify-content:end;' href='https://deepnote.com?utm_source=created-in-deepnote-cell&projectId=4ec84517-f553-446b-9032-1da3132bd62a' target=\"_blank\">\n<img alt='Created in deepnote.com' style='display:inline;max-height:16px;margin:0px;margin-right:7.5px;' src='data:image/svg+xml;base64,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' > </img>\nCreated in <span style='font-weight:600;margin-left:4px;'>Deepnote</span></a>",
   "metadata": {
    "tags": [],
    "created_in_deepnote_cell": true,
    "deepnote_cell_type": "markdown"
   }
  }
 ],
 "nbformat": 4,
 "nbformat_minor": 2,
 "metadata": {
  "orig_nbformat": 2,
  "deepnote": {
   "is_reactive": false
  },
  "deepnote_notebook_id": "bddfa403-77f7-41b8-a17a-f66c18e672bd",
  "deepnote_execution_queue": []
 }
}