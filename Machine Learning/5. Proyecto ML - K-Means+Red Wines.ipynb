{
 "cells": [
  {
   "cell_type": "markdown",
   "source": "# 1. Definición del problema 🎯",
   "metadata": {
    "tags": [],
    "is_collapsed": false,
    "cell_id": "00000-b033fb38-a728-48a6-a68e-408bcd55cce1",
    "deepnote_cell_type": "text-cell-h1"
   }
  },
  {
   "cell_type": "markdown",
   "source": "El **dataset** que utilizaremos es de **Kaggle**, un gran lugar para conseguir **datasets** para tus estudios en Ciencia de Datos e Inteligencia Artificial\n\nEl **dataset** es sobre una recolección de datos acerca de vino rojo de las cuales tiene variables como su densidad, pH, clóridos, entre otros. Puedes descargarlo [aquí](https://www.kaggle.com/uciml/red-wine-quality-cortez-et-al-2009) en **Kaggle**. El objetivo de este **dataset** es **agrupar** a los vinos en distintos clusters basados en algún criterio encontrado durante la investigación.",
   "metadata": {
    "tags": [],
    "cell_id": "00001-76f67a98-0e75-4345-9b5b-d1e153ef6d3c",
    "deepnote_cell_type": "markdown"
   }
  },
  {
   "cell_type": "markdown",
   "source": "# 2. Preparación de los datos 💿 🧑🏻‍💻",
   "metadata": {
    "tags": [],
    "is_collapsed": false,
    "cell_id": "00000-def79d2b-a346-4551-a16d-88670575af4c",
    "deepnote_cell_type": "text-cell-h1"
   }
  },
  {
   "cell_type": "markdown",
   "source": "## 2.1 Configuración inicial 👨🏻‍💻",
   "metadata": {
    "tags": [],
    "is_collapsed": false,
    "cell_id": "00001-4ae73096-6308-4176-9714-e1fc3b283919",
    "deepnote_cell_type": "text-cell-h2"
   }
  },
  {
   "cell_type": "code",
   "metadata": {
    "tags": [],
    "deepnote_to_be_reexecuted": false,
    "source_hash": "39729662",
    "execution_start": 1637130624283,
    "execution_millis": 1470,
    "cell_id": "00001-0e682a9c-3031-40a3-aedc-87aa02915bd2",
    "deepnote_cell_type": "code"
   },
   "source": "# Core\nimport pandas as pd\nimport numpy as np\nimport warnings\nfrom IPython.display import *\nimport matplotlib.pyplot as plt\nimport seaborn as sns",
   "execution_count": 1,
   "outputs": []
  },
  {
   "cell_type": "code",
   "metadata": {
    "tags": [],
    "deepnote_to_be_reexecuted": false,
    "source_hash": "96b7119d",
    "execution_start": 1637130625770,
    "execution_millis": 3,
    "cell_id": "00002-395846b1-4e58-401c-b291-618cc62fe8f9",
    "deepnote_cell_type": "code"
   },
   "source": "# Evitamos la notación científica y rendondeamos los valores a 2 dígitos después de la coma\npd.options.display.float_format = '{:,.2f}'.format\n\n# Ignore Warnings\nwarnings.filterwarnings('ignore')",
   "execution_count": 2,
   "outputs": []
  },
  {
   "cell_type": "markdown",
   "source": "## 2.2 Obtención de los datos 💿💻",
   "metadata": {
    "tags": [],
    "is_collapsed": false,
    "cell_id": "00004-0004fbb8-f1e1-49d4-975c-570a5c5ccbd6",
    "deepnote_cell_type": "text-cell-h2"
   }
  },
  {
   "cell_type": "code",
   "metadata": {
    "tags": [],
    "deepnote_to_be_reexecuted": false,
    "source_hash": "d22ce851",
    "execution_start": 1637130625828,
    "execution_millis": 148,
    "cell_id": "00003-ff590530-189f-493c-9665-03eae8923047",
    "deepnote_cell_type": "code"
   },
   "source": "# Cargamos nuestro dataset\nred = pd.read_csv('https://raw.githubusercontent.com/jorge-robledo11/Datasets/main/Datasets/wine/winequality-red.csv', sep=';')\nred.head()",
   "execution_count": 3,
   "outputs": [
    {
     "output_type": "execute_result",
     "execution_count": 3,
     "data": {
      "application/vnd.deepnote.dataframe.v2+json": {
       "row_count": 5,
       "column_count": 12,
       "columns": [
        {
         "name": "fixed acidity",
         "dtype": "float64",
         "stats": {
          "unique_count": 3,
          "nan_count": 0,
          "min": "7.4",
          "max": "11.2",
          "histogram": [
           {
            "bin_start": 7.4,
            "bin_end": 7.78,
            "count": 2
           },
           {
            "bin_start": 7.78,
            "bin_end": 8.16,
            "count": 2
           },
           {
            "bin_start": 8.16,
            "bin_end": 8.54,
            "count": 0
           },
           {
            "bin_start": 8.54,
            "bin_end": 8.92,
            "count": 0
           },
           {
            "bin_start": 8.92,
            "bin_end": 9.3,
            "count": 0
           },
           {
            "bin_start": 9.3,
            "bin_end": 9.68,
            "count": 0
           },
           {
            "bin_start": 9.68,
            "bin_end": 10.059999999999999,
            "count": 0
           },
           {
            "bin_start": 10.059999999999999,
            "bin_end": 10.44,
            "count": 0
           },
           {
            "bin_start": 10.44,
            "bin_end": 10.82,
            "count": 0
           },
           {
            "bin_start": 10.82,
            "bin_end": 11.2,
            "count": 1
           }
          ]
         }
        },
        {
         "name": "volatile acidity",
         "dtype": "float64",
         "stats": {
          "unique_count": 4,
          "nan_count": 0,
          "min": "0.28",
          "max": "0.88",
          "histogram": [
           {
            "bin_start": 0.28,
            "bin_end": 0.34,
            "count": 1
           },
           {
            "bin_start": 0.34,
            "bin_end": 0.4,
            "count": 0
           },
           {
            "bin_start": 0.4,
            "bin_end": 0.46,
            "count": 0
           },
           {
            "bin_start": 0.46,
            "bin_end": 0.52,
            "count": 0
           },
           {
            "bin_start": 0.52,
            "bin_end": 0.5800000000000001,
            "count": 0
           },
           {
            "bin_start": 0.5800000000000001,
            "bin_end": 0.64,
            "count": 0
           },
           {
            "bin_start": 0.64,
            "bin_end": 0.7,
            "count": 0
           },
           {
            "bin_start": 0.7,
            "bin_end": 0.76,
            "count": 2
           },
           {
            "bin_start": 0.76,
            "bin_end": 0.8200000000000001,
            "count": 1
           },
           {
            "bin_start": 0.8200000000000001,
            "bin_end": 0.88,
            "count": 1
           }
          ]
         }
        },
        {
         "name": "citric acid",
         "dtype": "float64",
         "stats": {
          "unique_count": 3,
          "nan_count": 0,
          "min": "0.0",
          "max": "0.56",
          "histogram": [
           {
            "bin_start": 0,
            "bin_end": 0.05600000000000001,
            "count": 4
           },
           {
            "bin_start": 0.05600000000000001,
            "bin_end": 0.11200000000000002,
            "count": 0
           },
           {
            "bin_start": 0.11200000000000002,
            "bin_end": 0.16800000000000004,
            "count": 0
           },
           {
            "bin_start": 0.16800000000000004,
            "bin_end": 0.22400000000000003,
            "count": 0
           },
           {
            "bin_start": 0.22400000000000003,
            "bin_end": 0.28,
            "count": 0
           },
           {
            "bin_start": 0.28,
            "bin_end": 0.3360000000000001,
            "count": 0
           },
           {
            "bin_start": 0.3360000000000001,
            "bin_end": 0.39200000000000007,
            "count": 0
           },
           {
            "bin_start": 0.39200000000000007,
            "bin_end": 0.44800000000000006,
            "count": 0
           },
           {
            "bin_start": 0.44800000000000006,
            "bin_end": 0.5040000000000001,
            "count": 0
           },
           {
            "bin_start": 0.5040000000000001,
            "bin_end": 0.56,
            "count": 1
           }
          ]
         }
        },
        {
         "name": "residual sugar",
         "dtype": "float64",
         "stats": {
          "unique_count": 3,
          "nan_count": 0,
          "min": "1.9",
          "max": "2.6",
          "histogram": [
           {
            "bin_start": 1.9,
            "bin_end": 1.97,
            "count": 3
           },
           {
            "bin_start": 1.97,
            "bin_end": 2.04,
            "count": 0
           },
           {
            "bin_start": 2.04,
            "bin_end": 2.11,
            "count": 0
           },
           {
            "bin_start": 2.11,
            "bin_end": 2.18,
            "count": 0
           },
           {
            "bin_start": 2.18,
            "bin_end": 2.25,
            "count": 0
           },
           {
            "bin_start": 2.25,
            "bin_end": 2.3200000000000003,
            "count": 1
           },
           {
            "bin_start": 2.3200000000000003,
            "bin_end": 2.39,
            "count": 0
           },
           {
            "bin_start": 2.39,
            "bin_end": 2.46,
            "count": 0
           },
           {
            "bin_start": 2.46,
            "bin_end": 2.5300000000000002,
            "count": 0
           },
           {
            "bin_start": 2.5300000000000002,
            "bin_end": 2.6,
            "count": 1
           }
          ]
         }
        },
        {
         "name": "chlorides",
         "dtype": "float64",
         "stats": {
          "unique_count": 4,
          "nan_count": 0,
          "min": "0.075",
          "max": "0.098",
          "histogram": [
           {
            "bin_start": 0.075,
            "bin_end": 0.0773,
            "count": 3
           },
           {
            "bin_start": 0.0773,
            "bin_end": 0.0796,
            "count": 0
           },
           {
            "bin_start": 0.0796,
            "bin_end": 0.0819,
            "count": 0
           },
           {
            "bin_start": 0.0819,
            "bin_end": 0.0842,
            "count": 0
           },
           {
            "bin_start": 0.0842,
            "bin_end": 0.0865,
            "count": 0
           },
           {
            "bin_start": 0.0865,
            "bin_end": 0.0888,
            "count": 0
           },
           {
            "bin_start": 0.0888,
            "bin_end": 0.0911,
            "count": 0
           },
           {
            "bin_start": 0.0911,
            "bin_end": 0.09340000000000001,
            "count": 1
           },
           {
            "bin_start": 0.09340000000000001,
            "bin_end": 0.09570000000000001,
            "count": 0
           },
           {
            "bin_start": 0.09570000000000001,
            "bin_end": 0.098,
            "count": 1
           }
          ]
         }
        },
        {
         "name": "free sulfur dioxide",
         "dtype": "float64",
         "stats": {
          "unique_count": 4,
          "nan_count": 0,
          "min": "11.0",
          "max": "25.0",
          "histogram": [
           {
            "bin_start": 11,
            "bin_end": 12.4,
            "count": 2
           },
           {
            "bin_start": 12.4,
            "bin_end": 13.8,
            "count": 0
           },
           {
            "bin_start": 13.8,
            "bin_end": 15.2,
            "count": 1
           },
           {
            "bin_start": 15.2,
            "bin_end": 16.6,
            "count": 0
           },
           {
            "bin_start": 16.6,
            "bin_end": 18,
            "count": 1
           },
           {
            "bin_start": 18,
            "bin_end": 19.4,
            "count": 0
           },
           {
            "bin_start": 19.4,
            "bin_end": 20.799999999999997,
            "count": 0
           },
           {
            "bin_start": 20.799999999999997,
            "bin_end": 22.2,
            "count": 0
           },
           {
            "bin_start": 22.2,
            "bin_end": 23.6,
            "count": 0
           },
           {
            "bin_start": 23.6,
            "bin_end": 25,
            "count": 1
           }
          ]
         }
        },
        {
         "name": "total sulfur dioxide",
         "dtype": "float64",
         "stats": {
          "unique_count": 4,
          "nan_count": 0,
          "min": "34.0",
          "max": "67.0",
          "histogram": [
           {
            "bin_start": 34,
            "bin_end": 37.3,
            "count": 2
           },
           {
            "bin_start": 37.3,
            "bin_end": 40.6,
            "count": 0
           },
           {
            "bin_start": 40.6,
            "bin_end": 43.9,
            "count": 0
           },
           {
            "bin_start": 43.9,
            "bin_end": 47.2,
            "count": 0
           },
           {
            "bin_start": 47.2,
            "bin_end": 50.5,
            "count": 0
           },
           {
            "bin_start": 50.5,
            "bin_end": 53.8,
            "count": 0
           },
           {
            "bin_start": 53.8,
            "bin_end": 57.099999999999994,
            "count": 1
           },
           {
            "bin_start": 57.099999999999994,
            "bin_end": 60.4,
            "count": 1
           },
           {
            "bin_start": 60.4,
            "bin_end": 63.7,
            "count": 0
           },
           {
            "bin_start": 63.7,
            "bin_end": 67,
            "count": 1
           }
          ]
         }
        },
        {
         "name": "density",
         "dtype": "float64",
         "stats": {
          "unique_count": 4,
          "nan_count": 0,
          "min": "0.9968",
          "max": "0.998",
          "histogram": [
           {
            "bin_start": 0.9968,
            "bin_end": 0.99692,
            "count": 1
           },
           {
            "bin_start": 0.99692,
            "bin_end": 0.99704,
            "count": 1
           },
           {
            "bin_start": 0.99704,
            "bin_end": 0.99716,
            "count": 0
           },
           {
            "bin_start": 0.99716,
            "bin_end": 0.99728,
            "count": 0
           },
           {
            "bin_start": 0.99728,
            "bin_end": 0.9974000000000001,
            "count": 0
           },
           {
            "bin_start": 0.9974000000000001,
            "bin_end": 0.99752,
            "count": 0
           },
           {
            "bin_start": 0.99752,
            "bin_end": 0.99764,
            "count": 0
           },
           {
            "bin_start": 0.99764,
            "bin_end": 0.99776,
            "count": 0
           },
           {
            "bin_start": 0.99776,
            "bin_end": 0.99788,
            "count": 2
           },
           {
            "bin_start": 0.99788,
            "bin_end": 0.998,
            "count": 1
           }
          ]
         }
        },
        {
         "name": "pH",
         "dtype": "float64",
         "stats": {
          "unique_count": 4,
          "nan_count": 0,
          "min": "3.16",
          "max": "3.51",
          "histogram": [
           {
            "bin_start": 3.16,
            "bin_end": 3.1950000000000003,
            "count": 1
           },
           {
            "bin_start": 3.1950000000000003,
            "bin_end": 3.23,
            "count": 1
           },
           {
            "bin_start": 3.23,
            "bin_end": 3.265,
            "count": 1
           },
           {
            "bin_start": 3.265,
            "bin_end": 3.3,
            "count": 0
           },
           {
            "bin_start": 3.3,
            "bin_end": 3.335,
            "count": 0
           },
           {
            "bin_start": 3.335,
            "bin_end": 3.37,
            "count": 0
           },
           {
            "bin_start": 3.37,
            "bin_end": 3.405,
            "count": 0
           },
           {
            "bin_start": 3.405,
            "bin_end": 3.44,
            "count": 0
           },
           {
            "bin_start": 3.44,
            "bin_end": 3.4749999999999996,
            "count": 0
           },
           {
            "bin_start": 3.4749999999999996,
            "bin_end": 3.51,
            "count": 2
           }
          ]
         }
        },
        {
         "name": "sulphates",
         "dtype": "float64",
         "stats": {
          "unique_count": 4,
          "nan_count": 0,
          "min": "0.56",
          "max": "0.68",
          "histogram": [
           {
            "bin_start": 0.56,
            "bin_end": 0.5720000000000001,
            "count": 2
           },
           {
            "bin_start": 0.5720000000000001,
            "bin_end": 0.5840000000000001,
            "count": 1
           },
           {
            "bin_start": 0.5840000000000001,
            "bin_end": 0.5960000000000001,
            "count": 0
           },
           {
            "bin_start": 0.5960000000000001,
            "bin_end": 0.6080000000000001,
            "count": 0
           },
           {
            "bin_start": 0.6080000000000001,
            "bin_end": 0.6200000000000001,
            "count": 0
           },
           {
            "bin_start": 0.6200000000000001,
            "bin_end": 0.6320000000000001,
            "count": 0
           },
           {
            "bin_start": 0.6320000000000001,
            "bin_end": 0.644,
            "count": 0
           },
           {
            "bin_start": 0.644,
            "bin_end": 0.656,
            "count": 1
           },
           {
            "bin_start": 0.656,
            "bin_end": 0.668,
            "count": 0
           },
           {
            "bin_start": 0.668,
            "bin_end": 0.68,
            "count": 1
           }
          ]
         }
        },
        {
         "name": "alcohol",
         "dtype": "float64",
         "stats": {
          "unique_count": 2,
          "nan_count": 0,
          "min": "9.4",
          "max": "9.8",
          "histogram": [
           {
            "bin_start": 9.4,
            "bin_end": 9.440000000000001,
            "count": 2
           },
           {
            "bin_start": 9.440000000000001,
            "bin_end": 9.48,
            "count": 0
           },
           {
            "bin_start": 9.48,
            "bin_end": 9.52,
            "count": 0
           },
           {
            "bin_start": 9.52,
            "bin_end": 9.56,
            "count": 0
           },
           {
            "bin_start": 9.56,
            "bin_end": 9.600000000000001,
            "count": 0
           },
           {
            "bin_start": 9.600000000000001,
            "bin_end": 9.64,
            "count": 0
           },
           {
            "bin_start": 9.64,
            "bin_end": 9.68,
            "count": 0
           },
           {
            "bin_start": 9.68,
            "bin_end": 9.72,
            "count": 0
           },
           {
            "bin_start": 9.72,
            "bin_end": 9.760000000000002,
            "count": 0
           },
           {
            "bin_start": 9.760000000000002,
            "bin_end": 9.8,
            "count": 3
           }
          ]
         }
        },
        {
         "name": "quality",
         "dtype": "int64",
         "stats": {
          "unique_count": 2,
          "nan_count": 0,
          "min": "5",
          "max": "6",
          "histogram": [
           {
            "bin_start": 5,
            "bin_end": 5.1,
            "count": 4
           },
           {
            "bin_start": 5.1,
            "bin_end": 5.2,
            "count": 0
           },
           {
            "bin_start": 5.2,
            "bin_end": 5.3,
            "count": 0
           },
           {
            "bin_start": 5.3,
            "bin_end": 5.4,
            "count": 0
           },
           {
            "bin_start": 5.4,
            "bin_end": 5.5,
            "count": 0
           },
           {
            "bin_start": 5.5,
            "bin_end": 5.6,
            "count": 0
           },
           {
            "bin_start": 5.6,
            "bin_end": 5.7,
            "count": 0
           },
           {
            "bin_start": 5.7,
            "bin_end": 5.8,
            "count": 0
           },
           {
            "bin_start": 5.8,
            "bin_end": 5.9,
            "count": 0
           },
           {
            "bin_start": 5.9,
            "bin_end": 6,
            "count": 1
           }
          ]
         }
        },
        {
         "name": "_deepnote_index_column",
         "dtype": "int64"
        }
       ],
       "rows_top": [
        {
         "fixed acidity": 7.4,
         "volatile acidity": 0.7,
         "citric acid": 0,
         "residual sugar": 1.9,
         "chlorides": 0.076,
         "free sulfur dioxide": 11,
         "total sulfur dioxide": 34,
         "density": 0.9978,
         "pH": 3.51,
         "sulphates": 0.56,
         "alcohol": 9.4,
         "quality": 5,
         "_deepnote_index_column": 0
        },
        {
         "fixed acidity": 7.8,
         "volatile acidity": 0.88,
         "citric acid": 0,
         "residual sugar": 2.6,
         "chlorides": 0.098,
         "free sulfur dioxide": 25,
         "total sulfur dioxide": 67,
         "density": 0.9968,
         "pH": 3.2,
         "sulphates": 0.68,
         "alcohol": 9.8,
         "quality": 5,
         "_deepnote_index_column": 1
        },
        {
         "fixed acidity": 7.8,
         "volatile acidity": 0.76,
         "citric acid": 0.04,
         "residual sugar": 2.3,
         "chlorides": 0.092,
         "free sulfur dioxide": 15,
         "total sulfur dioxide": 54,
         "density": 0.997,
         "pH": 3.26,
         "sulphates": 0.65,
         "alcohol": 9.8,
         "quality": 5,
         "_deepnote_index_column": 2
        },
        {
         "fixed acidity": 11.2,
         "volatile acidity": 0.28,
         "citric acid": 0.56,
         "residual sugar": 1.9,
         "chlorides": 0.075,
         "free sulfur dioxide": 17,
         "total sulfur dioxide": 60,
         "density": 0.998,
         "pH": 3.16,
         "sulphates": 0.58,
         "alcohol": 9.8,
         "quality": 6,
         "_deepnote_index_column": 3
        },
        {
         "fixed acidity": 7.4,
         "volatile acidity": 0.7,
         "citric acid": 0,
         "residual sugar": 1.9,
         "chlorides": 0.076,
         "free sulfur dioxide": 11,
         "total sulfur dioxide": 34,
         "density": 0.9978,
         "pH": 3.51,
         "sulphates": 0.56,
         "alcohol": 9.4,
         "quality": 5,
         "_deepnote_index_column": 4
        }
       ],
       "rows_bottom": null
      },
      "text/plain": "   fixed acidity  volatile acidity  citric acid  residual sugar  chlorides  \\\n0           7.40              0.70         0.00            1.90       0.08   \n1           7.80              0.88         0.00            2.60       0.10   \n2           7.80              0.76         0.04            2.30       0.09   \n3          11.20              0.28         0.56            1.90       0.07   \n4           7.40              0.70         0.00            1.90       0.08   \n\n   free sulfur dioxide  total sulfur dioxide  density   pH  sulphates  \\\n0                11.00                 34.00     1.00 3.51       0.56   \n1                25.00                 67.00     1.00 3.20       0.68   \n2                15.00                 54.00     1.00 3.26       0.65   \n3                17.00                 60.00     1.00 3.16       0.58   \n4                11.00                 34.00     1.00 3.51       0.56   \n\n   alcohol  quality  \n0     9.40        5  \n1     9.80        5  \n2     9.80        5  \n3     9.80        6  \n4     9.40        5  ",
      "text/html": "<div>\n<style scoped>\n    .dataframe tbody tr th:only-of-type {\n        vertical-align: middle;\n    }\n\n    .dataframe tbody tr th {\n        vertical-align: top;\n    }\n\n    .dataframe thead th {\n        text-align: right;\n    }\n</style>\n<table border=\"1\" class=\"dataframe\">\n  <thead>\n    <tr style=\"text-align: right;\">\n      <th></th>\n      <th>fixed acidity</th>\n      <th>volatile acidity</th>\n      <th>citric acid</th>\n      <th>residual sugar</th>\n      <th>chlorides</th>\n      <th>free sulfur dioxide</th>\n      <th>total sulfur dioxide</th>\n      <th>density</th>\n      <th>pH</th>\n      <th>sulphates</th>\n      <th>alcohol</th>\n      <th>quality</th>\n    </tr>\n  </thead>\n  <tbody>\n    <tr>\n      <th>0</th>\n      <td>7.40</td>\n      <td>0.70</td>\n      <td>0.00</td>\n      <td>1.90</td>\n      <td>0.08</td>\n      <td>11.00</td>\n      <td>34.00</td>\n      <td>1.00</td>\n      <td>3.51</td>\n      <td>0.56</td>\n      <td>9.40</td>\n      <td>5</td>\n    </tr>\n    <tr>\n      <th>1</th>\n      <td>7.80</td>\n      <td>0.88</td>\n      <td>0.00</td>\n      <td>2.60</td>\n      <td>0.10</td>\n      <td>25.00</td>\n      <td>67.00</td>\n      <td>1.00</td>\n      <td>3.20</td>\n      <td>0.68</td>\n      <td>9.80</td>\n      <td>5</td>\n    </tr>\n    <tr>\n      <th>2</th>\n      <td>7.80</td>\n      <td>0.76</td>\n      <td>0.04</td>\n      <td>2.30</td>\n      <td>0.09</td>\n      <td>15.00</td>\n      <td>54.00</td>\n      <td>1.00</td>\n      <td>3.26</td>\n      <td>0.65</td>\n      <td>9.80</td>\n      <td>5</td>\n    </tr>\n    <tr>\n      <th>3</th>\n      <td>11.20</td>\n      <td>0.28</td>\n      <td>0.56</td>\n      <td>1.90</td>\n      <td>0.07</td>\n      <td>17.00</td>\n      <td>60.00</td>\n      <td>1.00</td>\n      <td>3.16</td>\n      <td>0.58</td>\n      <td>9.80</td>\n      <td>6</td>\n    </tr>\n    <tr>\n      <th>4</th>\n      <td>7.40</td>\n      <td>0.70</td>\n      <td>0.00</td>\n      <td>1.90</td>\n      <td>0.08</td>\n      <td>11.00</td>\n      <td>34.00</td>\n      <td>1.00</td>\n      <td>3.51</td>\n      <td>0.56</td>\n      <td>9.40</td>\n      <td>5</td>\n    </tr>\n  </tbody>\n</table>\n</div>"
     },
     "metadata": {}
    }
   ]
  },
  {
   "cell_type": "markdown",
   "source": "## 2.3 Limpieza de los datos 📁🧹",
   "metadata": {
    "tags": [],
    "is_collapsed": false,
    "cell_id": "00006-2f2575cb-65db-4a47-9588-a32a6a3b1229",
    "deepnote_cell_type": "text-cell-h2"
   }
  },
  {
   "cell_type": "code",
   "metadata": {
    "tags": [],
    "deepnote_to_be_reexecuted": false,
    "source_hash": "df5a9f4a",
    "execution_start": 1637130625980,
    "execution_millis": 9,
    "cell_id": "00004-59ef3a82-ab06-442c-a7d3-59f7459952a4",
    "deepnote_cell_type": "code"
   },
   "source": "# Dimensiones\ndisplay(red.shape)",
   "execution_count": 4,
   "outputs": [
    {
     "data": {
      "text/plain": "(1599, 12)"
     },
     "metadata": {},
     "output_type": "display_data"
    }
   ]
  },
  {
   "cell_type": "code",
   "metadata": {
    "tags": [],
    "deepnote_to_be_reexecuted": false,
    "source_hash": "2c605a34",
    "execution_start": 1637130626018,
    "execution_millis": 600796,
    "cell_id": "00005-59768cf4-16cc-446d-92a1-567a919dab4e",
    "deepnote_cell_type": "code"
   },
   "source": "# Datos faltantes\ndisplay(red.isnull().sum())",
   "execution_count": 5,
   "outputs": [
    {
     "data": {
      "text/plain": "fixed acidity           0\nvolatile acidity        0\ncitric acid             0\nresidual sugar          0\nchlorides               0\nfree sulfur dioxide     0\ntotal sulfur dioxide    0\ndensity                 0\npH                      0\nsulphates               0\nalcohol                 0\nquality                 0\ndtype: int64"
     },
     "metadata": {},
     "output_type": "display_data"
    }
   ]
  },
  {
   "cell_type": "code",
   "metadata": {
    "tags": [],
    "deepnote_to_be_reexecuted": false,
    "source_hash": "7f9eb7f9",
    "execution_start": 1637130626021,
    "execution_millis": 24,
    "cell_id": "00006-68e94ba7-141f-44d9-a5bb-d9c861ee123e",
    "deepnote_cell_type": "code"
   },
   "source": "# Tipos de variables del dataset\ndisplay(red.dtypes)",
   "execution_count": 6,
   "outputs": [
    {
     "data": {
      "text/plain": "fixed acidity           float64\nvolatile acidity        float64\ncitric acid             float64\nresidual sugar          float64\nchlorides               float64\nfree sulfur dioxide     float64\ntotal sulfur dioxide    float64\ndensity                 float64\npH                      float64\nsulphates               float64\nalcohol                 float64\nquality                   int64\ndtype: object"
     },
     "metadata": {},
     "output_type": "display_data"
    }
   ]
  },
  {
   "cell_type": "markdown",
   "source": "# 3. Análisis exploratorio de los datos 🔎👾",
   "metadata": {
    "tags": [],
    "is_collapsed": false,
    "cell_id": "00011-55f8fd49-d714-4045-9fdc-b885470a4195",
    "deepnote_cell_type": "text-cell-h1"
   }
  },
  {
   "cell_type": "markdown",
   "source": "## 3.1 Resumen estadístico 📄📈",
   "metadata": {
    "tags": [],
    "is_collapsed": false,
    "cell_id": "00012-b259b90a-f9d5-47bd-8e1d-9e0c159591ae",
    "deepnote_cell_type": "text-cell-h2"
   }
  },
  {
   "cell_type": "code",
   "source": "# Resumen de nuestro dataset\nred.describe()",
   "metadata": {
    "tags": [],
    "cell_id": "00012-b7f073e2-3ca4-492e-9187-7b0224784a65",
    "deepnote_to_be_reexecuted": false,
    "source_hash": "64e49828",
    "execution_start": 1637130626086,
    "execution_millis": 91,
    "deepnote_cell_type": "code"
   },
   "outputs": [
    {
     "output_type": "execute_result",
     "execution_count": 7,
     "data": {
      "application/vnd.deepnote.dataframe.v2+json": {
       "row_count": 8,
       "column_count": 12,
       "columns": [
        {
         "name": "fixed acidity",
         "dtype": "float64",
         "stats": {
          "unique_count": 8,
          "nan_count": 0,
          "min": "1.7410963181276953",
          "max": "1599.0",
          "histogram": [
           {
            "bin_start": 1.7410963181276953,
            "bin_end": 161.4669866863149,
            "count": 7
           },
           {
            "bin_start": 161.4669866863149,
            "bin_end": 321.1928770545021,
            "count": 0
           },
           {
            "bin_start": 321.1928770545021,
            "bin_end": 480.9187674226893,
            "count": 0
           },
           {
            "bin_start": 480.9187674226893,
            "bin_end": 640.6446577908765,
            "count": 0
           },
           {
            "bin_start": 640.6446577908765,
            "bin_end": 800.3705481590638,
            "count": 0
           },
           {
            "bin_start": 800.3705481590638,
            "bin_end": 960.0964385272509,
            "count": 0
           },
           {
            "bin_start": 960.0964385272509,
            "bin_end": 1119.8223288954382,
            "count": 0
           },
           {
            "bin_start": 1119.8223288954382,
            "bin_end": 1279.5482192636255,
            "count": 0
           },
           {
            "bin_start": 1279.5482192636255,
            "bin_end": 1439.2741096318127,
            "count": 0
           },
           {
            "bin_start": 1439.2741096318127,
            "bin_end": 1599,
            "count": 1
           }
          ]
         }
        },
        {
         "name": "volatile acidity",
         "dtype": "float64",
         "stats": {
          "unique_count": 8,
          "nan_count": 0,
          "min": "0.12",
          "max": "1599.0",
          "histogram": [
           {
            "bin_start": 0.12,
            "bin_end": 160.008,
            "count": 7
           },
           {
            "bin_start": 160.008,
            "bin_end": 319.896,
            "count": 0
           },
           {
            "bin_start": 319.896,
            "bin_end": 479.784,
            "count": 0
           },
           {
            "bin_start": 479.784,
            "bin_end": 639.672,
            "count": 0
           },
           {
            "bin_start": 639.672,
            "bin_end": 799.5600000000001,
            "count": 0
           },
           {
            "bin_start": 799.5600000000001,
            "bin_end": 959.448,
            "count": 0
           },
           {
            "bin_start": 959.448,
            "bin_end": 1119.336,
            "count": 0
           },
           {
            "bin_start": 1119.336,
            "bin_end": 1279.224,
            "count": 0
           },
           {
            "bin_start": 1279.224,
            "bin_end": 1439.1119999999999,
            "count": 0
           },
           {
            "bin_start": 1439.1119999999999,
            "bin_end": 1599,
            "count": 1
           }
          ]
         }
        },
        {
         "name": "citric acid",
         "dtype": "float64",
         "stats": {
          "unique_count": 8,
          "nan_count": 0,
          "min": "0.0",
          "max": "1599.0",
          "histogram": [
           {
            "bin_start": 0,
            "bin_end": 159.9,
            "count": 7
           },
           {
            "bin_start": 159.9,
            "bin_end": 319.8,
            "count": 0
           },
           {
            "bin_start": 319.8,
            "bin_end": 479.70000000000005,
            "count": 0
           },
           {
            "bin_start": 479.70000000000005,
            "bin_end": 639.6,
            "count": 0
           },
           {
            "bin_start": 639.6,
            "bin_end": 799.5,
            "count": 0
           },
           {
            "bin_start": 799.5,
            "bin_end": 959.4000000000001,
            "count": 0
           },
           {
            "bin_start": 959.4000000000001,
            "bin_end": 1119.3,
            "count": 0
           },
           {
            "bin_start": 1119.3,
            "bin_end": 1279.2,
            "count": 0
           },
           {
            "bin_start": 1279.2,
            "bin_end": 1439.1000000000001,
            "count": 0
           },
           {
            "bin_start": 1439.1000000000001,
            "bin_end": 1599,
            "count": 1
           }
          ]
         }
        },
        {
         "name": "residual sugar",
         "dtype": "float64",
         "stats": {
          "unique_count": 8,
          "nan_count": 0,
          "min": "0.9",
          "max": "1599.0",
          "histogram": [
           {
            "bin_start": 0.9,
            "bin_end": 160.71,
            "count": 7
           },
           {
            "bin_start": 160.71,
            "bin_end": 320.52,
            "count": 0
           },
           {
            "bin_start": 320.52,
            "bin_end": 480.33,
            "count": 0
           },
           {
            "bin_start": 480.33,
            "bin_end": 640.14,
            "count": 0
           },
           {
            "bin_start": 640.14,
            "bin_end": 799.9499999999999,
            "count": 0
           },
           {
            "bin_start": 799.9499999999999,
            "bin_end": 959.76,
            "count": 0
           },
           {
            "bin_start": 959.76,
            "bin_end": 1119.5700000000002,
            "count": 0
           },
           {
            "bin_start": 1119.5700000000002,
            "bin_end": 1279.38,
            "count": 0
           },
           {
            "bin_start": 1279.38,
            "bin_end": 1439.19,
            "count": 0
           },
           {
            "bin_start": 1439.19,
            "bin_end": 1599,
            "count": 1
           }
          ]
         }
        },
        {
         "name": "chlorides",
         "dtype": "float64",
         "stats": {
          "unique_count": 8,
          "nan_count": 0,
          "min": "0.012",
          "max": "1599.0",
          "histogram": [
           {
            "bin_start": 0.012,
            "bin_end": 159.9108,
            "count": 7
           },
           {
            "bin_start": 159.9108,
            "bin_end": 319.8096,
            "count": 0
           },
           {
            "bin_start": 319.8096,
            "bin_end": 479.7084,
            "count": 0
           },
           {
            "bin_start": 479.7084,
            "bin_end": 639.6071999999999,
            "count": 0
           },
           {
            "bin_start": 639.6071999999999,
            "bin_end": 799.5059999999999,
            "count": 0
           },
           {
            "bin_start": 799.5059999999999,
            "bin_end": 959.4047999999999,
            "count": 0
           },
           {
            "bin_start": 959.4047999999999,
            "bin_end": 1119.3036,
            "count": 0
           },
           {
            "bin_start": 1119.3036,
            "bin_end": 1279.2024,
            "count": 0
           },
           {
            "bin_start": 1279.2024,
            "bin_end": 1439.1011999999998,
            "count": 0
           },
           {
            "bin_start": 1439.1011999999998,
            "bin_end": 1599,
            "count": 1
           }
          ]
         }
        },
        {
         "name": "free sulfur dioxide",
         "dtype": "float64",
         "stats": {
          "unique_count": 8,
          "nan_count": 0,
          "min": "1.0",
          "max": "1599.0",
          "histogram": [
           {
            "bin_start": 1,
            "bin_end": 160.8,
            "count": 7
           },
           {
            "bin_start": 160.8,
            "bin_end": 320.6,
            "count": 0
           },
           {
            "bin_start": 320.6,
            "bin_end": 480.40000000000003,
            "count": 0
           },
           {
            "bin_start": 480.40000000000003,
            "bin_end": 640.2,
            "count": 0
           },
           {
            "bin_start": 640.2,
            "bin_end": 800,
            "count": 0
           },
           {
            "bin_start": 800,
            "bin_end": 959.8000000000001,
            "count": 0
           },
           {
            "bin_start": 959.8000000000001,
            "bin_end": 1119.6000000000001,
            "count": 0
           },
           {
            "bin_start": 1119.6000000000001,
            "bin_end": 1279.4,
            "count": 0
           },
           {
            "bin_start": 1279.4,
            "bin_end": 1439.2,
            "count": 0
           },
           {
            "bin_start": 1439.2,
            "bin_end": 1599,
            "count": 1
           }
          ]
         }
        },
        {
         "name": "total sulfur dioxide",
         "dtype": "float64",
         "stats": {
          "unique_count": 8,
          "nan_count": 0,
          "min": "6.0",
          "max": "1599.0",
          "histogram": [
           {
            "bin_start": 6,
            "bin_end": 165.3,
            "count": 6
           },
           {
            "bin_start": 165.3,
            "bin_end": 324.6,
            "count": 1
           },
           {
            "bin_start": 324.6,
            "bin_end": 483.90000000000003,
            "count": 0
           },
           {
            "bin_start": 483.90000000000003,
            "bin_end": 643.2,
            "count": 0
           },
           {
            "bin_start": 643.2,
            "bin_end": 802.5,
            "count": 0
           },
           {
            "bin_start": 802.5,
            "bin_end": 961.8000000000001,
            "count": 0
           },
           {
            "bin_start": 961.8000000000001,
            "bin_end": 1121.1000000000001,
            "count": 0
           },
           {
            "bin_start": 1121.1000000000001,
            "bin_end": 1280.4,
            "count": 0
           },
           {
            "bin_start": 1280.4,
            "bin_end": 1439.7,
            "count": 0
           },
           {
            "bin_start": 1439.7,
            "bin_end": 1599,
            "count": 1
           }
          ]
         }
        },
        {
         "name": "density",
         "dtype": "float64",
         "stats": {
          "unique_count": 8,
          "nan_count": 0,
          "min": "0.0018873339538425554",
          "max": "1599.0",
          "histogram": [
           {
            "bin_start": 0.0018873339538425554,
            "bin_end": 159.90169860055846,
            "count": 7
           },
           {
            "bin_start": 159.90169860055846,
            "bin_end": 319.8015098671631,
            "count": 0
           },
           {
            "bin_start": 319.8015098671631,
            "bin_end": 479.7013211337677,
            "count": 0
           },
           {
            "bin_start": 479.7013211337677,
            "bin_end": 639.6011324003723,
            "count": 0
           },
           {
            "bin_start": 639.6011324003723,
            "bin_end": 799.5009436669769,
            "count": 0
           },
           {
            "bin_start": 799.5009436669769,
            "bin_end": 959.4007549335815,
            "count": 0
           },
           {
            "bin_start": 959.4007549335815,
            "bin_end": 1119.3005662001863,
            "count": 0
           },
           {
            "bin_start": 1119.3005662001863,
            "bin_end": 1279.2003774667908,
            "count": 0
           },
           {
            "bin_start": 1279.2003774667908,
            "bin_end": 1439.1001887333953,
            "count": 0
           },
           {
            "bin_start": 1439.1001887333953,
            "bin_end": 1599,
            "count": 1
           }
          ]
         }
        },
        {
         "name": "pH",
         "dtype": "float64",
         "stats": {
          "unique_count": 8,
          "nan_count": 0,
          "min": "0.15438646490354277",
          "max": "1599.0",
          "histogram": [
           {
            "bin_start": 0.15438646490354277,
            "bin_end": 160.0389478184132,
            "count": 7
           },
           {
            "bin_start": 160.0389478184132,
            "bin_end": 319.92350917192283,
            "count": 0
           },
           {
            "bin_start": 319.92350917192283,
            "bin_end": 479.80807052543247,
            "count": 0
           },
           {
            "bin_start": 479.80807052543247,
            "bin_end": 639.692631878942,
            "count": 0
           },
           {
            "bin_start": 639.692631878942,
            "bin_end": 799.5771932324517,
            "count": 0
           },
           {
            "bin_start": 799.5771932324517,
            "bin_end": 959.4617545859613,
            "count": 0
           },
           {
            "bin_start": 959.4617545859613,
            "bin_end": 1119.3463159394712,
            "count": 0
           },
           {
            "bin_start": 1119.3463159394712,
            "bin_end": 1279.2308772929807,
            "count": 0
           },
           {
            "bin_start": 1279.2308772929807,
            "bin_end": 1439.1154386464902,
            "count": 0
           },
           {
            "bin_start": 1439.1154386464902,
            "bin_end": 1599,
            "count": 1
           }
          ]
         }
        },
        {
         "name": "sulphates",
         "dtype": "float64",
         "stats": {
          "unique_count": 8,
          "nan_count": 0,
          "min": "0.16950697959010996",
          "max": "1599.0",
          "histogram": [
           {
            "bin_start": 0.16950697959010996,
            "bin_end": 160.0525562816311,
            "count": 7
           },
           {
            "bin_start": 160.0525562816311,
            "bin_end": 319.9356055836721,
            "count": 0
           },
           {
            "bin_start": 319.9356055836721,
            "bin_end": 479.8186548857131,
            "count": 0
           },
           {
            "bin_start": 479.8186548857131,
            "bin_end": 639.7017041877541,
            "count": 0
           },
           {
            "bin_start": 639.7017041877541,
            "bin_end": 799.584753489795,
            "count": 0
           },
           {
            "bin_start": 799.584753489795,
            "bin_end": 959.4678027918361,
            "count": 0
           },
           {
            "bin_start": 959.4678027918361,
            "bin_end": 1119.3508520938772,
            "count": 0
           },
           {
            "bin_start": 1119.3508520938772,
            "bin_end": 1279.233901395918,
            "count": 0
           },
           {
            "bin_start": 1279.233901395918,
            "bin_end": 1439.116950697959,
            "count": 0
           },
           {
            "bin_start": 1439.116950697959,
            "bin_end": 1599,
            "count": 1
           }
          ]
         }
        },
        {
         "name": "alcohol",
         "dtype": "float64",
         "stats": {
          "unique_count": 8,
          "nan_count": 0,
          "min": "1.0656675818473946",
          "max": "1599.0",
          "histogram": [
           {
            "bin_start": 1.0656675818473946,
            "bin_end": 160.85910082366266,
            "count": 7
           },
           {
            "bin_start": 160.85910082366266,
            "bin_end": 320.6525340654779,
            "count": 0
           },
           {
            "bin_start": 320.6525340654779,
            "bin_end": 480.44596730729313,
            "count": 0
           },
           {
            "bin_start": 480.44596730729313,
            "bin_end": 640.2394005491084,
            "count": 0
           },
           {
            "bin_start": 640.2394005491084,
            "bin_end": 800.0328337909236,
            "count": 0
           },
           {
            "bin_start": 800.0328337909236,
            "bin_end": 959.8262670327389,
            "count": 0
           },
           {
            "bin_start": 959.8262670327389,
            "bin_end": 1119.6197002745541,
            "count": 0
           },
           {
            "bin_start": 1119.6197002745541,
            "bin_end": 1279.4131335163695,
            "count": 0
           },
           {
            "bin_start": 1279.4131335163695,
            "bin_end": 1439.2065667581849,
            "count": 0
           },
           {
            "bin_start": 1439.2065667581849,
            "bin_end": 1599,
            "count": 1
           }
          ]
         }
        },
        {
         "name": "quality",
         "dtype": "float64",
         "stats": {
          "unique_count": 7,
          "nan_count": 0,
          "min": "0.807569439734705",
          "max": "1599.0",
          "histogram": [
           {
            "bin_start": 0.807569439734705,
            "bin_end": 160.62681249576124,
            "count": 7
           },
           {
            "bin_start": 160.62681249576124,
            "bin_end": 320.4460555517878,
            "count": 0
           },
           {
            "bin_start": 320.4460555517878,
            "bin_end": 480.2652986078144,
            "count": 0
           },
           {
            "bin_start": 480.2652986078144,
            "bin_end": 640.0845416638409,
            "count": 0
           },
           {
            "bin_start": 640.0845416638409,
            "bin_end": 799.9037847198675,
            "count": 0
           },
           {
            "bin_start": 799.9037847198675,
            "bin_end": 959.723027775894,
            "count": 0
           },
           {
            "bin_start": 959.723027775894,
            "bin_end": 1119.5422708319204,
            "count": 0
           },
           {
            "bin_start": 1119.5422708319204,
            "bin_end": 1279.361513887947,
            "count": 0
           },
           {
            "bin_start": 1279.361513887947,
            "bin_end": 1439.1807569439736,
            "count": 0
           },
           {
            "bin_start": 1439.1807569439736,
            "bin_end": 1599,
            "count": 1
           }
          ]
         }
        },
        {
         "name": "_deepnote_index_column",
         "dtype": "object"
        }
       ],
       "rows_top": [
        {
         "fixed acidity": 1599,
         "volatile acidity": 1599,
         "citric acid": 1599,
         "residual sugar": 1599,
         "chlorides": 1599,
         "free sulfur dioxide": 1599,
         "total sulfur dioxide": 1599,
         "density": 1599,
         "pH": 1599,
         "sulphates": 1599,
         "alcohol": 1599,
         "quality": 1599,
         "_deepnote_index_column": "count"
        },
        {
         "fixed acidity": 8.31963727329581,
         "volatile acidity": 0.5278205128205128,
         "citric acid": 0.2709756097560976,
         "residual sugar": 2.53880550343965,
         "chlorides": 0.08746654158849279,
         "free sulfur dioxide": 15.874921826141339,
         "total sulfur dioxide": 46.46779237023139,
         "density": 0.9967466791744841,
         "pH": 3.3111131957473416,
         "sulphates": 0.6581488430268917,
         "alcohol": 10.422983114446529,
         "quality": 5.6360225140712945,
         "_deepnote_index_column": "mean"
        },
        {
         "fixed acidity": 1.7410963181276953,
         "volatile acidity": 0.17905970415353537,
         "citric acid": 0.19480113740531857,
         "residual sugar": 1.4099280595072798,
         "chlorides": 0.0470653020100901,
         "free sulfur dioxide": 10.460156969809725,
         "total sulfur dioxide": 32.895324478299074,
         "density": 0.0018873339538425554,
         "pH": 0.15438646490354277,
         "sulphates": 0.16950697959010996,
         "alcohol": 1.0656675818473946,
         "quality": 0.807569439734705,
         "_deepnote_index_column": "std"
        },
        {
         "fixed acidity": 4.6,
         "volatile acidity": 0.12,
         "citric acid": 0,
         "residual sugar": 0.9,
         "chlorides": 0.012,
         "free sulfur dioxide": 1,
         "total sulfur dioxide": 6,
         "density": 0.99007,
         "pH": 2.74,
         "sulphates": 0.33,
         "alcohol": 8.4,
         "quality": 3,
         "_deepnote_index_column": "min"
        },
        {
         "fixed acidity": 7.1,
         "volatile acidity": 0.39,
         "citric acid": 0.09,
         "residual sugar": 1.9,
         "chlorides": 0.07,
         "free sulfur dioxide": 7,
         "total sulfur dioxide": 22,
         "density": 0.9956,
         "pH": 3.21,
         "sulphates": 0.55,
         "alcohol": 9.5,
         "quality": 5,
         "_deepnote_index_column": "25%"
        },
        {
         "fixed acidity": 7.9,
         "volatile acidity": 0.52,
         "citric acid": 0.26,
         "residual sugar": 2.2,
         "chlorides": 0.079,
         "free sulfur dioxide": 14,
         "total sulfur dioxide": 38,
         "density": 0.99675,
         "pH": 3.31,
         "sulphates": 0.62,
         "alcohol": 10.2,
         "quality": 6,
         "_deepnote_index_column": "50%"
        },
        {
         "fixed acidity": 9.2,
         "volatile acidity": 0.64,
         "citric acid": 0.42,
         "residual sugar": 2.6,
         "chlorides": 0.09,
         "free sulfur dioxide": 21,
         "total sulfur dioxide": 62,
         "density": 0.997835,
         "pH": 3.4,
         "sulphates": 0.73,
         "alcohol": 11.1,
         "quality": 6,
         "_deepnote_index_column": "75%"
        },
        {
         "fixed acidity": 15.9,
         "volatile acidity": 1.58,
         "citric acid": 1,
         "residual sugar": 15.5,
         "chlorides": 0.611,
         "free sulfur dioxide": 72,
         "total sulfur dioxide": 289,
         "density": 1.00369,
         "pH": 4.01,
         "sulphates": 2,
         "alcohol": 14.9,
         "quality": 8,
         "_deepnote_index_column": "max"
        }
       ],
       "rows_bottom": null
      },
      "text/plain": "       fixed acidity  volatile acidity  citric acid  residual sugar  \\\ncount       1,599.00          1,599.00     1,599.00        1,599.00   \nmean            8.32              0.53         0.27            2.54   \nstd             1.74              0.18         0.19            1.41   \nmin             4.60              0.12         0.00            0.90   \n25%             7.10              0.39         0.09            1.90   \n50%             7.90              0.52         0.26            2.20   \n75%             9.20              0.64         0.42            2.60   \nmax            15.90              1.58         1.00           15.50   \n\n       chlorides  free sulfur dioxide  total sulfur dioxide  density       pH  \\\ncount   1,599.00             1,599.00              1,599.00 1,599.00 1,599.00   \nmean        0.09                15.87                 46.47     1.00     3.31   \nstd         0.05                10.46                 32.90     0.00     0.15   \nmin         0.01                 1.00                  6.00     0.99     2.74   \n25%         0.07                 7.00                 22.00     1.00     3.21   \n50%         0.08                14.00                 38.00     1.00     3.31   \n75%         0.09                21.00                 62.00     1.00     3.40   \nmax         0.61                72.00                289.00     1.00     4.01   \n\n       sulphates  alcohol  quality  \ncount   1,599.00 1,599.00 1,599.00  \nmean        0.66    10.42     5.64  \nstd         0.17     1.07     0.81  \nmin         0.33     8.40     3.00  \n25%         0.55     9.50     5.00  \n50%         0.62    10.20     6.00  \n75%         0.73    11.10     6.00  \nmax         2.00    14.90     8.00  ",
      "text/html": "<div>\n<style scoped>\n    .dataframe tbody tr th:only-of-type {\n        vertical-align: middle;\n    }\n\n    .dataframe tbody tr th {\n        vertical-align: top;\n    }\n\n    .dataframe thead th {\n        text-align: right;\n    }\n</style>\n<table border=\"1\" class=\"dataframe\">\n  <thead>\n    <tr style=\"text-align: right;\">\n      <th></th>\n      <th>fixed acidity</th>\n      <th>volatile acidity</th>\n      <th>citric acid</th>\n      <th>residual sugar</th>\n      <th>chlorides</th>\n      <th>free sulfur dioxide</th>\n      <th>total sulfur dioxide</th>\n      <th>density</th>\n      <th>pH</th>\n      <th>sulphates</th>\n      <th>alcohol</th>\n      <th>quality</th>\n    </tr>\n  </thead>\n  <tbody>\n    <tr>\n      <th>count</th>\n      <td>1,599.00</td>\n      <td>1,599.00</td>\n      <td>1,599.00</td>\n      <td>1,599.00</td>\n      <td>1,599.00</td>\n      <td>1,599.00</td>\n      <td>1,599.00</td>\n      <td>1,599.00</td>\n      <td>1,599.00</td>\n      <td>1,599.00</td>\n      <td>1,599.00</td>\n      <td>1,599.00</td>\n    </tr>\n    <tr>\n      <th>mean</th>\n      <td>8.32</td>\n      <td>0.53</td>\n      <td>0.27</td>\n      <td>2.54</td>\n      <td>0.09</td>\n      <td>15.87</td>\n      <td>46.47</td>\n      <td>1.00</td>\n      <td>3.31</td>\n      <td>0.66</td>\n      <td>10.42</td>\n      <td>5.64</td>\n    </tr>\n    <tr>\n      <th>std</th>\n      <td>1.74</td>\n      <td>0.18</td>\n      <td>0.19</td>\n      <td>1.41</td>\n      <td>0.05</td>\n      <td>10.46</td>\n      <td>32.90</td>\n      <td>0.00</td>\n      <td>0.15</td>\n      <td>0.17</td>\n      <td>1.07</td>\n      <td>0.81</td>\n    </tr>\n    <tr>\n      <th>min</th>\n      <td>4.60</td>\n      <td>0.12</td>\n      <td>0.00</td>\n      <td>0.90</td>\n      <td>0.01</td>\n      <td>1.00</td>\n      <td>6.00</td>\n      <td>0.99</td>\n      <td>2.74</td>\n      <td>0.33</td>\n      <td>8.40</td>\n      <td>3.00</td>\n    </tr>\n    <tr>\n      <th>25%</th>\n      <td>7.10</td>\n      <td>0.39</td>\n      <td>0.09</td>\n      <td>1.90</td>\n      <td>0.07</td>\n      <td>7.00</td>\n      <td>22.00</td>\n      <td>1.00</td>\n      <td>3.21</td>\n      <td>0.55</td>\n      <td>9.50</td>\n      <td>5.00</td>\n    </tr>\n    <tr>\n      <th>50%</th>\n      <td>7.90</td>\n      <td>0.52</td>\n      <td>0.26</td>\n      <td>2.20</td>\n      <td>0.08</td>\n      <td>14.00</td>\n      <td>38.00</td>\n      <td>1.00</td>\n      <td>3.31</td>\n      <td>0.62</td>\n      <td>10.20</td>\n      <td>6.00</td>\n    </tr>\n    <tr>\n      <th>75%</th>\n      <td>9.20</td>\n      <td>0.64</td>\n      <td>0.42</td>\n      <td>2.60</td>\n      <td>0.09</td>\n      <td>21.00</td>\n      <td>62.00</td>\n      <td>1.00</td>\n      <td>3.40</td>\n      <td>0.73</td>\n      <td>11.10</td>\n      <td>6.00</td>\n    </tr>\n    <tr>\n      <th>max</th>\n      <td>15.90</td>\n      <td>1.58</td>\n      <td>1.00</td>\n      <td>15.50</td>\n      <td>0.61</td>\n      <td>72.00</td>\n      <td>289.00</td>\n      <td>1.00</td>\n      <td>4.01</td>\n      <td>2.00</td>\n      <td>14.90</td>\n      <td>8.00</td>\n    </tr>\n  </tbody>\n</table>\n</div>"
     },
     "metadata": {}
    }
   ],
   "execution_count": 7
  },
  {
   "cell_type": "code",
   "source": "# Frecuencia de las cantidades\nred['quality'].value_counts().sort_values(ascending=False)",
   "metadata": {
    "tags": [],
    "cell_id": "00014-cc9c148b-5b89-4b99-9881-a0f0b8c23329",
    "deepnote_to_be_reexecuted": false,
    "source_hash": "2b810fc1",
    "execution_start": 1637130626184,
    "execution_millis": 600841,
    "deepnote_cell_type": "code"
   },
   "outputs": [
    {
     "output_type": "execute_result",
     "execution_count": 8,
     "data": {
      "text/plain": "5    681\n6    638\n7    199\n4     53\n8     18\n3     10\nName: quality, dtype: int64"
     },
     "metadata": {}
    }
   ],
   "execution_count": 8
  },
  {
   "cell_type": "markdown",
   "source": "## 3.2 Diagramas de frecuencia 📊",
   "metadata": {
    "tags": [],
    "is_collapsed": false,
    "cell_id": "00014-93105380-1908-4bab-98ea-c85feb5ae9ba",
    "deepnote_cell_type": "text-cell-h2"
   }
  },
  {
   "cell_type": "code",
   "metadata": {
    "tags": [],
    "deepnote_to_be_reexecuted": false,
    "source_hash": "56f94f8c",
    "execution_start": 1637130626254,
    "execution_millis": 664,
    "cell_id": "00008-0b724a33-4614-4163-8c4e-04927da1d9df",
    "deepnote_cell_type": "code"
   },
   "source": "# Histplot\n%matplotlib inline\nsns.set_theme(style='darkgrid')\nsns.histplot(data=red['quality'], bins=6, color='brown')\nplt.tight_layout();",
   "execution_count": 9,
   "outputs": [
    {
     "data": {
      "text/plain": "<Figure size 432x288 with 1 Axes>",
      "image/png": "[encoded data removed]"
     },
     "metadata": {
      "image/png": {
       "width": 420,
       "height": 276
      }
     },
     "output_type": "display_data"
    }
   ]
  },
  {
   "cell_type": "code",
   "metadata": {
    "tags": [],
    "deepnote_to_be_reexecuted": false,
    "source_hash": "92776f18",
    "execution_start": 1637130626980,
    "execution_millis": 29,
    "cell_id": "00009-5b7e2f91-192e-41c3-b3cd-e27b1a3e2d62",
    "deepnote_cell_type": "code"
   },
   "source": "# Agrupamos para observar información de forma clara\nred.groupby('quality').mean()",
   "execution_count": 10,
   "outputs": [
    {
     "output_type": "execute_result",
     "execution_count": 10,
     "data": {
      "application/vnd.deepnote.dataframe.v2+json": {
       "row_count": 6,
       "column_count": 11,
       "columns": [
        {
         "name": "fixed acidity",
         "dtype": "float64",
         "stats": {
          "unique_count": 6,
          "nan_count": 0,
          "min": "7.779245283018868",
          "max": "8.872361809045225",
          "histogram": [
           {
            "bin_start": 7.779245283018868,
            "bin_end": 7.888556935621504,
            "count": 1
           },
           {
            "bin_start": 7.888556935621504,
            "bin_end": 7.99786858822414,
            "count": 0
           },
           {
            "bin_start": 7.99786858822414,
            "bin_end": 8.107180240826775,
            "count": 0
           },
           {
            "bin_start": 8.107180240826775,
            "bin_end": 8.216491893429412,
            "count": 1
           },
           {
            "bin_start": 8.216491893429412,
            "bin_end": 8.325803546032047,
            "count": 0
           },
           {
            "bin_start": 8.325803546032047,
            "bin_end": 8.435115198634682,
            "count": 2
           },
           {
            "bin_start": 8.435115198634682,
            "bin_end": 8.544426851237318,
            "count": 0
           },
           {
            "bin_start": 8.544426851237318,
            "bin_end": 8.653738503839953,
            "count": 1
           },
           {
            "bin_start": 8.653738503839953,
            "bin_end": 8.76305015644259,
            "count": 0
           },
           {
            "bin_start": 8.76305015644259,
            "bin_end": 8.872361809045225,
            "count": 1
           }
          ]
         }
        },
        {
         "name": "volatile acidity",
         "dtype": "float64",
         "stats": {
          "unique_count": 6,
          "nan_count": 0,
          "min": "0.4039195979899498",
          "max": "0.8845000000000001",
          "histogram": [
           {
            "bin_start": 0.4039195979899498,
            "bin_end": 0.4519776381909548,
            "count": 2
           },
           {
            "bin_start": 0.4519776381909548,
            "bin_end": 0.5000356783919598,
            "count": 1
           },
           {
            "bin_start": 0.5000356783919598,
            "bin_end": 0.5480937185929649,
            "count": 0
           },
           {
            "bin_start": 0.5480937185929649,
            "bin_end": 0.59615175879397,
            "count": 1
           },
           {
            "bin_start": 0.59615175879397,
            "bin_end": 0.6442097989949749,
            "count": 0
           },
           {
            "bin_start": 0.6442097989949749,
            "bin_end": 0.69226783919598,
            "count": 0
           },
           {
            "bin_start": 0.69226783919598,
            "bin_end": 0.740325879396985,
            "count": 1
           },
           {
            "bin_start": 0.740325879396985,
            "bin_end": 0.78838391959799,
            "count": 0
           },
           {
            "bin_start": 0.78838391959799,
            "bin_end": 0.836441959798995,
            "count": 0
           },
           {
            "bin_start": 0.836441959798995,
            "bin_end": 0.8845000000000001,
            "count": 1
           }
          ]
         }
        },
        {
         "name": "citric acid",
         "dtype": "float64",
         "stats": {
          "unique_count": 6,
          "nan_count": 0,
          "min": "0.17099999999999999",
          "max": "0.39111111111111113",
          "histogram": [
           {
            "bin_start": 0.17099999999999999,
            "bin_end": 0.1930111111111111,
            "count": 2
           },
           {
            "bin_start": 0.1930111111111111,
            "bin_end": 0.21502222222222223,
            "count": 0
           },
           {
            "bin_start": 0.21502222222222223,
            "bin_end": 0.23703333333333332,
            "count": 0
           },
           {
            "bin_start": 0.23703333333333332,
            "bin_end": 0.2590444444444444,
            "count": 1
           },
           {
            "bin_start": 0.2590444444444444,
            "bin_end": 0.28105555555555556,
            "count": 1
           },
           {
            "bin_start": 0.28105555555555556,
            "bin_end": 0.30306666666666665,
            "count": 0
           },
           {
            "bin_start": 0.30306666666666665,
            "bin_end": 0.3250777777777778,
            "count": 0
           },
           {
            "bin_start": 0.3250777777777778,
            "bin_end": 0.3470888888888889,
            "count": 0
           },
           {
            "bin_start": 0.3470888888888889,
            "bin_end": 0.3691,
            "count": 0
           },
           {
            "bin_start": 0.3691,
            "bin_end": 0.39111111111111113,
            "count": 2
           }
          ]
         }
        },
        {
         "name": "residual sugar",
         "dtype": "float64",
         "stats": {
          "unique_count": 6,
          "nan_count": 0,
          "min": "2.477194357366772",
          "max": "2.7206030150753793",
          "histogram": [
           {
            "bin_start": 2.477194357366772,
            "bin_end": 2.501535223137633,
            "count": 1
           },
           {
            "bin_start": 2.501535223137633,
            "bin_end": 2.5258760889084937,
            "count": 0
           },
           {
            "bin_start": 2.5258760889084937,
            "bin_end": 2.550216954679354,
            "count": 1
           },
           {
            "bin_start": 2.550216954679354,
            "bin_end": 2.574557820450215,
            "count": 0
           },
           {
            "bin_start": 2.574557820450215,
            "bin_end": 2.5988986862210757,
            "count": 1
           },
           {
            "bin_start": 2.5988986862210757,
            "bin_end": 2.6232395519919365,
            "count": 0
           },
           {
            "bin_start": 2.6232395519919365,
            "bin_end": 2.6475804177627973,
            "count": 1
           },
           {
            "bin_start": 2.6475804177627973,
            "bin_end": 2.6719212835336577,
            "count": 0
           },
           {
            "bin_start": 2.6719212835336577,
            "bin_end": 2.6962621493045185,
            "count": 1
           },
           {
            "bin_start": 2.6962621493045185,
            "bin_end": 2.7206030150753793,
            "count": 1
           }
          ]
         }
        },
        {
         "name": "chlorides",
         "dtype": "float64",
         "stats": {
          "unique_count": 6,
          "nan_count": 0,
          "min": "0.06844444444444445",
          "max": "0.12250000000000001",
          "histogram": [
           {
            "bin_start": 0.06844444444444445,
            "bin_end": 0.07385,
            "count": 1
           },
           {
            "bin_start": 0.07385,
            "bin_end": 0.07925555555555557,
            "count": 1
           },
           {
            "bin_start": 0.07925555555555557,
            "bin_end": 0.08466111111111112,
            "count": 0
           },
           {
            "bin_start": 0.08466111111111112,
            "bin_end": 0.09006666666666667,
            "count": 1
           },
           {
            "bin_start": 0.09006666666666667,
            "bin_end": 0.09547222222222224,
            "count": 2
           },
           {
            "bin_start": 0.09547222222222224,
            "bin_end": 0.10087777777777779,
            "count": 0
           },
           {
            "bin_start": 0.10087777777777779,
            "bin_end": 0.10628333333333334,
            "count": 0
           },
           {
            "bin_start": 0.10628333333333334,
            "bin_end": 0.1116888888888889,
            "count": 0
           },
           {
            "bin_start": 0.1116888888888889,
            "bin_end": 0.11709444444444446,
            "count": 0
           },
           {
            "bin_start": 0.11709444444444446,
            "bin_end": 0.12250000000000001,
            "count": 1
           }
          ]
         }
        },
        {
         "name": "free sulfur dioxide",
         "dtype": "float64",
         "stats": {
          "unique_count": 6,
          "nan_count": 0,
          "min": "11.0",
          "max": "16.983847283406753",
          "histogram": [
           {
            "bin_start": 11,
            "bin_end": 11.598384728340676,
            "count": 1
           },
           {
            "bin_start": 11.598384728340676,
            "bin_end": 12.19676945668135,
            "count": 0
           },
           {
            "bin_start": 12.19676945668135,
            "bin_end": 12.795154185022026,
            "count": 1
           },
           {
            "bin_start": 12.795154185022026,
            "bin_end": 13.3935389133627,
            "count": 1
           },
           {
            "bin_start": 13.3935389133627,
            "bin_end": 13.991923641703377,
            "count": 0
           },
           {
            "bin_start": 13.991923641703377,
            "bin_end": 14.590308370044053,
            "count": 1
           },
           {
            "bin_start": 14.590308370044053,
            "bin_end": 15.188693098384729,
            "count": 0
           },
           {
            "bin_start": 15.188693098384729,
            "bin_end": 15.787077826725403,
            "count": 1
           },
           {
            "bin_start": 15.787077826725403,
            "bin_end": 16.385462555066077,
            "count": 0
           },
           {
            "bin_start": 16.385462555066077,
            "bin_end": 16.983847283406753,
            "count": 1
           }
          ]
         }
        },
        {
         "name": "total sulfur dioxide",
         "dtype": "float64",
         "stats": {
          "unique_count": 6,
          "nan_count": 0,
          "min": "24.9",
          "max": "56.51395007342144",
          "histogram": [
           {
            "bin_start": 24.9,
            "bin_end": 28.061395007342142,
            "count": 1
           },
           {
            "bin_start": 28.061395007342142,
            "bin_end": 31.222790014684286,
            "count": 0
           },
           {
            "bin_start": 31.222790014684286,
            "bin_end": 34.38418502202643,
            "count": 1
           },
           {
            "bin_start": 34.38418502202643,
            "bin_end": 37.54558002936858,
            "count": 2
           },
           {
            "bin_start": 37.54558002936858,
            "bin_end": 40.706975036710716,
            "count": 0
           },
           {
            "bin_start": 40.706975036710716,
            "bin_end": 43.86837004405287,
            "count": 1
           },
           {
            "bin_start": 43.86837004405287,
            "bin_end": 47.02976505139501,
            "count": 0
           },
           {
            "bin_start": 47.02976505139501,
            "bin_end": 50.191160058737154,
            "count": 0
           },
           {
            "bin_start": 50.191160058737154,
            "bin_end": 53.3525550660793,
            "count": 0
           },
           {
            "bin_start": 53.3525550660793,
            "bin_end": 56.51395007342144,
            "count": 1
           }
          ]
         }
        },
        {
         "name": "density",
         "dtype": "float64",
         "stats": {
          "unique_count": 6,
          "nan_count": 0,
          "min": "0.9952122222222223",
          "max": "0.9974640000000001",
          "histogram": [
           {
            "bin_start": 0.9952122222222223,
            "bin_end": 0.9954374,
            "count": 1
           },
           {
            "bin_start": 0.9954374,
            "bin_end": 0.9956625777777779,
            "count": 0
           },
           {
            "bin_start": 0.9956625777777779,
            "bin_end": 0.9958877555555556,
            "count": 0
           },
           {
            "bin_start": 0.9958877555555556,
            "bin_end": 0.9961129333333334,
            "count": 1
           },
           {
            "bin_start": 0.9961129333333334,
            "bin_end": 0.9963381111111111,
            "count": 0
           },
           {
            "bin_start": 0.9963381111111111,
            "bin_end": 0.996563288888889,
            "count": 1
           },
           {
            "bin_start": 0.996563288888889,
            "bin_end": 0.9967884666666668,
            "count": 1
           },
           {
            "bin_start": 0.9967884666666668,
            "bin_end": 0.9970136444444445,
            "count": 0
           },
           {
            "bin_start": 0.9970136444444445,
            "bin_end": 0.9972388222222224,
            "count": 1
           },
           {
            "bin_start": 0.9972388222222224,
            "bin_end": 0.9974640000000001,
            "count": 1
           }
          ]
         }
        },
        {
         "name": "pH",
         "dtype": "float64",
         "stats": {
          "unique_count": 6,
          "nan_count": 0,
          "min": "3.2672222222222214",
          "max": "3.3979999999999997",
          "histogram": [
           {
            "bin_start": 3.2672222222222214,
            "bin_end": 3.280299999999999,
            "count": 1
           },
           {
            "bin_start": 3.280299999999999,
            "bin_end": 3.293377777777777,
            "count": 1
           },
           {
            "bin_start": 3.293377777777777,
            "bin_end": 3.306455555555555,
            "count": 1
           },
           {
            "bin_start": 3.306455555555555,
            "bin_end": 3.319533333333333,
            "count": 1
           },
           {
            "bin_start": 3.319533333333333,
            "bin_end": 3.3326111111111105,
            "count": 0
           },
           {
            "bin_start": 3.3326111111111105,
            "bin_end": 3.3456888888888883,
            "count": 0
           },
           {
            "bin_start": 3.3456888888888883,
            "bin_end": 3.358766666666666,
            "count": 0
           },
           {
            "bin_start": 3.358766666666666,
            "bin_end": 3.371844444444444,
            "count": 0
           },
           {
            "bin_start": 3.371844444444444,
            "bin_end": 3.384922222222222,
            "count": 1
           },
           {
            "bin_start": 3.384922222222222,
            "bin_end": 3.3979999999999997,
            "count": 1
           }
          ]
         }
        },
        {
         "name": "sulphates",
         "dtype": "float64",
         "stats": {
          "unique_count": 6,
          "nan_count": 0,
          "min": "0.5700000000000001",
          "max": "0.7677777777777778",
          "histogram": [
           {
            "bin_start": 0.5700000000000001,
            "bin_end": 0.5897777777777778,
            "count": 1
           },
           {
            "bin_start": 0.5897777777777778,
            "bin_end": 0.6095555555555556,
            "count": 1
           },
           {
            "bin_start": 0.6095555555555556,
            "bin_end": 0.6293333333333334,
            "count": 1
           },
           {
            "bin_start": 0.6293333333333334,
            "bin_end": 0.6491111111111112,
            "count": 0
           },
           {
            "bin_start": 0.6491111111111112,
            "bin_end": 0.6688888888888889,
            "count": 0
           },
           {
            "bin_start": 0.6688888888888889,
            "bin_end": 0.6886666666666668,
            "count": 1
           },
           {
            "bin_start": 0.6886666666666668,
            "bin_end": 0.7084444444444444,
            "count": 0
           },
           {
            "bin_start": 0.7084444444444444,
            "bin_end": 0.7282222222222222,
            "count": 0
           },
           {
            "bin_start": 0.7282222222222222,
            "bin_end": 0.748,
            "count": 1
           },
           {
            "bin_start": 0.748,
            "bin_end": 0.7677777777777778,
            "count": 1
           }
          ]
         }
        },
        {
         "name": "alcohol",
         "dtype": "float64",
         "stats": {
          "unique_count": 6,
          "nan_count": 0,
          "min": "9.899706314243753",
          "max": "12.094444444444443",
          "histogram": [
           {
            "bin_start": 9.899706314243753,
            "bin_end": 10.119180127263823,
            "count": 2
           },
           {
            "bin_start": 10.119180127263823,
            "bin_end": 10.33865394028389,
            "count": 1
           },
           {
            "bin_start": 10.33865394028389,
            "bin_end": 10.55812775330396,
            "count": 0
           },
           {
            "bin_start": 10.55812775330396,
            "bin_end": 10.777601566324028,
            "count": 1
           },
           {
            "bin_start": 10.777601566324028,
            "bin_end": 10.997075379344098,
            "count": 0
           },
           {
            "bin_start": 10.997075379344098,
            "bin_end": 11.216549192364166,
            "count": 0
           },
           {
            "bin_start": 11.216549192364166,
            "bin_end": 11.436023005384236,
            "count": 0
           },
           {
            "bin_start": 11.436023005384236,
            "bin_end": 11.655496818404306,
            "count": 1
           },
           {
            "bin_start": 11.655496818404306,
            "bin_end": 11.874970631424373,
            "count": 0
           },
           {
            "bin_start": 11.874970631424373,
            "bin_end": 12.094444444444443,
            "count": 1
           }
          ]
         }
        },
        {
         "name": "_deepnote_index_column",
         "dtype": "int64"
        }
       ],
       "rows_top": [
        {
         "fixed acidity": 8.36,
         "volatile acidity": 0.8845000000000001,
         "citric acid": 0.17099999999999999,
         "residual sugar": 2.6350000000000002,
         "chlorides": 0.12250000000000001,
         "free sulfur dioxide": 11,
         "total sulfur dioxide": 24.9,
         "density": 0.9974640000000001,
         "pH": 3.3979999999999997,
         "sulphates": 0.5700000000000001,
         "alcohol": 9.955000000000002,
         "_deepnote_index_column": 3
        },
        {
         "fixed acidity": 7.779245283018868,
         "volatile acidity": 0.6939622641509429,
         "citric acid": 0.1741509433962264,
         "residual sugar": 2.69433962264151,
         "chlorides": 0.09067924528301884,
         "free sulfur dioxide": 12.264150943396226,
         "total sulfur dioxide": 36.24528301886792,
         "density": 0.9965424528301886,
         "pH": 3.381509433962264,
         "sulphates": 0.5964150943396227,
         "alcohol": 10.265094339622639,
         "_deepnote_index_column": 4
        },
        {
         "fixed acidity": 8.167254038179149,
         "volatile acidity": 0.5770411160058732,
         "citric acid": 0.24368575624082198,
         "residual sugar": 2.528854625550658,
         "chlorides": 0.09273568281938328,
         "free sulfur dioxide": 16.983847283406753,
         "total sulfur dioxide": 56.51395007342144,
         "density": 0.9971036270190888,
         "pH": 3.3049486049926546,
         "sulphates": 0.6209691629955947,
         "alcohol": 9.899706314243753,
         "_deepnote_index_column": 5
        },
        {
         "fixed acidity": 8.347178683385575,
         "volatile acidity": 0.49748432601880965,
         "citric acid": 0.2738244514106587,
         "residual sugar": 2.477194357366772,
         "chlorides": 0.08495611285266458,
         "free sulfur dioxide": 15.711598746081505,
         "total sulfur dioxide": 40.86990595611285,
         "density": 0.9966150626959255,
         "pH": 3.3180721003134837,
         "sulphates": 0.6753291536050158,
         "alcohol": 10.629519331243463,
         "_deepnote_index_column": 6
        },
        {
         "fixed acidity": 8.872361809045225,
         "volatile acidity": 0.4039195979899498,
         "citric acid": 0.37517587939698493,
         "residual sugar": 2.7206030150753793,
         "chlorides": 0.07658793969849244,
         "free sulfur dioxide": 14.045226130653266,
         "total sulfur dioxide": 35.02010050251256,
         "density": 0.9961042713567828,
         "pH": 3.290753768844219,
         "sulphates": 0.7412562814070353,
         "alcohol": 11.465912897822443,
         "_deepnote_index_column": 7
        },
        {
         "fixed acidity": 8.566666666666665,
         "volatile acidity": 0.4233333333333334,
         "citric acid": 0.39111111111111113,
         "residual sugar": 2.5777777777777775,
         "chlorides": 0.06844444444444445,
         "free sulfur dioxide": 13.277777777777779,
         "total sulfur dioxide": 33.44444444444444,
         "density": 0.9952122222222223,
         "pH": 3.2672222222222214,
         "sulphates": 0.7677777777777778,
         "alcohol": 12.094444444444443,
         "_deepnote_index_column": 8
        }
       ],
       "rows_bottom": null
      },
      "text/plain": "         fixed acidity  volatile acidity  citric acid  residual sugar  \\\nquality                                                                 \n3                 8.36              0.88         0.17            2.64   \n4                 7.78              0.69         0.17            2.69   \n5                 8.17              0.58         0.24            2.53   \n6                 8.35              0.50         0.27            2.48   \n7                 8.87              0.40         0.38            2.72   \n8                 8.57              0.42         0.39            2.58   \n\n         chlorides  free sulfur dioxide  total sulfur dioxide  density   pH  \\\nquality                                                                       \n3             0.12                11.00                 24.90     1.00 3.40   \n4             0.09                12.26                 36.25     1.00 3.38   \n5             0.09                16.98                 56.51     1.00 3.30   \n6             0.08                15.71                 40.87     1.00 3.32   \n7             0.08                14.05                 35.02     1.00 3.29   \n8             0.07                13.28                 33.44     1.00 3.27   \n\n         sulphates  alcohol  \nquality                      \n3             0.57     9.96  \n4             0.60    10.27  \n5             0.62     9.90  \n6             0.68    10.63  \n7             0.74    11.47  \n8             0.77    12.09  ",
      "text/html": "<div>\n<style scoped>\n    .dataframe tbody tr th:only-of-type {\n        vertical-align: middle;\n    }\n\n    .dataframe tbody tr th {\n        vertical-align: top;\n    }\n\n    .dataframe thead th {\n        text-align: right;\n    }\n</style>\n<table border=\"1\" class=\"dataframe\">\n  <thead>\n    <tr style=\"text-align: right;\">\n      <th></th>\n      <th>fixed acidity</th>\n      <th>volatile acidity</th>\n      <th>citric acid</th>\n      <th>residual sugar</th>\n      <th>chlorides</th>\n      <th>free sulfur dioxide</th>\n      <th>total sulfur dioxide</th>\n      <th>density</th>\n      <th>pH</th>\n      <th>sulphates</th>\n      <th>alcohol</th>\n    </tr>\n    <tr>\n      <th>quality</th>\n      <th></th>\n      <th></th>\n      <th></th>\n      <th></th>\n      <th></th>\n      <th></th>\n      <th></th>\n      <th></th>\n      <th></th>\n      <th></th>\n      <th></th>\n    </tr>\n  </thead>\n  <tbody>\n    <tr>\n      <th>3</th>\n      <td>8.36</td>\n      <td>0.88</td>\n      <td>0.17</td>\n      <td>2.64</td>\n      <td>0.12</td>\n      <td>11.00</td>\n      <td>24.90</td>\n      <td>1.00</td>\n      <td>3.40</td>\n      <td>0.57</td>\n      <td>9.96</td>\n    </tr>\n    <tr>\n      <th>4</th>\n      <td>7.78</td>\n      <td>0.69</td>\n      <td>0.17</td>\n      <td>2.69</td>\n      <td>0.09</td>\n      <td>12.26</td>\n      <td>36.25</td>\n      <td>1.00</td>\n      <td>3.38</td>\n      <td>0.60</td>\n      <td>10.27</td>\n    </tr>\n    <tr>\n      <th>5</th>\n      <td>8.17</td>\n      <td>0.58</td>\n      <td>0.24</td>\n      <td>2.53</td>\n      <td>0.09</td>\n      <td>16.98</td>\n      <td>56.51</td>\n      <td>1.00</td>\n      <td>3.30</td>\n      <td>0.62</td>\n      <td>9.90</td>\n    </tr>\n    <tr>\n      <th>6</th>\n      <td>8.35</td>\n      <td>0.50</td>\n      <td>0.27</td>\n      <td>2.48</td>\n      <td>0.08</td>\n      <td>15.71</td>\n      <td>40.87</td>\n      <td>1.00</td>\n      <td>3.32</td>\n      <td>0.68</td>\n      <td>10.63</td>\n    </tr>\n    <tr>\n      <th>7</th>\n      <td>8.87</td>\n      <td>0.40</td>\n      <td>0.38</td>\n      <td>2.72</td>\n      <td>0.08</td>\n      <td>14.05</td>\n      <td>35.02</td>\n      <td>1.00</td>\n      <td>3.29</td>\n      <td>0.74</td>\n      <td>11.47</td>\n    </tr>\n    <tr>\n      <th>8</th>\n      <td>8.57</td>\n      <td>0.42</td>\n      <td>0.39</td>\n      <td>2.58</td>\n      <td>0.07</td>\n      <td>13.28</td>\n      <td>33.44</td>\n      <td>1.00</td>\n      <td>3.27</td>\n      <td>0.77</td>\n      <td>12.09</td>\n    </tr>\n  </tbody>\n</table>\n</div>"
     },
     "metadata": {}
    }
   ]
  },
  {
   "cell_type": "markdown",
   "source": "Hay un **patrón** marcado, a mejor `quality` del vino rojo mayor es el aumento en `citric acid`, `sulphates` y en `alcohol` además tiene relación inversa con `volatile acidity`, `residual sugar`, `chlorides` y `pH`",
   "metadata": {
    "tags": [],
    "cell_id": "00010-2848704e-cbaa-4212-a86d-64fc9eba1e6b",
    "deepnote_cell_type": "markdown"
   }
  },
  {
   "cell_type": "code",
   "source": "# Histplot\n%matplotlib inline\nsns.set_theme(style='darkgrid')\nsns.histplot(data=red.groupby('quality').mean(), bins=10)\nplt.tight_layout();",
   "metadata": {
    "tags": [],
    "cell_id": "00016-cf450361-0baf-41bd-9d4b-89aa44279a23",
    "deepnote_to_be_reexecuted": false,
    "source_hash": "a19601ec",
    "execution_start": 1637130627010,
    "execution_millis": 1439,
    "deepnote_cell_type": "code"
   },
   "outputs": [
    {
     "data": {
      "text/plain": "<Figure size 432x288 with 1 Axes>",
      "image/png": "[encoded data removed]"
     },
     "metadata": {
      "image/png": {
       "width": 420,
       "height": 276
      }
     },
     "output_type": "display_data"
    }
   ],
   "execution_count": 11
  },
  {
   "cell_type": "markdown",
   "source": "## 3.3 Selección de features 👉🏻💯",
   "metadata": {
    "tags": [],
    "is_collapsed": false,
    "cell_id": "00019-1dca82c8-c5ce-4cf9-b307-2b8731200a93",
    "deepnote_cell_type": "text-cell-h2"
   }
  },
  {
   "cell_type": "markdown",
   "source": "### Normalización",
   "metadata": {
    "tags": [],
    "is_collapsed": false,
    "cell_id": "00020-4f2a1e22-3872-40c5-96f1-6c2c6b8899c9",
    "deepnote_cell_type": "text-cell-h3"
   }
  },
  {
   "cell_type": "code",
   "metadata": {
    "tags": [],
    "deepnote_to_be_reexecuted": false,
    "source_hash": "60da3d5",
    "execution_start": 1637130628536,
    "execution_millis": 18,
    "cell_id": "00014-aaa834fc-486b-4c1f-98ad-3e36c5aea9d7",
    "deepnote_cell_type": "code"
   },
   "source": "# Normalización\nred_norm = (red - red.min()) / (red.max() - red.min())\nred_norm.head()",
   "execution_count": 12,
   "outputs": [
    {
     "output_type": "execute_result",
     "execution_count": 12,
     "data": {
      "application/vnd.deepnote.dataframe.v2+json": {
       "row_count": 5,
       "column_count": 12,
       "columns": [
        {
         "name": "fixed acidity",
         "dtype": "float64",
         "stats": {
          "unique_count": 3,
          "nan_count": 0,
          "min": "0.24778761061946908",
          "max": "0.5840707964601769",
          "histogram": [
           {
            "bin_start": 0.24778761061946908,
            "bin_end": 0.28141592920353986,
            "count": 2
           },
           {
            "bin_start": 0.28141592920353986,
            "bin_end": 0.31504424778761064,
            "count": 2
           },
           {
            "bin_start": 0.31504424778761064,
            "bin_end": 0.3486725663716814,
            "count": 0
           },
           {
            "bin_start": 0.3486725663716814,
            "bin_end": 0.3823008849557522,
            "count": 0
           },
           {
            "bin_start": 0.3823008849557522,
            "bin_end": 0.415929203539823,
            "count": 0
           },
           {
            "bin_start": 0.415929203539823,
            "bin_end": 0.44955752212389377,
            "count": 0
           },
           {
            "bin_start": 0.44955752212389377,
            "bin_end": 0.48318584070796455,
            "count": 0
           },
           {
            "bin_start": 0.48318584070796455,
            "bin_end": 0.5168141592920353,
            "count": 0
           },
           {
            "bin_start": 0.5168141592920353,
            "bin_end": 0.5504424778761061,
            "count": 0
           },
           {
            "bin_start": 0.5504424778761061,
            "bin_end": 0.5840707964601769,
            "count": 1
           }
          ]
         }
        },
        {
         "name": "volatile acidity",
         "dtype": "float64",
         "stats": {
          "unique_count": 4,
          "nan_count": 0,
          "min": "0.10958904109589043",
          "max": "0.5205479452054794",
          "histogram": [
           {
            "bin_start": 0.10958904109589043,
            "bin_end": 0.15068493150684933,
            "count": 1
           },
           {
            "bin_start": 0.15068493150684933,
            "bin_end": 0.19178082191780824,
            "count": 0
           },
           {
            "bin_start": 0.19178082191780824,
            "bin_end": 0.23287671232876714,
            "count": 0
           },
           {
            "bin_start": 0.23287671232876714,
            "bin_end": 0.273972602739726,
            "count": 0
           },
           {
            "bin_start": 0.273972602739726,
            "bin_end": 0.31506849315068497,
            "count": 0
           },
           {
            "bin_start": 0.31506849315068497,
            "bin_end": 0.3561643835616438,
            "count": 0
           },
           {
            "bin_start": 0.3561643835616438,
            "bin_end": 0.3972602739726028,
            "count": 2
           },
           {
            "bin_start": 0.3972602739726028,
            "bin_end": 0.4383561643835616,
            "count": 0
           },
           {
            "bin_start": 0.4383561643835616,
            "bin_end": 0.4794520547945206,
            "count": 1
           },
           {
            "bin_start": 0.4794520547945206,
            "bin_end": 0.5205479452054794,
            "count": 1
           }
          ]
         }
        },
        {
         "name": "citric acid",
         "dtype": "float64",
         "stats": {
          "unique_count": 3,
          "nan_count": 0,
          "min": "0.0",
          "max": "0.56",
          "histogram": [
           {
            "bin_start": 0,
            "bin_end": 0.05600000000000001,
            "count": 4
           },
           {
            "bin_start": 0.05600000000000001,
            "bin_end": 0.11200000000000002,
            "count": 0
           },
           {
            "bin_start": 0.11200000000000002,
            "bin_end": 0.16800000000000004,
            "count": 0
           },
           {
            "bin_start": 0.16800000000000004,
            "bin_end": 0.22400000000000003,
            "count": 0
           },
           {
            "bin_start": 0.22400000000000003,
            "bin_end": 0.28,
            "count": 0
           },
           {
            "bin_start": 0.28,
            "bin_end": 0.3360000000000001,
            "count": 0
           },
           {
            "bin_start": 0.3360000000000001,
            "bin_end": 0.39200000000000007,
            "count": 0
           },
           {
            "bin_start": 0.39200000000000007,
            "bin_end": 0.44800000000000006,
            "count": 0
           },
           {
            "bin_start": 0.44800000000000006,
            "bin_end": 0.5040000000000001,
            "count": 0
           },
           {
            "bin_start": 0.5040000000000001,
            "bin_end": 0.56,
            "count": 1
           }
          ]
         }
        },
        {
         "name": "residual sugar",
         "dtype": "float64",
         "stats": {
          "unique_count": 3,
          "nan_count": 0,
          "min": "0.0684931506849315",
          "max": "0.11643835616438358",
          "histogram": [
           {
            "bin_start": 0.0684931506849315,
            "bin_end": 0.07328767123287672,
            "count": 3
           },
           {
            "bin_start": 0.07328767123287672,
            "bin_end": 0.07808219178082192,
            "count": 0
           },
           {
            "bin_start": 0.07808219178082192,
            "bin_end": 0.08287671232876713,
            "count": 0
           },
           {
            "bin_start": 0.08287671232876713,
            "bin_end": 0.08767123287671233,
            "count": 0
           },
           {
            "bin_start": 0.08767123287671233,
            "bin_end": 0.09246575342465754,
            "count": 0
           },
           {
            "bin_start": 0.09246575342465754,
            "bin_end": 0.09726027397260276,
            "count": 1
           },
           {
            "bin_start": 0.09726027397260276,
            "bin_end": 0.10205479452054797,
            "count": 0
           },
           {
            "bin_start": 0.10205479452054797,
            "bin_end": 0.10684931506849317,
            "count": 0
           },
           {
            "bin_start": 0.10684931506849317,
            "bin_end": 0.11164383561643837,
            "count": 0
           },
           {
            "bin_start": 0.11164383561643837,
            "bin_end": 0.11643835616438358,
            "count": 1
           }
          ]
         }
        },
        {
         "name": "chlorides",
         "dtype": "float64",
         "stats": {
          "unique_count": 4,
          "nan_count": 0,
          "min": "0.10517529215358933",
          "max": "0.14357262103505844",
          "histogram": [
           {
            "bin_start": 0.10517529215358933,
            "bin_end": 0.10901502504173624,
            "count": 3
           },
           {
            "bin_start": 0.10901502504173624,
            "bin_end": 0.11285475792988314,
            "count": 0
           },
           {
            "bin_start": 0.11285475792988314,
            "bin_end": 0.11669449081803006,
            "count": 0
           },
           {
            "bin_start": 0.11669449081803006,
            "bin_end": 0.12053422370617697,
            "count": 0
           },
           {
            "bin_start": 0.12053422370617697,
            "bin_end": 0.12437395659432388,
            "count": 0
           },
           {
            "bin_start": 0.12437395659432388,
            "bin_end": 0.1282136894824708,
            "count": 0
           },
           {
            "bin_start": 0.1282136894824708,
            "bin_end": 0.1320534223706177,
            "count": 0
           },
           {
            "bin_start": 0.1320534223706177,
            "bin_end": 0.1358931552587646,
            "count": 1
           },
           {
            "bin_start": 0.1358931552587646,
            "bin_end": 0.13973288814691154,
            "count": 0
           },
           {
            "bin_start": 0.13973288814691154,
            "bin_end": 0.14357262103505844,
            "count": 1
           }
          ]
         }
        },
        {
         "name": "free sulfur dioxide",
         "dtype": "float64",
         "stats": {
          "unique_count": 4,
          "nan_count": 0,
          "min": "0.14084507042253522",
          "max": "0.3380281690140845",
          "histogram": [
           {
            "bin_start": 0.14084507042253522,
            "bin_end": 0.16056338028169015,
            "count": 2
           },
           {
            "bin_start": 0.16056338028169015,
            "bin_end": 0.18028169014084508,
            "count": 0
           },
           {
            "bin_start": 0.18028169014084508,
            "bin_end": 0.2,
            "count": 1
           },
           {
            "bin_start": 0.2,
            "bin_end": 0.21971830985915491,
            "count": 0
           },
           {
            "bin_start": 0.21971830985915491,
            "bin_end": 0.23943661971830987,
            "count": 1
           },
           {
            "bin_start": 0.23943661971830987,
            "bin_end": 0.2591549295774648,
            "count": 0
           },
           {
            "bin_start": 0.2591549295774648,
            "bin_end": 0.2788732394366197,
            "count": 0
           },
           {
            "bin_start": 0.2788732394366197,
            "bin_end": 0.29859154929577464,
            "count": 0
           },
           {
            "bin_start": 0.29859154929577464,
            "bin_end": 0.3183098591549296,
            "count": 0
           },
           {
            "bin_start": 0.3183098591549296,
            "bin_end": 0.3380281690140845,
            "count": 1
           }
          ]
         }
        },
        {
         "name": "total sulfur dioxide",
         "dtype": "float64",
         "stats": {
          "unique_count": 4,
          "nan_count": 0,
          "min": "0.0989399293286219",
          "max": "0.21554770318021202",
          "histogram": [
           {
            "bin_start": 0.0989399293286219,
            "bin_end": 0.11060070671378092,
            "count": 2
           },
           {
            "bin_start": 0.11060070671378092,
            "bin_end": 0.12226148409893993,
            "count": 0
           },
           {
            "bin_start": 0.12226148409893993,
            "bin_end": 0.13392226148409894,
            "count": 0
           },
           {
            "bin_start": 0.13392226148409894,
            "bin_end": 0.14558303886925794,
            "count": 0
           },
           {
            "bin_start": 0.14558303886925794,
            "bin_end": 0.15724381625441697,
            "count": 0
           },
           {
            "bin_start": 0.15724381625441697,
            "bin_end": 0.16890459363957597,
            "count": 0
           },
           {
            "bin_start": 0.16890459363957597,
            "bin_end": 0.18056537102473497,
            "count": 1
           },
           {
            "bin_start": 0.18056537102473497,
            "bin_end": 0.192226148409894,
            "count": 1
           },
           {
            "bin_start": 0.192226148409894,
            "bin_end": 0.20388692579505302,
            "count": 0
           },
           {
            "bin_start": 0.20388692579505302,
            "bin_end": 0.21554770318021202,
            "count": 1
           }
          ]
         }
        },
        {
         "name": "density",
         "dtype": "float64",
         "stats": {
          "unique_count": 4,
          "nan_count": 0,
          "min": "0.49412628487518584",
          "max": "0.5822320117474312",
          "histogram": [
           {
            "bin_start": 0.49412628487518584,
            "bin_end": 0.5029368575624104,
            "count": 1
           },
           {
            "bin_start": 0.5029368575624104,
            "bin_end": 0.5117474302496349,
            "count": 1
           },
           {
            "bin_start": 0.5117474302496349,
            "bin_end": 0.5205580029368595,
            "count": 0
           },
           {
            "bin_start": 0.5205580029368595,
            "bin_end": 0.529368575624084,
            "count": 0
           },
           {
            "bin_start": 0.529368575624084,
            "bin_end": 0.5381791483113085,
            "count": 0
           },
           {
            "bin_start": 0.5381791483113085,
            "bin_end": 0.546989720998533,
            "count": 0
           },
           {
            "bin_start": 0.546989720998533,
            "bin_end": 0.5558002936857576,
            "count": 0
           },
           {
            "bin_start": 0.5558002936857576,
            "bin_end": 0.5646108663729822,
            "count": 0
           },
           {
            "bin_start": 0.5646108663729822,
            "bin_end": 0.5734214390602067,
            "count": 2
           },
           {
            "bin_start": 0.5734214390602067,
            "bin_end": 0.5822320117474312,
            "count": 1
           }
          ]
         }
        },
        {
         "name": "pH",
         "dtype": "float64",
         "stats": {
          "unique_count": 4,
          "nan_count": 0,
          "min": "0.3307086614173229",
          "max": "0.6062992125984251",
          "histogram": [
           {
            "bin_start": 0.3307086614173229,
            "bin_end": 0.35826771653543316,
            "count": 1
           },
           {
            "bin_start": 0.35826771653543316,
            "bin_end": 0.38582677165354334,
            "count": 1
           },
           {
            "bin_start": 0.38582677165354334,
            "bin_end": 0.4133858267716536,
            "count": 1
           },
           {
            "bin_start": 0.4133858267716536,
            "bin_end": 0.4409448818897638,
            "count": 0
           },
           {
            "bin_start": 0.4409448818897638,
            "bin_end": 0.468503937007874,
            "count": 0
           },
           {
            "bin_start": 0.468503937007874,
            "bin_end": 0.49606299212598426,
            "count": 0
           },
           {
            "bin_start": 0.49606299212598426,
            "bin_end": 0.5236220472440944,
            "count": 0
           },
           {
            "bin_start": 0.5236220472440944,
            "bin_end": 0.5511811023622046,
            "count": 0
           },
           {
            "bin_start": 0.5511811023622046,
            "bin_end": 0.5787401574803149,
            "count": 0
           },
           {
            "bin_start": 0.5787401574803149,
            "bin_end": 0.6062992125984251,
            "count": 2
           }
          ]
         }
        },
        {
         "name": "sulphates",
         "dtype": "float64",
         "stats": {
          "unique_count": 4,
          "nan_count": 0,
          "min": "0.13772455089820362",
          "max": "0.20958083832335334",
          "histogram": [
           {
            "bin_start": 0.13772455089820362,
            "bin_end": 0.1449101796407186,
            "count": 2
           },
           {
            "bin_start": 0.1449101796407186,
            "bin_end": 0.15209580838323356,
            "count": 1
           },
           {
            "bin_start": 0.15209580838323356,
            "bin_end": 0.15928143712574855,
            "count": 0
           },
           {
            "bin_start": 0.15928143712574855,
            "bin_end": 0.16646706586826351,
            "count": 0
           },
           {
            "bin_start": 0.16646706586826351,
            "bin_end": 0.17365269461077848,
            "count": 0
           },
           {
            "bin_start": 0.17365269461077848,
            "bin_end": 0.18083832335329345,
            "count": 0
           },
           {
            "bin_start": 0.18083832335329345,
            "bin_end": 0.1880239520958084,
            "count": 0
           },
           {
            "bin_start": 0.1880239520958084,
            "bin_end": 0.1952095808383234,
            "count": 1
           },
           {
            "bin_start": 0.1952095808383234,
            "bin_end": 0.20239520958083834,
            "count": 0
           },
           {
            "bin_start": 0.20239520958083834,
            "bin_end": 0.20958083832335334,
            "count": 1
           }
          ]
         }
        },
        {
         "name": "alcohol",
         "dtype": "float64",
         "stats": {
          "unique_count": 2,
          "nan_count": 0,
          "min": "0.15384615384615385",
          "max": "0.21538461538461545",
          "histogram": [
           {
            "bin_start": 0.15384615384615385,
            "bin_end": 0.16,
            "count": 2
           },
           {
            "bin_start": 0.16,
            "bin_end": 0.16615384615384618,
            "count": 0
           },
           {
            "bin_start": 0.16615384615384618,
            "bin_end": 0.17230769230769233,
            "count": 0
           },
           {
            "bin_start": 0.17230769230769233,
            "bin_end": 0.1784615384615385,
            "count": 0
           },
           {
            "bin_start": 0.1784615384615385,
            "bin_end": 0.18461538461538465,
            "count": 0
           },
           {
            "bin_start": 0.18461538461538465,
            "bin_end": 0.1907692307692308,
            "count": 0
           },
           {
            "bin_start": 0.1907692307692308,
            "bin_end": 0.19692307692307698,
            "count": 0
           },
           {
            "bin_start": 0.19692307692307698,
            "bin_end": 0.20307692307692313,
            "count": 0
           },
           {
            "bin_start": 0.20307692307692313,
            "bin_end": 0.2092307692307693,
            "count": 0
           },
           {
            "bin_start": 0.2092307692307693,
            "bin_end": 0.21538461538461545,
            "count": 3
           }
          ]
         }
        },
        {
         "name": "quality",
         "dtype": "float64",
         "stats": {
          "unique_count": 2,
          "nan_count": 0,
          "min": "0.4",
          "max": "0.6",
          "histogram": [
           {
            "bin_start": 0.4,
            "bin_end": 0.42000000000000004,
            "count": 4
           },
           {
            "bin_start": 0.42000000000000004,
            "bin_end": 0.44,
            "count": 0
           },
           {
            "bin_start": 0.44,
            "bin_end": 0.46,
            "count": 0
           },
           {
            "bin_start": 0.46,
            "bin_end": 0.48,
            "count": 0
           },
           {
            "bin_start": 0.48,
            "bin_end": 0.5,
            "count": 0
           },
           {
            "bin_start": 0.5,
            "bin_end": 0.52,
            "count": 0
           },
           {
            "bin_start": 0.52,
            "bin_end": 0.54,
            "count": 0
           },
           {
            "bin_start": 0.54,
            "bin_end": 0.56,
            "count": 0
           },
           {
            "bin_start": 0.56,
            "bin_end": 0.58,
            "count": 0
           },
           {
            "bin_start": 0.58,
            "bin_end": 0.6,
            "count": 1
           }
          ]
         }
        },
        {
         "name": "_deepnote_index_column",
         "dtype": "int64"
        }
       ],
       "rows_top": [
        {
         "fixed acidity": 0.24778761061946908,
         "volatile acidity": 0.3972602739726027,
         "citric acid": 0,
         "residual sugar": 0.0684931506849315,
         "chlorides": 0.10684474123539232,
         "free sulfur dioxide": 0.14084507042253522,
         "total sulfur dioxide": 0.0989399293286219,
         "density": 0.5675477239353917,
         "pH": 0.6062992125984251,
         "sulphates": 0.13772455089820362,
         "alcohol": 0.15384615384615385,
         "quality": 0.4,
         "_deepnote_index_column": 0
        },
        {
         "fixed acidity": 0.2831858407079646,
         "volatile acidity": 0.5205479452054794,
         "citric acid": 0,
         "residual sugar": 0.11643835616438358,
         "chlorides": 0.14357262103505844,
         "free sulfur dioxide": 0.3380281690140845,
         "total sulfur dioxide": 0.21554770318021202,
         "density": 0.49412628487518584,
         "pH": 0.3622047244094489,
         "sulphates": 0.20958083832335334,
         "alcohol": 0.21538461538461545,
         "quality": 0.4,
         "_deepnote_index_column": 1
        },
        {
         "fixed acidity": 0.2831858407079646,
         "volatile acidity": 0.4383561643835617,
         "citric acid": 0.04,
         "residual sugar": 0.0958904109589041,
         "chlorides": 0.13355592654424042,
         "free sulfur dioxide": 0.19718309859154928,
         "total sulfur dioxide": 0.1696113074204947,
         "density": 0.5088105726872254,
         "pH": 0.4094488188976376,
         "sulphates": 0.19161676646706588,
         "alcohol": 0.21538461538461545,
         "quality": 0.4,
         "_deepnote_index_column": 2
        },
        {
         "fixed acidity": 0.5840707964601769,
         "volatile acidity": 0.10958904109589043,
         "citric acid": 0.56,
         "residual sugar": 0.0684931506849315,
         "chlorides": 0.10517529215358933,
         "free sulfur dioxide": 0.22535211267605634,
         "total sulfur dioxide": 0.19081272084805653,
         "density": 0.5822320117474312,
         "pH": 0.3307086614173229,
         "sulphates": 0.1497005988023952,
         "alcohol": 0.21538461538461545,
         "quality": 0.6,
         "_deepnote_index_column": 3
        },
        {
         "fixed acidity": 0.24778761061946908,
         "volatile acidity": 0.3972602739726027,
         "citric acid": 0,
         "residual sugar": 0.0684931506849315,
         "chlorides": 0.10684474123539232,
         "free sulfur dioxide": 0.14084507042253522,
         "total sulfur dioxide": 0.0989399293286219,
         "density": 0.5675477239353917,
         "pH": 0.6062992125984251,
         "sulphates": 0.13772455089820362,
         "alcohol": 0.15384615384615385,
         "quality": 0.4,
         "_deepnote_index_column": 4
        }
       ],
       "rows_bottom": null
      },
      "text/plain": "   fixed acidity  volatile acidity  citric acid  residual sugar  chlorides  \\\n0           0.25              0.40         0.00            0.07       0.11   \n1           0.28              0.52         0.00            0.12       0.14   \n2           0.28              0.44         0.04            0.10       0.13   \n3           0.58              0.11         0.56            0.07       0.11   \n4           0.25              0.40         0.00            0.07       0.11   \n\n   free sulfur dioxide  total sulfur dioxide  density   pH  sulphates  \\\n0                 0.14                  0.10     0.57 0.61       0.14   \n1                 0.34                  0.22     0.49 0.36       0.21   \n2                 0.20                  0.17     0.51 0.41       0.19   \n3                 0.23                  0.19     0.58 0.33       0.15   \n4                 0.14                  0.10     0.57 0.61       0.14   \n\n   alcohol  quality  \n0     0.15     0.40  \n1     0.22     0.40  \n2     0.22     0.40  \n3     0.22     0.60  \n4     0.15     0.40  ",
      "text/html": "<div>\n<style scoped>\n    .dataframe tbody tr th:only-of-type {\n        vertical-align: middle;\n    }\n\n    .dataframe tbody tr th {\n        vertical-align: top;\n    }\n\n    .dataframe thead th {\n        text-align: right;\n    }\n</style>\n<table border=\"1\" class=\"dataframe\">\n  <thead>\n    <tr style=\"text-align: right;\">\n      <th></th>\n      <th>fixed acidity</th>\n      <th>volatile acidity</th>\n      <th>citric acid</th>\n      <th>residual sugar</th>\n      <th>chlorides</th>\n      <th>free sulfur dioxide</th>\n      <th>total sulfur dioxide</th>\n      <th>density</th>\n      <th>pH</th>\n      <th>sulphates</th>\n      <th>alcohol</th>\n      <th>quality</th>\n    </tr>\n  </thead>\n  <tbody>\n    <tr>\n      <th>0</th>\n      <td>0.25</td>\n      <td>0.40</td>\n      <td>0.00</td>\n      <td>0.07</td>\n      <td>0.11</td>\n      <td>0.14</td>\n      <td>0.10</td>\n      <td>0.57</td>\n      <td>0.61</td>\n      <td>0.14</td>\n      <td>0.15</td>\n      <td>0.40</td>\n    </tr>\n    <tr>\n      <th>1</th>\n      <td>0.28</td>\n      <td>0.52</td>\n      <td>0.00</td>\n      <td>0.12</td>\n      <td>0.14</td>\n      <td>0.34</td>\n      <td>0.22</td>\n      <td>0.49</td>\n      <td>0.36</td>\n      <td>0.21</td>\n      <td>0.22</td>\n      <td>0.40</td>\n    </tr>\n    <tr>\n      <th>2</th>\n      <td>0.28</td>\n      <td>0.44</td>\n      <td>0.04</td>\n      <td>0.10</td>\n      <td>0.13</td>\n      <td>0.20</td>\n      <td>0.17</td>\n      <td>0.51</td>\n      <td>0.41</td>\n      <td>0.19</td>\n      <td>0.22</td>\n      <td>0.40</td>\n    </tr>\n    <tr>\n      <th>3</th>\n      <td>0.58</td>\n      <td>0.11</td>\n      <td>0.56</td>\n      <td>0.07</td>\n      <td>0.11</td>\n      <td>0.23</td>\n      <td>0.19</td>\n      <td>0.58</td>\n      <td>0.33</td>\n      <td>0.15</td>\n      <td>0.22</td>\n      <td>0.60</td>\n    </tr>\n    <tr>\n      <th>4</th>\n      <td>0.25</td>\n      <td>0.40</td>\n      <td>0.00</td>\n      <td>0.07</td>\n      <td>0.11</td>\n      <td>0.14</td>\n      <td>0.10</td>\n      <td>0.57</td>\n      <td>0.61</td>\n      <td>0.14</td>\n      <td>0.15</td>\n      <td>0.40</td>\n    </tr>\n  </tbody>\n</table>\n</div>"
     },
     "metadata": {}
    }
   ]
  },
  {
   "cell_type": "markdown",
   "source": "# 4. Modelamiento 🧠🤖",
   "metadata": {
    "tags": [],
    "is_collapsed": false,
    "cell_id": "00022-0a75afef-6416-4a8d-bba4-4e7190369edf",
    "deepnote_cell_type": "text-cell-h1"
   }
  },
  {
   "cell_type": "code",
   "metadata": {
    "tags": [],
    "cell_id": "00014-68c64e31-7ebb-4f73-a683-be16163e098d",
    "deepnote_to_be_reexecuted": false,
    "source_hash": "656d0164",
    "execution_start": 1637130628554,
    "execution_millis": 220,
    "deepnote_cell_type": "code"
   },
   "source": "# Importamos K-Means\nfrom sklearn.cluster import KMeans",
   "execution_count": 13,
   "outputs": []
  },
  {
   "cell_type": "markdown",
   "source": "Queremos confirmar el número **óptimo** de **clusters** de nuestro estudio, para agruparlos de la mejor manera",
   "metadata": {
    "tags": [],
    "cell_id": "00013-97574089-fbb9-4dfc-ac32-3d82826d7f0c",
    "deepnote_cell_type": "markdown"
   }
  },
  {
   "cell_type": "markdown",
   "source": "## 4.1 Selección del modelo 👉🏻🤖 ",
   "metadata": {
    "tags": [],
    "is_collapsed": false,
    "cell_id": "00023-ca1e64b5-df03-44e1-85ee-407112ddf25f",
    "deepnote_cell_type": "text-cell-h2"
   }
  },
  {
   "cell_type": "markdown",
   "source": "### Codo de Jambú",
   "metadata": {
    "tags": [],
    "is_collapsed": false,
    "cell_id": "00028-9e58fe81-7c52-4d72-ae69-cd19c3bd7c4d",
    "deepnote_cell_type": "text-cell-h3"
   }
  },
  {
   "cell_type": "code",
   "metadata": {
    "tags": [],
    "cell_id": "00013-e725c265-089c-448d-a19b-408e1a325165",
    "deepnote_to_be_reexecuted": false,
    "source_hash": "2c7e5244",
    "execution_start": 1637130628785,
    "execution_millis": 5022,
    "deepnote_cell_type": "code"
   },
   "source": "\"\"\"\n1. Codo de Jambú\n2. Buscamos el 'k' óptimo\n3. Vemos el valor de la Inertia\n4. Graficamos\n\"\"\"\n\nwcss = []\n\nfor i in list(range(1,11)):\n\n    k_means = KMeans(n_clusters=i, max_iter=100)\n    k_means.fit(red_norm)\n    wcss.append(k_means.inertia_)\n\n\nsns.set_theme(style='whitegrid')\nplt.plot(list(range(1,11)), wcss, 'rx--')\nplt.title('Codo de Jambú\\n', fontsize=14)\nplt.xlim([0,10])\nplt.xlabel('Número de Clusters')\nplt.ylabel('WCSS')\nplt.tight_layout();\n\n# Inertia\ninertia = round(k_means.inertia_, 2)\ndisplay(f'El valor final de la Inertia es: {inertia}')",
   "execution_count": 14,
   "outputs": [
    {
     "data": {
      "text/plain": "'El valor final de la Inertia es: 157.91'"
     },
     "metadata": {},
     "output_type": "display_data"
    },
    {
     "data": {
      "text/plain": "<Figure size 432x288 with 1 Axes>",
      "image/png": "[encoded data removed]"
     },
     "metadata": {
      "image/png": {
       "width": 420,
       "height": 276
      }
     },
     "output_type": "display_data"
    }
   ]
  },
  {
   "cell_type": "code",
   "source": "# Centroides\nk_means.cluster_centers_",
   "metadata": {
    "tags": [],
    "cell_id": "00027-01fd062e-d7be-47c1-bd5a-8db98158032a",
    "deepnote_to_be_reexecuted": false,
    "source_hash": "3d7f0b8c",
    "execution_start": 1637130633816,
    "execution_millis": 2,
    "deepnote_cell_type": "code"
   },
   "outputs": [
    {
     "output_type": "execute_result",
     "execution_count": 15,
     "data": {
      "text/plain": "array([[0.34871573, 0.15507852, 0.418     , 0.1035416 , 0.10382345,\n        0.17293026, 0.08709816, 0.3876258 , 0.42243134, 0.23505185,\n        0.51159475, 0.71219512],\n       [0.34229933, 0.30787371, 0.31315789, 0.11776015, 0.12791787,\n        0.30973561, 0.3065526 , 0.55165907, 0.41569968, 0.17538607,\n        0.19741341, 0.43245614],\n       [0.30249397, 0.29773765, 0.30484848, 0.56724782, 0.16669196,\n        0.51600512, 0.37348753, 0.66239487, 0.40730136, 0.19542733,\n        0.202331  , 0.47878788],\n       [0.23284597, 0.25047151, 0.18101449, 0.08427635, 0.1060947 ,\n        0.44595836, 0.20789164, 0.43151057, 0.51106927, 0.19274494,\n        0.30052025, 0.52028986],\n       [0.24719764, 0.38232877, 0.09686667, 0.09359589, 0.11993322,\n        0.14230047, 0.10011779, 0.47854381, 0.50068241, 0.14341317,\n        0.2275641 , 0.36733333],\n       [0.63526793, 0.19970166, 0.5606135 , 0.14478107, 0.12580272,\n        0.14602955, 0.09497279, 0.66705404, 0.31128931, 0.24752948,\n        0.36347334, 0.63190184],\n       [0.25984288, 0.33040956, 0.10857143, 0.09550601, 0.12441654,\n        0.15324087, 0.09140405, 0.48117265, 0.49670577, 0.18034339,\n        0.25956306, 0.62244898],\n       [0.4363969 , 0.21531338, 0.40681564, 0.093805  , 0.1308046 ,\n        0.11133842, 0.07795566, 0.56871262, 0.39101746, 0.19282106,\n        0.24002292, 0.47150838],\n       [0.14447417, 0.32351067, 0.09829457, 0.09174896, 0.08663017,\n        0.21552571, 0.1271263 , 0.26690685, 0.61228102, 0.17745904,\n        0.57294772, 0.60620155],\n       [0.33249052, 0.28522505, 0.49785714, 0.07265166, 0.55008347,\n        0.21780684, 0.21794548, 0.51305853, 0.23003375, 0.60179641,\n        0.15549451, 0.46428571]])"
     },
     "metadata": {}
    }
   ],
   "execution_count": 15
  },
  {
   "cell_type": "markdown",
   "source": "### Dendrograma",
   "metadata": {
    "tags": [],
    "is_collapsed": false,
    "cell_id": "00031-c1c51169-4615-44c3-b3be-52c6b47c7f53",
    "deepnote_cell_type": "text-cell-h3"
   }
  },
  {
   "cell_type": "code",
   "metadata": {
    "tags": [],
    "deepnote_to_be_reexecuted": false,
    "source_hash": "d4bd3b4a",
    "execution_start": 1637130633825,
    "execution_millis": 80,
    "cell_id": "00022-4c44aabf-dd74-4670-b3cb-75c69af54233",
    "deepnote_cell_type": "code"
   },
   "source": "\"\"\"\n1. Importamos linkage y dendrograma\n2. A la función linkage, le pasamos como parámetros a los datos de manera normalizada y el método ward\n\"\"\"\n\nfrom scipy.cluster.hierarchy import linkage, dendrogram\n\nZ = linkage(red_norm, 'ward')\nZ",
   "execution_count": 16,
   "outputs": [
    {
     "output_type": "execute_result",
     "execution_count": 16,
     "data": {
      "text/plain": "array([[0.00000000e+00, 4.00000000e+00, 0.00000000e+00, 2.00000000e+00],\n       [1.35000000e+02, 1.40000000e+02, 0.00000000e+00, 2.00000000e+00],\n       [7.50000000e+02, 7.51000000e+02, 0.00000000e+00, 2.00000000e+00],\n       ...,\n       [3.17900000e+03, 3.19100000e+03, 6.43793061e+00, 5.37000000e+02],\n       [3.19200000e+03, 3.19300000e+03, 8.26055739e+00, 1.06200000e+03],\n       [3.19400000e+03, 3.19500000e+03, 1.20043330e+01, 1.59900000e+03]])"
     },
     "metadata": {}
    }
   ]
  },
  {
   "cell_type": "code",
   "metadata": {
    "tags": [],
    "deepnote_to_be_reexecuted": false,
    "source_hash": "ca231",
    "execution_start": 1637130633939,
    "execution_millis": 10495,
    "cell_id": "00024-8dda2735-2271-4a4c-bacf-81949d736a1b",
    "deepnote_cell_type": "code"
   },
   "source": "# Dendrograma\nplt.figure(figsize=(25,10))\nplt.title(\"Dendrograma de los vinos\")\nplt.xlabel(\"Vino Rojo\")\nplt.ylabel(\"Distancias\")\ndendrogram(Z, leaf_rotation=90., leaf_font_size=12.0, truncate_mode=\"lastp\", p=12,\n             show_leaf_counts=True, show_contracted=True)\nplt.tight_layout();",
   "execution_count": 17,
   "outputs": [
    {
     "data": {
      "text/plain": "<Figure size 1800x720 with 1 Axes>",
      "image/png": "[encoded data removed]"
     },
     "metadata": {
      "image/png": {
       "width": 1788,
       "height": 708
      }
     },
     "output_type": "display_data"
    }
   ]
  },
  {
   "cell_type": "markdown",
   "source": "## 4.2 Entrenamiento del modelo 🦾🤖",
   "metadata": {
    "tags": [],
    "is_collapsed": false,
    "cell_id": "00025-291a4ed6-4416-42b0-8526-ed5533f3b7d9",
    "deepnote_cell_type": "text-cell-h2"
   }
  },
  {
   "cell_type": "code",
   "metadata": {
    "tags": [],
    "deepnote_to_be_reexecuted": false,
    "source_hash": "cd4e6b12",
    "execution_start": 1637130644478,
    "execution_millis": 666,
    "cell_id": "00027-4b2fea80-fb4b-40d2-b3b2-81daf51a264c",
    "deepnote_cell_type": "code"
   },
   "source": "\"\"\"\n1. Instanciamos y definimos el número de clusters\n2. Entrenamos el modelo con los datos normalizados\n\"\"\"\n\nk_means = KMeans(n_clusters=6)\nk_means = k_means.fit(red_norm)",
   "execution_count": 18,
   "outputs": []
  },
  {
   "cell_type": "markdown",
   "source": "## 4.3 Predicción del modelo 📈📉",
   "metadata": {
    "tags": [],
    "is_collapsed": false,
    "cell_id": "00032-e1211eaf-4bd3-42eb-b3b7-2a43e3e78519",
    "deepnote_cell_type": "text-cell-h2"
   }
  },
  {
   "cell_type": "code",
   "source": "# Predicción\ny_pred = k_means.predict(red_norm)\ny_pred",
   "metadata": {
    "tags": [],
    "cell_id": "00032-80bf03e1-a634-4007-a21a-385c819f758c",
    "deepnote_to_be_reexecuted": false,
    "source_hash": "8b46c4e4",
    "execution_start": 1637130645174,
    "execution_millis": 21,
    "deepnote_cell_type": "code"
   },
   "outputs": [
    {
     "output_type": "execute_result",
     "execution_count": 19,
     "data": {
      "text/plain": "array([4, 4, 4, ..., 3, 3, 1], dtype=int32)"
     },
     "metadata": {}
    }
   ],
   "execution_count": 19
  },
  {
   "cell_type": "markdown",
   "source": "## 4.4 Etiquetamos los resultados obtenidos",
   "metadata": {
    "tags": [],
    "is_collapsed": false,
    "cell_id": "00034-ac6accf1-3135-402a-b145-6608a183efc2",
    "deepnote_cell_type": "text-cell-h2"
   }
  },
  {
   "cell_type": "code",
   "metadata": {
    "tags": [],
    "deepnote_to_be_reexecuted": false,
    "source_hash": "fc08833c",
    "execution_start": 1637130645211,
    "execution_millis": 5,
    "cell_id": "00029-2ab3a91b-bd03-40d2-80ed-0d9bfa8e0e89",
    "deepnote_cell_type": "code"
   },
   "source": "# Definimos nuestras etiquetas en un objeto para posteriormente almacenarlo en los datos normalizados\netiquetas_kmeans = k_means.labels_\netiquetas_kmeans",
   "execution_count": 20,
   "outputs": [
    {
     "output_type": "execute_result",
     "execution_count": 20,
     "data": {
      "text/plain": "array([4, 4, 4, ..., 3, 3, 1], dtype=int32)"
     },
     "metadata": {}
    }
   ]
  },
  {
   "cell_type": "code",
   "metadata": {
    "tags": [],
    "deepnote_to_be_reexecuted": false,
    "source_hash": "5127afb",
    "execution_start": 1637130645221,
    "execution_millis": 3,
    "cell_id": "00030-b4d9c634-086d-47cc-ba38-cfdc8b953797",
    "deepnote_cell_type": "code"
   },
   "source": "# Los incluimos como columnas en el dataframe\nred_norm['Labels K-Means'] = etiquetas_kmeans",
   "execution_count": 21,
   "outputs": []
  },
  {
   "cell_type": "code",
   "metadata": {
    "tags": [],
    "deepnote_to_be_reexecuted": false,
    "source_hash": "c277b2d9",
    "execution_start": 1637130645228,
    "execution_millis": 58,
    "cell_id": "00031-9718f3d6-f62d-4f15-bd3e-2b664df9cf88",
    "deepnote_cell_type": "code"
   },
   "source": "red_norm.head()",
   "execution_count": 22,
   "outputs": [
    {
     "output_type": "execute_result",
     "execution_count": 22,
     "data": {
      "application/vnd.deepnote.dataframe.v2+json": {
       "row_count": 5,
       "column_count": 13,
       "columns": [
        {
         "name": "fixed acidity",
         "dtype": "float64",
         "stats": {
          "unique_count": 3,
          "nan_count": 0,
          "min": "0.24778761061946908",
          "max": "0.5840707964601769",
          "histogram": [
           {
            "bin_start": 0.24778761061946908,
            "bin_end": 0.28141592920353986,
            "count": 2
           },
           {
            "bin_start": 0.28141592920353986,
            "bin_end": 0.31504424778761064,
            "count": 2
           },
           {
            "bin_start": 0.31504424778761064,
            "bin_end": 0.3486725663716814,
            "count": 0
           },
           {
            "bin_start": 0.3486725663716814,
            "bin_end": 0.3823008849557522,
            "count": 0
           },
           {
            "bin_start": 0.3823008849557522,
            "bin_end": 0.415929203539823,
            "count": 0
           },
           {
            "bin_start": 0.415929203539823,
            "bin_end": 0.44955752212389377,
            "count": 0
           },
           {
            "bin_start": 0.44955752212389377,
            "bin_end": 0.48318584070796455,
            "count": 0
           },
           {
            "bin_start": 0.48318584070796455,
            "bin_end": 0.5168141592920353,
            "count": 0
           },
           {
            "bin_start": 0.5168141592920353,
            "bin_end": 0.5504424778761061,
            "count": 0
           },
           {
            "bin_start": 0.5504424778761061,
            "bin_end": 0.5840707964601769,
            "count": 1
           }
          ]
         }
        },
        {
         "name": "volatile acidity",
         "dtype": "float64",
         "stats": {
          "unique_count": 4,
          "nan_count": 0,
          "min": "0.10958904109589043",
          "max": "0.5205479452054794",
          "histogram": [
           {
            "bin_start": 0.10958904109589043,
            "bin_end": 0.15068493150684933,
            "count": 1
           },
           {
            "bin_start": 0.15068493150684933,
            "bin_end": 0.19178082191780824,
            "count": 0
           },
           {
            "bin_start": 0.19178082191780824,
            "bin_end": 0.23287671232876714,
            "count": 0
           },
           {
            "bin_start": 0.23287671232876714,
            "bin_end": 0.273972602739726,
            "count": 0
           },
           {
            "bin_start": 0.273972602739726,
            "bin_end": 0.31506849315068497,
            "count": 0
           },
           {
            "bin_start": 0.31506849315068497,
            "bin_end": 0.3561643835616438,
            "count": 0
           },
           {
            "bin_start": 0.3561643835616438,
            "bin_end": 0.3972602739726028,
            "count": 2
           },
           {
            "bin_start": 0.3972602739726028,
            "bin_end": 0.4383561643835616,
            "count": 0
           },
           {
            "bin_start": 0.4383561643835616,
            "bin_end": 0.4794520547945206,
            "count": 1
           },
           {
            "bin_start": 0.4794520547945206,
            "bin_end": 0.5205479452054794,
            "count": 1
           }
          ]
         }
        },
        {
         "name": "citric acid",
         "dtype": "float64",
         "stats": {
          "unique_count": 3,
          "nan_count": 0,
          "min": "0.0",
          "max": "0.56",
          "histogram": [
           {
            "bin_start": 0,
            "bin_end": 0.05600000000000001,
            "count": 4
           },
           {
            "bin_start": 0.05600000000000001,
            "bin_end": 0.11200000000000002,
            "count": 0
           },
           {
            "bin_start": 0.11200000000000002,
            "bin_end": 0.16800000000000004,
            "count": 0
           },
           {
            "bin_start": 0.16800000000000004,
            "bin_end": 0.22400000000000003,
            "count": 0
           },
           {
            "bin_start": 0.22400000000000003,
            "bin_end": 0.28,
            "count": 0
           },
           {
            "bin_start": 0.28,
            "bin_end": 0.3360000000000001,
            "count": 0
           },
           {
            "bin_start": 0.3360000000000001,
            "bin_end": 0.39200000000000007,
            "count": 0
           },
           {
            "bin_start": 0.39200000000000007,
            "bin_end": 0.44800000000000006,
            "count": 0
           },
           {
            "bin_start": 0.44800000000000006,
            "bin_end": 0.5040000000000001,
            "count": 0
           },
           {
            "bin_start": 0.5040000000000001,
            "bin_end": 0.56,
            "count": 1
           }
          ]
         }
        },
        {
         "name": "residual sugar",
         "dtype": "float64",
         "stats": {
          "unique_count": 3,
          "nan_count": 0,
          "min": "0.0684931506849315",
          "max": "0.11643835616438358",
          "histogram": [
           {
            "bin_start": 0.0684931506849315,
            "bin_end": 0.07328767123287672,
            "count": 3
           },
           {
            "bin_start": 0.07328767123287672,
            "bin_end": 0.07808219178082192,
            "count": 0
           },
           {
            "bin_start": 0.07808219178082192,
            "bin_end": 0.08287671232876713,
            "count": 0
           },
           {
            "bin_start": 0.08287671232876713,
            "bin_end": 0.08767123287671233,
            "count": 0
           },
           {
            "bin_start": 0.08767123287671233,
            "bin_end": 0.09246575342465754,
            "count": 0
           },
           {
            "bin_start": 0.09246575342465754,
            "bin_end": 0.09726027397260276,
            "count": 1
           },
           {
            "bin_start": 0.09726027397260276,
            "bin_end": 0.10205479452054797,
            "count": 0
           },
           {
            "bin_start": 0.10205479452054797,
            "bin_end": 0.10684931506849317,
            "count": 0
           },
           {
            "bin_start": 0.10684931506849317,
            "bin_end": 0.11164383561643837,
            "count": 0
           },
           {
            "bin_start": 0.11164383561643837,
            "bin_end": 0.11643835616438358,
            "count": 1
           }
          ]
         }
        },
        {
         "name": "chlorides",
         "dtype": "float64",
         "stats": {
          "unique_count": 4,
          "nan_count": 0,
          "min": "0.10517529215358933",
          "max": "0.14357262103505844",
          "histogram": [
           {
            "bin_start": 0.10517529215358933,
            "bin_end": 0.10901502504173624,
            "count": 3
           },
           {
            "bin_start": 0.10901502504173624,
            "bin_end": 0.11285475792988314,
            "count": 0
           },
           {
            "bin_start": 0.11285475792988314,
            "bin_end": 0.11669449081803006,
            "count": 0
           },
           {
            "bin_start": 0.11669449081803006,
            "bin_end": 0.12053422370617697,
            "count": 0
           },
           {
            "bin_start": 0.12053422370617697,
            "bin_end": 0.12437395659432388,
            "count": 0
           },
           {
            "bin_start": 0.12437395659432388,
            "bin_end": 0.1282136894824708,
            "count": 0
           },
           {
            "bin_start": 0.1282136894824708,
            "bin_end": 0.1320534223706177,
            "count": 0
           },
           {
            "bin_start": 0.1320534223706177,
            "bin_end": 0.1358931552587646,
            "count": 1
           },
           {
            "bin_start": 0.1358931552587646,
            "bin_end": 0.13973288814691154,
            "count": 0
           },
           {
            "bin_start": 0.13973288814691154,
            "bin_end": 0.14357262103505844,
            "count": 1
           }
          ]
         }
        },
        {
         "name": "free sulfur dioxide",
         "dtype": "float64",
         "stats": {
          "unique_count": 4,
          "nan_count": 0,
          "min": "0.14084507042253522",
          "max": "0.3380281690140845",
          "histogram": [
           {
            "bin_start": 0.14084507042253522,
            "bin_end": 0.16056338028169015,
            "count": 2
           },
           {
            "bin_start": 0.16056338028169015,
            "bin_end": 0.18028169014084508,
            "count": 0
           },
           {
            "bin_start": 0.18028169014084508,
            "bin_end": 0.2,
            "count": 1
           },
           {
            "bin_start": 0.2,
            "bin_end": 0.21971830985915491,
            "count": 0
           },
           {
            "bin_start": 0.21971830985915491,
            "bin_end": 0.23943661971830987,
            "count": 1
           },
           {
            "bin_start": 0.23943661971830987,
            "bin_end": 0.2591549295774648,
            "count": 0
           },
           {
            "bin_start": 0.2591549295774648,
            "bin_end": 0.2788732394366197,
            "count": 0
           },
           {
            "bin_start": 0.2788732394366197,
            "bin_end": 0.29859154929577464,
            "count": 0
           },
           {
            "bin_start": 0.29859154929577464,
            "bin_end": 0.3183098591549296,
            "count": 0
           },
           {
            "bin_start": 0.3183098591549296,
            "bin_end": 0.3380281690140845,
            "count": 1
           }
          ]
         }
        },
        {
         "name": "total sulfur dioxide",
         "dtype": "float64",
         "stats": {
          "unique_count": 4,
          "nan_count": 0,
          "min": "0.0989399293286219",
          "max": "0.21554770318021202",
          "histogram": [
           {
            "bin_start": 0.0989399293286219,
            "bin_end": 0.11060070671378092,
            "count": 2
           },
           {
            "bin_start": 0.11060070671378092,
            "bin_end": 0.12226148409893993,
            "count": 0
           },
           {
            "bin_start": 0.12226148409893993,
            "bin_end": 0.13392226148409894,
            "count": 0
           },
           {
            "bin_start": 0.13392226148409894,
            "bin_end": 0.14558303886925794,
            "count": 0
           },
           {
            "bin_start": 0.14558303886925794,
            "bin_end": 0.15724381625441697,
            "count": 0
           },
           {
            "bin_start": 0.15724381625441697,
            "bin_end": 0.16890459363957597,
            "count": 0
           },
           {
            "bin_start": 0.16890459363957597,
            "bin_end": 0.18056537102473497,
            "count": 1
           },
           {
            "bin_start": 0.18056537102473497,
            "bin_end": 0.192226148409894,
            "count": 1
           },
           {
            "bin_start": 0.192226148409894,
            "bin_end": 0.20388692579505302,
            "count": 0
           },
           {
            "bin_start": 0.20388692579505302,
            "bin_end": 0.21554770318021202,
            "count": 1
           }
          ]
         }
        },
        {
         "name": "density",
         "dtype": "float64",
         "stats": {
          "unique_count": 4,
          "nan_count": 0,
          "min": "0.49412628487518584",
          "max": "0.5822320117474312",
          "histogram": [
           {
            "bin_start": 0.49412628487518584,
            "bin_end": 0.5029368575624104,
            "count": 1
           },
           {
            "bin_start": 0.5029368575624104,
            "bin_end": 0.5117474302496349,
            "count": 1
           },
           {
            "bin_start": 0.5117474302496349,
            "bin_end": 0.5205580029368595,
            "count": 0
           },
           {
            "bin_start": 0.5205580029368595,
            "bin_end": 0.529368575624084,
            "count": 0
           },
           {
            "bin_start": 0.529368575624084,
            "bin_end": 0.5381791483113085,
            "count": 0
           },
           {
            "bin_start": 0.5381791483113085,
            "bin_end": 0.546989720998533,
            "count": 0
           },
           {
            "bin_start": 0.546989720998533,
            "bin_end": 0.5558002936857576,
            "count": 0
           },
           {
            "bin_start": 0.5558002936857576,
            "bin_end": 0.5646108663729822,
            "count": 0
           },
           {
            "bin_start": 0.5646108663729822,
            "bin_end": 0.5734214390602067,
            "count": 2
           },
           {
            "bin_start": 0.5734214390602067,
            "bin_end": 0.5822320117474312,
            "count": 1
           }
          ]
         }
        },
        {
         "name": "pH",
         "dtype": "float64",
         "stats": {
          "unique_count": 4,
          "nan_count": 0,
          "min": "0.3307086614173229",
          "max": "0.6062992125984251",
          "histogram": [
           {
            "bin_start": 0.3307086614173229,
            "bin_end": 0.35826771653543316,
            "count": 1
           },
           {
            "bin_start": 0.35826771653543316,
            "bin_end": 0.38582677165354334,
            "count": 1
           },
           {
            "bin_start": 0.38582677165354334,
            "bin_end": 0.4133858267716536,
            "count": 1
           },
           {
            "bin_start": 0.4133858267716536,
            "bin_end": 0.4409448818897638,
            "count": 0
           },
           {
            "bin_start": 0.4409448818897638,
            "bin_end": 0.468503937007874,
            "count": 0
           },
           {
            "bin_start": 0.468503937007874,
            "bin_end": 0.49606299212598426,
            "count": 0
           },
           {
            "bin_start": 0.49606299212598426,
            "bin_end": 0.5236220472440944,
            "count": 0
           },
           {
            "bin_start": 0.5236220472440944,
            "bin_end": 0.5511811023622046,
            "count": 0
           },
           {
            "bin_start": 0.5511811023622046,
            "bin_end": 0.5787401574803149,
            "count": 0
           },
           {
            "bin_start": 0.5787401574803149,
            "bin_end": 0.6062992125984251,
            "count": 2
           }
          ]
         }
        },
        {
         "name": "sulphates",
         "dtype": "float64",
         "stats": {
          "unique_count": 4,
          "nan_count": 0,
          "min": "0.13772455089820362",
          "max": "0.20958083832335334",
          "histogram": [
           {
            "bin_start": 0.13772455089820362,
            "bin_end": 0.1449101796407186,
            "count": 2
           },
           {
            "bin_start": 0.1449101796407186,
            "bin_end": 0.15209580838323356,
            "count": 1
           },
           {
            "bin_start": 0.15209580838323356,
            "bin_end": 0.15928143712574855,
            "count": 0
           },
           {
            "bin_start": 0.15928143712574855,
            "bin_end": 0.16646706586826351,
            "count": 0
           },
           {
            "bin_start": 0.16646706586826351,
            "bin_end": 0.17365269461077848,
            "count": 0
           },
           {
            "bin_start": 0.17365269461077848,
            "bin_end": 0.18083832335329345,
            "count": 0
           },
           {
            "bin_start": 0.18083832335329345,
            "bin_end": 0.1880239520958084,
            "count": 0
           },
           {
            "bin_start": 0.1880239520958084,
            "bin_end": 0.1952095808383234,
            "count": 1
           },
           {
            "bin_start": 0.1952095808383234,
            "bin_end": 0.20239520958083834,
            "count": 0
           },
           {
            "bin_start": 0.20239520958083834,
            "bin_end": 0.20958083832335334,
            "count": 1
           }
          ]
         }
        },
        {
         "name": "alcohol",
         "dtype": "float64",
         "stats": {
          "unique_count": 2,
          "nan_count": 0,
          "min": "0.15384615384615385",
          "max": "0.21538461538461545",
          "histogram": [
           {
            "bin_start": 0.15384615384615385,
            "bin_end": 0.16,
            "count": 2
           },
           {
            "bin_start": 0.16,
            "bin_end": 0.16615384615384618,
            "count": 0
           },
           {
            "bin_start": 0.16615384615384618,
            "bin_end": 0.17230769230769233,
            "count": 0
           },
           {
            "bin_start": 0.17230769230769233,
            "bin_end": 0.1784615384615385,
            "count": 0
           },
           {
            "bin_start": 0.1784615384615385,
            "bin_end": 0.18461538461538465,
            "count": 0
           },
           {
            "bin_start": 0.18461538461538465,
            "bin_end": 0.1907692307692308,
            "count": 0
           },
           {
            "bin_start": 0.1907692307692308,
            "bin_end": 0.19692307692307698,
            "count": 0
           },
           {
            "bin_start": 0.19692307692307698,
            "bin_end": 0.20307692307692313,
            "count": 0
           },
           {
            "bin_start": 0.20307692307692313,
            "bin_end": 0.2092307692307693,
            "count": 0
           },
           {
            "bin_start": 0.2092307692307693,
            "bin_end": 0.21538461538461545,
            "count": 3
           }
          ]
         }
        },
        {
         "name": "quality",
         "dtype": "float64",
         "stats": {
          "unique_count": 2,
          "nan_count": 0,
          "min": "0.4",
          "max": "0.6",
          "histogram": [
           {
            "bin_start": 0.4,
            "bin_end": 0.42000000000000004,
            "count": 4
           },
           {
            "bin_start": 0.42000000000000004,
            "bin_end": 0.44,
            "count": 0
           },
           {
            "bin_start": 0.44,
            "bin_end": 0.46,
            "count": 0
           },
           {
            "bin_start": 0.46,
            "bin_end": 0.48,
            "count": 0
           },
           {
            "bin_start": 0.48,
            "bin_end": 0.5,
            "count": 0
           },
           {
            "bin_start": 0.5,
            "bin_end": 0.52,
            "count": 0
           },
           {
            "bin_start": 0.52,
            "bin_end": 0.54,
            "count": 0
           },
           {
            "bin_start": 0.54,
            "bin_end": 0.56,
            "count": 0
           },
           {
            "bin_start": 0.56,
            "bin_end": 0.58,
            "count": 0
           },
           {
            "bin_start": 0.58,
            "bin_end": 0.6,
            "count": 1
           }
          ]
         }
        },
        {
         "name": "Labels K-Means",
         "dtype": "int32",
         "stats": {
          "unique_count": 2,
          "nan_count": 0,
          "min": "2",
          "max": "4",
          "histogram": [
           {
            "bin_start": 2,
            "bin_end": 2.2,
            "count": 1
           },
           {
            "bin_start": 2.2,
            "bin_end": 2.4,
            "count": 0
           },
           {
            "bin_start": 2.4,
            "bin_end": 2.6,
            "count": 0
           },
           {
            "bin_start": 2.6,
            "bin_end": 2.8,
            "count": 0
           },
           {
            "bin_start": 2.8,
            "bin_end": 3,
            "count": 0
           },
           {
            "bin_start": 3,
            "bin_end": 3.2,
            "count": 0
           },
           {
            "bin_start": 3.2,
            "bin_end": 3.4000000000000004,
            "count": 0
           },
           {
            "bin_start": 3.4000000000000004,
            "bin_end": 3.6,
            "count": 0
           },
           {
            "bin_start": 3.6,
            "bin_end": 3.8,
            "count": 0
           },
           {
            "bin_start": 3.8,
            "bin_end": 4,
            "count": 4
           }
          ]
         }
        },
        {
         "name": "_deepnote_index_column",
         "dtype": "int64"
        }
       ],
       "rows_top": [
        {
         "fixed acidity": 0.24778761061946908,
         "volatile acidity": 0.3972602739726027,
         "citric acid": 0,
         "residual sugar": 0.0684931506849315,
         "chlorides": 0.10684474123539232,
         "free sulfur dioxide": 0.14084507042253522,
         "total sulfur dioxide": 0.0989399293286219,
         "density": 0.5675477239353917,
         "pH": 0.6062992125984251,
         "sulphates": 0.13772455089820362,
         "alcohol": 0.15384615384615385,
         "quality": 0.4,
         "Labels K-Means": 4,
         "_deepnote_index_column": 0
        },
        {
         "fixed acidity": 0.2831858407079646,
         "volatile acidity": 0.5205479452054794,
         "citric acid": 0,
         "residual sugar": 0.11643835616438358,
         "chlorides": 0.14357262103505844,
         "free sulfur dioxide": 0.3380281690140845,
         "total sulfur dioxide": 0.21554770318021202,
         "density": 0.49412628487518584,
         "pH": 0.3622047244094489,
         "sulphates": 0.20958083832335334,
         "alcohol": 0.21538461538461545,
         "quality": 0.4,
         "Labels K-Means": 4,
         "_deepnote_index_column": 1
        },
        {
         "fixed acidity": 0.2831858407079646,
         "volatile acidity": 0.4383561643835617,
         "citric acid": 0.04,
         "residual sugar": 0.0958904109589041,
         "chlorides": 0.13355592654424042,
         "free sulfur dioxide": 0.19718309859154928,
         "total sulfur dioxide": 0.1696113074204947,
         "density": 0.5088105726872254,
         "pH": 0.4094488188976376,
         "sulphates": 0.19161676646706588,
         "alcohol": 0.21538461538461545,
         "quality": 0.4,
         "Labels K-Means": 4,
         "_deepnote_index_column": 2
        },
        {
         "fixed acidity": 0.5840707964601769,
         "volatile acidity": 0.10958904109589043,
         "citric acid": 0.56,
         "residual sugar": 0.0684931506849315,
         "chlorides": 0.10517529215358933,
         "free sulfur dioxide": 0.22535211267605634,
         "total sulfur dioxide": 0.19081272084805653,
         "density": 0.5822320117474312,
         "pH": 0.3307086614173229,
         "sulphates": 0.1497005988023952,
         "alcohol": 0.21538461538461545,
         "quality": 0.6,
         "Labels K-Means": 2,
         "_deepnote_index_column": 3
        },
        {
         "fixed acidity": 0.24778761061946908,
         "volatile acidity": 0.3972602739726027,
         "citric acid": 0,
         "residual sugar": 0.0684931506849315,
         "chlorides": 0.10684474123539232,
         "free sulfur dioxide": 0.14084507042253522,
         "total sulfur dioxide": 0.0989399293286219,
         "density": 0.5675477239353917,
         "pH": 0.6062992125984251,
         "sulphates": 0.13772455089820362,
         "alcohol": 0.15384615384615385,
         "quality": 0.4,
         "Labels K-Means": 4,
         "_deepnote_index_column": 4
        }
       ],
       "rows_bottom": null
      },
      "text/plain": "   fixed acidity  volatile acidity  citric acid  residual sugar  chlorides  \\\n0           0.25              0.40         0.00            0.07       0.11   \n1           0.28              0.52         0.00            0.12       0.14   \n2           0.28              0.44         0.04            0.10       0.13   \n3           0.58              0.11         0.56            0.07       0.11   \n4           0.25              0.40         0.00            0.07       0.11   \n\n   free sulfur dioxide  total sulfur dioxide  density   pH  sulphates  \\\n0                 0.14                  0.10     0.57 0.61       0.14   \n1                 0.34                  0.22     0.49 0.36       0.21   \n2                 0.20                  0.17     0.51 0.41       0.19   \n3                 0.23                  0.19     0.58 0.33       0.15   \n4                 0.14                  0.10     0.57 0.61       0.14   \n\n   alcohol  quality  Labels K-Means  \n0     0.15     0.40               4  \n1     0.22     0.40               4  \n2     0.22     0.40               4  \n3     0.22     0.60               2  \n4     0.15     0.40               4  ",
      "text/html": "<div>\n<style scoped>\n    .dataframe tbody tr th:only-of-type {\n        vertical-align: middle;\n    }\n\n    .dataframe tbody tr th {\n        vertical-align: top;\n    }\n\n    .dataframe thead th {\n        text-align: right;\n    }\n</style>\n<table border=\"1\" class=\"dataframe\">\n  <thead>\n    <tr style=\"text-align: right;\">\n      <th></th>\n      <th>fixed acidity</th>\n      <th>volatile acidity</th>\n      <th>citric acid</th>\n      <th>residual sugar</th>\n      <th>chlorides</th>\n      <th>free sulfur dioxide</th>\n      <th>total sulfur dioxide</th>\n      <th>density</th>\n      <th>pH</th>\n      <th>sulphates</th>\n      <th>alcohol</th>\n      <th>quality</th>\n      <th>Labels K-Means</th>\n    </tr>\n  </thead>\n  <tbody>\n    <tr>\n      <th>0</th>\n      <td>0.25</td>\n      <td>0.40</td>\n      <td>0.00</td>\n      <td>0.07</td>\n      <td>0.11</td>\n      <td>0.14</td>\n      <td>0.10</td>\n      <td>0.57</td>\n      <td>0.61</td>\n      <td>0.14</td>\n      <td>0.15</td>\n      <td>0.40</td>\n      <td>4</td>\n    </tr>\n    <tr>\n      <th>1</th>\n      <td>0.28</td>\n      <td>0.52</td>\n      <td>0.00</td>\n      <td>0.12</td>\n      <td>0.14</td>\n      <td>0.34</td>\n      <td>0.22</td>\n      <td>0.49</td>\n      <td>0.36</td>\n      <td>0.21</td>\n      <td>0.22</td>\n      <td>0.40</td>\n      <td>4</td>\n    </tr>\n    <tr>\n      <th>2</th>\n      <td>0.28</td>\n      <td>0.44</td>\n      <td>0.04</td>\n      <td>0.10</td>\n      <td>0.13</td>\n      <td>0.20</td>\n      <td>0.17</td>\n      <td>0.51</td>\n      <td>0.41</td>\n      <td>0.19</td>\n      <td>0.22</td>\n      <td>0.40</td>\n      <td>4</td>\n    </tr>\n    <tr>\n      <th>3</th>\n      <td>0.58</td>\n      <td>0.11</td>\n      <td>0.56</td>\n      <td>0.07</td>\n      <td>0.11</td>\n      <td>0.23</td>\n      <td>0.19</td>\n      <td>0.58</td>\n      <td>0.33</td>\n      <td>0.15</td>\n      <td>0.22</td>\n      <td>0.60</td>\n      <td>2</td>\n    </tr>\n    <tr>\n      <th>4</th>\n      <td>0.25</td>\n      <td>0.40</td>\n      <td>0.00</td>\n      <td>0.07</td>\n      <td>0.11</td>\n      <td>0.14</td>\n      <td>0.10</td>\n      <td>0.57</td>\n      <td>0.61</td>\n      <td>0.14</td>\n      <td>0.15</td>\n      <td>0.40</td>\n      <td>4</td>\n    </tr>\n  </tbody>\n</table>\n</div>"
     },
     "metadata": {}
    }
   ]
  },
  {
   "cell_type": "code",
   "metadata": {
    "tags": [],
    "deepnote_to_be_reexecuted": false,
    "source_hash": "6afe1ea0",
    "execution_start": 1637130645289,
    "execution_millis": 6,
    "cell_id": "00036-9e7c19e7-9f6f-4ce9-8871-e4b4982ca057",
    "deepnote_cell_type": "code"
   },
   "source": "# Etiquetas basada en cada uno de los clusters\ndisplay(red_norm['Labels K-Means'].value_counts().sort_values(ascending=False))",
   "execution_count": 23,
   "outputs": [
    {
     "data": {
      "text/plain": "4    516\n0    308\n1    258\n2    256\n3    230\n5     31\nName: Labels K-Means, dtype: int64"
     },
     "metadata": {},
     "output_type": "display_data"
    }
   ]
  },
  {
   "cell_type": "markdown",
   "source": "# 5. Evaluación del modelo 💻🤖",
   "metadata": {
    "tags": [],
    "is_collapsed": false,
    "cell_id": "00040-08639296-2464-458a-a67e-8b6ee125d833",
    "deepnote_cell_type": "text-cell-h1"
   }
  },
  {
   "cell_type": "markdown",
   "source": "## 5.1 Evaluamos las métricas del modelo",
   "metadata": {
    "tags": [],
    "is_collapsed": false,
    "cell_id": "00041-25a6dbfb-2ded-4eae-84a0-9ba90cdf98fb",
    "deepnote_cell_type": "text-cell-h2"
   }
  },
  {
   "cell_type": "code",
   "source": "\"\"\"\"\n1. Importamos las métricas\n2. Evaluamos nuestro modelo\n\"\"\"\n# Importamos las métricas\nfrom sklearn import metrics\n\n# Métricas\ndisplay(f'Score de Homogeneidad: {metrics.homogeneity_score(etiquetas_kmeans, y_pred)}')\ndisplay(f'Completeness Score: {metrics.completeness_score(etiquetas_kmeans, y_pred)}')\ndisplay(f'V-Measure Score: {metrics.v_measure_score(etiquetas_kmeans, y_pred)}')\ndisplay(f'Adjusted Rand Score: {metrics.adjusted_rand_score(etiquetas_kmeans, y_pred)}')\ndisplay(f'Adjusted Mutual Info Score: {metrics.adjusted_mutual_info_score(etiquetas_kmeans, y_pred)}')\nsilueta = round(metrics.silhouette_score(red_norm, etiquetas_kmeans, metric=\"sqeuclidean\"),2)\ndisplay(f'Silhouette Score: {silueta}')",
   "metadata": {
    "tags": [],
    "cell_id": "00042-8f53c99b-c679-4e42-ab17-0e98c74bb29b",
    "deepnote_to_be_reexecuted": false,
    "source_hash": "50f2e8f5",
    "execution_start": 1637130645298,
    "execution_millis": 98,
    "deepnote_cell_type": "code"
   },
   "outputs": [
    {
     "data": {
      "text/plain": "'Score de Homogeneidad: 1.0'"
     },
     "metadata": {},
     "output_type": "display_data"
    },
    {
     "data": {
      "text/plain": "'Completeness Score: 1.0'"
     },
     "metadata": {},
     "output_type": "display_data"
    },
    {
     "data": {
      "text/plain": "'V-Measure Score: 1.0'"
     },
     "metadata": {},
     "output_type": "display_data"
    },
    {
     "data": {
      "text/plain": "'Adjusted Rand Score: 1.0'"
     },
     "metadata": {},
     "output_type": "display_data"
    },
    {
     "data": {
      "text/plain": "'Adjusted Mutual Info Score: 1.0'"
     },
     "metadata": {},
     "output_type": "display_data"
    },
    {
     "data": {
      "text/plain": "'Silhouette Score: 0.84'"
     },
     "metadata": {},
     "output_type": "display_data"
    }
   ],
   "execution_count": 24
  },
  {
   "cell_type": "code",
   "source": "# Predicciones basada en cada uno de los clusters\ny_pred = pd.DataFrame(y_pred)\ndisplay(y_pred.value_counts().sort_values(ascending=False))",
   "metadata": {
    "tags": [],
    "cell_id": "00042-caa5095d-d68d-443d-86c3-a7a2288f221d",
    "deepnote_to_be_reexecuted": false,
    "source_hash": "3b4850ad",
    "execution_start": 1637130645412,
    "execution_millis": 14,
    "deepnote_cell_type": "code"
   },
   "outputs": [
    {
     "data": {
      "text/plain": "4    516\n0    308\n1    258\n2    256\n3    230\n5     31\ndtype: int64"
     },
     "metadata": {},
     "output_type": "display_data"
    }
   ],
   "execution_count": 25
  },
  {
   "cell_type": "code",
   "metadata": {
    "tags": [],
    "cell_id": "00027-1984e48a-0b9e-41e0-95a5-95bdf10aa1c7",
    "deepnote_to_be_reexecuted": false,
    "source_hash": "33eb3dc6",
    "execution_start": 1637130668096,
    "execution_millis": 52,
    "deepnote_cell_type": "code"
   },
   "source": "# Exportamos nuestros datos a Excel\nred_norm.to_csv(r'/work/Proyectos de Machine Learning/red_wines.csv', index=False)",
   "execution_count": 27,
   "outputs": []
  },
  {
   "cell_type": "markdown",
   "source": "# 6. Conclusiones 📋🖊",
   "metadata": {
    "tags": [],
    "is_collapsed": false,
    "cell_id": "00048-94c0ebc5-d5f1-4abb-bf73-a2afb4a55505",
    "deepnote_cell_type": "text-cell-h1"
   }
  },
  {
   "cell_type": "markdown",
   "source": "- Llevamos a cabo un estudio con la **técnica de EDA (Exploratory Data Analysis)**.\n- Pudimos encontrar patrones en las **visualizaciones**.\n- Encontramos el k **óptimo** para nuestro modelo, utilizando distintos métodos como el **codo de Jambú** y el **dendrograma**.\n- **Etiquetamos** a cada uno de los vinos rojos al **cluster** al cual corresponden.\n- Validamos el modelo a través de distintas **métricas**.",
   "metadata": {
    "tags": [],
    "cell_id": "00049-15fcb0ef-a746-4d7b-bc38-a24fd7a38b20",
    "deepnote_cell_type": "markdown"
   }
  },
  {
   "cell_type": "markdown",
   "source": "# 7. Trabajo finalizado 📄✔",
   "metadata": {
    "tags": [],
    "is_collapsed": false,
    "cell_id": "00049-bbb15486-b85b-459c-ae73-c3bde808776d",
    "deepnote_cell_type": "text-cell-h1"
   }
  },
  {
   "cell_type": "markdown",
   "source": "![link text](https://media.giphy.com/media/fDzM81OYrNjJC/source.gif?cid=ecf05e471mkgebs0ci5cquqshmfeg7fbpcbmws5rspjgh31e&rid=source.gif&ct=g)",
   "metadata": {
    "tags": [],
    "cell_id": "00050-f11e95a9-58f7-44af-9025-2879a608c370",
    "deepnote_cell_type": "markdown"
   }
  },
  {
   "cell_type": "markdown",
   "source": "<a style='text-decoration:none;line-height:16px;display:flex;color:#5B5B62;padding:10px;justify-content:end;' href='https://deepnote.com?utm_source=created-in-deepnote-cell&projectId=4ec84517-f553-446b-9032-1da3132bd62a' target=\"_blank\">\n<img alt='Created in deepnote.com' style='display:inline;max-height:16px;margin:0px;margin-right:7.5px;' src='data:image/svg+xml;base64,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' > </img>\nCreated in <span style='font-weight:600;margin-left:4px;'>Deepnote</span></a>",
   "metadata": {
    "tags": [],
    "created_in_deepnote_cell": true,
    "deepnote_cell_type": "markdown"
   }
  }
 ],
 "nbformat": 4,
 "nbformat_minor": 2,
 "metadata": {
  "orig_nbformat": 2,
  "deepnote": {
   "is_reactive": false
  },
  "deepnote_notebook_id": "25f3c047-01b9-4391-adec-220b425efb5d",
  "deepnote_execution_queue": []
 }
}