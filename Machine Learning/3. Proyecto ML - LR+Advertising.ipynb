{
 "cells": [
  {
   "cell_type": "markdown",
   "source": "# Defininición del problema",
   "metadata": {
    "tags": [],
    "is_collapsed": false,
    "cell_id": "00000-b11af99d-f2e3-4262-9f2b-1c5f91f90ca1",
    "deepnote_cell_type": "text-cell-h1"
   }
  },
  {
   "cell_type": "markdown",
   "source": "#### Contexto\n\nNos encontramos en una situación económica muy recurrente en una empresa, y es ¿Hasta qué punto vale la pena hacer una **inversión** en alguna campaña publictaria en diferentes canales para **incrementar** el volumen de **ventas**? Tenemos unos registros históricos de los **resultados** obtenidos y queremos hacer una **predicción** lo más acercada posible, de acuerdo a las ventas basados en diferentes modelos en los que comparamos los resultados de dichas predicciones y al final elegiremos el **modelo** que tenga mejor **performance**",
   "metadata": {
    "tags": [],
    "cell_id": "00001-8fb34240-462a-4359-b61d-a5ca703872d8",
    "deepnote_cell_type": "markdown"
   }
  },
  {
   "cell_type": "markdown",
   "source": "# Simple Linear Regression",
   "metadata": {
    "tags": [],
    "is_collapsed": false,
    "cell_id": "00002-40c75f56-0eac-4ecb-bff5-b1bfb450fb55",
    "deepnote_cell_type": "text-cell-h1"
   }
  },
  {
   "cell_type": "code",
   "metadata": {
    "tags": [],
    "deepnote_to_be_reexecuted": false,
    "source_hash": "a221d905",
    "execution_start": 1636573471556,
    "execution_millis": 1366,
    "cell_id": "00003-37cc7ed4-002a-4542-a42f-557469cfa70e",
    "deepnote_cell_type": "code"
   },
   "source": "# Importamos librerías y dependencias\n\nimport pandas as pd\nimport numpy as np\nimport statsmodels.formula.api as smf\nimport matplotlib.pyplot as plt\nimport seaborn as sns\nimport warnings",
   "execution_count": 1,
   "outputs": []
  },
  {
   "cell_type": "code",
   "metadata": {
    "tags": [],
    "deepnote_to_be_reexecuted": false,
    "source_hash": "4075a82b",
    "execution_start": 1636573472933,
    "execution_millis": 0,
    "cell_id": "00004-04986580-f62b-4e9c-b1e2-f590f38c10d3",
    "deepnote_cell_type": "code"
   },
   "source": "# Evitamos los molestos warnings\nwarnings.simplefilter(\"ignore\")",
   "execution_count": 2,
   "outputs": []
  },
  {
   "cell_type": "code",
   "metadata": {
    "tags": [],
    "deepnote_to_be_reexecuted": false,
    "source_hash": "50c930eb",
    "execution_start": 1636573472943,
    "execution_millis": 161,
    "cell_id": "00005-26f50730-8773-495c-8f90-58a7700fb593",
    "deepnote_cell_type": "code"
   },
   "source": "# Cargamos nuestro dataset\n\ndata = pd.read_csv('https://raw.githubusercontent.com/jorge-robledo11/Datasets/main/Datasets/ads/Advertising.csv')\ndata.head()",
   "execution_count": 3,
   "outputs": [
    {
     "output_type": "execute_result",
     "execution_count": 3,
     "data": {
      "application/vnd.deepnote.dataframe.v2+json": {
       "row_count": 5,
       "column_count": 4,
       "columns": [
        {
         "name": "TV",
         "dtype": "float64",
         "stats": {
          "unique_count": 5,
          "nan_count": 0,
          "min": "17.2",
          "max": "230.1",
          "histogram": [
           {
            "bin_start": 17.2,
            "bin_end": 38.489999999999995,
            "count": 1
           },
           {
            "bin_start": 38.489999999999995,
            "bin_end": 59.78,
            "count": 1
           },
           {
            "bin_start": 59.78,
            "bin_end": 81.07,
            "count": 0
           },
           {
            "bin_start": 81.07,
            "bin_end": 102.36,
            "count": 0
           },
           {
            "bin_start": 102.36,
            "bin_end": 123.64999999999999,
            "count": 0
           },
           {
            "bin_start": 123.64999999999999,
            "bin_end": 144.94,
            "count": 0
           },
           {
            "bin_start": 144.94,
            "bin_end": 166.23,
            "count": 1
           },
           {
            "bin_start": 166.23,
            "bin_end": 187.51999999999998,
            "count": 1
           },
           {
            "bin_start": 187.51999999999998,
            "bin_end": 208.80999999999997,
            "count": 0
           },
           {
            "bin_start": 208.80999999999997,
            "bin_end": 230.1,
            "count": 1
           }
          ]
         }
        },
        {
         "name": "Radio",
         "dtype": "float64",
         "stats": {
          "unique_count": 5,
          "nan_count": 0,
          "min": "10.8",
          "max": "45.9",
          "histogram": [
           {
            "bin_start": 10.8,
            "bin_end": 14.31,
            "count": 1
           },
           {
            "bin_start": 14.31,
            "bin_end": 17.82,
            "count": 0
           },
           {
            "bin_start": 17.82,
            "bin_end": 21.33,
            "count": 0
           },
           {
            "bin_start": 21.33,
            "bin_end": 24.839999999999996,
            "count": 0
           },
           {
            "bin_start": 24.839999999999996,
            "bin_end": 28.349999999999998,
            "count": 0
           },
           {
            "bin_start": 28.349999999999998,
            "bin_end": 31.859999999999996,
            "count": 0
           },
           {
            "bin_start": 31.859999999999996,
            "bin_end": 35.37,
            "count": 0
           },
           {
            "bin_start": 35.37,
            "bin_end": 38.879999999999995,
            "count": 1
           },
           {
            "bin_start": 38.879999999999995,
            "bin_end": 42.38999999999999,
            "count": 2
           },
           {
            "bin_start": 42.38999999999999,
            "bin_end": 45.9,
            "count": 1
           }
          ]
         }
        },
        {
         "name": "Newspaper",
         "dtype": "float64",
         "stats": {
          "unique_count": 5,
          "nan_count": 0,
          "min": "45.1",
          "max": "69.3",
          "histogram": [
           {
            "bin_start": 45.1,
            "bin_end": 47.52,
            "count": 1
           },
           {
            "bin_start": 47.52,
            "bin_end": 49.94,
            "count": 0
           },
           {
            "bin_start": 49.94,
            "bin_end": 52.36,
            "count": 0
           },
           {
            "bin_start": 52.36,
            "bin_end": 54.78,
            "count": 0
           },
           {
            "bin_start": 54.78,
            "bin_end": 57.2,
            "count": 0
           },
           {
            "bin_start": 57.2,
            "bin_end": 59.62,
            "count": 2
           },
           {
            "bin_start": 59.62,
            "bin_end": 62.04,
            "count": 0
           },
           {
            "bin_start": 62.04,
            "bin_end": 64.46,
            "count": 0
           },
           {
            "bin_start": 64.46,
            "bin_end": 66.88,
            "count": 0
           },
           {
            "bin_start": 66.88,
            "bin_end": 69.3,
            "count": 2
           }
          ]
         }
        },
        {
         "name": "Sales",
         "dtype": "float64",
         "stats": {
          "unique_count": 5,
          "nan_count": 0,
          "min": "9.3",
          "max": "22.1",
          "histogram": [
           {
            "bin_start": 9.3,
            "bin_end": 10.58,
            "count": 2
           },
           {
            "bin_start": 10.58,
            "bin_end": 11.860000000000001,
            "count": 0
           },
           {
            "bin_start": 11.860000000000001,
            "bin_end": 13.14,
            "count": 1
           },
           {
            "bin_start": 13.14,
            "bin_end": 14.420000000000002,
            "count": 0
           },
           {
            "bin_start": 14.420000000000002,
            "bin_end": 15.700000000000001,
            "count": 0
           },
           {
            "bin_start": 15.700000000000001,
            "bin_end": 16.98,
            "count": 0
           },
           {
            "bin_start": 16.98,
            "bin_end": 18.26,
            "count": 0
           },
           {
            "bin_start": 18.26,
            "bin_end": 19.54,
            "count": 1
           },
           {
            "bin_start": 19.54,
            "bin_end": 20.82,
            "count": 0
           },
           {
            "bin_start": 20.82,
            "bin_end": 22.1,
            "count": 1
           }
          ]
         }
        },
        {
         "name": "_deepnote_index_column",
         "dtype": "int64"
        }
       ],
       "rows_top": [
        {
         "TV": 230.1,
         "Radio": 37.8,
         "Newspaper": 69.2,
         "Sales": 22.1,
         "_deepnote_index_column": 0
        },
        {
         "TV": 44.5,
         "Radio": 39.3,
         "Newspaper": 45.1,
         "Sales": 10.4,
         "_deepnote_index_column": 1
        },
        {
         "TV": 17.2,
         "Radio": 45.9,
         "Newspaper": 69.3,
         "Sales": 9.3,
         "_deepnote_index_column": 2
        },
        {
         "TV": 151.5,
         "Radio": 41.3,
         "Newspaper": 58.5,
         "Sales": 18.5,
         "_deepnote_index_column": 3
        },
        {
         "TV": 180.8,
         "Radio": 10.8,
         "Newspaper": 58.4,
         "Sales": 12.9,
         "_deepnote_index_column": 4
        }
       ],
       "rows_bottom": null
      },
      "text/plain": "      TV  Radio  Newspaper  Sales\n0  230.1   37.8       69.2   22.1\n1   44.5   39.3       45.1   10.4\n2   17.2   45.9       69.3    9.3\n3  151.5   41.3       58.5   18.5\n4  180.8   10.8       58.4   12.9",
      "text/html": "<div>\n<style scoped>\n    .dataframe tbody tr th:only-of-type {\n        vertical-align: middle;\n    }\n\n    .dataframe tbody tr th {\n        vertical-align: top;\n    }\n\n    .dataframe thead th {\n        text-align: right;\n    }\n</style>\n<table border=\"1\" class=\"dataframe\">\n  <thead>\n    <tr style=\"text-align: right;\">\n      <th></th>\n      <th>TV</th>\n      <th>Radio</th>\n      <th>Newspaper</th>\n      <th>Sales</th>\n    </tr>\n  </thead>\n  <tbody>\n    <tr>\n      <th>0</th>\n      <td>230.1</td>\n      <td>37.8</td>\n      <td>69.2</td>\n      <td>22.1</td>\n    </tr>\n    <tr>\n      <th>1</th>\n      <td>44.5</td>\n      <td>39.3</td>\n      <td>45.1</td>\n      <td>10.4</td>\n    </tr>\n    <tr>\n      <th>2</th>\n      <td>17.2</td>\n      <td>45.9</td>\n      <td>69.3</td>\n      <td>9.3</td>\n    </tr>\n    <tr>\n      <th>3</th>\n      <td>151.5</td>\n      <td>41.3</td>\n      <td>58.5</td>\n      <td>18.5</td>\n    </tr>\n    <tr>\n      <th>4</th>\n      <td>180.8</td>\n      <td>10.8</td>\n      <td>58.4</td>\n      <td>12.9</td>\n    </tr>\n  </tbody>\n</table>\n</div>"
     },
     "metadata": {}
    }
   ]
  },
  {
   "cell_type": "markdown",
   "source": "## Statsmodel",
   "metadata": {
    "tags": [],
    "is_collapsed": false,
    "cell_id": "00006-b1074528-4bbc-4a0b-9a22-8fa769d6fd68",
    "deepnote_cell_type": "text-cell-h2"
   }
  },
  {
   "cell_type": "code",
   "metadata": {
    "tags": [],
    "deepnote_to_be_reexecuted": false,
    "source_hash": "fe3d6607",
    "execution_start": 1636573473117,
    "execution_millis": 16,
    "cell_id": "00007-3025379e-6526-4449-af42-ad792f80f761",
    "deepnote_cell_type": "code"
   },
   "source": "# Definimos nuestra Regresión lineal\n\nlinear_model = smf.ols(formula='Sales~TV', data=data).fit()\ndisplay(linear_model)",
   "execution_count": 4,
   "outputs": [
    {
     "data": {
      "text/plain": "<statsmodels.regression.linear_model.RegressionResultsWrapper at 0x7fbcbf7d3100>"
     },
     "metadata": {},
     "output_type": "display_data"
    }
   ]
  },
  {
   "cell_type": "code",
   "metadata": {
    "tags": [],
    "deepnote_to_be_reexecuted": false,
    "source_hash": "5d5d877a",
    "execution_start": 1636573473138,
    "execution_millis": 7,
    "cell_id": "00008-153da278-5616-4107-9613-90d21b397e0d",
    "deepnote_cell_type": "code"
   },
   "source": "# Parámetros\n\ndisplay(linear_model.params)",
   "execution_count": 5,
   "outputs": [
    {
     "data": {
      "text/plain": "Intercept    7.032594\nTV           0.047537\ndtype: float64"
     },
     "metadata": {},
     "output_type": "display_data"
    }
   ]
  },
  {
   "cell_type": "markdown",
   "source": "El **Modelo Predictivo** sería $Sales = 7.032594 + (0.047537)TV$\n\n**Razonamiento**: Por cada $0.047537$ unidades monetarias **invertidas** en **publicidad televisiva** reportará $7.032594$ unidades monetarias en **ventas**",
   "metadata": {
    "tags": [],
    "cell_id": "00009-30a30975-498c-4000-bfa9-234be5748096",
    "deepnote_cell_type": "markdown"
   }
  },
  {
   "cell_type": "code",
   "metadata": {
    "tags": [],
    "deepnote_to_be_reexecuted": false,
    "source_hash": "7f5335a9",
    "execution_start": 1636573473174,
    "execution_millis": 6,
    "cell_id": "00010-ccc9ee96-e610-42df-b964-d37524216d20",
    "deepnote_cell_type": "code"
   },
   "source": "# P-Values\n\ndisplay(linear_model.pvalues)",
   "execution_count": 6,
   "outputs": [
    {
     "data": {
      "text/plain": "Intercept    1.406300e-35\nTV           1.467390e-42\ndtype: float64"
     },
     "metadata": {},
     "output_type": "display_data"
    }
   ]
  },
  {
   "cell_type": "markdown",
   "source": "Nuestros $p-values$ son realmente bajos lo cual es muy bueno, de ese modo no tendremos que rechazar nuestra **hipótesis nula** desde un inicio",
   "metadata": {
    "tags": [],
    "cell_id": "00011-9d97e55d-acb8-4238-aed8-7b44a5ec591f",
    "deepnote_cell_type": "markdown"
   }
  },
  {
   "cell_type": "code",
   "metadata": {
    "tags": [],
    "deepnote_to_be_reexecuted": false,
    "source_hash": "106e5f9a",
    "execution_start": 1636573473175,
    "execution_millis": 5,
    "cell_id": "00012-a7c21e49-1cc5-419d-b0e7-3ee73fc96ad5",
    "deepnote_cell_type": "code"
   },
   "source": "# Estimadores estadísticos\n\n# R2\nr2_mod1 = (round(linear_model.rsquared,4))\ndisplay(f'R2: {r2_mod1}')\n\n# R2 Ajustado\nr2_adj_mod1 = round(linear_model.rsquared_adj,4)\ndisplay(f'R2 ajustado: {r2_adj_mod1}')",
   "execution_count": 7,
   "outputs": [
    {
     "data": {
      "text/plain": "'R2: 0.6119'"
     },
     "metadata": {},
     "output_type": "display_data"
    },
    {
     "data": {
      "text/plain": "'R2 ajustado: 0.6099'"
     },
     "metadata": {},
     "output_type": "display_data"
    }
   ]
  },
  {
   "cell_type": "code",
   "metadata": {
    "tags": [],
    "deepnote_to_be_reexecuted": false,
    "source_hash": "2e61faf0",
    "execution_start": 1636573473178,
    "execution_millis": 20,
    "cell_id": "00013-9486b03c-9442-45a5-8a13-1b7be82724a9",
    "deepnote_cell_type": "code"
   },
   "source": "# Summary\n\nlinear_model.summary()",
   "execution_count": 8,
   "outputs": [
    {
     "output_type": "execute_result",
     "execution_count": 8,
     "data": {
      "text/plain": "<class 'statsmodels.iolib.summary.Summary'>\n\"\"\"\n                            OLS Regression Results                            \n==============================================================================\nDep. Variable:                  Sales   R-squared:                       0.612\nModel:                            OLS   Adj. R-squared:                  0.610\nMethod:                 Least Squares   F-statistic:                     312.1\nDate:                Wed, 10 Nov 2021   Prob (F-statistic):           1.47e-42\nTime:                        19:44:33   Log-Likelihood:                -519.05\nNo. Observations:                 200   AIC:                             1042.\nDf Residuals:                     198   BIC:                             1049.\nDf Model:                           1                                         \nCovariance Type:            nonrobust                                         \n==============================================================================\n                 coef    std err          t      P>|t|      [0.025      0.975]\n------------------------------------------------------------------------------\nIntercept      7.0326      0.458     15.360      0.000       6.130       7.935\nTV             0.0475      0.003     17.668      0.000       0.042       0.053\n==============================================================================\nOmnibus:                        0.531   Durbin-Watson:                   1.935\nProb(Omnibus):                  0.767   Jarque-Bera (JB):                0.669\nSkew:                          -0.089   Prob(JB):                        0.716\nKurtosis:                       2.779   Cond. No.                         338.\n==============================================================================\n\nNotes:\n[1] Standard Errors assume that the covariance matrix of the errors is correctly specified.\n\"\"\"",
      "text/html": "<table class=\"simpletable\">\n<caption>OLS Regression Results</caption>\n<tr>\n  <th>Dep. Variable:</th>          <td>Sales</td>      <th>  R-squared:         </th> <td>   0.612</td>\n</tr>\n<tr>\n  <th>Model:</th>                   <td>OLS</td>       <th>  Adj. R-squared:    </th> <td>   0.610</td>\n</tr>\n<tr>\n  <th>Method:</th>             <td>Least Squares</td>  <th>  F-statistic:       </th> <td>   312.1</td>\n</tr>\n<tr>\n  <th>Date:</th>             <td>Wed, 10 Nov 2021</td> <th>  Prob (F-statistic):</th> <td>1.47e-42</td>\n</tr>\n<tr>\n  <th>Time:</th>                 <td>19:44:33</td>     <th>  Log-Likelihood:    </th> <td> -519.05</td>\n</tr>\n<tr>\n  <th>No. Observations:</th>      <td>   200</td>      <th>  AIC:               </th> <td>   1042.</td>\n</tr>\n<tr>\n  <th>Df Residuals:</th>          <td>   198</td>      <th>  BIC:               </th> <td>   1049.</td>\n</tr>\n<tr>\n  <th>Df Model:</th>              <td>     1</td>      <th>                     </th>     <td> </td>   \n</tr>\n<tr>\n  <th>Covariance Type:</th>      <td>nonrobust</td>    <th>                     </th>     <td> </td>   \n</tr>\n</table>\n<table class=\"simpletable\">\n<tr>\n      <td></td>         <th>coef</th>     <th>std err</th>      <th>t</th>      <th>P>|t|</th>  <th>[0.025</th>    <th>0.975]</th>  \n</tr>\n<tr>\n  <th>Intercept</th> <td>    7.0326</td> <td>    0.458</td> <td>   15.360</td> <td> 0.000</td> <td>    6.130</td> <td>    7.935</td>\n</tr>\n<tr>\n  <th>TV</th>        <td>    0.0475</td> <td>    0.003</td> <td>   17.668</td> <td> 0.000</td> <td>    0.042</td> <td>    0.053</td>\n</tr>\n</table>\n<table class=\"simpletable\">\n<tr>\n  <th>Omnibus:</th>       <td> 0.531</td> <th>  Durbin-Watson:     </th> <td>   1.935</td>\n</tr>\n<tr>\n  <th>Prob(Omnibus):</th> <td> 0.767</td> <th>  Jarque-Bera (JB):  </th> <td>   0.669</td>\n</tr>\n<tr>\n  <th>Skew:</th>          <td>-0.089</td> <th>  Prob(JB):          </th> <td>   0.716</td>\n</tr>\n<tr>\n  <th>Kurtosis:</th>      <td> 2.779</td> <th>  Cond. No.          </th> <td>    338.</td>\n</tr>\n</table><br/><br/>Notes:<br/>[1] Standard Errors assume that the covariance matrix of the errors is correctly specified."
     },
     "metadata": {}
    }
   ]
  },
  {
   "cell_type": "markdown",
   "source": "Como queremos intentar **predecir las ventas** con respecto al **gasto en publicidad de TV**, lo definiremos de la siguiente manera:",
   "metadata": {
    "tags": [],
    "cell_id": "00014-823ece7b-9eb9-4c93-a99a-74ec9f2d0794",
    "deepnote_cell_type": "markdown"
   }
  },
  {
   "cell_type": "code",
   "metadata": {
    "tags": [],
    "deepnote_to_be_reexecuted": false,
    "source_hash": "44fc64de",
    "execution_start": 1636573473207,
    "execution_millis": 31,
    "cell_id": "00015-19ba1714-de42-44f8-ae57-234f3b02d94a",
    "deepnote_cell_type": "code"
   },
   "source": "# Predicción de ventas\n\nsales_pred = linear_model.predict(pd.DataFrame(data['TV']))\nsales_pred.head(10)",
   "execution_count": 9,
   "outputs": [
    {
     "output_type": "execute_result",
     "execution_count": 9,
     "data": {
      "text/plain": "0    17.970775\n1     9.147974\n2     7.850224\n3    14.234395\n4    15.627218\n5     7.446162\n6     9.765950\n7    12.746498\n8     7.441409\n9    16.530414\ndtype: float64"
     },
     "metadata": {}
    }
   ]
  },
  {
   "cell_type": "code",
   "metadata": {
    "tags": [],
    "deepnote_to_be_reexecuted": false,
    "source_hash": "3e00e148",
    "execution_start": 1636573473258,
    "execution_millis": 492,
    "cell_id": "00016-d0280267-e982-4cce-84eb-bfb5a723326c",
    "deepnote_cell_type": "code"
   },
   "source": "# Scatterplot\n\n%matplotlib inline\nsns.set_theme(style='darkgrid')\nsns.scatterplot(data=data, x='TV', y='Sales', color='blue', palette='deep')\nplt.plot(pd.DataFrame(data['TV']), sales_pred, c='orange', linewidth=3)\nplt.title('Sales vs TV\\n')\nplt.tight_layout();",
   "execution_count": 10,
   "outputs": [
    {
     "data": {
      "text/plain": "<Figure size 432x288 with 1 Axes>",
      "image/png": "[encoded data removed]"
     },
     "metadata": {
      "image/png": {
       "width": 420,
       "height": 276
      }
     },
     "output_type": "display_data"
    }
   ]
  },
  {
   "cell_type": "markdown",
   "source": "Añadimos una nueva columna con el valor de las **ventas predecidas** y el $RSE$",
   "metadata": {
    "tags": [],
    "cell_id": "00017-f3f67a83-7661-4992-bf61-23313ea104ae",
    "deepnote_cell_type": "markdown"
   }
  },
  {
   "cell_type": "code",
   "metadata": {
    "tags": [],
    "deepnote_to_be_reexecuted": false,
    "source_hash": "abf79e87",
    "execution_start": 1636573473804,
    "execution_millis": 1,
    "cell_id": "00018-ff114b8c-0204-47ee-a2f7-e892e3874daf",
    "deepnote_cell_type": "code"
   },
   "source": "# Columnas Ventas predecidas y RSE\n\ndata['Sales Pred'] = 7.032594 + 0.047537 * data['TV']\ndata['RSE'] = (data['Sales'] - data['Sales Pred'])**2",
   "execution_count": 11,
   "outputs": []
  },
  {
   "cell_type": "code",
   "metadata": {
    "tags": [],
    "deepnote_to_be_reexecuted": false,
    "source_hash": "f78e16ed",
    "execution_start": 1636573473805,
    "execution_millis": 1178025,
    "cell_id": "00019-0f06da62-614d-40b0-ac9f-9511677b78d7",
    "deepnote_cell_type": "code"
   },
   "source": "# Calculamos nuestros estimadores ANOVA\n\nSSD = sum(data['RSE'])\nRSE = np.sqrt(SSD/(len(data)-2))\n\n# Display\ndisplay(f'SSD: {SSD}')\ndisplay(f'RSE: {RSE}')",
   "execution_count": 12,
   "outputs": [
    {
     "data": {
      "text/plain": "'SSD: 2102.5305838896525'"
     },
     "metadata": {},
     "output_type": "display_data"
    },
    {
     "data": {
      "text/plain": "'RSE: 3.258656369238098'"
     },
     "metadata": {},
     "output_type": "display_data"
    }
   ]
  },
  {
   "cell_type": "code",
   "metadata": {
    "tags": [],
    "deepnote_to_be_reexecuted": false,
    "source_hash": "ebd34e93",
    "execution_start": 1636573473806,
    "execution_millis": 2,
    "cell_id": "00020-f2af0f32-fb82-4d1b-bcfa-d7bdc9d194be",
    "deepnote_cell_type": "code"
   },
   "source": "# Calculamos la media de las ventas y el error\n\nsales_promedio = np.mean(data['Sales'])\nerror = RSE/sales_promedio\n\n# Display\ndisplay(f'Ventas promedio: {sales_promedio}')\ndisplay(f'Error promedio: {error}')",
   "execution_count": 13,
   "outputs": [
    {
     "data": {
      "text/plain": "'Ventas promedio: 14.0225'"
     },
     "metadata": {},
     "output_type": "display_data"
    },
    {
     "data": {
      "text/plain": "'Error promedio: 0.23238768901680143'"
     },
     "metadata": {},
     "output_type": "display_data"
    }
   ]
  },
  {
   "cell_type": "markdown",
   "source": "El **error promedio** lo podemos interpretar como un $23,23$% del **modelo** que **no logra explicar correctamente**",
   "metadata": {
    "tags": [],
    "cell_id": "00021-6459250a-450f-4219-8b08-7e8f76db5582",
    "deepnote_cell_type": "markdown"
   }
  },
  {
   "cell_type": "code",
   "metadata": {
    "tags": [],
    "deepnote_to_be_reexecuted": false,
    "source_hash": "260f05dd",
    "execution_start": 1636573473850,
    "execution_millis": 475,
    "cell_id": "00022-39fd8b73-2a0f-4372-af59-80184b124d35",
    "deepnote_cell_type": "code"
   },
   "source": "# Posee una Distribución normal\n\nsns.set_theme(style='whitegrid')\nsns.histplot(data['Sales'] - data['Sales Pred'], kde=True, bins=10, edgecolor='black', linewidth=0.8, color='red')\nplt.title('Error promedio\\n')\nplt.tight_layout();",
   "execution_count": 14,
   "outputs": [
    {
     "data": {
      "text/plain": "<Figure size 432x288 with 1 Axes>",
      "image/png": "[encoded data removed]"
     },
     "metadata": {
      "image/png": {
       "width": 420,
       "height": 276
      }
     },
     "output_type": "display_data"
    }
   ]
  },
  {
   "cell_type": "markdown",
   "source": "Hasta el momento podemos decir que nuestro **modelo** es poco **confiable**, tiene una **tasa de error** alta del $23,23$%, lo cual no genera muchas expectativas, sin embargo, hasta el momento solo hemos utilizado **una variable explicativa** con respecto a otra, podríamos intentar testear con otros **features** para saber cómo responde el **modelo**",
   "metadata": {
    "tags": [],
    "cell_id": "00023-fd468670-9167-4ac2-867a-e5c8b2258d21",
    "deepnote_cell_type": "markdown"
   }
  },
  {
   "cell_type": "markdown",
   "source": "# Multiple Linear Regression",
   "metadata": {
    "tags": [],
    "is_collapsed": false,
    "cell_id": "00024-33bf6179-187d-47fc-81c3-9f31d4f5fa79",
    "deepnote_cell_type": "text-cell-h1"
   }
  },
  {
   "cell_type": "markdown",
   "source": "## Statsmodel",
   "metadata": {
    "tags": [],
    "is_collapsed": false,
    "cell_id": "00025-3ff3d32b-44ee-45dc-8f4c-7cc7756eb661",
    "deepnote_cell_type": "text-cell-h2"
   }
  },
  {
   "cell_type": "markdown",
   "source": "Buscamos entre todas las **combinaciones posibles de modelos**, uno que tenga el menor $p-value$ con un íntervalo de confianza de $0.05$\n\nAgregamos como nuevo **feature** al **modelo** _Newspaper_ para ver cómo se comporta el modelo",
   "metadata": {
    "tags": [],
    "cell_id": "00026-fbea814e-6453-4909-a3e6-0e928faee5d6",
    "deepnote_cell_type": "markdown"
   }
  },
  {
   "cell_type": "code",
   "metadata": {
    "tags": [],
    "deepnote_to_be_reexecuted": false,
    "source_hash": "312ff654",
    "execution_start": 1636573474363,
    "execution_millis": 0,
    "cell_id": "00027-ca9050ab-5bee-4e49-b2b8-01edf4c9a6d0",
    "deepnote_cell_type": "code"
   },
   "source": "# Definimos nuestro segundo modelo\n\nlinear_model_2 = smf.ols(formula='Sales~TV+Newspaper', data=data).fit()",
   "execution_count": 15,
   "outputs": []
  },
  {
   "cell_type": "code",
   "metadata": {
    "tags": [],
    "deepnote_to_be_reexecuted": false,
    "source_hash": "faa30b36",
    "execution_start": 1636573474364,
    "execution_millis": 3,
    "cell_id": "00028-8dd22228-bcdb-4967-86d1-f58a097cd1b3",
    "deepnote_cell_type": "code"
   },
   "source": "# Parámetros\n\ndisplay(linear_model_2.params)",
   "execution_count": 16,
   "outputs": [
    {
     "data": {
      "text/plain": "Intercept    5.774948\nTV           0.046901\nNewspaper    0.044219\ndtype: float64"
     },
     "metadata": {},
     "output_type": "display_data"
    }
   ]
  },
  {
   "cell_type": "code",
   "metadata": {
    "tags": [],
    "deepnote_to_be_reexecuted": false,
    "source_hash": "c49d5190",
    "execution_start": 1636573474364,
    "execution_millis": 3,
    "cell_id": "00029-cca1623f-33f5-41e4-94c4-8981a1b19183",
    "deepnote_cell_type": "code"
   },
   "source": "# P-Values\n\ndisplay(linear_model_2.pvalues)",
   "execution_count": 17,
   "outputs": [
    {
     "data": {
      "text/plain": "Intercept    3.145860e-22\nTV           5.507584e-44\nNewspaper    2.217084e-05\ndtype: float64"
     },
     "metadata": {},
     "output_type": "display_data"
    }
   ]
  },
  {
   "cell_type": "markdown",
   "source": "El **Modelo Predictivo** ahora sería $Sales = 5.774948 + (0.046901)TV + (0.044219)Newspaper$\n\n**Razonamiento**: Por cada $0.046901$ y $0.044219$ unidades monetarias **invertidas** en **publicidad televisiva** y en **periódico** respectivamente reportará $5.774948$ unidades monetarias en **ventas**",
   "metadata": {
    "tags": [],
    "cell_id": "00030-92a314e4-b0c2-4187-83a8-fe83a3c894ba",
    "deepnote_cell_type": "markdown"
   }
  },
  {
   "cell_type": "code",
   "metadata": {
    "tags": [],
    "deepnote_to_be_reexecuted": false,
    "source_hash": "7e822320",
    "execution_start": 1636573474368,
    "execution_millis": 13,
    "cell_id": "00031-f3613371-4ba9-4399-a57f-ffd5771eb615",
    "deepnote_cell_type": "code"
   },
   "source": "# Estimadores estadísticos\n\n# R2\nr2_mod2 = (round(linear_model_2.rsquared,4))\ndisplay(f'R2: {r2_mod2}')\n\n# R2 Ajustado\nr2_adj_mod2 = round(linear_model_2.rsquared_adj,4)\ndisplay(f'R2 ajustado: {r2_adj_mod2}')",
   "execution_count": 18,
   "outputs": [
    {
     "data": {
      "text/plain": "'R2: 0.6458'"
     },
     "metadata": {},
     "output_type": "display_data"
    },
    {
     "data": {
      "text/plain": "'R2 ajustado: 0.6422'"
     },
     "metadata": {},
     "output_type": "display_data"
    }
   ]
  },
  {
   "cell_type": "markdown",
   "source": "La mejor con respecto al primer modelo fue insignificativamente mejor según los estimadores de $R^2$ y $R^2$ ajustado",
   "metadata": {
    "tags": [],
    "cell_id": "00032-42e45889-d5c1-4cbd-80ea-7aa039ce3d65",
    "deepnote_cell_type": "markdown"
   }
  },
  {
   "cell_type": "code",
   "metadata": {
    "tags": [],
    "deepnote_to_be_reexecuted": false,
    "source_hash": "e263e3ce",
    "execution_start": 1636573474383,
    "execution_millis": 20,
    "cell_id": "00033-44e79c45-f273-4617-a2d1-b65b48e10f04",
    "deepnote_cell_type": "code"
   },
   "source": "# Summary\n\nlinear_model_2.summary()",
   "execution_count": 19,
   "outputs": [
    {
     "output_type": "execute_result",
     "execution_count": 19,
     "data": {
      "text/plain": "<class 'statsmodels.iolib.summary.Summary'>\n\"\"\"\n                            OLS Regression Results                            \n==============================================================================\nDep. Variable:                  Sales   R-squared:                       0.646\nModel:                            OLS   Adj. R-squared:                  0.642\nMethod:                 Least Squares   F-statistic:                     179.6\nDate:                Wed, 10 Nov 2021   Prob (F-statistic):           3.95e-45\nTime:                        19:44:34   Log-Likelihood:                -509.89\nNo. Observations:                 200   AIC:                             1026.\nDf Residuals:                     197   BIC:                             1036.\nDf Model:                           2                                         \nCovariance Type:            nonrobust                                         \n==============================================================================\n                 coef    std err          t      P>|t|      [0.025      0.975]\n------------------------------------------------------------------------------\nIntercept      5.7749      0.525     10.993      0.000       4.739       6.811\nTV             0.0469      0.003     18.173      0.000       0.042       0.052\nNewspaper      0.0442      0.010      4.346      0.000       0.024       0.064\n==============================================================================\nOmnibus:                        0.658   Durbin-Watson:                   1.969\nProb(Omnibus):                  0.720   Jarque-Bera (JB):                0.415\nSkew:                          -0.093   Prob(JB):                        0.813\nKurtosis:                       3.122   Cond. No.                         410.\n==============================================================================\n\nNotes:\n[1] Standard Errors assume that the covariance matrix of the errors is correctly specified.\n\"\"\"",
      "text/html": "<table class=\"simpletable\">\n<caption>OLS Regression Results</caption>\n<tr>\n  <th>Dep. Variable:</th>          <td>Sales</td>      <th>  R-squared:         </th> <td>   0.646</td>\n</tr>\n<tr>\n  <th>Model:</th>                   <td>OLS</td>       <th>  Adj. R-squared:    </th> <td>   0.642</td>\n</tr>\n<tr>\n  <th>Method:</th>             <td>Least Squares</td>  <th>  F-statistic:       </th> <td>   179.6</td>\n</tr>\n<tr>\n  <th>Date:</th>             <td>Wed, 10 Nov 2021</td> <th>  Prob (F-statistic):</th> <td>3.95e-45</td>\n</tr>\n<tr>\n  <th>Time:</th>                 <td>19:44:34</td>     <th>  Log-Likelihood:    </th> <td> -509.89</td>\n</tr>\n<tr>\n  <th>No. Observations:</th>      <td>   200</td>      <th>  AIC:               </th> <td>   1026.</td>\n</tr>\n<tr>\n  <th>Df Residuals:</th>          <td>   197</td>      <th>  BIC:               </th> <td>   1036.</td>\n</tr>\n<tr>\n  <th>Df Model:</th>              <td>     2</td>      <th>                     </th>     <td> </td>   \n</tr>\n<tr>\n  <th>Covariance Type:</th>      <td>nonrobust</td>    <th>                     </th>     <td> </td>   \n</tr>\n</table>\n<table class=\"simpletable\">\n<tr>\n      <td></td>         <th>coef</th>     <th>std err</th>      <th>t</th>      <th>P>|t|</th>  <th>[0.025</th>    <th>0.975]</th>  \n</tr>\n<tr>\n  <th>Intercept</th> <td>    5.7749</td> <td>    0.525</td> <td>   10.993</td> <td> 0.000</td> <td>    4.739</td> <td>    6.811</td>\n</tr>\n<tr>\n  <th>TV</th>        <td>    0.0469</td> <td>    0.003</td> <td>   18.173</td> <td> 0.000</td> <td>    0.042</td> <td>    0.052</td>\n</tr>\n<tr>\n  <th>Newspaper</th> <td>    0.0442</td> <td>    0.010</td> <td>    4.346</td> <td> 0.000</td> <td>    0.024</td> <td>    0.064</td>\n</tr>\n</table>\n<table class=\"simpletable\">\n<tr>\n  <th>Omnibus:</th>       <td> 0.658</td> <th>  Durbin-Watson:     </th> <td>   1.969</td>\n</tr>\n<tr>\n  <th>Prob(Omnibus):</th> <td> 0.720</td> <th>  Jarque-Bera (JB):  </th> <td>   0.415</td>\n</tr>\n<tr>\n  <th>Skew:</th>          <td>-0.093</td> <th>  Prob(JB):          </th> <td>   0.813</td>\n</tr>\n<tr>\n  <th>Kurtosis:</th>      <td> 3.122</td> <th>  Cond. No.          </th> <td>    410.</td>\n</tr>\n</table><br/><br/>Notes:<br/>[1] Standard Errors assume that the covariance matrix of the errors is correctly specified."
     },
     "metadata": {}
    }
   ]
  },
  {
   "cell_type": "markdown",
   "source": "Ahora queremos intentar **predecir** las **ventas** con respecto al **gasto** en **publicidad de TV** y en **Newspaper**, lo definiremos de la siguiente manera:",
   "metadata": {
    "tags": [],
    "cell_id": "00034-ba0789c0-abb8-4243-80ec-c304a6c4870f",
    "deepnote_cell_type": "markdown"
   }
  },
  {
   "cell_type": "code",
   "metadata": {
    "tags": [],
    "deepnote_to_be_reexecuted": false,
    "source_hash": "75d01e0f",
    "execution_start": 1636573474451,
    "execution_millis": 0,
    "cell_id": "00035-ed2d3c81-ea33-46ec-ba59-824b4f1cd43d",
    "deepnote_cell_type": "code"
   },
   "source": "# Predicción de ventas del segundo modelo\n\nsales_pred2 = linear_model_2.predict(pd.DataFrame(data[['TV', 'Newspaper']]))\nsales_pred2.head(10)",
   "execution_count": 20,
   "outputs": [
    {
     "output_type": "execute_result",
     "execution_count": 20,
     "data": {
      "text/plain": "0    19.626901\n1     9.856348\n2     9.646055\n3    15.467318\n4    16.837102\n5     9.499445\n6     9.510924\n7    11.925419\n8     6.222518\n9    16.083262\ndtype: float64"
     },
     "metadata": {}
    }
   ]
  },
  {
   "cell_type": "markdown",
   "source": "Añadimos una nueva columna con el valor de las **ventas predecidas** y el $RSE$",
   "metadata": {
    "tags": [],
    "cell_id": "00036-56fea4c0-8dd5-4e54-a45f-a826016e96e4",
    "deepnote_cell_type": "markdown"
   }
  },
  {
   "cell_type": "code",
   "metadata": {
    "tags": [],
    "deepnote_to_be_reexecuted": false,
    "source_hash": "248c22a5",
    "execution_start": 1636574604359,
    "execution_millis": 4,
    "cell_id": "00037-7d1ecbc3-551f-46b2-ab6f-7001fd6c27f8",
    "deepnote_cell_type": "code"
   },
   "source": "# Columnas Ventas predecidas y RSE del segundo modelo\n\ndata['Sales Pred_2'] = 5.774948 + 0.046901 * data['TV'] + 0.044219 * data['Newspaper']\ndata['RSE2'] = (data['Sales'] - data['Sales Pred_2'])**2",
   "execution_count": 31,
   "outputs": []
  },
  {
   "cell_type": "code",
   "metadata": {
    "tags": [],
    "deepnote_to_be_reexecuted": false,
    "source_hash": "15f3c24c",
    "execution_start": 1636573553877,
    "execution_millis": 73,
    "cell_id": "00038-1f4c5632-bf9b-4707-9606-acdf02b842dd",
    "deepnote_cell_type": "code"
   },
   "source": "# Calculamos nuestros estimadores ANOVA\n\nSSD2 = sum((data['Sales'] - sales_pred2)**2)\nRSE2 = np.sqrt(SSD2/(len(data)-2-1))\n\n# Display\ndisplay(f'SSD del segundo modelo: {SSD2}')\ndisplay(f'RSE del segundo modelo: {RSE2}')",
   "execution_count": 23,
   "outputs": [
    {
     "data": {
      "text/plain": "'SSD del segundo modelo: 1918.561811896827'"
     },
     "metadata": {},
     "output_type": "display_data"
    },
    {
     "data": {
      "text/plain": "'RSE del segundo modelo: 3.120719860252885'"
     },
     "metadata": {},
     "output_type": "display_data"
    }
   ]
  },
  {
   "cell_type": "code",
   "metadata": {
    "tags": [],
    "deepnote_to_be_reexecuted": false,
    "source_hash": "323bf5ab",
    "execution_start": 1636573967035,
    "execution_millis": 3,
    "cell_id": "00039-3859180d-1a8d-4a1e-b5a4-396247ffff63",
    "deepnote_cell_type": "code"
   },
   "source": "# Calculamos la media de las ventas y el error\n\nsales_promedio = np.mean(data['Sales'])\nerror2 = RSE2/sales_promedio\n\n# Display\ndisplay(f'Ventas promedio: {sales_promedio}')\ndisplay(f'Error promedio del segundo modelo: {error2}')",
   "execution_count": 26,
   "outputs": [
    {
     "data": {
      "text/plain": "'Ventas promedio: 14.0225'"
     },
     "metadata": {},
     "output_type": "display_data"
    },
    {
     "data": {
      "text/plain": "'Error promedio del segundo modelo: 0.2225508903728212'"
     },
     "metadata": {},
     "output_type": "display_data"
    }
   ]
  },
  {
   "cell_type": "markdown",
   "source": "Ahora el **error promedio** es de $22,25$% en el **segundo modelo** que **no logra explicar correctamente**",
   "metadata": {
    "tags": [],
    "cell_id": "00040-542cd531-04da-4e5c-b5ef-83d9aafd1465",
    "deepnote_cell_type": "markdown"
   }
  },
  {
   "cell_type": "code",
   "metadata": {
    "tags": [],
    "deepnote_to_be_reexecuted": false,
    "source_hash": "851bb95a",
    "execution_start": 1636574171579,
    "execution_millis": 455,
    "cell_id": "00041-d31257eb-94fb-4a1e-8000-5d647cc5eeea",
    "deepnote_cell_type": "code"
   },
   "source": "# Posee una Distribución normal más ajustada\n\nsns.set_theme(style='whitegrid')\nsns.histplot(data['Sales'] - sales_pred2, kde=True, bins=10, edgecolor='black', linewidth=0.8, color='red')\nplt.title('Error promedio del segundo modelo\\n')\nplt.tight_layout();",
   "execution_count": 30,
   "outputs": [
    {
     "data": {
      "text/plain": "<Figure size 432x288 with 1 Axes>",
      "image/png": "[encoded data removed]"
     },
     "metadata": {
      "image/png": {
       "width": 420,
       "height": 276
      }
     },
     "output_type": "display_data"
    }
   ]
  },
  {
   "cell_type": "markdown",
   "source": "## Statsmodel",
   "metadata": {
    "tags": [],
    "is_collapsed": false,
    "cell_id": "00042-24098792-ee5c-471b-bccf-b5049c6b4440",
    "deepnote_cell_type": "text-cell-h2"
   }
  },
  {
   "cell_type": "markdown",
   "source": "Buscamos entre todas las **combinaciones posibles de modelos**, uno que tenga el menor $p-value$ con un íntervalo de confianza de $0.05$\n\nAgregamos otro nuevo **feature** al **primer modelo** _Radio_ para ver cómo se comporta el modelo, ya que _Newspaper_ no cumplió las expectativas",
   "metadata": {
    "tags": [],
    "cell_id": "00043-46a882ca-5918-4bc3-a595-2f42529efb80",
    "deepnote_cell_type": "markdown"
   }
  },
  {
   "cell_type": "code",
   "metadata": {
    "tags": [],
    "deepnote_to_be_reexecuted": false,
    "source_hash": "e6928a8f",
    "execution_start": 1636575083539,
    "execution_millis": 13,
    "cell_id": "00044-92d7b530-b5da-4295-a9c5-3af62f50bc3a",
    "deepnote_cell_type": "code"
   },
   "source": "data",
   "execution_count": 32,
   "outputs": [
    {
     "output_type": "execute_result",
     "execution_count": 32,
     "data": {
      "application/vnd.deepnote.dataframe.v2+json": {
       "row_count": 200,
       "column_count": 8,
       "columns": [
        {
         "name": "TV",
         "dtype": "float64",
         "stats": {
          "unique_count": 190,
          "nan_count": 0,
          "min": "0.7",
          "max": "296.4",
          "histogram": [
           {
            "bin_start": 0.7,
            "bin_end": 30.27,
            "count": 26
           },
           {
            "bin_start": 30.27,
            "bin_end": 59.84,
            "count": 15
           },
           {
            "bin_start": 59.84,
            "bin_end": 89.41000000000001,
            "count": 21
           },
           {
            "bin_start": 89.41000000000001,
            "bin_end": 118.98,
            "count": 18
           },
           {
            "bin_start": 118.98,
            "bin_end": 148.54999999999998,
            "count": 19
           },
           {
            "bin_start": 148.54999999999998,
            "bin_end": 178.12,
            "count": 17
           },
           {
            "bin_start": 178.12,
            "bin_end": 207.69,
            "count": 22
           },
           {
            "bin_start": 207.69,
            "bin_end": 237.26,
            "count": 26
           },
           {
            "bin_start": 237.26,
            "bin_end": 266.83,
            "count": 20
           },
           {
            "bin_start": 266.83,
            "bin_end": 296.4,
            "count": 16
           }
          ]
         }
        },
        {
         "name": "Radio",
         "dtype": "float64",
         "stats": {
          "unique_count": 167,
          "nan_count": 0,
          "min": "0.0",
          "max": "49.6",
          "histogram": [
           {
            "bin_start": 0,
            "bin_end": 4.96,
            "count": 30
           },
           {
            "bin_start": 4.96,
            "bin_end": 9.92,
            "count": 20
           },
           {
            "bin_start": 9.92,
            "bin_end": 14.879999999999999,
            "count": 21
           },
           {
            "bin_start": 14.879999999999999,
            "bin_end": 19.84,
            "count": 17
           },
           {
            "bin_start": 19.84,
            "bin_end": 24.8,
            "count": 18
           },
           {
            "bin_start": 24.8,
            "bin_end": 29.759999999999998,
            "count": 23
           },
           {
            "bin_start": 29.759999999999998,
            "bin_end": 34.72,
            "count": 14
           },
           {
            "bin_start": 34.72,
            "bin_end": 39.68,
            "count": 21
           },
           {
            "bin_start": 39.68,
            "bin_end": 44.64,
            "count": 21
           },
           {
            "bin_start": 44.64,
            "bin_end": 49.6,
            "count": 15
           }
          ]
         }
        },
        {
         "name": "Newspaper",
         "dtype": "float64",
         "stats": {
          "unique_count": 172,
          "nan_count": 0,
          "min": "0.3",
          "max": "114.0",
          "histogram": [
           {
            "bin_start": 0.3,
            "bin_end": 11.670000000000002,
            "count": 47
           },
           {
            "bin_start": 11.670000000000002,
            "bin_end": 23.040000000000003,
            "count": 41
           },
           {
            "bin_start": 23.040000000000003,
            "bin_end": 34.41,
            "count": 35
           },
           {
            "bin_start": 34.41,
            "bin_end": 45.78,
            "count": 30
           },
           {
            "bin_start": 45.78,
            "bin_end": 57.150000000000006,
            "count": 21
           },
           {
            "bin_start": 57.150000000000006,
            "bin_end": 68.52,
            "count": 13
           },
           {
            "bin_start": 68.52,
            "bin_end": 79.89,
            "count": 9
           },
           {
            "bin_start": 79.89,
            "bin_end": 91.26,
            "count": 2
           },
           {
            "bin_start": 91.26,
            "bin_end": 102.63000000000001,
            "count": 1
           },
           {
            "bin_start": 102.63000000000001,
            "bin_end": 114,
            "count": 1
           }
          ]
         }
        },
        {
         "name": "Sales",
         "dtype": "float64",
         "stats": {
          "unique_count": 121,
          "nan_count": 0,
          "min": "1.6",
          "max": "27.0",
          "histogram": [
           {
            "bin_start": 1.6,
            "bin_end": 4.140000000000001,
            "count": 2
           },
           {
            "bin_start": 4.140000000000001,
            "bin_end": 6.68,
            "count": 9
           },
           {
            "bin_start": 6.68,
            "bin_end": 9.22,
            "count": 20
           },
           {
            "bin_start": 9.22,
            "bin_end": 11.76,
            "count": 47
           },
           {
            "bin_start": 11.76,
            "bin_end": 14.299999999999999,
            "count": 35
           },
           {
            "bin_start": 14.299999999999999,
            "bin_end": 16.84,
            "count": 29
           },
           {
            "bin_start": 16.84,
            "bin_end": 19.380000000000003,
            "count": 22
           },
           {
            "bin_start": 19.380000000000003,
            "bin_end": 21.92,
            "count": 17
           },
           {
            "bin_start": 21.92,
            "bin_end": 24.46,
            "count": 12
           },
           {
            "bin_start": 24.46,
            "bin_end": 27,
            "count": 7
           }
          ]
         }
        },
        {
         "name": "Sales Pred",
         "dtype": "float64",
         "stats": {
          "unique_count": 190,
          "nan_count": 0,
          "min": "7.065869899999999",
          "max": "21.1225608",
          "histogram": [
           {
            "bin_start": 7.065869899999999,
            "bin_end": 8.471538989999999,
            "count": 26
           },
           {
            "bin_start": 8.471538989999999,
            "bin_end": 9.877208079999999,
            "count": 15
           },
           {
            "bin_start": 9.877208079999999,
            "bin_end": 11.282877169999999,
            "count": 21
           },
           {
            "bin_start": 11.282877169999999,
            "bin_end": 12.688546259999999,
            "count": 18
           },
           {
            "bin_start": 12.688546259999999,
            "bin_end": 14.094215349999999,
            "count": 19
           },
           {
            "bin_start": 14.094215349999999,
            "bin_end": 15.499884439999999,
            "count": 17
           },
           {
            "bin_start": 15.499884439999999,
            "bin_end": 16.90555353,
            "count": 22
           },
           {
            "bin_start": 16.90555353,
            "bin_end": 18.31122262,
            "count": 26
           },
           {
            "bin_start": 18.31122262,
            "bin_end": 19.71689171,
            "count": 20
           },
           {
            "bin_start": 19.71689171,
            "bin_end": 21.1225608,
            "count": 16
           }
          ]
         }
        },
        {
         "name": "RSE",
         "dtype": "float64",
         "stats": {
          "unique_count": 200,
          "nan_count": 0,
          "min": "0.0016160721601596985",
          "max": "70.32636963350757",
          "histogram": [
           {
            "bin_start": 0.0016160721601596985,
            "bin_end": 7.034091428294901,
            "count": 126
           },
           {
            "bin_start": 7.034091428294901,
            "bin_end": 14.066566784429641,
            "count": 18
           },
           {
            "bin_start": 14.066566784429641,
            "bin_end": 21.099042140564386,
            "count": 15
           },
           {
            "bin_start": 21.099042140564386,
            "bin_end": 28.131517496699125,
            "count": 16
           },
           {
            "bin_start": 28.131517496699125,
            "bin_end": 35.163992852833864,
            "count": 10
           },
           {
            "bin_start": 35.163992852833864,
            "bin_end": 42.19646820896861,
            "count": 6
           },
           {
            "bin_start": 42.19646820896861,
            "bin_end": 49.22894356510335,
            "count": 4
           },
           {
            "bin_start": 49.22894356510335,
            "bin_end": 56.26141892123809,
            "count": 2
           },
           {
            "bin_start": 56.26141892123809,
            "bin_end": 63.29389427737283,
            "count": 1
           },
           {
            "bin_start": 63.29389427737283,
            "bin_end": 70.32636963350757,
            "count": 2
           }
          ]
         }
        },
        {
         "name": "Sales Pred_2",
         "dtype": "float64",
         "stats": {
          "unique_count": 200,
          "nan_count": 0,
          "min": "6.192484",
          "max": "24.138101499999998",
          "histogram": [
           {
            "bin_start": 6.192484,
            "bin_end": 7.98704575,
            "count": 17
           },
           {
            "bin_start": 7.98704575,
            "bin_end": 9.7816075,
            "count": 22
           },
           {
            "bin_start": 9.7816075,
            "bin_end": 11.57616925,
            "count": 28
           },
           {
            "bin_start": 11.57616925,
            "bin_end": 13.370731,
            "count": 22
           },
           {
            "bin_start": 13.370731,
            "bin_end": 15.165292749999999,
            "count": 20
           },
           {
            "bin_start": 15.165292749999999,
            "bin_end": 16.9598545,
            "count": 30
           },
           {
            "bin_start": 16.9598545,
            "bin_end": 18.75441625,
            "count": 35
           },
           {
            "bin_start": 18.75441625,
            "bin_end": 20.548977999999998,
            "count": 16
           },
           {
            "bin_start": 20.548977999999998,
            "bin_end": 22.343539749999998,
            "count": 8
           },
           {
            "bin_start": 22.343539749999998,
            "bin_end": 24.138101499999998,
            "count": 2
           }
          ]
         }
        },
        {
         "name": "RSE2",
         "dtype": "float64",
         "stats": {
          "unique_count": 200,
          "nan_count": 0,
          "min": "0.00046566618849003694",
          "max": "74.35619281021368",
          "histogram": [
           {
            "bin_start": 0.00046566618849003694,
            "bin_end": 7.43603838059101,
            "count": 128
           },
           {
            "bin_start": 7.43603838059101,
            "bin_end": 14.87161109499353,
            "count": 32
           },
           {
            "bin_start": 14.87161109499353,
            "bin_end": 22.30718380939605,
            "count": 11
           },
           {
            "bin_start": 22.30718380939605,
            "bin_end": 29.74275652379857,
            "count": 11
           },
           {
            "bin_start": 29.74275652379857,
            "bin_end": 37.17832923820109,
            "count": 4
           },
           {
            "bin_start": 37.17832923820109,
            "bin_end": 44.61390195260361,
            "count": 6
           },
           {
            "bin_start": 44.61390195260361,
            "bin_end": 52.04947466700613,
            "count": 4
           },
           {
            "bin_start": 52.04947466700613,
            "bin_end": 59.48504738140865,
            "count": 1
           },
           {
            "bin_start": 59.48504738140865,
            "bin_end": 66.92062009581117,
            "count": 1
           },
           {
            "bin_start": 66.92062009581117,
            "bin_end": 74.35619281021368,
            "count": 2
           }
          ]
         }
        },
        {
         "name": "_deepnote_index_column",
         "dtype": "int64"
        }
       ],
       "rows_top": [
        {
         "TV": 230.1,
         "Radio": 37.8,
         "Newspaper": 69.2,
         "Sales": 22.1,
         "Sales Pred": 17.9708577,
         "RSE": 17.049816133649305,
         "Sales Pred_2": 19.6268229,
         "RSE2": 6.116604967964414,
         "_deepnote_index_column": 0
        },
        {
         "TV": 44.5,
         "Radio": 39.3,
         "Newspaper": 45.1,
         "Sales": 10.4,
         "Sales Pred": 9.147990499999999,
         "RSE": 1.5675277880902538,
         "Sales Pred_2": 9.8563194,
         "RSE2": 0.2955885948163601,
         "_deepnote_index_column": 1
        },
        {
         "TV": 17.2,
         "Radio": 45.9,
         "Newspaper": 69.3,
         "Sales": 9.3,
         "Sales Pred": 7.850230399999999,
         "RSE": 2.1018318930841646,
         "Sales Pred_2": 9.646021900000001,
         "RSE2": 0.11973115527961015,
         "_deepnote_index_column": 2
        },
        {
         "TV": 151.5,
         "Radio": 41.3,
         "Newspaper": 58.5,
         "Sales": 18.5,
         "Sales Pred": 14.2344495,
         "RSE": 18.19492106805025,
         "Sales Pred_2": 15.467261,
         "RSE2": 9.197505842120997,
         "_deepnote_index_column": 3
        },
        {
         "TV": 180.8,
         "Radio": 10.8,
         "Newspaper": 58.4,
         "Sales": 12.9,
         "Sales Pred": 15.6272836,
         "RSE": 7.438075834828959,
         "Sales Pred_2": 16.8370384,
         "RSE2": 15.500271363074564,
         "_deepnote_index_column": 4
        },
        {
         "TV": 8.7,
         "Radio": 48.9,
         "Newspaper": 75,
         "Sales": 7.2,
         "Sales Pred": 7.4461659,
         "RSE": 0.0605976503228097,
         "Sales Pred_2": 9.4994117,
         "RSE2": 5.2872941660968875,
         "_deepnote_index_column": 5
        },
        {
         "TV": 57.5,
         "Radio": 32.8,
         "Newspaper": 23.5,
         "Sales": 11.8,
         "Sales Pred": 9.7659715,
         "RSE": 4.1372719388122565,
         "Sales Pred_2": 9.510902,
         "RSE2": 5.239969653604004,
         "_deepnote_index_column": 6
        },
        {
         "TV": 120.2,
         "Radio": 19.6,
         "Newspaper": 11.6,
         "Sales": 13.2,
         "Sales Pred": 12.7465414,
         "RSE": 0.20562470191395943,
         "Sales Pred_2": 11.9253886,
         "RSE2": 1.6246342210099587,
         "_deepnote_index_column": 7
        },
        {
         "TV": 8.6,
         "Radio": 2.1,
         "Newspaper": 1,
         "Sales": 4.8,
         "Sales Pred": 7.441412199999999,
         "RSE": 6.977058410308838,
         "Sales Pred_2": 6.2225156,
         "RSE2": 2.0235506322433614,
         "_deepnote_index_column": 8
        },
        {
         "TV": 199.8,
         "Radio": 2.6,
         "Newspaper": 21.2,
         "Sales": 10.6,
         "Sales Pred": 16.530486600000003,
         "RSE": 35.170671312779604,
         "Sales Pred_2": 16.0832106,
         "RSE2": 30.065598483952375,
         "_deepnote_index_column": 9
        },
        {
         "TV": 66.1,
         "Radio": 5.8,
         "Newspaper": 24.2,
         "Sales": 8.6,
         "Sales Pred": 10.1747897,
         "RSE": 2.4799625992260905,
         "Sales Pred_2": 9.9452039,
         "RSE2": 1.809573532575209,
         "_deepnote_index_column": 10
        },
        {
         "TV": 214.7,
         "Radio": 24,
         "Newspaper": 4,
         "Sales": 17.4,
         "Sales Pred": 17.2387879,
         "RSE": 0.02598934118641006,
         "Sales Pred_2": 16.0214687,
         "RSE2": 1.9003485450796866,
         "_deepnote_index_column": 11
        },
        {
         "TV": 23.8,
         "Radio": 35.1,
         "Newspaper": 65.9,
         "Sales": 9.2,
         "Sales Pred": 8.1639746,
         "RSE": 1.0733486294451595,
         "Sales Pred_2": 9.8052239,
         "RSE2": 0.36629596913121043,
         "_deepnote_index_column": 12
        },
        {
         "TV": 97.5,
         "Radio": 7.6,
         "Newspaper": 7.2,
         "Sales": 9.7,
         "Sales Pred": 11.667451499999999,
         "RSE": 3.870865404852247,
         "Sales Pred_2": 10.6661723,
         "RSE2": 0.9334889132872904,
         "_deepnote_index_column": 13
        },
        {
         "TV": 204.1,
         "Radio": 32.9,
         "Newspaper": 46,
         "Sales": 19,
         "Sales Pred": 16.7348957,
         "RSE": 5.130697489878494,
         "Sales Pred_2": 17.3815161,
         "RSE2": 2.6194901345592134,
         "_deepnote_index_column": 14
        },
        {
         "TV": 195.4,
         "Radio": 47.7,
         "Newspaper": 52.9,
         "Sales": 22.4,
         "Sales Pred": 16.321323800000002,
         "RSE": 36.9503043444464,
         "Sales Pred_2": 17.278588499999998,
         "RSE2": 26.228855752332258,
         "_deepnote_index_column": 15
        },
        {
         "TV": 67.8,
         "Radio": 36.6,
         "Newspaper": 114,
         "Sales": 12.5,
         "Sales Pred": 10.2556026,
         "RSE": 5.037319689126762,
         "Sales Pred_2": 13.995801799999999,
         "RSE2": 2.2374230248832365,
         "_deepnote_index_column": 16
        },
        {
         "TV": 281.4,
         "Radio": 39.6,
         "Newspaper": 55.8,
         "Sales": 24.4,
         "Sales Pred": 20.409505799999998,
         "RSE": 15.924043960233645,
         "Sales Pred_2": 21.4403096,
         "RSE2": 8.759767263852156,
         "_deepnote_index_column": 17
        },
        {
         "TV": 69.2,
         "Radio": 20.5,
         "Newspaper": 18.3,
         "Sales": 11.3,
         "Sales Pred": 10.3221544,
         "RSE": 0.9561820174393604,
         "Sales Pred_2": 9.829704900000001,
         "RSE2": 2.1617676810840085,
         "_deepnote_index_column": 18
        },
        {
         "TV": 147.3,
         "Radio": 23.9,
         "Newspaper": 19.1,
         "Sales": 14.6,
         "Sales Pred": 14.034794100000001,
         "RSE": 0.31945770939480855,
         "Sales Pred_2": 13.528048200000002,
         "RSE2": 1.149080661523234,
         "_deepnote_index_column": 19
        },
        {
         "TV": 218.4,
         "Radio": 27.7,
         "Newspaper": 53.4,
         "Sales": 18,
         "Sales Pred": 17.4146748,
         "RSE": 0.34260558975503974,
         "Sales Pred_2": 18.379421,
         "RSE2": 0.1439602952410005,
         "_deepnote_index_column": 20
        },
        {
         "TV": 237.4,
         "Radio": 5.1,
         "Newspaper": 23.5,
         "Sales": 12.5,
         "Sales Pred": 18.317877799999998,
         "RSE": 33.847702095732814,
         "Sales Pred_2": 17.9483919,
         "RSE2": 29.68497429598562,
         "_deepnote_index_column": 21
        },
        {
         "TV": 13.2,
         "Radio": 15.9,
         "Newspaper": 49.6,
         "Sales": 5.6,
         "Sales Pred": 7.660082399999999,
         "RSE": 4.243939494789759,
         "Sales Pred_2": 8.5873036,
         "RSE2": 8.923982798572963,
         "_deepnote_index_column": 22
        },
        {
         "TV": 228.3,
         "Radio": 16.9,
         "Newspaper": 26.2,
         "Sales": 15.5,
         "Sales Pred": 17.8852911,
         "RSE": 5.68961363173921,
         "Sales Pred_2": 17.6409841,
         "RSE2": 4.583812916452813,
         "_deepnote_index_column": 23
        },
        {
         "TV": 62.3,
         "Radio": 12.6,
         "Newspaper": 18.3,
         "Sales": 9.7,
         "Sales Pred": 9.9941491,
         "RSE": 0.08652369303081016,
         "Sales Pred_2": 9.506088,
         "RSE2": 0.03760186374399969,
         "_deepnote_index_column": 24
        },
        {
         "TV": 262.9,
         "Radio": 3.5,
         "Newspaper": 19.5,
         "Sales": 12,
         "Sales Pred": 19.5300713,
         "RSE": 56.70197378308368,
         "Sales Pred_2": 18.9674914,
         "RSE2": 48.54593640907396,
         "_deepnote_index_column": 25
        },
        {
         "TV": 142.9,
         "Radio": 29.3,
         "Newspaper": 12.6,
         "Sales": 15,
         "Sales Pred": 13.825631300000001,
         "RSE": 1.379141843539687,
         "Sales Pred_2": 13.0342603,
         "RSE2": 3.864132568156091,
         "_deepnote_index_column": 26
        },
        {
         "TV": 240.1,
         "Radio": 16.7,
         "Newspaper": 22.9,
         "Sales": 15.9,
         "Sales Pred": 18.4462277,
         "RSE": 6.483275500247296,
         "Sales Pred_2": 18.0484932,
         "RSE2": 4.616023030446236,
         "_deepnote_index_column": 27
        },
        {
         "TV": 248.8,
         "Radio": 27.1,
         "Newspaper": 22.9,
         "Sales": 18.9,
         "Sales Pred": 18.859799600000002,
         "RSE": 0.0016160721601596985,
         "Sales Pred_2": 18.4565319,
         "RSE2": 0.19666395571760728,
         "_deepnote_index_column": 28
        },
        {
         "TV": 70.6,
         "Radio": 16,
         "Newspaper": 40.8,
         "Sales": 10.5,
         "Sales Pred": 10.3887062,
         "RSE": 0.012386309918440074,
         "Sales Pred_2": 10.890293799999998,
         "RSE2": 0.1523292503184388,
         "_deepnote_index_column": 29
        },
        {
         "TV": 292.9,
         "Radio": 28.3,
         "Newspaper": 43.2,
         "Sales": 21.4,
         "Sales Pred": 20.956181299999997,
         "RSE": 0.1969750384696912,
         "Sales Pred_2": 21.422511699999998,
         "RSE2": 0.000506776636889956,
         "_deepnote_index_column": 30
        },
        {
         "TV": 112.9,
         "Radio": 17.4,
         "Newspaper": 38.6,
         "Sales": 11.9,
         "Sales Pred": 12.3995213,
         "RSE": 0.2495215291536896,
         "Sales Pred_2": 12.776924300000001,
         "RSE2": 0.7689962279304912,
         "_deepnote_index_column": 31
        },
        {
         "TV": 97.2,
         "Radio": 1.5,
         "Newspaper": 30,
         "Sales": 9.6,
         "Sales Pred": 11.6531904,
         "RSE": 4.21559081865216,
         "Sales Pred_2": 11.6602952,
         "RSE2": 4.244816311143042,
         "_deepnote_index_column": 32
        },
        {
         "TV": 265.6,
         "Radio": 20,
         "Newspaper": 0.3,
         "Sales": 17.4,
         "Sales Pred": 19.6584212,
         "RSE": 5.1004663166094435,
         "Sales Pred_2": 18.245119300000002,
         "RSE2": 0.7142266312324966,
         "_deepnote_index_column": 33
        },
        {
         "TV": 95.7,
         "Radio": 1.4,
         "Newspaper": 7.4,
         "Sales": 9.5,
         "Sales Pred": 11.5818849,
         "RSE": 4.334244736848012,
         "Sales Pred_2": 10.5905943,
         "RSE2": 1.1893959271924885,
         "_deepnote_index_column": 34
        },
        {
         "TV": 290.7,
         "Radio": 4.1,
         "Newspaper": 8.5,
         "Sales": 12.8,
         "Sales Pred": 20.8515999,
         "RSE": 64.82826094968,
         "Sales Pred_2": 19.784930199999998,
         "RSE2": 48.789249898872,
         "_deepnote_index_column": 35
        },
        {
         "TV": 266.9,
         "Radio": 43.8,
         "Newspaper": 5,
         "Sales": 25.4,
         "Sales Pred": 19.7202193,
         "RSE": 32.259908800092475,
         "Sales Pred_2": 18.513919899999998,
         "RSE2": 47.418099143616026,
         "_deepnote_index_column": 36
        },
        {
         "TV": 74.7,
         "Radio": 49.4,
         "Newspaper": 45.7,
         "Sales": 14.7,
         "Sales Pred": 10.5836079,
         "RSE": 16.9446839209424,
         "Sales Pred_2": 11.299261000000001,
         "RSE2": 11.565025746120986,
         "_deepnote_index_column": 37
        },
        {
         "TV": 43.1,
         "Radio": 26.7,
         "Newspaper": 35.1,
         "Sales": 10.1,
         "Sales Pred": 9.0814387,
         "RSE": 1.03746712185769,
         "Sales Pred_2": 9.348468,
         "RSE2": 0.5648003470239988,
         "_deepnote_index_column": 38
        },
        {
         "TV": 228,
         "Radio": 37.7,
         "Newspaper": 32,
         "Sales": 21.5,
         "Sales Pred": 17.87103,
         "RSE": 13.169423260899991,
         "Sales Pred_2": 17.883384,
         "RSE2": 13.079911291456003,
         "_deepnote_index_column": 39
        },
        {
         "TV": 202.5,
         "Radio": 22.3,
         "Newspaper": 31.6,
         "Sales": 16.6,
         "Sales Pred": 16.6588365,
         "RSE": 0.0034617337322497862,
         "Sales Pred_2": 16.6697209,
         "RSE2": 0.004861003896810012,
         "_deepnote_index_column": 40
        },
        {
         "TV": 177,
         "Radio": 33.4,
         "Newspaper": 38.7,
         "Sales": 17.1,
         "Sales Pred": 15.446643,
         "RSE": 2.733589369449005,
         "Sales Pred_2": 15.787700300000001,
         "RSE2": 1.7221305026200913,
         "_deepnote_index_column": 41
        },
        {
         "TV": 293.6,
         "Radio": 27.7,
         "Newspaper": 1.8,
         "Sales": 20.7,
         "Sales Pred": 20.989457200000004,
         "RSE": 0.08378547063184268,
         "Sales Pred_2": 19.624675800000002,
         "RSE2": 1.1563221351056339,
         "_deepnote_index_column": 42
        },
        {
         "TV": 206.9,
         "Radio": 8.4,
         "Newspaper": 26.4,
         "Sales": 12.9,
         "Sales Pred": 16.8679993,
         "RSE": 15.745018444800495,
         "Sales Pred_2": 16.6461465,
         "RSE2": 14.03361359946225,
         "_deepnote_index_column": 43
        },
        {
         "TV": 25.1,
         "Radio": 25.7,
         "Newspaper": 43.3,
         "Sales": 8.5,
         "Sales Pred": 8.2257727,
         "RSE": 0.07520061206528986,
         "Sales Pred_2": 8.8668458,
         "RSE2": 0.13457584097764008,
         "_deepnote_index_column": 44
        },
        {
         "TV": 175.1,
         "Radio": 22.5,
         "Newspaper": 31.5,
         "Sales": 14.9,
         "Sales Pred": 15.3563227,
         "RSE": 0.20823040653528946,
         "Sales Pred_2": 15.380211599999999,
         "RSE2": 0.2306031807745588,
         "_deepnote_index_column": 45
        },
        {
         "TV": 89.7,
         "Radio": 9.9,
         "Newspaper": 35.7,
         "Sales": 10.6,
         "Sales Pred": 11.296662900000001,
         "RSE": 0.48533919623641214,
         "Sales Pred_2": 11.560586,
         "RSE2": 0.922725463396002,
         "_deepnote_index_column": 46
        },
        {
         "TV": 239.9,
         "Radio": 41.5,
         "Newspaper": 18.5,
         "Sales": 23.2,
         "Sales Pred": 18.4367203,
         "RSE": 22.68883350043207,
         "Sales Pred_2": 17.844549400000002,
         "RSE2": 28.680851129040335,
         "_deepnote_index_column": 47
        },
        {
         "TV": 227.2,
         "Radio": 15.8,
         "Newspaper": 49.9,
         "Sales": 14.8,
         "Sales Pred": 17.8330004,
         "RSE": 9.199091426400154,
         "Sales Pred_2": 18.6373833,
         "RSE2": 14.725510591118883,
         "_deepnote_index_column": 48
        },
        {
         "TV": 66.9,
         "Radio": 11.7,
         "Newspaper": 36.8,
         "Sales": 9.7,
         "Sales Pred": 10.2128193,
         "RSE": 0.26298363445249034,
         "Sales Pred_2": 10.5398841,
         "RSE2": 0.7054053014328113,
         "_deepnote_index_column": 49
        },
        {
         "TV": 199.8,
         "Radio": 3.1,
         "Newspaper": 34.6,
         "Sales": 11.4,
         "Sales Pred": 16.530486600000003,
         "RSE": 26.32189275277959,
         "Sales Pred_2": 16.6757452,
         "RSE2": 27.833487415323052,
         "_deepnote_index_column": 50
        },
        {
         "TV": 100.4,
         "Radio": 9.6,
         "Newspaper": 3.6,
         "Sales": 10.7,
         "Sales Pred": 11.805308799999999,
         "RSE": 1.221707543357439,
         "Sales Pred_2": 10.6429968,
         "RSE2": 0.0032493648102398516,
         "_deepnote_index_column": 51
        },
        {
         "TV": 216.4,
         "Radio": 41.7,
         "Newspaper": 39.6,
         "Sales": 22.6,
         "Sales Pred": 17.3196008,
         "RSE": 27.882615711360657,
         "Sales Pred_2": 17.6753968,
         "RSE2": 24.25171667745024,
         "_deepnote_index_column": 52
        },
        {
         "TV": 182.6,
         "Radio": 46.2,
         "Newspaper": 58.7,
         "Sales": 21.2,
         "Sales Pred": 15.7128502,
         "RSE": 30.10881292764003,
         "Sales Pred_2": 16.9347259,
         "RSE2": 18.1925631481308,
         "_deepnote_index_column": 53
        },
        {
         "TV": 262.7,
         "Radio": 28.8,
         "Newspaper": 15.9,
         "Sales": 20.2,
         "Sales Pred": 19.5205639,
         "RSE": 0.4616334139832103,
         "Sales Pred_2": 18.798922799999996,
         "RSE2": 1.9630173203598489,
         "_deepnote_index_column": 54
        },
        {
         "TV": 198.9,
         "Radio": 49.4,
         "Newspaper": 60,
         "Sales": 23.7,
         "Sales Pred": 16.4877033,
         "RSE": 52.01722368883088,
         "Sales Pred_2": 17.7566969,
         "RSE2": 35.32285173846959,
         "_deepnote_index_column": 55
        },
        {
         "TV": 7.3,
         "Radio": 28.1,
         "Newspaper": 41.4,
         "Sales": 5.5,
         "Sales Pred": 7.3796140999999995,
         "RSE": 3.5329491649188083,
         "Sales Pred_2": 7.9479919,
         "RSE2": 5.992664342465609,
         "_deepnote_index_column": 56
        },
        {
         "TV": 136.2,
         "Radio": 19.2,
         "Newspaper": 16.6,
         "Sales": 13.2,
         "Sales Pred": 13.5071334,
         "RSE": 0.09433092539556089,
         "Sales Pred_2": 12.8968996,
         "RSE2": 0.09186985248015996,
         "_deepnote_index_column": 57
        },
        {
         "TV": 210.8,
         "Radio": 49.6,
         "Newspaper": 37.7,
         "Sales": 23.8,
         "Sales Pred": 17.0533936,
         "RSE": 45.516697916520975,
         "Sales Pred_2": 17.3287351,
         "RSE2": 41.87726940597203,
         "_deepnote_index_column": 58
        },
        {
         "TV": 210.7,
         "Radio": 29.5,
         "Newspaper": 9.3,
         "Sales": 18.4,
         "Sales Pred": 17.048639899999998,
         "RSE": 1.8261741198720123,
         "Sales Pred_2": 16.0682254,
         "RSE2": 5.437172785205156,
         "_deepnote_index_column": 59
        },
        {
         "TV": 53.5,
         "Radio": 2,
         "Newspaper": 21.4,
         "Sales": 8.1,
         "Sales Pred": 9.5758235,
         "RSE": 2.178055003152252,
         "Sales Pred_2": 9.2304381,
         "RSE2": 1.2778902979316122,
         "_deepnote_index_column": 60
        },
        {
         "TV": 261.3,
         "Radio": 42.7,
         "Newspaper": 54.7,
         "Sales": 24.2,
         "Sales Pred": 19.4540121,
         "RSE": 22.524401146946403,
         "Sales Pred_2": 20.4489586,
         "RSE2": 14.070311584513947,
         "_deepnote_index_column": 61
        }
       ],
       "rows_bottom": [
        {
         "TV": 273.7,
         "Radio": 28.9,
         "Newspaper": 59.7,
         "Sales": 20.8,
         "Sales Pred": 20.0434709,
         "RSE": 0.5723362791468124,
         "Sales Pred_2": 21.251625999999998,
         "RSE2": 0.20396604387599768,
         "_deepnote_index_column": 137
        },
        {
         "TV": 43,
         "Radio": 25.9,
         "Newspaper": 20.5,
         "Sales": 9.6,
         "Sales Pred": 9.076685,
         "RSE": 0.2738585892250002,
         "Sales Pred_2": 8.6981805,
         "RSE2": 0.8132784105802504,
         "_deepnote_index_column": 138
        },
        {
         "TV": 184.9,
         "Radio": 43.9,
         "Newspaper": 1.7,
         "Sales": 20.7,
         "Sales Pred": 15.822185300000001,
         "RSE": 23.793076247536074,
         "Sales Pred_2": 14.5221152,
         "RSE2": 38.166260602071034,
         "_deepnote_index_column": 139
        },
        {
         "TV": 73.4,
         "Radio": 17,
         "Newspaper": 12.9,
         "Sales": 10.9,
         "Sales Pred": 10.5218098,
         "RSE": 0.14302782737604045,
         "Sales Pred_2": 9.7879065,
         "RSE2": 1.2367519527422506,
         "_deepnote_index_column": 140
        },
        {
         "TV": 193.7,
         "Radio": 35.4,
         "Newspaper": 75.6,
         "Sales": 19.2,
         "Sales Pred": 16.2405109,
         "RSE": 8.758575733018803,
         "Sales Pred_2": 18.2026281,
         "RSE2": 0.994750706909612,
         "_deepnote_index_column": 141
        },
        {
         "TV": 220.5,
         "Radio": 33.2,
         "Newspaper": 37.9,
         "Sales": 20.1,
         "Sales Pred": 17.5145025,
         "RSE": 6.684797322506262,
         "Sales Pred_2": 17.7925186,
         "RSE2": 5.3244704113459616,
         "_deepnote_index_column": 142
        },
        {
         "TV": 104.6,
         "Radio": 5.7,
         "Newspaper": 34.4,
         "Sales": 10.4,
         "Sales Pred": 12.0049642,
         "RSE": 2.5759100832816384,
         "Sales Pred_2": 12.2019262,
         "RSE2": 3.246938030246442,
         "_deepnote_index_column": 143
        },
        {
         "TV": 96.2,
         "Radio": 14.8,
         "Newspaper": 38.9,
         "Sales": 11.4,
         "Sales Pred": 11.6056534,
         "RSE": 0.04229332093155967,
         "Sales Pred_2": 12.0069433,
         "RSE2": 0.36838016941488916,
         "_deepnote_index_column": 144
        },
        {
         "TV": 140.3,
         "Radio": 1.9,
         "Newspaper": 9,
         "Sales": 10.3,
         "Sales Pred": 13.7020351,
         "RSE": 11.573842821632004,
         "Sales Pred_2": 12.7531293,
         "RSE2": 6.017843362518484,
         "_deepnote_index_column": 145
        },
        {
         "TV": 240.1,
         "Radio": 7.3,
         "Newspaper": 8.7,
         "Sales": 13.2,
         "Sales Pred": 18.4462277,
         "RSE": 27.522905080247313,
         "Sales Pred_2": 17.420583399999998,
         "RSE2": 17.81332423635555,
         "_deepnote_index_column": 146
        },
        {
         "TV": 243.2,
         "Radio": 49,
         "Newspaper": 44.3,
         "Sales": 25.4,
         "Sales Pred": 18.5935924,
         "RSE": 46.32718441733776,
         "Sales Pred_2": 19.140172899999996,
         "RSE2": 39.18543532189444,
         "_deepnote_index_column": 147
        },
        {
         "TV": 38,
         "Radio": 40.3,
         "Newspaper": 11.9,
         "Sales": 10.9,
         "Sales Pred": 8.839,
         "RSE": 4.247720999999999,
         "Sales Pred_2": 8.0833921,
         "RSE2": 7.933280062342416,
         "_deepnote_index_column": 148
        },
        {
         "TV": 44.7,
         "Radio": 25.8,
         "Newspaper": 20.6,
         "Sales": 10.1,
         "Sales Pred": 9.1574979,
         "RSE": 0.8883102085044109,
         "Sales Pred_2": 8.7823341,
         "RSE2": 1.7362434240228093,
         "_deepnote_index_column": 149
        },
        {
         "TV": 280.7,
         "Radio": 13.9,
         "Newspaper": 37,
         "Sales": 16.1,
         "Sales Pred": 20.3762299,
         "RSE": 18.286142157653984,
         "Sales Pred_2": 20.5761617,
         "RSE2": 20.036023564546877,
         "_deepnote_index_column": 150
        },
        {
         "TV": 121,
         "Radio": 8.4,
         "Newspaper": 48.7,
         "Sales": 11.6,
         "Sales Pred": 12.784571,
         "RSE": 1.4032084540410001,
         "Sales Pred_2": 13.6034343,
         "RSE2": 4.013748994416491,
         "_deepnote_index_column": 151
        },
        {
         "TV": 197.6,
         "Radio": 23.3,
         "Newspaper": 14.2,
         "Sales": 16.6,
         "Sales Pred": 16.4259052,
         "RSE": 0.030308999387040847,
         "Sales Pred_2": 15.670495399999998,
         "RSE2": 0.8639788014211658,
         "_deepnote_index_column": 152
        },
        {
         "TV": 171.3,
         "Radio": 39.7,
         "Newspaper": 37.7,
         "Sales": 19,
         "Sales Pred": 15.175682100000001,
         "RSE": 14.6254074002604,
         "Sales Pred_2": 15.4761456,
         "RSE2": 12.417549832399356,
         "_deepnote_index_column": 153
        },
        {
         "TV": 187.8,
         "Radio": 21.1,
         "Newspaper": 9.5,
         "Sales": 15.6,
         "Sales Pred": 15.960042600000001,
         "RSE": 0.1296306738147612,
         "Sales Pred_2": 15.0030363,
         "RSE2": 0.35636565911768986,
         "_deepnote_index_column": 154
        },
        {
         "TV": 4.1,
         "Radio": 11.6,
         "Newspaper": 5.7,
         "Sales": 3.2,
         "Sales Pred": 7.2274956999999995,
         "RSE": 16.220721613518485,
         "Sales Pred_2": 6.2192904,
         "RSE2": 9.116114519532161,
         "_deepnote_index_column": 155
        },
        {
         "TV": 93.9,
         "Radio": 43.5,
         "Newspaper": 50.5,
         "Sales": 15.3,
         "Sales Pred": 11.4963183,
         "RSE": 14.467994474914892,
         "Sales Pred_2": 12.4120114,
         "RSE2": 8.34047815372996,
         "_deepnote_index_column": 156
        },
        {
         "TV": 149.8,
         "Radio": 1.3,
         "Newspaper": 24.3,
         "Sales": 10.1,
         "Sales Pred": 14.1536366,
         "RSE": 16.431969684859567,
         "Sales Pred_2": 13.875239500000001,
         "RSE2": 14.252433282360261,
         "_deepnote_index_column": 157
        },
        {
         "TV": 11.7,
         "Radio": 36.9,
         "Newspaper": 45.2,
         "Sales": 7.3,
         "Sales Pred": 7.588776899999999,
         "RSE": 0.08339209797360962,
         "Sales Pred_2": 8.3223885,
         "RSE2": 1.0452782449322517,
         "_deepnote_index_column": 158
        },
        {
         "TV": 131.7,
         "Radio": 18.4,
         "Newspaper": 34.6,
         "Sales": 12.9,
         "Sales Pred": 13.2932169,
         "RSE": 0.15461953044560903,
         "Sales Pred_2": 13.481787099999998,
         "RSE2": 0.33847622972640756,
         "_deepnote_index_column": 159
        },
        {
         "TV": 172.5,
         "Radio": 18.1,
         "Newspaper": 30.7,
         "Sales": 14.4,
         "Sales Pred": 15.2327265,
         "RSE": 0.6934334238022495,
         "Sales Pred_2": 15.2228938,
         "RSE2": 0.6771542060784387,
         "_deepnote_index_column": 160
        },
        {
         "TV": 85.7,
         "Radio": 35.8,
         "Newspaper": 49.3,
         "Sales": 13.3,
         "Sales Pred": 11.1065149,
         "RSE": 4.811376883922011,
         "Sales Pred_2": 11.9743604,
         "RSE2": 1.7573203490881615,
         "_deepnote_index_column": 161
        },
        {
         "TV": 188.4,
         "Radio": 18.1,
         "Newspaper": 25.6,
         "Sales": 14.9,
         "Sales Pred": 15.9885648,
         "RSE": 1.1849733237990407,
         "Sales Pred_2": 15.7431028,
         "RSE2": 0.7108223313678408,
         "_deepnote_index_column": 162
        },
        {
         "TV": 163.5,
         "Radio": 36.8,
         "Newspaper": 7.4,
         "Sales": 18,
         "Sales Pred": 14.8048935,
         "RSE": 10.208705546342248,
         "Sales Pred_2": 13.7704821,
         "RSE2": 17.888821666420405,
         "_deepnote_index_column": 163
        },
        {
         "TV": 117.2,
         "Radio": 14.7,
         "Newspaper": 5.4,
         "Sales": 11.9,
         "Sales Pred": 12.6039304,
         "RSE": 0.4955180080441587,
         "Sales Pred_2": 11.5105278,
         "RSE2": 0.15168859457284012,
         "_deepnote_index_column": 164
        },
        {
         "TV": 234.5,
         "Radio": 3.4,
         "Newspaper": 84.8,
         "Sales": 11.9,
         "Sales Pred": 18.180020499999998,
         "RSE": 39.43865748042022,
         "Sales Pred_2": 20.5230037,
         "RSE2": 74.35619281021368,
         "_deepnote_index_column": 165
        },
        {
         "TV": 17.9,
         "Radio": 37.6,
         "Newspaper": 21.6,
         "Sales": 8,
         "Sales Pred": 7.8835063,
         "RSE": 0.013570782139690086,
         "Sales Pred_2": 7.5696063,
         "RSE2": 0.1852387369996898,
         "_deepnote_index_column": 166
        },
        {
         "TV": 206.8,
         "Radio": 5.2,
         "Newspaper": 19.4,
         "Sales": 12.2,
         "Sales Pred": 16.8632456,
         "RSE": 21.745859525919357,
         "Sales Pred_2": 16.3319234,
         "RSE2": 17.072790983467574,
         "_deepnote_index_column": 167
        },
        {
         "TV": 215.4,
         "Radio": 23.6,
         "Newspaper": 57.6,
         "Sales": 17.1,
         "Sales Pred": 17.272063799999998,
         "RSE": 0.029605951270438812,
         "Sales Pred_2": 18.4244378,
         "RSE2": 1.7541354860688356,
         "_deepnote_index_column": 168
        },
        {
         "TV": 284.3,
         "Radio": 10.6,
         "Newspaper": 6.4,
         "Sales": 15,
         "Sales Pred": 20.5473631,
         "RSE": 30.77323736324159,
         "Sales Pred_2": 19.3919039,
         "RSE2": 19.2888198668352,
         "_deepnote_index_column": 169
        },
        {
         "TV": 50,
         "Radio": 11.6,
         "Newspaper": 18.4,
         "Sales": 8.4,
         "Sales Pred": 9.409444,
         "RSE": 1.0189771891360004,
         "Sales Pred_2": 8.933627600000001,
         "RSE2": 0.28475841548176095,
         "_deepnote_index_column": 170
        },
        {
         "TV": 164.5,
         "Radio": 20.9,
         "Newspaper": 47.4,
         "Sales": 14.5,
         "Sales Pred": 14.8524305,
         "RSE": 0.12420725733025037,
         "Sales Pred_2": 15.586143100000001,
         "RSE2": 1.1797068336776122,
         "_deepnote_index_column": 171
        },
        {
         "TV": 19.6,
         "Radio": 20.1,
         "Newspaper": 17,
         "Sales": 7.6,
         "Sales Pred": 7.964319199999999,
         "RSE": 0.1327284794886398,
         "Sales Pred_2": 7.4459306000000005,
         "RSE2": 0.023737380016359732,
         "_deepnote_index_column": 172
        },
        {
         "TV": 168.4,
         "Radio": 7.1,
         "Newspaper": 12.8,
         "Sales": 11.7,
         "Sales Pred": 15.037824800000001,
         "RSE": 11.141074395495052,
         "Sales Pred_2": 14.2390796,
         "RSE2": 6.446925215136164,
         "_deepnote_index_column": 173
        },
        {
         "TV": 222.4,
         "Radio": 3.4,
         "Newspaper": 13.1,
         "Sales": 11.5,
         "Sales Pred": 17.6048228,
         "RSE": 37.26886141939985,
         "Sales Pred_2": 16.7849993,
         "RSE2": 27.93121760100048,
         "_deepnote_index_column": 174
        },
        {
         "TV": 276.9,
         "Radio": 48.9,
         "Newspaper": 41.8,
         "Sales": 27,
         "Sales Pred": 20.1955893,
         "RSE": 46.300004974274465,
         "Sales Pred_2": 20.610189099999996,
         "RSE2": 40.829683337758865,
         "_deepnote_index_column": 175
        },
        {
         "TV": 248.4,
         "Radio": 30.2,
         "Newspaper": 20.3,
         "Sales": 20.2,
         "Sales Pred": 18.8407848,
         "RSE": 1.847465959911034,
         "Sales Pred_2": 18.3228021,
         "RSE2": 3.523871955764405,
         "_deepnote_index_column": 176
        },
        {
         "TV": 170.2,
         "Radio": 7.8,
         "Newspaper": 35.2,
         "Sales": 11.7,
         "Sales Pred": 15.1233914,
         "RSE": 11.719608677593959,
         "Sales Pred_2": 15.314007,
         "RSE2": 13.061046596049007,
         "_deepnote_index_column": 177
        },
        {
         "TV": 276.7,
         "Radio": 2.3,
         "Newspaper": 23.7,
         "Sales": 11.8,
         "Sales Pred": 20.186081899999998,
         "RSE": 70.32636963350757,
         "Sales Pred_2": 19.800445,
         "RSE2": 64.00712019802499,
         "_deepnote_index_column": 178
        },
        {
         "TV": 165.6,
         "Radio": 10,
         "Newspaper": 17.6,
         "Sales": 12.6,
         "Sales Pred": 14.904721200000001,
         "RSE": 5.3117398097294455,
         "Sales Pred_2": 14.320008,
         "RSE2": 2.958427520064,
         "_deepnote_index_column": 179
        },
        {
         "TV": 156.6,
         "Radio": 2.6,
         "Newspaper": 8.3,
         "Sales": 10.5,
         "Sales Pred": 14.4768882,
         "RSE": 15.815639755299236,
         "Sales Pred_2": 13.4866623,
         "RSE2": 8.920151694241294,
         "_deepnote_index_column": 180
        },
        {
         "TV": 218.5,
         "Radio": 5.4,
         "Newspaper": 27.4,
         "Sales": 12.2,
         "Sales Pred": 17.419428500000002,
         "RSE": 27.24243386661228,
         "Sales Pred_2": 17.234417099999998,
         "RSE2": 25.3453555367724,
         "_deepnote_index_column": 181
        },
        {
         "TV": 56.2,
         "Radio": 5.7,
         "Newspaper": 29.7,
         "Sales": 8.7,
         "Sales Pred": 9.7041734,
         "RSE": 1.0083642172675618,
         "Sales Pred_2": 9.7240885,
         "RSE2": 1.0487572558322527,
         "_deepnote_index_column": 182
        },
        {
         "TV": 287.6,
         "Radio": 43,
         "Newspaper": 71.8,
         "Sales": 26.2,
         "Sales Pred": 20.7042352,
         "RSE": 30.20343073691904,
         "Sales Pred_2": 22.4385998,
         "RSE2": 14.148131464560045,
         "_deepnote_index_column": 183
        },
        {
         "TV": 253.8,
         "Radio": 21.3,
         "Newspaper": 30,
         "Sales": 17.6,
         "Sales Pred": 19.0974846,
         "RSE": 2.24246012723716,
         "Sales Pred_2": 19.004991800000003,
         "RSE2": 1.9740019580672434,
         "_deepnote_index_column": 184
        },
        {
         "TV": 205,
         "Radio": 45.1,
         "Newspaper": 19.6,
         "Sales": 22.6,
         "Sales Pred": 16.777679,
         "RSE": 33.899421827041024,
         "Sales Pred_2": 16.2563454,
         "RSE2": 40.24195368410117,
         "_deepnote_index_column": 185
        },
        {
         "TV": 139.5,
         "Radio": 2.1,
         "Newspaper": 26.6,
         "Sales": 10.3,
         "Sales Pred": 13.6640055,
         "RSE": 11.316533004030246,
         "Sales Pred_2": 13.4938629,
         "RSE2": 10.200760223996404,
         "_deepnote_index_column": 186
        },
        {
         "TV": 191.1,
         "Radio": 28.7,
         "Newspaper": 18.2,
         "Sales": 17.3,
         "Sales Pred": 16.116914700000002,
         "RSE": 1.3996908270760862,
         "Sales Pred_2": 15.542514899999999,
         "RSE2": 3.0887538767220173,
         "_deepnote_index_column": 187
        },
        {
         "TV": 286,
         "Radio": 13.9,
         "Newspaper": 3.7,
         "Sales": 15.9,
         "Sales Pred": 20.628176,
         "RSE": 22.355648286975995,
         "Sales Pred_2": 19.3522443,
         "RSE2": 11.91799070688248,
         "_deepnote_index_column": 188
        },
        {
         "TV": 18.7,
         "Radio": 12.1,
         "Newspaper": 23.4,
         "Sales": 6.7,
         "Sales Pred": 7.921535899999999,
         "RSE": 1.4921499549888082,
         "Sales Pred_2": 7.686721299999999,
         "RSE2": 0.9736189238736885,
         "_deepnote_index_column": 189
        },
        {
         "TV": 39.5,
         "Radio": 41.1,
         "Newspaper": 5.8,
         "Sales": 10.8,
         "Sales Pred": 8.9103055,
         "RSE": 3.5709453033302534,
         "Sales Pred_2": 7.8840077,
         "RSE2": 8.503011093659296,
         "_deepnote_index_column": 190
        },
        {
         "TV": 75.5,
         "Radio": 10.8,
         "Newspaper": 6,
         "Sales": 9.9,
         "Sales Pred": 10.6216375,
         "RSE": 0.5207606814062499,
         "Sales Pred_2": 9.5812875,
         "RSE2": 0.10157765765625011,
         "_deepnote_index_column": 191
        },
        {
         "TV": 17.2,
         "Radio": 4.1,
         "Newspaper": 31.6,
         "Sales": 5.9,
         "Sales Pred": 7.850230399999999,
         "RSE": 3.8033986130841555,
         "Sales Pred_2": 7.9789656,
         "RSE2": 4.32209796598336,
         "_deepnote_index_column": 192
        },
        {
         "TV": 166.8,
         "Radio": 42,
         "Newspaper": 3.6,
         "Sales": 19.6,
         "Sales Pred": 14.9617656,
         "RSE": 21.513218349343376,
         "Sales Pred_2": 13.7572232,
         "RSE2": 34.13804073461825,
         "_deepnote_index_column": 193
        },
        {
         "TV": 149.7,
         "Radio": 35.6,
         "Newspaper": 6,
         "Sales": 17.3,
         "Sales Pred": 14.1488829,
         "RSE": 9.929538977912413,
         "Sales Pred_2": 13.0613417,
         "RSE2": 17.966224184158897,
         "_deepnote_index_column": 194
        },
        {
         "TV": 38.2,
         "Radio": 3.7,
         "Newspaper": 13.8,
         "Sales": 7.6,
         "Sales Pred": 8.848507399999999,
         "RSE": 1.5587707278547585,
         "Sales Pred_2": 8.176788400000001,
         "RSE2": 0.3326848583745619,
         "_deepnote_index_column": 195
        },
        {
         "TV": 94.2,
         "Radio": 4.9,
         "Newspaper": 8.1,
         "Sales": 9.7,
         "Sales Pred": 11.510579400000001,
         "RSE": 3.2781977637043664,
         "Sales Pred_2": 10.551196100000002,
         "RSE2": 0.7245348006552147,
         "_deepnote_index_column": 196
        },
        {
         "TV": 177,
         "Radio": 9.3,
         "Newspaper": 6.4,
         "Sales": 12.8,
         "Sales Pred": 15.446643,
         "RSE": 7.004719169448996,
         "Sales Pred_2": 14.3594266,
         "RSE2": 2.4318113207875602,
         "_deepnote_index_column": 197
        },
        {
         "TV": 283.6,
         "Radio": 42,
         "Newspaper": 66.2,
         "Sales": 25.5,
         "Sales Pred": 20.514087200000002,
         "RSE": 24.859326449203817,
         "Sales Pred_2": 22.0033694,
         "RSE2": 12.226425552856357,
         "_deepnote_index_column": 198
        },
        {
         "TV": 232.1,
         "Radio": 8.6,
         "Newspaper": 8.7,
         "Sales": 13.4,
         "Sales Pred": 18.0659317,
         "RSE": 21.770918629064887,
         "Sales Pred_2": 17.045375399999998,
         "RSE2": 13.28876180692514,
         "_deepnote_index_column": 199
        }
       ]
      },
      "text/plain": "        TV  Radio  Newspaper  Sales  Sales Pred        RSE  Sales Pred_2  \\\n0    230.1   37.8       69.2   22.1   17.970858  17.049816     19.626823   \n1     44.5   39.3       45.1   10.4    9.147990   1.567528      9.856319   \n2     17.2   45.9       69.3    9.3    7.850230   2.101832      9.646022   \n3    151.5   41.3       58.5   18.5   14.234450  18.194921     15.467261   \n4    180.8   10.8       58.4   12.9   15.627284   7.438076     16.837038   \n..     ...    ...        ...    ...         ...        ...           ...   \n195   38.2    3.7       13.8    7.6    8.848507   1.558771      8.176788   \n196   94.2    4.9        8.1    9.7   11.510579   3.278198     10.551196   \n197  177.0    9.3        6.4   12.8   15.446643   7.004719     14.359427   \n198  283.6   42.0       66.2   25.5   20.514087  24.859326     22.003369   \n199  232.1    8.6        8.7   13.4   18.065932  21.770919     17.045375   \n\n          RSE2  \n0     6.116605  \n1     0.295589  \n2     0.119731  \n3     9.197506  \n4    15.500271  \n..         ...  \n195   0.332685  \n196   0.724535  \n197   2.431811  \n198  12.226426  \n199  13.288762  \n\n[200 rows x 8 columns]",
      "text/html": "<div>\n<style scoped>\n    .dataframe tbody tr th:only-of-type {\n        vertical-align: middle;\n    }\n\n    .dataframe tbody tr th {\n        vertical-align: top;\n    }\n\n    .dataframe thead th {\n        text-align: right;\n    }\n</style>\n<table border=\"1\" class=\"dataframe\">\n  <thead>\n    <tr style=\"text-align: right;\">\n      <th></th>\n      <th>TV</th>\n      <th>Radio</th>\n      <th>Newspaper</th>\n      <th>Sales</th>\n      <th>Sales Pred</th>\n      <th>RSE</th>\n      <th>Sales Pred_2</th>\n      <th>RSE2</th>\n    </tr>\n  </thead>\n  <tbody>\n    <tr>\n      <th>0</th>\n      <td>230.1</td>\n      <td>37.8</td>\n      <td>69.2</td>\n      <td>22.1</td>\n      <td>17.970858</td>\n      <td>17.049816</td>\n      <td>19.626823</td>\n      <td>6.116605</td>\n    </tr>\n    <tr>\n      <th>1</th>\n      <td>44.5</td>\n      <td>39.3</td>\n      <td>45.1</td>\n      <td>10.4</td>\n      <td>9.147990</td>\n      <td>1.567528</td>\n      <td>9.856319</td>\n      <td>0.295589</td>\n    </tr>\n    <tr>\n      <th>2</th>\n      <td>17.2</td>\n      <td>45.9</td>\n      <td>69.3</td>\n      <td>9.3</td>\n      <td>7.850230</td>\n      <td>2.101832</td>\n      <td>9.646022</td>\n      <td>0.119731</td>\n    </tr>\n    <tr>\n      <th>3</th>\n      <td>151.5</td>\n      <td>41.3</td>\n      <td>58.5</td>\n      <td>18.5</td>\n      <td>14.234450</td>\n      <td>18.194921</td>\n      <td>15.467261</td>\n      <td>9.197506</td>\n    </tr>\n    <tr>\n      <th>4</th>\n      <td>180.8</td>\n      <td>10.8</td>\n      <td>58.4</td>\n      <td>12.9</td>\n      <td>15.627284</td>\n      <td>7.438076</td>\n      <td>16.837038</td>\n      <td>15.500271</td>\n    </tr>\n    <tr>\n      <th>...</th>\n      <td>...</td>\n      <td>...</td>\n      <td>...</td>\n      <td>...</td>\n      <td>...</td>\n      <td>...</td>\n      <td>...</td>\n      <td>...</td>\n    </tr>\n    <tr>\n      <th>195</th>\n      <td>38.2</td>\n      <td>3.7</td>\n      <td>13.8</td>\n      <td>7.6</td>\n      <td>8.848507</td>\n      <td>1.558771</td>\n      <td>8.176788</td>\n      <td>0.332685</td>\n    </tr>\n    <tr>\n      <th>196</th>\n      <td>94.2</td>\n      <td>4.9</td>\n      <td>8.1</td>\n      <td>9.7</td>\n      <td>11.510579</td>\n      <td>3.278198</td>\n      <td>10.551196</td>\n      <td>0.724535</td>\n    </tr>\n    <tr>\n      <th>197</th>\n      <td>177.0</td>\n      <td>9.3</td>\n      <td>6.4</td>\n      <td>12.8</td>\n      <td>15.446643</td>\n      <td>7.004719</td>\n      <td>14.359427</td>\n      <td>2.431811</td>\n    </tr>\n    <tr>\n      <th>198</th>\n      <td>283.6</td>\n      <td>42.0</td>\n      <td>66.2</td>\n      <td>25.5</td>\n      <td>20.514087</td>\n      <td>24.859326</td>\n      <td>22.003369</td>\n      <td>12.226426</td>\n    </tr>\n    <tr>\n      <th>199</th>\n      <td>232.1</td>\n      <td>8.6</td>\n      <td>8.7</td>\n      <td>13.4</td>\n      <td>18.065932</td>\n      <td>21.770919</td>\n      <td>17.045375</td>\n      <td>13.288762</td>\n    </tr>\n  </tbody>\n</table>\n<p>200 rows × 8 columns</p>\n</div>"
     },
     "metadata": {}
    }
   ]
  },
  {
   "cell_type": "code",
   "metadata": {
    "tags": [],
    "deepnote_to_be_reexecuted": false,
    "source_hash": "52644a60",
    "execution_start": 1636575265301,
    "execution_millis": 4,
    "cell_id": "00045-452aa0d7-7336-4cc1-95aa-da2bcf406cd9",
    "deepnote_cell_type": "code"
   },
   "source": "# Definimos nuestro tercer modelo\n\nlinear_model_3 = smf.ols(formula='Sales~TV+Radio', data=data).fit()",
   "execution_count": 33,
   "outputs": []
  },
  {
   "cell_type": "code",
   "metadata": {
    "tags": [],
    "deepnote_to_be_reexecuted": false,
    "source_hash": "51d9cb2d",
    "execution_start": 1636575282480,
    "execution_millis": 6,
    "cell_id": "00046-b0d1a8f7-b794-4a85-b165-e3511a776133",
    "deepnote_cell_type": "code"
   },
   "source": "# Parámetros\n\ndisplay(linear_model_3.params)",
   "execution_count": 34,
   "outputs": [
    {
     "data": {
      "text/plain": "Intercept    2.921100\nTV           0.045755\nRadio        0.187994\ndtype: float64"
     },
     "metadata": {},
     "output_type": "display_data"
    }
   ]
  },
  {
   "cell_type": "code",
   "metadata": {
    "tags": [],
    "deepnote_to_be_reexecuted": false,
    "source_hash": "fbefb5bb",
    "execution_start": 1636575316402,
    "execution_millis": 15,
    "cell_id": "00047-45a5acb4-b88a-4586-8019-7fb697b12d62",
    "deepnote_cell_type": "code"
   },
   "source": "# P-Values\n\ndisplay(linear_model_3.pvalues)",
   "execution_count": 35,
   "outputs": [
    {
     "data": {
      "text/plain": "Intercept    4.565557e-19\nTV           5.436980e-82\nRadio        9.776972e-59\ndtype: float64"
     },
     "metadata": {},
     "output_type": "display_data"
    }
   ]
  },
  {
   "cell_type": "markdown",
   "source": "El **Modelo Predictivo** sería $Sales = 2.921100 + (0.04575)TV + (0.187994)Radio$\n\n**Razonamiento**: Por cada $0.04575$ y $0.187994$ unidades monetarias **invertidas** en **publicidad televisiva** y **radial** respectivamente reportará $2.9211$ unidades monetarias en **ventas**",
   "metadata": {
    "tags": [],
    "cell_id": "00048-fe692399-57c7-4c36-b915-1cd5284001e5",
    "deepnote_cell_type": "markdown"
   }
  },
  {
   "cell_type": "code",
   "metadata": {
    "tags": [],
    "deepnote_to_be_reexecuted": false,
    "source_hash": "30008aa5",
    "execution_start": 1636575643968,
    "execution_millis": 9,
    "cell_id": "00049-ed99c5a2-0855-42db-8466-39b87c5b3db2",
    "deepnote_cell_type": "code"
   },
   "source": "# Estimadores estadísticos\n\n# R2\nr2_mod3 = (round(linear_model_3.rsquared,4))\ndisplay(f'R2: {r2_mod3}')\n\n# R2 Ajustado\nr2_adj_mod3 = round(linear_model_3.rsquared_adj,4)\ndisplay(f'R2 ajustado: {r2_adj_mod3}')",
   "execution_count": 36,
   "outputs": [
    {
     "data": {
      "text/plain": "'R2: 0.8972'"
     },
     "metadata": {},
     "output_type": "display_data"
    },
    {
     "data": {
      "text/plain": "'R2 ajustado: 0.8962'"
     },
     "metadata": {},
     "output_type": "display_data"
    }
   ]
  },
  {
   "cell_type": "code",
   "metadata": {
    "tags": [],
    "deepnote_to_be_reexecuted": false,
    "source_hash": "5f394d72",
    "execution_start": 1636575691817,
    "execution_millis": 5,
    "cell_id": "00050-dd79c1d7-c699-48fc-90c3-e984a36b682b",
    "deepnote_cell_type": "code"
   },
   "source": "# Summary\n\nlinear_model_3.summary()",
   "execution_count": 37,
   "outputs": [
    {
     "output_type": "execute_result",
     "execution_count": 37,
     "data": {
      "text/plain": "<class 'statsmodels.iolib.summary.Summary'>\n\"\"\"\n                            OLS Regression Results                            \n==============================================================================\nDep. Variable:                  Sales   R-squared:                       0.897\nModel:                            OLS   Adj. R-squared:                  0.896\nMethod:                 Least Squares   F-statistic:                     859.6\nDate:                Wed, 10 Nov 2021   Prob (F-statistic):           4.83e-98\nTime:                        20:21:31   Log-Likelihood:                -386.20\nNo. Observations:                 200   AIC:                             778.4\nDf Residuals:                     197   BIC:                             788.3\nDf Model:                           2                                         \nCovariance Type:            nonrobust                                         \n==============================================================================\n                 coef    std err          t      P>|t|      [0.025      0.975]\n------------------------------------------------------------------------------\nIntercept      2.9211      0.294      9.919      0.000       2.340       3.502\nTV             0.0458      0.001     32.909      0.000       0.043       0.048\nRadio          0.1880      0.008     23.382      0.000       0.172       0.204\n==============================================================================\nOmnibus:                       60.022   Durbin-Watson:                   2.081\nProb(Omnibus):                  0.000   Jarque-Bera (JB):              148.679\nSkew:                          -1.323   Prob(JB):                     5.19e-33\nKurtosis:                       6.292   Cond. No.                         425.\n==============================================================================\n\nNotes:\n[1] Standard Errors assume that the covariance matrix of the errors is correctly specified.\n\"\"\"",
      "text/html": "<table class=\"simpletable\">\n<caption>OLS Regression Results</caption>\n<tr>\n  <th>Dep. Variable:</th>          <td>Sales</td>      <th>  R-squared:         </th> <td>   0.897</td>\n</tr>\n<tr>\n  <th>Model:</th>                   <td>OLS</td>       <th>  Adj. R-squared:    </th> <td>   0.896</td>\n</tr>\n<tr>\n  <th>Method:</th>             <td>Least Squares</td>  <th>  F-statistic:       </th> <td>   859.6</td>\n</tr>\n<tr>\n  <th>Date:</th>             <td>Wed, 10 Nov 2021</td> <th>  Prob (F-statistic):</th> <td>4.83e-98</td>\n</tr>\n<tr>\n  <th>Time:</th>                 <td>20:21:31</td>     <th>  Log-Likelihood:    </th> <td> -386.20</td>\n</tr>\n<tr>\n  <th>No. Observations:</th>      <td>   200</td>      <th>  AIC:               </th> <td>   778.4</td>\n</tr>\n<tr>\n  <th>Df Residuals:</th>          <td>   197</td>      <th>  BIC:               </th> <td>   788.3</td>\n</tr>\n<tr>\n  <th>Df Model:</th>              <td>     2</td>      <th>                     </th>     <td> </td>   \n</tr>\n<tr>\n  <th>Covariance Type:</th>      <td>nonrobust</td>    <th>                     </th>     <td> </td>   \n</tr>\n</table>\n<table class=\"simpletable\">\n<tr>\n      <td></td>         <th>coef</th>     <th>std err</th>      <th>t</th>      <th>P>|t|</th>  <th>[0.025</th>    <th>0.975]</th>  \n</tr>\n<tr>\n  <th>Intercept</th> <td>    2.9211</td> <td>    0.294</td> <td>    9.919</td> <td> 0.000</td> <td>    2.340</td> <td>    3.502</td>\n</tr>\n<tr>\n  <th>TV</th>        <td>    0.0458</td> <td>    0.001</td> <td>   32.909</td> <td> 0.000</td> <td>    0.043</td> <td>    0.048</td>\n</tr>\n<tr>\n  <th>Radio</th>     <td>    0.1880</td> <td>    0.008</td> <td>   23.382</td> <td> 0.000</td> <td>    0.172</td> <td>    0.204</td>\n</tr>\n</table>\n<table class=\"simpletable\">\n<tr>\n  <th>Omnibus:</th>       <td>60.022</td> <th>  Durbin-Watson:     </th> <td>   2.081</td>\n</tr>\n<tr>\n  <th>Prob(Omnibus):</th> <td> 0.000</td> <th>  Jarque-Bera (JB):  </th> <td> 148.679</td>\n</tr>\n<tr>\n  <th>Skew:</th>          <td>-1.323</td> <th>  Prob(JB):          </th> <td>5.19e-33</td>\n</tr>\n<tr>\n  <th>Kurtosis:</th>      <td> 6.292</td> <th>  Cond. No.          </th> <td>    425.</td>\n</tr>\n</table><br/><br/>Notes:<br/>[1] Standard Errors assume that the covariance matrix of the errors is correctly specified."
     },
     "metadata": {}
    }
   ]
  },
  {
   "cell_type": "markdown",
   "source": "Ahora queremos intentar **predecir** las **ventas** con respecto al **gasto** en **publicidad de TV** y **radial**, lo definiremos de la siguiente manera:",
   "metadata": {
    "tags": [],
    "cell_id": "00051-fbc5af31-853b-4fe3-9339-aad2455c3ebb",
    "deepnote_cell_type": "markdown"
   }
  },
  {
   "cell_type": "code",
   "metadata": {
    "tags": [],
    "deepnote_to_be_reexecuted": false,
    "source_hash": "e36529bf",
    "execution_start": 1636575822416,
    "execution_millis": 9,
    "cell_id": "00052-166e40ea-3b7a-445d-b203-9e3bfdf307ee",
    "deepnote_cell_type": "code"
   },
   "source": "# Predicción de ventas del segundo modelo\n\nsales_pred3 = linear_model_3.predict(pd.DataFrame(data[['TV', 'Radio']]))\nsales_pred3.head(10)",
   "execution_count": 39,
   "outputs": [
    {
     "output_type": "execute_result",
     "execution_count": 39,
     "data": {
      "text/plain": "0    20.555465\n1    12.345362\n2    12.337018\n3    17.617116\n4    13.223908\n5    12.512084\n6    11.718212\n7    12.105516\n8     3.709379\n9    12.551697\ndtype: float64"
     },
     "metadata": {}
    }
   ]
  },
  {
   "cell_type": "markdown",
   "source": "Añadimos una nueva columna con el valor de las **ventas predecidas** y el $RSE$",
   "metadata": {
    "tags": [],
    "cell_id": "00053-df1a1118-ceaf-4fea-b00b-2d82ba87b27a",
    "deepnote_cell_type": "markdown"
   }
  },
  {
   "cell_type": "code",
   "metadata": {
    "tags": [],
    "deepnote_to_be_reexecuted": false,
    "source_hash": "a3c67d20",
    "execution_start": 1636575926091,
    "execution_millis": 0,
    "cell_id": "00054-575da213-1fe2-4f62-8293-f6aba98454e1",
    "deepnote_cell_type": "code"
   },
   "source": "# Columnas Ventas predecidas y RSE del tercer modelo\n\ndata['Sales Pred_3'] = 2.921100 + 0.04575 * data['TV'] + 0.187994 * data['Radio']\ndata['RSE3'] = (data['Sales'] - data['Sales Pred_3'])**2",
   "execution_count": 40,
   "outputs": []
  },
  {
   "cell_type": "code",
   "metadata": {
    "tags": [],
    "deepnote_to_be_reexecuted": false,
    "source_hash": "251d1e6f",
    "execution_start": 1636576062012,
    "execution_millis": 41,
    "cell_id": "00055-07789b39-6d02-40fc-abde-36a336180531",
    "deepnote_cell_type": "code"
   },
   "source": "# Calculamos nuestros estimadores ANOVA\n\nSSD3 = sum((data['Sales'] - sales_pred3)**2)\nRSE3 = np.sqrt(SSD3/(len(data)-2-1))\n\n# Display\ndisplay(f'SSD del tercer modelo: {SSD3}')\ndisplay(f'RSE del tercer modelo: {RSE3}')",
   "execution_count": 41,
   "outputs": [
    {
     "data": {
      "text/plain": "'SSD del tercer modelo: 556.9139800676185'"
     },
     "metadata": {},
     "output_type": "display_data"
    },
    {
     "data": {
      "text/plain": "'RSE del tercer modelo: 1.6813609125080011'"
     },
     "metadata": {},
     "output_type": "display_data"
    }
   ]
  },
  {
   "cell_type": "code",
   "metadata": {
    "tags": [],
    "deepnote_to_be_reexecuted": false,
    "source_hash": "47ce634e",
    "execution_start": 1636576457352,
    "execution_millis": 2,
    "cell_id": "00056-326d7ccc-8c2b-4f8c-8718-389432a0f017",
    "deepnote_cell_type": "code"
   },
   "source": "# Calculamos la media de las ventas y el error\n\nsales_promedio = np.mean(data['Sales'])\nerror3 = RSE3/sales_promedio\n\n# Display\ndisplay(f'Ventas promedio: {sales_promedio}')\ndisplay(f'Error promedio del tercer modelo: {error3}')",
   "execution_count": 43,
   "outputs": [
    {
     "data": {
      "text/plain": "'Ventas promedio: 14.0225'"
     },
     "metadata": {},
     "output_type": "display_data"
    },
    {
     "data": {
      "text/plain": "'Error promedio del tercer modelo: 0.11990450436855062'"
     },
     "metadata": {},
     "output_type": "display_data"
    }
   ]
  },
  {
   "cell_type": "markdown",
   "source": "Ahora el **error promedio** es de $11,99$% en el **tercer modelo** que **no logra explicar correctamente**, lo cual es muchísimo que los dos primeros considerablemente",
   "metadata": {
    "tags": [],
    "cell_id": "00057-a9d1f7ec-176b-4b5d-bfcc-925643a8d523",
    "deepnote_cell_type": "markdown"
   }
  },
  {
   "cell_type": "code",
   "metadata": {
    "tags": [],
    "deepnote_to_be_reexecuted": false,
    "source_hash": "f489823",
    "execution_start": 1636576528467,
    "execution_millis": 449,
    "cell_id": "00058-ad05bc5e-0103-494c-a524-2a4578229e4e",
    "deepnote_cell_type": "code"
   },
   "source": "# Posee una Distribución sesgada hacia la derecha\n\nsns.set_theme(style='whitegrid')\nsns.histplot(data['Sales'] - sales_pred3, kde=True, bins=10, edgecolor='black', linewidth=0.8, color='red')\nplt.title('Error promedio del tercer modelo\\n')\nplt.tight_layout();",
   "execution_count": 44,
   "outputs": [
    {
     "data": {
      "text/plain": "<Figure size 432x288 with 1 Axes>",
      "image/png": "[encoded data removed]"
     },
     "metadata": {
      "image/png": {
       "width": 420,
       "height": 276
      }
     },
     "output_type": "display_data"
    }
   ]
  },
  {
   "cell_type": "code",
   "metadata": {
    "tags": [],
    "deepnote_to_be_reexecuted": false,
    "source_hash": "e6928a8f",
    "execution_start": 1636576613767,
    "execution_millis": 90,
    "cell_id": "00059-6465f37e-0cf1-4589-9528-cc7fc6637ed3",
    "deepnote_cell_type": "code"
   },
   "source": "data",
   "execution_count": 45,
   "outputs": [
    {
     "output_type": "execute_result",
     "execution_count": 45,
     "data": {
      "application/vnd.deepnote.dataframe.v2+json": {
       "row_count": 200,
       "column_count": 10,
       "columns": [
        {
         "name": "TV",
         "dtype": "float64",
         "stats": {
          "unique_count": 190,
          "nan_count": 0,
          "min": "0.7",
          "max": "296.4",
          "histogram": [
           {
            "bin_start": 0.7,
            "bin_end": 30.27,
            "count": 26
           },
           {
            "bin_start": 30.27,
            "bin_end": 59.84,
            "count": 15
           },
           {
            "bin_start": 59.84,
            "bin_end": 89.41000000000001,
            "count": 21
           },
           {
            "bin_start": 89.41000000000001,
            "bin_end": 118.98,
            "count": 18
           },
           {
            "bin_start": 118.98,
            "bin_end": 148.54999999999998,
            "count": 19
           },
           {
            "bin_start": 148.54999999999998,
            "bin_end": 178.12,
            "count": 17
           },
           {
            "bin_start": 178.12,
            "bin_end": 207.69,
            "count": 22
           },
           {
            "bin_start": 207.69,
            "bin_end": 237.26,
            "count": 26
           },
           {
            "bin_start": 237.26,
            "bin_end": 266.83,
            "count": 20
           },
           {
            "bin_start": 266.83,
            "bin_end": 296.4,
            "count": 16
           }
          ]
         }
        },
        {
         "name": "Radio",
         "dtype": "float64",
         "stats": {
          "unique_count": 167,
          "nan_count": 0,
          "min": "0.0",
          "max": "49.6",
          "histogram": [
           {
            "bin_start": 0,
            "bin_end": 4.96,
            "count": 30
           },
           {
            "bin_start": 4.96,
            "bin_end": 9.92,
            "count": 20
           },
           {
            "bin_start": 9.92,
            "bin_end": 14.879999999999999,
            "count": 21
           },
           {
            "bin_start": 14.879999999999999,
            "bin_end": 19.84,
            "count": 17
           },
           {
            "bin_start": 19.84,
            "bin_end": 24.8,
            "count": 18
           },
           {
            "bin_start": 24.8,
            "bin_end": 29.759999999999998,
            "count": 23
           },
           {
            "bin_start": 29.759999999999998,
            "bin_end": 34.72,
            "count": 14
           },
           {
            "bin_start": 34.72,
            "bin_end": 39.68,
            "count": 21
           },
           {
            "bin_start": 39.68,
            "bin_end": 44.64,
            "count": 21
           },
           {
            "bin_start": 44.64,
            "bin_end": 49.6,
            "count": 15
           }
          ]
         }
        },
        {
         "name": "Newspaper",
         "dtype": "float64",
         "stats": {
          "unique_count": 172,
          "nan_count": 0,
          "min": "0.3",
          "max": "114.0",
          "histogram": [
           {
            "bin_start": 0.3,
            "bin_end": 11.670000000000002,
            "count": 47
           },
           {
            "bin_start": 11.670000000000002,
            "bin_end": 23.040000000000003,
            "count": 41
           },
           {
            "bin_start": 23.040000000000003,
            "bin_end": 34.41,
            "count": 35
           },
           {
            "bin_start": 34.41,
            "bin_end": 45.78,
            "count": 30
           },
           {
            "bin_start": 45.78,
            "bin_end": 57.150000000000006,
            "count": 21
           },
           {
            "bin_start": 57.150000000000006,
            "bin_end": 68.52,
            "count": 13
           },
           {
            "bin_start": 68.52,
            "bin_end": 79.89,
            "count": 9
           },
           {
            "bin_start": 79.89,
            "bin_end": 91.26,
            "count": 2
           },
           {
            "bin_start": 91.26,
            "bin_end": 102.63000000000001,
            "count": 1
           },
           {
            "bin_start": 102.63000000000001,
            "bin_end": 114,
            "count": 1
           }
          ]
         }
        },
        {
         "name": "Sales",
         "dtype": "float64",
         "stats": {
          "unique_count": 121,
          "nan_count": 0,
          "min": "1.6",
          "max": "27.0",
          "histogram": [
           {
            "bin_start": 1.6,
            "bin_end": 4.140000000000001,
            "count": 2
           },
           {
            "bin_start": 4.140000000000001,
            "bin_end": 6.68,
            "count": 9
           },
           {
            "bin_start": 6.68,
            "bin_end": 9.22,
            "count": 20
           },
           {
            "bin_start": 9.22,
            "bin_end": 11.76,
            "count": 47
           },
           {
            "bin_start": 11.76,
            "bin_end": 14.299999999999999,
            "count": 35
           },
           {
            "bin_start": 14.299999999999999,
            "bin_end": 16.84,
            "count": 29
           },
           {
            "bin_start": 16.84,
            "bin_end": 19.380000000000003,
            "count": 22
           },
           {
            "bin_start": 19.380000000000003,
            "bin_end": 21.92,
            "count": 17
           },
           {
            "bin_start": 21.92,
            "bin_end": 24.46,
            "count": 12
           },
           {
            "bin_start": 24.46,
            "bin_end": 27,
            "count": 7
           }
          ]
         }
        },
        {
         "name": "Sales Pred",
         "dtype": "float64",
         "stats": {
          "unique_count": 190,
          "nan_count": 0,
          "min": "7.065869899999999",
          "max": "21.1225608",
          "histogram": [
           {
            "bin_start": 7.065869899999999,
            "bin_end": 8.471538989999999,
            "count": 26
           },
           {
            "bin_start": 8.471538989999999,
            "bin_end": 9.877208079999999,
            "count": 15
           },
           {
            "bin_start": 9.877208079999999,
            "bin_end": 11.282877169999999,
            "count": 21
           },
           {
            "bin_start": 11.282877169999999,
            "bin_end": 12.688546259999999,
            "count": 18
           },
           {
            "bin_start": 12.688546259999999,
            "bin_end": 14.094215349999999,
            "count": 19
           },
           {
            "bin_start": 14.094215349999999,
            "bin_end": 15.499884439999999,
            "count": 17
           },
           {
            "bin_start": 15.499884439999999,
            "bin_end": 16.90555353,
            "count": 22
           },
           {
            "bin_start": 16.90555353,
            "bin_end": 18.31122262,
            "count": 26
           },
           {
            "bin_start": 18.31122262,
            "bin_end": 19.71689171,
            "count": 20
           },
           {
            "bin_start": 19.71689171,
            "bin_end": 21.1225608,
            "count": 16
           }
          ]
         }
        },
        {
         "name": "RSE",
         "dtype": "float64",
         "stats": {
          "unique_count": 200,
          "nan_count": 0,
          "min": "0.0016160721601596985",
          "max": "70.32636963350757",
          "histogram": [
           {
            "bin_start": 0.0016160721601596985,
            "bin_end": 7.034091428294901,
            "count": 126
           },
           {
            "bin_start": 7.034091428294901,
            "bin_end": 14.066566784429641,
            "count": 18
           },
           {
            "bin_start": 14.066566784429641,
            "bin_end": 21.099042140564386,
            "count": 15
           },
           {
            "bin_start": 21.099042140564386,
            "bin_end": 28.131517496699125,
            "count": 16
           },
           {
            "bin_start": 28.131517496699125,
            "bin_end": 35.163992852833864,
            "count": 10
           },
           {
            "bin_start": 35.163992852833864,
            "bin_end": 42.19646820896861,
            "count": 6
           },
           {
            "bin_start": 42.19646820896861,
            "bin_end": 49.22894356510335,
            "count": 4
           },
           {
            "bin_start": 49.22894356510335,
            "bin_end": 56.26141892123809,
            "count": 2
           },
           {
            "bin_start": 56.26141892123809,
            "bin_end": 63.29389427737283,
            "count": 1
           },
           {
            "bin_start": 63.29389427737283,
            "bin_end": 70.32636963350757,
            "count": 2
           }
          ]
         }
        },
        {
         "name": "Sales Pred_2",
         "dtype": "float64",
         "stats": {
          "unique_count": 200,
          "nan_count": 0,
          "min": "6.192484",
          "max": "24.138101499999998",
          "histogram": [
           {
            "bin_start": 6.192484,
            "bin_end": 7.98704575,
            "count": 17
           },
           {
            "bin_start": 7.98704575,
            "bin_end": 9.7816075,
            "count": 22
           },
           {
            "bin_start": 9.7816075,
            "bin_end": 11.57616925,
            "count": 28
           },
           {
            "bin_start": 11.57616925,
            "bin_end": 13.370731,
            "count": 22
           },
           {
            "bin_start": 13.370731,
            "bin_end": 15.165292749999999,
            "count": 20
           },
           {
            "bin_start": 15.165292749999999,
            "bin_end": 16.9598545,
            "count": 30
           },
           {
            "bin_start": 16.9598545,
            "bin_end": 18.75441625,
            "count": 35
           },
           {
            "bin_start": 18.75441625,
            "bin_end": 20.548977999999998,
            "count": 16
           },
           {
            "bin_start": 20.548977999999998,
            "bin_end": 22.343539749999998,
            "count": 8
           },
           {
            "bin_start": 22.343539749999998,
            "bin_end": 24.138101499999998,
            "count": 2
           }
          ]
         }
        },
        {
         "name": "RSE2",
         "dtype": "float64",
         "stats": {
          "unique_count": 200,
          "nan_count": 0,
          "min": "0.00046566618849003694",
          "max": "74.35619281021368",
          "histogram": [
           {
            "bin_start": 0.00046566618849003694,
            "bin_end": 7.43603838059101,
            "count": 128
           },
           {
            "bin_start": 7.43603838059101,
            "bin_end": 14.87161109499353,
            "count": 32
           },
           {
            "bin_start": 14.87161109499353,
            "bin_end": 22.30718380939605,
            "count": 11
           },
           {
            "bin_start": 22.30718380939605,
            "bin_end": 29.74275652379857,
            "count": 11
           },
           {
            "bin_start": 29.74275652379857,
            "bin_end": 37.17832923820109,
            "count": 4
           },
           {
            "bin_start": 37.17832923820109,
            "bin_end": 44.61390195260361,
            "count": 6
           },
           {
            "bin_start": 44.61390195260361,
            "bin_end": 52.04947466700613,
            "count": 4
           },
           {
            "bin_start": 52.04947466700613,
            "bin_end": 59.48504738140865,
            "count": 1
           },
           {
            "bin_start": 59.48504738140865,
            "bin_end": 66.92062009581117,
            "count": 1
           },
           {
            "bin_start": 66.92062009581117,
            "bin_end": 74.35619281021368,
            "count": 2
           }
          ]
         }
        },
        {
         "name": "Sales Pred_3",
         "dtype": "float64",
         "stats": {
          "unique_count": 200,
          "nan_count": 0,
          "min": "3.5956226",
          "max": "24.782181599999994",
          "histogram": [
           {
            "bin_start": 3.5956226,
            "bin_end": 5.714278499999999,
            "count": 7
           },
           {
            "bin_start": 5.714278499999999,
            "bin_end": 7.832934399999999,
            "count": 15
           },
           {
            "bin_start": 7.832934399999999,
            "bin_end": 9.951590299999998,
            "count": 26
           },
           {
            "bin_start": 9.951590299999998,
            "bin_end": 12.070246199999998,
            "count": 26
           },
           {
            "bin_start": 12.070246199999998,
            "bin_end": 14.188902099999998,
            "count": 29
           },
           {
            "bin_start": 14.188902099999998,
            "bin_end": 16.307557999999997,
            "count": 27
           },
           {
            "bin_start": 16.307557999999997,
            "bin_end": 18.426213899999993,
            "count": 27
           },
           {
            "bin_start": 18.426213899999993,
            "bin_end": 20.544869799999994,
            "count": 19
           },
           {
            "bin_start": 20.544869799999994,
            "bin_end": 22.663525699999994,
            "count": 15
           },
           {
            "bin_start": 22.663525699999994,
            "bin_end": 24.782181599999994,
            "count": 9
           }
          ]
         }
        },
        {
         "name": "RSE3",
         "dtype": "float64",
         "stats": {
          "unique_count": 200,
          "nan_count": 0,
          "min": "1.2394624359999112e-05",
          "max": "77.39930358811874",
          "histogram": [
           {
            "bin_start": 0.000012394624359999112,
            "bin_end": 7.739941513973798,
            "count": 183
           },
           {
            "bin_start": 7.739941513973798,
            "bin_end": 15.479870633323236,
            "count": 12
           },
           {
            "bin_start": 15.479870633323236,
            "bin_end": 23.219799752672674,
            "count": 3
           },
           {
            "bin_start": 23.219799752672674,
            "bin_end": 30.95972887202211,
            "count": 1
           },
           {
            "bin_start": 30.95972887202211,
            "bin_end": 38.69965799137155,
            "count": 0
           },
           {
            "bin_start": 38.69965799137155,
            "bin_end": 46.43958711072099,
            "count": 0
           },
           {
            "bin_start": 46.43958711072099,
            "bin_end": 54.179516230070426,
            "count": 0
           },
           {
            "bin_start": 54.179516230070426,
            "bin_end": 61.91944534941987,
            "count": 0
           },
           {
            "bin_start": 61.91944534941987,
            "bin_end": 69.6593744687693,
            "count": 0
           },
           {
            "bin_start": 69.6593744687693,
            "bin_end": 77.39930358811874,
            "count": 1
           }
          ]
         }
        },
        {
         "name": "_deepnote_index_column",
         "dtype": "int64"
        }
       ],
       "rows_top": [
        {
         "TV": 230.1,
         "Radio": 37.8,
         "Newspaper": 69.2,
         "Sales": 22.1,
         "Sales Pred": 17.9708577,
         "RSE": 17.049816133649305,
         "Sales Pred_2": 19.6268229,
         "RSE2": 6.116604967964414,
         "Sales Pred_3": 20.5543482,
         "RSE3": 2.389039486843245,
         "_deepnote_index_column": 0
        },
        {
         "TV": 44.5,
         "Radio": 39.3,
         "Newspaper": 45.1,
         "Sales": 10.4,
         "Sales Pred": 9.147990499999999,
         "RSE": 1.5675277880902538,
         "Sales Pred_2": 9.8563194,
         "RSE2": 0.2955885948163601,
         "Sales Pred_3": 12.345139199999998,
         "RSE3": 3.7835665073766327,
         "_deepnote_index_column": 1
        },
        {
         "TV": 17.2,
         "Radio": 45.9,
         "Newspaper": 69.3,
         "Sales": 9.3,
         "Sales Pred": 7.850230399999999,
         "RSE": 2.1018318930841646,
         "Sales Pred_2": 9.646021900000001,
         "RSE2": 0.11973115527961015,
         "Sales Pred_3": 12.3369246,
         "RSE3": 9.222911026085153,
         "_deepnote_index_column": 2
        },
        {
         "TV": 151.5,
         "Radio": 41.3,
         "Newspaper": 58.5,
         "Sales": 18.5,
         "Sales Pred": 14.2344495,
         "RSE": 18.19492106805025,
         "Sales Pred_2": 15.467261,
         "RSE2": 9.197505842120997,
         "Sales Pred_3": 17.6163772,
         "RSE3": 0.7807892526798422,
         "_deepnote_index_column": 3
        },
        {
         "TV": 180.8,
         "Radio": 10.8,
         "Newspaper": 58.4,
         "Sales": 12.9,
         "Sales Pred": 15.6272836,
         "RSE": 7.438075834828959,
         "Sales Pred_2": 16.8370384,
         "RSE2": 15.500271363074564,
         "Sales Pred_3": 13.223035200000002,
         "RSE3": 0.10435174043904091,
         "_deepnote_index_column": 4
        },
        {
         "TV": 8.7,
         "Radio": 48.9,
         "Newspaper": 75,
         "Sales": 7.2,
         "Sales Pred": 7.4461659,
         "RSE": 0.0605976503228097,
         "Sales Pred_2": 9.4994117,
         "RSE2": 5.2872941660968875,
         "Sales Pred_3": 12.512031599999998,
         "RSE3": 28.217679719398543,
         "_deepnote_index_column": 5
        },
        {
         "TV": 57.5,
         "Radio": 32.8,
         "Newspaper": 23.5,
         "Sales": 11.8,
         "Sales Pred": 9.7659715,
         "RSE": 4.1372719388122565,
         "Sales Pred_2": 9.510902,
         "RSE2": 5.239969653604004,
         "Sales Pred_3": 11.7179282,
         "RSE3": 0.006735780355240223,
         "_deepnote_index_column": 6
        },
        {
         "TV": 120.2,
         "Radio": 19.6,
         "Newspaper": 11.6,
         "Sales": 13.2,
         "Sales Pred": 12.7465414,
         "RSE": 0.20562470191395943,
         "Sales Pred_2": 11.9253886,
         "RSE2": 1.6246342210099587,
         "Sales Pred_3": 12.1049324,
         "RSE3": 1.1991730485697603,
         "_deepnote_index_column": 7
        },
        {
         "TV": 8.6,
         "Radio": 2.1,
         "Newspaper": 1,
         "Sales": 4.8,
         "Sales Pred": 7.441412199999999,
         "RSE": 6.977058410308838,
         "Sales Pred_2": 6.2225156,
         "RSE2": 2.0235506322433614,
         "Sales Pred_3": 3.7093374,
         "RSE3": 1.1895449070387598,
         "_deepnote_index_column": 8
        },
        {
         "TV": 199.8,
         "Radio": 2.6,
         "Newspaper": 21.2,
         "Sales": 10.6,
         "Sales Pred": 16.530486600000003,
         "RSE": 35.170671312779604,
         "Sales Pred_2": 16.0832106,
         "RSE2": 30.065598483952375,
         "Sales Pred_3": 12.5507344,
         "RSE3": 3.80536469934336,
         "_deepnote_index_column": 9
        },
        {
         "TV": 66.1,
         "Radio": 5.8,
         "Newspaper": 24.2,
         "Sales": 8.6,
         "Sales Pred": 10.1747897,
         "RSE": 2.4799625992260905,
         "Sales Pred_2": 9.9452039,
         "RSE2": 1.809573532575209,
         "Sales Pred_3": 7.0355402,
         "RSE3": 2.4475344658160396,
         "_deepnote_index_column": 10
        },
        {
         "TV": 214.7,
         "Radio": 24,
         "Newspaper": 4,
         "Sales": 17.4,
         "Sales Pred": 17.2387879,
         "RSE": 0.02598934118641006,
         "Sales Pred_2": 16.0214687,
         "RSE2": 1.9003485450796866,
         "Sales Pred_3": 17.255480999999996,
         "RSE3": 0.020885741361000725,
         "_deepnote_index_column": 11
        },
        {
         "TV": 23.8,
         "Radio": 35.1,
         "Newspaper": 65.9,
         "Sales": 9.2,
         "Sales Pred": 8.1639746,
         "RSE": 1.0733486294451595,
         "Sales Pred_2": 9.8052239,
         "RSE2": 0.36629596913121043,
         "Sales Pred_3": 10.6085394,
         "RSE3": 1.9839832413523613,
         "_deepnote_index_column": 12
        },
        {
         "TV": 97.5,
         "Radio": 7.6,
         "Newspaper": 7.2,
         "Sales": 9.7,
         "Sales Pred": 11.667451499999999,
         "RSE": 3.870865404852247,
         "Sales Pred_2": 10.6661723,
         "RSE2": 0.9334889132872904,
         "Sales Pred_3": 8.8104794,
         "RSE3": 0.7912468978243584,
         "_deepnote_index_column": 13
        },
        {
         "TV": 204.1,
         "Radio": 32.9,
         "Newspaper": 46,
         "Sales": 19,
         "Sales Pred": 16.7348957,
         "RSE": 5.130697489878494,
         "Sales Pred_2": 17.3815161,
         "RSE2": 2.6194901345592134,
         "Sales Pred_3": 18.4436776,
         "RSE3": 0.309494612741759,
         "_deepnote_index_column": 14
        },
        {
         "TV": 195.4,
         "Radio": 47.7,
         "Newspaper": 52.9,
         "Sales": 22.4,
         "Sales Pred": 16.321323800000002,
         "RSE": 36.9503043444464,
         "Sales Pred_2": 17.278588499999998,
         "RSE2": 26.228855752332258,
         "Sales Pred_3": 20.8279638,
         "RSE3": 2.471297814110438,
         "_deepnote_index_column": 15
        },
        {
         "TV": 67.8,
         "Radio": 36.6,
         "Newspaper": 114,
         "Sales": 12.5,
         "Sales Pred": 10.2556026,
         "RSE": 5.037319689126762,
         "Sales Pred_2": 13.995801799999999,
         "RSE2": 2.2374230248832365,
         "Sales Pred_3": 12.903530400000001,
         "RSE3": 0.16283678372416086,
         "_deepnote_index_column": 16
        },
        {
         "TV": 281.4,
         "Radio": 39.6,
         "Newspaper": 55.8,
         "Sales": 24.4,
         "Sales Pred": 20.409505799999998,
         "RSE": 15.924043960233645,
         "Sales Pred_2": 21.4403096,
         "RSE2": 8.759767263852156,
         "Sales Pred_3": 23.2397124,
         "RSE3": 1.3462673147137605,
         "_deepnote_index_column": 17
        },
        {
         "TV": 69.2,
         "Radio": 20.5,
         "Newspaper": 18.3,
         "Sales": 11.3,
         "Sales Pred": 10.3221544,
         "RSE": 0.9561820174393604,
         "Sales Pred_2": 9.829704900000001,
         "RSE2": 2.1617676810840085,
         "Sales Pred_3": 9.940877,
         "RSE3": 1.8472153291290008,
         "_deepnote_index_column": 18
        },
        {
         "TV": 147.3,
         "Radio": 23.9,
         "Newspaper": 19.1,
         "Sales": 14.6,
         "Sales Pred": 14.034794100000001,
         "RSE": 0.31945770939480855,
         "Sales Pred_2": 13.528048200000002,
         "RSE2": 1.149080661523234,
         "Sales Pred_3": 14.153131599999998,
         "RSE3": 0.19969136691856124,
         "_deepnote_index_column": 19
        },
        {
         "TV": 218.4,
         "Radio": 27.7,
         "Newspaper": 53.4,
         "Sales": 18,
         "Sales Pred": 17.4146748,
         "RSE": 0.34260558975503974,
         "Sales Pred_2": 18.379421,
         "RSE2": 0.1439602952410005,
         "Sales Pred_3": 18.1203338,
         "RSE3": 0.014480223422440226,
         "_deepnote_index_column": 20
        },
        {
         "TV": 237.4,
         "Radio": 5.1,
         "Newspaper": 23.5,
         "Sales": 12.5,
         "Sales Pred": 18.317877799999998,
         "RSE": 33.847702095732814,
         "Sales Pred_2": 17.9483919,
         "RSE2": 29.68497429598562,
         "Sales Pred_3": 14.740919400000001,
         "RSE3": 5.021719757296364,
         "_deepnote_index_column": 21
        },
        {
         "TV": 13.2,
         "Radio": 15.9,
         "Newspaper": 49.6,
         "Sales": 5.6,
         "Sales Pred": 7.660082399999999,
         "RSE": 4.243939494789759,
         "Sales Pred_2": 8.5873036,
         "RSE2": 8.923982798572963,
         "Sales Pred_3": 6.5141046,
         "RSE3": 0.8355872197411599,
         "_deepnote_index_column": 22
        },
        {
         "TV": 228.3,
         "Radio": 16.9,
         "Newspaper": 26.2,
         "Sales": 15.5,
         "Sales Pred": 17.8852911,
         "RSE": 5.68961363173921,
         "Sales Pred_2": 17.6409841,
         "RSE2": 4.583812916452813,
         "Sales Pred_3": 16.5429236,
         "RSE3": 1.0876896354369636,
         "_deepnote_index_column": 23
        },
        {
         "TV": 62.3,
         "Radio": 12.6,
         "Newspaper": 18.3,
         "Sales": 9.7,
         "Sales Pred": 9.9941491,
         "RSE": 0.08652369303081016,
         "Sales Pred_2": 9.506088,
         "RSE2": 0.03760186374399969,
         "Sales Pred_3": 8.1400494,
         "RSE3": 2.433445874440356,
         "_deepnote_index_column": 24
        },
        {
         "TV": 262.9,
         "Radio": 3.5,
         "Newspaper": 19.5,
         "Sales": 12,
         "Sales Pred": 19.5300713,
         "RSE": 56.70197378308368,
         "Sales Pred_2": 18.9674914,
         "RSE2": 48.54593640907396,
         "Sales Pred_3": 15.606753999999997,
         "RSE3": 13.008674416515978,
         "_deepnote_index_column": 25
        },
        {
         "TV": 142.9,
         "Radio": 29.3,
         "Newspaper": 12.6,
         "Sales": 15,
         "Sales Pred": 13.825631300000001,
         "RSE": 1.379141843539687,
         "Sales Pred_2": 13.0342603,
         "RSE2": 3.864132568156091,
         "Sales Pred_3": 14.9669992,
         "RSE3": 0.0010890528006399962,
         "_deepnote_index_column": 26
        },
        {
         "TV": 240.1,
         "Radio": 16.7,
         "Newspaper": 22.9,
         "Sales": 15.9,
         "Sales Pred": 18.4462277,
         "RSE": 6.483275500247296,
         "Sales Pred_2": 18.0484932,
         "RSE2": 4.616023030446236,
         "Sales Pred_3": 17.045174799999998,
         "RSE3": 1.3114253225550347,
         "_deepnote_index_column": 27
        },
        {
         "TV": 248.8,
         "Radio": 27.1,
         "Newspaper": 22.9,
         "Sales": 18.9,
         "Sales Pred": 18.859799600000002,
         "RSE": 0.0016160721601596985,
         "Sales Pred_2": 18.4565319,
         "RSE2": 0.19666395571760728,
         "Sales Pred_3": 19.3983374,
         "RSE3": 0.24834016423876049,
         "_deepnote_index_column": 28
        },
        {
         "TV": 70.6,
         "Radio": 16,
         "Newspaper": 40.8,
         "Sales": 10.5,
         "Sales Pred": 10.3887062,
         "RSE": 0.012386309918440074,
         "Sales Pred_2": 10.890293799999998,
         "RSE2": 0.1523292503184388,
         "Sales Pred_3": 9.158954,
         "RSE3": 1.7984043741160012,
         "_deepnote_index_column": 29
        },
        {
         "TV": 292.9,
         "Radio": 28.3,
         "Newspaper": 43.2,
         "Sales": 21.4,
         "Sales Pred": 20.956181299999997,
         "RSE": 0.1969750384696912,
         "Sales Pred_2": 21.422511699999998,
         "RSE2": 0.000506776636889956,
         "Sales Pred_3": 21.6415052,
         "RSE3": 0.058324761627041165,
         "_deepnote_index_column": 30
        },
        {
         "TV": 112.9,
         "Radio": 17.4,
         "Newspaper": 38.6,
         "Sales": 11.9,
         "Sales Pred": 12.3995213,
         "RSE": 0.2495215291536896,
         "Sales Pred_2": 12.776924300000001,
         "RSE2": 0.7689962279304912,
         "Sales Pred_3": 11.3573706,
         "RSE3": 0.294446665744361,
         "_deepnote_index_column": 31
        },
        {
         "TV": 97.2,
         "Radio": 1.5,
         "Newspaper": 30,
         "Sales": 9.6,
         "Sales Pred": 11.6531904,
         "RSE": 4.21559081865216,
         "Sales Pred_2": 11.6602952,
         "RSE2": 4.244816311143042,
         "Sales Pred_3": 7.649991,
         "RSE3": 3.802535100080999,
         "_deepnote_index_column": 32
        },
        {
         "TV": 265.6,
         "Radio": 20,
         "Newspaper": 0.3,
         "Sales": 17.4,
         "Sales Pred": 19.6584212,
         "RSE": 5.1004663166094435,
         "Sales Pred_2": 18.245119300000002,
         "RSE2": 0.7142266312324966,
         "Sales Pred_3": 18.83218,
         "RSE3": 2.051139552400007,
         "_deepnote_index_column": 33
        },
        {
         "TV": 95.7,
         "Radio": 1.4,
         "Newspaper": 7.4,
         "Sales": 9.5,
         "Sales Pred": 11.5818849,
         "RSE": 4.334244736848012,
         "Sales Pred_2": 10.5905943,
         "RSE2": 1.1893959271924885,
         "Sales Pred_3": 7.5625666,
         "RSE3": 3.753648179435559,
         "_deepnote_index_column": 34
        },
        {
         "TV": 290.7,
         "Radio": 4.1,
         "Newspaper": 8.5,
         "Sales": 12.8,
         "Sales Pred": 20.8515999,
         "RSE": 64.82826094968,
         "Sales Pred_2": 19.784930199999998,
         "RSE2": 48.789249898872,
         "Sales Pred_3": 16.9914004,
         "RSE3": 17.56783731312015,
         "_deepnote_index_column": 35
        },
        {
         "TV": 266.9,
         "Radio": 43.8,
         "Newspaper": 5,
         "Sales": 25.4,
         "Sales Pred": 19.7202193,
         "RSE": 32.259908800092475,
         "Sales Pred_2": 18.513919899999998,
         "RSE2": 47.418099143616026,
         "Sales Pred_3": 23.365912199999997,
         "RSE3": 4.137513178108847,
         "_deepnote_index_column": 36
        },
        {
         "TV": 74.7,
         "Radio": 49.4,
         "Newspaper": 45.7,
         "Sales": 14.7,
         "Sales Pred": 10.5836079,
         "RSE": 16.9446839209424,
         "Sales Pred_2": 11.299261000000001,
         "RSE2": 11.565025746120986,
         "Sales Pred_3": 15.625528599999999,
         "RSE3": 0.8566031894179597,
         "_deepnote_index_column": 37
        },
        {
         "TV": 43.1,
         "Radio": 26.7,
         "Newspaper": 35.1,
         "Sales": 10.1,
         "Sales Pred": 9.0814387,
         "RSE": 1.03746712185769,
         "Sales Pred_2": 9.348468,
         "RSE2": 0.5648003470239988,
         "Sales Pred_3": 9.912364799999999,
         "RSE3": 0.03520696827904029,
         "_deepnote_index_column": 38
        },
        {
         "TV": 228,
         "Radio": 37.7,
         "Newspaper": 32,
         "Sales": 21.5,
         "Sales Pred": 17.87103,
         "RSE": 13.169423260899991,
         "Sales Pred_2": 17.883384,
         "RSE2": 13.079911291456003,
         "Sales Pred_3": 20.439473800000002,
         "RSE3": 1.124715820886436,
         "_deepnote_index_column": 39
        },
        {
         "TV": 202.5,
         "Radio": 22.3,
         "Newspaper": 31.6,
         "Sales": 16.6,
         "Sales Pred": 16.6588365,
         "RSE": 0.0034617337322497862,
         "Sales Pred_2": 16.6697209,
         "RSE2": 0.004861003896810012,
         "Sales Pred_3": 16.3777412,
         "RSE3": 0.049398974177441025,
         "_deepnote_index_column": 40
        },
        {
         "TV": 177,
         "Radio": 33.4,
         "Newspaper": 38.7,
         "Sales": 17.1,
         "Sales Pred": 15.446643,
         "RSE": 2.733589369449005,
         "Sales Pred_2": 15.787700300000001,
         "RSE2": 1.7221305026200913,
         "Sales Pred_3": 17.2978496,
         "RSE3": 0.03914446422015915,
         "_deepnote_index_column": 41
        },
        {
         "TV": 293.6,
         "Radio": 27.7,
         "Newspaper": 1.8,
         "Sales": 20.7,
         "Sales Pred": 20.989457200000004,
         "RSE": 0.08378547063184268,
         "Sales Pred_2": 19.624675800000002,
         "RSE2": 1.1563221351056339,
         "Sales Pred_3": 21.5607338,
         "RSE3": 0.7408626744624435,
         "_deepnote_index_column": 42
        },
        {
         "TV": 206.9,
         "Radio": 8.4,
         "Newspaper": 26.4,
         "Sales": 12.9,
         "Sales Pred": 16.8679993,
         "RSE": 15.745018444800495,
         "Sales Pred_2": 16.6461465,
         "RSE2": 14.03361359946225,
         "Sales Pred_3": 13.965924600000001,
         "RSE3": 1.1361952528851613,
         "_deepnote_index_column": 43
        },
        {
         "TV": 25.1,
         "Radio": 25.7,
         "Newspaper": 43.3,
         "Sales": 8.5,
         "Sales Pred": 8.2257727,
         "RSE": 0.07520061206528986,
         "Sales Pred_2": 8.8668458,
         "RSE2": 0.13457584097764008,
         "Sales Pred_3": 8.9008708,
         "RSE3": 0.16069739829263988,
         "_deepnote_index_column": 44
        },
        {
         "TV": 175.1,
         "Radio": 22.5,
         "Newspaper": 31.5,
         "Sales": 14.9,
         "Sales Pred": 15.3563227,
         "RSE": 0.20823040653528946,
         "Sales Pred_2": 15.380211599999999,
         "RSE2": 0.2306031807745588,
         "Sales Pred_3": 15.16179,
         "RSE3": 0.06853400409999975,
         "_deepnote_index_column": 45
        },
        {
         "TV": 89.7,
         "Radio": 9.9,
         "Newspaper": 35.7,
         "Sales": 10.6,
         "Sales Pred": 11.296662900000001,
         "RSE": 0.48533919623641214,
         "Sales Pred_2": 11.560586,
         "RSE2": 0.922725463396002,
         "Sales Pred_3": 8.8860156,
         "RSE3": 2.9377425234433576,
         "_deepnote_index_column": 46
        },
        {
         "TV": 239.9,
         "Radio": 41.5,
         "Newspaper": 18.5,
         "Sales": 23.2,
         "Sales Pred": 18.4367203,
         "RSE": 22.68883350043207,
         "Sales Pred_2": 17.844549400000002,
         "RSE2": 28.680851129040335,
         "Sales Pred_3": 21.698276,
         "RSE3": 2.255174972175998,
         "_deepnote_index_column": 47
        },
        {
         "TV": 227.2,
         "Radio": 15.8,
         "Newspaper": 49.9,
         "Sales": 14.8,
         "Sales Pred": 17.8330004,
         "RSE": 9.199091426400154,
         "Sales Pred_2": 18.6373833,
         "RSE2": 14.725510591118883,
         "Sales Pred_3": 16.2858052,
         "RSE3": 2.207617092347034,
         "_deepnote_index_column": 48
        },
        {
         "TV": 66.9,
         "Radio": 11.7,
         "Newspaper": 36.8,
         "Sales": 9.7,
         "Sales Pred": 10.2128193,
         "RSE": 0.26298363445249034,
         "Sales Pred_2": 10.5398841,
         "RSE2": 0.7054053014328113,
         "Sales Pred_3": 8.1813048,
         "RSE3": 2.306435110503039,
         "_deepnote_index_column": 49
        }
       ],
       "rows_bottom": [
        {
         "TV": 280.7,
         "Radio": 13.9,
         "Newspaper": 37,
         "Sales": 16.1,
         "Sales Pred": 20.3762299,
         "RSE": 18.286142157653984,
         "Sales Pred_2": 20.5761617,
         "RSE2": 20.036023564546877,
         "Sales Pred_3": 18.3762416,
         "RSE3": 5.181275821570554,
         "_deepnote_index_column": 150
        },
        {
         "TV": 121,
         "Radio": 8.4,
         "Newspaper": 48.7,
         "Sales": 11.6,
         "Sales Pred": 12.784571,
         "RSE": 1.4032084540410001,
         "Sales Pred_2": 13.6034343,
         "RSE2": 4.013748994416491,
         "Sales Pred_3": 10.0359996,
         "RSE3": 2.446097251200158,
         "_deepnote_index_column": 151
        },
        {
         "TV": 197.6,
         "Radio": 23.3,
         "Newspaper": 14.2,
         "Sales": 16.6,
         "Sales Pred": 16.4259052,
         "RSE": 0.030308999387040847,
         "Sales Pred_2": 15.670495399999998,
         "RSE2": 0.8639788014211658,
         "Sales Pred_3": 16.341560199999996,
         "RSE3": 0.06679113022404258,
         "_deepnote_index_column": 152
        },
        {
         "TV": 171.3,
         "Radio": 39.7,
         "Newspaper": 37.7,
         "Sales": 19,
         "Sales Pred": 15.175682100000001,
         "RSE": 14.6254074002604,
         "Sales Pred_2": 15.4761456,
         "RSE2": 12.417549832399356,
         "Sales Pred_3": 18.221436800000003,
         "RSE3": 0.6061606563942356,
         "_deepnote_index_column": 153
        },
        {
         "TV": 187.8,
         "Radio": 21.1,
         "Newspaper": 9.5,
         "Sales": 15.6,
         "Sales Pred": 15.960042600000001,
         "RSE": 0.1296306738147612,
         "Sales Pred_2": 15.0030363,
         "RSE2": 0.35636565911768986,
         "Sales Pred_3": 15.479623400000001,
         "RSE3": 0.014490525827559612,
         "_deepnote_index_column": 154
        },
        {
         "TV": 4.1,
         "Radio": 11.6,
         "Newspaper": 5.7,
         "Sales": 3.2,
         "Sales Pred": 7.2274956999999995,
         "RSE": 16.220721613518485,
         "Sales Pred_2": 6.2192904,
         "RSE2": 9.116114519532161,
         "Sales Pred_3": 5.2894054,
         "RSE3": 4.365614925549158,
         "_deepnote_index_column": 155
        },
        {
         "TV": 93.9,
         "Radio": 43.5,
         "Newspaper": 50.5,
         "Sales": 15.3,
         "Sales Pred": 11.4963183,
         "RSE": 14.467994474914892,
         "Sales Pred_2": 12.4120114,
         "RSE2": 8.34047815372996,
         "Sales Pred_3": 15.394763999999999,
         "RSE3": 0.008980215695999593,
         "_deepnote_index_column": 156
        },
        {
         "TV": 149.8,
         "Radio": 1.3,
         "Newspaper": 24.3,
         "Sales": 10.1,
         "Sales Pred": 14.1536366,
         "RSE": 16.431969684859567,
         "Sales Pred_2": 13.875239500000001,
         "RSE2": 14.252433282360261,
         "Sales Pred_3": 10.018842200000002,
         "RSE3": 0.006586588500839667,
         "_deepnote_index_column": 157
        },
        {
         "TV": 11.7,
         "Radio": 36.9,
         "Newspaper": 45.2,
         "Sales": 7.3,
         "Sales Pred": 7.588776899999999,
         "RSE": 0.08339209797360962,
         "Sales Pred_2": 8.3223885,
         "RSE2": 1.0452782449322517,
         "Sales Pred_3": 10.3933536,
         "RSE3": 9.568836494632956,
         "_deepnote_index_column": 158
        },
        {
         "TV": 131.7,
         "Radio": 18.4,
         "Newspaper": 34.6,
         "Sales": 12.9,
         "Sales Pred": 13.2932169,
         "RSE": 0.15461953044560903,
         "Sales Pred_2": 13.481787099999998,
         "RSE2": 0.33847622972640756,
         "Sales Pred_3": 12.405464599999998,
         "RSE3": 0.24456526185316194,
         "_deepnote_index_column": 159
        },
        {
         "TV": 172.5,
         "Radio": 18.1,
         "Newspaper": 30.7,
         "Sales": 14.4,
         "Sales Pred": 15.2327265,
         "RSE": 0.6934334238022495,
         "Sales Pred_2": 15.2228938,
         "RSE2": 0.6771542060784387,
         "Sales Pred_3": 14.2156664,
         "RSE3": 0.03397887608896016,
         "_deepnote_index_column": 160
        },
        {
         "TV": 85.7,
         "Radio": 35.8,
         "Newspaper": 49.3,
         "Sales": 13.3,
         "Sales Pred": 11.1065149,
         "RSE": 4.811376883922011,
         "Sales Pred_2": 11.9743604,
         "RSE2": 1.7573203490881615,
         "Sales Pred_3": 13.5720602,
         "RSE3": 0.0740167524240392,
         "_deepnote_index_column": 161
        },
        {
         "TV": 188.4,
         "Radio": 18.1,
         "Newspaper": 25.6,
         "Sales": 14.9,
         "Sales Pred": 15.9885648,
         "RSE": 1.1849733237990407,
         "Sales Pred_2": 15.7431028,
         "RSE2": 0.7108223313678408,
         "Sales Pred_3": 14.943091400000002,
         "RSE3": 0.0018568687539601341,
         "_deepnote_index_column": 162
        },
        {
         "TV": 163.5,
         "Radio": 36.8,
         "Newspaper": 7.4,
         "Sales": 18,
         "Sales Pred": 14.8048935,
         "RSE": 10.208705546342248,
         "Sales Pred_2": 13.7704821,
         "RSE2": 17.888821666420405,
         "Sales Pred_3": 17.3194042,
         "RSE3": 0.4632106429776386,
         "_deepnote_index_column": 163
        },
        {
         "TV": 117.2,
         "Radio": 14.7,
         "Newspaper": 5.4,
         "Sales": 11.9,
         "Sales Pred": 12.6039304,
         "RSE": 0.4955180080441587,
         "Sales Pred_2": 11.5105278,
         "RSE2": 0.15168859457284012,
         "Sales Pred_3": 11.046511800000001,
         "RSE3": 0.7284421075392388,
         "_deepnote_index_column": 164
        },
        {
         "TV": 234.5,
         "Radio": 3.4,
         "Newspaper": 84.8,
         "Sales": 11.9,
         "Sales Pred": 18.180020499999998,
         "RSE": 39.43865748042022,
         "Sales Pred_2": 20.5230037,
         "RSE2": 74.35619281021368,
         "Sales Pred_3": 14.2886546,
         "RSE3": 5.7056707981011545,
         "_deepnote_index_column": 165
        },
        {
         "TV": 17.9,
         "Radio": 37.6,
         "Newspaper": 21.6,
         "Sales": 8,
         "Sales Pred": 7.8835063,
         "RSE": 0.013570782139690086,
         "Sales Pred_2": 7.5696063,
         "RSE2": 0.1852387369996898,
         "Sales Pred_3": 10.8085994,
         "RSE3": 7.8882305896803615,
         "_deepnote_index_column": 166
        },
        {
         "TV": 206.8,
         "Radio": 5.2,
         "Newspaper": 19.4,
         "Sales": 12.2,
         "Sales Pred": 16.8632456,
         "RSE": 21.745859525919357,
         "Sales Pred_2": 16.3319234,
         "RSE2": 17.072790983467574,
         "Sales Pred_3": 13.359768800000001,
         "RSE3": 1.3450636694534446,
         "_deepnote_index_column": 167
        },
        {
         "TV": 215.4,
         "Radio": 23.6,
         "Newspaper": 57.6,
         "Sales": 17.1,
         "Sales Pred": 17.272063799999998,
         "RSE": 0.029605951270438812,
         "Sales Pred_2": 18.4244378,
         "RSE2": 1.7541354860688356,
         "Sales Pred_3": 17.212308399999998,
         "RSE3": 0.01261317671055917,
         "_deepnote_index_column": 168
        },
        {
         "TV": 284.3,
         "Radio": 10.6,
         "Newspaper": 6.4,
         "Sales": 15,
         "Sales Pred": 20.5473631,
         "RSE": 30.77323736324159,
         "Sales Pred_2": 19.3919039,
         "RSE2": 19.2888198668352,
         "Sales Pred_3": 17.920561399999997,
         "RSE3": 8.529678891169942,
         "_deepnote_index_column": 169
        },
        {
         "TV": 50,
         "Radio": 11.6,
         "Newspaper": 18.4,
         "Sales": 8.4,
         "Sales Pred": 9.409444,
         "RSE": 1.0189771891360004,
         "Sales Pred_2": 8.933627600000001,
         "RSE2": 0.28475841548176095,
         "Sales Pred_3": 7.3893304,
         "RSE3": 1.02145304036416,
         "_deepnote_index_column": 170
        },
        {
         "TV": 164.5,
         "Radio": 20.9,
         "Newspaper": 47.4,
         "Sales": 14.5,
         "Sales Pred": 14.8524305,
         "RSE": 0.12420725733025037,
         "Sales Pred_2": 15.586143100000001,
         "RSE2": 1.1797068336776122,
         "Sales Pred_3": 14.3760496,
         "RSE3": 0.015363701660160003,
         "_deepnote_index_column": 171
        },
        {
         "TV": 19.6,
         "Radio": 20.1,
         "Newspaper": 17,
         "Sales": 7.6,
         "Sales Pred": 7.964319199999999,
         "RSE": 0.1327284794886398,
         "Sales Pred_2": 7.4459306000000005,
         "RSE2": 0.023737380016359732,
         "Sales Pred_3": 7.5964794,
         "RSE3": 0.000012394624359999112,
         "_deepnote_index_column": 172
        },
        {
         "TV": 168.4,
         "Radio": 7.1,
         "Newspaper": 12.8,
         "Sales": 11.7,
         "Sales Pred": 15.037824800000001,
         "RSE": 11.141074395495052,
         "Sales Pred_2": 14.2390796,
         "RSE2": 6.446925215136164,
         "Sales Pred_3": 11.9601574,
         "RSE3": 0.06768187277476034,
         "_deepnote_index_column": 173
        },
        {
         "TV": 222.4,
         "Radio": 3.4,
         "Newspaper": 13.1,
         "Sales": 11.5,
         "Sales Pred": 17.6048228,
         "RSE": 37.26886141939985,
         "Sales Pred_2": 16.7849993,
         "RSE2": 27.93121760100048,
         "Sales Pred_3": 13.7350796,
         "RSE3": 4.995580818336163,
         "_deepnote_index_column": 174
        },
        {
         "TV": 276.9,
         "Radio": 48.9,
         "Newspaper": 41.8,
         "Sales": 27,
         "Sales Pred": 20.1955893,
         "RSE": 46.300004974274465,
         "Sales Pred_2": 20.610189099999996,
         "RSE2": 40.829683337758865,
         "Sales Pred_3": 24.782181599999994,
         "RSE3": 4.918718455378586,
         "_deepnote_index_column": 175
        },
        {
         "TV": 248.4,
         "Radio": 30.2,
         "Newspaper": 20.3,
         "Sales": 20.2,
         "Sales Pred": 18.8407848,
         "RSE": 1.847465959911034,
         "Sales Pred_2": 18.3228021,
         "RSE2": 3.523871955764405,
         "Sales Pred_3": 19.9628188,
         "RSE3": 0.05625492163343925,
         "_deepnote_index_column": 176
        },
        {
         "TV": 170.2,
         "Radio": 7.8,
         "Newspaper": 35.2,
         "Sales": 11.7,
         "Sales Pred": 15.1233914,
         "RSE": 11.719608677593959,
         "Sales Pred_2": 15.314007,
         "RSE2": 13.061046596049007,
         "Sales Pred_3": 12.1741032,
         "RSE3": 0.22477384425024005,
         "_deepnote_index_column": 177
        },
        {
         "TV": 276.7,
         "Radio": 2.3,
         "Newspaper": 23.7,
         "Sales": 11.8,
         "Sales Pred": 20.186081899999998,
         "RSE": 70.32636963350757,
         "Sales Pred_2": 19.800445,
         "RSE2": 64.00712019802499,
         "Sales Pred_3": 16.0125112,
         "RSE3": 17.745250610125424,
         "_deepnote_index_column": 178
        },
        {
         "TV": 165.6,
         "Radio": 10,
         "Newspaper": 17.6,
         "Sales": 12.6,
         "Sales Pred": 14.904721200000001,
         "RSE": 5.3117398097294455,
         "Sales Pred_2": 14.320008,
         "RSE2": 2.958427520064,
         "Sales Pred_3": 12.377239999999999,
         "RSE3": 0.04962201760000043,
         "_deepnote_index_column": 179
        },
        {
         "TV": 156.6,
         "Radio": 2.6,
         "Newspaper": 8.3,
         "Sales": 10.5,
         "Sales Pred": 14.4768882,
         "RSE": 15.815639755299236,
         "Sales Pred_2": 13.4866623,
         "RSE2": 8.920151694241294,
         "Sales Pred_3": 10.5743344,
         "RSE3": 0.005525603023359954,
         "_deepnote_index_column": 180
        },
        {
         "TV": 218.5,
         "Radio": 5.4,
         "Newspaper": 27.4,
         "Sales": 12.2,
         "Sales Pred": 17.419428500000002,
         "RSE": 27.24243386661228,
         "Sales Pred_2": 17.234417099999998,
         "RSE2": 25.3453555367724,
         "Sales Pred_3": 13.9326426,
         "RSE3": 3.0020503793347606,
         "_deepnote_index_column": 181
        },
        {
         "TV": 56.2,
         "Radio": 5.7,
         "Newspaper": 29.7,
         "Sales": 8.7,
         "Sales Pred": 9.7041734,
         "RSE": 1.0083642172675618,
         "Sales Pred_2": 9.7240885,
         "RSE2": 1.0487572558322527,
         "Sales Pred_3": 6.5638158,
         "RSE3": 4.563282936329635,
         "_deepnote_index_column": 182
        },
        {
         "TV": 287.6,
         "Radio": 43,
         "Newspaper": 71.8,
         "Sales": 26.2,
         "Sales Pred": 20.7042352,
         "RSE": 30.20343073691904,
         "Sales Pred_2": 22.4385998,
         "RSE2": 14.148131464560045,
         "Sales Pred_3": 24.162542000000002,
         "RSE3": 4.151235101763989,
         "_deepnote_index_column": 183
        },
        {
         "TV": 253.8,
         "Radio": 21.3,
         "Newspaper": 30,
         "Sales": 17.6,
         "Sales Pred": 19.0974846,
         "RSE": 2.24246012723716,
         "Sales Pred_2": 19.004991800000003,
         "RSE2": 1.9740019580672434,
         "Sales Pred_3": 18.5367222,
         "RSE3": 0.877448479972837,
         "_deepnote_index_column": 184
        },
        {
         "TV": 205,
         "Radio": 45.1,
         "Newspaper": 19.6,
         "Sales": 22.6,
         "Sales Pred": 16.777679,
         "RSE": 33.899421827041024,
         "Sales Pred_2": 16.2563454,
         "RSE2": 40.24195368410117,
         "Sales Pred_3": 20.7783794,
         "RSE3": 3.31830161034437,
         "_deepnote_index_column": 185
        },
        {
         "TV": 139.5,
         "Radio": 2.1,
         "Newspaper": 26.6,
         "Sales": 10.3,
         "Sales Pred": 13.6640055,
         "RSE": 11.316533004030246,
         "Sales Pred_2": 13.4938629,
         "RSE2": 10.200760223996404,
         "Sales Pred_3": 9.698012400000001,
         "RSE3": 0.36238907055375913,
         "_deepnote_index_column": 186
        },
        {
         "TV": 191.1,
         "Radio": 28.7,
         "Newspaper": 18.2,
         "Sales": 17.3,
         "Sales Pred": 16.116914700000002,
         "RSE": 1.3996908270760862,
         "Sales Pred_2": 15.542514899999999,
         "RSE2": 3.0887538767220173,
         "Sales Pred_3": 17.0593528,
         "RSE3": 0.05791107486784072,
         "_deepnote_index_column": 187
        },
        {
         "TV": 286,
         "Radio": 13.9,
         "Newspaper": 3.7,
         "Sales": 15.9,
         "Sales Pred": 20.628176,
         "RSE": 22.355648286975995,
         "Sales Pred_2": 19.3522443,
         "RSE2": 11.91799070688248,
         "Sales Pred_3": 18.618716600000003,
         "RSE3": 7.391419951115572,
         "_deepnote_index_column": 188
        },
        {
         "TV": 18.7,
         "Radio": 12.1,
         "Newspaper": 23.4,
         "Sales": 6.7,
         "Sales Pred": 7.921535899999999,
         "RSE": 1.4921499549888082,
         "Sales Pred_2": 7.686721299999999,
         "RSE2": 0.9736189238736885,
         "Sales Pred_3": 6.0513524,
         "RSE3": 0.4207437089857604,
         "_deepnote_index_column": 189
        },
        {
         "TV": 39.5,
         "Radio": 41.1,
         "Newspaper": 5.8,
         "Sales": 10.8,
         "Sales Pred": 8.9103055,
         "RSE": 3.5709453033302534,
         "Sales Pred_2": 7.8840077,
         "RSE2": 8.503011093659296,
         "Sales Pred_3": 12.4547784,
         "RSE3": 2.738291553106559,
         "_deepnote_index_column": 190
        },
        {
         "TV": 75.5,
         "Radio": 10.8,
         "Newspaper": 6,
         "Sales": 9.9,
         "Sales Pred": 10.6216375,
         "RSE": 0.5207606814062499,
         "Sales Pred_2": 9.5812875,
         "RSE2": 0.10157765765625011,
         "Sales Pred_3": 8.4055602,
         "RSE3": 2.233350315824041,
         "_deepnote_index_column": 191
        },
        {
         "TV": 17.2,
         "Radio": 4.1,
         "Newspaper": 31.6,
         "Sales": 5.9,
         "Sales Pred": 7.850230399999999,
         "RSE": 3.8033986130841555,
         "Sales Pred_2": 7.9789656,
         "RSE2": 4.32209796598336,
         "Sales Pred_3": 4.4787754,
         "RSE3": 2.019879363645161,
         "_deepnote_index_column": 192
        },
        {
         "TV": 166.8,
         "Radio": 42,
         "Newspaper": 3.6,
         "Sales": 19.6,
         "Sales Pred": 14.9617656,
         "RSE": 21.513218349343376,
         "Sales Pred_2": 13.7572232,
         "RSE2": 34.13804073461825,
         "Sales Pred_3": 18.447947999999997,
         "RSE3": 1.3272238107040109,
         "_deepnote_index_column": 193
        },
        {
         "TV": 149.7,
         "Radio": 35.6,
         "Newspaper": 6,
         "Sales": 17.3,
         "Sales Pred": 14.1488829,
         "RSE": 9.929538977912413,
         "Sales Pred_2": 13.0613417,
         "RSE2": 17.966224184158897,
         "Sales Pred_3": 16.4624614,
         "RSE3": 0.7014709064899634,
         "_deepnote_index_column": 194
        },
        {
         "TV": 38.2,
         "Radio": 3.7,
         "Newspaper": 13.8,
         "Sales": 7.6,
         "Sales Pred": 8.848507399999999,
         "RSE": 1.5587707278547585,
         "Sales Pred_2": 8.176788400000001,
         "RSE2": 0.3326848583745619,
         "Sales Pred_3": 5.3643278,
         "RSE3": 4.998230185852839,
         "_deepnote_index_column": 195
        },
        {
         "TV": 94.2,
         "Radio": 4.9,
         "Newspaper": 8.1,
         "Sales": 9.7,
         "Sales Pred": 11.510579400000001,
         "RSE": 3.2781977637043664,
         "Sales Pred_2": 10.551196100000002,
         "RSE2": 0.7245348006552147,
         "Sales Pred_3": 8.1519206,
         "RSE3": 2.3965498287043565,
         "_deepnote_index_column": 196
        },
        {
         "TV": 177,
         "Radio": 9.3,
         "Newspaper": 6.4,
         "Sales": 12.8,
         "Sales Pred": 15.446643,
         "RSE": 7.004719169448996,
         "Sales Pred_2": 14.3594266,
         "RSE2": 2.4318113207875602,
         "Sales Pred_3": 12.7671942,
         "RSE3": 0.0010762205136400143,
         "_deepnote_index_column": 197
        },
        {
         "TV": 283.6,
         "Radio": 42,
         "Newspaper": 66.2,
         "Sales": 25.5,
         "Sales Pred": 20.514087200000002,
         "RSE": 24.859326449203817,
         "Sales Pred_2": 22.0033694,
         "RSE2": 12.226425552856357,
         "Sales Pred_3": 23.791548,
         "RSE3": 2.918808236304004,
         "_deepnote_index_column": 198
        },
        {
         "TV": 232.1,
         "Radio": 8.6,
         "Newspaper": 8.7,
         "Sales": 13.4,
         "Sales Pred": 18.0659317,
         "RSE": 21.770918629064887,
         "Sales Pred_2": 17.045375399999998,
         "RSE2": 13.28876180692514,
         "Sales Pred_3": 15.1564234,
         "RSE3": 3.085023160067557,
         "_deepnote_index_column": 199
        }
       ]
      },
      "text/plain": "        TV  Radio  Newspaper  Sales  Sales Pred        RSE  Sales Pred_2  \\\n0    230.1   37.8       69.2   22.1   17.970858  17.049816     19.626823   \n1     44.5   39.3       45.1   10.4    9.147990   1.567528      9.856319   \n2     17.2   45.9       69.3    9.3    7.850230   2.101832      9.646022   \n3    151.5   41.3       58.5   18.5   14.234450  18.194921     15.467261   \n4    180.8   10.8       58.4   12.9   15.627284   7.438076     16.837038   \n..     ...    ...        ...    ...         ...        ...           ...   \n195   38.2    3.7       13.8    7.6    8.848507   1.558771      8.176788   \n196   94.2    4.9        8.1    9.7   11.510579   3.278198     10.551196   \n197  177.0    9.3        6.4   12.8   15.446643   7.004719     14.359427   \n198  283.6   42.0       66.2   25.5   20.514087  24.859326     22.003369   \n199  232.1    8.6        8.7   13.4   18.065932  21.770919     17.045375   \n\n          RSE2  Sales Pred_3      RSE3  \n0     6.116605     20.554348  2.389039  \n1     0.295589     12.345139  3.783567  \n2     0.119731     12.336925  9.222911  \n3     9.197506     17.616377  0.780789  \n4    15.500271     13.223035  0.104352  \n..         ...           ...       ...  \n195   0.332685      5.364328  4.998230  \n196   0.724535      8.151921  2.396550  \n197   2.431811     12.767194  0.001076  \n198  12.226426     23.791548  2.918808  \n199  13.288762     15.156423  3.085023  \n\n[200 rows x 10 columns]",
      "text/html": "<div>\n<style scoped>\n    .dataframe tbody tr th:only-of-type {\n        vertical-align: middle;\n    }\n\n    .dataframe tbody tr th {\n        vertical-align: top;\n    }\n\n    .dataframe thead th {\n        text-align: right;\n    }\n</style>\n<table border=\"1\" class=\"dataframe\">\n  <thead>\n    <tr style=\"text-align: right;\">\n      <th></th>\n      <th>TV</th>\n      <th>Radio</th>\n      <th>Newspaper</th>\n      <th>Sales</th>\n      <th>Sales Pred</th>\n      <th>RSE</th>\n      <th>Sales Pred_2</th>\n      <th>RSE2</th>\n      <th>Sales Pred_3</th>\n      <th>RSE3</th>\n    </tr>\n  </thead>\n  <tbody>\n    <tr>\n      <th>0</th>\n      <td>230.1</td>\n      <td>37.8</td>\n      <td>69.2</td>\n      <td>22.1</td>\n      <td>17.970858</td>\n      <td>17.049816</td>\n      <td>19.626823</td>\n      <td>6.116605</td>\n      <td>20.554348</td>\n      <td>2.389039</td>\n    </tr>\n    <tr>\n      <th>1</th>\n      <td>44.5</td>\n      <td>39.3</td>\n      <td>45.1</td>\n      <td>10.4</td>\n      <td>9.147990</td>\n      <td>1.567528</td>\n      <td>9.856319</td>\n      <td>0.295589</td>\n      <td>12.345139</td>\n      <td>3.783567</td>\n    </tr>\n    <tr>\n      <th>2</th>\n      <td>17.2</td>\n      <td>45.9</td>\n      <td>69.3</td>\n      <td>9.3</td>\n      <td>7.850230</td>\n      <td>2.101832</td>\n      <td>9.646022</td>\n      <td>0.119731</td>\n      <td>12.336925</td>\n      <td>9.222911</td>\n    </tr>\n    <tr>\n      <th>3</th>\n      <td>151.5</td>\n      <td>41.3</td>\n      <td>58.5</td>\n      <td>18.5</td>\n      <td>14.234450</td>\n      <td>18.194921</td>\n      <td>15.467261</td>\n      <td>9.197506</td>\n      <td>17.616377</td>\n      <td>0.780789</td>\n    </tr>\n    <tr>\n      <th>4</th>\n      <td>180.8</td>\n      <td>10.8</td>\n      <td>58.4</td>\n      <td>12.9</td>\n      <td>15.627284</td>\n      <td>7.438076</td>\n      <td>16.837038</td>\n      <td>15.500271</td>\n      <td>13.223035</td>\n      <td>0.104352</td>\n    </tr>\n    <tr>\n      <th>...</th>\n      <td>...</td>\n      <td>...</td>\n      <td>...</td>\n      <td>...</td>\n      <td>...</td>\n      <td>...</td>\n      <td>...</td>\n      <td>...</td>\n      <td>...</td>\n      <td>...</td>\n    </tr>\n    <tr>\n      <th>195</th>\n      <td>38.2</td>\n      <td>3.7</td>\n      <td>13.8</td>\n      <td>7.6</td>\n      <td>8.848507</td>\n      <td>1.558771</td>\n      <td>8.176788</td>\n      <td>0.332685</td>\n      <td>5.364328</td>\n      <td>4.998230</td>\n    </tr>\n    <tr>\n      <th>196</th>\n      <td>94.2</td>\n      <td>4.9</td>\n      <td>8.1</td>\n      <td>9.7</td>\n      <td>11.510579</td>\n      <td>3.278198</td>\n      <td>10.551196</td>\n      <td>0.724535</td>\n      <td>8.151921</td>\n      <td>2.396550</td>\n    </tr>\n    <tr>\n      <th>197</th>\n      <td>177.0</td>\n      <td>9.3</td>\n      <td>6.4</td>\n      <td>12.8</td>\n      <td>15.446643</td>\n      <td>7.004719</td>\n      <td>14.359427</td>\n      <td>2.431811</td>\n      <td>12.767194</td>\n      <td>0.001076</td>\n    </tr>\n    <tr>\n      <th>198</th>\n      <td>283.6</td>\n      <td>42.0</td>\n      <td>66.2</td>\n      <td>25.5</td>\n      <td>20.514087</td>\n      <td>24.859326</td>\n      <td>22.003369</td>\n      <td>12.226426</td>\n      <td>23.791548</td>\n      <td>2.918808</td>\n    </tr>\n    <tr>\n      <th>199</th>\n      <td>232.1</td>\n      <td>8.6</td>\n      <td>8.7</td>\n      <td>13.4</td>\n      <td>18.065932</td>\n      <td>21.770919</td>\n      <td>17.045375</td>\n      <td>13.288762</td>\n      <td>15.156423</td>\n      <td>3.085023</td>\n    </tr>\n  </tbody>\n</table>\n<p>200 rows × 10 columns</p>\n</div>"
     },
     "metadata": {}
    }
   ]
  },
  {
   "cell_type": "markdown",
   "source": "## Multicolinealidad",
   "metadata": {
    "tags": [],
    "is_collapsed": false,
    "cell_id": "00060-ef9057b3-fe37-4360-b74c-a8fd03281313",
    "deepnote_cell_type": "text-cell-h2"
   }
  },
  {
   "cell_type": "markdown",
   "source": "Se refiere a una situación en la que dos o más **variables explicativas** se parecen mucho y, por tanto, resulta difícil medir sus efectos individuales sobre la **variable explicada**\n\n**Factor Inflación de la Varianza**\n\n- **VIF** = 1 ➡ Las variables no están correlacionadas\n- **VIF** < 5 ➡ Las variables tienen una correlación moderada y se pueden quedar en el modelo\n- **VIF** > 5 ➡ Las variables están altamente correlacionadas y deben desaparecer del modelo\n",
   "metadata": {
    "tags": [],
    "cell_id": "00061-0330f3cd-0f64-440c-bfcd-08309b470c73",
    "deepnote_cell_type": "markdown"
   }
  },
  {
   "cell_type": "code",
   "metadata": {
    "tags": [],
    "deepnote_to_be_reexecuted": false,
    "source_hash": "35f2ebc1",
    "execution_start": 1636578493589,
    "execution_millis": 8,
    "cell_id": "00062-a1401edb-52c1-40f7-8b18-04938a57b078",
    "deepnote_cell_type": "code"
   },
   "source": "# Newspaper ~ TV + Radio\n\nlinear_model_n = smf.ols(formula='Newspaper~TV+Radio', data=data).fit()\nR2_n = linear_model_n.rsquared\nVIF_n = 1/(1-R2_n)\ndisplay(VIF_n)",
   "execution_count": 48,
   "outputs": [
    {
     "data": {
      "text/plain": "1.1451873787239288"
     },
     "metadata": {},
     "output_type": "display_data"
    }
   ]
  },
  {
   "cell_type": "code",
   "metadata": {
    "tags": [],
    "deepnote_to_be_reexecuted": false,
    "source_hash": "83ad9f22",
    "execution_start": 1636578531075,
    "execution_millis": 32,
    "cell_id": "00063-68228e3d-9002-4cc9-b08a-194411984b04",
    "deepnote_cell_type": "code"
   },
   "source": "# TV ~ Newspaper + Radio\n\nlinear_model_tv = smf.ols(formula='TV~Newspaper+Radio', data=data).fit()\nR2_tv = linear_model_tv.rsquared\nVIF_tv = 1/(1-R2_tv)\ndisplay(VIF_tv)",
   "execution_count": 49,
   "outputs": [
    {
     "data": {
      "text/plain": "1.00461078493965"
     },
     "metadata": {},
     "output_type": "display_data"
    }
   ]
  },
  {
   "cell_type": "code",
   "metadata": {
    "tags": [],
    "deepnote_to_be_reexecuted": false,
    "source_hash": "aa91d7db",
    "execution_start": 1636578629686,
    "execution_millis": 24,
    "cell_id": "00064-2b4a59c8-e038-4edd-9e37-10066c8b3ba6",
    "deepnote_cell_type": "code"
   },
   "source": "# Radio ~ TV + Newspaper\n\nlinear_model_r = smf.ols(formula='Radio~TV+Newspaper', data=data).fit()\nR2_r = linear_model_r.rsquared\nVIF_r = 1/(1-R2_r)\ndisplay(VIF_r)",
   "execution_count": 51,
   "outputs": [
    {
     "data": {
      "text/plain": "1.1449519171055353"
     },
     "metadata": {},
     "output_type": "display_data"
    }
   ]
  },
  {
   "cell_type": "markdown",
   "source": "## Conclusiones",
   "metadata": {
    "tags": [],
    "is_collapsed": false,
    "cell_id": "00065-e2d916a6-8747-47ad-8d0e-25f2a5a897dc",
    "deepnote_cell_type": "text-cell-h2"
   }
  },
  {
   "cell_type": "markdown",
   "source": "Analizando el **periódico** y la **radio** tienen casi el mismo **VIF**, esto significa que ambas **variables** están absolutamente **correlacionadas** la una con la otra, pero no lo están con **TV** debido a sus resultados en **VIF**, esto significa que el **modelo** con las 3 **variables** como **predictoras** o **explicativas** no mejoran los resultados, entre quedarnos con el **periódico** o con la **radio**, decidimos evidentemente quedarnos con la **radio**, porque no da una mejor **precisión** en nuestro **modelo**",
   "metadata": {
    "tags": [],
    "cell_id": "00066-54a11156-f07f-42ca-b98d-1df30e28f5f8",
    "deepnote_cell_type": "markdown"
   }
  },
  {
   "cell_type": "code",
   "metadata": {
    "tags": [],
    "deepnote_to_be_reexecuted": false,
    "source_hash": "6788be3",
    "execution_start": 1636579277636,
    "execution_millis": 74,
    "cell_id": "00067-0d6f636f-7d3c-47a7-aa83-923f74d6c2de",
    "deepnote_cell_type": "code"
   },
   "source": "# Modelo elegido\n\nlinear_model_3.summary2()",
   "execution_count": 52,
   "outputs": [
    {
     "output_type": "execute_result",
     "execution_count": 52,
     "data": {
      "text/plain": "<class 'statsmodels.iolib.summary2.Summary'>\n\"\"\"\n                 Results: Ordinary least squares\n=================================================================\nModel:              OLS              Adj. R-squared:     0.896   \nDependent Variable: Sales            AIC:                778.3941\nDate:               2021-11-10 21:21 BIC:                788.2891\nNo. Observations:   200              Log-Likelihood:     -386.20 \nDf Model:           2                F-statistic:        859.6   \nDf Residuals:       197              Prob (F-statistic): 4.83e-98\nR-squared:          0.897            Scale:              2.8270  \n-------------------------------------------------------------------\n             Coef.    Std.Err.      t      P>|t|    [0.025   0.975]\n-------------------------------------------------------------------\nIntercept    2.9211     0.2945    9.9192   0.0000   2.3403   3.5019\nTV           0.0458     0.0014   32.9087   0.0000   0.0430   0.0485\nRadio        0.1880     0.0080   23.3824   0.0000   0.1721   0.2038\n-----------------------------------------------------------------\nOmnibus:             60.022       Durbin-Watson:          2.081  \nProb(Omnibus):       0.000        Jarque-Bera (JB):       148.679\nSkew:                -1.323       Prob(JB):               0.000  \nKurtosis:            6.292        Condition No.:          425    \n=================================================================\n\n\"\"\"",
      "text/html": "<table class=\"simpletable\">\n<tr>\n        <td>Model:</td>               <td>OLS</td>         <td>Adj. R-squared:</td>     <td>0.896</td> \n</tr>\n<tr>\n  <td>Dependent Variable:</td>       <td>Sales</td>             <td>AIC:</td>         <td>778.3941</td>\n</tr>\n<tr>\n         <td>Date:</td>        <td>2021-11-10 21:21</td>        <td>BIC:</td>         <td>788.2891</td>\n</tr>\n<tr>\n   <td>No. Observations:</td>         <td>200</td>         <td>Log-Likelihood:</td>    <td>-386.20</td>\n</tr>\n<tr>\n       <td>Df Model:</td>              <td>2</td>           <td>F-statistic:</td>       <td>859.6</td> \n</tr>\n<tr>\n     <td>Df Residuals:</td>           <td>197</td>       <td>Prob (F-statistic):</td> <td>4.83e-98</td>\n</tr>\n<tr>\n      <td>R-squared:</td>            <td>0.897</td>            <td>Scale:</td>         <td>2.8270</td> \n</tr>\n</table>\n<table class=\"simpletable\">\n<tr>\n      <td></td>       <th>Coef.</th> <th>Std.Err.</th>    <th>t</th>     <th>P>|t|</th> <th>[0.025</th> <th>0.975]</th>\n</tr>\n<tr>\n  <th>Intercept</th> <td>2.9211</td>  <td>0.2945</td>  <td>9.9192</td>  <td>0.0000</td> <td>2.3403</td> <td>3.5019</td>\n</tr>\n<tr>\n  <th>TV</th>        <td>0.0458</td>  <td>0.0014</td>  <td>32.9087</td> <td>0.0000</td> <td>0.0430</td> <td>0.0485</td>\n</tr>\n<tr>\n  <th>Radio</th>     <td>0.1880</td>  <td>0.0080</td>  <td>23.3824</td> <td>0.0000</td> <td>0.1721</td> <td>0.2038</td>\n</tr>\n</table>\n<table class=\"simpletable\">\n<tr>\n     <td>Omnibus:</td>    <td>60.022</td>  <td>Durbin-Watson:</td>    <td>2.081</td> \n</tr>\n<tr>\n  <td>Prob(Omnibus):</td>  <td>0.000</td> <td>Jarque-Bera (JB):</td> <td>148.679</td>\n</tr>\n<tr>\n       <td>Skew:</td>     <td>-1.323</td>     <td>Prob(JB):</td>      <td>0.000</td> \n</tr>\n<tr>\n     <td>Kurtosis:</td>    <td>6.292</td>  <td>Condition No.:</td>     <td>425</td>  \n</tr>\n</table>"
     },
     "metadata": {}
    }
   ]
  },
  {
   "cell_type": "markdown",
   "source": "<a style='text-decoration:none;line-height:16px;display:flex;color:#5B5B62;padding:10px;justify-content:end;' href='https://deepnote.com?utm_source=created-in-deepnote-cell&projectId=4ec84517-f553-446b-9032-1da3132bd62a' target=\"_blank\">\n<img alt='Created in deepnote.com' style='display:inline;max-height:16px;margin:0px;margin-right:7.5px;' src='data:image/svg+xml;base64,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' > </img>\nCreated in <span style='font-weight:600;margin-left:4px;'>Deepnote</span></a>",
   "metadata": {
    "tags": [],
    "created_in_deepnote_cell": true,
    "deepnote_cell_type": "markdown"
   }
  }
 ],
 "nbformat": 4,
 "nbformat_minor": 2,
 "metadata": {
  "orig_nbformat": 2,
  "deepnote": {
   "is_reactive": false
  },
  "deepnote_notebook_id": "e39c25d2-fb6a-46db-a634-2647299e0291",
  "deepnote_execution_queue": []
 }
}