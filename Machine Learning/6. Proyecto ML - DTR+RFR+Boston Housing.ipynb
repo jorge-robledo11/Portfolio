{
 "cells": [
  {
   "cell_type": "markdown",
   "source": "# Decision Tree Regression",
   "metadata": {
    "tags": [],
    "is_collapsed": false,
    "cell_id": "00000-e2a18307-c62e-4a04-b9e9-6c0dfecb216a",
    "deepnote_cell_type": "text-cell-h1"
   }
  },
  {
   "cell_type": "code",
   "metadata": {
    "tags": [],
    "deepnote_to_be_reexecuted": false,
    "source_hash": "ac8059ec",
    "execution_start": 1637279967667,
    "execution_millis": 1213,
    "cell_id": "00001-43f82347-429a-4bde-ae42-8574b65cc913",
    "deepnote_cell_type": "code"
   },
   "source": "# Core\nimport pandas as pd\nimport numpy as np\nimport warnings\nfrom IPython.display import *\nimport matplotlib.pyplot as plt",
   "execution_count": 1,
   "outputs": []
  },
  {
   "cell_type": "code",
   "metadata": {
    "tags": [],
    "deepnote_to_be_reexecuted": false,
    "source_hash": "61aa0c72",
    "execution_start": 1637279968918,
    "execution_millis": 4,
    "cell_id": "00002-aaaca9d4-d083-4018-8bbb-19b66894db94",
    "deepnote_cell_type": "code"
   },
   "source": "# Evitamos la notación científica y rendondeamos los valores a 2 dígitos después de la coma\npd.options.display.float_format = '{:.2f}'.format\n\n# Evitamos los molestos warnings\nwarnings.simplefilter(\"ignore\")",
   "execution_count": 2,
   "outputs": []
  },
  {
   "cell_type": "code",
   "metadata": {
    "tags": [],
    "deepnote_to_be_reexecuted": false,
    "source_hash": "47751695",
    "execution_start": 1637279968982,
    "execution_millis": 275,
    "deepnote_output_heights": [
     176.06666564941406
    ],
    "cell_id": "00003-b5e1c4d1-d4aa-4378-9e52-0e664d5e507a",
    "deepnote_cell_type": "code"
   },
   "source": "# Cargamos nuestro dataset\ndata = pd.read_csv('https://raw.githubusercontent.com/jorge-robledo11/Datasets/main/Datasets/boston/Boston.csv')\ndata.head()",
   "execution_count": 3,
   "outputs": [
    {
     "output_type": "execute_result",
     "execution_count": 3,
     "data": {
      "application/vnd.deepnote.dataframe.v2+json": {
       "row_count": 5,
       "column_count": 14,
       "columns": [
        {
         "name": "crim",
         "dtype": "float64",
         "stats": {
          "unique_count": 5,
          "nan_count": 0,
          "min": "0.00632",
          "max": "0.06905",
          "histogram": [
           {
            "bin_start": 0.00632,
            "bin_end": 0.012593,
            "count": 1
           },
           {
            "bin_start": 0.012593,
            "bin_end": 0.018865999999999997,
            "count": 0
           },
           {
            "bin_start": 0.018865999999999997,
            "bin_end": 0.025138999999999995,
            "count": 0
           },
           {
            "bin_start": 0.025138999999999995,
            "bin_end": 0.031411999999999995,
            "count": 2
           },
           {
            "bin_start": 0.031411999999999995,
            "bin_end": 0.037684999999999996,
            "count": 1
           },
           {
            "bin_start": 0.037684999999999996,
            "bin_end": 0.04395799999999999,
            "count": 0
           },
           {
            "bin_start": 0.04395799999999999,
            "bin_end": 0.05023099999999999,
            "count": 0
           },
           {
            "bin_start": 0.05023099999999999,
            "bin_end": 0.05650399999999999,
            "count": 0
           },
           {
            "bin_start": 0.05650399999999999,
            "bin_end": 0.062777,
            "count": 0
           },
           {
            "bin_start": 0.062777,
            "bin_end": 0.06905,
            "count": 1
           }
          ]
         }
        },
        {
         "name": "zn",
         "dtype": "float64",
         "stats": {
          "unique_count": 2,
          "nan_count": 0,
          "min": "0.0",
          "max": "18.0",
          "histogram": [
           {
            "bin_start": 0,
            "bin_end": 1.8,
            "count": 4
           },
           {
            "bin_start": 1.8,
            "bin_end": 3.6,
            "count": 0
           },
           {
            "bin_start": 3.6,
            "bin_end": 5.4,
            "count": 0
           },
           {
            "bin_start": 5.4,
            "bin_end": 7.2,
            "count": 0
           },
           {
            "bin_start": 7.2,
            "bin_end": 9,
            "count": 0
           },
           {
            "bin_start": 9,
            "bin_end": 10.8,
            "count": 0
           },
           {
            "bin_start": 10.8,
            "bin_end": 12.6,
            "count": 0
           },
           {
            "bin_start": 12.6,
            "bin_end": 14.4,
            "count": 0
           },
           {
            "bin_start": 14.4,
            "bin_end": 16.2,
            "count": 0
           },
           {
            "bin_start": 16.2,
            "bin_end": 18,
            "count": 1
           }
          ]
         }
        },
        {
         "name": "indus",
         "dtype": "float64",
         "stats": {
          "unique_count": 3,
          "nan_count": 0,
          "min": "2.18",
          "max": "7.07",
          "histogram": [
           {
            "bin_start": 2.18,
            "bin_end": 2.669,
            "count": 3
           },
           {
            "bin_start": 2.669,
            "bin_end": 3.1580000000000004,
            "count": 0
           },
           {
            "bin_start": 3.1580000000000004,
            "bin_end": 3.6470000000000002,
            "count": 0
           },
           {
            "bin_start": 3.6470000000000002,
            "bin_end": 4.136,
            "count": 0
           },
           {
            "bin_start": 4.136,
            "bin_end": 4.625,
            "count": 0
           },
           {
            "bin_start": 4.625,
            "bin_end": 5.114000000000001,
            "count": 0
           },
           {
            "bin_start": 5.114000000000001,
            "bin_end": 5.603000000000001,
            "count": 0
           },
           {
            "bin_start": 5.603000000000001,
            "bin_end": 6.0920000000000005,
            "count": 0
           },
           {
            "bin_start": 6.0920000000000005,
            "bin_end": 6.581000000000001,
            "count": 0
           },
           {
            "bin_start": 6.581000000000001,
            "bin_end": 7.07,
            "count": 2
           }
          ]
         }
        },
        {
         "name": "chas",
         "dtype": "int64",
         "stats": {
          "unique_count": 1,
          "nan_count": 0,
          "min": "0",
          "max": "0",
          "histogram": [
           {
            "bin_start": -0.5,
            "bin_end": -0.4,
            "count": 0
           },
           {
            "bin_start": -0.4,
            "bin_end": -0.3,
            "count": 0
           },
           {
            "bin_start": -0.3,
            "bin_end": -0.19999999999999996,
            "count": 0
           },
           {
            "bin_start": -0.19999999999999996,
            "bin_end": -0.09999999999999998,
            "count": 0
           },
           {
            "bin_start": -0.09999999999999998,
            "bin_end": 0,
            "count": 0
           },
           {
            "bin_start": 0,
            "bin_end": 0.10000000000000009,
            "count": 5
           },
           {
            "bin_start": 0.10000000000000009,
            "bin_end": 0.20000000000000007,
            "count": 0
           },
           {
            "bin_start": 0.20000000000000007,
            "bin_end": 0.30000000000000004,
            "count": 0
           },
           {
            "bin_start": 0.30000000000000004,
            "bin_end": 0.4,
            "count": 0
           },
           {
            "bin_start": 0.4,
            "bin_end": 0.5,
            "count": 0
           }
          ]
         }
        },
        {
         "name": "nox",
         "dtype": "float64",
         "stats": {
          "unique_count": 3,
          "nan_count": 0,
          "min": "0.458",
          "max": "0.538",
          "histogram": [
           {
            "bin_start": 0.458,
            "bin_end": 0.466,
            "count": 2
           },
           {
            "bin_start": 0.466,
            "bin_end": 0.47400000000000003,
            "count": 2
           },
           {
            "bin_start": 0.47400000000000003,
            "bin_end": 0.48200000000000004,
            "count": 0
           },
           {
            "bin_start": 0.48200000000000004,
            "bin_end": 0.49000000000000005,
            "count": 0
           },
           {
            "bin_start": 0.49000000000000005,
            "bin_end": 0.498,
            "count": 0
           },
           {
            "bin_start": 0.498,
            "bin_end": 0.506,
            "count": 0
           },
           {
            "bin_start": 0.506,
            "bin_end": 0.514,
            "count": 0
           },
           {
            "bin_start": 0.514,
            "bin_end": 0.522,
            "count": 0
           },
           {
            "bin_start": 0.522,
            "bin_end": 0.53,
            "count": 0
           },
           {
            "bin_start": 0.53,
            "bin_end": 0.538,
            "count": 1
           }
          ]
         }
        },
        {
         "name": "rm",
         "dtype": "float64",
         "stats": {
          "unique_count": 5,
          "nan_count": 0,
          "min": "6.421",
          "max": "7.185",
          "histogram": [
           {
            "bin_start": 6.421,
            "bin_end": 6.4974,
            "count": 1
           },
           {
            "bin_start": 6.4974,
            "bin_end": 6.5738,
            "count": 0
           },
           {
            "bin_start": 6.5738,
            "bin_end": 6.6502,
            "count": 1
           },
           {
            "bin_start": 6.6502,
            "bin_end": 6.7266,
            "count": 0
           },
           {
            "bin_start": 6.7266,
            "bin_end": 6.803,
            "count": 0
           },
           {
            "bin_start": 6.803,
            "bin_end": 6.8793999999999995,
            "count": 0
           },
           {
            "bin_start": 6.8793999999999995,
            "bin_end": 6.9558,
            "count": 0
           },
           {
            "bin_start": 6.9558,
            "bin_end": 7.0322,
            "count": 1
           },
           {
            "bin_start": 7.0322,
            "bin_end": 7.1086,
            "count": 0
           },
           {
            "bin_start": 7.1086,
            "bin_end": 7.185,
            "count": 2
           }
          ]
         }
        },
        {
         "name": "age",
         "dtype": "float64",
         "stats": {
          "unique_count": 5,
          "nan_count": 0,
          "min": "45.8",
          "max": "78.9",
          "histogram": [
           {
            "bin_start": 45.8,
            "bin_end": 49.11,
            "count": 1
           },
           {
            "bin_start": 49.11,
            "bin_end": 52.42,
            "count": 0
           },
           {
            "bin_start": 52.42,
            "bin_end": 55.730000000000004,
            "count": 1
           },
           {
            "bin_start": 55.730000000000004,
            "bin_end": 59.04,
            "count": 0
           },
           {
            "bin_start": 59.04,
            "bin_end": 62.35,
            "count": 1
           },
           {
            "bin_start": 62.35,
            "bin_end": 65.66,
            "count": 1
           },
           {
            "bin_start": 65.66,
            "bin_end": 68.97,
            "count": 0
           },
           {
            "bin_start": 68.97,
            "bin_end": 72.28,
            "count": 0
           },
           {
            "bin_start": 72.28,
            "bin_end": 75.59,
            "count": 0
           },
           {
            "bin_start": 75.59,
            "bin_end": 78.9,
            "count": 1
           }
          ]
         }
        },
        {
         "name": "dis",
         "dtype": "float64",
         "stats": {
          "unique_count": 3,
          "nan_count": 0,
          "min": "4.09",
          "max": "6.0622",
          "histogram": [
           {
            "bin_start": 4.09,
            "bin_end": 4.28722,
            "count": 1
           },
           {
            "bin_start": 4.28722,
            "bin_end": 4.48444,
            "count": 0
           },
           {
            "bin_start": 4.48444,
            "bin_end": 4.68166,
            "count": 0
           },
           {
            "bin_start": 4.68166,
            "bin_end": 4.87888,
            "count": 0
           },
           {
            "bin_start": 4.87888,
            "bin_end": 5.0761,
            "count": 2
           },
           {
            "bin_start": 5.0761,
            "bin_end": 5.27332,
            "count": 0
           },
           {
            "bin_start": 5.27332,
            "bin_end": 5.47054,
            "count": 0
           },
           {
            "bin_start": 5.47054,
            "bin_end": 5.6677599999999995,
            "count": 0
           },
           {
            "bin_start": 5.6677599999999995,
            "bin_end": 5.86498,
            "count": 0
           },
           {
            "bin_start": 5.86498,
            "bin_end": 6.0622,
            "count": 2
           }
          ]
         }
        },
        {
         "name": "rad",
         "dtype": "int64",
         "stats": {
          "unique_count": 3,
          "nan_count": 0,
          "min": "1",
          "max": "3",
          "histogram": [
           {
            "bin_start": 1,
            "bin_end": 1.2,
            "count": 1
           },
           {
            "bin_start": 1.2,
            "bin_end": 1.4,
            "count": 0
           },
           {
            "bin_start": 1.4,
            "bin_end": 1.6,
            "count": 0
           },
           {
            "bin_start": 1.6,
            "bin_end": 1.8,
            "count": 0
           },
           {
            "bin_start": 1.8,
            "bin_end": 2,
            "count": 0
           },
           {
            "bin_start": 2,
            "bin_end": 2.2,
            "count": 2
           },
           {
            "bin_start": 2.2,
            "bin_end": 2.4000000000000004,
            "count": 0
           },
           {
            "bin_start": 2.4000000000000004,
            "bin_end": 2.6,
            "count": 0
           },
           {
            "bin_start": 2.6,
            "bin_end": 2.8,
            "count": 0
           },
           {
            "bin_start": 2.8,
            "bin_end": 3,
            "count": 2
           }
          ]
         }
        },
        {
         "name": "tax",
         "dtype": "int64",
         "stats": {
          "unique_count": 3,
          "nan_count": 0,
          "min": "222",
          "max": "296",
          "histogram": [
           {
            "bin_start": 222,
            "bin_end": 229.4,
            "count": 2
           },
           {
            "bin_start": 229.4,
            "bin_end": 236.8,
            "count": 0
           },
           {
            "bin_start": 236.8,
            "bin_end": 244.2,
            "count": 2
           },
           {
            "bin_start": 244.2,
            "bin_end": 251.6,
            "count": 0
           },
           {
            "bin_start": 251.6,
            "bin_end": 259,
            "count": 0
           },
           {
            "bin_start": 259,
            "bin_end": 266.4,
            "count": 0
           },
           {
            "bin_start": 266.4,
            "bin_end": 273.8,
            "count": 0
           },
           {
            "bin_start": 273.8,
            "bin_end": 281.2,
            "count": 0
           },
           {
            "bin_start": 281.2,
            "bin_end": 288.6,
            "count": 0
           },
           {
            "bin_start": 288.6,
            "bin_end": 296,
            "count": 1
           }
          ]
         }
        },
        {
         "name": "ptratio",
         "dtype": "float64",
         "stats": {
          "unique_count": 3,
          "nan_count": 0,
          "min": "15.3",
          "max": "18.7",
          "histogram": [
           {
            "bin_start": 15.3,
            "bin_end": 15.64,
            "count": 1
           },
           {
            "bin_start": 15.64,
            "bin_end": 15.98,
            "count": 0
           },
           {
            "bin_start": 15.98,
            "bin_end": 16.32,
            "count": 0
           },
           {
            "bin_start": 16.32,
            "bin_end": 16.66,
            "count": 0
           },
           {
            "bin_start": 16.66,
            "bin_end": 17,
            "count": 0
           },
           {
            "bin_start": 17,
            "bin_end": 17.34,
            "count": 0
           },
           {
            "bin_start": 17.34,
            "bin_end": 17.68,
            "count": 0
           },
           {
            "bin_start": 17.68,
            "bin_end": 18.02,
            "count": 2
           },
           {
            "bin_start": 18.02,
            "bin_end": 18.36,
            "count": 0
           },
           {
            "bin_start": 18.36,
            "bin_end": 18.7,
            "count": 2
           }
          ]
         }
        },
        {
         "name": "black",
         "dtype": "float64",
         "stats": {
          "unique_count": 3,
          "nan_count": 0,
          "min": "392.83",
          "max": "396.9",
          "histogram": [
           {
            "bin_start": 392.83,
            "bin_end": 393.23699999999997,
            "count": 1
           },
           {
            "bin_start": 393.23699999999997,
            "bin_end": 393.644,
            "count": 0
           },
           {
            "bin_start": 393.644,
            "bin_end": 394.051,
            "count": 0
           },
           {
            "bin_start": 394.051,
            "bin_end": 394.45799999999997,
            "count": 0
           },
           {
            "bin_start": 394.45799999999997,
            "bin_end": 394.865,
            "count": 1
           },
           {
            "bin_start": 394.865,
            "bin_end": 395.272,
            "count": 0
           },
           {
            "bin_start": 395.272,
            "bin_end": 395.679,
            "count": 0
           },
           {
            "bin_start": 395.679,
            "bin_end": 396.08599999999996,
            "count": 0
           },
           {
            "bin_start": 396.08599999999996,
            "bin_end": 396.493,
            "count": 0
           },
           {
            "bin_start": 396.493,
            "bin_end": 396.9,
            "count": 3
           }
          ]
         }
        },
        {
         "name": "lstat",
         "dtype": "float64",
         "stats": {
          "unique_count": 5,
          "nan_count": 0,
          "min": "2.94",
          "max": "9.14",
          "histogram": [
           {
            "bin_start": 2.94,
            "bin_end": 3.56,
            "count": 1
           },
           {
            "bin_start": 3.56,
            "bin_end": 4.18,
            "count": 1
           },
           {
            "bin_start": 4.18,
            "bin_end": 4.800000000000001,
            "count": 0
           },
           {
            "bin_start": 4.800000000000001,
            "bin_end": 5.42,
            "count": 2
           },
           {
            "bin_start": 5.42,
            "bin_end": 6.040000000000001,
            "count": 0
           },
           {
            "bin_start": 6.040000000000001,
            "bin_end": 6.66,
            "count": 0
           },
           {
            "bin_start": 6.66,
            "bin_end": 7.280000000000001,
            "count": 0
           },
           {
            "bin_start": 7.280000000000001,
            "bin_end": 7.9,
            "count": 0
           },
           {
            "bin_start": 7.9,
            "bin_end": 8.520000000000001,
            "count": 0
           },
           {
            "bin_start": 8.520000000000001,
            "bin_end": 9.14,
            "count": 1
           }
          ]
         }
        },
        {
         "name": "medv",
         "dtype": "float64",
         "stats": {
          "unique_count": 5,
          "nan_count": 0,
          "min": "21.6",
          "max": "36.2",
          "histogram": [
           {
            "bin_start": 21.6,
            "bin_end": 23.060000000000002,
            "count": 1
           },
           {
            "bin_start": 23.060000000000002,
            "bin_end": 24.520000000000003,
            "count": 1
           },
           {
            "bin_start": 24.520000000000003,
            "bin_end": 25.980000000000004,
            "count": 0
           },
           {
            "bin_start": 25.980000000000004,
            "bin_end": 27.44,
            "count": 0
           },
           {
            "bin_start": 27.44,
            "bin_end": 28.900000000000002,
            "count": 0
           },
           {
            "bin_start": 28.900000000000002,
            "bin_end": 30.360000000000003,
            "count": 0
           },
           {
            "bin_start": 30.360000000000003,
            "bin_end": 31.82,
            "count": 0
           },
           {
            "bin_start": 31.82,
            "bin_end": 33.28,
            "count": 0
           },
           {
            "bin_start": 33.28,
            "bin_end": 34.74,
            "count": 2
           },
           {
            "bin_start": 34.74,
            "bin_end": 36.2,
            "count": 1
           }
          ]
         }
        },
        {
         "name": "_deepnote_index_column",
         "dtype": "int64"
        }
       ],
       "rows_top": [
        {
         "crim": 0.00632,
         "zn": 18,
         "indus": 2.31,
         "chas": 0,
         "nox": 0.538,
         "rm": 6.575,
         "age": 65.2,
         "dis": 4.09,
         "rad": 1,
         "tax": 296,
         "ptratio": 15.3,
         "black": 396.9,
         "lstat": 4.98,
         "medv": 24,
         "_deepnote_index_column": 0
        },
        {
         "crim": 0.02731,
         "zn": 0,
         "indus": 7.07,
         "chas": 0,
         "nox": 0.469,
         "rm": 6.421,
         "age": 78.9,
         "dis": 4.9671,
         "rad": 2,
         "tax": 242,
         "ptratio": 17.8,
         "black": 396.9,
         "lstat": 9.14,
         "medv": 21.6,
         "_deepnote_index_column": 1
        },
        {
         "crim": 0.02729,
         "zn": 0,
         "indus": 7.07,
         "chas": 0,
         "nox": 0.469,
         "rm": 7.185,
         "age": 61.1,
         "dis": 4.9671,
         "rad": 2,
         "tax": 242,
         "ptratio": 17.8,
         "black": 392.83,
         "lstat": 4.03,
         "medv": 34.7,
         "_deepnote_index_column": 2
        },
        {
         "crim": 0.03237,
         "zn": 0,
         "indus": 2.18,
         "chas": 0,
         "nox": 0.458,
         "rm": 6.998,
         "age": 45.8,
         "dis": 6.0622,
         "rad": 3,
         "tax": 222,
         "ptratio": 18.7,
         "black": 394.63,
         "lstat": 2.94,
         "medv": 33.4,
         "_deepnote_index_column": 3
        },
        {
         "crim": 0.06905,
         "zn": 0,
         "indus": 2.18,
         "chas": 0,
         "nox": 0.458,
         "rm": 7.147,
         "age": 54.2,
         "dis": 6.0622,
         "rad": 3,
         "tax": 222,
         "ptratio": 18.7,
         "black": 396.9,
         "lstat": 5.33,
         "medv": 36.2,
         "_deepnote_index_column": 4
        }
       ],
       "rows_bottom": null
      },
      "text/plain": "   crim    zn  indus  chas  nox   rm   age  dis  rad  tax  ptratio  black  \\\n0  0.01 18.00   2.31     0 0.54 6.58 65.20 4.09    1  296    15.30 396.90   \n1  0.03  0.00   7.07     0 0.47 6.42 78.90 4.97    2  242    17.80 396.90   \n2  0.03  0.00   7.07     0 0.47 7.18 61.10 4.97    2  242    17.80 392.83   \n3  0.03  0.00   2.18     0 0.46 7.00 45.80 6.06    3  222    18.70 394.63   \n4  0.07  0.00   2.18     0 0.46 7.15 54.20 6.06    3  222    18.70 396.90   \n\n   lstat  medv  \n0   4.98 24.00  \n1   9.14 21.60  \n2   4.03 34.70  \n3   2.94 33.40  \n4   5.33 36.20  ",
      "text/html": "<div>\n<style scoped>\n    .dataframe tbody tr th:only-of-type {\n        vertical-align: middle;\n    }\n\n    .dataframe tbody tr th {\n        vertical-align: top;\n    }\n\n    .dataframe thead th {\n        text-align: right;\n    }\n</style>\n<table border=\"1\" class=\"dataframe\">\n  <thead>\n    <tr style=\"text-align: right;\">\n      <th></th>\n      <th>crim</th>\n      <th>zn</th>\n      <th>indus</th>\n      <th>chas</th>\n      <th>nox</th>\n      <th>rm</th>\n      <th>age</th>\n      <th>dis</th>\n      <th>rad</th>\n      <th>tax</th>\n      <th>ptratio</th>\n      <th>black</th>\n      <th>lstat</th>\n      <th>medv</th>\n    </tr>\n  </thead>\n  <tbody>\n    <tr>\n      <th>0</th>\n      <td>0.01</td>\n      <td>18.00</td>\n      <td>2.31</td>\n      <td>0</td>\n      <td>0.54</td>\n      <td>6.58</td>\n      <td>65.20</td>\n      <td>4.09</td>\n      <td>1</td>\n      <td>296</td>\n      <td>15.30</td>\n      <td>396.90</td>\n      <td>4.98</td>\n      <td>24.00</td>\n    </tr>\n    <tr>\n      <th>1</th>\n      <td>0.03</td>\n      <td>0.00</td>\n      <td>7.07</td>\n      <td>0</td>\n      <td>0.47</td>\n      <td>6.42</td>\n      <td>78.90</td>\n      <td>4.97</td>\n      <td>2</td>\n      <td>242</td>\n      <td>17.80</td>\n      <td>396.90</td>\n      <td>9.14</td>\n      <td>21.60</td>\n    </tr>\n    <tr>\n      <th>2</th>\n      <td>0.03</td>\n      <td>0.00</td>\n      <td>7.07</td>\n      <td>0</td>\n      <td>0.47</td>\n      <td>7.18</td>\n      <td>61.10</td>\n      <td>4.97</td>\n      <td>2</td>\n      <td>242</td>\n      <td>17.80</td>\n      <td>392.83</td>\n      <td>4.03</td>\n      <td>34.70</td>\n    </tr>\n    <tr>\n      <th>3</th>\n      <td>0.03</td>\n      <td>0.00</td>\n      <td>2.18</td>\n      <td>0</td>\n      <td>0.46</td>\n      <td>7.00</td>\n      <td>45.80</td>\n      <td>6.06</td>\n      <td>3</td>\n      <td>222</td>\n      <td>18.70</td>\n      <td>394.63</td>\n      <td>2.94</td>\n      <td>33.40</td>\n    </tr>\n    <tr>\n      <th>4</th>\n      <td>0.07</td>\n      <td>0.00</td>\n      <td>2.18</td>\n      <td>0</td>\n      <td>0.46</td>\n      <td>7.15</td>\n      <td>54.20</td>\n      <td>6.06</td>\n      <td>3</td>\n      <td>222</td>\n      <td>18.70</td>\n      <td>396.90</td>\n      <td>5.33</td>\n      <td>36.20</td>\n    </tr>\n  </tbody>\n</table>\n</div>"
     },
     "metadata": {}
    }
   ]
  },
  {
   "cell_type": "code",
   "metadata": {
    "tags": [],
    "deepnote_to_be_reexecuted": false,
    "source_hash": "42419a69",
    "execution_start": 1637279969264,
    "execution_millis": 22,
    "deepnote_output_heights": [
     21.199996948242188
    ],
    "cell_id": "00004-217b9d39-97eb-4fc8-ab48-ca05857ec00b",
    "deepnote_cell_type": "code"
   },
   "source": "# Dimensionamos\ndisplay(data.shape)",
   "execution_count": 4,
   "outputs": [
    {
     "data": {
      "text/plain": "(506, 14)"
     },
     "metadata": {},
     "output_type": "display_data"
    }
   ]
  },
  {
   "cell_type": "code",
   "metadata": {
    "tags": [],
    "deepnote_to_be_reexecuted": false,
    "source_hash": "a06b47f9",
    "execution_start": 1637279969338,
    "execution_millis": 2,
    "deepnote_output_heights": [
     290
    ],
    "cell_id": "00005-55f6882a-63ad-47b0-acb8-8112b1cb51de",
    "deepnote_cell_type": "code"
   },
   "source": "# Tipos de variables\ndisplay(data.dtypes)",
   "execution_count": 5,
   "outputs": [
    {
     "data": {
      "text/plain": "crim       float64\nzn         float64\nindus      float64\nchas         int64\nnox        float64\nrm         float64\nage        float64\ndis        float64\nrad          int64\ntax          int64\nptratio    float64\nblack      float64\nlstat      float64\nmedv       float64\ndtype: object"
     },
     "metadata": {},
     "output_type": "display_data"
    }
   ]
  },
  {
   "cell_type": "code",
   "metadata": {
    "tags": [],
    "deepnote_to_be_reexecuted": false,
    "source_hash": "d196566c",
    "execution_start": 1637279969382,
    "execution_millis": 1,
    "deepnote_output_heights": [
     290
    ],
    "cell_id": "00006-ccbf6289-c941-4f85-aff3-1326b84f4108",
    "deepnote_cell_type": "code"
   },
   "source": "# Datos faltantes\ndisplay(data.isnull().sum())",
   "execution_count": 6,
   "outputs": [
    {
     "data": {
      "text/plain": "crim       0\nzn         0\nindus      0\nchas       0\nnox        0\nrm         0\nage        0\ndis        0\nrad        0\ntax        0\nptratio    0\nblack      0\nlstat      0\nmedv       0\ndtype: int64"
     },
     "metadata": {},
     "output_type": "display_data"
    }
   ]
  },
  {
   "cell_type": "code",
   "metadata": {
    "tags": [],
    "deepnote_to_be_reexecuted": false,
    "source_hash": "e114fa09",
    "execution_start": 1637279969384,
    "execution_millis": 44,
    "deepnote_output_heights": [
     59.600006103515625,
     194
    ],
    "cell_id": "00007-2127360a-ccdb-4bb1-ba63-1dac87dcdef9",
    "deepnote_cell_type": "code"
   },
   "source": "# Cantidades para cada feature\ndisplay(data['chas'].value_counts().sort_values(ascending=False))\ndisplay(data['rad'].value_counts().sort_values(ascending=False))",
   "execution_count": 7,
   "outputs": [
    {
     "data": {
      "text/plain": "0    471\n1     35\nName: chas, dtype: int64"
     },
     "metadata": {},
     "output_type": "display_data"
    },
    {
     "data": {
      "text/plain": "24    132\n5     115\n4     110\n3      38\n6      26\n2      24\n8      24\n1      20\n7      17\nName: rad, dtype: int64"
     },
     "metadata": {},
     "output_type": "display_data"
    }
   ]
  },
  {
   "cell_type": "code",
   "metadata": {
    "tags": [],
    "deepnote_to_be_reexecuted": false,
    "source_hash": "e0939ba6",
    "execution_start": 1637279969427,
    "execution_millis": 15,
    "deepnote_output_heights": [
     21.199996948242188,
     21.199996948242188
    ],
    "cell_id": "00008-b77a7a61-58c0-4de7-9eda-0f3f9d784017",
    "deepnote_cell_type": "code"
   },
   "source": "# Features y target\nX = data.drop(['medv'], axis=1)\ny = data[['medv']]\n\ndisplay(X.shape, y.shape)",
   "execution_count": 8,
   "outputs": [
    {
     "data": {
      "text/plain": "(506, 13)"
     },
     "metadata": {},
     "output_type": "display_data"
    },
    {
     "data": {
      "text/plain": "(506, 1)"
     },
     "metadata": {},
     "output_type": "display_data"
    }
   ]
  },
  {
   "cell_type": "code",
   "metadata": {
    "tags": [],
    "deepnote_to_be_reexecuted": false,
    "source_hash": "c3f6e619",
    "execution_start": 1637279969458,
    "execution_millis": 1627,
    "cell_id": "00009-5d3f289a-3d0d-45f6-9ea0-5589cd1eb4da",
    "deepnote_cell_type": "code"
   },
   "source": "# Importamos nuestro regresor\nfrom sklearn.tree import DecisionTreeRegressor\nfrom sklearn.model_selection import train_test_split\nfrom sklearn.model_selection import KFold\nfrom sklearn.model_selection import cross_val_score",
   "execution_count": 9,
   "outputs": []
  },
  {
   "cell_type": "code",
   "metadata": {
    "tags": [],
    "deepnote_to_be_reexecuted": false,
    "source_hash": "cfdb0cc9",
    "execution_start": 1637279971114,
    "execution_millis": 23,
    "cell_id": "00010-d0659834-5028-4cd1-ab38-b4fe06a7e533",
    "deepnote_cell_type": "code"
   },
   "source": "# Obtenemos nuestros datos de entrenamiento y test por medio de K-Fold\nkf = KFold(n_splits=10, shuffle=True, random_state=0)\n\nfor train, test in kf.split(X,y):\n\n    X_train = X.iloc[train]\n    y_train = y.iloc[train]\n    X_test = X.iloc[test]\n    y_test = y.iloc[test]",
   "execution_count": 10,
   "outputs": []
  },
  {
   "cell_type": "code",
   "metadata": {
    "tags": [],
    "deepnote_to_be_reexecuted": false,
    "source_hash": "6807c1d6",
    "execution_start": 1637279971198,
    "execution_millis": 2,
    "deepnote_output_heights": [
     21.199996948242188
    ],
    "cell_id": "00011-fffe4557-9552-4017-930e-d40067d6d472",
    "deepnote_cell_type": "code"
   },
   "source": "# Instanciamos y entrenamos\nreg_tree = DecisionTreeRegressor(min_samples_split=30, min_samples_leaf=10, random_state=0)\nreg_tree.fit(X_train,y_train)",
   "execution_count": 11,
   "outputs": [
    {
     "output_type": "execute_result",
     "execution_count": 11,
     "data": {
      "text/plain": "DecisionTreeRegressor(min_samples_leaf=10, min_samples_split=30, random_state=0)"
     },
     "metadata": {}
    }
   ]
  },
  {
   "cell_type": "code",
   "metadata": {
    "tags": [],
    "deepnote_to_be_reexecuted": false,
    "source_hash": "e96df371",
    "execution_start": 1637279971243,
    "execution_millis": 0,
    "cell_id": "00012-cdda8a4f-d204-4b1c-8bfa-deabc9f2b5fa",
    "deepnote_cell_type": "code"
   },
   "source": "# Hallamos las predicciones\ny_pred = reg_tree.predict(X_train)\ny_pred = pd.DataFrame(y_pred, columns=['Predicciones DTR'])",
   "execution_count": 12,
   "outputs": []
  },
  {
   "cell_type": "code",
   "metadata": {
    "tags": [],
    "deepnote_to_be_reexecuted": false,
    "source_hash": "658cf3af",
    "execution_start": 1637279971243,
    "execution_millis": 45,
    "cell_id": "00013-9db7b82a-b555-430f-8733-8d6ec3d6b628",
    "deepnote_output_heights": [
     320.3999938964844
    ],
    "deepnote_cell_type": "code"
   },
   "source": "# Predicciones del Decision Tree Regression\npredicciones = y_train.join(y_pred)\npredicciones.sample(10)",
   "execution_count": 13,
   "outputs": [
    {
     "output_type": "execute_result",
     "execution_count": 13,
     "data": {
      "application/vnd.deepnote.dataframe.v2+json": {
       "row_count": 10,
       "column_count": 2,
       "columns": [
        {
         "name": "medv",
         "dtype": "float64",
         "stats": {
          "unique_count": 10,
          "nan_count": 0,
          "min": "8.8",
          "max": "50.0",
          "histogram": [
           {
            "bin_start": 8.8,
            "bin_end": 12.920000000000002,
            "count": 2
           },
           {
            "bin_start": 12.920000000000002,
            "bin_end": 17.04,
            "count": 0
           },
           {
            "bin_start": 17.04,
            "bin_end": 21.16,
            "count": 5
           },
           {
            "bin_start": 21.16,
            "bin_end": 25.28,
            "count": 1
           },
           {
            "bin_start": 25.28,
            "bin_end": 29.400000000000002,
            "count": 0
           },
           {
            "bin_start": 29.400000000000002,
            "bin_end": 33.519999999999996,
            "count": 0
           },
           {
            "bin_start": 33.519999999999996,
            "bin_end": 37.64,
            "count": 0
           },
           {
            "bin_start": 37.64,
            "bin_end": 41.760000000000005,
            "count": 1
           },
           {
            "bin_start": 41.760000000000005,
            "bin_end": 45.879999999999995,
            "count": 0
           },
           {
            "bin_start": 45.879999999999995,
            "bin_end": 50,
            "count": 1
           }
          ]
         }
        },
        {
         "name": "Predicciones DTR",
         "dtype": "float64",
         "stats": {
          "unique_count": 6,
          "nan_count": 1,
          "min": "17.030000000000005",
          "max": "44.92758620689656",
          "histogram": [
           {
            "bin_start": 17.030000000000005,
            "bin_end": 19.81975862068966,
            "count": 1
           },
           {
            "bin_start": 19.81975862068966,
            "bin_end": 22.609517241379315,
            "count": 2
           },
           {
            "bin_start": 22.609517241379315,
            "bin_end": 25.39927586206897,
            "count": 0
           },
           {
            "bin_start": 25.39927586206897,
            "bin_end": 28.189034482758625,
            "count": 2
           },
           {
            "bin_start": 28.189034482758625,
            "bin_end": 30.978793103448282,
            "count": 0
           },
           {
            "bin_start": 30.978793103448282,
            "bin_end": 33.768551724137936,
            "count": 1
           },
           {
            "bin_start": 33.768551724137936,
            "bin_end": 36.55831034482759,
            "count": 0
           },
           {
            "bin_start": 36.55831034482759,
            "bin_end": 39.34806896551724,
            "count": 0
           },
           {
            "bin_start": 39.34806896551724,
            "bin_end": 42.137827586206896,
            "count": 0
           },
           {
            "bin_start": 42.137827586206896,
            "bin_end": 44.92758620689656,
            "count": 3
           }
          ]
         }
        },
        {
         "name": "_deepnote_index_column",
         "dtype": "int64"
        }
       ],
       "rows_top": [
        {
         "medv": 21.6,
         "Predicciones DTR": 25.89090909090909,
         "_deepnote_index_column": 1
        },
        {
         "medv": 17.8,
         "Predicciones DTR": 31.581818181818186,
         "_deepnote_index_column": 453
        },
        {
         "medv": 19.4,
         "Predicciones DTR": 44.92758620689656,
         "_deepnote_index_column": 153
        },
        {
         "medv": 11.7,
         "Predicciones DTR": 26.995238095238093,
         "_deepnote_index_column": 434
        },
        {
         "medv": 19.7,
         "Predicciones DTR": "nan",
         "_deepnote_index_column": 496
        },
        {
         "medv": 50,
         "Predicciones DTR": 20.47368421052631,
         "_deepnote_index_column": 368
        },
        {
         "medv": 19.6,
         "Predicciones DTR": 44.92758620689656,
         "_deepnote_index_column": 151
        },
        {
         "medv": 19.3,
         "Predicciones DTR": 20.47368421052631,
         "_deepnote_index_column": 119
        },
        {
         "medv": 41.7,
         "Predicciones DTR": 44.92758620689656,
         "_deepnote_index_column": 232
        },
        {
         "medv": 8.8,
         "Predicciones DTR": 17.030000000000005,
         "_deepnote_index_column": 418
        }
       ],
       "rows_bottom": null
      },
      "text/plain": "     medv  Predicciones DTR\n1   21.60             25.89\n453 17.80             31.58\n153 19.40             44.93\n434 11.70             27.00\n496 19.70               NaN\n368 50.00             20.47\n151 19.60             44.93\n119 19.30             20.47\n232 41.70             44.93\n418  8.80             17.03",
      "text/html": "<div>\n<style scoped>\n    .dataframe tbody tr th:only-of-type {\n        vertical-align: middle;\n    }\n\n    .dataframe tbody tr th {\n        vertical-align: top;\n    }\n\n    .dataframe thead th {\n        text-align: right;\n    }\n</style>\n<table border=\"1\" class=\"dataframe\">\n  <thead>\n    <tr style=\"text-align: right;\">\n      <th></th>\n      <th>medv</th>\n      <th>Predicciones DTR</th>\n    </tr>\n  </thead>\n  <tbody>\n    <tr>\n      <th>1</th>\n      <td>21.60</td>\n      <td>25.89</td>\n    </tr>\n    <tr>\n      <th>453</th>\n      <td>17.80</td>\n      <td>31.58</td>\n    </tr>\n    <tr>\n      <th>153</th>\n      <td>19.40</td>\n      <td>44.93</td>\n    </tr>\n    <tr>\n      <th>434</th>\n      <td>11.70</td>\n      <td>27.00</td>\n    </tr>\n    <tr>\n      <th>496</th>\n      <td>19.70</td>\n      <td>NaN</td>\n    </tr>\n    <tr>\n      <th>368</th>\n      <td>50.00</td>\n      <td>20.47</td>\n    </tr>\n    <tr>\n      <th>151</th>\n      <td>19.60</td>\n      <td>44.93</td>\n    </tr>\n    <tr>\n      <th>119</th>\n      <td>19.30</td>\n      <td>20.47</td>\n    </tr>\n    <tr>\n      <th>232</th>\n      <td>41.70</td>\n      <td>44.93</td>\n    </tr>\n    <tr>\n      <th>418</th>\n      <td>8.80</td>\n      <td>17.03</td>\n    </tr>\n  </tbody>\n</table>\n</div>"
     },
     "metadata": {}
    }
   ]
  },
  {
   "cell_type": "code",
   "metadata": {
    "tags": [],
    "deepnote_to_be_reexecuted": false,
    "source_hash": "b94bb948",
    "execution_start": 1637279971330,
    "execution_millis": 5191,
    "cell_id": "00014-ee0cf909-7f04-42dd-9b56-250afe285920",
    "deepnote_output_heights": [
     21.199996948242188
    ],
    "deepnote_cell_type": "code"
   },
   "source": "# Promedio del MSE con Cross Validation en valor absoluto\nscore = cross_val_score(reg_tree, X_train, y_train, scoring='neg_mean_squared_error', cv=kf, n_jobs=-1)\nscore = round(abs(score.mean()),2)\ndisplay(f'MSE: {score}')",
   "execution_count": 14,
   "outputs": [
    {
     "data": {
      "text/plain": "'MSE: 21.24'"
     },
     "metadata": {},
     "output_type": "display_data"
    }
   ]
  },
  {
   "cell_type": "code",
   "metadata": {
    "tags": [],
    "deepnote_to_be_reexecuted": false,
    "source_hash": "b89df2c2",
    "execution_start": 1637279976556,
    "execution_millis": 3,
    "cell_id": "00015-c83aee80-03fc-4e87-b3ac-fc6c23f2b777",
    "deepnote_output_heights": [
     21.199996948242188
    ],
    "deepnote_cell_type": "code"
   },
   "source": "# Accuracy Score\nacc = reg_tree.score(X_test, y_test)\nacc = round(acc,2)\ndisplay(f'Accuracy Score: {acc*100}%')",
   "execution_count": 15,
   "outputs": [
    {
     "data": {
      "text/plain": "'Accuracy Score: 81.0%'"
     },
     "metadata": {},
     "output_type": "display_data"
    }
   ]
  },
  {
   "cell_type": "code",
   "metadata": {
    "tags": [],
    "deepnote_to_be_reexecuted": false,
    "source_hash": "38482df8",
    "execution_start": 1637279976627,
    "execution_millis": 84,
    "deepnote_output_heights": [
     611
    ],
    "cell_id": "00016-ab74a150-e579-403c-af41-09f7b7240413",
    "deepnote_cell_type": "code"
   },
   "source": "# Visualizamos el árbol\nfrom sklearn.tree import export_graphviz\nimport os\nfrom graphviz import Source\n\nwith open(\"/work/Machine Learning Data Science en Python/Algoritmos de Machine Learning/Decision Tree & Random Forest/boston_rtree.dot\", \"w\") as dotfile:\n    export_graphviz(reg_tree, out_file=dotfile, feature_names=list(X_train))\n    dotfile.close()    \n\nfile = open(\"/work/Machine Learning Data Science en Python/Algoritmos de Machine Learning/Decision Tree & Random Forest/boston_rtree.dot\", \"r\")\ntext = file.read()\nSource(text)",
   "execution_count": 16,
   "outputs": [
    {
     "output_type": "execute_result",
     "execution_count": 16,
     "data": {
      "text/plain": "<graphviz.sources.Source at 0x7f7eb525f9d0>",
      "image/svg+xml": "<?xml version=\"1.0\" encoding=\"UTF-8\" standalone=\"no\"?>\n<!DOCTYPE svg PUBLIC \"-//W3C//DTD SVG 1.1//EN\"\n \"http://www.w3.org/Graphics/SVG/1.1/DTD/svg11.dtd\">\n<!-- Generated by graphviz version 2.40.1 (20161225.0304)\n -->\n<!-- Title: Tree Pages: 1 -->\n<svg width=\"2423pt\" height=\"1101pt\"\n viewBox=\"0.00 0.00 2423.00 1101.00\" xmlns=\"http://www.w3.org/2000/svg\" xmlns:xlink=\"http://www.w3.org/1999/xlink\">\n<g id=\"graph0\" class=\"graph\" transform=\"scale(1 1) rotate(0) translate(4 1097)\">\n<title>Tree</title>\n<polygon fill=\"#ffffff\" stroke=\"transparent\" points=\"-4,4 -4,-1097 2419,-1097 2419,4 -4,4\"/>\n<!-- 0 -->\n<g id=\"node1\" class=\"node\">\n<title>0</title>\n<polygon fill=\"none\" stroke=\"#000000\" points=\"2009,-1093 1820,-1093 1820,-1025 2009,-1025 2009,-1093\"/>\n<text text-anchor=\"middle\" x=\"1914.5\" y=\"-1077.8\" font-family=\"Helvetica,sans-Serif\" font-size=\"14.00\" fill=\"#000000\">rm &lt;= 6.941</text>\n<text text-anchor=\"middle\" x=\"1914.5\" y=\"-1062.8\" font-family=\"Helvetica,sans-Serif\" font-size=\"14.00\" fill=\"#000000\">squared_error = 86.832</text>\n<text text-anchor=\"middle\" x=\"1914.5\" y=\"-1047.8\" font-family=\"Helvetica,sans-Serif\" font-size=\"14.00\" fill=\"#000000\">samples = 456</text>\n<text text-anchor=\"middle\" x=\"1914.5\" y=\"-1032.8\" font-family=\"Helvetica,sans-Serif\" font-size=\"14.00\" fill=\"#000000\">value = 22.671</text>\n</g>\n<!-- 1 -->\n<g id=\"node2\" class=\"node\">\n<title>1</title>\n<polygon fill=\"none\" stroke=\"#000000\" points=\"1707,-989 1518,-989 1518,-921 1707,-921 1707,-989\"/>\n<text text-anchor=\"middle\" x=\"1612.5\" y=\"-973.8\" font-family=\"Helvetica,sans-Serif\" font-size=\"14.00\" fill=\"#000000\">lstat &lt;= 14.4</text>\n<text text-anchor=\"middle\" x=\"1612.5\" y=\"-958.8\" font-family=\"Helvetica,sans-Serif\" font-size=\"14.00\" fill=\"#000000\">squared_error = 40.696</text>\n<text text-anchor=\"middle\" x=\"1612.5\" y=\"-943.8\" font-family=\"Helvetica,sans-Serif\" font-size=\"14.00\" fill=\"#000000\">samples = 385</text>\n<text text-anchor=\"middle\" x=\"1612.5\" y=\"-928.8\" font-family=\"Helvetica,sans-Serif\" font-size=\"14.00\" fill=\"#000000\">value = 19.952</text>\n</g>\n<!-- 0&#45;&gt;1 -->\n<g id=\"edge1\" class=\"edge\">\n<title>0&#45;&gt;1</title>\n<path fill=\"none\" stroke=\"#000000\" d=\"M1819.7739,-1026.3791C1787.105,-1015.1289 1750.3352,-1002.4664 1716.9347,-990.9643\"/>\n<polygon fill=\"#000000\" stroke=\"#000000\" points=\"1717.744,-987.5413 1707.1493,-987.5945 1715.4647,-994.1598 1717.744,-987.5413\"/>\n<text text-anchor=\"middle\" x=\"1718.1077\" y=\"-1006.3647\" font-family=\"Helvetica,sans-Serif\" font-size=\"14.00\" fill=\"#000000\">True</text>\n</g>\n<!-- 44 -->\n<g id=\"node45\" class=\"node\">\n<title>44</title>\n<polygon fill=\"none\" stroke=\"#000000\" points=\"2208,-989 2019,-989 2019,-921 2208,-921 2208,-989\"/>\n<text text-anchor=\"middle\" x=\"2113.5\" y=\"-973.8\" font-family=\"Helvetica,sans-Serif\" font-size=\"14.00\" fill=\"#000000\">rm &lt;= 7.437</text>\n<text text-anchor=\"middle\" x=\"2113.5\" y=\"-958.8\" font-family=\"Helvetica,sans-Serif\" font-size=\"14.00\" fill=\"#000000\">squared_error = 79.481</text>\n<text text-anchor=\"middle\" x=\"2113.5\" y=\"-943.8\" font-family=\"Helvetica,sans-Serif\" font-size=\"14.00\" fill=\"#000000\">samples = 71</text>\n<text text-anchor=\"middle\" x=\"2113.5\" y=\"-928.8\" font-family=\"Helvetica,sans-Serif\" font-size=\"14.00\" fill=\"#000000\">value = 37.417</text>\n</g>\n<!-- 0&#45;&gt;44 -->\n<g id=\"edge44\" class=\"edge\">\n<title>0&#45;&gt;44</title>\n<path fill=\"none\" stroke=\"#000000\" d=\"M1979.66,-1024.9465C1998.7299,-1014.9803 2019.718,-1004.0117 2039.3048,-993.7754\"/>\n<polygon fill=\"#000000\" stroke=\"#000000\" points=\"2040.952,-996.8637 2048.1936,-989.13 2037.7098,-990.6599 2040.952,-996.8637\"/>\n<text text-anchor=\"middle\" x=\"2040.7143\" y=\"-1009.285\" font-family=\"Helvetica,sans-Serif\" font-size=\"14.00\" fill=\"#000000\">False</text>\n</g>\n<!-- 2 -->\n<g id=\"node3\" class=\"node\">\n<title>2</title>\n<polygon fill=\"none\" stroke=\"#000000\" points=\"911.5,-885 731.5,-885 731.5,-817 911.5,-817 911.5,-885\"/>\n<text text-anchor=\"middle\" x=\"821.5\" y=\"-869.8\" font-family=\"Helvetica,sans-Serif\" font-size=\"14.00\" fill=\"#000000\">lstat &lt;= 4.91</text>\n<text text-anchor=\"middle\" x=\"821.5\" y=\"-854.8\" font-family=\"Helvetica,sans-Serif\" font-size=\"14.00\" fill=\"#000000\">squared_error = 27.66</text>\n<text text-anchor=\"middle\" x=\"821.5\" y=\"-839.8\" font-family=\"Helvetica,sans-Serif\" font-size=\"14.00\" fill=\"#000000\">samples = 227</text>\n<text text-anchor=\"middle\" x=\"821.5\" y=\"-824.8\" font-family=\"Helvetica,sans-Serif\" font-size=\"14.00\" fill=\"#000000\">value = 23.354</text>\n</g>\n<!-- 1&#45;&gt;2 -->\n<g id=\"edge2\" class=\"edge\">\n<title>1&#45;&gt;2</title>\n<path fill=\"none\" stroke=\"#000000\" d=\"M1517.8726,-942.5585C1367.4998,-922.7876 1075.316,-884.3715 921.5881,-864.1595\"/>\n<polygon fill=\"#000000\" stroke=\"#000000\" points=\"922.0365,-860.6884 911.6656,-862.8549 921.124,-867.6287 922.0365,-860.6884\"/>\n</g>\n<!-- 27 -->\n<g id=\"node28\" class=\"node\">\n<title>27</title>\n<polygon fill=\"none\" stroke=\"#000000\" points=\"1707,-885 1518,-885 1518,-817 1707,-817 1707,-885\"/>\n<text text-anchor=\"middle\" x=\"1612.5\" y=\"-869.8\" font-family=\"Helvetica,sans-Serif\" font-size=\"14.00\" fill=\"#000000\">crim &lt;= 6.992</text>\n<text text-anchor=\"middle\" x=\"1612.5\" y=\"-854.8\" font-family=\"Helvetica,sans-Serif\" font-size=\"14.00\" fill=\"#000000\">squared_error = 18.909</text>\n<text text-anchor=\"middle\" x=\"1612.5\" y=\"-839.8\" font-family=\"Helvetica,sans-Serif\" font-size=\"14.00\" fill=\"#000000\">samples = 158</text>\n<text text-anchor=\"middle\" x=\"1612.5\" y=\"-824.8\" font-family=\"Helvetica,sans-Serif\" font-size=\"14.00\" fill=\"#000000\">value = 15.065</text>\n</g>\n<!-- 1&#45;&gt;27 -->\n<g id=\"edge27\" class=\"edge\">\n<title>1&#45;&gt;27</title>\n<path fill=\"none\" stroke=\"#000000\" d=\"M1612.5,-920.9465C1612.5,-912.776 1612.5,-903.9318 1612.5,-895.3697\"/>\n<polygon fill=\"#000000\" stroke=\"#000000\" points=\"1616.0001,-895.13 1612.5,-885.13 1609.0001,-895.13 1616.0001,-895.13\"/>\n</g>\n<!-- 3 -->\n<g id=\"node4\" class=\"node\">\n<title>3</title>\n<polygon fill=\"none\" stroke=\"#000000\" points=\"709,-773.5 520,-773.5 520,-720.5 709,-720.5 709,-773.5\"/>\n<text text-anchor=\"middle\" x=\"614.5\" y=\"-758.3\" font-family=\"Helvetica,sans-Serif\" font-size=\"14.00\" fill=\"#000000\">squared_error = 54.736</text>\n<text text-anchor=\"middle\" x=\"614.5\" y=\"-743.3\" font-family=\"Helvetica,sans-Serif\" font-size=\"14.00\" fill=\"#000000\">samples = 16</text>\n<text text-anchor=\"middle\" x=\"614.5\" y=\"-728.3\" font-family=\"Helvetica,sans-Serif\" font-size=\"14.00\" fill=\"#000000\">value = 32.169</text>\n</g>\n<!-- 2&#45;&gt;3 -->\n<g id=\"edge3\" class=\"edge\">\n<title>2&#45;&gt;3</title>\n<path fill=\"none\" stroke=\"#000000\" d=\"M753.7205,-816.9465C728.8368,-804.4446 700.8134,-790.3652 676.4662,-778.1328\"/>\n<polygon fill=\"#000000\" stroke=\"#000000\" points=\"677.8361,-774.9041 667.3291,-773.5422 674.6934,-781.1591 677.8361,-774.9041\"/>\n</g>\n<!-- 4 -->\n<g id=\"node5\" class=\"node\">\n<title>4</title>\n<polygon fill=\"none\" stroke=\"#000000\" points=\"916,-781 727,-781 727,-713 916,-713 916,-781\"/>\n<text text-anchor=\"middle\" x=\"821.5\" y=\"-765.8\" font-family=\"Helvetica,sans-Serif\" font-size=\"14.00\" fill=\"#000000\">lstat &lt;= 9.715</text>\n<text text-anchor=\"middle\" x=\"821.5\" y=\"-750.8\" font-family=\"Helvetica,sans-Serif\" font-size=\"14.00\" fill=\"#000000\">squared_error = 19.268</text>\n<text text-anchor=\"middle\" x=\"821.5\" y=\"-735.8\" font-family=\"Helvetica,sans-Serif\" font-size=\"14.00\" fill=\"#000000\">samples = 211</text>\n<text text-anchor=\"middle\" x=\"821.5\" y=\"-720.8\" font-family=\"Helvetica,sans-Serif\" font-size=\"14.00\" fill=\"#000000\">value = 22.686</text>\n</g>\n<!-- 2&#45;&gt;4 -->\n<g id=\"edge4\" class=\"edge\">\n<title>2&#45;&gt;4</title>\n<path fill=\"none\" stroke=\"#000000\" d=\"M821.5,-816.9465C821.5,-808.776 821.5,-799.9318 821.5,-791.3697\"/>\n<polygon fill=\"#000000\" stroke=\"#000000\" points=\"825.0001,-791.13 821.5,-781.13 818.0001,-791.13 825.0001,-791.13\"/>\n</g>\n<!-- 5 -->\n<g id=\"node6\" class=\"node\">\n<title>5</title>\n<polygon fill=\"none\" stroke=\"#000000\" points=\"614,-677 425,-677 425,-609 614,-609 614,-677\"/>\n<text text-anchor=\"middle\" x=\"519.5\" y=\"-661.8\" font-family=\"Helvetica,sans-Serif\" font-size=\"14.00\" fill=\"#000000\">age &lt;= 84.6</text>\n<text text-anchor=\"middle\" x=\"519.5\" y=\"-646.8\" font-family=\"Helvetica,sans-Serif\" font-size=\"14.00\" fill=\"#000000\">squared_error = 24.043</text>\n<text text-anchor=\"middle\" x=\"519.5\" y=\"-631.8\" font-family=\"Helvetica,sans-Serif\" font-size=\"14.00\" fill=\"#000000\">samples = 109</text>\n<text text-anchor=\"middle\" x=\"519.5\" y=\"-616.8\" font-family=\"Helvetica,sans-Serif\" font-size=\"14.00\" fill=\"#000000\">value = 24.52</text>\n</g>\n<!-- 4&#45;&gt;5 -->\n<g id=\"edge5\" class=\"edge\">\n<title>4&#45;&gt;5</title>\n<path fill=\"none\" stroke=\"#000000\" d=\"M726.7739,-714.3791C694.105,-703.1289 657.3352,-690.4664 623.9347,-678.9643\"/>\n<polygon fill=\"#000000\" stroke=\"#000000\" points=\"624.744,-675.5413 614.1493,-675.5945 622.4647,-682.1598 624.744,-675.5413\"/>\n</g>\n<!-- 18 -->\n<g id=\"node19\" class=\"node\">\n<title>18</title>\n<polygon fill=\"none\" stroke=\"#000000\" points=\"911.5,-677 731.5,-677 731.5,-609 911.5,-609 911.5,-677\"/>\n<text text-anchor=\"middle\" x=\"821.5\" y=\"-661.8\" font-family=\"Helvetica,sans-Serif\" font-size=\"14.00\" fill=\"#000000\">dis &lt;= 6.417</text>\n<text text-anchor=\"middle\" x=\"821.5\" y=\"-646.8\" font-family=\"Helvetica,sans-Serif\" font-size=\"14.00\" fill=\"#000000\">squared_error = 6.727</text>\n<text text-anchor=\"middle\" x=\"821.5\" y=\"-631.8\" font-family=\"Helvetica,sans-Serif\" font-size=\"14.00\" fill=\"#000000\">samples = 102</text>\n<text text-anchor=\"middle\" x=\"821.5\" y=\"-616.8\" font-family=\"Helvetica,sans-Serif\" font-size=\"14.00\" fill=\"#000000\">value = 20.725</text>\n</g>\n<!-- 4&#45;&gt;18 -->\n<g id=\"edge18\" class=\"edge\">\n<title>4&#45;&gt;18</title>\n<path fill=\"none\" stroke=\"#000000\" d=\"M821.5,-712.9465C821.5,-704.776 821.5,-695.9318 821.5,-687.3697\"/>\n<polygon fill=\"#000000\" stroke=\"#000000\" points=\"825.0001,-687.13 821.5,-677.13 818.0001,-687.13 825.0001,-687.13\"/>\n</g>\n<!-- 6 -->\n<g id=\"node7\" class=\"node\">\n<title>6</title>\n<polygon fill=\"none\" stroke=\"#000000\" points=\"406.5,-573 226.5,-573 226.5,-505 406.5,-505 406.5,-573\"/>\n<text text-anchor=\"middle\" x=\"316.5\" y=\"-557.8\" font-family=\"Helvetica,sans-Serif\" font-size=\"14.00\" fill=\"#000000\">rm &lt;= 6.125</text>\n<text text-anchor=\"middle\" x=\"316.5\" y=\"-542.8\" font-family=\"Helvetica,sans-Serif\" font-size=\"14.00\" fill=\"#000000\">squared_error = 11.59</text>\n<text text-anchor=\"middle\" x=\"316.5\" y=\"-527.8\" font-family=\"Helvetica,sans-Serif\" font-size=\"14.00\" fill=\"#000000\">samples = 98</text>\n<text text-anchor=\"middle\" x=\"316.5\" y=\"-512.8\" font-family=\"Helvetica,sans-Serif\" font-size=\"14.00\" fill=\"#000000\">value = 23.799</text>\n</g>\n<!-- 5&#45;&gt;6 -->\n<g id=\"edge6\" class=\"edge\">\n<title>5&#45;&gt;6</title>\n<path fill=\"none\" stroke=\"#000000\" d=\"M453.0302,-608.9465C433.577,-598.9803 412.1671,-588.0117 392.1866,-577.7754\"/>\n<polygon fill=\"#000000\" stroke=\"#000000\" points=\"393.615,-574.5747 383.1191,-573.13 390.4233,-580.8047 393.615,-574.5747\"/>\n</g>\n<!-- 17 -->\n<g id=\"node18\" class=\"node\">\n<title>17</title>\n<polygon fill=\"none\" stroke=\"#000000\" points=\"614,-565.5 425,-565.5 425,-512.5 614,-512.5 614,-565.5\"/>\n<text text-anchor=\"middle\" x=\"519.5\" y=\"-550.3\" font-family=\"Helvetica,sans-Serif\" font-size=\"14.00\" fill=\"#000000\">squared_error = 89.068</text>\n<text text-anchor=\"middle\" x=\"519.5\" y=\"-535.3\" font-family=\"Helvetica,sans-Serif\" font-size=\"14.00\" fill=\"#000000\">samples = 11</text>\n<text text-anchor=\"middle\" x=\"519.5\" y=\"-520.3\" font-family=\"Helvetica,sans-Serif\" font-size=\"14.00\" fill=\"#000000\">value = 30.945</text>\n</g>\n<!-- 5&#45;&gt;17 -->\n<g id=\"edge17\" class=\"edge\">\n<title>5&#45;&gt;17</title>\n<path fill=\"none\" stroke=\"#000000\" d=\"M519.5,-608.9465C519.5,-598.2621 519.5,-586.4254 519.5,-575.5742\"/>\n<polygon fill=\"#000000\" stroke=\"#000000\" points=\"523.0001,-575.5421 519.5,-565.5422 516.0001,-575.5422 523.0001,-575.5421\"/>\n</g>\n<!-- 7 -->\n<g id=\"node8\" class=\"node\">\n<title>7</title>\n<polygon fill=\"none\" stroke=\"#000000\" points=\"307.5,-461.5 127.5,-461.5 127.5,-408.5 307.5,-408.5 307.5,-461.5\"/>\n<text text-anchor=\"middle\" x=\"217.5\" y=\"-446.3\" font-family=\"Helvetica,sans-Serif\" font-size=\"14.00\" fill=\"#000000\">squared_error = 5.339</text>\n<text text-anchor=\"middle\" x=\"217.5\" y=\"-431.3\" font-family=\"Helvetica,sans-Serif\" font-size=\"14.00\" fill=\"#000000\">samples = 24</text>\n<text text-anchor=\"middle\" x=\"217.5\" y=\"-416.3\" font-family=\"Helvetica,sans-Serif\" font-size=\"14.00\" fill=\"#000000\">value = 20.367</text>\n</g>\n<!-- 6&#45;&gt;7 -->\n<g id=\"edge7\" class=\"edge\">\n<title>6&#45;&gt;7</title>\n<path fill=\"none\" stroke=\"#000000\" d=\"M284.0837,-504.9465C273.0741,-493.3809 260.7793,-480.4652 249.7804,-468.9107\"/>\n<polygon fill=\"#000000\" stroke=\"#000000\" points=\"252.196,-466.372 242.7661,-461.5422 247.1259,-471.1984 252.196,-466.372\"/>\n</g>\n<!-- 8 -->\n<g id=\"node9\" class=\"node\">\n<title>8</title>\n<polygon fill=\"none\" stroke=\"#000000\" points=\"505.5,-469 325.5,-469 325.5,-401 505.5,-401 505.5,-469\"/>\n<text text-anchor=\"middle\" x=\"415.5\" y=\"-453.8\" font-family=\"Helvetica,sans-Serif\" font-size=\"14.00\" fill=\"#000000\">rm &lt;= 6.611</text>\n<text text-anchor=\"middle\" x=\"415.5\" y=\"-438.8\" font-family=\"Helvetica,sans-Serif\" font-size=\"14.00\" fill=\"#000000\">squared_error = 8.557</text>\n<text text-anchor=\"middle\" x=\"415.5\" y=\"-423.8\" font-family=\"Helvetica,sans-Serif\" font-size=\"14.00\" fill=\"#000000\">samples = 74</text>\n<text text-anchor=\"middle\" x=\"415.5\" y=\"-408.8\" font-family=\"Helvetica,sans-Serif\" font-size=\"14.00\" fill=\"#000000\">value = 24.912</text>\n</g>\n<!-- 6&#45;&gt;8 -->\n<g id=\"edge8\" class=\"edge\">\n<title>6&#45;&gt;8</title>\n<path fill=\"none\" stroke=\"#000000\" d=\"M348.9163,-504.9465C357.5486,-495.8782 366.9711,-485.9799 375.9395,-476.5585\"/>\n<polygon fill=\"#000000\" stroke=\"#000000\" points=\"378.6511,-478.7863 383.0109,-469.13 373.581,-473.9599 378.6511,-478.7863\"/>\n</g>\n<!-- 9 -->\n<g id=\"node10\" class=\"node\">\n<title>9</title>\n<polygon fill=\"none\" stroke=\"#000000\" points=\"384.5,-365 204.5,-365 204.5,-297 384.5,-297 384.5,-365\"/>\n<text text-anchor=\"middle\" x=\"294.5\" y=\"-349.8\" font-family=\"Helvetica,sans-Serif\" font-size=\"14.00\" fill=\"#000000\">tax &lt;= 332.5</text>\n<text text-anchor=\"middle\" x=\"294.5\" y=\"-334.8\" font-family=\"Helvetica,sans-Serif\" font-size=\"14.00\" fill=\"#000000\">squared_error = 7.543</text>\n<text text-anchor=\"middle\" x=\"294.5\" y=\"-319.8\" font-family=\"Helvetica,sans-Serif\" font-size=\"14.00\" fill=\"#000000\">samples = 53</text>\n<text text-anchor=\"middle\" x=\"294.5\" y=\"-304.8\" font-family=\"Helvetica,sans-Serif\" font-size=\"14.00\" fill=\"#000000\">value = 24.087</text>\n</g>\n<!-- 8&#45;&gt;9 -->\n<g id=\"edge9\" class=\"edge\">\n<title>8&#45;&gt;9</title>\n<path fill=\"none\" stroke=\"#000000\" d=\"M375.8801,-400.9465C365.016,-391.6088 353.1282,-381.3911 341.8765,-371.7203\"/>\n<polygon fill=\"#000000\" stroke=\"#000000\" points=\"344.0741,-368.994 334.2089,-365.13 339.5113,-374.3026 344.0741,-368.994\"/>\n</g>\n<!-- 16 -->\n<g id=\"node17\" class=\"node\">\n<title>16</title>\n<polygon fill=\"none\" stroke=\"#000000\" points=\"582.5,-357.5 402.5,-357.5 402.5,-304.5 582.5,-304.5 582.5,-357.5\"/>\n<text text-anchor=\"middle\" x=\"492.5\" y=\"-342.3\" font-family=\"Helvetica,sans-Serif\" font-size=\"14.00\" fill=\"#000000\">squared_error = 5.058</text>\n<text text-anchor=\"middle\" x=\"492.5\" y=\"-327.3\" font-family=\"Helvetica,sans-Serif\" font-size=\"14.00\" fill=\"#000000\">samples = 21</text>\n<text text-anchor=\"middle\" x=\"492.5\" y=\"-312.3\" font-family=\"Helvetica,sans-Serif\" font-size=\"14.00\" fill=\"#000000\">value = 26.995</text>\n</g>\n<!-- 8&#45;&gt;16 -->\n<g id=\"edge16\" class=\"edge\">\n<title>8&#45;&gt;16</title>\n<path fill=\"none\" stroke=\"#000000\" d=\"M440.7127,-400.9465C449.0311,-389.7113 458.2927,-377.2021 466.6574,-365.9043\"/>\n<polygon fill=\"#000000\" stroke=\"#000000\" points=\"469.7111,-367.6618 472.8486,-357.5422 464.0852,-363.4965 469.7111,-367.6618\"/>\n</g>\n<!-- 10 -->\n<g id=\"node11\" class=\"node\">\n<title>10</title>\n<polygon fill=\"none\" stroke=\"#000000\" points=\"285.5,-261 105.5,-261 105.5,-193 285.5,-193 285.5,-261\"/>\n<text text-anchor=\"middle\" x=\"195.5\" y=\"-245.8\" font-family=\"Helvetica,sans-Serif\" font-size=\"14.00\" fill=\"#000000\">tax &lt;= 262.0</text>\n<text text-anchor=\"middle\" x=\"195.5\" y=\"-230.8\" font-family=\"Helvetica,sans-Serif\" font-size=\"14.00\" fill=\"#000000\">squared_error = 6.987</text>\n<text text-anchor=\"middle\" x=\"195.5\" y=\"-215.8\" font-family=\"Helvetica,sans-Serif\" font-size=\"14.00\" fill=\"#000000\">samples = 43</text>\n<text text-anchor=\"middle\" x=\"195.5\" y=\"-200.8\" font-family=\"Helvetica,sans-Serif\" font-size=\"14.00\" fill=\"#000000\">value = 24.547</text>\n</g>\n<!-- 9&#45;&gt;10 -->\n<g id=\"edge10\" class=\"edge\">\n<title>9&#45;&gt;10</title>\n<path fill=\"none\" stroke=\"#000000\" d=\"M262.0837,-296.9465C253.4514,-287.8782 244.0289,-277.9799 235.0605,-268.5585\"/>\n<polygon fill=\"#000000\" stroke=\"#000000\" points=\"237.419,-265.9599 227.9891,-261.13 232.3489,-270.7863 237.419,-265.9599\"/>\n</g>\n<!-- 15 -->\n<g id=\"node16\" class=\"node\">\n<title>15</title>\n<polygon fill=\"none\" stroke=\"#000000\" points=\"483.5,-253.5 303.5,-253.5 303.5,-200.5 483.5,-200.5 483.5,-253.5\"/>\n<text text-anchor=\"middle\" x=\"393.5\" y=\"-238.3\" font-family=\"Helvetica,sans-Serif\" font-size=\"14.00\" fill=\"#000000\">squared_error = 5.119</text>\n<text text-anchor=\"middle\" x=\"393.5\" y=\"-223.3\" font-family=\"Helvetica,sans-Serif\" font-size=\"14.00\" fill=\"#000000\">samples = 10</text>\n<text text-anchor=\"middle\" x=\"393.5\" y=\"-208.3\" font-family=\"Helvetica,sans-Serif\" font-size=\"14.00\" fill=\"#000000\">value = 22.11</text>\n</g>\n<!-- 9&#45;&gt;15 -->\n<g id=\"edge15\" class=\"edge\">\n<title>9&#45;&gt;15</title>\n<path fill=\"none\" stroke=\"#000000\" d=\"M326.9163,-296.9465C337.9259,-285.3809 350.2207,-272.4652 361.2196,-260.9107\"/>\n<polygon fill=\"#000000\" stroke=\"#000000\" points=\"363.8741,-263.1984 368.2339,-253.5422 358.804,-258.372 363.8741,-263.1984\"/>\n</g>\n<!-- 11 -->\n<g id=\"node12\" class=\"node\">\n<title>11</title>\n<polygon fill=\"none\" stroke=\"#000000\" points=\"189,-149.5 0,-149.5 0,-96.5 189,-96.5 189,-149.5\"/>\n<text text-anchor=\"middle\" x=\"94.5\" y=\"-134.3\" font-family=\"Helvetica,sans-Serif\" font-size=\"14.00\" fill=\"#000000\">squared_error = 16.277</text>\n<text text-anchor=\"middle\" x=\"94.5\" y=\"-119.3\" font-family=\"Helvetica,sans-Serif\" font-size=\"14.00\" fill=\"#000000\">samples = 11</text>\n<text text-anchor=\"middle\" x=\"94.5\" y=\"-104.3\" font-family=\"Helvetica,sans-Serif\" font-size=\"14.00\" fill=\"#000000\">value = 25.891</text>\n</g>\n<!-- 10&#45;&gt;11 -->\n<g id=\"edge11\" class=\"edge\">\n<title>10&#45;&gt;11</title>\n<path fill=\"none\" stroke=\"#000000\" d=\"M162.4288,-192.9465C151.1968,-181.3809 138.6537,-168.4652 127.4325,-156.9107\"/>\n<polygon fill=\"#000000\" stroke=\"#000000\" points=\"129.7542,-154.2776 120.2765,-149.5422 124.7326,-159.1544 129.7542,-154.2776\"/>\n</g>\n<!-- 12 -->\n<g id=\"node13\" class=\"node\">\n<title>12</title>\n<polygon fill=\"none\" stroke=\"#000000\" points=\"387.5,-157 207.5,-157 207.5,-89 387.5,-89 387.5,-157\"/>\n<text text-anchor=\"middle\" x=\"297.5\" y=\"-141.8\" font-family=\"Helvetica,sans-Serif\" font-size=\"14.00\" fill=\"#000000\">age &lt;= 51.65</text>\n<text text-anchor=\"middle\" x=\"297.5\" y=\"-126.8\" font-family=\"Helvetica,sans-Serif\" font-size=\"14.00\" fill=\"#000000\">squared_error = 2.959</text>\n<text text-anchor=\"middle\" x=\"297.5\" y=\"-111.8\" font-family=\"Helvetica,sans-Serif\" font-size=\"14.00\" fill=\"#000000\">samples = 32</text>\n<text text-anchor=\"middle\" x=\"297.5\" y=\"-96.8\" font-family=\"Helvetica,sans-Serif\" font-size=\"14.00\" fill=\"#000000\">value = 24.084</text>\n</g>\n<!-- 10&#45;&gt;12 -->\n<g id=\"edge12\" class=\"edge\">\n<title>10&#45;&gt;12</title>\n<path fill=\"none\" stroke=\"#000000\" d=\"M228.8986,-192.9465C237.8806,-183.7884 247.6928,-173.7838 257.015,-164.2788\"/>\n<polygon fill=\"#000000\" stroke=\"#000000\" points=\"259.523,-166.7201 264.0263,-157.13 254.5254,-161.8187 259.523,-166.7201\"/>\n</g>\n<!-- 13 -->\n<g id=\"node14\" class=\"node\">\n<title>13</title>\n<polygon fill=\"none\" stroke=\"#000000\" points=\"288.5,-53 108.5,-53 108.5,0 288.5,0 288.5,-53\"/>\n<text text-anchor=\"middle\" x=\"198.5\" y=\"-37.8\" font-family=\"Helvetica,sans-Serif\" font-size=\"14.00\" fill=\"#000000\">squared_error = 2.982</text>\n<text text-anchor=\"middle\" x=\"198.5\" y=\"-22.8\" font-family=\"Helvetica,sans-Serif\" font-size=\"14.00\" fill=\"#000000\">samples = 22</text>\n<text text-anchor=\"middle\" x=\"198.5\" y=\"-7.8\" font-family=\"Helvetica,sans-Serif\" font-size=\"14.00\" fill=\"#000000\">value = 24.659</text>\n</g>\n<!-- 12&#45;&gt;13 -->\n<g id=\"edge13\" class=\"edge\">\n<title>12&#45;&gt;13</title>\n<path fill=\"none\" stroke=\"#000000\" d=\"M262.5963,-88.9777C253.1082,-79.7292 242.8343,-69.7147 233.3491,-60.4691\"/>\n<polygon fill=\"#000000\" stroke=\"#000000\" points=\"235.5454,-57.7223 225.9414,-53.2485 230.6593,-62.7349 235.5454,-57.7223\"/>\n</g>\n<!-- 14 -->\n<g id=\"node15\" class=\"node\">\n<title>14</title>\n<polygon fill=\"none\" stroke=\"#000000\" points=\"486.5,-53 306.5,-53 306.5,0 486.5,0 486.5,-53\"/>\n<text text-anchor=\"middle\" x=\"396.5\" y=\"-37.8\" font-family=\"Helvetica,sans-Serif\" font-size=\"14.00\" fill=\"#000000\">squared_error = 0.582</text>\n<text text-anchor=\"middle\" x=\"396.5\" y=\"-22.8\" font-family=\"Helvetica,sans-Serif\" font-size=\"14.00\" fill=\"#000000\">samples = 10</text>\n<text text-anchor=\"middle\" x=\"396.5\" y=\"-7.8\" font-family=\"Helvetica,sans-Serif\" font-size=\"14.00\" fill=\"#000000\">value = 22.82</text>\n</g>\n<!-- 12&#45;&gt;14 -->\n<g id=\"edge14\" class=\"edge\">\n<title>12&#45;&gt;14</title>\n<path fill=\"none\" stroke=\"#000000\" d=\"M332.4037,-88.9777C341.8918,-79.7292 352.1657,-69.7147 361.6509,-60.4691\"/>\n<polygon fill=\"#000000\" stroke=\"#000000\" points=\"364.3407,-62.7349 369.0586,-53.2485 359.4546,-57.7223 364.3407,-62.7349\"/>\n</g>\n<!-- 19 -->\n<g id=\"node20\" class=\"node\">\n<title>19</title>\n<polygon fill=\"none\" stroke=\"#000000\" points=\"812.5,-573 632.5,-573 632.5,-505 812.5,-505 812.5,-573\"/>\n<text text-anchor=\"middle\" x=\"722.5\" y=\"-557.8\" font-family=\"Helvetica,sans-Serif\" font-size=\"14.00\" fill=\"#000000\">nox &lt;= 0.512</text>\n<text text-anchor=\"middle\" x=\"722.5\" y=\"-542.8\" font-family=\"Helvetica,sans-Serif\" font-size=\"14.00\" fill=\"#000000\">squared_error = 6.703</text>\n<text text-anchor=\"middle\" x=\"722.5\" y=\"-527.8\" font-family=\"Helvetica,sans-Serif\" font-size=\"14.00\" fill=\"#000000\">samples = 92</text>\n<text text-anchor=\"middle\" x=\"722.5\" y=\"-512.8\" font-family=\"Helvetica,sans-Serif\" font-size=\"14.00\" fill=\"#000000\">value = 20.965</text>\n</g>\n<!-- 18&#45;&gt;19 -->\n<g id=\"edge19\" class=\"edge\">\n<title>18&#45;&gt;19</title>\n<path fill=\"none\" stroke=\"#000000\" d=\"M789.0837,-608.9465C780.4514,-599.8782 771.0289,-589.9799 762.0605,-580.5585\"/>\n<polygon fill=\"#000000\" stroke=\"#000000\" points=\"764.419,-577.9599 754.9891,-573.13 759.3489,-582.7863 764.419,-577.9599\"/>\n</g>\n<!-- 26 -->\n<g id=\"node27\" class=\"node\">\n<title>26</title>\n<polygon fill=\"none\" stroke=\"#000000\" points=\"1010.5,-565.5 830.5,-565.5 830.5,-512.5 1010.5,-512.5 1010.5,-565.5\"/>\n<text text-anchor=\"middle\" x=\"920.5\" y=\"-550.3\" font-family=\"Helvetica,sans-Serif\" font-size=\"14.00\" fill=\"#000000\">squared_error = 1.552</text>\n<text text-anchor=\"middle\" x=\"920.5\" y=\"-535.3\" font-family=\"Helvetica,sans-Serif\" font-size=\"14.00\" fill=\"#000000\">samples = 10</text>\n<text text-anchor=\"middle\" x=\"920.5\" y=\"-520.3\" font-family=\"Helvetica,sans-Serif\" font-size=\"14.00\" fill=\"#000000\">value = 18.52</text>\n</g>\n<!-- 18&#45;&gt;26 -->\n<g id=\"edge26\" class=\"edge\">\n<title>18&#45;&gt;26</title>\n<path fill=\"none\" stroke=\"#000000\" d=\"M853.9163,-608.9465C864.9259,-597.3809 877.2207,-584.4652 888.2196,-572.9107\"/>\n<polygon fill=\"#000000\" stroke=\"#000000\" points=\"890.8741,-575.1984 895.2339,-565.5422 885.804,-570.372 890.8741,-575.1984\"/>\n</g>\n<!-- 20 -->\n<g id=\"node21\" class=\"node\">\n<title>20</title>\n<polygon fill=\"none\" stroke=\"#000000\" points=\"785.5,-461.5 605.5,-461.5 605.5,-408.5 785.5,-408.5 785.5,-461.5\"/>\n<text text-anchor=\"middle\" x=\"695.5\" y=\"-446.3\" font-family=\"Helvetica,sans-Serif\" font-size=\"14.00\" fill=\"#000000\">squared_error = 6.375</text>\n<text text-anchor=\"middle\" x=\"695.5\" y=\"-431.3\" font-family=\"Helvetica,sans-Serif\" font-size=\"14.00\" fill=\"#000000\">samples = 26</text>\n<text text-anchor=\"middle\" x=\"695.5\" y=\"-416.3\" font-family=\"Helvetica,sans-Serif\" font-size=\"14.00\" fill=\"#000000\">value = 22.358</text>\n</g>\n<!-- 19&#45;&gt;20 -->\n<g id=\"edge20\" class=\"edge\">\n<title>19&#45;&gt;20</title>\n<path fill=\"none\" stroke=\"#000000\" d=\"M713.6592,-504.9465C710.8567,-494.1519 707.749,-482.1813 704.9082,-471.2389\"/>\n<polygon fill=\"#000000\" stroke=\"#000000\" points=\"708.2914,-470.3418 702.3908,-461.5422 701.516,-472.1008 708.2914,-470.3418\"/>\n</g>\n<!-- 21 -->\n<g id=\"node22\" class=\"node\">\n<title>21</title>\n<polygon fill=\"none\" stroke=\"#000000\" points=\"983.5,-469 803.5,-469 803.5,-401 983.5,-401 983.5,-469\"/>\n<text text-anchor=\"middle\" x=\"893.5\" y=\"-453.8\" font-family=\"Helvetica,sans-Serif\" font-size=\"14.00\" fill=\"#000000\">indus &lt;= 9.955</text>\n<text text-anchor=\"middle\" x=\"893.5\" y=\"-438.8\" font-family=\"Helvetica,sans-Serif\" font-size=\"14.00\" fill=\"#000000\">squared_error = 5.768</text>\n<text text-anchor=\"middle\" x=\"893.5\" y=\"-423.8\" font-family=\"Helvetica,sans-Serif\" font-size=\"14.00\" fill=\"#000000\">samples = 66</text>\n<text text-anchor=\"middle\" x=\"893.5\" y=\"-408.8\" font-family=\"Helvetica,sans-Serif\" font-size=\"14.00\" fill=\"#000000\">value = 20.417</text>\n</g>\n<!-- 19&#45;&gt;21 -->\n<g id=\"edge21\" class=\"edge\">\n<title>19&#45;&gt;21</title>\n<path fill=\"none\" stroke=\"#000000\" d=\"M778.4918,-504.9465C794.5832,-495.1599 812.2641,-484.4066 828.8334,-474.3294\"/>\n<polygon fill=\"#000000\" stroke=\"#000000\" points=\"830.6572,-477.3167 837.3824,-469.13 827.0198,-471.336 830.6572,-477.3167\"/>\n</g>\n<!-- 22 -->\n<g id=\"node23\" class=\"node\">\n<title>22</title>\n<polygon fill=\"none\" stroke=\"#000000\" points=\"884.5,-357.5 704.5,-357.5 704.5,-304.5 884.5,-304.5 884.5,-357.5\"/>\n<text text-anchor=\"middle\" x=\"794.5\" y=\"-342.3\" font-family=\"Helvetica,sans-Serif\" font-size=\"14.00\" fill=\"#000000\">squared_error = 4.691</text>\n<text text-anchor=\"middle\" x=\"794.5\" y=\"-327.3\" font-family=\"Helvetica,sans-Serif\" font-size=\"14.00\" fill=\"#000000\">samples = 28</text>\n<text text-anchor=\"middle\" x=\"794.5\" y=\"-312.3\" font-family=\"Helvetica,sans-Serif\" font-size=\"14.00\" fill=\"#000000\">value = 19.607</text>\n</g>\n<!-- 21&#45;&gt;22 -->\n<g id=\"edge22\" class=\"edge\">\n<title>21&#45;&gt;22</title>\n<path fill=\"none\" stroke=\"#000000\" d=\"M861.0837,-400.9465C850.0741,-389.3809 837.7793,-376.4652 826.7804,-364.9107\"/>\n<polygon fill=\"#000000\" stroke=\"#000000\" points=\"829.196,-362.372 819.7661,-357.5422 824.1259,-367.1984 829.196,-362.372\"/>\n</g>\n<!-- 23 -->\n<g id=\"node24\" class=\"node\">\n<title>23</title>\n<polygon fill=\"none\" stroke=\"#000000\" points=\"1082.5,-365 902.5,-365 902.5,-297 1082.5,-297 1082.5,-365\"/>\n<text text-anchor=\"middle\" x=\"992.5\" y=\"-349.8\" font-family=\"Helvetica,sans-Serif\" font-size=\"14.00\" fill=\"#000000\">dis &lt;= 2.311</text>\n<text text-anchor=\"middle\" x=\"992.5\" y=\"-334.8\" font-family=\"Helvetica,sans-Serif\" font-size=\"14.00\" fill=\"#000000\">squared_error = 5.722</text>\n<text text-anchor=\"middle\" x=\"992.5\" y=\"-319.8\" font-family=\"Helvetica,sans-Serif\" font-size=\"14.00\" fill=\"#000000\">samples = 38</text>\n<text text-anchor=\"middle\" x=\"992.5\" y=\"-304.8\" font-family=\"Helvetica,sans-Serif\" font-size=\"14.00\" fill=\"#000000\">value = 21.013</text>\n</g>\n<!-- 21&#45;&gt;23 -->\n<g id=\"edge23\" class=\"edge\">\n<title>21&#45;&gt;23</title>\n<path fill=\"none\" stroke=\"#000000\" d=\"M925.9163,-400.9465C934.5486,-391.8782 943.9711,-381.9799 952.9395,-372.5585\"/>\n<polygon fill=\"#000000\" stroke=\"#000000\" points=\"955.6511,-374.7863 960.0109,-365.13 950.581,-369.9599 955.6511,-374.7863\"/>\n</g>\n<!-- 24 -->\n<g id=\"node25\" class=\"node\">\n<title>24</title>\n<polygon fill=\"none\" stroke=\"#000000\" points=\"983.5,-253.5 803.5,-253.5 803.5,-200.5 983.5,-200.5 983.5,-253.5\"/>\n<text text-anchor=\"middle\" x=\"893.5\" y=\"-238.3\" font-family=\"Helvetica,sans-Serif\" font-size=\"14.00\" fill=\"#000000\">squared_error = 8.747</text>\n<text text-anchor=\"middle\" x=\"893.5\" y=\"-223.3\" font-family=\"Helvetica,sans-Serif\" font-size=\"14.00\" fill=\"#000000\">samples = 19</text>\n<text text-anchor=\"middle\" x=\"893.5\" y=\"-208.3\" font-family=\"Helvetica,sans-Serif\" font-size=\"14.00\" fill=\"#000000\">value = 20.474</text>\n</g>\n<!-- 23&#45;&gt;24 -->\n<g id=\"edge24\" class=\"edge\">\n<title>23&#45;&gt;24</title>\n<path fill=\"none\" stroke=\"#000000\" d=\"M960.0837,-296.9465C949.0741,-285.3809 936.7793,-272.4652 925.7804,-260.9107\"/>\n<polygon fill=\"#000000\" stroke=\"#000000\" points=\"928.196,-258.372 918.7661,-253.5422 923.1259,-263.1984 928.196,-258.372\"/>\n</g>\n<!-- 25 -->\n<g id=\"node26\" class=\"node\">\n<title>25</title>\n<polygon fill=\"none\" stroke=\"#000000\" points=\"1181.5,-253.5 1001.5,-253.5 1001.5,-200.5 1181.5,-200.5 1181.5,-253.5\"/>\n<text text-anchor=\"middle\" x=\"1091.5\" y=\"-238.3\" font-family=\"Helvetica,sans-Serif\" font-size=\"14.00\" fill=\"#000000\">squared_error = 2.115</text>\n<text text-anchor=\"middle\" x=\"1091.5\" y=\"-223.3\" font-family=\"Helvetica,sans-Serif\" font-size=\"14.00\" fill=\"#000000\">samples = 19</text>\n<text text-anchor=\"middle\" x=\"1091.5\" y=\"-208.3\" font-family=\"Helvetica,sans-Serif\" font-size=\"14.00\" fill=\"#000000\">value = 21.553</text>\n</g>\n<!-- 23&#45;&gt;25 -->\n<g id=\"edge25\" class=\"edge\">\n<title>23&#45;&gt;25</title>\n<path fill=\"none\" stroke=\"#000000\" d=\"M1024.9163,-296.9465C1035.9259,-285.3809 1048.2207,-272.4652 1059.2196,-260.9107\"/>\n<polygon fill=\"#000000\" stroke=\"#000000\" points=\"1061.8741,-263.1984 1066.2339,-253.5422 1056.804,-258.372 1061.8741,-263.1984\"/>\n</g>\n<!-- 28 -->\n<g id=\"node29\" class=\"node\">\n<title>28</title>\n<polygon fill=\"none\" stroke=\"#000000\" points=\"1601.5,-781 1421.5,-781 1421.5,-713 1601.5,-713 1601.5,-781\"/>\n<text text-anchor=\"middle\" x=\"1511.5\" y=\"-765.8\" font-family=\"Helvetica,sans-Serif\" font-size=\"14.00\" fill=\"#000000\">crim &lt;= 0.615</text>\n<text text-anchor=\"middle\" x=\"1511.5\" y=\"-750.8\" font-family=\"Helvetica,sans-Serif\" font-size=\"14.00\" fill=\"#000000\">squared_error = 9.758</text>\n<text text-anchor=\"middle\" x=\"1511.5\" y=\"-735.8\" font-family=\"Helvetica,sans-Serif\" font-size=\"14.00\" fill=\"#000000\">samples = 90</text>\n<text text-anchor=\"middle\" x=\"1511.5\" y=\"-720.8\" font-family=\"Helvetica,sans-Serif\" font-size=\"14.00\" fill=\"#000000\">value = 17.354</text>\n</g>\n<!-- 27&#45;&gt;28 -->\n<g id=\"edge28\" class=\"edge\">\n<title>27&#45;&gt;28</title>\n<path fill=\"none\" stroke=\"#000000\" d=\"M1579.4288,-816.9465C1570.6221,-807.8782 1561.0093,-797.9799 1551.8597,-788.5585\"/>\n<polygon fill=\"#000000\" stroke=\"#000000\" points=\"1554.1232,-785.8654 1544.6455,-781.13 1549.1015,-790.7422 1554.1232,-785.8654\"/>\n</g>\n<!-- 37 -->\n<g id=\"node38\" class=\"node\">\n<title>37</title>\n<polygon fill=\"none\" stroke=\"#000000\" points=\"1809,-781 1620,-781 1620,-713 1809,-713 1809,-781\"/>\n<text text-anchor=\"middle\" x=\"1714.5\" y=\"-765.8\" font-family=\"Helvetica,sans-Serif\" font-size=\"14.00\" fill=\"#000000\">nox &lt;= 0.606</text>\n<text text-anchor=\"middle\" x=\"1714.5\" y=\"-750.8\" font-family=\"Helvetica,sans-Serif\" font-size=\"14.00\" fill=\"#000000\">squared_error = 14.895</text>\n<text text-anchor=\"middle\" x=\"1714.5\" y=\"-735.8\" font-family=\"Helvetica,sans-Serif\" font-size=\"14.00\" fill=\"#000000\">samples = 68</text>\n<text text-anchor=\"middle\" x=\"1714.5\" y=\"-720.8\" font-family=\"Helvetica,sans-Serif\" font-size=\"14.00\" fill=\"#000000\">value = 12.034</text>\n</g>\n<!-- 27&#45;&gt;37 -->\n<g id=\"edge37\" class=\"edge\">\n<title>27&#45;&gt;37</title>\n<path fill=\"none\" stroke=\"#000000\" d=\"M1645.8986,-816.9465C1654.8806,-807.7884 1664.6928,-797.7838 1674.015,-788.2788\"/>\n<polygon fill=\"#000000\" stroke=\"#000000\" points=\"1676.523,-790.7201 1681.0263,-781.13 1671.5254,-785.8187 1676.523,-790.7201\"/>\n</g>\n<!-- 29 -->\n<g id=\"node30\" class=\"node\">\n<title>29</title>\n<polygon fill=\"none\" stroke=\"#000000\" points=\"1406.5,-677 1226.5,-677 1226.5,-609 1406.5,-609 1406.5,-677\"/>\n<text text-anchor=\"middle\" x=\"1316.5\" y=\"-661.8\" font-family=\"Helvetica,sans-Serif\" font-size=\"14.00\" fill=\"#000000\">dis &lt;= 1.98</text>\n<text text-anchor=\"middle\" x=\"1316.5\" y=\"-646.8\" font-family=\"Helvetica,sans-Serif\" font-size=\"14.00\" fill=\"#000000\">squared_error = 8.647</text>\n<text text-anchor=\"middle\" x=\"1316.5\" y=\"-631.8\" font-family=\"Helvetica,sans-Serif\" font-size=\"14.00\" fill=\"#000000\">samples = 45</text>\n<text text-anchor=\"middle\" x=\"1316.5\" y=\"-616.8\" font-family=\"Helvetica,sans-Serif\" font-size=\"14.00\" fill=\"#000000\">value = 18.949</text>\n</g>\n<!-- 28&#45;&gt;29 -->\n<g id=\"edge29\" class=\"edge\">\n<title>28&#45;&gt;29</title>\n<path fill=\"none\" stroke=\"#000000\" d=\"M1447.6497,-712.9465C1429.0473,-703.0252 1408.5822,-692.1105 1389.4633,-681.9138\"/>\n<polygon fill=\"#000000\" stroke=\"#000000\" points=\"1390.9644,-678.7477 1380.4937,-677.13 1387.6702,-684.9242 1390.9644,-678.7477\"/>\n</g>\n<!-- 34 -->\n<g id=\"node35\" class=\"node\">\n<title>34</title>\n<polygon fill=\"none\" stroke=\"#000000\" points=\"1604.5,-677 1424.5,-677 1424.5,-609 1604.5,-609 1604.5,-677\"/>\n<text text-anchor=\"middle\" x=\"1514.5\" y=\"-661.8\" font-family=\"Helvetica,sans-Serif\" font-size=\"14.00\" fill=\"#000000\">lstat &lt;= 17.275</text>\n<text text-anchor=\"middle\" x=\"1514.5\" y=\"-646.8\" font-family=\"Helvetica,sans-Serif\" font-size=\"14.00\" fill=\"#000000\">squared_error = 5.786</text>\n<text text-anchor=\"middle\" x=\"1514.5\" y=\"-631.8\" font-family=\"Helvetica,sans-Serif\" font-size=\"14.00\" fill=\"#000000\">samples = 45</text>\n<text text-anchor=\"middle\" x=\"1514.5\" y=\"-616.8\" font-family=\"Helvetica,sans-Serif\" font-size=\"14.00\" fill=\"#000000\">value = 15.76</text>\n</g>\n<!-- 28&#45;&gt;34 -->\n<g id=\"edge34\" class=\"edge\">\n<title>28&#45;&gt;34</title>\n<path fill=\"none\" stroke=\"#000000\" d=\"M1512.4823,-712.9465C1512.718,-704.776 1512.9731,-695.9318 1513.2201,-687.3697\"/>\n<polygon fill=\"#000000\" stroke=\"#000000\" points=\"1516.7256,-687.2268 1513.5155,-677.13 1509.7285,-687.0249 1516.7256,-687.2268\"/>\n</g>\n<!-- 30 -->\n<g id=\"node31\" class=\"node\">\n<title>30</title>\n<polygon fill=\"none\" stroke=\"#000000\" points=\"1208.5,-565.5 1028.5,-565.5 1028.5,-512.5 1208.5,-512.5 1208.5,-565.5\"/>\n<text text-anchor=\"middle\" x=\"1118.5\" y=\"-550.3\" font-family=\"Helvetica,sans-Serif\" font-size=\"14.00\" fill=\"#000000\">squared_error = 2.719</text>\n<text text-anchor=\"middle\" x=\"1118.5\" y=\"-535.3\" font-family=\"Helvetica,sans-Serif\" font-size=\"14.00\" fill=\"#000000\">samples = 11</text>\n<text text-anchor=\"middle\" x=\"1118.5\" y=\"-520.3\" font-family=\"Helvetica,sans-Serif\" font-size=\"14.00\" fill=\"#000000\">value = 15.964</text>\n</g>\n<!-- 29&#45;&gt;30 -->\n<g id=\"edge30\" class=\"edge\">\n<title>29&#45;&gt;30</title>\n<path fill=\"none\" stroke=\"#000000\" d=\"M1251.6674,-608.9465C1227.9705,-596.4997 1201.2968,-582.4892 1178.08,-570.2946\"/>\n<polygon fill=\"#000000\" stroke=\"#000000\" points=\"1179.5128,-567.0937 1169.0322,-565.5422 1176.2577,-573.2909 1179.5128,-567.0937\"/>\n</g>\n<!-- 31 -->\n<g id=\"node32\" class=\"node\">\n<title>31</title>\n<polygon fill=\"none\" stroke=\"#000000\" points=\"1406.5,-573 1226.5,-573 1226.5,-505 1406.5,-505 1406.5,-573\"/>\n<text text-anchor=\"middle\" x=\"1316.5\" y=\"-557.8\" font-family=\"Helvetica,sans-Serif\" font-size=\"14.00\" fill=\"#000000\">age &lt;= 72.8</text>\n<text text-anchor=\"middle\" x=\"1316.5\" y=\"-542.8\" font-family=\"Helvetica,sans-Serif\" font-size=\"14.00\" fill=\"#000000\">squared_error = 6.749</text>\n<text text-anchor=\"middle\" x=\"1316.5\" y=\"-527.8\" font-family=\"Helvetica,sans-Serif\" font-size=\"14.00\" fill=\"#000000\">samples = 34</text>\n<text text-anchor=\"middle\" x=\"1316.5\" y=\"-512.8\" font-family=\"Helvetica,sans-Serif\" font-size=\"14.00\" fill=\"#000000\">value = 19.915</text>\n</g>\n<!-- 29&#45;&gt;31 -->\n<g id=\"edge31\" class=\"edge\">\n<title>29&#45;&gt;31</title>\n<path fill=\"none\" stroke=\"#000000\" d=\"M1316.5,-608.9465C1316.5,-600.776 1316.5,-591.9318 1316.5,-583.3697\"/>\n<polygon fill=\"#000000\" stroke=\"#000000\" points=\"1320.0001,-583.13 1316.5,-573.13 1313.0001,-583.13 1320.0001,-583.13\"/>\n</g>\n<!-- 32 -->\n<g id=\"node33\" class=\"node\">\n<title>32</title>\n<polygon fill=\"none\" stroke=\"#000000\" points=\"1235.5,-461.5 1055.5,-461.5 1055.5,-408.5 1235.5,-408.5 1235.5,-461.5\"/>\n<text text-anchor=\"middle\" x=\"1145.5\" y=\"-446.3\" font-family=\"Helvetica,sans-Serif\" font-size=\"14.00\" fill=\"#000000\">squared_error = 3.806</text>\n<text text-anchor=\"middle\" x=\"1145.5\" y=\"-431.3\" font-family=\"Helvetica,sans-Serif\" font-size=\"14.00\" fill=\"#000000\">samples = 11</text>\n<text text-anchor=\"middle\" x=\"1145.5\" y=\"-416.3\" font-family=\"Helvetica,sans-Serif\" font-size=\"14.00\" fill=\"#000000\">value = 21.336</text>\n</g>\n<!-- 31&#45;&gt;32 -->\n<g id=\"edge32\" class=\"edge\">\n<title>31&#45;&gt;32</title>\n<path fill=\"none\" stroke=\"#000000\" d=\"M1260.5082,-504.9465C1240.3144,-492.6649 1217.6174,-478.8609 1197.7555,-466.7811\"/>\n<polygon fill=\"#000000\" stroke=\"#000000\" points=\"1199.5041,-463.7481 1189.1414,-461.5422 1195.8667,-469.7289 1199.5041,-463.7481\"/>\n</g>\n<!-- 33 -->\n<g id=\"node34\" class=\"node\">\n<title>33</title>\n<polygon fill=\"none\" stroke=\"#000000\" points=\"1433.5,-461.5 1253.5,-461.5 1253.5,-408.5 1433.5,-408.5 1433.5,-461.5\"/>\n<text text-anchor=\"middle\" x=\"1343.5\" y=\"-446.3\" font-family=\"Helvetica,sans-Serif\" font-size=\"14.00\" fill=\"#000000\">squared_error = 6.727</text>\n<text text-anchor=\"middle\" x=\"1343.5\" y=\"-431.3\" font-family=\"Helvetica,sans-Serif\" font-size=\"14.00\" fill=\"#000000\">samples = 23</text>\n<text text-anchor=\"middle\" x=\"1343.5\" y=\"-416.3\" font-family=\"Helvetica,sans-Serif\" font-size=\"14.00\" fill=\"#000000\">value = 19.235</text>\n</g>\n<!-- 31&#45;&gt;33 -->\n<g id=\"edge33\" class=\"edge\">\n<title>31&#45;&gt;33</title>\n<path fill=\"none\" stroke=\"#000000\" d=\"M1325.3408,-504.9465C1328.1433,-494.1519 1331.251,-482.1813 1334.0918,-471.2389\"/>\n<polygon fill=\"#000000\" stroke=\"#000000\" points=\"1337.484,-472.1008 1336.6092,-461.5422 1330.7086,-470.3418 1337.484,-472.1008\"/>\n</g>\n<!-- 35 -->\n<g id=\"node36\" class=\"node\">\n<title>35</title>\n<polygon fill=\"none\" stroke=\"#000000\" points=\"1604.5,-565.5 1424.5,-565.5 1424.5,-512.5 1604.5,-512.5 1604.5,-565.5\"/>\n<text text-anchor=\"middle\" x=\"1514.5\" y=\"-550.3\" font-family=\"Helvetica,sans-Serif\" font-size=\"14.00\" fill=\"#000000\">squared_error = 3.389</text>\n<text text-anchor=\"middle\" x=\"1514.5\" y=\"-535.3\" font-family=\"Helvetica,sans-Serif\" font-size=\"14.00\" fill=\"#000000\">samples = 20</text>\n<text text-anchor=\"middle\" x=\"1514.5\" y=\"-520.3\" font-family=\"Helvetica,sans-Serif\" font-size=\"14.00\" fill=\"#000000\">value = 17.03</text>\n</g>\n<!-- 34&#45;&gt;35 -->\n<g id=\"edge35\" class=\"edge\">\n<title>34&#45;&gt;35</title>\n<path fill=\"none\" stroke=\"#000000\" d=\"M1514.5,-608.9465C1514.5,-598.2621 1514.5,-586.4254 1514.5,-575.5742\"/>\n<polygon fill=\"#000000\" stroke=\"#000000\" points=\"1518.0001,-575.5421 1514.5,-565.5422 1511.0001,-575.5422 1518.0001,-575.5421\"/>\n</g>\n<!-- 36 -->\n<g id=\"node37\" class=\"node\">\n<title>36</title>\n<polygon fill=\"none\" stroke=\"#000000\" points=\"1794,-565.5 1623,-565.5 1623,-512.5 1794,-512.5 1794,-565.5\"/>\n<text text-anchor=\"middle\" x=\"1708.5\" y=\"-550.3\" font-family=\"Helvetica,sans-Serif\" font-size=\"14.00\" fill=\"#000000\">squared_error = 5.38</text>\n<text text-anchor=\"middle\" x=\"1708.5\" y=\"-535.3\" font-family=\"Helvetica,sans-Serif\" font-size=\"14.00\" fill=\"#000000\">samples = 25</text>\n<text text-anchor=\"middle\" x=\"1708.5\" y=\"-520.3\" font-family=\"Helvetica,sans-Serif\" font-size=\"14.00\" fill=\"#000000\">value = 14.744</text>\n</g>\n<!-- 34&#45;&gt;36 -->\n<g id=\"edge36\" class=\"edge\">\n<title>34&#45;&gt;36</title>\n<path fill=\"none\" stroke=\"#000000\" d=\"M1578.0229,-608.9465C1601.241,-596.4997 1627.3759,-582.4892 1650.1236,-570.2946\"/>\n<polygon fill=\"#000000\" stroke=\"#000000\" points=\"1651.8289,-573.3517 1658.9887,-565.5422 1648.5215,-567.1822 1651.8289,-573.3517\"/>\n</g>\n<!-- 38 -->\n<g id=\"node39\" class=\"node\">\n<title>38</title>\n<polygon fill=\"none\" stroke=\"#000000\" points=\"1802.5,-669.5 1622.5,-669.5 1622.5,-616.5 1802.5,-616.5 1802.5,-669.5\"/>\n<text text-anchor=\"middle\" x=\"1712.5\" y=\"-654.3\" font-family=\"Helvetica,sans-Serif\" font-size=\"14.00\" fill=\"#000000\">squared_error = 19.66</text>\n<text text-anchor=\"middle\" x=\"1712.5\" y=\"-639.3\" font-family=\"Helvetica,sans-Serif\" font-size=\"14.00\" fill=\"#000000\">samples = 11</text>\n<text text-anchor=\"middle\" x=\"1712.5\" y=\"-624.3\" font-family=\"Helvetica,sans-Serif\" font-size=\"14.00\" fill=\"#000000\">value = 16.864</text>\n</g>\n<!-- 37&#45;&gt;38 -->\n<g id=\"edge38\" class=\"edge\">\n<title>37&#45;&gt;38</title>\n<path fill=\"none\" stroke=\"#000000\" d=\"M1713.8451,-712.9465C1713.6397,-702.2621 1713.412,-690.4254 1713.2034,-679.5742\"/>\n<polygon fill=\"#000000\" stroke=\"#000000\" points=\"1716.7021,-679.473 1713.0104,-669.5422 1709.7034,-679.6076 1716.7021,-679.473\"/>\n</g>\n<!-- 39 -->\n<g id=\"node40\" class=\"node\">\n<title>39</title>\n<polygon fill=\"none\" stroke=\"#000000\" points=\"2000.5,-677 1820.5,-677 1820.5,-609 2000.5,-609 2000.5,-677\"/>\n<text text-anchor=\"middle\" x=\"1910.5\" y=\"-661.8\" font-family=\"Helvetica,sans-Serif\" font-size=\"14.00\" fill=\"#000000\">lstat &lt;= 19.645</text>\n<text text-anchor=\"middle\" x=\"1910.5\" y=\"-646.8\" font-family=\"Helvetica,sans-Serif\" font-size=\"14.00\" fill=\"#000000\">squared_error = 8.604</text>\n<text text-anchor=\"middle\" x=\"1910.5\" y=\"-631.8\" font-family=\"Helvetica,sans-Serif\" font-size=\"14.00\" fill=\"#000000\">samples = 57</text>\n<text text-anchor=\"middle\" x=\"1910.5\" y=\"-616.8\" font-family=\"Helvetica,sans-Serif\" font-size=\"14.00\" fill=\"#000000\">value = 11.102</text>\n</g>\n<!-- 37&#45;&gt;39 -->\n<g id=\"edge39\" class=\"edge\">\n<title>37&#45;&gt;39</title>\n<path fill=\"none\" stroke=\"#000000\" d=\"M1778.6777,-712.9465C1797.3755,-703.0252 1817.9456,-692.1105 1837.1625,-681.9138\"/>\n<polygon fill=\"#000000\" stroke=\"#000000\" points=\"1838.9851,-684.9089 1846.1781,-677.13 1835.7041,-678.7255 1838.9851,-684.9089\"/>\n</g>\n<!-- 40 -->\n<g id=\"node41\" class=\"node\">\n<title>40</title>\n<polygon fill=\"none\" stroke=\"#000000\" points=\"1996.5,-565.5 1816.5,-565.5 1816.5,-512.5 1996.5,-512.5 1996.5,-565.5\"/>\n<text text-anchor=\"middle\" x=\"1906.5\" y=\"-550.3\" font-family=\"Helvetica,sans-Serif\" font-size=\"14.00\" fill=\"#000000\">squared_error = 4.645</text>\n<text text-anchor=\"middle\" x=\"1906.5\" y=\"-535.3\" font-family=\"Helvetica,sans-Serif\" font-size=\"14.00\" fill=\"#000000\">samples = 16</text>\n<text text-anchor=\"middle\" x=\"1906.5\" y=\"-520.3\" font-family=\"Helvetica,sans-Serif\" font-size=\"14.00\" fill=\"#000000\">value = 13.969</text>\n</g>\n<!-- 39&#45;&gt;40 -->\n<g id=\"edge40\" class=\"edge\">\n<title>39&#45;&gt;40</title>\n<path fill=\"none\" stroke=\"#000000\" d=\"M1909.1903,-608.9465C1908.7793,-598.2621 1908.3241,-586.4254 1907.9067,-575.5742\"/>\n<polygon fill=\"#000000\" stroke=\"#000000\" points=\"1911.4027,-575.4002 1907.5209,-565.5422 1904.4079,-575.6693 1911.4027,-575.4002\"/>\n</g>\n<!-- 41 -->\n<g id=\"node42\" class=\"node\">\n<title>41</title>\n<polygon fill=\"none\" stroke=\"#000000\" points=\"2186,-573 2015,-573 2015,-505 2186,-505 2186,-573\"/>\n<text text-anchor=\"middle\" x=\"2100.5\" y=\"-557.8\" font-family=\"Helvetica,sans-Serif\" font-size=\"14.00\" fill=\"#000000\">lstat &lt;= 25.295</text>\n<text text-anchor=\"middle\" x=\"2100.5\" y=\"-542.8\" font-family=\"Helvetica,sans-Serif\" font-size=\"14.00\" fill=\"#000000\">squared_error = 5.69</text>\n<text text-anchor=\"middle\" x=\"2100.5\" y=\"-527.8\" font-family=\"Helvetica,sans-Serif\" font-size=\"14.00\" fill=\"#000000\">samples = 41</text>\n<text text-anchor=\"middle\" x=\"2100.5\" y=\"-512.8\" font-family=\"Helvetica,sans-Serif\" font-size=\"14.00\" fill=\"#000000\">value = 9.983</text>\n</g>\n<!-- 39&#45;&gt;41 -->\n<g id=\"edge41\" class=\"edge\">\n<title>39&#45;&gt;41</title>\n<path fill=\"none\" stroke=\"#000000\" d=\"M1972.7131,-608.9465C1990.7565,-599.0701 2010.5985,-588.2093 2029.1546,-578.0522\"/>\n<polygon fill=\"#000000\" stroke=\"#000000\" points=\"2031.0557,-581.0017 2038.1471,-573.13 2027.6947,-574.8613 2031.0557,-581.0017\"/>\n</g>\n<!-- 42 -->\n<g id=\"node43\" class=\"node\">\n<title>42</title>\n<polygon fill=\"none\" stroke=\"#000000\" points=\"2091.5,-461.5 1911.5,-461.5 1911.5,-408.5 2091.5,-408.5 2091.5,-461.5\"/>\n<text text-anchor=\"middle\" x=\"2001.5\" y=\"-446.3\" font-family=\"Helvetica,sans-Serif\" font-size=\"14.00\" fill=\"#000000\">squared_error = 4.647</text>\n<text text-anchor=\"middle\" x=\"2001.5\" y=\"-431.3\" font-family=\"Helvetica,sans-Serif\" font-size=\"14.00\" fill=\"#000000\">samples = 25</text>\n<text text-anchor=\"middle\" x=\"2001.5\" y=\"-416.3\" font-family=\"Helvetica,sans-Serif\" font-size=\"14.00\" fill=\"#000000\">value = 10.672</text>\n</g>\n<!-- 41&#45;&gt;42 -->\n<g id=\"edge42\" class=\"edge\">\n<title>41&#45;&gt;42</title>\n<path fill=\"none\" stroke=\"#000000\" d=\"M2068.0837,-504.9465C2057.0741,-493.3809 2044.7793,-480.4652 2033.7804,-468.9107\"/>\n<polygon fill=\"#000000\" stroke=\"#000000\" points=\"2036.196,-466.372 2026.7661,-461.5422 2031.1259,-471.1984 2036.196,-466.372\"/>\n</g>\n<!-- 43 -->\n<g id=\"node44\" class=\"node\">\n<title>43</title>\n<polygon fill=\"none\" stroke=\"#000000\" points=\"2289.5,-461.5 2109.5,-461.5 2109.5,-408.5 2289.5,-408.5 2289.5,-461.5\"/>\n<text text-anchor=\"middle\" x=\"2199.5\" y=\"-446.3\" font-family=\"Helvetica,sans-Serif\" font-size=\"14.00\" fill=\"#000000\">squared_error = 5.419</text>\n<text text-anchor=\"middle\" x=\"2199.5\" y=\"-431.3\" font-family=\"Helvetica,sans-Serif\" font-size=\"14.00\" fill=\"#000000\">samples = 16</text>\n<text text-anchor=\"middle\" x=\"2199.5\" y=\"-416.3\" font-family=\"Helvetica,sans-Serif\" font-size=\"14.00\" fill=\"#000000\">value = 8.906</text>\n</g>\n<!-- 41&#45;&gt;43 -->\n<g id=\"edge43\" class=\"edge\">\n<title>41&#45;&gt;43</title>\n<path fill=\"none\" stroke=\"#000000\" d=\"M2132.9163,-504.9465C2143.9259,-493.3809 2156.2207,-480.4652 2167.2196,-468.9107\"/>\n<polygon fill=\"#000000\" stroke=\"#000000\" points=\"2169.8741,-471.1984 2174.2339,-461.5422 2164.804,-466.372 2169.8741,-471.1984\"/>\n</g>\n<!-- 45 -->\n<g id=\"node46\" class=\"node\">\n<title>45</title>\n<polygon fill=\"none\" stroke=\"#000000\" points=\"2208,-885 2019,-885 2019,-817 2208,-817 2208,-885\"/>\n<text text-anchor=\"middle\" x=\"2113.5\" y=\"-869.8\" font-family=\"Helvetica,sans-Serif\" font-size=\"14.00\" fill=\"#000000\">lstat &lt;= 7.95</text>\n<text text-anchor=\"middle\" x=\"2113.5\" y=\"-854.8\" font-family=\"Helvetica,sans-Serif\" font-size=\"14.00\" fill=\"#000000\">squared_error = 42.945</text>\n<text text-anchor=\"middle\" x=\"2113.5\" y=\"-839.8\" font-family=\"Helvetica,sans-Serif\" font-size=\"14.00\" fill=\"#000000\">samples = 42</text>\n<text text-anchor=\"middle\" x=\"2113.5\" y=\"-824.8\" font-family=\"Helvetica,sans-Serif\" font-size=\"14.00\" fill=\"#000000\">value = 32.231</text>\n</g>\n<!-- 44&#45;&gt;45 -->\n<g id=\"edge45\" class=\"edge\">\n<title>44&#45;&gt;45</title>\n<path fill=\"none\" stroke=\"#000000\" d=\"M2113.5,-920.9465C2113.5,-912.776 2113.5,-903.9318 2113.5,-895.3697\"/>\n<polygon fill=\"#000000\" stroke=\"#000000\" points=\"2117.0001,-895.13 2113.5,-885.13 2110.0001,-895.13 2117.0001,-895.13\"/>\n</g>\n<!-- 50 -->\n<g id=\"node51\" class=\"node\">\n<title>50</title>\n<polygon fill=\"none\" stroke=\"#000000\" points=\"2415,-877.5 2226,-877.5 2226,-824.5 2415,-824.5 2415,-877.5\"/>\n<text text-anchor=\"middle\" x=\"2320.5\" y=\"-862.3\" font-family=\"Helvetica,sans-Serif\" font-size=\"14.00\" fill=\"#000000\">squared_error = 37.034</text>\n<text text-anchor=\"middle\" x=\"2320.5\" y=\"-847.3\" font-family=\"Helvetica,sans-Serif\" font-size=\"14.00\" fill=\"#000000\">samples = 29</text>\n<text text-anchor=\"middle\" x=\"2320.5\" y=\"-832.3\" font-family=\"Helvetica,sans-Serif\" font-size=\"14.00\" fill=\"#000000\">value = 44.928</text>\n</g>\n<!-- 44&#45;&gt;50 -->\n<g id=\"edge50\" class=\"edge\">\n<title>44&#45;&gt;50</title>\n<path fill=\"none\" stroke=\"#000000\" d=\"M2181.2795,-920.9465C2206.1632,-908.4446 2234.1866,-894.3652 2258.5338,-882.1328\"/>\n<polygon fill=\"#000000\" stroke=\"#000000\" points=\"2260.3066,-885.1591 2267.6709,-877.5422 2257.1639,-878.9041 2260.3066,-885.1591\"/>\n</g>\n<!-- 46 -->\n<g id=\"node47\" class=\"node\">\n<title>46</title>\n<polygon fill=\"none\" stroke=\"#000000\" points=\"2208,-781 2019,-781 2019,-713 2208,-713 2208,-781\"/>\n<text text-anchor=\"middle\" x=\"2113.5\" y=\"-765.8\" font-family=\"Helvetica,sans-Serif\" font-size=\"14.00\" fill=\"#000000\">lstat &lt;= 5.44</text>\n<text text-anchor=\"middle\" x=\"2113.5\" y=\"-750.8\" font-family=\"Helvetica,sans-Serif\" font-size=\"14.00\" fill=\"#000000\">squared_error = 20.519</text>\n<text text-anchor=\"middle\" x=\"2113.5\" y=\"-735.8\" font-family=\"Helvetica,sans-Serif\" font-size=\"14.00\" fill=\"#000000\">samples = 32</text>\n<text text-anchor=\"middle\" x=\"2113.5\" y=\"-720.8\" font-family=\"Helvetica,sans-Serif\" font-size=\"14.00\" fill=\"#000000\">value = 34.031</text>\n</g>\n<!-- 45&#45;&gt;46 -->\n<g id=\"edge46\" class=\"edge\">\n<title>45&#45;&gt;46</title>\n<path fill=\"none\" stroke=\"#000000\" d=\"M2113.5,-816.9465C2113.5,-808.776 2113.5,-799.9318 2113.5,-791.3697\"/>\n<polygon fill=\"#000000\" stroke=\"#000000\" points=\"2117.0001,-791.13 2113.5,-781.13 2110.0001,-791.13 2117.0001,-791.13\"/>\n</g>\n<!-- 49 -->\n<g id=\"node50\" class=\"node\">\n<title>49</title>\n<polygon fill=\"none\" stroke=\"#000000\" points=\"2406.5,-773.5 2226.5,-773.5 2226.5,-720.5 2406.5,-720.5 2406.5,-773.5\"/>\n<text text-anchor=\"middle\" x=\"2316.5\" y=\"-758.3\" font-family=\"Helvetica,sans-Serif\" font-size=\"14.00\" fill=\"#000000\">squared_error = 71.15</text>\n<text text-anchor=\"middle\" x=\"2316.5\" y=\"-743.3\" font-family=\"Helvetica,sans-Serif\" font-size=\"14.00\" fill=\"#000000\">samples = 10</text>\n<text text-anchor=\"middle\" x=\"2316.5\" y=\"-728.3\" font-family=\"Helvetica,sans-Serif\" font-size=\"14.00\" fill=\"#000000\">value = 26.47</text>\n</g>\n<!-- 45&#45;&gt;49 -->\n<g id=\"edge49\" class=\"edge\">\n<title>45&#45;&gt;49</title>\n<path fill=\"none\" stroke=\"#000000\" d=\"M2179.9698,-816.9465C2204.3726,-804.4446 2231.8545,-790.3652 2255.7312,-778.1328\"/>\n<polygon fill=\"#000000\" stroke=\"#000000\" points=\"2257.3876,-781.2168 2264.6917,-773.5422 2254.1958,-774.9868 2257.3876,-781.2168\"/>\n</g>\n<!-- 47 -->\n<g id=\"node48\" class=\"node\">\n<title>47</title>\n<polygon fill=\"none\" stroke=\"#000000\" points=\"2208,-669.5 2019,-669.5 2019,-616.5 2208,-616.5 2208,-669.5\"/>\n<text text-anchor=\"middle\" x=\"2113.5\" y=\"-654.3\" font-family=\"Helvetica,sans-Serif\" font-size=\"14.00\" fill=\"#000000\">squared_error = 18.515</text>\n<text text-anchor=\"middle\" x=\"2113.5\" y=\"-639.3\" font-family=\"Helvetica,sans-Serif\" font-size=\"14.00\" fill=\"#000000\">samples = 21</text>\n<text text-anchor=\"middle\" x=\"2113.5\" y=\"-624.3\" font-family=\"Helvetica,sans-Serif\" font-size=\"14.00\" fill=\"#000000\">value = 35.314</text>\n</g>\n<!-- 46&#45;&gt;47 -->\n<g id=\"edge47\" class=\"edge\">\n<title>46&#45;&gt;47</title>\n<path fill=\"none\" stroke=\"#000000\" d=\"M2113.5,-712.9465C2113.5,-702.2621 2113.5,-690.4254 2113.5,-679.5742\"/>\n<polygon fill=\"#000000\" stroke=\"#000000\" points=\"2117.0001,-679.5421 2113.5,-669.5422 2110.0001,-679.5422 2117.0001,-679.5421\"/>\n</g>\n<!-- 48 -->\n<g id=\"node49\" class=\"node\">\n<title>48</title>\n<polygon fill=\"none\" stroke=\"#000000\" points=\"2415,-669.5 2226,-669.5 2226,-616.5 2415,-616.5 2415,-669.5\"/>\n<text text-anchor=\"middle\" x=\"2320.5\" y=\"-654.3\" font-family=\"Helvetica,sans-Serif\" font-size=\"14.00\" fill=\"#000000\">squared_error = 15.203</text>\n<text text-anchor=\"middle\" x=\"2320.5\" y=\"-639.3\" font-family=\"Helvetica,sans-Serif\" font-size=\"14.00\" fill=\"#000000\">samples = 11</text>\n<text text-anchor=\"middle\" x=\"2320.5\" y=\"-624.3\" font-family=\"Helvetica,sans-Serif\" font-size=\"14.00\" fill=\"#000000\">value = 31.582</text>\n</g>\n<!-- 46&#45;&gt;48 -->\n<g id=\"edge48\" class=\"edge\">\n<title>46&#45;&gt;48</title>\n<path fill=\"none\" stroke=\"#000000\" d=\"M2181.2795,-712.9465C2206.1632,-700.4446 2234.1866,-686.3652 2258.5338,-674.1328\"/>\n<polygon fill=\"#000000\" stroke=\"#000000\" points=\"2260.3066,-677.1591 2267.6709,-669.5422 2257.1639,-670.9041 2260.3066,-677.1591\"/>\n</g>\n</g>\n</svg>\n"
     },
     "metadata": {}
    }
   ]
  },
  {
   "cell_type": "code",
   "metadata": {
    "tags": [],
    "deepnote_to_be_reexecuted": false,
    "source_hash": "90ed4fd1",
    "execution_start": 1637279976728,
    "execution_millis": 18,
    "deepnote_output_heights": [
     251.60000610351562
    ],
    "cell_id": "00017-5347a5b8-bab3-48ae-8e5e-0897ba1e0f3f",
    "deepnote_cell_type": "code"
   },
   "source": "# Importancia de cada feature\ndict(zip(X,reg_tree.feature_importances_))",
   "execution_count": 17,
   "outputs": [
    {
     "output_type": "execute_result",
     "execution_count": 17,
     "data": {
      "text/plain": "{'crim': 0.039655514870429336,\n 'zn': 0.0,\n 'indus': 0.000953580932599618,\n 'chas': 0.0,\n 'nox': 0.01126207931757679,\n 'rm': 0.6448429538074878,\n 'age': 0.01679230551890108,\n 'dis': 0.0058266450174224195,\n 'rad': 0.0,\n 'tax': 0.0022405184946531543,\n 'ptratio': 0.0,\n 'black': 0.0,\n 'lstat': 0.2784264020409299}"
     },
     "metadata": {}
    }
   ]
  },
  {
   "cell_type": "markdown",
   "source": "# Random Forest Regressor",
   "metadata": {
    "tags": [],
    "is_collapsed": false,
    "cell_id": "00018-57e98d52-0e13-4fb8-8a16-53f945a05271",
    "deepnote_cell_type": "text-cell-h1"
   }
  },
  {
   "cell_type": "code",
   "metadata": {
    "tags": [],
    "deepnote_to_be_reexecuted": false,
    "source_hash": "146639e0",
    "execution_start": 1637279976759,
    "execution_millis": 46,
    "cell_id": "00019-7064857f-408d-4362-8d36-39db64a9175e",
    "deepnote_cell_type": "code"
   },
   "source": "# Importamos nuestro estimador de ensamble\nfrom sklearn.ensemble import RandomForestRegressor\nfrom sklearn import metrics",
   "execution_count": 18,
   "outputs": []
  },
  {
   "cell_type": "code",
   "metadata": {
    "tags": [],
    "deepnote_to_be_reexecuted": false,
    "source_hash": "e4336255",
    "execution_start": 1637279976814,
    "execution_millis": 10734,
    "deepnote_output_heights": [
     40.399993896484375
    ],
    "cell_id": "00020-9c2ba4c3-0ce1-44ef-a04d-0d3647a6261e",
    "deepnote_cell_type": "code"
   },
   "source": "# Instanciamos y entrenamos\nforest = RandomForestRegressor(n_jobs=-1, oob_score=True, n_estimators=1000, max_depth=50)\nforest.fit(X_train, y_train)",
   "execution_count": 19,
   "outputs": [
    {
     "output_type": "execute_result",
     "execution_count": 19,
     "data": {
      "text/plain": "RandomForestRegressor(max_depth=50, n_estimators=1000, n_jobs=-1,\n                      oob_score=True)"
     },
     "metadata": {}
    }
   ]
  },
  {
   "cell_type": "code",
   "metadata": {
    "tags": [],
    "deepnote_to_be_reexecuted": false,
    "source_hash": "d80fcda6",
    "execution_start": 1637279987562,
    "execution_millis": 8,
    "cell_id": "00021-dc6b4a75-edb6-41fb-a323-39244b2db839",
    "deepnote_cell_type": "code"
   },
   "source": "# Creamos nuestra predicción con nuestro modelo de ensamble\ny_pred2 = pd.DataFrame(forest.oob_prediction_, columns=['Predicciones RFR'])",
   "execution_count": 20,
   "outputs": []
  },
  {
   "cell_type": "code",
   "metadata": {
    "tags": [],
    "deepnote_to_be_reexecuted": false,
    "source_hash": "e14a2b95",
    "execution_start": 1637279987583,
    "execution_millis": 75,
    "deepnote_output_heights": [
     320.3999938964844
    ],
    "cell_id": "00022-94fec3d7-5e56-4246-a53c-3a21f1eaa1b3",
    "deepnote_cell_type": "code"
   },
   "source": "# Juntamos ambas predicciones para comparar los resultados\npredicciones_final = predicciones.merge(y_pred2, left_index=True, right_index=True)\npredicciones_final.sample(10)",
   "execution_count": 21,
   "outputs": [
    {
     "output_type": "execute_result",
     "execution_count": 21,
     "data": {
      "application/vnd.deepnote.dataframe.v2+json": {
       "row_count": 10,
       "column_count": 3,
       "columns": [
        {
         "name": "medv",
         "dtype": "float64",
         "stats": {
          "unique_count": 10,
          "nan_count": 0,
          "min": "8.8",
          "max": "27.5",
          "histogram": [
           {
            "bin_start": 8.8,
            "bin_end": 10.67,
            "count": 2
           },
           {
            "bin_start": 10.67,
            "bin_end": 12.540000000000001,
            "count": 2
           },
           {
            "bin_start": 12.540000000000001,
            "bin_end": 14.41,
            "count": 1
           },
           {
            "bin_start": 14.41,
            "bin_end": 16.28,
            "count": 0
           },
           {
            "bin_start": 16.28,
            "bin_end": 18.15,
            "count": 0
           },
           {
            "bin_start": 18.15,
            "bin_end": 20.02,
            "count": 0
           },
           {
            "bin_start": 20.02,
            "bin_end": 21.89,
            "count": 1
           },
           {
            "bin_start": 21.89,
            "bin_end": 23.759999999999998,
            "count": 0
           },
           {
            "bin_start": 23.759999999999998,
            "bin_end": 25.63,
            "count": 3
           },
           {
            "bin_start": 25.63,
            "bin_end": 27.5,
            "count": 1
           }
          ]
         }
        },
        {
         "name": "Predicciones DTR",
         "dtype": "float64",
         "stats": {
          "unique_count": 6,
          "nan_count": 0,
          "min": "8.906250000000002",
          "max": "44.92758620689656",
          "histogram": [
           {
            "bin_start": 8.906250000000002,
            "bin_end": 12.508383620689656,
            "count": 3
           },
           {
            "bin_start": 12.508383620689656,
            "bin_end": 16.110517241379313,
            "count": 0
           },
           {
            "bin_start": 16.110517241379313,
            "bin_end": 19.71265086206897,
            "count": 5
           },
           {
            "bin_start": 19.71265086206897,
            "bin_end": 23.314784482758625,
            "count": 1
           },
           {
            "bin_start": 23.314784482758625,
            "bin_end": 26.916918103448282,
            "count": 0
           },
           {
            "bin_start": 26.916918103448282,
            "bin_end": 30.51905172413793,
            "count": 0
           },
           {
            "bin_start": 30.51905172413793,
            "bin_end": 34.12118534482759,
            "count": 0
           },
           {
            "bin_start": 34.12118534482759,
            "bin_end": 37.723318965517244,
            "count": 0
           },
           {
            "bin_start": 37.723318965517244,
            "bin_end": 41.3254525862069,
            "count": 0
           },
           {
            "bin_start": 41.3254525862069,
            "bin_end": 44.92758620689656,
            "count": 1
           }
          ]
         }
        },
        {
         "name": "Predicciones RFR",
         "dtype": "float64",
         "stats": {
          "unique_count": 10,
          "nan_count": 0,
          "min": "7.415555555555557",
          "max": "43.67574123989215",
          "histogram": [
           {
            "bin_start": 7.415555555555557,
            "bin_end": 11.041574123989216,
            "count": 2
           },
           {
            "bin_start": 11.041574123989216,
            "bin_end": 14.667592692422875,
            "count": 1
           },
           {
            "bin_start": 14.667592692422875,
            "bin_end": 18.293611260856533,
            "count": 2
           },
           {
            "bin_start": 18.293611260856533,
            "bin_end": 21.919629829290194,
            "count": 4
           },
           {
            "bin_start": 21.919629829290194,
            "bin_end": 25.545648397723852,
            "count": 0
           },
           {
            "bin_start": 25.545648397723852,
            "bin_end": 29.17166696615751,
            "count": 0
           },
           {
            "bin_start": 29.17166696615751,
            "bin_end": 32.79768553459117,
            "count": 0
           },
           {
            "bin_start": 32.79768553459117,
            "bin_end": 36.42370410302483,
            "count": 0
           },
           {
            "bin_start": 36.42370410302483,
            "bin_end": 40.04972267145849,
            "count": 0
           },
           {
            "bin_start": 40.04972267145849,
            "bin_end": 43.67574123989215,
            "count": 1
           }
          ]
         }
        },
        {
         "name": "_deepnote_index_column",
         "dtype": "int64"
        }
       ],
       "rows_top": [
        {
         "medv": 25,
         "Predicciones DTR": 10.672,
         "Predicciones RFR": 13.599173553719028,
         "_deepnote_index_column": 360
        },
        {
         "medv": 27.5,
         "Predicciones DTR": 17.030000000000005,
         "Predicciones RFR": 16.329745042492902,
         "_deepnote_index_column": 409
        },
        {
         "medv": 13.1,
         "Predicciones DTR": 8.906250000000002,
         "Predicciones RFR": 7.415555555555557,
         "_deepnote_index_column": 378
        },
        {
         "medv": 24.8,
         "Predicciones DTR": 19.607142857142858,
         "Predicciones RFR": 21.34893617021275,
         "_deepnote_index_column": 289
        },
        {
         "medv": 10.8,
         "Predicciones DTR": 19.607142857142858,
         "Predicciones RFR": 20.607466666666674,
         "_deepnote_index_column": 444
        },
        {
         "medv": 10.2,
         "Predicciones DTR": 10.672,
         "Predicciones RFR": 8.198382749326147,
         "_deepnote_index_column": 379
        },
        {
         "medv": 8.8,
         "Predicciones DTR": 17.030000000000005,
         "Predicciones RFR": 18.326809651474534,
         "_deepnote_index_column": 418
        },
        {
         "medv": 11.8,
         "Predicciones DTR": 17.030000000000005,
         "Predicciones RFR": 16.378021978022016,
         "_deepnote_index_column": 144
        },
        {
         "medv": 21.7,
         "Predicciones DTR": 20.366666666666667,
         "Predicciones RFR": 20.09604221635878,
         "_deepnote_index_column": 12
        },
        {
         "medv": 24.5,
         "Predicciones DTR": 44.92758620689656,
         "Predicciones RFR": 43.67574123989215,
         "_deepnote_index_column": 248
        }
       ],
       "rows_bottom": null
      },
      "text/plain": "     medv  Predicciones DTR  Predicciones RFR\n360 25.00             10.67             13.60\n409 27.50             17.03             16.33\n378 13.10              8.91              7.42\n289 24.80             19.61             21.35\n444 10.80             19.61             20.61\n379 10.20             10.67              8.20\n418  8.80             17.03             18.33\n144 11.80             17.03             16.38\n12  21.70             20.37             20.10\n248 24.50             44.93             43.68",
      "text/html": "<div>\n<style scoped>\n    .dataframe tbody tr th:only-of-type {\n        vertical-align: middle;\n    }\n\n    .dataframe tbody tr th {\n        vertical-align: top;\n    }\n\n    .dataframe thead th {\n        text-align: right;\n    }\n</style>\n<table border=\"1\" class=\"dataframe\">\n  <thead>\n    <tr style=\"text-align: right;\">\n      <th></th>\n      <th>medv</th>\n      <th>Predicciones DTR</th>\n      <th>Predicciones RFR</th>\n    </tr>\n  </thead>\n  <tbody>\n    <tr>\n      <th>360</th>\n      <td>25.00</td>\n      <td>10.67</td>\n      <td>13.60</td>\n    </tr>\n    <tr>\n      <th>409</th>\n      <td>27.50</td>\n      <td>17.03</td>\n      <td>16.33</td>\n    </tr>\n    <tr>\n      <th>378</th>\n      <td>13.10</td>\n      <td>8.91</td>\n      <td>7.42</td>\n    </tr>\n    <tr>\n      <th>289</th>\n      <td>24.80</td>\n      <td>19.61</td>\n      <td>21.35</td>\n    </tr>\n    <tr>\n      <th>444</th>\n      <td>10.80</td>\n      <td>19.61</td>\n      <td>20.61</td>\n    </tr>\n    <tr>\n      <th>379</th>\n      <td>10.20</td>\n      <td>10.67</td>\n      <td>8.20</td>\n    </tr>\n    <tr>\n      <th>418</th>\n      <td>8.80</td>\n      <td>17.03</td>\n      <td>18.33</td>\n    </tr>\n    <tr>\n      <th>144</th>\n      <td>11.80</td>\n      <td>17.03</td>\n      <td>16.38</td>\n    </tr>\n    <tr>\n      <th>12</th>\n      <td>21.70</td>\n      <td>20.37</td>\n      <td>20.10</td>\n    </tr>\n    <tr>\n      <th>248</th>\n      <td>24.50</td>\n      <td>44.93</td>\n      <td>43.68</td>\n    </tr>\n  </tbody>\n</table>\n</div>"
     },
     "metadata": {}
    }
   ]
  },
  {
   "cell_type": "code",
   "metadata": {
    "tags": [],
    "deepnote_to_be_reexecuted": false,
    "source_hash": "9783e1e",
    "execution_start": 1637279987666,
    "execution_millis": 29,
    "deepnote_output_heights": [
     21.199996948242188
    ],
    "cell_id": "00023-461d7b03-2048-48b1-aee9-49fc1d2a290e",
    "deepnote_cell_type": "code"
   },
   "source": "# MSE\ndisplay(f'MSE: {round(metrics.mean_squared_error(y_train, y_pred2),2)}')",
   "execution_count": 22,
   "outputs": [
    {
     "data": {
      "text/plain": "'MSE: 11.2'"
     },
     "metadata": {},
     "output_type": "display_data"
    }
   ]
  },
  {
   "cell_type": "code",
   "metadata": {
    "tags": [],
    "deepnote_to_be_reexecuted": false,
    "source_hash": "f738879f",
    "execution_start": 1637279987703,
    "execution_millis": 16,
    "deepnote_output_heights": [
     21.199996948242188
    ],
    "cell_id": "00024-7beb2cf5-52b8-4dbf-93a9-12b53d888fff",
    "deepnote_cell_type": "code"
   },
   "source": "# Accuracy Score\nforest_score = round(forest.oob_score_,2)\ndisplay(f'Accuracy Score: {forest_score*100}%')",
   "execution_count": 23,
   "outputs": [
    {
     "data": {
      "text/plain": "'Accuracy Score: 87.0%'"
     },
     "metadata": {},
     "output_type": "display_data"
    }
   ]
  },
  {
   "cell_type": "markdown",
   "source": "<a style='text-decoration:none;line-height:16px;display:flex;color:#5B5B62;padding:10px;justify-content:end;' href='https://deepnote.com?utm_source=created-in-deepnote-cell&projectId=4ec84517-f553-446b-9032-1da3132bd62a' target=\"_blank\">\n<img alt='Created in deepnote.com' style='display:inline;max-height:16px;margin:0px;margin-right:7.5px;' src='data:image/svg+xml;base64,PD94bWwgdmVyc2lvbj0iMS4wIiBlbmNvZGluZz0iVVRGLTgiPz4KPHN2ZyB3aWR0aD0iODBweCIgaGVpZ2h0PSI4MHB4IiB2aWV3Qm94PSIwIDAgODAgODAiIHZlcnNpb249IjEuMSIgeG1sbnM9Imh0dHA6Ly93d3cudzMub3JnLzIwMDAvc3ZnIiB4bWxuczp4bGluaz0iaHR0cDovL3d3dy53My5vcmcvMTk5OS94bGluayI+CiAgICA8IS0tIEdlbmVyYXRvcjogU2tldGNoIDU0LjEgKDc2NDkwKSAtIGh0dHBzOi8vc2tldGNoYXBwLmNvbSAtLT4KICAgIDx0aXRsZT5Hcm91cCAzPC90aXRsZT4KICAgIDxkZXNjPkNyZWF0ZWQgd2l0aCBTa2V0Y2guPC9kZXNjPgogICAgPGcgaWQ9IkxhbmRpbmciIHN0cm9rZT0ibm9uZSIgc3Ryb2tlLXdpZHRoPSIxIiBmaWxsPSJub25lIiBmaWxsLXJ1bGU9ImV2ZW5vZGQiPgogICAgICAgIDxnIGlkPSJBcnRib2FyZCIgdHJhbnNmb3JtPSJ0cmFuc2xhdGUoLTEyMzUuMDAwMDAwLCAtNzkuMDAwMDAwKSI+CiAgICAgICAgICAgIDxnIGlkPSJHcm91cC0zIiB0cmFuc2Zvcm09InRyYW5zbGF0ZSgxMjM1LjAwMDAwMCwgNzkuMDAwMDAwKSI+CiAgICAgICAgICAgICAgICA8cG9seWdvbiBpZD0iUGF0aC0yMCIgZmlsbD0iIzAyNjVCNCIgcG9pbnRzPSIyLjM3NjIzNzYyIDgwIDM4LjA0NzY2NjcgODAgNTcuODIxNzgyMiA3My44MDU3NTkyIDU3LjgyMTc4MjIgMzIuNzU5MjczOSAzOS4xNDAyMjc4IDMxLjY4MzE2ODMiPjwvcG9seWdvbj4KICAgICAgICAgICAgICAgIDxwYXRoIGQ9Ik0zNS4wMDc3MTgsODAgQzQyLjkwNjIwMDcsNzYuNDU0OTM1OCA0Ny41NjQ5MTY3LDcxLjU0MjI2NzEgNDguOTgzODY2LDY1LjI2MTk5MzkgQzUxLjExMjI4OTksNTUuODQxNTg0MiA0MS42NzcxNzk1LDQ5LjIxMjIyODQgMjUuNjIzOTg0Niw0OS4yMTIyMjg0IEMyNS40ODQ5Mjg5LDQ5LjEyNjg0NDggMjkuODI2MTI5Niw0My4yODM4MjQ4IDM4LjY0NzU4NjksMzEuNjgzMTY4MyBMNzIuODcxMjg3MSwzMi41NTQ0MjUgTDY1LjI4MDk3Myw2Ny42NzYzNDIxIEw1MS4xMTIyODk5LDc3LjM3NjE0NCBMMzUuMDA3NzE4LDgwIFoiIGlkPSJQYXRoLTIyIiBmaWxsPSIjMDAyODY4Ij48L3BhdGg+CiAgICAgICAgICAgICAgICA8cGF0aCBkPSJNMCwzNy43MzA0NDA1IEwyNy4xMTQ1MzcsMC4yNTcxMTE0MzYgQzYyLjM3MTUxMjMsLTEuOTkwNzE3MDEgODAsMTAuNTAwMzkyNyA4MCwzNy43MzA0NDA1IEM4MCw2NC45NjA0ODgyIDY0Ljc3NjUwMzgsNzkuMDUwMzQxNCAzNC4zMjk1MTEzLDgwIEM0Ny4wNTUzNDg5LDc3LjU2NzA4MDggNTMuNDE4MjY3Nyw3MC4zMTM2MTAzIDUzLjQxODI2NzcsNTguMjM5NTg4NSBDNTMuNDE4MjY3Nyw0MC4xMjg1NTU3IDM2LjMwMzk1NDQsMzcuNzMwNDQwNSAyNS4yMjc0MTcsMzcuNzMwNDQwNSBDMTcuODQzMDU4NiwzNy43MzA0NDA1IDkuNDMzOTE5NjYsMzcuNzMwNDQwNSAwLDM3LjczMDQ0MDUgWiIgaWQ9IlBhdGgtMTkiIGZpbGw9IiMzNzkzRUYiPjwvcGF0aD4KICAgICAgICAgICAgPC9nPgogICAgICAgIDwvZz4KICAgIDwvZz4KPC9zdmc+' > </img>\nCreated in <span style='font-weight:600;margin-left:4px;'>Deepnote</span></a>",
   "metadata": {
    "tags": [],
    "created_in_deepnote_cell": true,
    "deepnote_cell_type": "markdown"
   }
  }
 ],
 "nbformat": 4,
 "nbformat_minor": 2,
 "metadata": {
  "orig_nbformat": 2,
  "deepnote": {
   "is_reactive": false
  },
  "deepnote_notebook_id": "8c7d2fb3-d0d0-4d78-93b5-89045c20df48",
  "deepnote_execution_queue": []
 }
}