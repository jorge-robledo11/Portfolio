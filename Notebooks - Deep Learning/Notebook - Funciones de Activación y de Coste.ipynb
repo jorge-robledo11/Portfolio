{
  "nbformat": 4,
  "nbformat_minor": 0,
  "metadata": {
    "kernelspec": {
      "language": "python",
      "display_name": "Python 3",
      "name": "python3"
    },
    "language_info": {
      "pygments_lexer": "ipython3",
      "nbconvert_exporter": "python",
      "version": "3.6.4",
      "file_extension": ".py",
      "codemirror_mode": {
        "name": "ipython",
        "version": 3
      },
      "name": "python",
      "mimetype": "text/x-python"
    },
    "colab": {
      "name": "3. Funciones de Activación y de Coste.ipynb",
      "provenance": []
    }
  },
  "cells": [
    {
      "cell_type": "markdown",
      "metadata": {
        "id": "P2Yq3SjHxgAf"
      },
      "source": [
        "# Funciones de Activación\n",
        "\n",
        "[![Untitled.png](https://i.postimg.cc/9XwhxK61/Untitled.png)](https://postimg.cc/7b4dhsYT)"
      ]
    },
    {
      "cell_type": "code",
      "metadata": {
        "execution": {
          "iopub.status.busy": "2021-11-29T04:56:19.466589Z",
          "iopub.execute_input": "2021-11-29T04:56:19.467051Z",
          "iopub.status.idle": "2021-11-29T04:56:19.470733Z",
          "shell.execute_reply.started": "2021-11-29T04:56:19.466999Z",
          "shell.execute_reply": "2021-11-29T04:56:19.469748Z"
        },
        "trusted": true,
        "id": "76qYTq1dxgAh"
      },
      "source": [
        "import numpy as np\n",
        "import matplotlib.pyplot as plt"
      ],
      "execution_count": 1,
      "outputs": []
    },
    {
      "cell_type": "code",
      "metadata": {
        "execution": {
          "iopub.status.busy": "2021-11-29T03:00:04.296042Z",
          "iopub.execute_input": "2021-11-29T03:00:04.296571Z",
          "iopub.status.idle": "2021-11-29T03:00:04.302551Z",
          "shell.execute_reply.started": "2021-11-29T03:00:04.296538Z",
          "shell.execute_reply": "2021-11-29T03:00:04.301909Z"
        },
        "trusted": true,
        "id": "x6y3a8zNxgAj"
      },
      "source": [
        "# Funciones de activación\n",
        "def sigmoid(a, derivate = False):\n",
        "    if derivate:\n",
        "        return np.exp(-a)/(( np.exp(-a) +1)**2)\n",
        "    else:    \n",
        "        return 1 / (1 + np.exp(-a))\n",
        "\n",
        "def steep(x, derivate = False):    \n",
        "    return np.piecewise(x,[x<0.0,x>=0.0],[0,1])\n",
        "\n",
        "x = np.linspace(10,-10,100)"
      ],
      "execution_count": 2,
      "outputs": []
    },
    {
      "cell_type": "code",
      "metadata": {
        "execution": {
          "iopub.status.busy": "2021-11-29T03:00:16.364053Z",
          "iopub.execute_input": "2021-11-29T03:00:16.364739Z",
          "iopub.status.idle": "2021-11-29T03:00:16.577165Z",
          "shell.execute_reply.started": "2021-11-29T03:00:16.364704Z",
          "shell.execute_reply": "2021-11-29T03:00:16.576237Z"
        },
        "trusted": true,
        "colab": {
          "base_uri": "https://localhost:8080/",
          "height": 265
        },
        "id": "W_9GPMI5xgAl",
        "outputId": "dc38fba6-e548-48fa-eaac-61db2076d96d"
      },
      "source": [
        "# Función Sigmoide\n",
        "plt.plot(x,sigmoid(x));"
      ],
      "execution_count": 3,
      "outputs": [
        {
          "output_type": "display_data",
          "data": {
            "image/png": "[encoded data removed]",
            "text/plain": [
              "<Figure size 432x288 with 1 Axes>"
            ]
          },
          "metadata": {
            "needs_background": "light"
          }
        }
      ]
    },
    {
      "cell_type": "code",
      "metadata": {
        "execution": {
          "iopub.status.busy": "2021-11-29T03:00:44.208621Z",
          "iopub.execute_input": "2021-11-29T03:00:44.208925Z",
          "iopub.status.idle": "2021-11-29T03:00:44.383915Z",
          "shell.execute_reply.started": "2021-11-29T03:00:44.208893Z",
          "shell.execute_reply": "2021-11-29T03:00:44.382932Z"
        },
        "trusted": true,
        "colab": {
          "base_uri": "https://localhost:8080/",
          "height": 265
        },
        "id": "4c1tjbVfxgAm",
        "outputId": "b7908cfd-3142-4704-a3fc-d7f6b2be01a5"
      },
      "source": [
        "# Función Treshold\n",
        "plt.plot(x,steep(x));"
      ],
      "execution_count": 4,
      "outputs": [
        {
          "output_type": "display_data",
          "data": {
            "image/png": "[encoded data removed]",
            "text/plain": [
              "<Figure size 432x288 with 1 Axes>"
            ]
          },
          "metadata": {
            "needs_background": "light"
          }
        }
      ]
    },
    {
      "cell_type": "markdown",
      "metadata": {
        "id": "AEUOHDUMxgAn"
      },
      "source": [
        "# Función de Coste"
      ]
    },
    {
      "cell_type": "code",
      "metadata": {
        "execution": {
          "iopub.status.busy": "2021-11-29T03:02:35.29421Z",
          "iopub.execute_input": "2021-11-29T03:02:35.294542Z",
          "iopub.status.idle": "2021-11-29T03:02:35.30431Z",
          "shell.execute_reply.started": "2021-11-29T03:02:35.294505Z",
          "shell.execute_reply": "2021-11-29T03:02:35.303327Z"
        },
        "trusted": true,
        "colab": {
          "base_uri": "https://localhost:8080/"
        },
        "id": "WyvX7c8dxgAo",
        "outputId": "03f4dbce-b85c-4055-b1d9-c0c9bc279669"
      },
      "source": [
        "def mse(y,y_hat,derivate=False):\n",
        "    if derivate:\n",
        "        return (y_hat - y)\n",
        "    else:            \n",
        "        return np.mean((y_hat - y)**2)\n",
        "    \n",
        "# Predicción\n",
        "prediction = np.array([0.9,0.5,0.2,0.0])\n",
        "real =  np.array([0,0,1,1])\n",
        "\n",
        "# Llamada\n",
        "mse(real, prediction)"
      ],
      "execution_count": 5,
      "outputs": [
        {
          "output_type": "execute_result",
          "data": {
            "text/plain": [
              "0.675"
            ]
          },
          "metadata": {},
          "execution_count": 5
        }
      ]
    },
    {
      "cell_type": "code",
      "metadata": {
        "execution": {
          "iopub.status.busy": "2021-11-29T03:11:38.874363Z",
          "iopub.execute_input": "2021-11-29T03:11:38.874672Z",
          "iopub.status.idle": "2021-11-29T03:11:39.082237Z",
          "shell.execute_reply.started": "2021-11-29T03:11:38.874636Z",
          "shell.execute_reply": "2021-11-29T03:11:39.081619Z"
        },
        "trusted": true,
        "colab": {
          "base_uri": "https://localhost:8080/",
          "height": 265
        },
        "id": "mZa-r2qTxgAp",
        "outputId": "29c9a4b6-b42c-4679-efb8-98616473b613"
      },
      "source": [
        "# Función de activación\n",
        "def relu(x):\n",
        "    return np.piecewise(x, [x<0, x>0],[0, lambda x: x])\n",
        "\n",
        "x = np.linspace(-10,10,100)\n",
        "\n",
        "# Función ReLu\n",
        "plt.plot(relu(x));"
      ],
      "execution_count": 6,
      "outputs": [
        {
          "output_type": "display_data",
          "data": {
            "image/png": "[encoded data removed]",
            "text/plain": [
              "<Figure size 432x288 with 1 Axes>"
            ]
          },
          "metadata": {
            "needs_background": "light"
          }
        }
      ]
    },
    {
      "cell_type": "code",
      "metadata": {
        "execution": {
          "iopub.status.busy": "2021-11-29T03:08:38.565657Z",
          "iopub.execute_input": "2021-11-29T03:08:38.566016Z",
          "iopub.status.idle": "2021-11-29T03:08:38.811951Z",
          "shell.execute_reply.started": "2021-11-29T03:08:38.565974Z",
          "shell.execute_reply": "2021-11-29T03:08:38.811071Z"
        },
        "trusted": true,
        "colab": {
          "base_uri": "https://localhost:8080/",
          "height": 265
        },
        "id": "UPCP2JzExgAp",
        "outputId": "2e15dba1-bf03-41ec-ef72-cd3de6526b49"
      },
      "source": [
        "# Función de activación\n",
        "lambda x: np.sinh(x)/np.cosh(x)\n",
        "\n",
        "x = np.linspace(-10,10,100)\n",
        "\n",
        "# Función Tan(h) o Hiperbólica\n",
        "plt.plot(x, np.tanh(x));"
      ],
      "execution_count": 7,
      "outputs": [
        {
          "output_type": "display_data",
          "data": {
            "image/png": "[encoded data removed]",
            "text/plain": [
              "<Figure size 432x288 with 1 Axes>"
            ]
          },
          "metadata": {
            "needs_background": "light"
          }
        }
      ]
    },
    {
      "cell_type": "code",
      "metadata": {
        "execution": {
          "iopub.status.busy": "2021-11-29T03:23:12.823351Z",
          "iopub.execute_input": "2021-11-29T03:23:12.824113Z",
          "iopub.status.idle": "2021-11-29T03:23:13.051227Z",
          "shell.execute_reply.started": "2021-11-29T03:23:12.824071Z",
          "shell.execute_reply": "2021-11-29T03:23:13.050536Z"
        },
        "trusted": true,
        "colab": {
          "base_uri": "https://localhost:8080/",
          "height": 268
        },
        "id": "DFTUz7ajxgAq",
        "outputId": "eee3cdad-144c-455d-c10b-363f24f3e7fe"
      },
      "source": [
        "# Función de activación\n",
        "def softmax(x):\n",
        "    \n",
        "    return np.exp(x) / np.sum(np.exp(x), axis=0)\n",
        "\n",
        "x = np.linspace(-10,10,50)\n",
        "\n",
        "# Función Softmax\n",
        "plt.plot(x, softmax(x));"
      ],
      "execution_count": 8,
      "outputs": [
        {
          "output_type": "display_data",
          "data": {
            "image/png": "[encoded data removed]",
            "text/plain": [
              "<Figure size 432x288 with 1 Axes>"
            ]
          },
          "metadata": {
            "needs_background": "light"
          }
        }
      ]
    },
    {
      "cell_type": "markdown",
      "metadata": {
        "id": "63OCHbn9xgAs"
      },
      "source": [
        "# Función de Pérdida\n",
        "\n",
        "La función de pérdida evalúa los valores reales contra la predicción. Un valor alto en la función de pérdida indica que nuestras predicciones son malas. En cambio, un valor bajo de la función de pérdida indica una buena predicción.\n",
        "\n",
        "Para el caso de una regresión tenemos la función de pérdida del error cuadrático medio (MSE, por sus siglas en inglés)"
      ]
    },
    {
      "cell_type": "code",
      "metadata": {
        "execution": {
          "iopub.status.busy": "2021-11-29T04:56:02.162445Z",
          "iopub.execute_input": "2021-11-29T04:56:02.163241Z",
          "iopub.status.idle": "2021-11-29T04:56:02.168106Z",
          "shell.execute_reply.started": "2021-11-29T04:56:02.163209Z",
          "shell.execute_reply": "2021-11-29T04:56:02.167228Z"
        },
        "trusted": true,
        "id": "7-pB7hOSxgAt"
      },
      "source": [
        "# Función de pérdida\n",
        "def mse(y,y_hat,derivate=False):\n",
        "    if derivate:\n",
        "        return (y_hat - y)\n",
        "    else:            \n",
        "        return np.mean((y_hat - y)**2)"
      ],
      "execution_count": 9,
      "outputs": []
    },
    {
      "cell_type": "code",
      "metadata": {
        "execution": {
          "iopub.status.busy": "2021-11-29T04:56:25.939126Z",
          "iopub.execute_input": "2021-11-29T04:56:25.939475Z",
          "iopub.status.idle": "2021-11-29T04:56:25.948869Z",
          "shell.execute_reply.started": "2021-11-29T04:56:25.939442Z",
          "shell.execute_reply": "2021-11-29T04:56:25.948063Z"
        },
        "trusted": true,
        "colab": {
          "base_uri": "https://localhost:8080/"
        },
        "id": "loQgSDqpxgAt",
        "outputId": "8653a4fa-781c-4984-fbe8-dbc12721fa5e"
      },
      "source": [
        "prediction = np.array([0.9,0.5,0.2,0.0])\n",
        "real =  np.array([0,0,1,1])\n",
        "\n",
        "mse(real, prediction)"
      ],
      "execution_count": 10,
      "outputs": [
        {
          "output_type": "execute_result",
          "data": {
            "text/plain": [
              "0.675"
            ]
          },
          "metadata": {},
          "execution_count": 10
        }
      ]
    },
    {
      "cell_type": "code",
      "metadata": {
        "execution": {
          "iopub.status.busy": "2021-11-29T04:56:33.564883Z",
          "iopub.execute_input": "2021-11-29T04:56:33.565773Z",
          "iopub.status.idle": "2021-11-29T04:56:33.575037Z",
          "shell.execute_reply.started": "2021-11-29T04:56:33.56573Z",
          "shell.execute_reply": "2021-11-29T04:56:33.574446Z"
        },
        "trusted": true,
        "colab": {
          "base_uri": "https://localhost:8080/"
        },
        "id": "wiXRST3LxgAu",
        "outputId": "c769862b-dd4b-4175-db23-b83fc0e90ff4"
      },
      "source": [
        "lista = [5,4,1]\n",
        "lista2 = [2,3,4]\n",
        "\n",
        "a = np.array((lista, lista2))\n",
        "\n",
        "b = np.array([1,2,3]).T\n",
        "\n",
        "c = a.dot(b)\n",
        "c"
      ],
      "execution_count": 11,
      "outputs": [
        {
          "output_type": "execute_result",
          "data": {
            "text/plain": [
              "array([16, 20])"
            ]
          },
          "metadata": {},
          "execution_count": 11
        }
      ]
    }
  ]
}