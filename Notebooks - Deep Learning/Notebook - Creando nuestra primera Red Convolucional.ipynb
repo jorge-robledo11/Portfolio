{
  "nbformat": 4,
  "nbformat_minor": 0,
  "metadata": {
    "kernelspec": {
      "language": "python",
      "display_name": "Python 3",
      "name": "python3"
    },
    "language_info": {
      "pygments_lexer": "ipython3",
      "nbconvert_exporter": "python",
      "version": "3.6.4",
      "file_extension": ".py",
      "codemirror_mode": {
        "name": "ipython",
        "version": 3
      },
      "name": "python",
      "mimetype": "text/x-python"
    },
    "colab": {
      "name": "2. Creando nuestra primera Red Convolucional.ipynb",
      "provenance": []
    },
    "accelerator": "GPU"
  },
  "cells": [
    {
      "cell_type": "markdown",
      "metadata": {
        "id": "gk67FZkDp0ig"
      },
      "source": [
        "## Configuración inicial"
      ]
    },
    {
      "cell_type": "code",
      "metadata": {
        "execution": {
          "iopub.status.busy": "2021-11-28T22:42:17.017924Z",
          "iopub.execute_input": "2021-11-28T22:42:17.018523Z",
          "iopub.status.idle": "2021-11-28T22:42:18.878548Z",
          "shell.execute_reply.started": "2021-11-28T22:42:17.018365Z",
          "shell.execute_reply": "2021-11-28T22:42:18.877538Z"
        },
        "trusted": true,
        "id": "5KeVUVMBp0ij"
      },
      "source": [
        "import tensorflow as tf\n",
        "from tensorflow.keras.datasets import fashion_mnist\n",
        "from tensorflow.keras.layers import Conv2D, Dropout, MaxPooling2D, Flatten, Dense\n",
        "import numpy as np\n",
        "import matplotlib.pyplot as plt"
      ],
      "execution_count": 1,
      "outputs": []
    },
    {
      "cell_type": "code",
      "metadata": {
        "execution": {
          "iopub.status.busy": "2021-11-28T22:42:18.881651Z",
          "iopub.execute_input": "2021-11-28T22:42:18.882097Z",
          "iopub.status.idle": "2021-11-28T22:42:18.936341Z",
          "shell.execute_reply.started": "2021-11-28T22:42:18.882047Z",
          "shell.execute_reply": "2021-11-28T22:42:18.933401Z"
        },
        "trusted": true,
        "id": "6IlLrue-p0ik"
      },
      "source": [
        "gpu_devices = tf.config.experimental.list_physical_devices('GPU')\n",
        "for device in gpu_devices:\n",
        "    tf.config.experimental.set_memory_growth(device, True)"
      ],
      "execution_count": 2,
      "outputs": []
    },
    {
      "cell_type": "code",
      "metadata": {
        "tags": [],
        "cell_id": "00001-fa929be0-7ae3-428f-9bfc-9736a709be75",
        "deepnote_to_be_reexecuted": false,
        "source_hash": "e0a9855b",
        "execution_start": 1638134265118,
        "execution_millis": 1197,
        "deepnote_cell_type": "code",
        "execution": {
          "iopub.status.busy": "2021-11-28T22:42:18.938458Z",
          "iopub.execute_input": "2021-11-28T22:42:18.939559Z",
          "iopub.status.idle": "2021-11-28T22:42:19.433132Z",
          "shell.execute_reply.started": "2021-11-28T22:42:18.939504Z",
          "shell.execute_reply": "2021-11-28T22:42:19.431989Z"
        },
        "trusted": true,
        "colab": {
          "base_uri": "https://localhost:8080/"
        },
        "id": "vTPaVxA5p0il",
        "outputId": "a2889f49-6dda-4728-f703-1dfa0a903117"
      },
      "source": [
        "# Cargamos el dataset\n",
        "(train_images, train_labels),(test_images, test_labels) = fashion_mnist.load_data()"
      ],
      "execution_count": 3,
      "outputs": [
        {
          "output_type": "stream",
          "name": "stdout",
          "text": [
            "Downloading data from https://storage.googleapis.com/tensorflow/tf-keras-datasets/train-labels-idx1-ubyte.gz\n",
            "32768/29515 [=================================] - 0s 0us/step\n",
            "40960/29515 [=========================================] - 0s 0us/step\n",
            "Downloading data from https://storage.googleapis.com/tensorflow/tf-keras-datasets/train-images-idx3-ubyte.gz\n",
            "26427392/26421880 [==============================] - 1s 0us/step\n",
            "26435584/26421880 [==============================] - 1s 0us/step\n",
            "Downloading data from https://storage.googleapis.com/tensorflow/tf-keras-datasets/t10k-labels-idx1-ubyte.gz\n",
            "16384/5148 [===============================================================================================] - 0s 0us/step\n",
            "Downloading data from https://storage.googleapis.com/tensorflow/tf-keras-datasets/t10k-images-idx3-ubyte.gz\n",
            "4423680/4422102 [==============================] - 0s 0us/step\n",
            "4431872/4422102 [==============================] - 0s 0us/step\n"
          ]
        }
      ]
    },
    {
      "cell_type": "markdown",
      "metadata": {
        "tags": [],
        "is_collapsed": false,
        "cell_id": "00002-42ec8c52-107b-4fd9-a90d-d8d20090fd28",
        "deepnote_cell_type": "text-cell-h3",
        "id": "TmSE09Bhp0in"
      },
      "source": [
        "## Preprocesamiento"
      ]
    },
    {
      "cell_type": "code",
      "metadata": {
        "tags": [],
        "cell_id": "00002-65b949fe-0c94-4b6e-8d88-ab5b0104f92a",
        "deepnote_to_be_reexecuted": false,
        "source_hash": "a0a7c5e0",
        "execution_start": 1638134302832,
        "execution_millis": 4,
        "deepnote_output_heights": [
          21.199996948242188
        ],
        "deepnote_cell_type": "code",
        "execution": {
          "iopub.status.busy": "2021-11-28T22:42:19.434864Z",
          "iopub.execute_input": "2021-11-28T22:42:19.43515Z",
          "iopub.status.idle": "2021-11-28T22:42:19.443641Z",
          "shell.execute_reply.started": "2021-11-28T22:42:19.435107Z",
          "shell.execute_reply": "2021-11-28T22:42:19.442666Z"
        },
        "trusted": true,
        "colab": {
          "base_uri": "https://localhost:8080/"
        },
        "id": "-iSdp_ogp0io",
        "outputId": "39647d90-df84-4bdd-b6f3-522918b59f1c"
      },
      "source": [
        "# Revisando los datos\n",
        "\n",
        "train_images.shape"
      ],
      "execution_count": 4,
      "outputs": [
        {
          "output_type": "execute_result",
          "data": {
            "text/plain": [
              "(60000, 28, 28)"
            ]
          },
          "metadata": {},
          "execution_count": 4
        }
      ]
    },
    {
      "cell_type": "code",
      "metadata": {
        "tags": [],
        "cell_id": "00003-d4b2b24c-5813-441d-a36d-b8dcf8f935f4",
        "deepnote_to_be_reexecuted": false,
        "source_hash": "80ff2abf",
        "execution_start": 1638134370306,
        "execution_millis": 187,
        "deepnote_output_heights": [
          250,
          21.199996948242188
        ],
        "deepnote_cell_type": "code",
        "execution": {
          "iopub.status.busy": "2021-11-28T22:42:19.446982Z",
          "iopub.execute_input": "2021-11-28T22:42:19.447632Z",
          "iopub.status.idle": "2021-11-28T22:42:19.708383Z",
          "shell.execute_reply.started": "2021-11-28T22:42:19.447584Z",
          "shell.execute_reply": "2021-11-28T22:42:19.70735Z"
        },
        "trusted": true,
        "colab": {
          "base_uri": "https://localhost:8080/",
          "height": 265
        },
        "id": "Ycf_my5Up0ip",
        "outputId": "ad79f12e-96c6-4c91-f2e7-5fd8f2d23aa1"
      },
      "source": [
        "plt.imshow(train_images[0]);"
      ],
      "execution_count": 5,
      "outputs": [
        {
          "output_type": "display_data",
          "data": {
            "image/png": "[encoded data removed]",
            "text/plain": [
              "<Figure size 432x288 with 1 Axes>"
            ]
          },
          "metadata": {
            "needs_background": "light"
          }
        }
      ]
    },
    {
      "cell_type": "code",
      "metadata": {
        "tags": [],
        "cell_id": "00004-d4a4b558-23b8-409b-a7d9-cfb353609c85",
        "deepnote_to_be_reexecuted": false,
        "source_hash": "f2e41d5",
        "execution_start": 1638134401811,
        "execution_millis": 148,
        "deepnote_output_heights": [
          250
        ],
        "deepnote_cell_type": "code",
        "execution": {
          "iopub.status.busy": "2021-11-28T22:42:19.7109Z",
          "iopub.execute_input": "2021-11-28T22:42:19.71144Z",
          "iopub.status.idle": "2021-11-28T22:42:20.050143Z",
          "shell.execute_reply.started": "2021-11-28T22:42:19.711374Z",
          "shell.execute_reply": "2021-11-28T22:42:20.048898Z"
        },
        "trusted": true,
        "colab": {
          "base_uri": "https://localhost:8080/",
          "height": 265
        },
        "id": "bg2UPSQMp0ip",
        "outputId": "f9b4a148-4f41-4ec9-8d63-0c20602dbb31"
      },
      "source": [
        "plt.imshow(train_images[42]);"
      ],
      "execution_count": 6,
      "outputs": [
        {
          "output_type": "display_data",
          "data": {
            "image/png": "[encoded data removed]",
            "text/plain": [
              "<Figure size 432x288 with 1 Axes>"
            ]
          },
          "metadata": {
            "needs_background": "light"
          }
        }
      ]
    },
    {
      "cell_type": "code",
      "metadata": {
        "tags": [],
        "cell_id": "00005-cd6a3cb2-68a7-46b6-893a-96bdd34cd6f8",
        "deepnote_to_be_reexecuted": false,
        "source_hash": "b6efee94",
        "execution_start": 1638134409833,
        "execution_millis": 155,
        "deepnote_output_heights": [
          250
        ],
        "deepnote_cell_type": "code",
        "execution": {
          "iopub.status.busy": "2021-11-28T22:42:20.054797Z",
          "iopub.execute_input": "2021-11-28T22:42:20.055371Z",
          "iopub.status.idle": "2021-11-28T22:42:20.400011Z",
          "shell.execute_reply.started": "2021-11-28T22:42:20.05526Z",
          "shell.execute_reply": "2021-11-28T22:42:20.398986Z"
        },
        "trusted": true,
        "colab": {
          "base_uri": "https://localhost:8080/",
          "height": 265
        },
        "id": "jK53zHEQp0ip",
        "outputId": "d4ac17ad-670b-445e-c28a-c6dcd8c97da4"
      },
      "source": [
        "plt.imshow(train_images[25]);"
      ],
      "execution_count": 7,
      "outputs": [
        {
          "output_type": "display_data",
          "data": {
            "image/png": "[encoded data removed]",
            "text/plain": [
              "<Figure size 432x288 with 1 Axes>"
            ]
          },
          "metadata": {
            "needs_background": "light"
          }
        }
      ]
    },
    {
      "cell_type": "code",
      "metadata": {
        "tags": [],
        "cell_id": "00006-34101b41-ad09-4826-8d1b-f255c2d30999",
        "deepnote_to_be_reexecuted": false,
        "source_hash": "8fa86e33",
        "execution_start": 1638134726560,
        "execution_millis": 72,
        "deepnote_cell_type": "code",
        "execution": {
          "iopub.status.busy": "2021-11-28T22:42:20.401645Z",
          "iopub.execute_input": "2021-11-28T22:42:20.401944Z",
          "iopub.status.idle": "2021-11-28T22:42:20.507171Z",
          "shell.execute_reply.started": "2021-11-28T22:42:20.401903Z",
          "shell.execute_reply": "2021-11-28T22:42:20.506176Z"
        },
        "trusted": true,
        "id": "IDAWeFbtp0iq"
      },
      "source": [
        "# Reescalar los valores\n",
        "train_images = train_images.astype('float32')/255\n",
        "test_images = test_images.astype('float32')/255"
      ],
      "execution_count": 8,
      "outputs": []
    },
    {
      "cell_type": "code",
      "metadata": {
        "tags": [],
        "cell_id": "00007-ac143a67-3e1d-4679-adad-9733237cf208",
        "deepnote_to_be_reexecuted": false,
        "source_hash": "ce5bef4d",
        "execution_start": 1638134845656,
        "execution_millis": 4,
        "deepnote_cell_type": "code",
        "execution": {
          "iopub.status.busy": "2021-11-28T22:42:20.508822Z",
          "iopub.execute_input": "2021-11-28T22:42:20.509368Z",
          "iopub.status.idle": "2021-11-28T22:42:20.514893Z",
          "shell.execute_reply.started": "2021-11-28T22:42:20.509324Z",
          "shell.execute_reply": "2021-11-28T22:42:20.513957Z"
        },
        "trusted": true,
        "id": "NfqLkHD0p0ir"
      },
      "source": [
        "# Cambiar las dimensiones de los datos de train y test\n",
        "train_images = train_images.reshape(train_images.shape[0],28,28,1)\n",
        "test_images = test_images.reshape(test_images.shape[0],28,28,1)"
      ],
      "execution_count": 9,
      "outputs": []
    },
    {
      "cell_type": "code",
      "metadata": {
        "tags": [],
        "cell_id": "00008-dd67f856-12ba-4c8e-b880-637f5934d043",
        "deepnote_to_be_reexecuted": false,
        "source_hash": "91216794",
        "execution_start": 1638135125899,
        "execution_millis": 0,
        "deepnote_cell_type": "code",
        "execution": {
          "iopub.status.busy": "2021-11-28T22:42:20.516348Z",
          "iopub.execute_input": "2021-11-28T22:42:20.517556Z",
          "iopub.status.idle": "2021-11-28T22:42:20.528736Z",
          "shell.execute_reply.started": "2021-11-28T22:42:20.517511Z",
          "shell.execute_reply": "2021-11-28T22:42:20.527763Z"
        },
        "trusted": true,
        "id": "H4_RKht1p0is"
      },
      "source": [
        "# Cambiamos los labels to categóricos\n",
        "train_labels = tf.keras.utils.to_categorical(train_labels)\n",
        "test_labels = tf.keras.utils.to_categorical(test_labels)"
      ],
      "execution_count": 10,
      "outputs": []
    },
    {
      "cell_type": "markdown",
      "metadata": {
        "tags": [],
        "is_collapsed": false,
        "cell_id": "00010-5105367e-63b4-4f0f-8c6e-148686c40f2f",
        "deepnote_cell_type": "text-cell-h3",
        "id": "SxAQW8zxp0it"
      },
      "source": [
        "## Modelo"
      ]
    },
    {
      "cell_type": "code",
      "metadata": {
        "tags": [],
        "cell_id": "00011-cfa7a059-f6ed-47c6-b699-ab921ffe7e4c",
        "deepnote_to_be_reexecuted": false,
        "source_hash": "1c59af3c",
        "execution_start": 1638135768211,
        "execution_millis": 94,
        "deepnote_cell_type": "code",
        "execution": {
          "iopub.status.busy": "2021-11-28T22:42:20.530167Z",
          "iopub.execute_input": "2021-11-28T22:42:20.530727Z",
          "iopub.status.idle": "2021-11-28T22:42:21.4059Z",
          "shell.execute_reply.started": "2021-11-28T22:42:20.530665Z",
          "shell.execute_reply": "2021-11-28T22:42:21.404378Z"
        },
        "trusted": true,
        "colab": {
          "base_uri": "https://localhost:8080/"
        },
        "id": "Q-5TMHEQp0it",
        "outputId": "68487b13-4aa7-4064-ebab-849f4606664c"
      },
      "source": [
        "# Instanciamos el modelo\n",
        "model = tf.keras.Sequential()\n",
        "\n",
        "# Agregamos capas a nuestra Red Neuronal\n",
        "model.add(Conv2D(filters=64, kernel_size=2, padding='same', activation='relu', input_shape=(28,28,1)))\n",
        "model.add(MaxPooling2D(pool_size=2))\n",
        "model.add(Dropout(0.3))\n",
        "\n",
        "# Apilamos capas pero de forma decreciente\n",
        "model.add(Conv2D(filters=32, kernel_size=2, padding='same', activation='relu'))\n",
        "model.add(MaxPooling2D(pool_size=2))\n",
        "model.add(Dropout(0.3))\n",
        "\n",
        "# Esta capa aplana los tensores\n",
        "model.add(Flatten())\n",
        "\n",
        "# Stackeamos capas densas\n",
        "model.add(Dense(256, activation='relu'))\n",
        "\n",
        "# Reducimos el Overfitting\n",
        "model.add(Dropout(0.5))\n",
        "model.add(Dense(10, activation='softmax'))\n",
        "\n",
        "model.summary()"
      ],
      "execution_count": 11,
      "outputs": [
        {
          "output_type": "stream",
          "name": "stdout",
          "text": [
            "Model: \"sequential\"\n",
            "_________________________________________________________________\n",
            " Layer (type)                Output Shape              Param #   \n",
            "=================================================================\n",
            " conv2d (Conv2D)             (None, 28, 28, 64)        320       \n",
            "                                                                 \n",
            " max_pooling2d (MaxPooling2D  (None, 14, 14, 64)       0         \n",
            " )                                                               \n",
            "                                                                 \n",
            " dropout (Dropout)           (None, 14, 14, 64)        0         \n",
            "                                                                 \n",
            " conv2d_1 (Conv2D)           (None, 14, 14, 32)        8224      \n",
            "                                                                 \n",
            " max_pooling2d_1 (MaxPooling  (None, 7, 7, 32)         0         \n",
            " 2D)                                                             \n",
            "                                                                 \n",
            " dropout_1 (Dropout)         (None, 7, 7, 32)          0         \n",
            "                                                                 \n",
            " flatten (Flatten)           (None, 1568)              0         \n",
            "                                                                 \n",
            " dense (Dense)               (None, 256)               401664    \n",
            "                                                                 \n",
            " dropout_2 (Dropout)         (None, 256)               0         \n",
            "                                                                 \n",
            " dense_1 (Dense)             (None, 10)                2570      \n",
            "                                                                 \n",
            "=================================================================\n",
            "Total params: 412,778\n",
            "Trainable params: 412,778\n",
            "Non-trainable params: 0\n",
            "_________________________________________________________________\n"
          ]
        }
      ]
    },
    {
      "cell_type": "markdown",
      "metadata": {
        "tags": [],
        "is_collapsed": false,
        "cell_id": "00012-00523117-3ed3-4fd3-9171-6fd0444db3ec",
        "deepnote_cell_type": "text-cell-h3",
        "id": "NWWYA6kCp0iu"
      },
      "source": [
        "## Compilamos el modelo"
      ]
    },
    {
      "cell_type": "code",
      "metadata": {
        "tags": [],
        "cell_id": "00013-b4ffcf7b-7e70-4e2b-978d-1735b977a619",
        "deepnote_to_be_reexecuted": false,
        "source_hash": "cd37805a",
        "execution_start": 1638136114224,
        "execution_millis": 50,
        "deepnote_cell_type": "code",
        "execution": {
          "iopub.status.busy": "2021-11-28T22:42:21.408856Z",
          "iopub.execute_input": "2021-11-28T22:42:21.409166Z",
          "iopub.status.idle": "2021-11-28T22:42:21.4248Z",
          "shell.execute_reply.started": "2021-11-28T22:42:21.409122Z",
          "shell.execute_reply": "2021-11-28T22:42:21.423507Z"
        },
        "trusted": true,
        "id": "6jeW92nbp0iv"
      },
      "source": [
        "# Compilamos\n",
        "model.compile(loss = 'categorical_crossentropy',\n",
        "              optimizer = 'rmsprop',\n",
        "              metrics = ['accuracy'])"
      ],
      "execution_count": 12,
      "outputs": []
    },
    {
      "cell_type": "markdown",
      "metadata": {
        "tags": [],
        "is_collapsed": false,
        "cell_id": "00014-8d5fd7c0-0c10-4919-aa31-3803857303bf",
        "deepnote_cell_type": "text-cell-h3",
        "id": "ZS1YTRMQp0iv"
      },
      "source": [
        "## Entrenamos el modelo"
      ]
    },
    {
      "cell_type": "code",
      "metadata": {
        "tags": [],
        "cell_id": "00014-b996061c-cb79-43f5-99d1-26526d664cf7",
        "deepnote_to_be_reexecuted": false,
        "source_hash": "bb69526f",
        "execution_start": 1638136163146,
        "execution_millis": 144865,
        "deepnote_cell_type": "code",
        "execution": {
          "iopub.status.busy": "2021-11-28T22:42:21.426643Z",
          "iopub.execute_input": "2021-11-28T22:42:21.427028Z",
          "iopub.status.idle": "2021-11-28T22:43:13.093755Z",
          "shell.execute_reply.started": "2021-11-28T22:42:21.426976Z",
          "shell.execute_reply": "2021-11-28T22:43:13.092796Z"
        },
        "trusted": true,
        "colab": {
          "base_uri": "https://localhost:8080/"
        },
        "id": "0_z6Rs00p0iw",
        "outputId": "cd82edb8-92ee-48e8-b85a-08fe2cd4dabe"
      },
      "source": [
        "# Entrenamos\n",
        "model.fit(train_images, train_labels, batch_size=64, epochs=10)"
      ],
      "execution_count": 13,
      "outputs": [
        {
          "output_type": "stream",
          "name": "stdout",
          "text": [
            "Epoch 1/10\n",
            "938/938 [==============================] - 22s 11ms/step - loss: 0.5800 - accuracy: 0.7883\n",
            "Epoch 2/10\n",
            "938/938 [==============================] - 10s 10ms/step - loss: 0.3913 - accuracy: 0.8597\n",
            "Epoch 3/10\n",
            "938/938 [==============================] - 10s 10ms/step - loss: 0.3490 - accuracy: 0.8747\n",
            "Epoch 4/10\n",
            "938/938 [==============================] - 9s 10ms/step - loss: 0.3283 - accuracy: 0.8815\n",
            "Epoch 5/10\n",
            "938/938 [==============================] - 9s 10ms/step - loss: 0.3170 - accuracy: 0.8872\n",
            "Epoch 6/10\n",
            "938/938 [==============================] - 9s 10ms/step - loss: 0.3136 - accuracy: 0.8886\n",
            "Epoch 7/10\n",
            "938/938 [==============================] - 9s 10ms/step - loss: 0.3091 - accuracy: 0.8908\n",
            "Epoch 8/10\n",
            "938/938 [==============================] - 9s 10ms/step - loss: 0.3135 - accuracy: 0.8900\n",
            "Epoch 9/10\n",
            "938/938 [==============================] - 9s 10ms/step - loss: 0.3115 - accuracy: 0.8903\n",
            "Epoch 10/10\n",
            "938/938 [==============================] - 9s 10ms/step - loss: 0.3125 - accuracy: 0.8927\n"
          ]
        },
        {
          "output_type": "execute_result",
          "data": {
            "text/plain": [
              "<keras.callbacks.History at 0x7fce0050bed0>"
            ]
          },
          "metadata": {},
          "execution_count": 13
        }
      ]
    },
    {
      "cell_type": "markdown",
      "metadata": {
        "id": "gzZrqdwLp0iw"
      },
      "source": [
        "## Evaluamos el modelo"
      ]
    },
    {
      "cell_type": "code",
      "metadata": {
        "execution": {
          "iopub.status.busy": "2021-11-28T22:43:13.097738Z",
          "iopub.execute_input": "2021-11-28T22:43:13.098057Z",
          "iopub.status.idle": "2021-11-28T22:43:14.635379Z",
          "shell.execute_reply.started": "2021-11-28T22:43:13.098021Z",
          "shell.execute_reply": "2021-11-28T22:43:14.634224Z"
        },
        "trusted": true,
        "colab": {
          "base_uri": "https://localhost:8080/"
        },
        "id": "RLCvZ4QLp0ix",
        "outputId": "9ece04ee-f590-43e5-8d19-77b47c998f52"
      },
      "source": [
        "# Evaluamos\n",
        "model.evaluate(test_images, test_labels, verbose=0)"
      ],
      "execution_count": 14,
      "outputs": [
        {
          "output_type": "execute_result",
          "data": {
            "text/plain": [
              "[0.281972199678421, 0.9065999984741211]"
            ]
          },
          "metadata": {},
          "execution_count": 14
        }
      ]
    }
  ]
}