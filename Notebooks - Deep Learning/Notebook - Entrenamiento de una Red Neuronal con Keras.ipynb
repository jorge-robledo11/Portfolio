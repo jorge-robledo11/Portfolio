{
  "nbformat": 4,
  "nbformat_minor": 0,
  "metadata": {
    "kernelspec": {
      "language": "python",
      "display_name": "Python 3",
      "name": "python3"
    },
    "language_info": {
      "pygments_lexer": "ipython3",
      "nbconvert_exporter": "python",
      "version": "3.6.4",
      "file_extension": ".py",
      "codemirror_mode": {
        "name": "ipython",
        "version": 3
      },
      "name": "python",
      "mimetype": "text/x-python"
    },
    "colab": {
      "name": "1. Tu primera Red Neuronal con Keras.ipynb",
      "provenance": []
    },
    "accelerator": "TPU"
  },
  "cells": [
    {
      "cell_type": "markdown",
      "metadata": {
        "id": "h0LllT0_wpXx"
      },
      "source": [
        "# 1. Configuración inicial"
      ]
    },
    {
      "cell_type": "code",
      "metadata": {
        "execution": {
          "iopub.status.busy": "2021-11-29T02:08:53.781857Z",
          "iopub.execute_input": "2021-11-29T02:08:53.782771Z",
          "iopub.status.idle": "2021-11-29T02:08:53.787024Z",
          "shell.execute_reply.started": "2021-11-29T02:08:53.782728Z",
          "shell.execute_reply": "2021-11-29T02:08:53.786432Z"
        },
        "trusted": true,
        "id": "cPuMqjiEwpX1"
      },
      "source": [
        "from keras.datasets import mnist\n",
        "from keras import layers, models\n",
        "import numpy as np\n",
        "import matplotlib.pyplot as plt\n",
        "from tensorflow.keras.utils import to_categorical"
      ],
      "execution_count": 1,
      "outputs": []
    },
    {
      "cell_type": "code",
      "metadata": {
        "execution": {
          "iopub.status.busy": "2021-11-29T02:08:53.788408Z",
          "iopub.execute_input": "2021-11-29T02:08:53.788771Z",
          "iopub.status.idle": "2021-11-29T02:08:53.801765Z",
          "shell.execute_reply.started": "2021-11-29T02:08:53.788744Z",
          "shell.execute_reply": "2021-11-29T02:08:53.800946Z"
        },
        "trusted": true,
        "id": "xyihSXQRwpX3"
      },
      "source": [
        "import warnings\n",
        "warnings.simplefilter(\"ignore\")"
      ],
      "execution_count": 2,
      "outputs": []
    },
    {
      "cell_type": "markdown",
      "metadata": {
        "id": "9mqzIYDWwpX5"
      },
      "source": [
        "# 2. Cargamos nuestro set de datos"
      ]
    },
    {
      "cell_type": "code",
      "metadata": {
        "execution": {
          "iopub.status.busy": "2021-11-29T02:08:53.803294Z",
          "iopub.execute_input": "2021-11-29T02:08:53.803776Z",
          "iopub.status.idle": "2021-11-29T02:08:54.131076Z",
          "shell.execute_reply.started": "2021-11-29T02:08:53.803734Z",
          "shell.execute_reply": "2021-11-29T02:08:54.130244Z"
        },
        "trusted": true,
        "colab": {
          "base_uri": "https://localhost:8080/"
        },
        "id": "JAuSPrcQwpX6",
        "outputId": "b831b283-b2df-4ae4-f429-5f40fcbc79b4"
      },
      "source": [
        "(train_data, train_labels), (test_data, test_labels) = mnist.load_data()"
      ],
      "execution_count": 3,
      "outputs": [
        {
          "output_type": "stream",
          "name": "stdout",
          "text": [
            "Downloading data from https://storage.googleapis.com/tensorflow/tf-keras-datasets/mnist.npz\n",
            "11493376/11490434 [==============================] - 0s 0us/step\n",
            "11501568/11490434 [==============================] - 0s 0us/step\n"
          ]
        }
      ]
    },
    {
      "cell_type": "code",
      "metadata": {
        "execution": {
          "iopub.status.busy": "2021-11-29T02:08:54.134465Z",
          "iopub.execute_input": "2021-11-29T02:08:54.134714Z",
          "iopub.status.idle": "2021-11-29T02:08:54.14081Z",
          "shell.execute_reply.started": "2021-11-29T02:08:54.134684Z",
          "shell.execute_reply": "2021-11-29T02:08:54.140026Z"
        },
        "trusted": true,
        "colab": {
          "base_uri": "https://localhost:8080/"
        },
        "id": "0gFJkJkUwpX8",
        "outputId": "37db6766-7567-43a4-b557-163378d8b211"
      },
      "source": [
        "train_data.shape"
      ],
      "execution_count": 4,
      "outputs": [
        {
          "output_type": "execute_result",
          "data": {
            "text/plain": [
              "(60000, 28, 28)"
            ]
          },
          "metadata": {},
          "execution_count": 4
        }
      ]
    },
    {
      "cell_type": "code",
      "metadata": {
        "execution": {
          "iopub.status.busy": "2021-11-29T02:08:54.142837Z",
          "iopub.execute_input": "2021-11-29T02:08:54.143106Z",
          "iopub.status.idle": "2021-11-29T02:08:54.338463Z",
          "shell.execute_reply.started": "2021-11-29T02:08:54.143077Z",
          "shell.execute_reply": "2021-11-29T02:08:54.337838Z"
        },
        "trusted": true,
        "colab": {
          "base_uri": "https://localhost:8080/",
          "height": 265
        },
        "id": "DloGhmaxwpX9",
        "outputId": "ea29a46a-243e-4702-ff8f-5f790e4ece37"
      },
      "source": [
        "plt.imshow(train_data[25]);"
      ],
      "execution_count": 5,
      "outputs": [
        {
          "output_type": "display_data",
          "data": {
            "image/png": "[encoded data removed]",
            "text/plain": [
              "<Figure size 432x288 with 1 Axes>"
            ]
          },
          "metadata": {
            "needs_background": "light"
          }
        }
      ]
    },
    {
      "cell_type": "code",
      "metadata": {
        "execution": {
          "iopub.status.busy": "2021-11-29T02:08:54.339538Z",
          "iopub.execute_input": "2021-11-29T02:08:54.340056Z",
          "iopub.status.idle": "2021-11-29T02:08:54.344982Z",
          "shell.execute_reply.started": "2021-11-29T02:08:54.340023Z",
          "shell.execute_reply": "2021-11-29T02:08:54.344217Z"
        },
        "trusted": true,
        "colab": {
          "base_uri": "https://localhost:8080/"
        },
        "id": "sASrHMvKwpX-",
        "outputId": "ad9ff53c-48ef-468c-a300-7139833913cc"
      },
      "source": [
        "train_labels[25]"
      ],
      "execution_count": 6,
      "outputs": [
        {
          "output_type": "execute_result",
          "data": {
            "text/plain": [
              "2"
            ]
          },
          "metadata": {},
          "execution_count": 6
        }
      ]
    },
    {
      "cell_type": "markdown",
      "metadata": {
        "id": "JTJkcbbnwpX_"
      },
      "source": [
        "# 3. Creando nuestro modelo"
      ]
    },
    {
      "cell_type": "code",
      "metadata": {
        "execution": {
          "iopub.status.busy": "2021-11-29T02:08:54.346207Z",
          "iopub.execute_input": "2021-11-29T02:08:54.346868Z",
          "iopub.status.idle": "2021-11-29T02:08:54.379751Z",
          "shell.execute_reply.started": "2021-11-29T02:08:54.346834Z",
          "shell.execute_reply": "2021-11-29T02:08:54.378944Z"
        },
        "trusted": true,
        "id": "QB4sGQGGwpYB"
      },
      "source": [
        "# Instanciamos el modelo\n",
        "model = models.Sequential()\n",
        "\n",
        "# Agregamos unas capas\n",
        "model.add(layers.Dense(512,activation='relu', input_shape=(28*28,)))\n",
        "model.add(layers.Dense(10,activation='softmax'))"
      ],
      "execution_count": 7,
      "outputs": []
    },
    {
      "cell_type": "markdown",
      "metadata": {
        "id": "m33S9WAhwpYC"
      },
      "source": [
        "# 4. Compilamos el modelo"
      ]
    },
    {
      "cell_type": "code",
      "metadata": {
        "execution": {
          "iopub.status.busy": "2021-11-29T02:08:54.38095Z",
          "iopub.execute_input": "2021-11-29T02:08:54.381229Z",
          "iopub.status.idle": "2021-11-29T02:08:54.390529Z",
          "shell.execute_reply.started": "2021-11-29T02:08:54.381192Z",
          "shell.execute_reply": "2021-11-29T02:08:54.389644Z"
        },
        "trusted": true,
        "id": "0OIQrgYPwpYD"
      },
      "source": [
        "# Compilamos\n",
        "model.compile(optimizer='rmsprop',\n",
        "              loss='categorical_crossentropy',\n",
        "              metrics=['accuracy'])"
      ],
      "execution_count": 8,
      "outputs": []
    },
    {
      "cell_type": "code",
      "metadata": {
        "execution": {
          "iopub.status.busy": "2021-11-29T02:08:54.391669Z",
          "iopub.execute_input": "2021-11-29T02:08:54.392317Z",
          "iopub.status.idle": "2021-11-29T02:08:54.404342Z",
          "shell.execute_reply.started": "2021-11-29T02:08:54.392278Z",
          "shell.execute_reply": "2021-11-29T02:08:54.403718Z"
        },
        "trusted": true,
        "colab": {
          "base_uri": "https://localhost:8080/"
        },
        "id": "u4QhB4yJwpYE",
        "outputId": "9441f454-64fe-43a6-bf17-54b104ad8457"
      },
      "source": [
        "model.summary()"
      ],
      "execution_count": 9,
      "outputs": [
        {
          "output_type": "stream",
          "name": "stdout",
          "text": [
            "Model: \"sequential\"\n",
            "_________________________________________________________________\n",
            " Layer (type)                Output Shape              Param #   \n",
            "=================================================================\n",
            " dense (Dense)               (None, 512)               401920    \n",
            "                                                                 \n",
            " dense_1 (Dense)             (None, 10)                5130      \n",
            "                                                                 \n",
            "=================================================================\n",
            "Total params: 407,050\n",
            "Trainable params: 407,050\n",
            "Non-trainable params: 0\n",
            "_________________________________________________________________\n"
          ]
        }
      ]
    },
    {
      "cell_type": "markdown",
      "metadata": {
        "id": "cx9N4PU8wpYF"
      },
      "source": [
        "# 5. Limpieza de datos"
      ]
    },
    {
      "cell_type": "code",
      "metadata": {
        "execution": {
          "iopub.status.busy": "2021-11-29T02:08:54.405421Z",
          "iopub.execute_input": "2021-11-29T02:08:54.406364Z",
          "iopub.status.idle": "2021-11-29T02:08:54.496914Z",
          "shell.execute_reply.started": "2021-11-29T02:08:54.406329Z",
          "shell.execute_reply": "2021-11-29T02:08:54.496186Z"
        },
        "trusted": true,
        "id": "oUEj-onJwpYH"
      },
      "source": [
        "# Reducimos el tamaño de nuestra Red Neuronal porque es más fácil trabajar en 2 dimensiones que en 'n' dimensiones\n",
        "x_train = train_data.reshape((60000,28*28))\n",
        "x_train = x_train.astype('float32')/255\n",
        "\n",
        "x_test = test_data.reshape((10000,28*28))\n",
        "x_test = x_test.astype('float32')/255\n",
        "\n",
        "y_train = to_categorical(train_labels)\n",
        "y_test = to_categorical(test_labels)"
      ],
      "execution_count": 10,
      "outputs": []
    },
    {
      "cell_type": "code",
      "metadata": {
        "execution": {
          "iopub.status.busy": "2021-11-29T02:08:54.497915Z",
          "iopub.execute_input": "2021-11-29T02:08:54.49812Z",
          "iopub.status.idle": "2021-11-29T02:08:54.50569Z",
          "shell.execute_reply.started": "2021-11-29T02:08:54.498095Z",
          "shell.execute_reply": "2021-11-29T02:08:54.504793Z"
        },
        "trusted": true,
        "colab": {
          "base_uri": "https://localhost:8080/",
          "height": 55
        },
        "id": "-w2Ui3tuwpYH",
        "outputId": "c49e4386-efb9-4377-825a-ae95892c642d"
      },
      "source": [
        "display(train_labels[0])\n",
        "display(y_train[0])"
      ],
      "execution_count": 11,
      "outputs": [
        {
          "output_type": "display_data",
          "data": {
            "text/plain": [
              "5"
            ]
          },
          "metadata": {}
        },
        {
          "output_type": "display_data",
          "data": {
            "text/plain": [
              "array([0., 0., 0., 0., 0., 1., 0., 0., 0., 0.], dtype=float32)"
            ]
          },
          "metadata": {}
        }
      ]
    },
    {
      "cell_type": "markdown",
      "metadata": {
        "id": "ha2wPK_owpYJ"
      },
      "source": [
        "# 6. Entrenando el modelo"
      ]
    },
    {
      "cell_type": "code",
      "metadata": {
        "execution": {
          "iopub.status.busy": "2021-11-29T02:08:54.506826Z",
          "iopub.execute_input": "2021-11-29T02:08:54.507092Z",
          "iopub.status.idle": "2021-11-29T02:09:06.767549Z",
          "shell.execute_reply.started": "2021-11-29T02:08:54.507054Z",
          "shell.execute_reply": "2021-11-29T02:09:06.766764Z"
        },
        "trusted": true,
        "colab": {
          "base_uri": "https://localhost:8080/"
        },
        "id": "83TN6zQhwpYK",
        "outputId": "9865fa7a-a065-4578-9826-275d1256a0e4"
      },
      "source": [
        "# Entrenando\n",
        "model.fit(x_train, y_train, epochs=5, batch_size=128)"
      ],
      "execution_count": 12,
      "outputs": [
        {
          "output_type": "stream",
          "name": "stdout",
          "text": [
            "Epoch 1/5\n",
            "469/469 [==============================] - 5s 10ms/step - loss: 0.2583 - accuracy: 0.9257\n",
            "Epoch 2/5\n",
            "469/469 [==============================] - 5s 10ms/step - loss: 0.1048 - accuracy: 0.9693\n",
            "Epoch 3/5\n",
            "469/469 [==============================] - 5s 10ms/step - loss: 0.0686 - accuracy: 0.9795\n",
            "Epoch 4/5\n",
            "469/469 [==============================] - 5s 10ms/step - loss: 0.0506 - accuracy: 0.9849\n",
            "Epoch 5/5\n",
            "469/469 [==============================] - 5s 10ms/step - loss: 0.0380 - accuracy: 0.9884\n"
          ]
        },
        {
          "output_type": "execute_result",
          "data": {
            "text/plain": [
              "<keras.callbacks.History at 0x7f6087221a50>"
            ]
          },
          "metadata": {},
          "execution_count": 12
        }
      ]
    },
    {
      "cell_type": "markdown",
      "metadata": {
        "id": "T9gLd5-gwpYL"
      },
      "source": [
        "# 7. Evaluando sobre los datos de test"
      ]
    },
    {
      "cell_type": "code",
      "metadata": {
        "execution": {
          "iopub.status.busy": "2021-11-29T02:09:06.770536Z",
          "iopub.execute_input": "2021-11-29T02:09:06.770756Z",
          "iopub.status.idle": "2021-11-29T02:09:07.389425Z",
          "shell.execute_reply.started": "2021-11-29T02:09:06.770728Z",
          "shell.execute_reply": "2021-11-29T02:09:07.388454Z"
        },
        "trusted": true,
        "colab": {
          "base_uri": "https://localhost:8080/"
        },
        "id": "zR8Pg24JwpYL",
        "outputId": "017afc86-b598-4ba9-e548-a522d99a549a"
      },
      "source": [
        "# Evaluamos el modelo\n",
        "model.evaluate(x_test,y_test)"
      ],
      "execution_count": 13,
      "outputs": [
        {
          "output_type": "stream",
          "name": "stdout",
          "text": [
            "313/313 [==============================] - 1s 3ms/step - loss: 0.0649 - accuracy: 0.9802\n"
          ]
        },
        {
          "output_type": "execute_result",
          "data": {
            "text/plain": [
              "[0.06493867188692093, 0.9801999926567078]"
            ]
          },
          "metadata": {},
          "execution_count": 13
        }
      ]
    }
  ]
}