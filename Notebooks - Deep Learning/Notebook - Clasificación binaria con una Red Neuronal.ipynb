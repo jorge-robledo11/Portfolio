{
  "nbformat": 4,
  "nbformat_minor": 0,
  "metadata": {
    "kernelspec": {
      "language": "python",
      "display_name": "Python 3",
      "name": "python3"
    },
    "language_info": {
      "pygments_lexer": "ipython3",
      "nbconvert_exporter": "python",
      "version": "3.6.4",
      "file_extension": ".py",
      "codemirror_mode": {
        "name": "ipython",
        "version": 3
      },
      "name": "python",
      "mimetype": "text/x-python"
    },
    "colab": {
      "name": "5. Clasificacion Binaria.ipynb",
      "provenance": []
    },
    "accelerator": "TPU"
  },
  "cells": [
    {
      "cell_type": "markdown",
      "metadata": {
        "_uuid": "277421df-42f1-4b39-812d-fb0da366ada1",
        "_cell_guid": "68aa0ed4-e257-4f3a-a5d2-4506bce7acbb",
        "trusted": true,
        "id": "UnKHMRepyKB2"
      },
      "source": [
        "# 1. Configuración Inicial"
      ]
    },
    {
      "cell_type": "code",
      "metadata": {
        "_uuid": "171ed88b-736d-439c-b9f1-91ba2c87f803",
        "_cell_guid": "fa79ab80-f642-40d9-a7d5-301f25485da7",
        "jupyter": {
          "outputs_hidden": false
        },
        "execution": {
          "iopub.status.busy": "2021-11-29T08:56:54.109227Z",
          "iopub.execute_input": "2021-11-29T08:56:54.110403Z",
          "iopub.status.idle": "2021-11-29T08:56:59.784227Z",
          "shell.execute_reply.started": "2021-11-29T08:56:54.110134Z",
          "shell.execute_reply": "2021-11-29T08:56:59.78335Z"
        },
        "trusted": true,
        "id": "LRV3XEjRyKB6"
      },
      "source": [
        "from keras.datasets import imdb\n",
        "from keras import models, layers, optimizers\n",
        "import numpy as np"
      ],
      "execution_count": 1,
      "outputs": []
    },
    {
      "cell_type": "markdown",
      "metadata": {
        "_uuid": "45f467ea-2f19-4a31-8c25-b9e669e64774",
        "_cell_guid": "dbd5e480-c036-48a8-a8db-45d262987045",
        "trusted": true,
        "id": "SMgvvT_1yKB-"
      },
      "source": [
        "# 2. Cargamos los datos de imdb"
      ]
    },
    {
      "cell_type": "code",
      "metadata": {
        "_uuid": "195d021c-a7b9-4a70-a217-d299b4783db5",
        "_cell_guid": "fb59ad84-9e9c-487f-8ba4-0089bf3c099a",
        "jupyter": {
          "outputs_hidden": false
        },
        "execution": {
          "iopub.status.busy": "2021-11-29T08:56:59.787702Z",
          "iopub.execute_input": "2021-11-29T08:56:59.787932Z",
          "iopub.status.idle": "2021-11-29T08:57:06.633386Z",
          "shell.execute_reply.started": "2021-11-29T08:56:59.787904Z",
          "shell.execute_reply": "2021-11-29T08:57:06.632484Z"
        },
        "trusted": true,
        "colab": {
          "base_uri": "https://localhost:8080/"
        },
        "id": "aTongEC9yKCB",
        "outputId": "7041efc4-bb30-42e1-88fb-f4a9cf637830"
      },
      "source": [
        "(train_data, train_labels), (test_data, test_labels) = imdb.load_data(num_words=10000)"
      ],
      "execution_count": 2,
      "outputs": [
        {
          "output_type": "stream",
          "name": "stdout",
          "text": [
            "Downloading data from https://storage.googleapis.com/tensorflow/tf-keras-datasets/imdb.npz\n",
            "17465344/17464789 [==============================] - 0s 0us/step\n",
            "17473536/17464789 [==============================] - 0s 0us/step\n"
          ]
        }
      ]
    },
    {
      "cell_type": "code",
      "metadata": {
        "_uuid": "dcec3337-8710-4df2-b74c-f22df13229f1",
        "_cell_guid": "99411886-52bd-4755-aba5-da638d4b59e0",
        "jupyter": {
          "outputs_hidden": false
        },
        "execution": {
          "iopub.status.busy": "2021-11-29T08:57:06.634625Z",
          "iopub.execute_input": "2021-11-29T08:57:06.63483Z",
          "iopub.status.idle": "2021-11-29T08:57:07.120912Z",
          "shell.execute_reply.started": "2021-11-29T08:57:06.634805Z",
          "shell.execute_reply": "2021-11-29T08:57:07.120212Z"
        },
        "trusted": true,
        "colab": {
          "base_uri": "https://localhost:8080/"
        },
        "id": "r7JYuLtJyKCC",
        "outputId": "43e2eba1-ee77-4e31-c68d-ae059d77a7ad"
      },
      "source": [
        "word_index = imdb.get_word_index()\n",
        "word_index = dict([(value,key) for (key,value) in word_index.items()])"
      ],
      "execution_count": 3,
      "outputs": [
        {
          "output_type": "stream",
          "name": "stdout",
          "text": [
            "Downloading data from https://storage.googleapis.com/tensorflow/tf-keras-datasets/imdb_word_index.json\n",
            "1646592/1641221 [==============================] - 0s 0us/step\n",
            "1654784/1641221 [==============================] - 0s 0us/step\n"
          ]
        }
      ]
    },
    {
      "cell_type": "code",
      "metadata": {
        "_uuid": "f5b5c8f0-7928-4643-9eb9-626901a93583",
        "_cell_guid": "66799291-4d0f-46b9-8c8d-6102aa8935e1",
        "_kg_hide-output": true,
        "_kg_hide-input": true,
        "jupyter": {
          "outputs_hidden": false
        },
        "execution": {
          "iopub.status.busy": "2021-11-29T08:57:07.122178Z",
          "iopub.execute_input": "2021-11-29T08:57:07.122597Z",
          "iopub.status.idle": "2021-11-29T08:57:07.156703Z",
          "shell.execute_reply.started": "2021-11-29T08:57:07.122566Z",
          "shell.execute_reply": "2021-11-29T08:57:07.156086Z"
        },
        "trusted": true,
        "colab": {
          "base_uri": "https://localhost:8080/"
        },
        "id": "zzRfHlVKyKCF",
        "outputId": "ff690f22-0aa3-4247-ed18-0f368b74000d"
      },
      "source": [
        "for i in train_data[0]:\n",
        "    print(word_index.get( i - 3))"
      ],
      "execution_count": 4,
      "outputs": [
        {
          "output_type": "stream",
          "name": "stdout",
          "text": [
            "None\n",
            "this\n",
            "film\n",
            "was\n",
            "just\n",
            "brilliant\n",
            "casting\n",
            "location\n",
            "scenery\n",
            "story\n",
            "direction\n",
            "everyone's\n",
            "really\n",
            "suited\n",
            "the\n",
            "part\n",
            "they\n",
            "played\n",
            "and\n",
            "you\n",
            "could\n",
            "just\n",
            "imagine\n",
            "being\n",
            "there\n",
            "robert\n",
            "None\n",
            "is\n",
            "an\n",
            "amazing\n",
            "actor\n",
            "and\n",
            "now\n",
            "the\n",
            "same\n",
            "being\n",
            "director\n",
            "None\n",
            "father\n",
            "came\n",
            "from\n",
            "the\n",
            "same\n",
            "scottish\n",
            "island\n",
            "as\n",
            "myself\n",
            "so\n",
            "i\n",
            "loved\n",
            "the\n",
            "fact\n",
            "there\n",
            "was\n",
            "a\n",
            "real\n",
            "connection\n",
            "with\n",
            "this\n",
            "film\n",
            "the\n",
            "witty\n",
            "remarks\n",
            "throughout\n",
            "the\n",
            "film\n",
            "were\n",
            "great\n",
            "it\n",
            "was\n",
            "just\n",
            "brilliant\n",
            "so\n",
            "much\n",
            "that\n",
            "i\n",
            "bought\n",
            "the\n",
            "film\n",
            "as\n",
            "soon\n",
            "as\n",
            "it\n",
            "was\n",
            "released\n",
            "for\n",
            "None\n",
            "and\n",
            "would\n",
            "recommend\n",
            "it\n",
            "to\n",
            "everyone\n",
            "to\n",
            "watch\n",
            "and\n",
            "the\n",
            "fly\n",
            "fishing\n",
            "was\n",
            "amazing\n",
            "really\n",
            "cried\n",
            "at\n",
            "the\n",
            "end\n",
            "it\n",
            "was\n",
            "so\n",
            "sad\n",
            "and\n",
            "you\n",
            "know\n",
            "what\n",
            "they\n",
            "say\n",
            "if\n",
            "you\n",
            "cry\n",
            "at\n",
            "a\n",
            "film\n",
            "it\n",
            "must\n",
            "have\n",
            "been\n",
            "good\n",
            "and\n",
            "this\n",
            "definitely\n",
            "was\n",
            "also\n",
            "None\n",
            "to\n",
            "the\n",
            "two\n",
            "little\n",
            "boy's\n",
            "that\n",
            "played\n",
            "the\n",
            "None\n",
            "of\n",
            "norman\n",
            "and\n",
            "paul\n",
            "they\n",
            "were\n",
            "just\n",
            "brilliant\n",
            "children\n",
            "are\n",
            "often\n",
            "left\n",
            "out\n",
            "of\n",
            "the\n",
            "None\n",
            "list\n",
            "i\n",
            "think\n",
            "because\n",
            "the\n",
            "stars\n",
            "that\n",
            "play\n",
            "them\n",
            "all\n",
            "grown\n",
            "up\n",
            "are\n",
            "such\n",
            "a\n",
            "big\n",
            "profile\n",
            "for\n",
            "the\n",
            "whole\n",
            "film\n",
            "but\n",
            "these\n",
            "children\n",
            "are\n",
            "amazing\n",
            "and\n",
            "should\n",
            "be\n",
            "praised\n",
            "for\n",
            "what\n",
            "they\n",
            "have\n",
            "done\n",
            "don't\n",
            "you\n",
            "think\n",
            "the\n",
            "whole\n",
            "story\n",
            "was\n",
            "so\n",
            "lovely\n",
            "because\n",
            "it\n",
            "was\n",
            "true\n",
            "and\n",
            "was\n",
            "someone's\n",
            "life\n",
            "after\n",
            "all\n",
            "that\n",
            "was\n",
            "shared\n",
            "with\n",
            "us\n",
            "all\n"
          ]
        }
      ]
    },
    {
      "cell_type": "markdown",
      "metadata": {
        "_uuid": "f1d000a0-7e70-4341-94f6-97e1c72fb5ff",
        "_cell_guid": "bad58327-b90a-4912-b39d-cb5d58830452",
        "trusted": true,
        "id": "VW3_mQBcyKCH"
      },
      "source": [
        "# 3. Función de one-hot encoding - Vectorizar palabras"
      ]
    },
    {
      "cell_type": "code",
      "metadata": {
        "_uuid": "a78a93a0-57f7-4367-9af0-c079a000bf93",
        "_cell_guid": "a764cf35-6de1-451a-8417-f4da4c2fcc32",
        "jupyter": {
          "outputs_hidden": false
        },
        "execution": {
          "iopub.status.busy": "2021-11-29T08:57:07.158501Z",
          "iopub.execute_input": "2021-11-29T08:57:07.158693Z",
          "iopub.status.idle": "2021-11-29T08:57:07.163164Z",
          "shell.execute_reply.started": "2021-11-29T08:57:07.158669Z",
          "shell.execute_reply": "2021-11-29T08:57:07.162393Z"
        },
        "trusted": true,
        "id": "ryQg3UKmyKCI"
      },
      "source": [
        "# Vectorizamos las palabras\n",
        "def vectorizar(sequences, dim=10000):\n",
        "    \n",
        "    restults = np.zeros((len(sequences),dim))\n",
        "    \n",
        "    for i, sequences in enumerate(sequences):\n",
        "        restults[i,sequences]=1\n",
        "    \n",
        "    return restults"
      ],
      "execution_count": 5,
      "outputs": []
    },
    {
      "cell_type": "markdown",
      "metadata": {
        "_uuid": "785d9d03-88e4-4f23-b0c2-19ecda4e9733",
        "_cell_guid": "2660f24a-281b-4020-a250-a72a659107ef",
        "trusted": true,
        "id": "Tft6cnEPyKCL"
      },
      "source": [
        "# 4. Transformamos los datos"
      ]
    },
    {
      "cell_type": "code",
      "metadata": {
        "_uuid": "ab3741c9-9d2a-4934-aa77-71839f1328be",
        "_cell_guid": "5eb933c6-afc6-43a9-8e2e-ad69e3f8440d",
        "jupyter": {
          "outputs_hidden": false
        },
        "execution": {
          "iopub.status.busy": "2021-11-29T08:57:07.164193Z",
          "iopub.execute_input": "2021-11-29T08:57:07.164413Z",
          "iopub.status.idle": "2021-11-29T08:57:10.111692Z",
          "shell.execute_reply.started": "2021-11-29T08:57:07.164386Z",
          "shell.execute_reply": "2021-11-29T08:57:10.11077Z"
        },
        "trusted": true,
        "id": "qPlyms9HyKCO"
      },
      "source": [
        "X_train = vectorizar(train_data)\n",
        "X_test = vectorizar(test_data)\n",
        "\n",
        "y_train = np.asarray(train_labels).astype('float32')\n",
        "y_test = np.asarray(test_labels).astype('float32')"
      ],
      "execution_count": 6,
      "outputs": []
    },
    {
      "cell_type": "markdown",
      "metadata": {
        "_uuid": "28904a15-a517-4b3e-b8d7-246f275c5d48",
        "_cell_guid": "119e8ea2-5301-4c85-9559-07e15e791e90",
        "trusted": true,
        "id": "tIUrlZ8uyKCQ"
      },
      "source": [
        "# 5. Creamos el modelo"
      ]
    },
    {
      "cell_type": "code",
      "metadata": {
        "_uuid": "fefda63a-512c-4ed3-876f-891a2346d5be",
        "_cell_guid": "c108a9f0-f365-44d7-8f01-81378069f693",
        "jupyter": {
          "outputs_hidden": false
        },
        "execution": {
          "iopub.status.busy": "2021-11-29T08:57:10.11302Z",
          "iopub.execute_input": "2021-11-29T08:57:10.113274Z",
          "iopub.status.idle": "2021-11-29T08:57:10.241446Z",
          "shell.execute_reply.started": "2021-11-29T08:57:10.113242Z",
          "shell.execute_reply": "2021-11-29T08:57:10.240594Z"
        },
        "trusted": true,
        "id": "k7Wl8VaWyKCS"
      },
      "source": [
        "# Instanciamos el modelo\n",
        "model = models.Sequential()\n",
        "\n",
        "# Agregamos las capas\n",
        "model.add(layers.Dense(16, activation='relu', input_shape=(10000,)))\n",
        "model.add(layers.Dense(16, activation='relu'))\n",
        "\n",
        "# Nuestra capa de salida es una Sigmoid porque tenemos un problema de clasificación binaria\n",
        "model.add(layers.Dense(1, activation='sigmoid'))"
      ],
      "execution_count": 7,
      "outputs": []
    },
    {
      "cell_type": "markdown",
      "metadata": {
        "_uuid": "bbfceb15-77b9-46bc-b28c-303b2aa01bdb",
        "_cell_guid": "9f266081-09b0-45b8-9757-546e93e15fb7",
        "trusted": true,
        "id": "ITjHf_SkyKCU"
      },
      "source": [
        "# 6. Compilamos el modelo"
      ]
    },
    {
      "cell_type": "code",
      "metadata": {
        "_uuid": "354e3cb3-ba53-4202-a245-d34b08e2ea6c",
        "_cell_guid": "853131f3-e214-4ada-baa3-3c5b3d8268b0",
        "jupyter": {
          "outputs_hidden": false
        },
        "execution": {
          "iopub.status.busy": "2021-11-29T08:57:10.242626Z",
          "iopub.execute_input": "2021-11-29T08:57:10.243381Z",
          "iopub.status.idle": "2021-11-29T08:57:10.254916Z",
          "shell.execute_reply.started": "2021-11-29T08:57:10.243346Z",
          "shell.execute_reply": "2021-11-29T08:57:10.254195Z"
        },
        "trusted": true,
        "id": "eReP0QxXyKCV"
      },
      "source": [
        "# Compilamos\n",
        "model.compile(optimizer='rmsprop',\n",
        "              loss='binary_crossentropy',\n",
        "             metrics=['accuracy'])"
      ],
      "execution_count": 8,
      "outputs": []
    },
    {
      "cell_type": "markdown",
      "metadata": {
        "_uuid": "2bf1cf1c-ccdf-43a5-a131-4e7e4ce695d1",
        "_cell_guid": "d121eaa4-9062-4caf-9ba3-48f77e8b9966",
        "trusted": true,
        "id": "FiAnotUdyKCV"
      },
      "source": [
        "# 7. Validamos el modelo"
      ]
    },
    {
      "cell_type": "code",
      "metadata": {
        "_uuid": "8457b144-d1e5-471f-9120-80f8de43bde9",
        "_cell_guid": "4fbf26a1-bee0-4a17-984b-7bea696af07e",
        "jupyter": {
          "outputs_hidden": false
        },
        "execution": {
          "iopub.status.busy": "2021-11-29T08:57:10.25599Z",
          "iopub.execute_input": "2021-11-29T08:57:10.256682Z",
          "iopub.status.idle": "2021-11-29T08:57:10.263823Z",
          "shell.execute_reply.started": "2021-11-29T08:57:10.256635Z",
          "shell.execute_reply": "2021-11-29T08:57:10.263058Z"
        },
        "trusted": true,
        "id": "r3mSRn2UyKCW"
      },
      "source": [
        "X_val = X_train[:10000]\n",
        "partial_X_train = X_train[10000:]\n",
        "\n",
        "y_val = y_train[:10000]\n",
        "partial_y_train =  y_train[10000:]"
      ],
      "execution_count": 9,
      "outputs": []
    },
    {
      "cell_type": "markdown",
      "metadata": {
        "_uuid": "67433ac5-f6fb-4371-ada1-aecea538f4d7",
        "_cell_guid": "3a368693-3c66-4701-b0a8-fb27c2c49fa5",
        "trusted": true,
        "id": "NnjmrDd7yKCW"
      },
      "source": [
        "# 8. Entrenamos el modelo"
      ]
    },
    {
      "cell_type": "code",
      "metadata": {
        "_uuid": "bebc08c9-2430-40ef-a47b-3f73a0bd53c5",
        "_cell_guid": "7e474ecf-b8ff-467d-8589-e5b22e9608de",
        "jupyter": {
          "outputs_hidden": false
        },
        "execution": {
          "iopub.status.busy": "2021-11-29T08:57:10.264761Z",
          "iopub.execute_input": "2021-11-29T08:57:10.265336Z",
          "iopub.status.idle": "2021-11-29T08:57:22.151275Z",
          "shell.execute_reply.started": "2021-11-29T08:57:10.265305Z",
          "shell.execute_reply": "2021-11-29T08:57:22.150537Z"
        },
        "trusted": true,
        "colab": {
          "base_uri": "https://localhost:8080/"
        },
        "id": "fkMhQuq-yKCZ",
        "outputId": "f0324248-8371-43b7-985e-d205c4cb2cb9"
      },
      "source": [
        "history = model.fit(partial_X_train,\n",
        "                   partial_y_train,\n",
        "                   epochs=20,\n",
        "                   batch_size=512,\n",
        "                   validation_data=(X_val,y_val))"
      ],
      "execution_count": 10,
      "outputs": [
        {
          "output_type": "stream",
          "name": "stdout",
          "text": [
            "Epoch 1/20\n",
            "30/30 [==============================] - 2s 47ms/step - loss: 0.5205 - accuracy: 0.7798 - val_loss: 0.3916 - val_accuracy: 0.8712\n",
            "Epoch 2/20\n",
            "30/30 [==============================] - 1s 39ms/step - loss: 0.3139 - accuracy: 0.9019 - val_loss: 0.3114 - val_accuracy: 0.8858\n",
            "Epoch 3/20\n",
            "30/30 [==============================] - 1s 35ms/step - loss: 0.2271 - accuracy: 0.9269 - val_loss: 0.2885 - val_accuracy: 0.8876\n",
            "Epoch 4/20\n",
            "30/30 [==============================] - 1s 38ms/step - loss: 0.1783 - accuracy: 0.9426 - val_loss: 0.2890 - val_accuracy: 0.8836\n",
            "Epoch 5/20\n",
            "30/30 [==============================] - 1s 35ms/step - loss: 0.1470 - accuracy: 0.9525 - val_loss: 0.2831 - val_accuracy: 0.8877\n",
            "Epoch 6/20\n",
            "30/30 [==============================] - 1s 35ms/step - loss: 0.1198 - accuracy: 0.9635 - val_loss: 0.2915 - val_accuracy: 0.8857\n",
            "Epoch 7/20\n",
            "30/30 [==============================] - 1s 36ms/step - loss: 0.1011 - accuracy: 0.9700 - val_loss: 0.3086 - val_accuracy: 0.8819\n",
            "Epoch 8/20\n",
            "30/30 [==============================] - 1s 36ms/step - loss: 0.0833 - accuracy: 0.9749 - val_loss: 0.3459 - val_accuracy: 0.8805\n",
            "Epoch 9/20\n",
            "30/30 [==============================] - 1s 35ms/step - loss: 0.0700 - accuracy: 0.9806 - val_loss: 0.3477 - val_accuracy: 0.8818\n",
            "Epoch 10/20\n",
            "30/30 [==============================] - 1s 35ms/step - loss: 0.0576 - accuracy: 0.9856 - val_loss: 0.3756 - val_accuracy: 0.8768\n",
            "Epoch 11/20\n",
            "30/30 [==============================] - 1s 38ms/step - loss: 0.0472 - accuracy: 0.9879 - val_loss: 0.4096 - val_accuracy: 0.8784\n",
            "Epoch 12/20\n",
            "30/30 [==============================] - 1s 35ms/step - loss: 0.0371 - accuracy: 0.9924 - val_loss: 0.4580 - val_accuracy: 0.8720\n",
            "Epoch 13/20\n",
            "30/30 [==============================] - 1s 35ms/step - loss: 0.0320 - accuracy: 0.9921 - val_loss: 0.4631 - val_accuracy: 0.8707\n",
            "Epoch 14/20\n",
            "30/30 [==============================] - 1s 34ms/step - loss: 0.0247 - accuracy: 0.9947 - val_loss: 0.4884 - val_accuracy: 0.8706\n",
            "Epoch 15/20\n",
            "30/30 [==============================] - 1s 35ms/step - loss: 0.0167 - accuracy: 0.9983 - val_loss: 0.5434 - val_accuracy: 0.8657\n",
            "Epoch 16/20\n",
            "30/30 [==============================] - 1s 35ms/step - loss: 0.0164 - accuracy: 0.9979 - val_loss: 0.5675 - val_accuracy: 0.8667\n",
            "Epoch 17/20\n",
            "30/30 [==============================] - 1s 35ms/step - loss: 0.0123 - accuracy: 0.9986 - val_loss: 0.5960 - val_accuracy: 0.8697\n",
            "Epoch 18/20\n",
            "30/30 [==============================] - 1s 36ms/step - loss: 0.0116 - accuracy: 0.9976 - val_loss: 0.6327 - val_accuracy: 0.8682\n",
            "Epoch 19/20\n",
            "30/30 [==============================] - 1s 35ms/step - loss: 0.0052 - accuracy: 0.9999 - val_loss: 0.6639 - val_accuracy: 0.8671\n",
            "Epoch 20/20\n",
            "30/30 [==============================] - 1s 34ms/step - loss: 0.0070 - accuracy: 0.9989 - val_loss: 0.7028 - val_accuracy: 0.8654\n"
          ]
        }
      ]
    },
    {
      "cell_type": "markdown",
      "metadata": {
        "_uuid": "993a88ab-708d-4d82-999d-bf8d4b52d643",
        "_cell_guid": "836eaf23-3790-4ddd-8a78-7dfb4707b4e8",
        "trusted": true,
        "id": "fOX_azxdyKCc"
      },
      "source": [
        "# 9. Analizamos el modelo"
      ]
    },
    {
      "cell_type": "code",
      "metadata": {
        "_uuid": "b878f7de-dc12-4f75-a7e5-7e70b080636b",
        "_cell_guid": "d23811d0-2e9b-4de2-aa8d-1dcae330b1c8",
        "jupyter": {
          "outputs_hidden": false
        },
        "execution": {
          "iopub.status.busy": "2021-11-29T08:57:22.152578Z",
          "iopub.execute_input": "2021-11-29T08:57:22.15277Z",
          "iopub.status.idle": "2021-11-29T08:57:22.41613Z",
          "shell.execute_reply.started": "2021-11-29T08:57:22.152747Z",
          "shell.execute_reply": "2021-11-29T08:57:22.415273Z"
        },
        "trusted": true,
        "colab": {
          "base_uri": "https://localhost:8080/",
          "height": 592
        },
        "id": "30ptJWxxyKCd",
        "outputId": "fad5fe46-5629-4bed-ebbc-659e970c5a70"
      },
      "source": [
        "import matplotlib.pyplot as plt \n",
        "\n",
        "history_dict = history.history\n",
        "loss_values = history_dict['loss']\n",
        "val_loss_values = history_dict['val_loss']\n",
        "\n",
        "fig = plt.figure(figsize=(10,10))\n",
        "epoch = range(1,len(loss_values)+1)\n",
        "plt.plot(epoch,loss_values, 'o',label='training')\n",
        "plt.plot(epoch,val_loss_values, '--',label='validation')\n",
        "plt.legend()\n",
        "plt.show();"
      ],
      "execution_count": 11,
      "outputs": [
        {
          "output_type": "display_data",
          "data": {
            "image/png": "[encoded data removed]",
            "text/plain": [
              "<Figure size 720x720 with 1 Axes>"
            ]
          },
          "metadata": {
            "needs_background": "light"
          }
        }
      ]
    },
    {
      "cell_type": "markdown",
      "metadata": {
        "_uuid": "b631ab06-0790-49c0-b6d0-2d077971f4c7",
        "_cell_guid": "48287b71-4aa2-4c52-9519-898555046aa5",
        "trusted": true,
        "id": "cjwfV0gPyKCd"
      },
      "source": [
        "# 10. Evaluamos el modelo"
      ]
    },
    {
      "cell_type": "code",
      "metadata": {
        "_uuid": "79412f3d-67e0-4947-a0ec-2bef7a28dc06",
        "_cell_guid": "a29a1be8-f148-4bc6-b005-f449289dbae8",
        "jupyter": {
          "outputs_hidden": false
        },
        "execution": {
          "iopub.status.busy": "2021-11-29T08:57:22.417201Z",
          "iopub.execute_input": "2021-11-29T08:57:22.417419Z",
          "iopub.status.idle": "2021-11-29T08:57:25.255971Z",
          "shell.execute_reply.started": "2021-11-29T08:57:22.417393Z",
          "shell.execute_reply": "2021-11-29T08:57:25.255Z"
        },
        "trusted": true,
        "colab": {
          "base_uri": "https://localhost:8080/"
        },
        "id": "h8frsxgQyKCe",
        "outputId": "2298238c-bcc2-46f5-ca88-fc1504027c82"
      },
      "source": [
        "model.evaluate(X_test, y_test)"
      ],
      "execution_count": 12,
      "outputs": [
        {
          "output_type": "stream",
          "name": "stdout",
          "text": [
            "782/782 [==============================] - 2s 2ms/step - loss: 0.7628 - accuracy: 0.8522\n"
          ]
        },
        {
          "output_type": "execute_result",
          "data": {
            "text/plain": [
              "[0.7628476619720459, 0.8521599769592285]"
            ]
          },
          "metadata": {},
          "execution_count": 12
        }
      ]
    },
    {
      "cell_type": "markdown",
      "metadata": {
        "_uuid": "2eec214d-9f06-4e9a-a373-71c58cfd37bb",
        "_cell_guid": "a1aca60e-e5a8-49ef-82fb-ea867d9ef623",
        "trusted": true,
        "id": "v4CS3A48yKCe"
      },
      "source": [
        "# 11. Predicciones"
      ]
    },
    {
      "cell_type": "code",
      "metadata": {
        "_uuid": "18535764-a36d-48cc-b3e1-7fa17aebf079",
        "_cell_guid": "0cb9684e-1811-4f95-bf2c-06d53ddfec10",
        "jupyter": {
          "outputs_hidden": false
        },
        "execution": {
          "iopub.status.busy": "2021-11-29T08:57:25.257364Z",
          "iopub.execute_input": "2021-11-29T08:57:25.257659Z",
          "iopub.status.idle": "2021-11-29T08:57:27.531648Z",
          "shell.execute_reply.started": "2021-11-29T08:57:25.257623Z",
          "shell.execute_reply": "2021-11-29T08:57:27.530672Z"
        },
        "trusted": true,
        "colab": {
          "base_uri": "https://localhost:8080/",
          "height": 36
        },
        "id": "q2H3Oj9GyKCf",
        "outputId": "06163afc-6337-489d-f76b-e73a1798f200"
      },
      "source": [
        "predictions = model.predict(X_test)\n",
        "display(predictions[1])"
      ],
      "execution_count": 13,
      "outputs": [
        {
          "output_type": "display_data",
          "data": {
            "text/plain": [
              "array([1.], dtype=float32)"
            ]
          },
          "metadata": {}
        }
      ]
    },
    {
      "cell_type": "markdown",
      "metadata": {
        "_uuid": "8c604405-07f0-472e-89e3-f7e061f79e21",
        "_cell_guid": "2fde878f-dcb6-4d8b-b0a9-98f5f7ffa99a",
        "trusted": true,
        "id": "47frKsUtyKCg"
      },
      "source": [
        "# 12. Creamos un modelo menos complejo"
      ]
    },
    {
      "cell_type": "code",
      "metadata": {
        "_uuid": "bc78b8d1-3179-4822-a1d0-d635b116cbcb",
        "_cell_guid": "b6a37730-a6a7-4975-9fb4-fe8835cf950b",
        "jupyter": {
          "outputs_hidden": false
        },
        "execution": {
          "iopub.status.busy": "2021-11-29T08:57:27.534119Z",
          "iopub.execute_input": "2021-11-29T08:57:27.53436Z",
          "iopub.status.idle": "2021-11-29T08:57:37.547042Z",
          "shell.execute_reply.started": "2021-11-29T08:57:27.534331Z",
          "shell.execute_reply": "2021-11-29T08:57:37.54633Z"
        },
        "trusted": true,
        "colab": {
          "base_uri": "https://localhost:8080/"
        },
        "id": "_Aff-pLyyKCh",
        "outputId": "ddb6cc3b-0138-4482-d376-3221d4b6ae1d"
      },
      "source": [
        "# Instanciamos el modelo\n",
        "model2 = models.Sequential()\n",
        "\n",
        "# Agregamos las capas\n",
        "model2.add(layers.Dense(4, activation='relu', input_shape=(10000,)))\n",
        "model2.add(layers.Dense(4, activation='relu'))\n",
        "\n",
        "# Nuestra capa de salida es una Sigmoid porque tenemos un problema de clasificación binaria\n",
        "model2.add(layers.Dense(1, activation='sigmoid'))\n",
        "\n",
        "# Compilamos\n",
        "model2.compile(optimizer='rmsprop',\n",
        "              loss='binary_crossentropy',\n",
        "             metrics=['accuracy'])\n",
        "\n",
        "# Entrenamos\n",
        "history2 = model2.fit(partial_X_train,\n",
        "                   partial_y_train,\n",
        "                   epochs=20,\n",
        "                   batch_size=512,\n",
        "                   validation_data=(X_val,y_val))"
      ],
      "execution_count": 14,
      "outputs": [
        {
          "output_type": "stream",
          "name": "stdout",
          "text": [
            "Epoch 1/20\n",
            "30/30 [==============================] - 2s 41ms/step - loss: 0.6342 - accuracy: 0.6470 - val_loss: 0.5845 - val_accuracy: 0.6919\n",
            "Epoch 2/20\n",
            "30/30 [==============================] - 1s 31ms/step - loss: 0.5517 - accuracy: 0.7701 - val_loss: 0.5394 - val_accuracy: 0.7842\n",
            "Epoch 3/20\n",
            "30/30 [==============================] - 1s 32ms/step - loss: 0.5063 - accuracy: 0.8320 - val_loss: 0.5102 - val_accuracy: 0.8202\n",
            "Epoch 4/20\n",
            "30/30 [==============================] - 1s 31ms/step - loss: 0.4722 - accuracy: 0.8657 - val_loss: 0.4941 - val_accuracy: 0.8183\n",
            "Epoch 5/20\n",
            "30/30 [==============================] - 1s 31ms/step - loss: 0.4443 - accuracy: 0.8912 - val_loss: 0.4797 - val_accuracy: 0.8340\n",
            "Epoch 6/20\n",
            "30/30 [==============================] - 1s 32ms/step - loss: 0.4205 - accuracy: 0.9115 - val_loss: 0.4714 - val_accuracy: 0.8409\n",
            "Epoch 7/20\n",
            "30/30 [==============================] - 1s 31ms/step - loss: 0.4004 - accuracy: 0.9231 - val_loss: 0.4558 - val_accuracy: 0.8686\n",
            "Epoch 8/20\n",
            "30/30 [==============================] - 1s 31ms/step - loss: 0.3820 - accuracy: 0.9363 - val_loss: 0.4493 - val_accuracy: 0.8725\n",
            "Epoch 9/20\n",
            "30/30 [==============================] - 1s 33ms/step - loss: 0.3651 - accuracy: 0.9467 - val_loss: 0.4472 - val_accuracy: 0.8711\n",
            "Epoch 10/20\n",
            "30/30 [==============================] - 1s 31ms/step - loss: 0.3493 - accuracy: 0.9538 - val_loss: 0.4477 - val_accuracy: 0.8688\n",
            "Epoch 11/20\n",
            "30/30 [==============================] - 1s 31ms/step - loss: 0.3354 - accuracy: 0.9621 - val_loss: 0.4540 - val_accuracy: 0.8646\n",
            "Epoch 12/20\n",
            "30/30 [==============================] - 1s 30ms/step - loss: 0.3221 - accuracy: 0.9688 - val_loss: 0.4602 - val_accuracy: 0.8597\n",
            "Epoch 13/20\n",
            "30/30 [==============================] - 1s 31ms/step - loss: 0.3099 - accuracy: 0.9744 - val_loss: 0.4688 - val_accuracy: 0.8578\n",
            "Epoch 14/20\n",
            "30/30 [==============================] - 1s 31ms/step - loss: 0.2984 - accuracy: 0.9777 - val_loss: 0.4763 - val_accuracy: 0.8555\n",
            "Epoch 15/20\n",
            "30/30 [==============================] - 1s 31ms/step - loss: 0.2871 - accuracy: 0.9818 - val_loss: 0.4745 - val_accuracy: 0.8601\n",
            "Epoch 16/20\n",
            "30/30 [==============================] - 1s 32ms/step - loss: 0.2776 - accuracy: 0.9833 - val_loss: 0.4747 - val_accuracy: 0.8626\n",
            "Epoch 17/20\n",
            "30/30 [==============================] - 1s 31ms/step - loss: 0.2678 - accuracy: 0.9858 - val_loss: 0.5179 - val_accuracy: 0.8520\n",
            "Epoch 18/20\n",
            "30/30 [==============================] - 1s 31ms/step - loss: 0.2593 - accuracy: 0.9869 - val_loss: 0.5231 - val_accuracy: 0.8538\n",
            "Epoch 19/20\n",
            "30/30 [==============================] - 1s 30ms/step - loss: 0.2505 - accuracy: 0.9882 - val_loss: 0.5457 - val_accuracy: 0.8509\n",
            "Epoch 20/20\n",
            "30/30 [==============================] - 1s 31ms/step - loss: 0.2427 - accuracy: 0.9895 - val_loss: 0.5269 - val_accuracy: 0.8577\n"
          ]
        }
      ]
    },
    {
      "cell_type": "code",
      "metadata": {
        "_uuid": "50323456-6121-453c-a616-5ca16700a2ab",
        "_cell_guid": "3352c0a9-2c61-4a09-acb4-535bacf44293",
        "jupyter": {
          "outputs_hidden": false
        },
        "execution": {
          "iopub.status.busy": "2021-11-29T08:57:37.54811Z",
          "iopub.execute_input": "2021-11-29T08:57:37.548334Z",
          "iopub.status.idle": "2021-11-29T08:57:37.795688Z",
          "shell.execute_reply.started": "2021-11-29T08:57:37.548301Z",
          "shell.execute_reply": "2021-11-29T08:57:37.794799Z"
        },
        "trusted": true,
        "colab": {
          "base_uri": "https://localhost:8080/",
          "height": 592
        },
        "id": "YUrOQ6rLyKCh",
        "outputId": "d1ece19a-0cd7-41c1-a2e6-4c44b6503283"
      },
      "source": [
        "# Gráfica\n",
        "history_dict = history.history\n",
        "loss_values = history_dict['loss']\n",
        "val_loss_values = history_dict['val_loss']\n",
        "val_loss_values2 = history.history['val_loss']\n",
        "\n",
        "fig = plt.figure(figsize=(10,10))\n",
        "epoch = range(1,len(loss_values)+1)\n",
        "plt.plot(epoch,val_loss_values2, 'o',label='Segundo modelo')\n",
        "plt.plot(epoch,val_loss_values, '--',label='Primer modelo')\n",
        "plt.legend()\n",
        "plt.show();"
      ],
      "execution_count": 15,
      "outputs": [
        {
          "output_type": "display_data",
          "data": {
            "image/png": "[encoded data removed]",
            "text/plain": [
              "<Figure size 720x720 with 1 Axes>"
            ]
          },
          "metadata": {
            "needs_background": "light"
          }
        }
      ]
    },
    {
      "cell_type": "markdown",
      "metadata": {
        "_uuid": "0e9820fe-b893-4d59-876b-65cb99e1c5ee",
        "_cell_guid": "4c949327-5742-45ee-a5b6-5c187c31d4b9",
        "trusted": true,
        "id": "F4bTG8M0yKCi"
      },
      "source": [
        "# 13. Modelo con Regularización"
      ]
    },
    {
      "cell_type": "code",
      "metadata": {
        "_uuid": "9b4dd60e-4c64-4b9d-9305-8171d80b850a",
        "_cell_guid": "54510b07-351a-443e-b585-da50276e83a8",
        "jupyter": {
          "outputs_hidden": false
        },
        "execution": {
          "iopub.status.busy": "2021-11-29T08:57:37.796838Z",
          "iopub.execute_input": "2021-11-29T08:57:37.797042Z",
          "iopub.status.idle": "2021-11-29T08:57:37.801158Z",
          "shell.execute_reply.started": "2021-11-29T08:57:37.797017Z",
          "shell.execute_reply": "2021-11-29T08:57:37.800223Z"
        },
        "trusted": true,
        "id": "_w3GUEvayKCi"
      },
      "source": [
        "from keras import regularizers"
      ],
      "execution_count": 16,
      "outputs": []
    },
    {
      "cell_type": "code",
      "metadata": {
        "_uuid": "a5dec13a-7dcf-410e-8e53-95688d4e5306",
        "_cell_guid": "93633a38-1060-4814-b8f1-f3902e4a2850",
        "jupyter": {
          "outputs_hidden": false
        },
        "execution": {
          "iopub.status.busy": "2021-11-29T08:57:37.802704Z",
          "iopub.execute_input": "2021-11-29T08:57:37.803272Z",
          "iopub.status.idle": "2021-11-29T08:57:49.257521Z",
          "shell.execute_reply.started": "2021-11-29T08:57:37.803228Z",
          "shell.execute_reply": "2021-11-29T08:57:49.256659Z"
        },
        "trusted": true,
        "colab": {
          "base_uri": "https://localhost:8080/"
        },
        "id": "_zx6CRHjyKCi",
        "outputId": "0be07437-d878-47c1-d69e-00bcd140a5fc"
      },
      "source": [
        "# Instanciamos el modelo\n",
        "model3 = models.Sequential()\n",
        "\n",
        "# Agregamos las capas\n",
        "model3.add(layers.Dense(16, activation='relu', input_shape=(10000,), kernel_regularizer=regularizers.l2(0.001)))\n",
        "model3.add(layers.Dense(16, activation='relu', kernel_regularizer=regularizers.l2(0.001)))\n",
        "\n",
        "# Nuestra capa de salida es una Sigmoid porque tenemos un problema de clasificación binaria\n",
        "model3.add(layers.Dense(1, activation='sigmoid'))\n",
        "\n",
        "# Compilamos\n",
        "model3.compile(optimizer='rmsprop',\n",
        "              loss='binary_crossentropy',\n",
        "             metrics=['accuracy'])\n",
        "\n",
        "# Entrenamos\n",
        "history3 = model3.fit(partial_X_train,\n",
        "                   partial_y_train,\n",
        "                   epochs=20,\n",
        "                   batch_size=512,\n",
        "                   validation_data=(X_val,y_val))"
      ],
      "execution_count": 17,
      "outputs": [
        {
          "output_type": "stream",
          "name": "stdout",
          "text": [
            "Epoch 1/20\n",
            "30/30 [==============================] - 2s 42ms/step - loss: 0.5452 - accuracy: 0.7885 - val_loss: 0.4392 - val_accuracy: 0.8456\n",
            "Epoch 2/20\n",
            "30/30 [==============================] - 1s 34ms/step - loss: 0.3516 - accuracy: 0.9041 - val_loss: 0.3646 - val_accuracy: 0.8792\n",
            "Epoch 3/20\n",
            "30/30 [==============================] - 1s 33ms/step - loss: 0.2860 - accuracy: 0.9235 - val_loss: 0.3338 - val_accuracy: 0.8903\n",
            "Epoch 4/20\n",
            "30/30 [==============================] - 1s 34ms/step - loss: 0.2527 - accuracy: 0.9336 - val_loss: 0.3354 - val_accuracy: 0.8871\n",
            "Epoch 5/20\n",
            "30/30 [==============================] - 1s 34ms/step - loss: 0.2298 - accuracy: 0.9426 - val_loss: 0.3373 - val_accuracy: 0.8861\n",
            "Epoch 6/20\n",
            "30/30 [==============================] - 1s 34ms/step - loss: 0.2183 - accuracy: 0.9457 - val_loss: 0.3442 - val_accuracy: 0.8835\n",
            "Epoch 7/20\n",
            "30/30 [==============================] - 1s 34ms/step - loss: 0.2030 - accuracy: 0.9553 - val_loss: 0.3781 - val_accuracy: 0.8711\n",
            "Epoch 8/20\n",
            "30/30 [==============================] - 1s 33ms/step - loss: 0.1984 - accuracy: 0.9527 - val_loss: 0.3692 - val_accuracy: 0.8822\n",
            "Epoch 9/20\n",
            "30/30 [==============================] - 1s 34ms/step - loss: 0.1908 - accuracy: 0.9578 - val_loss: 0.3636 - val_accuracy: 0.8813\n",
            "Epoch 10/20\n",
            "30/30 [==============================] - 1s 33ms/step - loss: 0.1825 - accuracy: 0.9627 - val_loss: 0.3729 - val_accuracy: 0.8810\n",
            "Epoch 11/20\n",
            "30/30 [==============================] - 1s 33ms/step - loss: 0.1817 - accuracy: 0.9608 - val_loss: 0.3786 - val_accuracy: 0.8786\n",
            "Epoch 12/20\n",
            "30/30 [==============================] - 1s 34ms/step - loss: 0.1740 - accuracy: 0.9654 - val_loss: 0.3887 - val_accuracy: 0.8797\n",
            "Epoch 13/20\n",
            "30/30 [==============================] - 1s 33ms/step - loss: 0.1731 - accuracy: 0.9643 - val_loss: 0.3978 - val_accuracy: 0.8740\n",
            "Epoch 14/20\n",
            "30/30 [==============================] - 1s 34ms/step - loss: 0.1657 - accuracy: 0.9679 - val_loss: 0.4737 - val_accuracy: 0.8626\n",
            "Epoch 15/20\n",
            "30/30 [==============================] - 1s 35ms/step - loss: 0.1606 - accuracy: 0.9697 - val_loss: 0.4060 - val_accuracy: 0.8775\n",
            "Epoch 16/20\n",
            "30/30 [==============================] - 1s 34ms/step - loss: 0.1656 - accuracy: 0.9639 - val_loss: 0.4135 - val_accuracy: 0.8742\n",
            "Epoch 17/20\n",
            "30/30 [==============================] - 1s 34ms/step - loss: 0.1611 - accuracy: 0.9680 - val_loss: 0.4164 - val_accuracy: 0.8751\n",
            "Epoch 18/20\n",
            "30/30 [==============================] - 1s 34ms/step - loss: 0.1540 - accuracy: 0.9706 - val_loss: 0.4599 - val_accuracy: 0.8708\n",
            "Epoch 19/20\n",
            "30/30 [==============================] - 1s 34ms/step - loss: 0.1470 - accuracy: 0.9755 - val_loss: 0.4500 - val_accuracy: 0.8712\n",
            "Epoch 20/20\n",
            "30/30 [==============================] - 1s 34ms/step - loss: 0.1567 - accuracy: 0.9678 - val_loss: 0.4382 - val_accuracy: 0.8733\n"
          ]
        }
      ]
    },
    {
      "cell_type": "code",
      "metadata": {
        "_uuid": "3a061a24-b344-49c8-b0d4-5fc8ad20a262",
        "_cell_guid": "e6ef6f6c-88bf-413c-8d7e-3485f62ad775",
        "jupyter": {
          "outputs_hidden": false
        },
        "execution": {
          "iopub.status.busy": "2021-11-29T08:57:49.259141Z",
          "iopub.execute_input": "2021-11-29T08:57:49.259511Z",
          "iopub.status.idle": "2021-11-29T08:57:49.501461Z",
          "shell.execute_reply.started": "2021-11-29T08:57:49.259475Z",
          "shell.execute_reply": "2021-11-29T08:57:49.500806Z"
        },
        "trusted": true,
        "colab": {
          "base_uri": "https://localhost:8080/",
          "height": 592
        },
        "id": "Ls7x0TIbyKCi",
        "outputId": "30ca5518-1f1f-4d9b-a5e6-05094149a28a"
      },
      "source": [
        "# Gráfica\n",
        "history_dict = history.history\n",
        "loss_values = history_dict['loss']\n",
        "val_loss_values = history_dict['val_loss']\n",
        "val_loss_values3 = history3.history['val_loss']\n",
        "\n",
        "fig = plt.figure(figsize=(10,10))\n",
        "epoch = range(1,len(loss_values)+1)\n",
        "plt.plot(epoch,val_loss_values3, 'o',label='Tercer modelo')\n",
        "plt.plot(epoch,val_loss_values, '--',label='Primer modelo')\n",
        "plt.legend()\n",
        "plt.show();"
      ],
      "execution_count": 18,
      "outputs": [
        {
          "output_type": "display_data",
          "data": {
            "image/png": "[encoded data removed]",
            "text/plain": [
              "<Figure size 720x720 with 1 Axes>"
            ]
          },
          "metadata": {
            "needs_background": "light"
          }
        }
      ]
    },
    {
      "cell_type": "markdown",
      "metadata": {
        "_uuid": "d493240c-5a88-4e5d-adb5-f1a47d60ddef",
        "_cell_guid": "300f8886-bef8-4117-a118-d9eda3b53ae8",
        "trusted": true,
        "id": "z0msR1NKyKCj"
      },
      "source": [
        "# 14. Modelo con Dropout"
      ]
    },
    {
      "cell_type": "code",
      "metadata": {
        "_uuid": "00a9b491-5a69-4e55-97bf-4b2ad5f04b2a",
        "_cell_guid": "bdd7ad61-491e-47c5-9094-2ff3a638804f",
        "jupyter": {
          "outputs_hidden": false
        },
        "execution": {
          "iopub.status.busy": "2021-11-29T08:57:49.502578Z",
          "iopub.execute_input": "2021-11-29T08:57:49.502934Z",
          "iopub.status.idle": "2021-11-29T08:57:59.390959Z",
          "shell.execute_reply.started": "2021-11-29T08:57:49.502891Z",
          "shell.execute_reply": "2021-11-29T08:57:59.390409Z"
        },
        "trusted": true,
        "colab": {
          "base_uri": "https://localhost:8080/"
        },
        "id": "82qNEk5WyKCj",
        "outputId": "25c8829b-4480-4a8f-e151-e807677ef7ad"
      },
      "source": [
        "# Instanciamos el modelo\n",
        "model4 = models.Sequential()\n",
        "\n",
        "# Agregamos las capas\n",
        "model4.add(layers.Dense(4, activation='relu', input_shape=(10000,)))\n",
        "model4.add(layers.Dropout(0.5))\n",
        "model4.add(layers.Dense(4, activation='relu'))\n",
        "model4.add(layers.Dropout(0.5))\n",
        "\n",
        "# Nuestra capa de salida es una Sigmoid porque tenemos un problema de clasificación binaria\n",
        "model4.add(layers.Dense(1, activation='sigmoid'))\n",
        "\n",
        "# Compilamos\n",
        "model4.compile(optimizer='rmsprop',\n",
        "              loss='binary_crossentropy',\n",
        "             metrics=['accuracy'])\n",
        "\n",
        "# Entrenamos\n",
        "history4 = model4.fit(partial_X_train,\n",
        "                   partial_y_train,\n",
        "                   epochs=20,\n",
        "                   batch_size=512,\n",
        "                   validation_data=(X_val,y_val))"
      ],
      "execution_count": 19,
      "outputs": [
        {
          "output_type": "stream",
          "name": "stdout",
          "text": [
            "Epoch 1/20\n",
            "30/30 [==============================] - 2s 41ms/step - loss: 0.6703 - accuracy: 0.5400 - val_loss: 0.6279 - val_accuracy: 0.8108\n",
            "Epoch 2/20\n",
            "30/30 [==============================] - 1s 31ms/step - loss: 0.6346 - accuracy: 0.5775 - val_loss: 0.5675 - val_accuracy: 0.8505\n",
            "Epoch 3/20\n",
            "30/30 [==============================] - 1s 31ms/step - loss: 0.6109 - accuracy: 0.5975 - val_loss: 0.5334 - val_accuracy: 0.8641\n",
            "Epoch 4/20\n",
            "30/30 [==============================] - 1s 32ms/step - loss: 0.5895 - accuracy: 0.6051 - val_loss: 0.5022 - val_accuracy: 0.8727\n",
            "Epoch 5/20\n",
            "30/30 [==============================] - 1s 32ms/step - loss: 0.5740 - accuracy: 0.6125 - val_loss: 0.4857 - val_accuracy: 0.8735\n",
            "Epoch 6/20\n",
            "30/30 [==============================] - 1s 31ms/step - loss: 0.5575 - accuracy: 0.6208 - val_loss: 0.4704 - val_accuracy: 0.8811\n",
            "Epoch 7/20\n",
            "30/30 [==============================] - 1s 31ms/step - loss: 0.5498 - accuracy: 0.6226 - val_loss: 0.4278 - val_accuracy: 0.8869\n",
            "Epoch 8/20\n",
            "30/30 [==============================] - 1s 31ms/step - loss: 0.5354 - accuracy: 0.6315 - val_loss: 0.4113 - val_accuracy: 0.8876\n",
            "Epoch 9/20\n",
            "30/30 [==============================] - 1s 31ms/step - loss: 0.5270 - accuracy: 0.6341 - val_loss: 0.3875 - val_accuracy: 0.8881\n",
            "Epoch 10/20\n",
            "30/30 [==============================] - 1s 32ms/step - loss: 0.5228 - accuracy: 0.6342 - val_loss: 0.3954 - val_accuracy: 0.8869\n",
            "Epoch 11/20\n",
            "30/30 [==============================] - 1s 31ms/step - loss: 0.5199 - accuracy: 0.6371 - val_loss: 0.3980 - val_accuracy: 0.8854\n",
            "Epoch 12/20\n",
            "30/30 [==============================] - 1s 32ms/step - loss: 0.5066 - accuracy: 0.6529 - val_loss: 0.3599 - val_accuracy: 0.8884\n",
            "Epoch 13/20\n",
            "30/30 [==============================] - 1s 31ms/step - loss: 0.5022 - accuracy: 0.6576 - val_loss: 0.3632 - val_accuracy: 0.8867\n",
            "Epoch 14/20\n",
            "30/30 [==============================] - 1s 31ms/step - loss: 0.5000 - accuracy: 0.6655 - val_loss: 0.3326 - val_accuracy: 0.8881\n",
            "Epoch 15/20\n",
            "30/30 [==============================] - 1s 31ms/step - loss: 0.4946 - accuracy: 0.6627 - val_loss: 0.3520 - val_accuracy: 0.8874\n",
            "Epoch 16/20\n",
            "30/30 [==============================] - 1s 35ms/step - loss: 0.4933 - accuracy: 0.6633 - val_loss: 0.3322 - val_accuracy: 0.8871\n",
            "Epoch 17/20\n",
            "30/30 [==============================] - 1s 32ms/step - loss: 0.4894 - accuracy: 0.6677 - val_loss: 0.3369 - val_accuracy: 0.8852\n",
            "Epoch 18/20\n",
            "30/30 [==============================] - 1s 32ms/step - loss: 0.4847 - accuracy: 0.6717 - val_loss: 0.3312 - val_accuracy: 0.8861\n",
            "Epoch 19/20\n",
            "30/30 [==============================] - 1s 31ms/step - loss: 0.4872 - accuracy: 0.6661 - val_loss: 0.3249 - val_accuracy: 0.8846\n",
            "Epoch 20/20\n",
            "30/30 [==============================] - 1s 31ms/step - loss: 0.4826 - accuracy: 0.6654 - val_loss: 0.3219 - val_accuracy: 0.8857\n"
          ]
        }
      ]
    },
    {
      "cell_type": "code",
      "metadata": {
        "_uuid": "70f41991-becb-462f-a088-965df009af64",
        "_cell_guid": "56071d1b-a6a2-42a3-a2ac-140270c80f19",
        "jupyter": {
          "outputs_hidden": false
        },
        "execution": {
          "iopub.status.busy": "2021-11-29T08:57:59.392366Z",
          "iopub.execute_input": "2021-11-29T08:57:59.392778Z",
          "iopub.status.idle": "2021-11-29T08:57:59.633415Z",
          "shell.execute_reply.started": "2021-11-29T08:57:59.392748Z",
          "shell.execute_reply": "2021-11-29T08:57:59.632847Z"
        },
        "trusted": true,
        "colab": {
          "base_uri": "https://localhost:8080/",
          "height": 592
        },
        "id": "5WqPHt6KyKCk",
        "outputId": "4e9d95cb-13b1-4af7-95e0-21123b22a92a"
      },
      "source": [
        "# Gráfica\n",
        "history_dict = history.history\n",
        "loss_values = history_dict['loss']\n",
        "val_loss_values = history_dict['val_loss']\n",
        "val_loss_values4 = history4.history['val_loss']\n",
        "\n",
        "fig = plt.figure(figsize=(10,10))\n",
        "epoch = range(1,len(loss_values)+1)\n",
        "plt.plot(epoch,val_loss_values4, 'o',label='Cuarto modelo')\n",
        "plt.plot(epoch,val_loss_values, '--',label='Primer modelo')\n",
        "plt.legend()\n",
        "plt.show();"
      ],
      "execution_count": 20,
      "outputs": [
        {
          "output_type": "display_data",
          "data": {
            "image/png": "[encoded data removed]",
            "text/plain": [
              "<Figure size 720x720 with 1 Axes>"
            ]
          },
          "metadata": {
            "needs_background": "light"
          }
        }
      ]
    }
  ]
}