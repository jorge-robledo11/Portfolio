{
 "cells": [
  {
   "cell_type": "code",
   "metadata": {
    "tags": [],
    "cell_id": "00000-ec2754ae-ca5a-423d-bd07-dbb2ac803a25",
    "deepnote_to_be_reexecuted": false,
    "source_hash": "364f3eab",
    "execution_start": 1636672447144,
    "execution_millis": 2053,
    "deepnote_cell_type": "code"
   },
   "source": "# Misc\nimport warnings\n\n# Core\nimport pandas as pd\nimport numpy as np\n\n# Machine Learning\nfrom sklearn.linear_model import LinearRegression\nfrom sklearn.model_selection import train_test_split",
   "outputs": [],
   "execution_count": 1
  },
  {
   "cell_type": "code",
   "metadata": {
    "tags": [],
    "cell_id": "00001-3827b4d9-2467-4efa-97d8-f81478a26cf2",
    "deepnote_to_be_reexecuted": false,
    "source_hash": "4075a82b",
    "execution_start": 1636672449204,
    "execution_millis": 4,
    "deepnote_cell_type": "code"
   },
   "source": "# Evitamos los molestos warnings\nwarnings.simplefilter(\"ignore\")",
   "outputs": [],
   "execution_count": 2
  },
  {
   "cell_type": "code",
   "metadata": {
    "tags": [],
    "cell_id": "00001-ab935654-3843-4d8e-afdf-88d81761e23e",
    "deepnote_to_be_reexecuted": false,
    "source_hash": "e23daefb",
    "execution_start": 1636672449221,
    "execution_millis": 189,
    "deepnote_cell_type": "code"
   },
   "source": "data = pd.read_csv('https://raw.githubusercontent.com/jorge-robledo11/Datasets/main/Datasets/ecom-expense/Ecom%20Expense.csv')\ndata.head()",
   "outputs": [
    {
     "output_type": "execute_result",
     "execution_count": 3,
     "data": {
      "application/vnd.deepnote.dataframe.v2+json": {
       "row_count": 5,
       "column_count": 9,
       "columns": [
        {
         "name": "Transaction ID",
         "dtype": "object",
         "stats": {
          "unique_count": 5,
          "nan_count": 0,
          "categories": [
           {
            "name": "TXN001",
            "count": 1
           },
           {
            "name": "TXN002",
            "count": 1
           },
           {
            "name": "3 others",
            "count": 3
           }
          ]
         }
        },
        {
         "name": "Age ",
         "dtype": "int64",
         "stats": {
          "unique_count": 5,
          "nan_count": 0,
          "min": "24",
          "max": "60",
          "histogram": [
           {
            "bin_start": 24,
            "bin_end": 27.6,
            "count": 1
           },
           {
            "bin_start": 27.6,
            "bin_end": 31.2,
            "count": 0
           },
           {
            "bin_start": 31.2,
            "bin_end": 34.8,
            "count": 0
           },
           {
            "bin_start": 34.8,
            "bin_end": 38.4,
            "count": 0
           },
           {
            "bin_start": 38.4,
            "bin_end": 42,
            "count": 0
           },
           {
            "bin_start": 42,
            "bin_end": 45.6,
            "count": 1
           },
           {
            "bin_start": 45.6,
            "bin_end": 49.2,
            "count": 1
           },
           {
            "bin_start": 49.2,
            "bin_end": 52.8,
            "count": 1
           },
           {
            "bin_start": 52.8,
            "bin_end": 56.4,
            "count": 0
           },
           {
            "bin_start": 56.4,
            "bin_end": 60,
            "count": 1
           }
          ]
         }
        },
        {
         "name": " Items ",
         "dtype": "int64",
         "stats": {
          "unique_count": 4,
          "nan_count": 0,
          "min": "2",
          "max": "11",
          "histogram": [
           {
            "bin_start": 2,
            "bin_end": 2.9,
            "count": 1
           },
           {
            "bin_start": 2.9,
            "bin_end": 3.8,
            "count": 0
           },
           {
            "bin_start": 3.8,
            "bin_end": 4.7,
            "count": 0
           },
           {
            "bin_start": 4.7,
            "bin_end": 5.6,
            "count": 0
           },
           {
            "bin_start": 5.6,
            "bin_end": 6.5,
            "count": 0
           },
           {
            "bin_start": 6.5,
            "bin_end": 7.4,
            "count": 0
           },
           {
            "bin_start": 7.4,
            "bin_end": 8.3,
            "count": 1
           },
           {
            "bin_start": 8.3,
            "bin_end": 9.2,
            "count": 0
           },
           {
            "bin_start": 9.2,
            "bin_end": 10.1,
            "count": 1
           },
           {
            "bin_start": 10.1,
            "bin_end": 11,
            "count": 2
           }
          ]
         }
        },
        {
         "name": "Monthly Income",
         "dtype": "int64",
         "stats": {
          "unique_count": 5,
          "nan_count": 0,
          "min": "7313",
          "max": "22845",
          "histogram": [
           {
            "bin_start": 7313,
            "bin_end": 8866.2,
            "count": 1
           },
           {
            "bin_start": 8866.2,
            "bin_end": 10419.4,
            "count": 0
           },
           {
            "bin_start": 10419.4,
            "bin_end": 11972.6,
            "count": 0
           },
           {
            "bin_start": 11972.6,
            "bin_end": 13525.8,
            "count": 0
           },
           {
            "bin_start": 13525.8,
            "bin_end": 15079,
            "count": 1
           },
           {
            "bin_start": 15079,
            "bin_end": 16632.2,
            "count": 0
           },
           {
            "bin_start": 16632.2,
            "bin_end": 18185.4,
            "count": 1
           },
           {
            "bin_start": 18185.4,
            "bin_end": 19738.6,
            "count": 1
           },
           {
            "bin_start": 19738.6,
            "bin_end": 21291.800000000003,
            "count": 0
           },
           {
            "bin_start": 21291.800000000003,
            "bin_end": 22845,
            "count": 1
           }
          ]
         }
        },
        {
         "name": "Transaction Time",
         "dtype": "float64",
         "stats": {
          "unique_count": 5,
          "nan_count": 0,
          "min": "126.9045667",
          "max": "873.4697005",
          "histogram": [
           {
            "bin_start": 126.9045667,
            "bin_end": 201.56108008,
            "count": 1
           },
           {
            "bin_start": 201.56108008,
            "bin_end": 276.21759346,
            "count": 0
           },
           {
            "bin_start": 276.21759346,
            "bin_end": 350.87410684,
            "count": 0
           },
           {
            "bin_start": 350.87410684,
            "bin_end": 425.53062022000006,
            "count": 2
           },
           {
            "bin_start": 425.53062022000006,
            "bin_end": 500.18713360000004,
            "count": 0
           },
           {
            "bin_start": 500.18713360000004,
            "bin_end": 574.84364698,
            "count": 0
           },
           {
            "bin_start": 574.84364698,
            "bin_end": 649.5001603600001,
            "count": 1
           },
           {
            "bin_start": 649.5001603600001,
            "bin_end": 724.1566737400001,
            "count": 0
           },
           {
            "bin_start": 724.1566737400001,
            "bin_end": 798.8131871200001,
            "count": 0
           },
           {
            "bin_start": 798.8131871200001,
            "bin_end": 873.4697005,
            "count": 1
           }
          ]
         }
        },
        {
         "name": "Record",
         "dtype": "int64",
         "stats": {
          "unique_count": 4,
          "nan_count": 0,
          "min": "2",
          "max": "7",
          "histogram": [
           {
            "bin_start": 2,
            "bin_end": 2.5,
            "count": 2
           },
           {
            "bin_start": 2.5,
            "bin_end": 3,
            "count": 0
           },
           {
            "bin_start": 3,
            "bin_end": 3.5,
            "count": 1
           },
           {
            "bin_start": 3.5,
            "bin_end": 4,
            "count": 0
           },
           {
            "bin_start": 4,
            "bin_end": 4.5,
            "count": 0
           },
           {
            "bin_start": 4.5,
            "bin_end": 5,
            "count": 0
           },
           {
            "bin_start": 5,
            "bin_end": 5.5,
            "count": 1
           },
           {
            "bin_start": 5.5,
            "bin_end": 6,
            "count": 0
           },
           {
            "bin_start": 6,
            "bin_end": 6.5,
            "count": 0
           },
           {
            "bin_start": 6.5,
            "bin_end": 7,
            "count": 1
           }
          ]
         }
        },
        {
         "name": "Gender",
         "dtype": "object",
         "stats": {
          "unique_count": 2,
          "nan_count": 0,
          "categories": [
           {
            "name": "Female",
            "count": 4
           },
           {
            "name": "Male",
            "count": 1
           }
          ]
         }
        },
        {
         "name": "City Tier",
         "dtype": "object",
         "stats": {
          "unique_count": 2,
          "nan_count": 0,
          "categories": [
           {
            "name": "Tier 2",
            "count": 3
           },
           {
            "name": "Tier 1",
            "count": 2
           }
          ]
         }
        },
        {
         "name": "Total Spend",
         "dtype": "float64",
         "stats": {
          "unique_count": 5,
          "nan_count": 0,
          "min": "3254.160485",
          "max": "7784.447676",
          "histogram": [
           {
            "bin_start": 3254.160485,
            "bin_end": 3707.1892040999996,
            "count": 1
           },
           {
            "bin_start": 3707.1892040999996,
            "bin_end": 4160.2179232,
            "count": 1
           },
           {
            "bin_start": 4160.2179232,
            "bin_end": 4613.2466423,
            "count": 1
           },
           {
            "bin_start": 4613.2466423,
            "bin_end": 5066.275361399999,
            "count": 0
           },
           {
            "bin_start": 5066.275361399999,
            "bin_end": 5519.3040805,
            "count": 1
           },
           {
            "bin_start": 5519.3040805,
            "bin_end": 5972.332799599999,
            "count": 0
           },
           {
            "bin_start": 5972.332799599999,
            "bin_end": 6425.3615187,
            "count": 0
           },
           {
            "bin_start": 6425.3615187,
            "bin_end": 6878.390237799999,
            "count": 0
           },
           {
            "bin_start": 6878.390237799999,
            "bin_end": 7331.418956899999,
            "count": 0
           },
           {
            "bin_start": 7331.418956899999,
            "bin_end": 7784.447676,
            "count": 1
           }
          ]
         }
        },
        {
         "name": "_deepnote_index_column",
         "dtype": "int64"
        }
       ],
       "rows_top": [
        {
         "Transaction ID": "TXN001",
         "Age ": 42,
         " Items ": 10,
         "Monthly Income": 7313,
         "Transaction Time": 627.6681268,
         "Record": 5,
         "Gender": "Female",
         "City Tier": "Tier 1",
         "Total Spend": 4198.385084,
         "_deepnote_index_column": 0
        },
        {
         "Transaction ID": "TXN002",
         "Age ": 24,
         " Items ": 8,
         "Monthly Income": 17747,
         "Transaction Time": 126.9045667,
         "Record": 3,
         "Gender": "Female",
         "City Tier": "Tier 2",
         "Total Spend": 4134.976648,
         "_deepnote_index_column": 1
        },
        {
         "Transaction ID": "TXN003",
         "Age ": 47,
         " Items ": 11,
         "Monthly Income": 22845,
         "Transaction Time": 873.4697005,
         "Record": 2,
         "Gender": "Male",
         "City Tier": "Tier 2",
         "Total Spend": 5166.614455,
         "_deepnote_index_column": 2
        },
        {
         "Transaction ID": "TXN004",
         "Age ": 50,
         " Items ": 11,
         "Monthly Income": 18552,
         "Transaction Time": 380.2194284,
         "Record": 7,
         "Gender": "Female",
         "City Tier": "Tier 1",
         "Total Spend": 7784.447676,
         "_deepnote_index_column": 3
        },
        {
         "Transaction ID": "TXN005",
         "Age ": 60,
         " Items ": 2,
         "Monthly Income": 14439,
         "Transaction Time": 403.3742228,
         "Record": 2,
         "Gender": "Female",
         "City Tier": "Tier 2",
         "Total Spend": 3254.160485,
         "_deepnote_index_column": 4
        }
       ],
       "rows_bottom": null
      },
      "text/plain": "  Transaction ID  Age    Items   Monthly Income  Transaction Time  Record  \\\n0         TXN001    42       10            7313        627.668127       5   \n1         TXN002    24        8           17747        126.904567       3   \n2         TXN003    47       11           22845        873.469701       2   \n3         TXN004    50       11           18552        380.219428       7   \n4         TXN005    60        2           14439        403.374223       2   \n\n   Gender City Tier  Total Spend  \n0  Female    Tier 1  4198.385084  \n1  Female    Tier 2  4134.976648  \n2    Male    Tier 2  5166.614455  \n3  Female    Tier 1  7784.447676  \n4  Female    Tier 2  3254.160485  ",
      "text/html": "<div>\n<style scoped>\n    .dataframe tbody tr th:only-of-type {\n        vertical-align: middle;\n    }\n\n    .dataframe tbody tr th {\n        vertical-align: top;\n    }\n\n    .dataframe thead th {\n        text-align: right;\n    }\n</style>\n<table border=\"1\" class=\"dataframe\">\n  <thead>\n    <tr style=\"text-align: right;\">\n      <th></th>\n      <th>Transaction ID</th>\n      <th>Age</th>\n      <th>Items</th>\n      <th>Monthly Income</th>\n      <th>Transaction Time</th>\n      <th>Record</th>\n      <th>Gender</th>\n      <th>City Tier</th>\n      <th>Total Spend</th>\n    </tr>\n  </thead>\n  <tbody>\n    <tr>\n      <th>0</th>\n      <td>TXN001</td>\n      <td>42</td>\n      <td>10</td>\n      <td>7313</td>\n      <td>627.668127</td>\n      <td>5</td>\n      <td>Female</td>\n      <td>Tier 1</td>\n      <td>4198.385084</td>\n    </tr>\n    <tr>\n      <th>1</th>\n      <td>TXN002</td>\n      <td>24</td>\n      <td>8</td>\n      <td>17747</td>\n      <td>126.904567</td>\n      <td>3</td>\n      <td>Female</td>\n      <td>Tier 2</td>\n      <td>4134.976648</td>\n    </tr>\n    <tr>\n      <th>2</th>\n      <td>TXN003</td>\n      <td>47</td>\n      <td>11</td>\n      <td>22845</td>\n      <td>873.469701</td>\n      <td>2</td>\n      <td>Male</td>\n      <td>Tier 2</td>\n      <td>5166.614455</td>\n    </tr>\n    <tr>\n      <th>3</th>\n      <td>TXN004</td>\n      <td>50</td>\n      <td>11</td>\n      <td>18552</td>\n      <td>380.219428</td>\n      <td>7</td>\n      <td>Female</td>\n      <td>Tier 1</td>\n      <td>7784.447676</td>\n    </tr>\n    <tr>\n      <th>4</th>\n      <td>TXN005</td>\n      <td>60</td>\n      <td>2</td>\n      <td>14439</td>\n      <td>403.374223</td>\n      <td>2</td>\n      <td>Female</td>\n      <td>Tier 2</td>\n      <td>3254.160485</td>\n    </tr>\n  </tbody>\n</table>\n</div>"
     },
     "metadata": {}
    }
   ],
   "execution_count": 3
  },
  {
   "cell_type": "code",
   "metadata": {
    "tags": [],
    "cell_id": "00002-e7e0fb56-3b16-46e7-912e-e9e9620cc49f",
    "deepnote_to_be_reexecuted": false,
    "source_hash": "c02ca492",
    "execution_start": 1636672449416,
    "execution_millis": 6,
    "deepnote_cell_type": "code"
   },
   "source": "header = ['Transaction ID', 'Age', 'Items', 'Monthly Income','Transaction Time', 'Record','Gender','City Tier','Total Spend']\ndata.columns = header",
   "outputs": [],
   "execution_count": 4
  },
  {
   "cell_type": "code",
   "metadata": {
    "tags": [],
    "cell_id": "00003-11d15f66-d490-4c82-9eaa-30dc0c244ab5",
    "deepnote_to_be_reexecuted": false,
    "source_hash": "878de0e4",
    "execution_start": 1636672449427,
    "execution_millis": 7,
    "deepnote_cell_type": "code"
   },
   "source": "data.isnull().sum()",
   "outputs": [
    {
     "output_type": "execute_result",
     "execution_count": 5,
     "data": {
      "text/plain": "Transaction ID      0\nAge                 0\nItems               0\nMonthly Income      0\nTransaction Time    0\nRecord              0\nGender              0\nCity Tier           0\nTotal Spend         0\ndtype: int64"
     },
     "metadata": {}
    }
   ],
   "execution_count": 5
  },
  {
   "cell_type": "code",
   "metadata": {
    "tags": [],
    "cell_id": "00004-51bb6fdf-2ddc-4fbd-ac30-5e3443de0509",
    "deepnote_to_be_reexecuted": false,
    "source_hash": "8d705ecd",
    "execution_start": 1636672449438,
    "execution_millis": 61,
    "deepnote_cell_type": "code"
   },
   "source": "data = pd.get_dummies(data, columns = [\"Gender\"], drop_first = True)\ndata = data.rename(columns={'Gender_Male':'Gender'})",
   "outputs": [],
   "execution_count": 6
  },
  {
   "cell_type": "code",
   "metadata": {
    "tags": [],
    "cell_id": "00006-6fc891fe-d1fc-4426-9428-a3582900a0d8",
    "deepnote_to_be_reexecuted": false,
    "source_hash": "c58e0789",
    "execution_start": 1636672449499,
    "execution_millis": 0,
    "deepnote_cell_type": "code"
   },
   "source": "data['Age'] = data['Age'].astype(int)\ndata['Gender'] = data['Gender'].astype(int)",
   "outputs": [],
   "execution_count": 7
  },
  {
   "cell_type": "code",
   "metadata": {
    "tags": [],
    "cell_id": "00006-9268d4f3-3717-4990-a8c0-be1c5f6b85d3",
    "deepnote_to_be_reexecuted": false,
    "source_hash": "f4d6fe28",
    "execution_start": 1636672449500,
    "execution_millis": 0,
    "deepnote_cell_type": "code"
   },
   "source": "# Segmentar y etiquetar\n\n\"\"\"\n0 ~ 11 años = 1\n12 ~ 18 años = 2\n19 ~ 35 años = 3\n36 ~ 60 años = 4\n61 ~ 100 años = 5\n\"\"\"\n\nbins = [0, 12, 18, 35, 60, 100]\nnames = [\"1\",\"2\",\"3\",\"4\",\"5\"]\n\ndata[\"Age\"] = pd.cut(data[\"Age\"], bins, labels = names)",
   "outputs": [],
   "execution_count": 8
  },
  {
   "cell_type": "code",
   "metadata": {
    "tags": [],
    "cell_id": "00012-835d0394-fed5-49e9-b7bf-254fc75dee43",
    "deepnote_to_be_reexecuted": false,
    "source_hash": "41313cfa",
    "execution_start": 1636672449500,
    "execution_millis": 31,
    "deepnote_cell_type": "code"
   },
   "source": "data.head()",
   "outputs": [
    {
     "output_type": "execute_result",
     "execution_count": 9,
     "data": {
      "application/vnd.deepnote.dataframe.v2+json": {
       "row_count": 5,
       "column_count": 9,
       "columns": [
        {
         "name": "Transaction ID",
         "dtype": "object",
         "stats": {
          "unique_count": 5,
          "nan_count": 0,
          "categories": [
           {
            "name": "TXN001",
            "count": 1
           },
           {
            "name": "TXN002",
            "count": 1
           },
           {
            "name": "3 others",
            "count": 3
           }
          ]
         }
        },
        {
         "name": "Age",
         "dtype": "category",
         "stats": {
          "unique_count": 2,
          "nan_count": 0,
          "categories": [
           {
            "name": "4",
            "count": 4
           },
           {
            "name": "3",
            "count": 1
           }
          ]
         }
        },
        {
         "name": "Items",
         "dtype": "int64",
         "stats": {
          "unique_count": 4,
          "nan_count": 0,
          "min": "2",
          "max": "11",
          "histogram": [
           {
            "bin_start": 2,
            "bin_end": 2.9,
            "count": 1
           },
           {
            "bin_start": 2.9,
            "bin_end": 3.8,
            "count": 0
           },
           {
            "bin_start": 3.8,
            "bin_end": 4.7,
            "count": 0
           },
           {
            "bin_start": 4.7,
            "bin_end": 5.6,
            "count": 0
           },
           {
            "bin_start": 5.6,
            "bin_end": 6.5,
            "count": 0
           },
           {
            "bin_start": 6.5,
            "bin_end": 7.4,
            "count": 0
           },
           {
            "bin_start": 7.4,
            "bin_end": 8.3,
            "count": 1
           },
           {
            "bin_start": 8.3,
            "bin_end": 9.2,
            "count": 0
           },
           {
            "bin_start": 9.2,
            "bin_end": 10.1,
            "count": 1
           },
           {
            "bin_start": 10.1,
            "bin_end": 11,
            "count": 2
           }
          ]
         }
        },
        {
         "name": "Monthly Income",
         "dtype": "int64",
         "stats": {
          "unique_count": 5,
          "nan_count": 0,
          "min": "7313",
          "max": "22845",
          "histogram": [
           {
            "bin_start": 7313,
            "bin_end": 8866.2,
            "count": 1
           },
           {
            "bin_start": 8866.2,
            "bin_end": 10419.4,
            "count": 0
           },
           {
            "bin_start": 10419.4,
            "bin_end": 11972.6,
            "count": 0
           },
           {
            "bin_start": 11972.6,
            "bin_end": 13525.8,
            "count": 0
           },
           {
            "bin_start": 13525.8,
            "bin_end": 15079,
            "count": 1
           },
           {
            "bin_start": 15079,
            "bin_end": 16632.2,
            "count": 0
           },
           {
            "bin_start": 16632.2,
            "bin_end": 18185.4,
            "count": 1
           },
           {
            "bin_start": 18185.4,
            "bin_end": 19738.6,
            "count": 1
           },
           {
            "bin_start": 19738.6,
            "bin_end": 21291.800000000003,
            "count": 0
           },
           {
            "bin_start": 21291.800000000003,
            "bin_end": 22845,
            "count": 1
           }
          ]
         }
        },
        {
         "name": "Transaction Time",
         "dtype": "float64",
         "stats": {
          "unique_count": 5,
          "nan_count": 0,
          "min": "126.9045667",
          "max": "873.4697005",
          "histogram": [
           {
            "bin_start": 126.9045667,
            "bin_end": 201.56108008,
            "count": 1
           },
           {
            "bin_start": 201.56108008,
            "bin_end": 276.21759346,
            "count": 0
           },
           {
            "bin_start": 276.21759346,
            "bin_end": 350.87410684,
            "count": 0
           },
           {
            "bin_start": 350.87410684,
            "bin_end": 425.53062022000006,
            "count": 2
           },
           {
            "bin_start": 425.53062022000006,
            "bin_end": 500.18713360000004,
            "count": 0
           },
           {
            "bin_start": 500.18713360000004,
            "bin_end": 574.84364698,
            "count": 0
           },
           {
            "bin_start": 574.84364698,
            "bin_end": 649.5001603600001,
            "count": 1
           },
           {
            "bin_start": 649.5001603600001,
            "bin_end": 724.1566737400001,
            "count": 0
           },
           {
            "bin_start": 724.1566737400001,
            "bin_end": 798.8131871200001,
            "count": 0
           },
           {
            "bin_start": 798.8131871200001,
            "bin_end": 873.4697005,
            "count": 1
           }
          ]
         }
        },
        {
         "name": "Record",
         "dtype": "int64",
         "stats": {
          "unique_count": 4,
          "nan_count": 0,
          "min": "2",
          "max": "7",
          "histogram": [
           {
            "bin_start": 2,
            "bin_end": 2.5,
            "count": 2
           },
           {
            "bin_start": 2.5,
            "bin_end": 3,
            "count": 0
           },
           {
            "bin_start": 3,
            "bin_end": 3.5,
            "count": 1
           },
           {
            "bin_start": 3.5,
            "bin_end": 4,
            "count": 0
           },
           {
            "bin_start": 4,
            "bin_end": 4.5,
            "count": 0
           },
           {
            "bin_start": 4.5,
            "bin_end": 5,
            "count": 0
           },
           {
            "bin_start": 5,
            "bin_end": 5.5,
            "count": 1
           },
           {
            "bin_start": 5.5,
            "bin_end": 6,
            "count": 0
           },
           {
            "bin_start": 6,
            "bin_end": 6.5,
            "count": 0
           },
           {
            "bin_start": 6.5,
            "bin_end": 7,
            "count": 1
           }
          ]
         }
        },
        {
         "name": "City Tier",
         "dtype": "object",
         "stats": {
          "unique_count": 2,
          "nan_count": 0,
          "categories": [
           {
            "name": "Tier 2",
            "count": 3
           },
           {
            "name": "Tier 1",
            "count": 2
           }
          ]
         }
        },
        {
         "name": "Total Spend",
         "dtype": "float64",
         "stats": {
          "unique_count": 5,
          "nan_count": 0,
          "min": "3254.160485",
          "max": "7784.447676",
          "histogram": [
           {
            "bin_start": 3254.160485,
            "bin_end": 3707.1892040999996,
            "count": 1
           },
           {
            "bin_start": 3707.1892040999996,
            "bin_end": 4160.2179232,
            "count": 1
           },
           {
            "bin_start": 4160.2179232,
            "bin_end": 4613.2466423,
            "count": 1
           },
           {
            "bin_start": 4613.2466423,
            "bin_end": 5066.275361399999,
            "count": 0
           },
           {
            "bin_start": 5066.275361399999,
            "bin_end": 5519.3040805,
            "count": 1
           },
           {
            "bin_start": 5519.3040805,
            "bin_end": 5972.332799599999,
            "count": 0
           },
           {
            "bin_start": 5972.332799599999,
            "bin_end": 6425.3615187,
            "count": 0
           },
           {
            "bin_start": 6425.3615187,
            "bin_end": 6878.390237799999,
            "count": 0
           },
           {
            "bin_start": 6878.390237799999,
            "bin_end": 7331.418956899999,
            "count": 0
           },
           {
            "bin_start": 7331.418956899999,
            "bin_end": 7784.447676,
            "count": 1
           }
          ]
         }
        },
        {
         "name": "Gender",
         "dtype": "int64",
         "stats": {
          "unique_count": 2,
          "nan_count": 0,
          "min": "0",
          "max": "1",
          "histogram": [
           {
            "bin_start": 0,
            "bin_end": 0.1,
            "count": 4
           },
           {
            "bin_start": 0.1,
            "bin_end": 0.2,
            "count": 0
           },
           {
            "bin_start": 0.2,
            "bin_end": 0.30000000000000004,
            "count": 0
           },
           {
            "bin_start": 0.30000000000000004,
            "bin_end": 0.4,
            "count": 0
           },
           {
            "bin_start": 0.4,
            "bin_end": 0.5,
            "count": 0
           },
           {
            "bin_start": 0.5,
            "bin_end": 0.6000000000000001,
            "count": 0
           },
           {
            "bin_start": 0.6000000000000001,
            "bin_end": 0.7000000000000001,
            "count": 0
           },
           {
            "bin_start": 0.7000000000000001,
            "bin_end": 0.8,
            "count": 0
           },
           {
            "bin_start": 0.8,
            "bin_end": 0.9,
            "count": 0
           },
           {
            "bin_start": 0.9,
            "bin_end": 1,
            "count": 1
           }
          ]
         }
        },
        {
         "name": "_deepnote_index_column",
         "dtype": "int64"
        }
       ],
       "rows_top": [
        {
         "Transaction ID": "TXN001",
         "Age": "4",
         "Items": 10,
         "Monthly Income": 7313,
         "Transaction Time": 627.6681268,
         "Record": 5,
         "City Tier": "Tier 1",
         "Total Spend": 4198.385084,
         "Gender": 0,
         "_deepnote_index_column": 0
        },
        {
         "Transaction ID": "TXN002",
         "Age": "3",
         "Items": 8,
         "Monthly Income": 17747,
         "Transaction Time": 126.9045667,
         "Record": 3,
         "City Tier": "Tier 2",
         "Total Spend": 4134.976648,
         "Gender": 0,
         "_deepnote_index_column": 1
        },
        {
         "Transaction ID": "TXN003",
         "Age": "4",
         "Items": 11,
         "Monthly Income": 22845,
         "Transaction Time": 873.4697005,
         "Record": 2,
         "City Tier": "Tier 2",
         "Total Spend": 5166.614455,
         "Gender": 1,
         "_deepnote_index_column": 2
        },
        {
         "Transaction ID": "TXN004",
         "Age": "4",
         "Items": 11,
         "Monthly Income": 18552,
         "Transaction Time": 380.2194284,
         "Record": 7,
         "City Tier": "Tier 1",
         "Total Spend": 7784.447676,
         "Gender": 0,
         "_deepnote_index_column": 3
        },
        {
         "Transaction ID": "TXN005",
         "Age": "4",
         "Items": 2,
         "Monthly Income": 14439,
         "Transaction Time": 403.3742228,
         "Record": 2,
         "City Tier": "Tier 2",
         "Total Spend": 3254.160485,
         "Gender": 0,
         "_deepnote_index_column": 4
        }
       ],
       "rows_bottom": null
      },
      "text/plain": "  Transaction ID Age  Items  Monthly Income  Transaction Time  Record  \\\n0         TXN001   4     10            7313        627.668127       5   \n1         TXN002   3      8           17747        126.904567       3   \n2         TXN003   4     11           22845        873.469701       2   \n3         TXN004   4     11           18552        380.219428       7   \n4         TXN005   4      2           14439        403.374223       2   \n\n  City Tier  Total Spend  Gender  \n0    Tier 1  4198.385084       0  \n1    Tier 2  4134.976648       0  \n2    Tier 2  5166.614455       1  \n3    Tier 1  7784.447676       0  \n4    Tier 2  3254.160485       0  ",
      "text/html": "<div>\n<style scoped>\n    .dataframe tbody tr th:only-of-type {\n        vertical-align: middle;\n    }\n\n    .dataframe tbody tr th {\n        vertical-align: top;\n    }\n\n    .dataframe thead th {\n        text-align: right;\n    }\n</style>\n<table border=\"1\" class=\"dataframe\">\n  <thead>\n    <tr style=\"text-align: right;\">\n      <th></th>\n      <th>Transaction ID</th>\n      <th>Age</th>\n      <th>Items</th>\n      <th>Monthly Income</th>\n      <th>Transaction Time</th>\n      <th>Record</th>\n      <th>City Tier</th>\n      <th>Total Spend</th>\n      <th>Gender</th>\n    </tr>\n  </thead>\n  <tbody>\n    <tr>\n      <th>0</th>\n      <td>TXN001</td>\n      <td>4</td>\n      <td>10</td>\n      <td>7313</td>\n      <td>627.668127</td>\n      <td>5</td>\n      <td>Tier 1</td>\n      <td>4198.385084</td>\n      <td>0</td>\n    </tr>\n    <tr>\n      <th>1</th>\n      <td>TXN002</td>\n      <td>3</td>\n      <td>8</td>\n      <td>17747</td>\n      <td>126.904567</td>\n      <td>3</td>\n      <td>Tier 2</td>\n      <td>4134.976648</td>\n      <td>0</td>\n    </tr>\n    <tr>\n      <th>2</th>\n      <td>TXN003</td>\n      <td>4</td>\n      <td>11</td>\n      <td>22845</td>\n      <td>873.469701</td>\n      <td>2</td>\n      <td>Tier 2</td>\n      <td>5166.614455</td>\n      <td>1</td>\n    </tr>\n    <tr>\n      <th>3</th>\n      <td>TXN004</td>\n      <td>4</td>\n      <td>11</td>\n      <td>18552</td>\n      <td>380.219428</td>\n      <td>7</td>\n      <td>Tier 1</td>\n      <td>7784.447676</td>\n      <td>0</td>\n    </tr>\n    <tr>\n      <th>4</th>\n      <td>TXN005</td>\n      <td>4</td>\n      <td>2</td>\n      <td>14439</td>\n      <td>403.374223</td>\n      <td>2</td>\n      <td>Tier 2</td>\n      <td>3254.160485</td>\n      <td>0</td>\n    </tr>\n  </tbody>\n</table>\n</div>"
     },
     "metadata": {}
    }
   ],
   "execution_count": 9
  },
  {
   "cell_type": "code",
   "metadata": {
    "tags": [],
    "cell_id": "00011-b5171b86-799f-412e-b68a-d43bddca6ace",
    "deepnote_to_be_reexecuted": false,
    "source_hash": "858115d0",
    "execution_start": 1636672449572,
    "execution_millis": 1854591,
    "deepnote_cell_type": "code"
   },
   "source": "# Contar los valores por categorías\n\ndata['City Tier'].value_counts()",
   "outputs": [
    {
     "output_type": "execute_result",
     "execution_count": 10,
     "data": {
      "text/plain": "Tier 1    815\nTier 2    782\nTier 3    765\nName: City Tier, dtype: int64"
     },
     "metadata": {}
    }
   ],
   "execution_count": 10
  },
  {
   "cell_type": "code",
   "metadata": {
    "tags": [],
    "cell_id": "00011-ea1a9000-50d4-4e02-a309-e1c2eabe2918",
    "deepnote_to_be_reexecuted": false,
    "source_hash": "61d66494",
    "execution_start": 1636672449572,
    "execution_millis": 4,
    "deepnote_cell_type": "code"
   },
   "source": "# Mapear, cambiar las categorías\n\ntiers = {'Tier 1': 1, 'Tier 2': 2, 'Tier 3': 3}\ndata['City Tier'] = data['City Tier'].map(tiers)",
   "outputs": [],
   "execution_count": 11
  },
  {
   "cell_type": "code",
   "metadata": {
    "tags": [],
    "cell_id": "00011-1c68d1ae-65b0-4f6f-baf9-64fcc9f272c8",
    "deepnote_to_be_reexecuted": false,
    "source_hash": "85aee354",
    "execution_start": 1636672449573,
    "execution_millis": 1,
    "deepnote_cell_type": "code"
   },
   "source": "data['City Tier'].value_counts()",
   "outputs": [
    {
     "output_type": "execute_result",
     "execution_count": 12,
     "data": {
      "text/plain": "1    815\n2    782\n3    765\nName: City Tier, dtype: int64"
     },
     "metadata": {}
    }
   ],
   "execution_count": 12
  },
  {
   "cell_type": "code",
   "metadata": {
    "tags": [],
    "cell_id": "00011-50b275cc-9ab6-4e00-b387-c15e6a984478",
    "deepnote_to_be_reexecuted": false,
    "source_hash": "9ccae1f6",
    "execution_start": 1636672449577,
    "execution_millis": 2,
    "deepnote_cell_type": "code"
   },
   "source": "# Creamos un nuevo dataframe con las variables dummies\n\ndummy_city_tier = pd.get_dummies(data['City Tier'], prefix='City')\ndummy_city_tier.shape",
   "outputs": [
    {
     "output_type": "execute_result",
     "execution_count": 13,
     "data": {
      "text/plain": "(2362, 3)"
     },
     "metadata": {}
    }
   ],
   "execution_count": 13
  },
  {
   "cell_type": "code",
   "metadata": {
    "tags": [],
    "cell_id": "00013-099b5d97-2614-4873-8956-5e1b878e9d27",
    "deepnote_to_be_reexecuted": false,
    "source_hash": "336c1e76",
    "execution_start": 1636672449627,
    "execution_millis": 2,
    "deepnote_cell_type": "code"
   },
   "source": "# Lo concatenamos con nuestro dataframe original\n\ndata_new = pd.concat([data, dummy_city_tier], axis=1)",
   "outputs": [],
   "execution_count": 14
  },
  {
   "cell_type": "code",
   "metadata": {
    "tags": [],
    "cell_id": "00014-11f40cec-e0be-4b85-99af-a146a5c07d3e",
    "deepnote_to_be_reexecuted": false,
    "source_hash": "e0458a40",
    "execution_start": 1636672449628,
    "execution_millis": 58,
    "deepnote_cell_type": "code"
   },
   "source": "# Dropeamos la columna ya no nos interesa\n\ndata_new.drop(['City Tier'], axis=1, inplace=True)\ndata_new",
   "outputs": [
    {
     "output_type": "execute_result",
     "execution_count": 15,
     "data": {
      "application/vnd.deepnote.dataframe.v2+json": {
       "row_count": 2362,
       "column_count": 11,
       "columns": [
        {
         "name": "Transaction ID",
         "dtype": "object",
         "stats": {
          "unique_count": 2362,
          "nan_count": 0,
          "categories": [
           {
            "name": "TXN001",
            "count": 1
           },
           {
            "name": "TXN002",
            "count": 1
           },
           {
            "name": "2360 others",
            "count": 2360
           }
          ]
         }
        },
        {
         "name": "Age",
         "dtype": "category",
         "stats": {
          "unique_count": 2,
          "nan_count": 0,
          "categories": [
           {
            "name": "4",
            "count": 1417
           },
           {
            "name": "3",
            "count": 945
           }
          ]
         }
        },
        {
         "name": "Items",
         "dtype": "int64",
         "stats": {
          "unique_count": 15,
          "nan_count": 0,
          "min": "1",
          "max": "15",
          "histogram": [
           {
            "bin_start": 1,
            "bin_end": 2.4,
            "count": 344
           },
           {
            "bin_start": 2.4,
            "bin_end": 3.8,
            "count": 151
           },
           {
            "bin_start": 3.8,
            "bin_end": 5.199999999999999,
            "count": 292
           },
           {
            "bin_start": 5.199999999999999,
            "bin_end": 6.6,
            "count": 167
           },
           {
            "bin_start": 6.6,
            "bin_end": 8,
            "count": 156
           },
           {
            "bin_start": 8,
            "bin_end": 9.399999999999999,
            "count": 341
           },
           {
            "bin_start": 9.399999999999999,
            "bin_end": 10.799999999999999,
            "count": 159
           },
           {
            "bin_start": 10.799999999999999,
            "bin_end": 12.2,
            "count": 319
           },
           {
            "bin_start": 12.2,
            "bin_end": 13.6,
            "count": 145
           },
           {
            "bin_start": 13.6,
            "bin_end": 15,
            "count": 288
           }
          ]
         }
        },
        {
         "name": "Monthly Income",
         "dtype": "int64",
         "stats": {
          "unique_count": 2251,
          "nan_count": 0,
          "min": "2003",
          "max": "30000",
          "histogram": [
           {
            "bin_start": 2003,
            "bin_end": 4802.7,
            "count": 217
           },
           {
            "bin_start": 4802.7,
            "bin_end": 7602.4,
            "count": 235
           },
           {
            "bin_start": 7602.4,
            "bin_end": 10402.099999999999,
            "count": 260
           },
           {
            "bin_start": 10402.099999999999,
            "bin_end": 13201.8,
            "count": 248
           },
           {
            "bin_start": 13201.8,
            "bin_end": 16001.5,
            "count": 237
           },
           {
            "bin_start": 16001.5,
            "bin_end": 18801.199999999997,
            "count": 246
           },
           {
            "bin_start": 18801.199999999997,
            "bin_end": 21600.899999999998,
            "count": 223
           },
           {
            "bin_start": 21600.899999999998,
            "bin_end": 24400.6,
            "count": 224
           },
           {
            "bin_start": 24400.6,
            "bin_end": 27200.3,
            "count": 241
           },
           {
            "bin_start": 27200.3,
            "bin_end": 30000,
            "count": 231
           }
          ]
         }
        },
        {
         "name": "Transaction Time",
         "dtype": "float64",
         "stats": {
          "unique_count": 2362,
          "nan_count": 0,
          "min": "0.463297411",
          "max": "1000.697201",
          "histogram": [
           {
            "bin_start": 0.463297411,
            "bin_end": 100.4866877699,
            "count": 239
           },
           {
            "bin_start": 100.4866877699,
            "bin_end": 200.51007812880002,
            "count": 229
           },
           {
            "bin_start": 200.51007812880002,
            "bin_end": 300.5334684877,
            "count": 249
           },
           {
            "bin_start": 300.5334684877,
            "bin_end": 400.5568588466,
            "count": 234
           },
           {
            "bin_start": 400.5568588466,
            "bin_end": 500.58024920549997,
            "count": 242
           },
           {
            "bin_start": 500.58024920549997,
            "bin_end": 600.6036395644,
            "count": 251
           },
           {
            "bin_start": 600.6036395644,
            "bin_end": 700.6270299233,
            "count": 221
           },
           {
            "bin_start": 700.6270299233,
            "bin_end": 800.6504202822,
            "count": 230
           },
           {
            "bin_start": 800.6504202822,
            "bin_end": 900.6738106411,
            "count": 244
           },
           {
            "bin_start": 900.6738106411,
            "bin_end": 1000.697201,
            "count": 223
           }
          ]
         }
        },
        {
         "name": "Record",
         "dtype": "int64",
         "stats": {
          "unique_count": 11,
          "nan_count": 0,
          "min": "0",
          "max": "10",
          "histogram": [
           {
            "bin_start": 0,
            "bin_end": 1,
            "count": 212
           },
           {
            "bin_start": 1,
            "bin_end": 2,
            "count": 208
           },
           {
            "bin_start": 2,
            "bin_end": 3,
            "count": 217
           },
           {
            "bin_start": 3,
            "bin_end": 4,
            "count": 220
           },
           {
            "bin_start": 4,
            "bin_end": 5,
            "count": 218
           },
           {
            "bin_start": 5,
            "bin_end": 6,
            "count": 237
           },
           {
            "bin_start": 6,
            "bin_end": 7,
            "count": 220
           },
           {
            "bin_start": 7,
            "bin_end": 8,
            "count": 239
           },
           {
            "bin_start": 8,
            "bin_end": 9,
            "count": 215
           },
           {
            "bin_start": 9,
            "bin_end": 10,
            "count": 376
           }
          ]
         }
        },
        {
         "name": "Total Spend",
         "dtype": "float64",
         "stats": {
          "unique_count": 2362,
          "nan_count": 0,
          "min": "1099.815246",
          "max": "13944.04816",
          "histogram": [
           {
            "bin_start": 1099.815246,
            "bin_end": 2384.2385373999996,
            "count": 119
           },
           {
            "bin_start": 2384.2385373999996,
            "bin_end": 3668.6618288,
            "count": 355
           },
           {
            "bin_start": 3668.6618288,
            "bin_end": 4953.085120199999,
            "count": 463
           },
           {
            "bin_start": 4953.085120199999,
            "bin_end": 6237.5084116,
            "count": 429
           },
           {
            "bin_start": 6237.5084116,
            "bin_end": 7521.931703,
            "count": 303
           },
           {
            "bin_start": 7521.931703,
            "bin_end": 8806.354994399999,
            "count": 221
           },
           {
            "bin_start": 8806.354994399999,
            "bin_end": 10090.7782858,
            "count": 195
           },
           {
            "bin_start": 10090.7782858,
            "bin_end": 11375.2015772,
            "count": 149
           },
           {
            "bin_start": 11375.2015772,
            "bin_end": 12659.6248686,
            "count": 94
           },
           {
            "bin_start": 12659.6248686,
            "bin_end": 13944.04816,
            "count": 34
           }
          ]
         }
        },
        {
         "name": "Gender",
         "dtype": "int64",
         "stats": {
          "unique_count": 2,
          "nan_count": 0,
          "min": "0",
          "max": "1",
          "histogram": [
           {
            "bin_start": 0,
            "bin_end": 0.1,
            "count": 1162
           },
           {
            "bin_start": 0.1,
            "bin_end": 0.2,
            "count": 0
           },
           {
            "bin_start": 0.2,
            "bin_end": 0.30000000000000004,
            "count": 0
           },
           {
            "bin_start": 0.30000000000000004,
            "bin_end": 0.4,
            "count": 0
           },
           {
            "bin_start": 0.4,
            "bin_end": 0.5,
            "count": 0
           },
           {
            "bin_start": 0.5,
            "bin_end": 0.6000000000000001,
            "count": 0
           },
           {
            "bin_start": 0.6000000000000001,
            "bin_end": 0.7000000000000001,
            "count": 0
           },
           {
            "bin_start": 0.7000000000000001,
            "bin_end": 0.8,
            "count": 0
           },
           {
            "bin_start": 0.8,
            "bin_end": 0.9,
            "count": 0
           },
           {
            "bin_start": 0.9,
            "bin_end": 1,
            "count": 1200
           }
          ]
         }
        },
        {
         "name": "City_1",
         "dtype": "uint8",
         "stats": {
          "unique_count": 2,
          "nan_count": 0,
          "min": "0",
          "max": "1",
          "histogram": [
           {
            "bin_start": 0,
            "bin_end": 0.1,
            "count": 1547
           },
           {
            "bin_start": 0.1,
            "bin_end": 0.2,
            "count": 0
           },
           {
            "bin_start": 0.2,
            "bin_end": 0.30000000000000004,
            "count": 0
           },
           {
            "bin_start": 0.30000000000000004,
            "bin_end": 0.4,
            "count": 0
           },
           {
            "bin_start": 0.4,
            "bin_end": 0.5,
            "count": 0
           },
           {
            "bin_start": 0.5,
            "bin_end": 0.6000000000000001,
            "count": 0
           },
           {
            "bin_start": 0.6000000000000001,
            "bin_end": 0.7000000000000001,
            "count": 0
           },
           {
            "bin_start": 0.7000000000000001,
            "bin_end": 0.8,
            "count": 0
           },
           {
            "bin_start": 0.8,
            "bin_end": 0.9,
            "count": 0
           },
           {
            "bin_start": 0.9,
            "bin_end": 1,
            "count": 815
           }
          ]
         }
        },
        {
         "name": "City_2",
         "dtype": "uint8",
         "stats": {
          "unique_count": 2,
          "nan_count": 0,
          "min": "0",
          "max": "1",
          "histogram": [
           {
            "bin_start": 0,
            "bin_end": 0.1,
            "count": 1580
           },
           {
            "bin_start": 0.1,
            "bin_end": 0.2,
            "count": 0
           },
           {
            "bin_start": 0.2,
            "bin_end": 0.30000000000000004,
            "count": 0
           },
           {
            "bin_start": 0.30000000000000004,
            "bin_end": 0.4,
            "count": 0
           },
           {
            "bin_start": 0.4,
            "bin_end": 0.5,
            "count": 0
           },
           {
            "bin_start": 0.5,
            "bin_end": 0.6000000000000001,
            "count": 0
           },
           {
            "bin_start": 0.6000000000000001,
            "bin_end": 0.7000000000000001,
            "count": 0
           },
           {
            "bin_start": 0.7000000000000001,
            "bin_end": 0.8,
            "count": 0
           },
           {
            "bin_start": 0.8,
            "bin_end": 0.9,
            "count": 0
           },
           {
            "bin_start": 0.9,
            "bin_end": 1,
            "count": 782
           }
          ]
         }
        },
        {
         "name": "City_3",
         "dtype": "uint8",
         "stats": {
          "unique_count": 2,
          "nan_count": 0,
          "min": "0",
          "max": "1",
          "histogram": [
           {
            "bin_start": 0,
            "bin_end": 0.1,
            "count": 1597
           },
           {
            "bin_start": 0.1,
            "bin_end": 0.2,
            "count": 0
           },
           {
            "bin_start": 0.2,
            "bin_end": 0.30000000000000004,
            "count": 0
           },
           {
            "bin_start": 0.30000000000000004,
            "bin_end": 0.4,
            "count": 0
           },
           {
            "bin_start": 0.4,
            "bin_end": 0.5,
            "count": 0
           },
           {
            "bin_start": 0.5,
            "bin_end": 0.6000000000000001,
            "count": 0
           },
           {
            "bin_start": 0.6000000000000001,
            "bin_end": 0.7000000000000001,
            "count": 0
           },
           {
            "bin_start": 0.7000000000000001,
            "bin_end": 0.8,
            "count": 0
           },
           {
            "bin_start": 0.8,
            "bin_end": 0.9,
            "count": 0
           },
           {
            "bin_start": 0.9,
            "bin_end": 1,
            "count": 765
           }
          ]
         }
        },
        {
         "name": "_deepnote_index_column",
         "dtype": "int64"
        }
       ],
       "rows_top": [
        {
         "Transaction ID": "TXN001",
         "Age": "4",
         "Items": 10,
         "Monthly Income": 7313,
         "Transaction Time": 627.6681268,
         "Record": 5,
         "Total Spend": 4198.385084,
         "Gender": 0,
         "City_1": 1,
         "City_2": 0,
         "City_3": 0,
         "_deepnote_index_column": 0
        },
        {
         "Transaction ID": "TXN002",
         "Age": "3",
         "Items": 8,
         "Monthly Income": 17747,
         "Transaction Time": 126.9045667,
         "Record": 3,
         "Total Spend": 4134.976648,
         "Gender": 0,
         "City_1": 0,
         "City_2": 1,
         "City_3": 0,
         "_deepnote_index_column": 1
        },
        {
         "Transaction ID": "TXN003",
         "Age": "4",
         "Items": 11,
         "Monthly Income": 22845,
         "Transaction Time": 873.4697005,
         "Record": 2,
         "Total Spend": 5166.614455,
         "Gender": 1,
         "City_1": 0,
         "City_2": 1,
         "City_3": 0,
         "_deepnote_index_column": 2
        },
        {
         "Transaction ID": "TXN004",
         "Age": "4",
         "Items": 11,
         "Monthly Income": 18552,
         "Transaction Time": 380.2194284,
         "Record": 7,
         "Total Spend": 7784.447676,
         "Gender": 0,
         "City_1": 1,
         "City_2": 0,
         "City_3": 0,
         "_deepnote_index_column": 3
        },
        {
         "Transaction ID": "TXN005",
         "Age": "4",
         "Items": 2,
         "Monthly Income": 14439,
         "Transaction Time": 403.3742228,
         "Record": 2,
         "Total Spend": 3254.160485,
         "Gender": 0,
         "City_1": 0,
         "City_2": 1,
         "City_3": 0,
         "_deepnote_index_column": 4
        },
        {
         "Transaction ID": "TXN006",
         "Age": "4",
         "Items": 6,
         "Monthly Income": 6282,
         "Transaction Time": 48.97426843,
         "Record": 2,
         "Total Spend": 2375.036467,
         "Gender": 1,
         "City_1": 0,
         "City_2": 1,
         "City_3": 0,
         "_deepnote_index_column": 5
        },
        {
         "Transaction ID": "TXN007",
         "Age": "3",
         "Items": 14,
         "Monthly Income": 7086,
         "Transaction Time": 961.2037677,
         "Record": 8,
         "Total Spend": 7494.474559,
         "Gender": 1,
         "City_1": 1,
         "City_2": 0,
         "City_3": 0,
         "_deepnote_index_column": 6
        },
        {
         "Transaction ID": "TXN008",
         "Age": "4",
         "Items": 9,
         "Monthly Income": 8881,
         "Transaction Time": 962.2537396,
         "Record": 10,
         "Total Spend": 10782.94492,
         "Gender": 1,
         "City_1": 0,
         "City_2": 0,
         "City_3": 1,
         "_deepnote_index_column": 7
        },
        {
         "Transaction ID": "TXN009",
         "Age": "3",
         "Items": 6,
         "Monthly Income": 5635,
         "Transaction Time": 858.3281315,
         "Record": 5,
         "Total Spend": 3854.277411,
         "Gender": 1,
         "City_1": 1,
         "City_2": 0,
         "City_3": 0,
         "_deepnote_index_column": 8
        },
        {
         "Transaction ID": "TXN010",
         "Age": "4",
         "Items": 12,
         "Monthly Income": 20861,
         "Transaction Time": 43.03673676,
         "Record": 4,
         "Total Spend": 5346.140262,
         "Gender": 0,
         "City_1": 0,
         "City_2": 1,
         "City_3": 0,
         "_deepnote_index_column": 9
        },
        {
         "Transaction ID": "TXN011",
         "Age": "4",
         "Items": 8,
         "Monthly Income": 2556,
         "Transaction Time": 947.8463863,
         "Record": 1,
         "Total Spend": 1712.073796,
         "Gender": 1,
         "City_1": 0,
         "City_2": 0,
         "City_3": 1,
         "_deepnote_index_column": 10
        },
        {
         "Transaction ID": "TXN012",
         "Age": "4",
         "Items": 8,
         "Monthly Income": 27947,
         "Transaction Time": 89.64334818,
         "Record": 6,
         "Total Spend": 8047.046153,
         "Gender": 1,
         "City_1": 0,
         "City_2": 1,
         "City_3": 0,
         "_deepnote_index_column": 11
        },
        {
         "Transaction ID": "TXN013",
         "Age": "4",
         "Items": 12,
         "Monthly Income": 23445,
         "Transaction Time": 773.6359876,
         "Record": 9,
         "Total Spend": 11334.57824,
         "Gender": 1,
         "City_1": 0,
         "City_2": 0,
         "City_3": 1,
         "_deepnote_index_column": 12
        },
        {
         "Transaction ID": "TXN014",
         "Age": "3",
         "Items": 10,
         "Monthly Income": 14297,
         "Transaction Time": 245.8941503,
         "Record": 2,
         "Total Spend": 3791.364491,
         "Gender": 1,
         "City_1": 0,
         "City_2": 1,
         "City_3": 0,
         "_deepnote_index_column": 13
        },
        {
         "Transaction ID": "TXN015",
         "Age": "4",
         "Items": 1,
         "Monthly Income": 3405,
         "Transaction Time": 120.9167811,
         "Record": 1,
         "Total Spend": 1674.998658,
         "Gender": 1,
         "City_1": 1,
         "City_2": 0,
         "City_3": 0,
         "_deepnote_index_column": 14
        },
        {
         "Transaction ID": "TXN016",
         "Age": "3",
         "Items": 13,
         "Monthly Income": 28714,
         "Transaction Time": 546.5522745,
         "Record": 6,
         "Total Spend": 8446.607517,
         "Gender": 1,
         "City_1": 0,
         "City_2": 1,
         "City_3": 0,
         "_deepnote_index_column": 15
        },
        {
         "Transaction ID": "TXN017",
         "Age": "4",
         "Items": 13,
         "Monthly Income": 14069,
         "Transaction Time": 131.2064474,
         "Record": 8,
         "Total Spend": 8338.43853,
         "Gender": 0,
         "City_1": 1,
         "City_2": 0,
         "City_3": 0,
         "_deepnote_index_column": 16
        },
        {
         "Transaction ID": "TXN018",
         "Age": "4",
         "Items": 14,
         "Monthly Income": 28428,
         "Transaction Time": 102.0523714,
         "Record": 9,
         "Total Spend": 11933.05688,
         "Gender": 0,
         "City_1": 0,
         "City_2": 0,
         "City_3": 1,
         "_deepnote_index_column": 17
        },
        {
         "Transaction ID": "TXN019",
         "Age": "4",
         "Items": 15,
         "Monthly Income": 14982,
         "Transaction Time": 69.32488327,
         "Record": 10,
         "Total Spend": 11898.85488,
         "Gender": 1,
         "City_1": 0,
         "City_2": 1,
         "City_3": 0,
         "_deepnote_index_column": 18
        },
        {
         "Transaction ID": "TXN020",
         "Age": "4",
         "Items": 13,
         "Monthly Income": 27864,
         "Transaction Time": 350.7857034,
         "Record": 8,
         "Total Spend": 10502.3972,
         "Gender": 0,
         "City_1": 1,
         "City_2": 0,
         "City_3": 0,
         "_deepnote_index_column": 19
        },
        {
         "Transaction ID": "TXN021",
         "Age": "3",
         "Items": 5,
         "Monthly Income": 16960,
         "Transaction Time": 588.3179495,
         "Record": 10,
         "Total Spend": 11640.42717,
         "Gender": 1,
         "City_1": 0,
         "City_2": 1,
         "City_3": 0,
         "_deepnote_index_column": 20
        },
        {
         "Transaction ID": "TXN022",
         "Age": "4",
         "Items": 14,
         "Monthly Income": 3041,
         "Transaction Time": 361.6467376,
         "Record": 8,
         "Total Spend": 6929.271468,
         "Gender": 1,
         "City_1": 0,
         "City_2": 0,
         "City_3": 1,
         "_deepnote_index_column": 21
        },
        {
         "Transaction ID": "TXN023",
         "Age": "3",
         "Items": 13,
         "Monthly Income": 5037,
         "Transaction Time": 579.519349,
         "Record": 6,
         "Total Spend": 4659.60114,
         "Gender": 0,
         "City_1": 0,
         "City_2": 1,
         "City_3": 0,
         "_deepnote_index_column": 22
        },
        {
         "Transaction ID": "TXN024",
         "Age": "4",
         "Items": 4,
         "Monthly Income": 27403,
         "Transaction Time": 755.1910339,
         "Record": 2,
         "Total Spend": 5186.995354,
         "Gender": 0,
         "City_1": 0,
         "City_2": 0,
         "City_3": 1,
         "_deepnote_index_column": 23
        },
        {
         "Transaction ID": "TXN025",
         "Age": "3",
         "Items": 11,
         "Monthly Income": 23570,
         "Transaction Time": 484.6853402,
         "Record": 6,
         "Total Spend": 7573.790334,
         "Gender": 1,
         "City_1": 1,
         "City_2": 0,
         "City_3": 0,
         "_deepnote_index_column": 24
        },
        {
         "Transaction ID": "TXN026",
         "Age": "3",
         "Items": 5,
         "Monthly Income": 8954,
         "Transaction Time": 87.43644917,
         "Record": 1,
         "Total Spend": 2113.269251,
         "Gender": 0,
         "City_1": 0,
         "City_2": 0,
         "City_3": 1,
         "_deepnote_index_column": 25
        },
        {
         "Transaction ID": "TXN027",
         "Age": "3",
         "Items": 15,
         "Monthly Income": 12015,
         "Transaction Time": 997.7113664,
         "Record": 8,
         "Total Spend": 8316.443505,
         "Gender": 1,
         "City_1": 1,
         "City_2": 0,
         "City_3": 0,
         "_deepnote_index_column": 26
        },
        {
         "Transaction ID": "TXN028",
         "Age": "4",
         "Items": 9,
         "Monthly Income": 8061,
         "Transaction Time": 629.9857716,
         "Record": 7,
         "Total Spend": 6016.72732,
         "Gender": 0,
         "City_1": 0,
         "City_2": 1,
         "City_3": 0,
         "_deepnote_index_column": 27
        },
        {
         "Transaction ID": "TXN029",
         "Age": "3",
         "Items": 4,
         "Monthly Income": 20163,
         "Transaction Time": 623.2114898,
         "Record": 10,
         "Total Spend": 11998.37951,
         "Gender": 0,
         "City_1": 1,
         "City_2": 0,
         "City_3": 0,
         "_deepnote_index_column": 28
        },
        {
         "Transaction ID": "TXN030",
         "Age": "3",
         "Items": 10,
         "Monthly Income": 22859,
         "Transaction Time": 925.1652785,
         "Record": 5,
         "Total Spend": 6719.134009,
         "Gender": 1,
         "City_1": 1,
         "City_2": 0,
         "City_3": 0,
         "_deepnote_index_column": 29
        },
        {
         "Transaction ID": "TXN031",
         "Age": "4",
         "Items": 7,
         "Monthly Income": 10568,
         "Transaction Time": 515.9493631,
         "Record": 0,
         "Total Spend": 2592.460708,
         "Gender": 0,
         "City_1": 0,
         "City_2": 1,
         "City_3": 0,
         "_deepnote_index_column": 30
        },
        {
         "Transaction ID": "TXN032",
         "Age": "3",
         "Items": 2,
         "Monthly Income": 13087,
         "Transaction Time": 233.1774339,
         "Record": 10,
         "Total Spend": 10984.28461,
         "Gender": 1,
         "City_1": 1,
         "City_2": 0,
         "City_3": 0,
         "_deepnote_index_column": 31
        },
        {
         "Transaction ID": "TXN033",
         "Age": "4",
         "Items": 6,
         "Monthly Income": 7189,
         "Transaction Time": 11.90050671,
         "Record": 4,
         "Total Spend": 3325.512874,
         "Gender": 1,
         "City_1": 0,
         "City_2": 0,
         "City_3": 1,
         "_deepnote_index_column": 32
        },
        {
         "Transaction ID": "TXN034",
         "Age": "4",
         "Items": 11,
         "Monthly Income": 19822,
         "Transaction Time": 452.0136871,
         "Record": 2,
         "Total Spend": 4776.55483,
         "Gender": 1,
         "City_1": 0,
         "City_2": 0,
         "City_3": 1,
         "_deepnote_index_column": 33
        },
        {
         "Transaction ID": "TXN035",
         "Age": "4",
         "Items": 9,
         "Monthly Income": 25446,
         "Transaction Time": 448.282333,
         "Record": 4,
         "Total Spend": 6397.661491,
         "Gender": 1,
         "City_1": 0,
         "City_2": 1,
         "City_3": 0,
         "_deepnote_index_column": 34
        },
        {
         "Transaction ID": "TXN036",
         "Age": "3",
         "Items": 3,
         "Monthly Income": 12299,
         "Transaction Time": 974.5246754,
         "Record": 2,
         "Total Spend": 3135.468955,
         "Gender": 1,
         "City_1": 0,
         "City_2": 1,
         "City_3": 0,
         "_deepnote_index_column": 35
        },
        {
         "Transaction ID": "TXN037",
         "Age": "4",
         "Items": 12,
         "Monthly Income": 3510,
         "Transaction Time": 219.2608392,
         "Record": 2,
         "Total Spend": 1891.335778,
         "Gender": 0,
         "City_1": 0,
         "City_2": 1,
         "City_3": 0,
         "_deepnote_index_column": 36
        },
        {
         "Transaction ID": "TXN038",
         "Age": "3",
         "Items": 8,
         "Monthly Income": 19919,
         "Transaction Time": 663.5047641,
         "Record": 1,
         "Total Spend": 4150.034405,
         "Gender": 0,
         "City_1": 0,
         "City_2": 1,
         "City_3": 0,
         "_deepnote_index_column": 37
        },
        {
         "Transaction ID": "TXN039",
         "Age": "3",
         "Items": 15,
         "Monthly Income": 2871,
         "Transaction Time": 696.0379652,
         "Record": 7,
         "Total Spend": 5661.557539,
         "Gender": 1,
         "City_1": 0,
         "City_2": 1,
         "City_3": 0,
         "_deepnote_index_column": 38
        },
        {
         "Transaction ID": "TXN040",
         "Age": "4",
         "Items": 9,
         "Monthly Income": 22498,
         "Transaction Time": 432.7923821,
         "Record": 9,
         "Total Spend": 11260.30254,
         "Gender": 1,
         "City_1": 0,
         "City_2": 1,
         "City_3": 0,
         "_deepnote_index_column": 39
        },
        {
         "Transaction ID": "TXN041",
         "Age": "4",
         "Items": 5,
         "Monthly Income": 8932,
         "Transaction Time": 145.7876254,
         "Record": 6,
         "Total Spend": 5329.916412,
         "Gender": 1,
         "City_1": 1,
         "City_2": 0,
         "City_3": 0,
         "_deepnote_index_column": 40
        },
        {
         "Transaction ID": "TXN042",
         "Age": "3",
         "Items": 9,
         "Monthly Income": 18488,
         "Transaction Time": 12.80030972,
         "Record": 1,
         "Total Spend": 3751.922048,
         "Gender": 0,
         "City_1": 0,
         "City_2": 1,
         "City_3": 0,
         "_deepnote_index_column": 41
        },
        {
         "Transaction ID": "TXN043",
         "Age": "3",
         "Items": 11,
         "Monthly Income": 26992,
         "Transaction Time": 753.0025977,
         "Record": 7,
         "Total Spend": 8881.123893,
         "Gender": 0,
         "City_1": 0,
         "City_2": 0,
         "City_3": 1,
         "_deepnote_index_column": 42
        },
        {
         "Transaction ID": "TXN044",
         "Age": "4",
         "Items": 4,
         "Monthly Income": 16666,
         "Transaction Time": 968.2059664,
         "Record": 0,
         "Total Spend": 3687.496775,
         "Gender": 0,
         "City_1": 1,
         "City_2": 0,
         "City_3": 0,
         "_deepnote_index_column": 43
        },
        {
         "Transaction ID": "TXN045",
         "Age": "3",
         "Items": 1,
         "Monthly Income": 26814,
         "Transaction Time": 330.581355,
         "Record": 9,
         "Total Spend": 11412.00241,
         "Gender": 1,
         "City_1": 1,
         "City_2": 0,
         "City_3": 0,
         "_deepnote_index_column": 44
        }
       ],
       "rows_bottom": [
        {
         "Transaction ID": "TXN2318",
         "Age": "3",
         "Items": 5,
         "Monthly Income": 12784,
         "Transaction Time": 245.0494504,
         "Record": 8,
         "Total Spend": 7643.818386,
         "Gender": 0,
         "City_1": 0,
         "City_2": 0,
         "City_3": 1,
         "_deepnote_index_column": 2317
        },
        {
         "Transaction ID": "TXN2319",
         "Age": "4",
         "Items": 13,
         "Monthly Income": 13155,
         "Transaction Time": 652.0498284,
         "Record": 0,
         "Total Spend": 3568.678078,
         "Gender": 1,
         "City_1": 0,
         "City_2": 1,
         "City_3": 0,
         "_deepnote_index_column": 2318
        },
        {
         "Transaction ID": "TXN2320",
         "Age": "3",
         "Items": 1,
         "Monthly Income": 9209,
         "Transaction Time": 737.8256554,
         "Record": 4,
         "Total Spend": 3577.751704,
         "Gender": 1,
         "City_1": 0,
         "City_2": 1,
         "City_3": 0,
         "_deepnote_index_column": 2319
        },
        {
         "Transaction ID": "TXN2321",
         "Age": "4",
         "Items": 7,
         "Monthly Income": 2634,
         "Transaction Time": 568.6010107,
         "Record": 6,
         "Total Spend": 4038.325109,
         "Gender": 0,
         "City_1": 0,
         "City_2": 0,
         "City_3": 1,
         "_deepnote_index_column": 2320
        },
        {
         "Transaction ID": "TXN2322",
         "Age": "3",
         "Items": 4,
         "Monthly Income": 13523,
         "Transaction Time": 597.7917422,
         "Record": 8,
         "Total Spend": 7766.398004,
         "Gender": 0,
         "City_1": 0,
         "City_2": 0,
         "City_3": 1,
         "_deepnote_index_column": 2321
        },
        {
         "Transaction ID": "TXN2323",
         "Age": "4",
         "Items": 11,
         "Monthly Income": 9196,
         "Transaction Time": 697.4531419,
         "Record": 0,
         "Total Spend": 2807.751504,
         "Gender": 0,
         "City_1": 1,
         "City_2": 0,
         "City_3": 0,
         "_deepnote_index_column": 2322
        },
        {
         "Transaction ID": "TXN2324",
         "Age": "3",
         "Items": 8,
         "Monthly Income": 12737,
         "Transaction Time": 992.2046141,
         "Record": 6,
         "Total Spend": 5663.95447,
         "Gender": 0,
         "City_1": 1,
         "City_2": 0,
         "City_3": 0,
         "_deepnote_index_column": 2323
        },
        {
         "Transaction ID": "TXN2325",
         "Age": "4",
         "Items": 9,
         "Monthly Income": 11307,
         "Transaction Time": 436.4106327,
         "Record": 1,
         "Total Spend": 2990.039532,
         "Gender": 0,
         "City_1": 1,
         "City_2": 0,
         "City_3": 0,
         "_deepnote_index_column": 2324
        },
        {
         "Transaction ID": "TXN2326",
         "Age": "4",
         "Items": 6,
         "Monthly Income": 21351,
         "Transaction Time": 629.164498,
         "Record": 7,
         "Total Spend": 8242.170667,
         "Gender": 1,
         "City_1": 1,
         "City_2": 0,
         "City_3": 0,
         "_deepnote_index_column": 2325
        },
        {
         "Transaction ID": "TXN2327",
         "Age": "3",
         "Items": 11,
         "Monthly Income": 12925,
         "Transaction Time": 81.63903874,
         "Record": 7,
         "Total Spend": 6637.584034,
         "Gender": 0,
         "City_1": 0,
         "City_2": 1,
         "City_3": 0,
         "_deepnote_index_column": 2326
        },
        {
         "Transaction ID": "TXN2328",
         "Age": "3",
         "Items": 1,
         "Monthly Income": 23376,
         "Transaction Time": 4.455226624,
         "Record": 3,
         "Total Spend": 4568.865903,
         "Gender": 0,
         "City_1": 0,
         "City_2": 1,
         "City_3": 0,
         "_deepnote_index_column": 2327
        },
        {
         "Transaction ID": "TXN2329",
         "Age": "3",
         "Items": 3,
         "Monthly Income": 9151,
         "Transaction Time": 388.290312,
         "Record": 7,
         "Total Spend": 6110.209901,
         "Gender": 1,
         "City_1": 0,
         "City_2": 1,
         "City_3": 0,
         "_deepnote_index_column": 2328
        },
        {
         "Transaction ID": "TXN2330",
         "Age": "4",
         "Items": 1,
         "Monthly Income": 18898,
         "Transaction Time": 199.837246,
         "Record": 9,
         "Total Spend": 9820.742218,
         "Gender": 0,
         "City_1": 0,
         "City_2": 0,
         "City_3": 1,
         "_deepnote_index_column": 2329
        },
        {
         "Transaction ID": "TXN2331",
         "Age": "4",
         "Items": 5,
         "Monthly Income": 11405,
         "Transaction Time": 541.6283376,
         "Record": 0,
         "Total Spend": 2955.120138,
         "Gender": 1,
         "City_1": 0,
         "City_2": 1,
         "City_3": 0,
         "_deepnote_index_column": 2330
        },
        {
         "Transaction ID": "TXN2332",
         "Age": "4",
         "Items": 11,
         "Monthly Income": 14510,
         "Transaction Time": 850.8863629,
         "Record": 0,
         "Total Spend": 3816.487156,
         "Gender": 1,
         "City_1": 0,
         "City_2": 1,
         "City_3": 0,
         "_deepnote_index_column": 2331
        },
        {
         "Transaction ID": "TXN2333",
         "Age": "4",
         "Items": 4,
         "Monthly Income": 17916,
         "Transaction Time": 252.7169555,
         "Record": 1,
         "Total Spend": 3992.663438,
         "Gender": 1,
         "City_1": 0,
         "City_2": 0,
         "City_3": 1,
         "_deepnote_index_column": 2332
        },
        {
         "Transaction ID": "TXN2334",
         "Age": "3",
         "Items": 3,
         "Monthly Income": 24366,
         "Transaction Time": 750.5992305,
         "Record": 0,
         "Total Spend": 4499.440811,
         "Gender": 0,
         "City_1": 0,
         "City_2": 0,
         "City_3": 1,
         "_deepnote_index_column": 2333
        },
        {
         "Transaction ID": "TXN2335",
         "Age": "4",
         "Items": 11,
         "Monthly Income": 11041,
         "Transaction Time": 150.6362767,
         "Record": 9,
         "Total Spend": 9255.917532,
         "Gender": 0,
         "City_1": 1,
         "City_2": 0,
         "City_3": 0,
         "_deepnote_index_column": 2334
        },
        {
         "Transaction ID": "TXN2336",
         "Age": "4",
         "Items": 9,
         "Monthly Income": 11853,
         "Transaction Time": 772.3749615,
         "Record": 7,
         "Total Spend": 6591.377065,
         "Gender": 0,
         "City_1": 1,
         "City_2": 0,
         "City_3": 0,
         "_deepnote_index_column": 2335
        },
        {
         "Transaction ID": "TXN2337",
         "Age": "4",
         "Items": 10,
         "Monthly Income": 9669,
         "Transaction Time": 644.6338354,
         "Record": 8,
         "Total Spend": 7810.574323,
         "Gender": 1,
         "City_1": 0,
         "City_2": 1,
         "City_3": 0,
         "_deepnote_index_column": 2336
        },
        {
         "Transaction ID": "TXN2338",
         "Age": "3",
         "Items": 15,
         "Monthly Income": 27785,
         "Transaction Time": 25.15140952,
         "Record": 7,
         "Total Spend": 9461.450479,
         "Gender": 1,
         "City_1": 1,
         "City_2": 0,
         "City_3": 0,
         "_deepnote_index_column": 2337
        },
        {
         "Transaction ID": "TXN2339",
         "Age": "4",
         "Items": 2,
         "Monthly Income": 8000,
         "Transaction Time": 135.8589602,
         "Record": 3,
         "Total Spend": 2625.887751,
         "Gender": 0,
         "City_1": 0,
         "City_2": 0,
         "City_3": 1,
         "_deepnote_index_column": 2338
        },
        {
         "Transaction ID": "TXN2340",
         "Age": "3",
         "Items": 3,
         "Monthly Income": 12618,
         "Transaction Time": 143.2350144,
         "Record": 3,
         "Total Spend": 3285.883842,
         "Gender": 0,
         "City_1": 0,
         "City_2": 1,
         "City_3": 0,
         "_deepnote_index_column": 2339
        },
        {
         "Transaction ID": "TXN2341",
         "Age": "3",
         "Items": 12,
         "Monthly Income": 10293,
         "Transaction Time": 738.0557821,
         "Record": 8,
         "Total Spend": 7494.051932,
         "Gender": 0,
         "City_1": 0,
         "City_2": 0,
         "City_3": 1,
         "_deepnote_index_column": 2340
        },
        {
         "Transaction ID": "TXN2342",
         "Age": "4",
         "Items": 7,
         "Monthly Income": 24094,
         "Transaction Time": 268.1530366,
         "Record": 0,
         "Total Spend": 4698.938272,
         "Gender": 0,
         "City_1": 0,
         "City_2": 1,
         "City_3": 0,
         "_deepnote_index_column": 2341
        },
        {
         "Transaction ID": "TXN2343",
         "Age": "4",
         "Items": 15,
         "Monthly Income": 29852,
         "Transaction Time": 420.1259655,
         "Record": 6,
         "Total Spend": 8768.882298,
         "Gender": 1,
         "City_1": 0,
         "City_2": 1,
         "City_3": 0,
         "_deepnote_index_column": 2342
        },
        {
         "Transaction ID": "TXN2344",
         "Age": "3",
         "Items": 11,
         "Monthly Income": 5882,
         "Transaction Time": 417.5462103,
         "Record": 3,
         "Total Spend": 2607.949377,
         "Gender": 0,
         "City_1": 1,
         "City_2": 0,
         "City_3": 0,
         "_deepnote_index_column": 2343
        },
        {
         "Transaction ID": "TXN2345",
         "Age": "3",
         "Items": 9,
         "Monthly Income": 7619,
         "Transaction Time": 451.3539471,
         "Record": 9,
         "Total Spend": 8467.276299,
         "Gender": 0,
         "City_1": 0,
         "City_2": 1,
         "City_3": 0,
         "_deepnote_index_column": 2344
        },
        {
         "Transaction ID": "TXN2346",
         "Age": "4",
         "Items": 14,
         "Monthly Income": 2897,
         "Transaction Time": 676.1458909,
         "Record": 1,
         "Total Spend": 1730.554041,
         "Gender": 0,
         "City_1": 0,
         "City_2": 0,
         "City_3": 1,
         "_deepnote_index_column": 2345
        },
        {
         "Transaction ID": "TXN2347",
         "Age": "4",
         "Items": 1,
         "Monthly Income": 15528,
         "Transaction Time": 167.1060318,
         "Record": 8,
         "Total Spend": 8365.792225,
         "Gender": 1,
         "City_1": 1,
         "City_2": 0,
         "City_3": 0,
         "_deepnote_index_column": 2346
        },
        {
         "Transaction ID": "TXN2348",
         "Age": "3",
         "Items": 2,
         "Monthly Income": 7828,
         "Transaction Time": 814.7720974,
         "Record": 6,
         "Total Spend": 4737.047961,
         "Gender": 0,
         "City_1": 1,
         "City_2": 0,
         "City_3": 0,
         "_deepnote_index_column": 2347
        },
        {
         "Transaction ID": "TXN2349",
         "Age": "4",
         "Items": 2,
         "Monthly Income": 22398,
         "Transaction Time": 107.7480734,
         "Record": 7,
         "Total Spend": 7738.585197,
         "Gender": 0,
         "City_1": 0,
         "City_2": 0,
         "City_3": 1,
         "_deepnote_index_column": 2348
        },
        {
         "Transaction ID": "TXN2350",
         "Age": "4",
         "Items": 13,
         "Monthly Income": 25578,
         "Transaction Time": 519.1348289,
         "Record": 3,
         "Total Spend": 5905.80694,
         "Gender": 1,
         "City_1": 0,
         "City_2": 0,
         "City_3": 1,
         "_deepnote_index_column": 2349
        },
        {
         "Transaction ID": "TXN2351",
         "Age": "4",
         "Items": 1,
         "Monthly Income": 3323,
         "Transaction Time": 41.91338833,
         "Record": 8,
         "Total Spend": 6318.97829,
         "Gender": 0,
         "City_1": 1,
         "City_2": 0,
         "City_3": 0,
         "_deepnote_index_column": 2350
        },
        {
         "Transaction ID": "TXN2352",
         "Age": "4",
         "Items": 9,
         "Monthly Income": 16714,
         "Transaction Time": 674.1707378,
         "Record": 0,
         "Total Spend": 3751.97699,
         "Gender": 0,
         "City_1": 0,
         "City_2": 1,
         "City_3": 0,
         "_deepnote_index_column": 2351
        },
        {
         "Transaction ID": "TXN2353",
         "Age": "4",
         "Items": 1,
         "Monthly Income": 21134,
         "Transaction Time": 470.5359582,
         "Record": 0,
         "Total Spend": 4151.359282,
         "Gender": 0,
         "City_1": 1,
         "City_2": 0,
         "City_3": 0,
         "_deepnote_index_column": 2352
        },
        {
         "Transaction ID": "TXN2354",
         "Age": "4",
         "Items": 10,
         "Monthly Income": 7808,
         "Transaction Time": 214.6504546,
         "Record": 6,
         "Total Spend": 5085.117527,
         "Gender": 1,
         "City_1": 0,
         "City_2": 0,
         "City_3": 1,
         "_deepnote_index_column": 2353
        },
        {
         "Transaction ID": "TXN2355",
         "Age": "4",
         "Items": 11,
         "Monthly Income": 24233,
         "Transaction Time": 887.2193955,
         "Record": 7,
         "Total Spend": 8369.397349,
         "Gender": 0,
         "City_1": 0,
         "City_2": 0,
         "City_3": 1,
         "_deepnote_index_column": 2354
        },
        {
         "Transaction ID": "TXN2356",
         "Age": "4",
         "Items": 2,
         "Monthly Income": 11500,
         "Transaction Time": 397.5393403,
         "Record": 1,
         "Total Spend": 2948.938011,
         "Gender": 1,
         "City_1": 1,
         "City_2": 0,
         "City_3": 0,
         "_deepnote_index_column": 2355
        },
        {
         "Transaction ID": "TXN2357",
         "Age": "3",
         "Items": 4,
         "Monthly Income": 13481,
         "Transaction Time": 602.3932975,
         "Record": 8,
         "Total Spend": 7578.431026,
         "Gender": 0,
         "City_1": 0,
         "City_2": 0,
         "City_3": 1,
         "_deepnote_index_column": 2356
        },
        {
         "Transaction ID": "TXN2358",
         "Age": "4",
         "Items": 7,
         "Monthly Income": 5705,
         "Transaction Time": 460.157207,
         "Record": 3,
         "Total Spend": 2909.619546,
         "Gender": 1,
         "City_1": 0,
         "City_2": 1,
         "City_3": 0,
         "_deepnote_index_column": 2357
        },
        {
         "Transaction ID": "TXN2359",
         "Age": "3",
         "Items": 11,
         "Monthly Income": 11202,
         "Transaction Time": 851.924751,
         "Record": 8,
         "Total Spend": 7968.633136,
         "Gender": 1,
         "City_1": 0,
         "City_2": 1,
         "City_3": 0,
         "_deepnote_index_column": 2358
        },
        {
         "Transaction ID": "TXN2360",
         "Age": "3",
         "Items": 5,
         "Monthly Income": 21335,
         "Transaction Time": 435.1453578,
         "Record": 8,
         "Total Spend": 8816.406448,
         "Gender": 0,
         "City_1": 0,
         "City_2": 0,
         "City_3": 1,
         "_deepnote_index_column": 2359
        },
        {
         "Transaction ID": "TXN2361",
         "Age": "4",
         "Items": 12,
         "Monthly Income": 19294,
         "Transaction Time": 658.4398376,
         "Record": 7,
         "Total Spend": 7915.595856,
         "Gender": 0,
         "City_1": 1,
         "City_2": 0,
         "City_3": 0,
         "_deepnote_index_column": 2360
        },
        {
         "Transaction ID": "TXN2362",
         "Age": "4",
         "Items": 7,
         "Monthly Income": 2855,
         "Transaction Time": 560.5143406,
         "Record": 8,
         "Total Spend": 6832.401686,
         "Gender": 1,
         "City_1": 1,
         "City_2": 0,
         "City_3": 0,
         "_deepnote_index_column": 2361
        }
       ]
      },
      "text/plain": "     Transaction ID Age  Items  Monthly Income  Transaction Time  Record  \\\n0            TXN001   4     10            7313        627.668127       5   \n1            TXN002   3      8           17747        126.904567       3   \n2            TXN003   4     11           22845        873.469701       2   \n3            TXN004   4     11           18552        380.219428       7   \n4            TXN005   4      2           14439        403.374223       2   \n...             ...  ..    ...             ...               ...     ...   \n2357        TXN2358   4      7            5705        460.157207       3   \n2358        TXN2359   3     11           11202        851.924751       8   \n2359        TXN2360   3      5           21335        435.145358       8   \n2360        TXN2361   4     12           19294        658.439838       7   \n2361        TXN2362   4      7            2855        560.514341       8   \n\n      Total Spend  Gender  City_1  City_2  City_3  \n0     4198.385084       0       1       0       0  \n1     4134.976648       0       0       1       0  \n2     5166.614455       1       0       1       0  \n3     7784.447676       0       1       0       0  \n4     3254.160485       0       0       1       0  \n...           ...     ...     ...     ...     ...  \n2357  2909.619546       1       0       1       0  \n2358  7968.633136       1       0       1       0  \n2359  8816.406448       0       0       0       1  \n2360  7915.595856       0       1       0       0  \n2361  6832.401686       1       1       0       0  \n\n[2362 rows x 11 columns]",
      "text/html": "<div>\n<style scoped>\n    .dataframe tbody tr th:only-of-type {\n        vertical-align: middle;\n    }\n\n    .dataframe tbody tr th {\n        vertical-align: top;\n    }\n\n    .dataframe thead th {\n        text-align: right;\n    }\n</style>\n<table border=\"1\" class=\"dataframe\">\n  <thead>\n    <tr style=\"text-align: right;\">\n      <th></th>\n      <th>Transaction ID</th>\n      <th>Age</th>\n      <th>Items</th>\n      <th>Monthly Income</th>\n      <th>Transaction Time</th>\n      <th>Record</th>\n      <th>Total Spend</th>\n      <th>Gender</th>\n      <th>City_1</th>\n      <th>City_2</th>\n      <th>City_3</th>\n    </tr>\n  </thead>\n  <tbody>\n    <tr>\n      <th>0</th>\n      <td>TXN001</td>\n      <td>4</td>\n      <td>10</td>\n      <td>7313</td>\n      <td>627.668127</td>\n      <td>5</td>\n      <td>4198.385084</td>\n      <td>0</td>\n      <td>1</td>\n      <td>0</td>\n      <td>0</td>\n    </tr>\n    <tr>\n      <th>1</th>\n      <td>TXN002</td>\n      <td>3</td>\n      <td>8</td>\n      <td>17747</td>\n      <td>126.904567</td>\n      <td>3</td>\n      <td>4134.976648</td>\n      <td>0</td>\n      <td>0</td>\n      <td>1</td>\n      <td>0</td>\n    </tr>\n    <tr>\n      <th>2</th>\n      <td>TXN003</td>\n      <td>4</td>\n      <td>11</td>\n      <td>22845</td>\n      <td>873.469701</td>\n      <td>2</td>\n      <td>5166.614455</td>\n      <td>1</td>\n      <td>0</td>\n      <td>1</td>\n      <td>0</td>\n    </tr>\n    <tr>\n      <th>3</th>\n      <td>TXN004</td>\n      <td>4</td>\n      <td>11</td>\n      <td>18552</td>\n      <td>380.219428</td>\n      <td>7</td>\n      <td>7784.447676</td>\n      <td>0</td>\n      <td>1</td>\n      <td>0</td>\n      <td>0</td>\n    </tr>\n    <tr>\n      <th>4</th>\n      <td>TXN005</td>\n      <td>4</td>\n      <td>2</td>\n      <td>14439</td>\n      <td>403.374223</td>\n      <td>2</td>\n      <td>3254.160485</td>\n      <td>0</td>\n      <td>0</td>\n      <td>1</td>\n      <td>0</td>\n    </tr>\n    <tr>\n      <th>...</th>\n      <td>...</td>\n      <td>...</td>\n      <td>...</td>\n      <td>...</td>\n      <td>...</td>\n      <td>...</td>\n      <td>...</td>\n      <td>...</td>\n      <td>...</td>\n      <td>...</td>\n      <td>...</td>\n    </tr>\n    <tr>\n      <th>2357</th>\n      <td>TXN2358</td>\n      <td>4</td>\n      <td>7</td>\n      <td>5705</td>\n      <td>460.157207</td>\n      <td>3</td>\n      <td>2909.619546</td>\n      <td>1</td>\n      <td>0</td>\n      <td>1</td>\n      <td>0</td>\n    </tr>\n    <tr>\n      <th>2358</th>\n      <td>TXN2359</td>\n      <td>3</td>\n      <td>11</td>\n      <td>11202</td>\n      <td>851.924751</td>\n      <td>8</td>\n      <td>7968.633136</td>\n      <td>1</td>\n      <td>0</td>\n      <td>1</td>\n      <td>0</td>\n    </tr>\n    <tr>\n      <th>2359</th>\n      <td>TXN2360</td>\n      <td>3</td>\n      <td>5</td>\n      <td>21335</td>\n      <td>435.145358</td>\n      <td>8</td>\n      <td>8816.406448</td>\n      <td>0</td>\n      <td>0</td>\n      <td>0</td>\n      <td>1</td>\n    </tr>\n    <tr>\n      <th>2360</th>\n      <td>TXN2361</td>\n      <td>4</td>\n      <td>12</td>\n      <td>19294</td>\n      <td>658.439838</td>\n      <td>7</td>\n      <td>7915.595856</td>\n      <td>0</td>\n      <td>1</td>\n      <td>0</td>\n      <td>0</td>\n    </tr>\n    <tr>\n      <th>2361</th>\n      <td>TXN2362</td>\n      <td>4</td>\n      <td>7</td>\n      <td>2855</td>\n      <td>560.514341</td>\n      <td>8</td>\n      <td>6832.401686</td>\n      <td>1</td>\n      <td>1</td>\n      <td>0</td>\n      <td>0</td>\n    </tr>\n  </tbody>\n</table>\n<p>2362 rows × 11 columns</p>\n</div>"
     },
     "metadata": {}
    }
   ],
   "execution_count": 15
  },
  {
   "cell_type": "code",
   "metadata": {
    "tags": [],
    "cell_id": "00015-d4c82305-3686-4cc0-8c84-667ab0eed4e6",
    "deepnote_to_be_reexecuted": false,
    "source_hash": "29abd090",
    "execution_start": 1636672449745,
    "execution_millis": 6,
    "deepnote_cell_type": "code"
   },
   "source": "# Downcasteamos\n\ndata_new['Gender'] = pd.to_numeric(data_new['Gender'], downcast='integer')\ndata_new['Record'] = pd.to_numeric(data_new['Record'], downcast='integer')\ndata_new['Items'] = pd.to_numeric(data_new['Items'], downcast='integer')\ndata_new['Total Spend'] = pd.to_numeric(data_new['Total Spend'], downcast='float')\ndata_new['Transaction Time'] = pd.to_numeric(data_new['Transaction Time'], downcast='float')\ndata_new['Monthly Income'] = pd.to_numeric(data_new['Monthly Income'], downcast='integer')",
   "outputs": [],
   "execution_count": 16
  },
  {
   "cell_type": "code",
   "metadata": {
    "tags": [],
    "cell_id": "00016-f552e760-6387-4b7d-b112-fd02355f5846",
    "deepnote_to_be_reexecuted": false,
    "source_hash": "75095a59",
    "execution_start": 1636672449746,
    "execution_millis": 6,
    "deepnote_cell_type": "code"
   },
   "source": "# Cuando downcasteamos reducimos espacio en memoria del tipo de objeto que tenemos\n\ndata_new.dtypes",
   "outputs": [
    {
     "output_type": "execute_result",
     "execution_count": 17,
     "data": {
      "text/plain": "Transaction ID        object\nAge                 category\nItems                   int8\nMonthly Income         int16\nTransaction Time     float32\nRecord                  int8\nTotal Spend          float32\nGender                  int8\nCity_1                 uint8\nCity_2                 uint8\nCity_3                 uint8\ndtype: object"
     },
     "metadata": {}
    }
   ],
   "execution_count": 17
  },
  {
   "cell_type": "code",
   "metadata": {
    "tags": [],
    "cell_id": "00016-8bcfe66b-3b75-42a4-bc3c-3ae9ab775a0f",
    "deepnote_to_be_reexecuted": false,
    "source_hash": "a7c0dd18",
    "execution_start": 1636672449746,
    "execution_millis": 106,
    "deepnote_cell_type": "code"
   },
   "source": "data_new",
   "outputs": [
    {
     "output_type": "execute_result",
     "execution_count": 18,
     "data": {
      "application/vnd.deepnote.dataframe.v2+json": {
       "row_count": 2362,
       "column_count": 11,
       "columns": [
        {
         "name": "Transaction ID",
         "dtype": "object",
         "stats": {
          "unique_count": 2362,
          "nan_count": 0,
          "categories": [
           {
            "name": "TXN001",
            "count": 1
           },
           {
            "name": "TXN002",
            "count": 1
           },
           {
            "name": "2360 others",
            "count": 2360
           }
          ]
         }
        },
        {
         "name": "Age",
         "dtype": "category",
         "stats": {
          "unique_count": 2,
          "nan_count": 0,
          "categories": [
           {
            "name": "4",
            "count": 1417
           },
           {
            "name": "3",
            "count": 945
           }
          ]
         }
        },
        {
         "name": "Items",
         "dtype": "int8",
         "stats": {
          "unique_count": 15,
          "nan_count": 0,
          "min": "1",
          "max": "15",
          "histogram": [
           {
            "bin_start": 1,
            "bin_end": 2.4,
            "count": 344
           },
           {
            "bin_start": 2.4,
            "bin_end": 3.8,
            "count": 151
           },
           {
            "bin_start": 3.8,
            "bin_end": 5.199999999999999,
            "count": 292
           },
           {
            "bin_start": 5.199999999999999,
            "bin_end": 6.6,
            "count": 167
           },
           {
            "bin_start": 6.6,
            "bin_end": 8,
            "count": 156
           },
           {
            "bin_start": 8,
            "bin_end": 9.399999999999999,
            "count": 341
           },
           {
            "bin_start": 9.399999999999999,
            "bin_end": 10.799999999999999,
            "count": 159
           },
           {
            "bin_start": 10.799999999999999,
            "bin_end": 12.2,
            "count": 319
           },
           {
            "bin_start": 12.2,
            "bin_end": 13.6,
            "count": 145
           },
           {
            "bin_start": 13.6,
            "bin_end": 15,
            "count": 288
           }
          ]
         }
        },
        {
         "name": "Monthly Income",
         "dtype": "int16",
         "stats": {
          "unique_count": 2251,
          "nan_count": 0,
          "min": "2003",
          "max": "30000",
          "histogram": [
           {
            "bin_start": 2003,
            "bin_end": 4802.7,
            "count": 217
           },
           {
            "bin_start": 4802.7,
            "bin_end": 7602.4,
            "count": 235
           },
           {
            "bin_start": 7602.4,
            "bin_end": 10402.099999999999,
            "count": 260
           },
           {
            "bin_start": 10402.099999999999,
            "bin_end": 13201.8,
            "count": 248
           },
           {
            "bin_start": 13201.8,
            "bin_end": 16001.5,
            "count": 237
           },
           {
            "bin_start": 16001.5,
            "bin_end": 18801.199999999997,
            "count": 246
           },
           {
            "bin_start": 18801.199999999997,
            "bin_end": 21600.899999999998,
            "count": 223
           },
           {
            "bin_start": 21600.899999999998,
            "bin_end": 24400.6,
            "count": 224
           },
           {
            "bin_start": 24400.6,
            "bin_end": 27200.3,
            "count": 241
           },
           {
            "bin_start": 27200.3,
            "bin_end": 30000,
            "count": 231
           }
          ]
         }
        },
        {
         "name": "Transaction Time",
         "dtype": "float32",
         "stats": {
          "unique_count": 2362,
          "nan_count": 0,
          "min": "0.46329739689826965",
          "max": "1000.6972045898438",
          "histogram": [
           {
            "bin_start": 0.46329739689826965,
            "bin_end": 100.48668670654297,
            "count": 239
           },
           {
            "bin_start": 100.48668670654297,
            "bin_end": 200.5100860595703,
            "count": 229
           },
           {
            "bin_start": 200.5100860595703,
            "bin_end": 300.5334777832031,
            "count": 249
           },
           {
            "bin_start": 300.5334777832031,
            "bin_end": 400.5568542480469,
            "count": 234
           },
           {
            "bin_start": 400.5568542480469,
            "bin_end": 500.58026123046875,
            "count": 242
           },
           {
            "bin_start": 500.58026123046875,
            "bin_end": 600.6036376953125,
            "count": 251
           },
           {
            "bin_start": 600.6036376953125,
            "bin_end": 700.6270141601562,
            "count": 221
           },
           {
            "bin_start": 700.6270141601562,
            "bin_end": 800.6504516601562,
            "count": 230
           },
           {
            "bin_start": 800.6504516601562,
            "bin_end": 900.673828125,
            "count": 244
           },
           {
            "bin_start": 900.673828125,
            "bin_end": 1000.6972045898438,
            "count": 223
           }
          ]
         }
        },
        {
         "name": "Record",
         "dtype": "int8",
         "stats": {
          "unique_count": 11,
          "nan_count": 0,
          "min": "0",
          "max": "10",
          "histogram": [
           {
            "bin_start": 0,
            "bin_end": 1,
            "count": 212
           },
           {
            "bin_start": 1,
            "bin_end": 2,
            "count": 208
           },
           {
            "bin_start": 2,
            "bin_end": 3,
            "count": 217
           },
           {
            "bin_start": 3,
            "bin_end": 4,
            "count": 220
           },
           {
            "bin_start": 4,
            "bin_end": 5,
            "count": 218
           },
           {
            "bin_start": 5,
            "bin_end": 6,
            "count": 237
           },
           {
            "bin_start": 6,
            "bin_end": 7,
            "count": 220
           },
           {
            "bin_start": 7,
            "bin_end": 8,
            "count": 239
           },
           {
            "bin_start": 8,
            "bin_end": 9,
            "count": 215
           },
           {
            "bin_start": 9,
            "bin_end": 10,
            "count": 376
           }
          ]
         }
        },
        {
         "name": "Total Spend",
         "dtype": "float32",
         "stats": {
          "unique_count": 2362,
          "nan_count": 0,
          "min": "1099.815185546875",
          "max": "13944.0478515625",
          "histogram": [
           {
            "bin_start": 1099.815185546875,
            "bin_end": 2384.238525390625,
            "count": 119
           },
           {
            "bin_start": 2384.238525390625,
            "bin_end": 3668.66162109375,
            "count": 355
           },
           {
            "bin_start": 3668.66162109375,
            "bin_end": 4953.0849609375,
            "count": 463
           },
           {
            "bin_start": 4953.0849609375,
            "bin_end": 6237.50830078125,
            "count": 429
           },
           {
            "bin_start": 6237.50830078125,
            "bin_end": 7521.931640625,
            "count": 303
           },
           {
            "bin_start": 7521.931640625,
            "bin_end": 8806.3544921875,
            "count": 221
           },
           {
            "bin_start": 8806.3544921875,
            "bin_end": 10090.7783203125,
            "count": 195
           },
           {
            "bin_start": 10090.7783203125,
            "bin_end": 11375.201171875,
            "count": 149
           },
           {
            "bin_start": 11375.201171875,
            "bin_end": 12659.625,
            "count": 94
           },
           {
            "bin_start": 12659.625,
            "bin_end": 13944.0478515625,
            "count": 34
           }
          ]
         }
        },
        {
         "name": "Gender",
         "dtype": "int8",
         "stats": {
          "unique_count": 2,
          "nan_count": 0,
          "min": "0",
          "max": "1",
          "histogram": [
           {
            "bin_start": 0,
            "bin_end": 0.1,
            "count": 1162
           },
           {
            "bin_start": 0.1,
            "bin_end": 0.2,
            "count": 0
           },
           {
            "bin_start": 0.2,
            "bin_end": 0.30000000000000004,
            "count": 0
           },
           {
            "bin_start": 0.30000000000000004,
            "bin_end": 0.4,
            "count": 0
           },
           {
            "bin_start": 0.4,
            "bin_end": 0.5,
            "count": 0
           },
           {
            "bin_start": 0.5,
            "bin_end": 0.6000000000000001,
            "count": 0
           },
           {
            "bin_start": 0.6000000000000001,
            "bin_end": 0.7000000000000001,
            "count": 0
           },
           {
            "bin_start": 0.7000000000000001,
            "bin_end": 0.8,
            "count": 0
           },
           {
            "bin_start": 0.8,
            "bin_end": 0.9,
            "count": 0
           },
           {
            "bin_start": 0.9,
            "bin_end": 1,
            "count": 1200
           }
          ]
         }
        },
        {
         "name": "City_1",
         "dtype": "uint8",
         "stats": {
          "unique_count": 2,
          "nan_count": 0,
          "min": "0",
          "max": "1",
          "histogram": [
           {
            "bin_start": 0,
            "bin_end": 0.1,
            "count": 1547
           },
           {
            "bin_start": 0.1,
            "bin_end": 0.2,
            "count": 0
           },
           {
            "bin_start": 0.2,
            "bin_end": 0.30000000000000004,
            "count": 0
           },
           {
            "bin_start": 0.30000000000000004,
            "bin_end": 0.4,
            "count": 0
           },
           {
            "bin_start": 0.4,
            "bin_end": 0.5,
            "count": 0
           },
           {
            "bin_start": 0.5,
            "bin_end": 0.6000000000000001,
            "count": 0
           },
           {
            "bin_start": 0.6000000000000001,
            "bin_end": 0.7000000000000001,
            "count": 0
           },
           {
            "bin_start": 0.7000000000000001,
            "bin_end": 0.8,
            "count": 0
           },
           {
            "bin_start": 0.8,
            "bin_end": 0.9,
            "count": 0
           },
           {
            "bin_start": 0.9,
            "bin_end": 1,
            "count": 815
           }
          ]
         }
        },
        {
         "name": "City_2",
         "dtype": "uint8",
         "stats": {
          "unique_count": 2,
          "nan_count": 0,
          "min": "0",
          "max": "1",
          "histogram": [
           {
            "bin_start": 0,
            "bin_end": 0.1,
            "count": 1580
           },
           {
            "bin_start": 0.1,
            "bin_end": 0.2,
            "count": 0
           },
           {
            "bin_start": 0.2,
            "bin_end": 0.30000000000000004,
            "count": 0
           },
           {
            "bin_start": 0.30000000000000004,
            "bin_end": 0.4,
            "count": 0
           },
           {
            "bin_start": 0.4,
            "bin_end": 0.5,
            "count": 0
           },
           {
            "bin_start": 0.5,
            "bin_end": 0.6000000000000001,
            "count": 0
           },
           {
            "bin_start": 0.6000000000000001,
            "bin_end": 0.7000000000000001,
            "count": 0
           },
           {
            "bin_start": 0.7000000000000001,
            "bin_end": 0.8,
            "count": 0
           },
           {
            "bin_start": 0.8,
            "bin_end": 0.9,
            "count": 0
           },
           {
            "bin_start": 0.9,
            "bin_end": 1,
            "count": 782
           }
          ]
         }
        },
        {
         "name": "City_3",
         "dtype": "uint8",
         "stats": {
          "unique_count": 2,
          "nan_count": 0,
          "min": "0",
          "max": "1",
          "histogram": [
           {
            "bin_start": 0,
            "bin_end": 0.1,
            "count": 1597
           },
           {
            "bin_start": 0.1,
            "bin_end": 0.2,
            "count": 0
           },
           {
            "bin_start": 0.2,
            "bin_end": 0.30000000000000004,
            "count": 0
           },
           {
            "bin_start": 0.30000000000000004,
            "bin_end": 0.4,
            "count": 0
           },
           {
            "bin_start": 0.4,
            "bin_end": 0.5,
            "count": 0
           },
           {
            "bin_start": 0.5,
            "bin_end": 0.6000000000000001,
            "count": 0
           },
           {
            "bin_start": 0.6000000000000001,
            "bin_end": 0.7000000000000001,
            "count": 0
           },
           {
            "bin_start": 0.7000000000000001,
            "bin_end": 0.8,
            "count": 0
           },
           {
            "bin_start": 0.8,
            "bin_end": 0.9,
            "count": 0
           },
           {
            "bin_start": 0.9,
            "bin_end": 1,
            "count": 765
           }
          ]
         }
        },
        {
         "name": "_deepnote_index_column",
         "dtype": "int64"
        }
       ],
       "rows_top": [
        {
         "Transaction ID": "TXN001",
         "Age": "4",
         "Items": 10,
         "Monthly Income": 7313,
         "Transaction Time": 627.6681518554688,
         "Record": 5,
         "Total Spend": 4198.38525390625,
         "Gender": 0,
         "City_1": 1,
         "City_2": 0,
         "City_3": 0,
         "_deepnote_index_column": 0
        },
        {
         "Transaction ID": "TXN002",
         "Age": "3",
         "Items": 8,
         "Monthly Income": 17747,
         "Transaction Time": 126.9045639038086,
         "Record": 3,
         "Total Spend": 4134.9765625,
         "Gender": 0,
         "City_1": 0,
         "City_2": 1,
         "City_3": 0,
         "_deepnote_index_column": 1
        },
        {
         "Transaction ID": "TXN003",
         "Age": "4",
         "Items": 11,
         "Monthly Income": 22845,
         "Transaction Time": 873.4697265625,
         "Record": 2,
         "Total Spend": 5166.6142578125,
         "Gender": 1,
         "City_1": 0,
         "City_2": 1,
         "City_3": 0,
         "_deepnote_index_column": 2
        },
        {
         "Transaction ID": "TXN004",
         "Age": "4",
         "Items": 11,
         "Monthly Income": 18552,
         "Transaction Time": 380.21942138671875,
         "Record": 7,
         "Total Spend": 7784.44775390625,
         "Gender": 0,
         "City_1": 1,
         "City_2": 0,
         "City_3": 0,
         "_deepnote_index_column": 3
        },
        {
         "Transaction ID": "TXN005",
         "Age": "4",
         "Items": 2,
         "Monthly Income": 14439,
         "Transaction Time": 403.3742370605469,
         "Record": 2,
         "Total Spend": 3254.160400390625,
         "Gender": 0,
         "City_1": 0,
         "City_2": 1,
         "City_3": 0,
         "_deepnote_index_column": 4
        },
        {
         "Transaction ID": "TXN006",
         "Age": "4",
         "Items": 6,
         "Monthly Income": 6282,
         "Transaction Time": 48.97426986694336,
         "Record": 2,
         "Total Spend": 2375.036376953125,
         "Gender": 1,
         "City_1": 0,
         "City_2": 1,
         "City_3": 0,
         "_deepnote_index_column": 5
        },
        {
         "Transaction ID": "TXN007",
         "Age": "3",
         "Items": 14,
         "Monthly Income": 7086,
         "Transaction Time": 961.2037963867188,
         "Record": 8,
         "Total Spend": 7494.474609375,
         "Gender": 1,
         "City_1": 1,
         "City_2": 0,
         "City_3": 0,
         "_deepnote_index_column": 6
        },
        {
         "Transaction ID": "TXN008",
         "Age": "4",
         "Items": 9,
         "Monthly Income": 8881,
         "Transaction Time": 962.2537231445312,
         "Record": 10,
         "Total Spend": 10782.9453125,
         "Gender": 1,
         "City_1": 0,
         "City_2": 0,
         "City_3": 1,
         "_deepnote_index_column": 7
        },
        {
         "Transaction ID": "TXN009",
         "Age": "3",
         "Items": 6,
         "Monthly Income": 5635,
         "Transaction Time": 858.328125,
         "Record": 5,
         "Total Spend": 3854.27734375,
         "Gender": 1,
         "City_1": 1,
         "City_2": 0,
         "City_3": 0,
         "_deepnote_index_column": 8
        },
        {
         "Transaction ID": "TXN010",
         "Age": "4",
         "Items": 12,
         "Monthly Income": 20861,
         "Transaction Time": 43.03673553466797,
         "Record": 4,
         "Total Spend": 5346.14013671875,
         "Gender": 0,
         "City_1": 0,
         "City_2": 1,
         "City_3": 0,
         "_deepnote_index_column": 9
        },
        {
         "Transaction ID": "TXN011",
         "Age": "4",
         "Items": 8,
         "Monthly Income": 2556,
         "Transaction Time": 947.8463745117188,
         "Record": 1,
         "Total Spend": 1712.0738525390625,
         "Gender": 1,
         "City_1": 0,
         "City_2": 0,
         "City_3": 1,
         "_deepnote_index_column": 10
        },
        {
         "Transaction ID": "TXN012",
         "Age": "4",
         "Items": 8,
         "Monthly Income": 27947,
         "Transaction Time": 89.64334869384766,
         "Record": 6,
         "Total Spend": 8047.04638671875,
         "Gender": 1,
         "City_1": 0,
         "City_2": 1,
         "City_3": 0,
         "_deepnote_index_column": 11
        },
        {
         "Transaction ID": "TXN013",
         "Age": "4",
         "Items": 12,
         "Monthly Income": 23445,
         "Transaction Time": 773.635986328125,
         "Record": 9,
         "Total Spend": 11334.578125,
         "Gender": 1,
         "City_1": 0,
         "City_2": 0,
         "City_3": 1,
         "_deepnote_index_column": 12
        },
        {
         "Transaction ID": "TXN014",
         "Age": "3",
         "Items": 10,
         "Monthly Income": 14297,
         "Transaction Time": 245.89414978027344,
         "Record": 2,
         "Total Spend": 3791.364501953125,
         "Gender": 1,
         "City_1": 0,
         "City_2": 1,
         "City_3": 0,
         "_deepnote_index_column": 13
        },
        {
         "Transaction ID": "TXN015",
         "Age": "4",
         "Items": 1,
         "Monthly Income": 3405,
         "Transaction Time": 120.91677856445312,
         "Record": 1,
         "Total Spend": 1674.9986572265625,
         "Gender": 1,
         "City_1": 1,
         "City_2": 0,
         "City_3": 0,
         "_deepnote_index_column": 14
        },
        {
         "Transaction ID": "TXN016",
         "Age": "3",
         "Items": 13,
         "Monthly Income": 28714,
         "Transaction Time": 546.55224609375,
         "Record": 6,
         "Total Spend": 8446.607421875,
         "Gender": 1,
         "City_1": 0,
         "City_2": 1,
         "City_3": 0,
         "_deepnote_index_column": 15
        },
        {
         "Transaction ID": "TXN017",
         "Age": "4",
         "Items": 13,
         "Monthly Income": 14069,
         "Transaction Time": 131.20645141601562,
         "Record": 8,
         "Total Spend": 8338.4384765625,
         "Gender": 0,
         "City_1": 1,
         "City_2": 0,
         "City_3": 0,
         "_deepnote_index_column": 16
        },
        {
         "Transaction ID": "TXN018",
         "Age": "4",
         "Items": 14,
         "Monthly Income": 28428,
         "Transaction Time": 102.0523681640625,
         "Record": 9,
         "Total Spend": 11933.056640625,
         "Gender": 0,
         "City_1": 0,
         "City_2": 0,
         "City_3": 1,
         "_deepnote_index_column": 17
        },
        {
         "Transaction ID": "TXN019",
         "Age": "4",
         "Items": 15,
         "Monthly Income": 14982,
         "Transaction Time": 69.32488250732422,
         "Record": 10,
         "Total Spend": 11898.8544921875,
         "Gender": 1,
         "City_1": 0,
         "City_2": 1,
         "City_3": 0,
         "_deepnote_index_column": 18
        },
        {
         "Transaction ID": "TXN020",
         "Age": "4",
         "Items": 13,
         "Monthly Income": 27864,
         "Transaction Time": 350.78570556640625,
         "Record": 8,
         "Total Spend": 10502.3974609375,
         "Gender": 0,
         "City_1": 1,
         "City_2": 0,
         "City_3": 0,
         "_deepnote_index_column": 19
        },
        {
         "Transaction ID": "TXN021",
         "Age": "3",
         "Items": 5,
         "Monthly Income": 16960,
         "Transaction Time": 588.3179321289062,
         "Record": 10,
         "Total Spend": 11640.4267578125,
         "Gender": 1,
         "City_1": 0,
         "City_2": 1,
         "City_3": 0,
         "_deepnote_index_column": 20
        },
        {
         "Transaction ID": "TXN022",
         "Age": "4",
         "Items": 14,
         "Monthly Income": 3041,
         "Transaction Time": 361.646728515625,
         "Record": 8,
         "Total Spend": 6929.271484375,
         "Gender": 1,
         "City_1": 0,
         "City_2": 0,
         "City_3": 1,
         "_deepnote_index_column": 21
        },
        {
         "Transaction ID": "TXN023",
         "Age": "3",
         "Items": 13,
         "Monthly Income": 5037,
         "Transaction Time": 579.5193481445312,
         "Record": 6,
         "Total Spend": 4659.60107421875,
         "Gender": 0,
         "City_1": 0,
         "City_2": 1,
         "City_3": 0,
         "_deepnote_index_column": 22
        },
        {
         "Transaction ID": "TXN024",
         "Age": "4",
         "Items": 4,
         "Monthly Income": 27403,
         "Transaction Time": 755.1910400390625,
         "Record": 2,
         "Total Spend": 5186.9951171875,
         "Gender": 0,
         "City_1": 0,
         "City_2": 0,
         "City_3": 1,
         "_deepnote_index_column": 23
        },
        {
         "Transaction ID": "TXN025",
         "Age": "3",
         "Items": 11,
         "Monthly Income": 23570,
         "Transaction Time": 484.6853332519531,
         "Record": 6,
         "Total Spend": 7573.79052734375,
         "Gender": 1,
         "City_1": 1,
         "City_2": 0,
         "City_3": 0,
         "_deepnote_index_column": 24
        },
        {
         "Transaction ID": "TXN026",
         "Age": "3",
         "Items": 5,
         "Monthly Income": 8954,
         "Transaction Time": 87.43644714355469,
         "Record": 1,
         "Total Spend": 2113.269287109375,
         "Gender": 0,
         "City_1": 0,
         "City_2": 0,
         "City_3": 1,
         "_deepnote_index_column": 25
        },
        {
         "Transaction ID": "TXN027",
         "Age": "3",
         "Items": 15,
         "Monthly Income": 12015,
         "Transaction Time": 997.7113647460938,
         "Record": 8,
         "Total Spend": 8316.443359375,
         "Gender": 1,
         "City_1": 1,
         "City_2": 0,
         "City_3": 0,
         "_deepnote_index_column": 26
        },
        {
         "Transaction ID": "TXN028",
         "Age": "4",
         "Items": 9,
         "Monthly Income": 8061,
         "Transaction Time": 629.9857788085938,
         "Record": 7,
         "Total Spend": 6016.7275390625,
         "Gender": 0,
         "City_1": 0,
         "City_2": 1,
         "City_3": 0,
         "_deepnote_index_column": 27
        },
        {
         "Transaction ID": "TXN029",
         "Age": "3",
         "Items": 4,
         "Monthly Income": 20163,
         "Transaction Time": 623.2114868164062,
         "Record": 10,
         "Total Spend": 11998.3798828125,
         "Gender": 0,
         "City_1": 1,
         "City_2": 0,
         "City_3": 0,
         "_deepnote_index_column": 28
        },
        {
         "Transaction ID": "TXN030",
         "Age": "3",
         "Items": 10,
         "Monthly Income": 22859,
         "Transaction Time": 925.165283203125,
         "Record": 5,
         "Total Spend": 6719.1337890625,
         "Gender": 1,
         "City_1": 1,
         "City_2": 0,
         "City_3": 0,
         "_deepnote_index_column": 29
        },
        {
         "Transaction ID": "TXN031",
         "Age": "4",
         "Items": 7,
         "Monthly Income": 10568,
         "Transaction Time": 515.9493408203125,
         "Record": 0,
         "Total Spend": 2592.460693359375,
         "Gender": 0,
         "City_1": 0,
         "City_2": 1,
         "City_3": 0,
         "_deepnote_index_column": 30
        },
        {
         "Transaction ID": "TXN032",
         "Age": "3",
         "Items": 2,
         "Monthly Income": 13087,
         "Transaction Time": 233.17742919921875,
         "Record": 10,
         "Total Spend": 10984.2841796875,
         "Gender": 1,
         "City_1": 1,
         "City_2": 0,
         "City_3": 0,
         "_deepnote_index_column": 31
        },
        {
         "Transaction ID": "TXN033",
         "Age": "4",
         "Items": 6,
         "Monthly Income": 7189,
         "Transaction Time": 11.900506973266602,
         "Record": 4,
         "Total Spend": 3325.512939453125,
         "Gender": 1,
         "City_1": 0,
         "City_2": 0,
         "City_3": 1,
         "_deepnote_index_column": 32
        },
        {
         "Transaction ID": "TXN034",
         "Age": "4",
         "Items": 11,
         "Monthly Income": 19822,
         "Transaction Time": 452.013671875,
         "Record": 2,
         "Total Spend": 4776.5546875,
         "Gender": 1,
         "City_1": 0,
         "City_2": 0,
         "City_3": 1,
         "_deepnote_index_column": 33
        },
        {
         "Transaction ID": "TXN035",
         "Age": "4",
         "Items": 9,
         "Monthly Income": 25446,
         "Transaction Time": 448.2823181152344,
         "Record": 4,
         "Total Spend": 6397.66162109375,
         "Gender": 1,
         "City_1": 0,
         "City_2": 1,
         "City_3": 0,
         "_deepnote_index_column": 34
        },
        {
         "Transaction ID": "TXN036",
         "Age": "3",
         "Items": 3,
         "Monthly Income": 12299,
         "Transaction Time": 974.524658203125,
         "Record": 2,
         "Total Spend": 3135.468994140625,
         "Gender": 1,
         "City_1": 0,
         "City_2": 1,
         "City_3": 0,
         "_deepnote_index_column": 35
        },
        {
         "Transaction ID": "TXN037",
         "Age": "4",
         "Items": 12,
         "Monthly Income": 3510,
         "Transaction Time": 219.26083374023438,
         "Record": 2,
         "Total Spend": 1891.3358154296875,
         "Gender": 0,
         "City_1": 0,
         "City_2": 1,
         "City_3": 0,
         "_deepnote_index_column": 36
        },
        {
         "Transaction ID": "TXN038",
         "Age": "3",
         "Items": 8,
         "Monthly Income": 19919,
         "Transaction Time": 663.5047607421875,
         "Record": 1,
         "Total Spend": 4150.0341796875,
         "Gender": 0,
         "City_1": 0,
         "City_2": 1,
         "City_3": 0,
         "_deepnote_index_column": 37
        },
        {
         "Transaction ID": "TXN039",
         "Age": "3",
         "Items": 15,
         "Monthly Income": 2871,
         "Transaction Time": 696.0379638671875,
         "Record": 7,
         "Total Spend": 5661.5576171875,
         "Gender": 1,
         "City_1": 0,
         "City_2": 1,
         "City_3": 0,
         "_deepnote_index_column": 38
        },
        {
         "Transaction ID": "TXN040",
         "Age": "4",
         "Items": 9,
         "Monthly Income": 22498,
         "Transaction Time": 432.7923889160156,
         "Record": 9,
         "Total Spend": 11260.302734375,
         "Gender": 1,
         "City_1": 0,
         "City_2": 1,
         "City_3": 0,
         "_deepnote_index_column": 39
        },
        {
         "Transaction ID": "TXN041",
         "Age": "4",
         "Items": 5,
         "Monthly Income": 8932,
         "Transaction Time": 145.78762817382812,
         "Record": 6,
         "Total Spend": 5329.91650390625,
         "Gender": 1,
         "City_1": 1,
         "City_2": 0,
         "City_3": 0,
         "_deepnote_index_column": 40
        },
        {
         "Transaction ID": "TXN042",
         "Age": "3",
         "Items": 9,
         "Monthly Income": 18488,
         "Transaction Time": 12.800310134887695,
         "Record": 1,
         "Total Spend": 3751.922119140625,
         "Gender": 0,
         "City_1": 0,
         "City_2": 1,
         "City_3": 0,
         "_deepnote_index_column": 41
        },
        {
         "Transaction ID": "TXN043",
         "Age": "3",
         "Items": 11,
         "Monthly Income": 26992,
         "Transaction Time": 753.0026245117188,
         "Record": 7,
         "Total Spend": 8881.1240234375,
         "Gender": 0,
         "City_1": 0,
         "City_2": 0,
         "City_3": 1,
         "_deepnote_index_column": 42
        },
        {
         "Transaction ID": "TXN044",
         "Age": "4",
         "Items": 4,
         "Monthly Income": 16666,
         "Transaction Time": 968.2059936523438,
         "Record": 0,
         "Total Spend": 3687.496826171875,
         "Gender": 0,
         "City_1": 1,
         "City_2": 0,
         "City_3": 0,
         "_deepnote_index_column": 43
        },
        {
         "Transaction ID": "TXN045",
         "Age": "3",
         "Items": 1,
         "Monthly Income": 26814,
         "Transaction Time": 330.58135986328125,
         "Record": 9,
         "Total Spend": 11412.001953125,
         "Gender": 1,
         "City_1": 1,
         "City_2": 0,
         "City_3": 0,
         "_deepnote_index_column": 44
        }
       ],
       "rows_bottom": [
        {
         "Transaction ID": "TXN2318",
         "Age": "3",
         "Items": 5,
         "Monthly Income": 12784,
         "Transaction Time": 245.04945373535156,
         "Record": 8,
         "Total Spend": 7643.818359375,
         "Gender": 0,
         "City_1": 0,
         "City_2": 0,
         "City_3": 1,
         "_deepnote_index_column": 2317
        },
        {
         "Transaction ID": "TXN2319",
         "Age": "4",
         "Items": 13,
         "Monthly Income": 13155,
         "Transaction Time": 652.0498046875,
         "Record": 0,
         "Total Spend": 3568.677978515625,
         "Gender": 1,
         "City_1": 0,
         "City_2": 1,
         "City_3": 0,
         "_deepnote_index_column": 2318
        },
        {
         "Transaction ID": "TXN2320",
         "Age": "3",
         "Items": 1,
         "Monthly Income": 9209,
         "Transaction Time": 737.82568359375,
         "Record": 4,
         "Total Spend": 3577.751708984375,
         "Gender": 1,
         "City_1": 0,
         "City_2": 1,
         "City_3": 0,
         "_deepnote_index_column": 2319
        },
        {
         "Transaction ID": "TXN2321",
         "Age": "4",
         "Items": 7,
         "Monthly Income": 2634,
         "Transaction Time": 568.6010131835938,
         "Record": 6,
         "Total Spend": 4038.3251953125,
         "Gender": 0,
         "City_1": 0,
         "City_2": 0,
         "City_3": 1,
         "_deepnote_index_column": 2320
        },
        {
         "Transaction ID": "TXN2322",
         "Age": "3",
         "Items": 4,
         "Monthly Income": 13523,
         "Transaction Time": 597.791748046875,
         "Record": 8,
         "Total Spend": 7766.39794921875,
         "Gender": 0,
         "City_1": 0,
         "City_2": 0,
         "City_3": 1,
         "_deepnote_index_column": 2321
        },
        {
         "Transaction ID": "TXN2323",
         "Age": "4",
         "Items": 11,
         "Monthly Income": 9196,
         "Transaction Time": 697.453125,
         "Record": 0,
         "Total Spend": 2807.75146484375,
         "Gender": 0,
         "City_1": 1,
         "City_2": 0,
         "City_3": 0,
         "_deepnote_index_column": 2322
        },
        {
         "Transaction ID": "TXN2324",
         "Age": "3",
         "Items": 8,
         "Monthly Income": 12737,
         "Transaction Time": 992.20458984375,
         "Record": 6,
         "Total Spend": 5663.95458984375,
         "Gender": 0,
         "City_1": 1,
         "City_2": 0,
         "City_3": 0,
         "_deepnote_index_column": 2323
        },
        {
         "Transaction ID": "TXN2325",
         "Age": "4",
         "Items": 9,
         "Monthly Income": 11307,
         "Transaction Time": 436.41064453125,
         "Record": 1,
         "Total Spend": 2990.03955078125,
         "Gender": 0,
         "City_1": 1,
         "City_2": 0,
         "City_3": 0,
         "_deepnote_index_column": 2324
        },
        {
         "Transaction ID": "TXN2326",
         "Age": "4",
         "Items": 6,
         "Monthly Income": 21351,
         "Transaction Time": 629.1644897460938,
         "Record": 7,
         "Total Spend": 8242.1708984375,
         "Gender": 1,
         "City_1": 1,
         "City_2": 0,
         "City_3": 0,
         "_deepnote_index_column": 2325
        },
        {
         "Transaction ID": "TXN2327",
         "Age": "3",
         "Items": 11,
         "Monthly Income": 12925,
         "Transaction Time": 81.6390380859375,
         "Record": 7,
         "Total Spend": 6637.583984375,
         "Gender": 0,
         "City_1": 0,
         "City_2": 1,
         "City_3": 0,
         "_deepnote_index_column": 2326
        },
        {
         "Transaction ID": "TXN2328",
         "Age": "3",
         "Items": 1,
         "Monthly Income": 23376,
         "Transaction Time": 4.455226421356201,
         "Record": 3,
         "Total Spend": 4568.86572265625,
         "Gender": 0,
         "City_1": 0,
         "City_2": 1,
         "City_3": 0,
         "_deepnote_index_column": 2327
        },
        {
         "Transaction ID": "TXN2329",
         "Age": "3",
         "Items": 3,
         "Monthly Income": 9151,
         "Transaction Time": 388.2903137207031,
         "Record": 7,
         "Total Spend": 6110.2099609375,
         "Gender": 1,
         "City_1": 0,
         "City_2": 1,
         "City_3": 0,
         "_deepnote_index_column": 2328
        },
        {
         "Transaction ID": "TXN2330",
         "Age": "4",
         "Items": 1,
         "Monthly Income": 18898,
         "Transaction Time": 199.83724975585938,
         "Record": 9,
         "Total Spend": 9820.7421875,
         "Gender": 0,
         "City_1": 0,
         "City_2": 0,
         "City_3": 1,
         "_deepnote_index_column": 2329
        },
        {
         "Transaction ID": "TXN2331",
         "Age": "4",
         "Items": 5,
         "Monthly Income": 11405,
         "Transaction Time": 541.6283569335938,
         "Record": 0,
         "Total Spend": 2955.1201171875,
         "Gender": 1,
         "City_1": 0,
         "City_2": 1,
         "City_3": 0,
         "_deepnote_index_column": 2330
        },
        {
         "Transaction ID": "TXN2332",
         "Age": "4",
         "Items": 11,
         "Monthly Income": 14510,
         "Transaction Time": 850.8863525390625,
         "Record": 0,
         "Total Spend": 3816.487060546875,
         "Gender": 1,
         "City_1": 0,
         "City_2": 1,
         "City_3": 0,
         "_deepnote_index_column": 2331
        },
        {
         "Transaction ID": "TXN2333",
         "Age": "4",
         "Items": 4,
         "Monthly Income": 17916,
         "Transaction Time": 252.71694946289062,
         "Record": 1,
         "Total Spend": 3992.663330078125,
         "Gender": 1,
         "City_1": 0,
         "City_2": 0,
         "City_3": 1,
         "_deepnote_index_column": 2332
        },
        {
         "Transaction ID": "TXN2334",
         "Age": "3",
         "Items": 3,
         "Monthly Income": 24366,
         "Transaction Time": 750.5992431640625,
         "Record": 0,
         "Total Spend": 4499.44091796875,
         "Gender": 0,
         "City_1": 0,
         "City_2": 0,
         "City_3": 1,
         "_deepnote_index_column": 2333
        },
        {
         "Transaction ID": "TXN2335",
         "Age": "4",
         "Items": 11,
         "Monthly Income": 11041,
         "Transaction Time": 150.6362762451172,
         "Record": 9,
         "Total Spend": 9255.91796875,
         "Gender": 0,
         "City_1": 1,
         "City_2": 0,
         "City_3": 0,
         "_deepnote_index_column": 2334
        },
        {
         "Transaction ID": "TXN2336",
         "Age": "4",
         "Items": 9,
         "Monthly Income": 11853,
         "Transaction Time": 772.3749389648438,
         "Record": 7,
         "Total Spend": 6591.376953125,
         "Gender": 0,
         "City_1": 1,
         "City_2": 0,
         "City_3": 0,
         "_deepnote_index_column": 2335
        },
        {
         "Transaction ID": "TXN2337",
         "Age": "4",
         "Items": 10,
         "Monthly Income": 9669,
         "Transaction Time": 644.6338500976562,
         "Record": 8,
         "Total Spend": 7810.57421875,
         "Gender": 1,
         "City_1": 0,
         "City_2": 1,
         "City_3": 0,
         "_deepnote_index_column": 2336
        },
        {
         "Transaction ID": "TXN2338",
         "Age": "3",
         "Items": 15,
         "Monthly Income": 27785,
         "Transaction Time": 25.151409149169922,
         "Record": 7,
         "Total Spend": 9461.4501953125,
         "Gender": 1,
         "City_1": 1,
         "City_2": 0,
         "City_3": 0,
         "_deepnote_index_column": 2337
        },
        {
         "Transaction ID": "TXN2339",
         "Age": "4",
         "Items": 2,
         "Monthly Income": 8000,
         "Transaction Time": 135.8589630126953,
         "Record": 3,
         "Total Spend": 2625.8876953125,
         "Gender": 0,
         "City_1": 0,
         "City_2": 0,
         "City_3": 1,
         "_deepnote_index_column": 2338
        },
        {
         "Transaction ID": "TXN2340",
         "Age": "3",
         "Items": 3,
         "Monthly Income": 12618,
         "Transaction Time": 143.23501586914062,
         "Record": 3,
         "Total Spend": 3285.8837890625,
         "Gender": 0,
         "City_1": 0,
         "City_2": 1,
         "City_3": 0,
         "_deepnote_index_column": 2339
        },
        {
         "Transaction ID": "TXN2341",
         "Age": "3",
         "Items": 12,
         "Monthly Income": 10293,
         "Transaction Time": 738.0557861328125,
         "Record": 8,
         "Total Spend": 7494.0517578125,
         "Gender": 0,
         "City_1": 0,
         "City_2": 0,
         "City_3": 1,
         "_deepnote_index_column": 2340
        },
        {
         "Transaction ID": "TXN2342",
         "Age": "4",
         "Items": 7,
         "Monthly Income": 24094,
         "Transaction Time": 268.1530456542969,
         "Record": 0,
         "Total Spend": 4698.9384765625,
         "Gender": 0,
         "City_1": 0,
         "City_2": 1,
         "City_3": 0,
         "_deepnote_index_column": 2341
        },
        {
         "Transaction ID": "TXN2343",
         "Age": "4",
         "Items": 15,
         "Monthly Income": 29852,
         "Transaction Time": 420.1259765625,
         "Record": 6,
         "Total Spend": 8768.8818359375,
         "Gender": 1,
         "City_1": 0,
         "City_2": 1,
         "City_3": 0,
         "_deepnote_index_column": 2342
        },
        {
         "Transaction ID": "TXN2344",
         "Age": "3",
         "Items": 11,
         "Monthly Income": 5882,
         "Transaction Time": 417.54620361328125,
         "Record": 3,
         "Total Spend": 2607.949462890625,
         "Gender": 0,
         "City_1": 1,
         "City_2": 0,
         "City_3": 0,
         "_deepnote_index_column": 2343
        },
        {
         "Transaction ID": "TXN2345",
         "Age": "3",
         "Items": 9,
         "Monthly Income": 7619,
         "Transaction Time": 451.35394287109375,
         "Record": 9,
         "Total Spend": 8467.2763671875,
         "Gender": 0,
         "City_1": 0,
         "City_2": 1,
         "City_3": 0,
         "_deepnote_index_column": 2344
        },
        {
         "Transaction ID": "TXN2346",
         "Age": "4",
         "Items": 14,
         "Monthly Income": 2897,
         "Transaction Time": 676.1458740234375,
         "Record": 1,
         "Total Spend": 1730.5540771484375,
         "Gender": 0,
         "City_1": 0,
         "City_2": 0,
         "City_3": 1,
         "_deepnote_index_column": 2345
        },
        {
         "Transaction ID": "TXN2347",
         "Age": "4",
         "Items": 1,
         "Monthly Income": 15528,
         "Transaction Time": 167.1060333251953,
         "Record": 8,
         "Total Spend": 8365.7919921875,
         "Gender": 1,
         "City_1": 1,
         "City_2": 0,
         "City_3": 0,
         "_deepnote_index_column": 2346
        },
        {
         "Transaction ID": "TXN2348",
         "Age": "3",
         "Items": 2,
         "Monthly Income": 7828,
         "Transaction Time": 814.7720947265625,
         "Record": 6,
         "Total Spend": 4737.0478515625,
         "Gender": 0,
         "City_1": 1,
         "City_2": 0,
         "City_3": 0,
         "_deepnote_index_column": 2347
        },
        {
         "Transaction ID": "TXN2349",
         "Age": "4",
         "Items": 2,
         "Monthly Income": 22398,
         "Transaction Time": 107.7480697631836,
         "Record": 7,
         "Total Spend": 7738.5849609375,
         "Gender": 0,
         "City_1": 0,
         "City_2": 0,
         "City_3": 1,
         "_deepnote_index_column": 2348
        },
        {
         "Transaction ID": "TXN2350",
         "Age": "4",
         "Items": 13,
         "Monthly Income": 25578,
         "Transaction Time": 519.1348266601562,
         "Record": 3,
         "Total Spend": 5905.80712890625,
         "Gender": 1,
         "City_1": 0,
         "City_2": 0,
         "City_3": 1,
         "_deepnote_index_column": 2349
        },
        {
         "Transaction ID": "TXN2351",
         "Age": "4",
         "Items": 1,
         "Monthly Income": 3323,
         "Transaction Time": 41.913387298583984,
         "Record": 8,
         "Total Spend": 6318.978515625,
         "Gender": 0,
         "City_1": 1,
         "City_2": 0,
         "City_3": 0,
         "_deepnote_index_column": 2350
        },
        {
         "Transaction ID": "TXN2352",
         "Age": "4",
         "Items": 9,
         "Monthly Income": 16714,
         "Transaction Time": 674.1707153320312,
         "Record": 0,
         "Total Spend": 3751.97705078125,
         "Gender": 0,
         "City_1": 0,
         "City_2": 1,
         "City_3": 0,
         "_deepnote_index_column": 2351
        },
        {
         "Transaction ID": "TXN2353",
         "Age": "4",
         "Items": 1,
         "Monthly Income": 21134,
         "Transaction Time": 470.53594970703125,
         "Record": 0,
         "Total Spend": 4151.359375,
         "Gender": 0,
         "City_1": 1,
         "City_2": 0,
         "City_3": 0,
         "_deepnote_index_column": 2352
        },
        {
         "Transaction ID": "TXN2354",
         "Age": "4",
         "Items": 10,
         "Monthly Income": 7808,
         "Transaction Time": 214.65045166015625,
         "Record": 6,
         "Total Spend": 5085.11767578125,
         "Gender": 1,
         "City_1": 0,
         "City_2": 0,
         "City_3": 1,
         "_deepnote_index_column": 2353
        },
        {
         "Transaction ID": "TXN2355",
         "Age": "4",
         "Items": 11,
         "Monthly Income": 24233,
         "Transaction Time": 887.2194213867188,
         "Record": 7,
         "Total Spend": 8369.3974609375,
         "Gender": 0,
         "City_1": 0,
         "City_2": 0,
         "City_3": 1,
         "_deepnote_index_column": 2354
        },
        {
         "Transaction ID": "TXN2356",
         "Age": "4",
         "Items": 2,
         "Monthly Income": 11500,
         "Transaction Time": 397.5393371582031,
         "Record": 1,
         "Total Spend": 2948.93798828125,
         "Gender": 1,
         "City_1": 1,
         "City_2": 0,
         "City_3": 0,
         "_deepnote_index_column": 2355
        },
        {
         "Transaction ID": "TXN2357",
         "Age": "3",
         "Items": 4,
         "Monthly Income": 13481,
         "Transaction Time": 602.393310546875,
         "Record": 8,
         "Total Spend": 7578.43115234375,
         "Gender": 0,
         "City_1": 0,
         "City_2": 0,
         "City_3": 1,
         "_deepnote_index_column": 2356
        },
        {
         "Transaction ID": "TXN2358",
         "Age": "4",
         "Items": 7,
         "Monthly Income": 5705,
         "Transaction Time": 460.1571960449219,
         "Record": 3,
         "Total Spend": 2909.61962890625,
         "Gender": 1,
         "City_1": 0,
         "City_2": 1,
         "City_3": 0,
         "_deepnote_index_column": 2357
        },
        {
         "Transaction ID": "TXN2359",
         "Age": "3",
         "Items": 11,
         "Monthly Income": 11202,
         "Transaction Time": 851.9247436523438,
         "Record": 8,
         "Total Spend": 7968.63330078125,
         "Gender": 1,
         "City_1": 0,
         "City_2": 1,
         "City_3": 0,
         "_deepnote_index_column": 2358
        },
        {
         "Transaction ID": "TXN2360",
         "Age": "3",
         "Items": 5,
         "Monthly Income": 21335,
         "Transaction Time": 435.1453552246094,
         "Record": 8,
         "Total Spend": 8816.40625,
         "Gender": 0,
         "City_1": 0,
         "City_2": 0,
         "City_3": 1,
         "_deepnote_index_column": 2359
        },
        {
         "Transaction ID": "TXN2361",
         "Age": "4",
         "Items": 12,
         "Monthly Income": 19294,
         "Transaction Time": 658.4398193359375,
         "Record": 7,
         "Total Spend": 7915.595703125,
         "Gender": 0,
         "City_1": 1,
         "City_2": 0,
         "City_3": 0,
         "_deepnote_index_column": 2360
        },
        {
         "Transaction ID": "TXN2362",
         "Age": "4",
         "Items": 7,
         "Monthly Income": 2855,
         "Transaction Time": 560.5143432617188,
         "Record": 8,
         "Total Spend": 6832.40185546875,
         "Gender": 1,
         "City_1": 1,
         "City_2": 0,
         "City_3": 0,
         "_deepnote_index_column": 2361
        }
       ]
      },
      "text/plain": "     Transaction ID Age  Items  Monthly Income  Transaction Time  Record  \\\n0            TXN001   4     10            7313        627.668152       5   \n1            TXN002   3      8           17747        126.904564       3   \n2            TXN003   4     11           22845        873.469727       2   \n3            TXN004   4     11           18552        380.219421       7   \n4            TXN005   4      2           14439        403.374237       2   \n...             ...  ..    ...             ...               ...     ...   \n2357        TXN2358   4      7            5705        460.157196       3   \n2358        TXN2359   3     11           11202        851.924744       8   \n2359        TXN2360   3      5           21335        435.145355       8   \n2360        TXN2361   4     12           19294        658.439819       7   \n2361        TXN2362   4      7            2855        560.514343       8   \n\n      Total Spend  Gender  City_1  City_2  City_3  \n0     4198.385254       0       1       0       0  \n1     4134.976562       0       0       1       0  \n2     5166.614258       1       0       1       0  \n3     7784.447754       0       1       0       0  \n4     3254.160400       0       0       1       0  \n...           ...     ...     ...     ...     ...  \n2357  2909.619629       1       0       1       0  \n2358  7968.633301       1       0       1       0  \n2359  8816.406250       0       0       0       1  \n2360  7915.595703       0       1       0       0  \n2361  6832.401855       1       1       0       0  \n\n[2362 rows x 11 columns]",
      "text/html": "<div>\n<style scoped>\n    .dataframe tbody tr th:only-of-type {\n        vertical-align: middle;\n    }\n\n    .dataframe tbody tr th {\n        vertical-align: top;\n    }\n\n    .dataframe thead th {\n        text-align: right;\n    }\n</style>\n<table border=\"1\" class=\"dataframe\">\n  <thead>\n    <tr style=\"text-align: right;\">\n      <th></th>\n      <th>Transaction ID</th>\n      <th>Age</th>\n      <th>Items</th>\n      <th>Monthly Income</th>\n      <th>Transaction Time</th>\n      <th>Record</th>\n      <th>Total Spend</th>\n      <th>Gender</th>\n      <th>City_1</th>\n      <th>City_2</th>\n      <th>City_3</th>\n    </tr>\n  </thead>\n  <tbody>\n    <tr>\n      <th>0</th>\n      <td>TXN001</td>\n      <td>4</td>\n      <td>10</td>\n      <td>7313</td>\n      <td>627.668152</td>\n      <td>5</td>\n      <td>4198.385254</td>\n      <td>0</td>\n      <td>1</td>\n      <td>0</td>\n      <td>0</td>\n    </tr>\n    <tr>\n      <th>1</th>\n      <td>TXN002</td>\n      <td>3</td>\n      <td>8</td>\n      <td>17747</td>\n      <td>126.904564</td>\n      <td>3</td>\n      <td>4134.976562</td>\n      <td>0</td>\n      <td>0</td>\n      <td>1</td>\n      <td>0</td>\n    </tr>\n    <tr>\n      <th>2</th>\n      <td>TXN003</td>\n      <td>4</td>\n      <td>11</td>\n      <td>22845</td>\n      <td>873.469727</td>\n      <td>2</td>\n      <td>5166.614258</td>\n      <td>1</td>\n      <td>0</td>\n      <td>1</td>\n      <td>0</td>\n    </tr>\n    <tr>\n      <th>3</th>\n      <td>TXN004</td>\n      <td>4</td>\n      <td>11</td>\n      <td>18552</td>\n      <td>380.219421</td>\n      <td>7</td>\n      <td>7784.447754</td>\n      <td>0</td>\n      <td>1</td>\n      <td>0</td>\n      <td>0</td>\n    </tr>\n    <tr>\n      <th>4</th>\n      <td>TXN005</td>\n      <td>4</td>\n      <td>2</td>\n      <td>14439</td>\n      <td>403.374237</td>\n      <td>2</td>\n      <td>3254.160400</td>\n      <td>0</td>\n      <td>0</td>\n      <td>1</td>\n      <td>0</td>\n    </tr>\n    <tr>\n      <th>...</th>\n      <td>...</td>\n      <td>...</td>\n      <td>...</td>\n      <td>...</td>\n      <td>...</td>\n      <td>...</td>\n      <td>...</td>\n      <td>...</td>\n      <td>...</td>\n      <td>...</td>\n      <td>...</td>\n    </tr>\n    <tr>\n      <th>2357</th>\n      <td>TXN2358</td>\n      <td>4</td>\n      <td>7</td>\n      <td>5705</td>\n      <td>460.157196</td>\n      <td>3</td>\n      <td>2909.619629</td>\n      <td>1</td>\n      <td>0</td>\n      <td>1</td>\n      <td>0</td>\n    </tr>\n    <tr>\n      <th>2358</th>\n      <td>TXN2359</td>\n      <td>3</td>\n      <td>11</td>\n      <td>11202</td>\n      <td>851.924744</td>\n      <td>8</td>\n      <td>7968.633301</td>\n      <td>1</td>\n      <td>0</td>\n      <td>1</td>\n      <td>0</td>\n    </tr>\n    <tr>\n      <th>2359</th>\n      <td>TXN2360</td>\n      <td>3</td>\n      <td>5</td>\n      <td>21335</td>\n      <td>435.145355</td>\n      <td>8</td>\n      <td>8816.406250</td>\n      <td>0</td>\n      <td>0</td>\n      <td>0</td>\n      <td>1</td>\n    </tr>\n    <tr>\n      <th>2360</th>\n      <td>TXN2361</td>\n      <td>4</td>\n      <td>12</td>\n      <td>19294</td>\n      <td>658.439819</td>\n      <td>7</td>\n      <td>7915.595703</td>\n      <td>0</td>\n      <td>1</td>\n      <td>0</td>\n      <td>0</td>\n    </tr>\n    <tr>\n      <th>2361</th>\n      <td>TXN2362</td>\n      <td>4</td>\n      <td>7</td>\n      <td>2855</td>\n      <td>560.514343</td>\n      <td>8</td>\n      <td>6832.401855</td>\n      <td>1</td>\n      <td>1</td>\n      <td>0</td>\n      <td>0</td>\n    </tr>\n  </tbody>\n</table>\n<p>2362 rows × 11 columns</p>\n</div>"
     },
     "metadata": {}
    }
   ],
   "execution_count": 18
  },
  {
   "cell_type": "code",
   "metadata": {
    "tags": [],
    "cell_id": "00018-3a3880f2-7ca7-4b30-90b3-c6627828a08b",
    "deepnote_to_be_reexecuted": false,
    "source_hash": "6bd063e0",
    "execution_start": 1636672449836,
    "execution_millis": 0,
    "deepnote_cell_type": "code"
   },
   "source": "# Definimos features y target\n\nX = data_new.drop(['Transaction ID', 'Total Spend'], axis=1)\ny = data_new['Total Spend']",
   "outputs": [],
   "execution_count": 19
  },
  {
   "cell_type": "code",
   "metadata": {
    "tags": [],
    "cell_id": "00019-c7df4ebd-fbf4-4bc4-998b-f6ef525b065d",
    "deepnote_to_be_reexecuted": false,
    "source_hash": "e4bcc145",
    "execution_start": 1636672449837,
    "execution_millis": 0,
    "deepnote_cell_type": "code"
   },
   "source": "# Separamos los datos de entrenamiento y testing\n\nX_train, X_test, y_train, y_test = train_test_split(X, y, test_size=0.2, random_state=25)",
   "outputs": [],
   "execution_count": 20
  },
  {
   "cell_type": "code",
   "metadata": {
    "tags": [],
    "cell_id": "00019-ced3dfa1-459d-4639-8866-9e22533f8d92",
    "deepnote_to_be_reexecuted": false,
    "source_hash": "1f197d5f",
    "execution_start": 1636672449856,
    "execution_millis": 19,
    "deepnote_cell_type": "code"
   },
   "source": "# Dimensionamos\n\ndisplay(X.shape)\ndisplay(y.shape)",
   "outputs": [
    {
     "data": {
      "text/plain": "(2362, 9)"
     },
     "metadata": {},
     "output_type": "display_data"
    },
    {
     "data": {
      "text/plain": "(2362,)"
     },
     "metadata": {},
     "output_type": "display_data"
    }
   ],
   "execution_count": 21
  },
  {
   "cell_type": "code",
   "metadata": {
    "tags": [],
    "cell_id": "00020-d8c92250-8d14-4925-804a-d0f8e9b27f6c",
    "deepnote_to_be_reexecuted": false,
    "source_hash": "41583ae9",
    "execution_start": 1636672449874,
    "execution_millis": 27,
    "deepnote_cell_type": "code"
   },
   "source": "X.columns",
   "outputs": [
    {
     "output_type": "execute_result",
     "execution_count": 22,
     "data": {
      "text/plain": "Index(['Age', 'Items', 'Monthly Income', 'Transaction Time', 'Record',\n       'Gender', 'City_1', 'City_2', 'City_3'],\n      dtype='object')"
     },
     "metadata": {}
    }
   ],
   "execution_count": 22
  },
  {
   "cell_type": "code",
   "metadata": {
    "tags": [],
    "cell_id": "00021-c0e08eaa-37cb-4e1a-a9bd-53ce2750c4f5",
    "deepnote_to_be_reexecuted": false,
    "source_hash": "d9a86560",
    "execution_start": 1636672449901,
    "execution_millis": 31,
    "deepnote_cell_type": "code"
   },
   "source": "# Definimos el estimador y lo entranamos con los datos de entrenamiento\n\nlinear_model = LinearRegression().fit(X_train, y_train)",
   "outputs": [],
   "execution_count": 23
  },
  {
   "cell_type": "code",
   "metadata": {
    "tags": [],
    "cell_id": "00024-496ace22-e20c-40b2-a209-867e0a2c3091",
    "deepnote_to_be_reexecuted": false,
    "source_hash": "be02f338",
    "execution_start": 1636672449932,
    "execution_millis": 1,
    "deepnote_cell_type": "code"
   },
   "source": "# Intercepto y Parámetros\n\ndisplay(f'Intercepto: {linear_model.intercept_}')\nprint(f'Parámetros: {linear_model.coef_}')",
   "outputs": [
    {
     "data": {
      "text/plain": "'Intercepto: -947.6857440628928'"
     },
     "metadata": {},
     "output_type": "display_data"
    },
    {
     "name": "stdout",
     "text": "Parámetros: [ 1.06571835e+02  3.91097121e+01  1.49872211e-01  1.98283868e-01\n  7.69427964e+02  2.82004302e+02  8.18814866e+01  3.89346563e+01\n -1.20816143e+02]\n",
     "output_type": "stream"
    }
   ],
   "execution_count": 24
  },
  {
   "cell_type": "code",
   "metadata": {
    "tags": [],
    "cell_id": "00025-2a7c6bb6-5404-445c-a92e-0e7b31bc4bda",
    "deepnote_to_be_reexecuted": false,
    "source_hash": "7cfb96c7",
    "execution_start": 1636672449957,
    "execution_millis": 1,
    "deepnote_cell_type": "code"
   },
   "source": "# Empaquetamos\n\ndict(zip(X, linear_model.coef_))",
   "outputs": [
    {
     "output_type": "execute_result",
     "execution_count": 25,
     "data": {
      "text/plain": "{'Age': 106.57183466665157,\n 'Items': 39.109712125038065,\n 'Monthly Income': 0.14987221136720308,\n 'Transaction Time': 0.19828386843195078,\n 'Record': 769.4279636080081,\n 'Gender': 282.0043017490621,\n 'City_1': 81.8814866327437,\n 'City_2': 38.93465627390436,\n 'City_3': -120.81614290664788}"
     },
     "metadata": {}
    }
   ],
   "execution_count": 25
  },
  {
   "cell_type": "code",
   "metadata": {
    "tags": [],
    "cell_id": "00022-1e442b91-87d7-492b-8c24-76febcf0a003",
    "deepnote_to_be_reexecuted": false,
    "source_hash": "e5a2e26",
    "execution_start": 1636672449974,
    "execution_millis": 1854566,
    "deepnote_cell_type": "code"
   },
   "source": "# R2\n\nR2 = linear_model.score(X_test, y_test)\ndisplay(R2)",
   "outputs": [
    {
     "data": {
      "text/plain": "0.9212324545732028"
     },
     "metadata": {},
     "output_type": "display_data"
    }
   ],
   "execution_count": 26
  },
  {
   "cell_type": "code",
   "metadata": {
    "tags": [],
    "cell_id": "00025-13437ec6-ddf6-44dd-8ccd-cfff20f503af",
    "deepnote_to_be_reexecuted": false,
    "source_hash": "6cbbc060",
    "execution_start": 1636672915134,
    "execution_millis": 4,
    "deepnote_cell_type": "code"
   },
   "source": "# Predicción\n\ny_pred = linear_model.predict(X_test)\ny_pred = pd.DataFrame(y_pred, columns=['Predicción'])\ny_pred.head()",
   "outputs": [
    {
     "output_type": "execute_result",
     "execution_count": 44,
     "data": {
      "application/vnd.deepnote.dataframe.v2+json": {
       "row_count": 5,
       "column_count": 1,
       "columns": [
        {
         "name": "Predicción",
         "dtype": "float64",
         "stats": {
          "unique_count": 5,
          "nan_count": 0,
          "min": "4730.3088176120145",
          "max": "10031.97299406047",
          "histogram": [
           {
            "bin_start": 4730.3088176120145,
            "bin_end": 5260.47523525686,
            "count": 1
           },
           {
            "bin_start": 5260.47523525686,
            "bin_end": 5790.641652901706,
            "count": 1
           },
           {
            "bin_start": 5790.641652901706,
            "bin_end": 6320.808070546551,
            "count": 0
           },
           {
            "bin_start": 6320.808070546551,
            "bin_end": 6850.974488191397,
            "count": 0
           },
           {
            "bin_start": 6850.974488191397,
            "bin_end": 7381.140905836242,
            "count": 2
           },
           {
            "bin_start": 7381.140905836242,
            "bin_end": 7911.307323481087,
            "count": 0
           },
           {
            "bin_start": 7911.307323481087,
            "bin_end": 8441.473741125934,
            "count": 0
           },
           {
            "bin_start": 8441.473741125934,
            "bin_end": 8971.640158770779,
            "count": 0
           },
           {
            "bin_start": 8971.640158770779,
            "bin_end": 9501.806576415624,
            "count": 0
           },
           {
            "bin_start": 9501.806576415624,
            "bin_end": 10031.97299406047,
            "count": 1
           }
          ]
         }
        },
        {
         "name": "_deepnote_index_column",
         "dtype": "int64"
        }
       ],
       "rows_top": [
        {
         "Predicción": 5401.317320639007,
         "_deepnote_index_column": 0
        },
        {
         "Predicción": 10031.97299406047,
         "_deepnote_index_column": 1
        },
        {
         "Predicción": 7061.526781979813,
         "_deepnote_index_column": 2
        },
        {
         "Predicción": 4730.3088176120145,
         "_deepnote_index_column": 3
        },
        {
         "Predicción": 7281.684031620468,
         "_deepnote_index_column": 4
        }
       ],
       "rows_bottom": null
      },
      "text/plain": "     Predicción\n0   5401.317321\n1  10031.972994\n2   7061.526782\n3   4730.308818\n4   7281.684032",
      "text/html": "<div>\n<style scoped>\n    .dataframe tbody tr th:only-of-type {\n        vertical-align: middle;\n    }\n\n    .dataframe tbody tr th {\n        vertical-align: top;\n    }\n\n    .dataframe thead th {\n        text-align: right;\n    }\n</style>\n<table border=\"1\" class=\"dataframe\">\n  <thead>\n    <tr style=\"text-align: right;\">\n      <th></th>\n      <th>Predicción</th>\n    </tr>\n  </thead>\n  <tbody>\n    <tr>\n      <th>0</th>\n      <td>5401.317321</td>\n    </tr>\n    <tr>\n      <th>1</th>\n      <td>10031.972994</td>\n    </tr>\n    <tr>\n      <th>2</th>\n      <td>7061.526782</td>\n    </tr>\n    <tr>\n      <th>3</th>\n      <td>4730.308818</td>\n    </tr>\n    <tr>\n      <th>4</th>\n      <td>7281.684032</td>\n    </tr>\n  </tbody>\n</table>\n</div>"
     },
     "metadata": {}
    }
   ],
   "execution_count": 44
  },
  {
   "cell_type": "code",
   "metadata": {
    "tags": [],
    "cell_id": "00027-d21978de-94f0-44ac-ab9f-329b0d42b8ad",
    "deepnote_to_be_reexecuted": false,
    "source_hash": "4b65c686",
    "execution_start": 1636672450020,
    "execution_millis": 1201531,
    "deepnote_cell_type": "code"
   },
   "source": "# Definimos nuevos features y target\n\nX2 = data_new.drop(['Transaction ID', 'Total Spend', 'Monthly Income', 'Transaction Time'], axis=1)\ny2 = data_new['Total Spend']",
   "outputs": [],
   "execution_count": 28
  },
  {
   "cell_type": "code",
   "metadata": {
    "tags": [],
    "cell_id": "00029-7f01c105-5ab1-4f04-9188-ccf94b5bd8b0",
    "deepnote_to_be_reexecuted": false,
    "source_hash": "c13e03b0",
    "execution_start": 1636672450041,
    "deepnote_cell_type": "code"
   },
   "source": "# Separamos los datos de entrenamiento y testing\n\nX_train2, X_test2, y_train2, y_test2 = train_test_split(X2, y2, test_size=0.2, random_state=25)",
   "outputs": [],
   "execution_count": 29
  },
  {
   "cell_type": "code",
   "metadata": {
    "tags": [],
    "cell_id": "00028-89124539-fbc6-469b-b66f-ad310250ee6c",
    "deepnote_to_be_reexecuted": false,
    "source_hash": "13507bdb",
    "execution_start": 1636672450056,
    "execution_millis": 1195816,
    "deepnote_cell_type": "code"
   },
   "source": "# Definimos el segundo estimador y lo entranamos con los datos de entrenamiento\n\nlinear_model2 = LinearRegression().fit(X_train2, y_train2)",
   "outputs": [],
   "execution_count": 30
  },
  {
   "cell_type": "code",
   "metadata": {
    "tags": [],
    "cell_id": "00029-8fa97268-5878-408c-a6a1-4f38cabfef94",
    "deepnote_to_be_reexecuted": false,
    "source_hash": "4287dc87",
    "execution_start": 1636672450063,
    "execution_millis": 1192640,
    "deepnote_cell_type": "code"
   },
   "source": "# Intercepto y Parámetros\n\ndisplay(f'Intercepto: {linear_model2.intercept_}')\nprint(f'Parámetros: {linear_model2.coef_}')",
   "outputs": [
    {
     "data": {
      "text/plain": "'Intercepto: 1279.864961528403'"
     },
     "metadata": {},
     "output_type": "display_data"
    },
    {
     "name": "stdout",
     "text": "Parámetros: [162.67346714  37.31190794 776.59940158 334.70871459  81.68850998\n   6.47638218 -88.16489217]\n",
     "output_type": "stream"
    }
   ],
   "execution_count": 31
  },
  {
   "cell_type": "code",
   "metadata": {
    "tags": [],
    "cell_id": "00030-549f7c07-9e21-442d-bb22-e56fd27712d0",
    "deepnote_to_be_reexecuted": false,
    "source_hash": "f93f733f",
    "execution_start": 1636672450112,
    "execution_millis": 1180406,
    "deepnote_cell_type": "code"
   },
   "source": "# Empaquetamos\n\ndict(zip(X2, linear_model2.coef_))",
   "outputs": [
    {
     "output_type": "execute_result",
     "execution_count": 32,
     "data": {
      "text/plain": "{'Age': 162.67346714037313,\n 'Items': 37.31190793642588,\n 'Record': 776.5994015787551,\n 'Gender': 334.70871459019105,\n 'City_1': 81.68850998476947,\n 'City_2': 6.476382184027997,\n 'City_3': -88.164892168797}"
     },
     "metadata": {}
    }
   ],
   "execution_count": 32
  },
  {
   "cell_type": "code",
   "metadata": {
    "tags": [],
    "cell_id": "00031-3e65f2c1-d5cb-4b82-8d75-0e3a246b946f",
    "deepnote_to_be_reexecuted": false,
    "source_hash": "ff8b679e",
    "execution_start": 1636672450113,
    "execution_millis": 1156479,
    "deepnote_cell_type": "code"
   },
   "source": "# R2\n\nR2_2 = linear_model2.score(X_test2, y_test2)\ndisplay(R2_2)",
   "outputs": [
    {
     "data": {
      "text/plain": "0.741795808369287"
     },
     "metadata": {},
     "output_type": "display_data"
    }
   ],
   "execution_count": 33
  },
  {
   "cell_type": "code",
   "metadata": {
    "tags": [],
    "cell_id": "00032-d944b590-4250-4fb1-ab25-f7373fa03745",
    "deepnote_to_be_reexecuted": false,
    "source_hash": "d5680e5e",
    "execution_start": 1636672922980,
    "execution_millis": 5,
    "deepnote_cell_type": "code"
   },
   "source": "# Predicción del modelo 2\n\ny_pred2 = linear_model2.predict(X_test2)\ny_pred2 = pd.DataFrame(y_pred2, columns=['Predicción 2'])\ny_pred2.head()",
   "outputs": [
    {
     "output_type": "execute_result",
     "execution_count": 45,
     "data": {
      "application/vnd.deepnote.dataframe.v2+json": {
       "row_count": 5,
       "column_count": 1,
       "columns": [
        {
         "name": "Predicción 2",
         "dtype": "float64",
         "stats": {
          "unique_count": 5,
          "nan_count": 0,
          "min": "5345.796696142133",
          "max": "9224.925089974127",
          "histogram": [
           {
            "bin_start": 5345.796696142133,
            "bin_end": 5733.709535525333,
            "count": 1
           },
           {
            "bin_start": 5733.709535525333,
            "bin_end": 6121.622374908532,
            "count": 2
           },
           {
            "bin_start": 6121.622374908532,
            "bin_end": 6509.535214291732,
            "count": 0
           },
           {
            "bin_start": 6509.535214291732,
            "bin_end": 6897.448053674931,
            "count": 0
           },
           {
            "bin_start": 6897.448053674931,
            "bin_end": 7285.36089305813,
            "count": 0
           },
           {
            "bin_start": 7285.36089305813,
            "bin_end": 7673.27373244133,
            "count": 0
           },
           {
            "bin_start": 7673.27373244133,
            "bin_end": 8061.18657182453,
            "count": 0
           },
           {
            "bin_start": 8061.18657182453,
            "bin_end": 8449.099411207728,
            "count": 0
           },
           {
            "bin_start": 8449.099411207728,
            "bin_end": 8837.012250590928,
            "count": 1
           },
           {
            "bin_start": 8837.012250590928,
            "bin_end": 9224.925089974127,
            "count": 1
           }
          ]
         }
        },
        {
         "name": "_deepnote_index_column",
         "dtype": "int64"
        }
       ],
       "rows_top": [
        {
         "Predicción 2": 5345.796696142133,
         "_deepnote_index_column": 0
        },
        {
         "Predicción 2": 9224.925089974127,
         "_deepnote_index_column": 1
        },
        {
         "Predicción 2": 8598.161632068965,
         "_deepnote_index_column": 2
        },
        {
         "Predicción 2": 5769.882788764493,
         "_deepnote_index_column": 3
        },
        {
         "Predicción 2": 5975.720372089839,
         "_deepnote_index_column": 4
        }
       ],
       "rows_bottom": null
      },
      "text/plain": "   Predicción 2\n0   5345.796696\n1   9224.925090\n2   8598.161632\n3   5769.882789\n4   5975.720372",
      "text/html": "<div>\n<style scoped>\n    .dataframe tbody tr th:only-of-type {\n        vertical-align: middle;\n    }\n\n    .dataframe tbody tr th {\n        vertical-align: top;\n    }\n\n    .dataframe thead th {\n        text-align: right;\n    }\n</style>\n<table border=\"1\" class=\"dataframe\">\n  <thead>\n    <tr style=\"text-align: right;\">\n      <th></th>\n      <th>Predicción 2</th>\n    </tr>\n  </thead>\n  <tbody>\n    <tr>\n      <th>0</th>\n      <td>5345.796696</td>\n    </tr>\n    <tr>\n      <th>1</th>\n      <td>9224.925090</td>\n    </tr>\n    <tr>\n      <th>2</th>\n      <td>8598.161632</td>\n    </tr>\n    <tr>\n      <th>3</th>\n      <td>5769.882789</td>\n    </tr>\n    <tr>\n      <th>4</th>\n      <td>5975.720372</td>\n    </tr>\n  </tbody>\n</table>\n</div>"
     },
     "metadata": {}
    }
   ],
   "execution_count": 45
  },
  {
   "cell_type": "code",
   "source": "# Número de datos\n\nprint(len(y), len(y2))\nprint(len(y_pred), len(y_pred2))",
   "metadata": {
    "tags": [],
    "cell_id": "00034-c7b28821-e6c6-42a6-9085-5366fc805b3c",
    "deepnote_to_be_reexecuted": false,
    "source_hash": "c798fc90",
    "execution_start": 1636673635285,
    "execution_millis": 2,
    "deepnote_cell_type": "code"
   },
   "outputs": [
    {
     "name": "stdout",
     "text": "2362 2362\n473 473\n",
     "output_type": "stream"
    }
   ],
   "execution_count": 61
  },
  {
   "cell_type": "markdown",
   "source": "<a style='text-decoration:none;line-height:16px;display:flex;color:#5B5B62;padding:10px;justify-content:end;' href='https://deepnote.com?utm_source=created-in-deepnote-cell&projectId=4ec84517-f553-446b-9032-1da3132bd62a' target=\"_blank\">\n<img alt='Created in deepnote.com' style='display:inline;max-height:16px;margin:0px;margin-right:7.5px;' src='data:image/svg+xml;base64,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' > </img>\nCreated in <span style='font-weight:600;margin-left:4px;'>Deepnote</span></a>",
   "metadata": {
    "tags": [],
    "created_in_deepnote_cell": true,
    "deepnote_cell_type": "markdown"
   }
  }
 ],
 "nbformat": 4,
 "nbformat_minor": 2,
 "metadata": {
  "orig_nbformat": 2,
  "deepnote": {
   "is_reactive": false
  },
  "deepnote_notebook_id": "3d1b0000-f460-413d-9ace-0df46f871c67",
  "deepnote_execution_queue": []
 }
}