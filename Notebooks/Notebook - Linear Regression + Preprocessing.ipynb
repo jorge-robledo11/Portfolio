{
 "cells": [
  {
   "cell_type": "code",
   "execution_count": 1,
   "metadata": {
    "cell_id": "00000-ec2754ae-ca5a-423d-bd07-dbb2ac803a25",
    "deepnote_cell_type": "code",
    "deepnote_to_be_reexecuted": false,
    "execution_millis": 1201,
    "execution_start": 1636673898597,
    "source_hash": "18788711",
    "tags": []
   },
   "outputs": [],
   "source": [
    "# Core\n",
    "import pandas as pd\n",
    "import numpy as np\n",
    "\n",
    "# Machine Learning\n",
    "from sklearn.linear_model import LinearRegression\n",
    "from sklearn.model_selection import train_test_split\n",
    "\n",
    "# Miscelaneous\n",
    "import warnings"
   ]
  },
  {
   "cell_type": "code",
   "execution_count": 2,
   "metadata": {
    "cell_id": "00001-3827b4d9-2467-4efa-97d8-f81478a26cf2",
    "deepnote_cell_type": "code",
    "deepnote_to_be_reexecuted": false,
    "execution_millis": 4,
    "execution_start": 1636673899807,
    "source_hash": "4075a82b",
    "tags": []
   },
   "outputs": [],
   "source": [
    "# Evitamos los molestos warnings\n",
    "warnings.simplefilter(\"ignore\")"
   ]
  },
  {
   "cell_type": "code",
   "execution_count": 3,
   "metadata": {
    "cell_id": "00001-ab935654-3843-4d8e-afdf-88d81761e23e",
    "deepnote_cell_type": "code",
    "deepnote_to_be_reexecuted": false,
    "execution_millis": 144,
    "execution_start": 1636673899817,
    "source_hash": "e23daefb",
    "tags": []
   },
   "outputs": [
    {
     "data": {
      "application/vnd.deepnote.dataframe.v2+json": {
       "column_count": 9,
       "columns": [
        {
         "dtype": "object",
         "name": "Transaction ID",
         "stats": {
          "categories": [
           {
            "count": 1,
            "name": "TXN001"
           },
           {
            "count": 1,
            "name": "TXN002"
           },
           {
            "count": 3,
            "name": "3 others"
           }
          ],
          "nan_count": 0,
          "unique_count": 5
         }
        },
        {
         "dtype": "int64",
         "name": "Age ",
         "stats": {
          "histogram": [
           {
            "bin_end": 27.6,
            "bin_start": 24,
            "count": 1
           },
           {
            "bin_end": 31.2,
            "bin_start": 27.6,
            "count": 0
           },
           {
            "bin_end": 34.8,
            "bin_start": 31.2,
            "count": 0
           },
           {
            "bin_end": 38.4,
            "bin_start": 34.8,
            "count": 0
           },
           {
            "bin_end": 42,
            "bin_start": 38.4,
            "count": 0
           },
           {
            "bin_end": 45.6,
            "bin_start": 42,
            "count": 1
           },
           {
            "bin_end": 49.2,
            "bin_start": 45.6,
            "count": 1
           },
           {
            "bin_end": 52.8,
            "bin_start": 49.2,
            "count": 1
           },
           {
            "bin_end": 56.4,
            "bin_start": 52.8,
            "count": 0
           },
           {
            "bin_end": 60,
            "bin_start": 56.4,
            "count": 1
           }
          ],
          "max": "60",
          "min": "24",
          "nan_count": 0,
          "unique_count": 5
         }
        },
        {
         "dtype": "int64",
         "name": " Items ",
         "stats": {
          "histogram": [
           {
            "bin_end": 2.9,
            "bin_start": 2,
            "count": 1
           },
           {
            "bin_end": 3.8,
            "bin_start": 2.9,
            "count": 0
           },
           {
            "bin_end": 4.7,
            "bin_start": 3.8,
            "count": 0
           },
           {
            "bin_end": 5.6,
            "bin_start": 4.7,
            "count": 0
           },
           {
            "bin_end": 6.5,
            "bin_start": 5.6,
            "count": 0
           },
           {
            "bin_end": 7.4,
            "bin_start": 6.5,
            "count": 0
           },
           {
            "bin_end": 8.3,
            "bin_start": 7.4,
            "count": 1
           },
           {
            "bin_end": 9.2,
            "bin_start": 8.3,
            "count": 0
           },
           {
            "bin_end": 10.1,
            "bin_start": 9.2,
            "count": 1
           },
           {
            "bin_end": 11,
            "bin_start": 10.1,
            "count": 2
           }
          ],
          "max": "11",
          "min": "2",
          "nan_count": 0,
          "unique_count": 4
         }
        },
        {
         "dtype": "int64",
         "name": "Monthly Income",
         "stats": {
          "histogram": [
           {
            "bin_end": 8866.2,
            "bin_start": 7313,
            "count": 1
           },
           {
            "bin_end": 10419.4,
            "bin_start": 8866.2,
            "count": 0
           },
           {
            "bin_end": 11972.6,
            "bin_start": 10419.4,
            "count": 0
           },
           {
            "bin_end": 13525.8,
            "bin_start": 11972.6,
            "count": 0
           },
           {
            "bin_end": 15079,
            "bin_start": 13525.8,
            "count": 1
           },
           {
            "bin_end": 16632.2,
            "bin_start": 15079,
            "count": 0
           },
           {
            "bin_end": 18185.4,
            "bin_start": 16632.2,
            "count": 1
           },
           {
            "bin_end": 19738.6,
            "bin_start": 18185.4,
            "count": 1
           },
           {
            "bin_end": 21291.800000000003,
            "bin_start": 19738.6,
            "count": 0
           },
           {
            "bin_end": 22845,
            "bin_start": 21291.800000000003,
            "count": 1
           }
          ],
          "max": "22845",
          "min": "7313",
          "nan_count": 0,
          "unique_count": 5
         }
        },
        {
         "dtype": "float64",
         "name": "Transaction Time",
         "stats": {
          "histogram": [
           {
            "bin_end": 201.56108008,
            "bin_start": 126.9045667,
            "count": 1
           },
           {
            "bin_end": 276.21759346,
            "bin_start": 201.56108008,
            "count": 0
           },
           {
            "bin_end": 350.87410684,
            "bin_start": 276.21759346,
            "count": 0
           },
           {
            "bin_end": 425.53062022000006,
            "bin_start": 350.87410684,
            "count": 2
           },
           {
            "bin_end": 500.18713360000004,
            "bin_start": 425.53062022000006,
            "count": 0
           },
           {
            "bin_end": 574.84364698,
            "bin_start": 500.18713360000004,
            "count": 0
           },
           {
            "bin_end": 649.5001603600001,
            "bin_start": 574.84364698,
            "count": 1
           },
           {
            "bin_end": 724.1566737400001,
            "bin_start": 649.5001603600001,
            "count": 0
           },
           {
            "bin_end": 798.8131871200001,
            "bin_start": 724.1566737400001,
            "count": 0
           },
           {
            "bin_end": 873.4697005,
            "bin_start": 798.8131871200001,
            "count": 1
           }
          ],
          "max": "873.4697005",
          "min": "126.9045667",
          "nan_count": 0,
          "unique_count": 5
         }
        },
        {
         "dtype": "int64",
         "name": "Record",
         "stats": {
          "histogram": [
           {
            "bin_end": 2.5,
            "bin_start": 2,
            "count": 2
           },
           {
            "bin_end": 3,
            "bin_start": 2.5,
            "count": 0
           },
           {
            "bin_end": 3.5,
            "bin_start": 3,
            "count": 1
           },
           {
            "bin_end": 4,
            "bin_start": 3.5,
            "count": 0
           },
           {
            "bin_end": 4.5,
            "bin_start": 4,
            "count": 0
           },
           {
            "bin_end": 5,
            "bin_start": 4.5,
            "count": 0
           },
           {
            "bin_end": 5.5,
            "bin_start": 5,
            "count": 1
           },
           {
            "bin_end": 6,
            "bin_start": 5.5,
            "count": 0
           },
           {
            "bin_end": 6.5,
            "bin_start": 6,
            "count": 0
           },
           {
            "bin_end": 7,
            "bin_start": 6.5,
            "count": 1
           }
          ],
          "max": "7",
          "min": "2",
          "nan_count": 0,
          "unique_count": 4
         }
        },
        {
         "dtype": "object",
         "name": "Gender",
         "stats": {
          "categories": [
           {
            "count": 4,
            "name": "Female"
           },
           {
            "count": 1,
            "name": "Male"
           }
          ],
          "nan_count": 0,
          "unique_count": 2
         }
        },
        {
         "dtype": "object",
         "name": "City Tier",
         "stats": {
          "categories": [
           {
            "count": 3,
            "name": "Tier 2"
           },
           {
            "count": 2,
            "name": "Tier 1"
           }
          ],
          "nan_count": 0,
          "unique_count": 2
         }
        },
        {
         "dtype": "float64",
         "name": "Total Spend",
         "stats": {
          "histogram": [
           {
            "bin_end": 3707.1892040999996,
            "bin_start": 3254.160485,
            "count": 1
           },
           {
            "bin_end": 4160.2179232,
            "bin_start": 3707.1892040999996,
            "count": 1
           },
           {
            "bin_end": 4613.2466423,
            "bin_start": 4160.2179232,
            "count": 1
           },
           {
            "bin_end": 5066.275361399999,
            "bin_start": 4613.2466423,
            "count": 0
           },
           {
            "bin_end": 5519.3040805,
            "bin_start": 5066.275361399999,
            "count": 1
           },
           {
            "bin_end": 5972.332799599999,
            "bin_start": 5519.3040805,
            "count": 0
           },
           {
            "bin_end": 6425.3615187,
            "bin_start": 5972.332799599999,
            "count": 0
           },
           {
            "bin_end": 6878.390237799999,
            "bin_start": 6425.3615187,
            "count": 0
           },
           {
            "bin_end": 7331.418956899999,
            "bin_start": 6878.390237799999,
            "count": 0
           },
           {
            "bin_end": 7784.447676,
            "bin_start": 7331.418956899999,
            "count": 1
           }
          ],
          "max": "7784.447676",
          "min": "3254.160485",
          "nan_count": 0,
          "unique_count": 5
         }
        },
        {
         "dtype": "int64",
         "name": "_deepnote_index_column"
        }
       ],
       "row_count": 5,
       "rows_bottom": null,
       "rows_top": [
        {
         " Items ": 10,
         "Age ": 42,
         "City Tier": "Tier 1",
         "Gender": "Female",
         "Monthly Income": 7313,
         "Record": 5,
         "Total Spend": 4198.385084,
         "Transaction ID": "TXN001",
         "Transaction Time": 627.6681268,
         "_deepnote_index_column": 0
        },
        {
         " Items ": 8,
         "Age ": 24,
         "City Tier": "Tier 2",
         "Gender": "Female",
         "Monthly Income": 17747,
         "Record": 3,
         "Total Spend": 4134.976648,
         "Transaction ID": "TXN002",
         "Transaction Time": 126.9045667,
         "_deepnote_index_column": 1
        },
        {
         " Items ": 11,
         "Age ": 47,
         "City Tier": "Tier 2",
         "Gender": "Male",
         "Monthly Income": 22845,
         "Record": 2,
         "Total Spend": 5166.614455,
         "Transaction ID": "TXN003",
         "Transaction Time": 873.4697005,
         "_deepnote_index_column": 2
        },
        {
         " Items ": 11,
         "Age ": 50,
         "City Tier": "Tier 1",
         "Gender": "Female",
         "Monthly Income": 18552,
         "Record": 7,
         "Total Spend": 7784.447676,
         "Transaction ID": "TXN004",
         "Transaction Time": 380.2194284,
         "_deepnote_index_column": 3
        },
        {
         " Items ": 2,
         "Age ": 60,
         "City Tier": "Tier 2",
         "Gender": "Female",
         "Monthly Income": 14439,
         "Record": 2,
         "Total Spend": 3254.160485,
         "Transaction ID": "TXN005",
         "Transaction Time": 403.3742228,
         "_deepnote_index_column": 4
        }
       ]
      },
      "text/html": [
       "<div>\n",
       "<style scoped>\n",
       "    .dataframe tbody tr th:only-of-type {\n",
       "        vertical-align: middle;\n",
       "    }\n",
       "\n",
       "    .dataframe tbody tr th {\n",
       "        vertical-align: top;\n",
       "    }\n",
       "\n",
       "    .dataframe thead th {\n",
       "        text-align: right;\n",
       "    }\n",
       "</style>\n",
       "<table border=\"1\" class=\"dataframe\">\n",
       "  <thead>\n",
       "    <tr style=\"text-align: right;\">\n",
       "      <th></th>\n",
       "      <th>Transaction ID</th>\n",
       "      <th>Age</th>\n",
       "      <th>Items</th>\n",
       "      <th>Monthly Income</th>\n",
       "      <th>Transaction Time</th>\n",
       "      <th>Record</th>\n",
       "      <th>Gender</th>\n",
       "      <th>City Tier</th>\n",
       "      <th>Total Spend</th>\n",
       "    </tr>\n",
       "  </thead>\n",
       "  <tbody>\n",
       "    <tr>\n",
       "      <th>0</th>\n",
       "      <td>TXN001</td>\n",
       "      <td>42</td>\n",
       "      <td>10</td>\n",
       "      <td>7313</td>\n",
       "      <td>627.668127</td>\n",
       "      <td>5</td>\n",
       "      <td>Female</td>\n",
       "      <td>Tier 1</td>\n",
       "      <td>4198.385084</td>\n",
       "    </tr>\n",
       "    <tr>\n",
       "      <th>1</th>\n",
       "      <td>TXN002</td>\n",
       "      <td>24</td>\n",
       "      <td>8</td>\n",
       "      <td>17747</td>\n",
       "      <td>126.904567</td>\n",
       "      <td>3</td>\n",
       "      <td>Female</td>\n",
       "      <td>Tier 2</td>\n",
       "      <td>4134.976648</td>\n",
       "    </tr>\n",
       "    <tr>\n",
       "      <th>2</th>\n",
       "      <td>TXN003</td>\n",
       "      <td>47</td>\n",
       "      <td>11</td>\n",
       "      <td>22845</td>\n",
       "      <td>873.469701</td>\n",
       "      <td>2</td>\n",
       "      <td>Male</td>\n",
       "      <td>Tier 2</td>\n",
       "      <td>5166.614455</td>\n",
       "    </tr>\n",
       "    <tr>\n",
       "      <th>3</th>\n",
       "      <td>TXN004</td>\n",
       "      <td>50</td>\n",
       "      <td>11</td>\n",
       "      <td>18552</td>\n",
       "      <td>380.219428</td>\n",
       "      <td>7</td>\n",
       "      <td>Female</td>\n",
       "      <td>Tier 1</td>\n",
       "      <td>7784.447676</td>\n",
       "    </tr>\n",
       "    <tr>\n",
       "      <th>4</th>\n",
       "      <td>TXN005</td>\n",
       "      <td>60</td>\n",
       "      <td>2</td>\n",
       "      <td>14439</td>\n",
       "      <td>403.374223</td>\n",
       "      <td>2</td>\n",
       "      <td>Female</td>\n",
       "      <td>Tier 2</td>\n",
       "      <td>3254.160485</td>\n",
       "    </tr>\n",
       "  </tbody>\n",
       "</table>\n",
       "</div>"
      ],
      "text/plain": [
       "  Transaction ID  Age    Items   Monthly Income  Transaction Time  Record  \\\n",
       "0         TXN001    42       10            7313        627.668127       5   \n",
       "1         TXN002    24        8           17747        126.904567       3   \n",
       "2         TXN003    47       11           22845        873.469701       2   \n",
       "3         TXN004    50       11           18552        380.219428       7   \n",
       "4         TXN005    60        2           14439        403.374223       2   \n",
       "\n",
       "   Gender City Tier  Total Spend  \n",
       "0  Female    Tier 1  4198.385084  \n",
       "1  Female    Tier 2  4134.976648  \n",
       "2    Male    Tier 2  5166.614455  \n",
       "3  Female    Tier 1  7784.447676  \n",
       "4  Female    Tier 2  3254.160485  "
      ]
     },
     "execution_count": 3,
     "metadata": {},
     "output_type": "execute_result"
    }
   ],
   "source": [
    "data = pd.read_csv('https://raw.githubusercontent.com/jorge-robledo11/Datasets/main/Datasets/ecom-expense/Ecom%20Expense.csv')\n",
    "data.head()"
   ]
  },
  {
   "cell_type": "code",
   "execution_count": 4,
   "metadata": {
    "cell_id": "00002-e7e0fb56-3b16-46e7-912e-e9e9620cc49f",
    "deepnote_cell_type": "code",
    "deepnote_to_be_reexecuted": false,
    "execution_millis": 3,
    "execution_start": 1636673899966,
    "source_hash": "c02ca492",
    "tags": []
   },
   "outputs": [],
   "source": [
    "header = ['Transaction ID', 'Age', 'Items', 'Monthly Income','Transaction Time', 'Record','Gender','City Tier','Total Spend']\n",
    "data.columns = header"
   ]
  },
  {
   "cell_type": "code",
   "execution_count": 5,
   "metadata": {
    "cell_id": "00003-11d15f66-d490-4c82-9eaa-30dc0c244ab5",
    "deepnote_cell_type": "code",
    "deepnote_to_be_reexecuted": false,
    "execution_millis": 43,
    "execution_start": 1636673899978,
    "source_hash": "878de0e4",
    "tags": []
   },
   "outputs": [
    {
     "data": {
      "text/plain": [
       "Transaction ID      0\n",
       "Age                 0\n",
       "Items               0\n",
       "Monthly Income      0\n",
       "Transaction Time    0\n",
       "Record              0\n",
       "Gender              0\n",
       "City Tier           0\n",
       "Total Spend         0\n",
       "dtype: int64"
      ]
     },
     "execution_count": 5,
     "metadata": {},
     "output_type": "execute_result"
    }
   ],
   "source": [
    "data.isnull().sum()"
   ]
  },
  {
   "cell_type": "code",
   "execution_count": 6,
   "metadata": {
    "cell_id": "00004-51bb6fdf-2ddc-4fbd-ac30-5e3443de0509",
    "deepnote_cell_type": "code",
    "deepnote_to_be_reexecuted": false,
    "execution_millis": 43,
    "execution_start": 1636673900020,
    "source_hash": "8d705ecd",
    "tags": []
   },
   "outputs": [],
   "source": [
    "data = pd.get_dummies(data, columns = [\"Gender\"], drop_first = True)\n",
    "data = data.rename(columns={'Gender_Male':'Gender'})"
   ]
  },
  {
   "cell_type": "code",
   "execution_count": 7,
   "metadata": {
    "cell_id": "00006-6fc891fe-d1fc-4426-9428-a3582900a0d8",
    "deepnote_cell_type": "code",
    "deepnote_to_be_reexecuted": false,
    "execution_millis": 0,
    "execution_start": 1636673900064,
    "source_hash": "c58e0789",
    "tags": []
   },
   "outputs": [],
   "source": [
    "data['Age'] = data['Age'].astype(int)\n",
    "data['Gender'] = data['Gender'].astype(int)"
   ]
  },
  {
   "cell_type": "code",
   "execution_count": 8,
   "metadata": {
    "cell_id": "00006-9268d4f3-3717-4990-a8c0-be1c5f6b85d3",
    "deepnote_cell_type": "code",
    "deepnote_to_be_reexecuted": false,
    "execution_millis": 1,
    "execution_start": 1636673900064,
    "source_hash": "f4d6fe28",
    "tags": []
   },
   "outputs": [],
   "source": [
    "# Segmentar y etiquetar\n",
    "\n",
    "\"\"\"\n",
    "0 ~ 11 años = 1\n",
    "12 ~ 18 años = 2\n",
    "19 ~ 35 años = 3\n",
    "36 ~ 60 años = 4\n",
    "61 ~ 100 años = 5\n",
    "\"\"\"\n",
    "\n",
    "bins = [0, 12, 18, 35, 60, 100]\n",
    "names = [\"1\",\"2\",\"3\",\"4\",\"5\"]\n",
    "\n",
    "data[\"Age\"] = pd.cut(data[\"Age\"], bins, labels = names)"
   ]
  },
  {
   "cell_type": "code",
   "execution_count": 9,
   "metadata": {
    "cell_id": "00012-835d0394-fed5-49e9-b7bf-254fc75dee43",
    "deepnote_cell_type": "code",
    "deepnote_to_be_reexecuted": false,
    "execution_millis": 28,
    "execution_start": 1636673900065,
    "source_hash": "41313cfa",
    "tags": []
   },
   "outputs": [
    {
     "data": {
      "application/vnd.deepnote.dataframe.v2+json": {
       "column_count": 9,
       "columns": [
        {
         "dtype": "object",
         "name": "Transaction ID",
         "stats": {
          "categories": [
           {
            "count": 1,
            "name": "TXN001"
           },
           {
            "count": 1,
            "name": "TXN002"
           },
           {
            "count": 3,
            "name": "3 others"
           }
          ],
          "nan_count": 0,
          "unique_count": 5
         }
        },
        {
         "dtype": "category",
         "name": "Age",
         "stats": {
          "categories": [
           {
            "count": 4,
            "name": "4"
           },
           {
            "count": 1,
            "name": "3"
           }
          ],
          "nan_count": 0,
          "unique_count": 2
         }
        },
        {
         "dtype": "int64",
         "name": "Items",
         "stats": {
          "histogram": [
           {
            "bin_end": 2.9,
            "bin_start": 2,
            "count": 1
           },
           {
            "bin_end": 3.8,
            "bin_start": 2.9,
            "count": 0
           },
           {
            "bin_end": 4.7,
            "bin_start": 3.8,
            "count": 0
           },
           {
            "bin_end": 5.6,
            "bin_start": 4.7,
            "count": 0
           },
           {
            "bin_end": 6.5,
            "bin_start": 5.6,
            "count": 0
           },
           {
            "bin_end": 7.4,
            "bin_start": 6.5,
            "count": 0
           },
           {
            "bin_end": 8.3,
            "bin_start": 7.4,
            "count": 1
           },
           {
            "bin_end": 9.2,
            "bin_start": 8.3,
            "count": 0
           },
           {
            "bin_end": 10.1,
            "bin_start": 9.2,
            "count": 1
           },
           {
            "bin_end": 11,
            "bin_start": 10.1,
            "count": 2
           }
          ],
          "max": "11",
          "min": "2",
          "nan_count": 0,
          "unique_count": 4
         }
        },
        {
         "dtype": "int64",
         "name": "Monthly Income",
         "stats": {
          "histogram": [
           {
            "bin_end": 8866.2,
            "bin_start": 7313,
            "count": 1
           },
           {
            "bin_end": 10419.4,
            "bin_start": 8866.2,
            "count": 0
           },
           {
            "bin_end": 11972.6,
            "bin_start": 10419.4,
            "count": 0
           },
           {
            "bin_end": 13525.8,
            "bin_start": 11972.6,
            "count": 0
           },
           {
            "bin_end": 15079,
            "bin_start": 13525.8,
            "count": 1
           },
           {
            "bin_end": 16632.2,
            "bin_start": 15079,
            "count": 0
           },
           {
            "bin_end": 18185.4,
            "bin_start": 16632.2,
            "count": 1
           },
           {
            "bin_end": 19738.6,
            "bin_start": 18185.4,
            "count": 1
           },
           {
            "bin_end": 21291.800000000003,
            "bin_start": 19738.6,
            "count": 0
           },
           {
            "bin_end": 22845,
            "bin_start": 21291.800000000003,
            "count": 1
           }
          ],
          "max": "22845",
          "min": "7313",
          "nan_count": 0,
          "unique_count": 5
         }
        },
        {
         "dtype": "float64",
         "name": "Transaction Time",
         "stats": {
          "histogram": [
           {
            "bin_end": 201.56108008,
            "bin_start": 126.9045667,
            "count": 1
           },
           {
            "bin_end": 276.21759346,
            "bin_start": 201.56108008,
            "count": 0
           },
           {
            "bin_end": 350.87410684,
            "bin_start": 276.21759346,
            "count": 0
           },
           {
            "bin_end": 425.53062022000006,
            "bin_start": 350.87410684,
            "count": 2
           },
           {
            "bin_end": 500.18713360000004,
            "bin_start": 425.53062022000006,
            "count": 0
           },
           {
            "bin_end": 574.84364698,
            "bin_start": 500.18713360000004,
            "count": 0
           },
           {
            "bin_end": 649.5001603600001,
            "bin_start": 574.84364698,
            "count": 1
           },
           {
            "bin_end": 724.1566737400001,
            "bin_start": 649.5001603600001,
            "count": 0
           },
           {
            "bin_end": 798.8131871200001,
            "bin_start": 724.1566737400001,
            "count": 0
           },
           {
            "bin_end": 873.4697005,
            "bin_start": 798.8131871200001,
            "count": 1
           }
          ],
          "max": "873.4697005",
          "min": "126.9045667",
          "nan_count": 0,
          "unique_count": 5
         }
        },
        {
         "dtype": "int64",
         "name": "Record",
         "stats": {
          "histogram": [
           {
            "bin_end": 2.5,
            "bin_start": 2,
            "count": 2
           },
           {
            "bin_end": 3,
            "bin_start": 2.5,
            "count": 0
           },
           {
            "bin_end": 3.5,
            "bin_start": 3,
            "count": 1
           },
           {
            "bin_end": 4,
            "bin_start": 3.5,
            "count": 0
           },
           {
            "bin_end": 4.5,
            "bin_start": 4,
            "count": 0
           },
           {
            "bin_end": 5,
            "bin_start": 4.5,
            "count": 0
           },
           {
            "bin_end": 5.5,
            "bin_start": 5,
            "count": 1
           },
           {
            "bin_end": 6,
            "bin_start": 5.5,
            "count": 0
           },
           {
            "bin_end": 6.5,
            "bin_start": 6,
            "count": 0
           },
           {
            "bin_end": 7,
            "bin_start": 6.5,
            "count": 1
           }
          ],
          "max": "7",
          "min": "2",
          "nan_count": 0,
          "unique_count": 4
         }
        },
        {
         "dtype": "object",
         "name": "City Tier",
         "stats": {
          "categories": [
           {
            "count": 3,
            "name": "Tier 2"
           },
           {
            "count": 2,
            "name": "Tier 1"
           }
          ],
          "nan_count": 0,
          "unique_count": 2
         }
        },
        {
         "dtype": "float64",
         "name": "Total Spend",
         "stats": {
          "histogram": [
           {
            "bin_end": 3707.1892040999996,
            "bin_start": 3254.160485,
            "count": 1
           },
           {
            "bin_end": 4160.2179232,
            "bin_start": 3707.1892040999996,
            "count": 1
           },
           {
            "bin_end": 4613.2466423,
            "bin_start": 4160.2179232,
            "count": 1
           },
           {
            "bin_end": 5066.275361399999,
            "bin_start": 4613.2466423,
            "count": 0
           },
           {
            "bin_end": 5519.3040805,
            "bin_start": 5066.275361399999,
            "count": 1
           },
           {
            "bin_end": 5972.332799599999,
            "bin_start": 5519.3040805,
            "count": 0
           },
           {
            "bin_end": 6425.3615187,
            "bin_start": 5972.332799599999,
            "count": 0
           },
           {
            "bin_end": 6878.390237799999,
            "bin_start": 6425.3615187,
            "count": 0
           },
           {
            "bin_end": 7331.418956899999,
            "bin_start": 6878.390237799999,
            "count": 0
           },
           {
            "bin_end": 7784.447676,
            "bin_start": 7331.418956899999,
            "count": 1
           }
          ],
          "max": "7784.447676",
          "min": "3254.160485",
          "nan_count": 0,
          "unique_count": 5
         }
        },
        {
         "dtype": "int64",
         "name": "Gender",
         "stats": {
          "histogram": [
           {
            "bin_end": 0.1,
            "bin_start": 0,
            "count": 4
           },
           {
            "bin_end": 0.2,
            "bin_start": 0.1,
            "count": 0
           },
           {
            "bin_end": 0.30000000000000004,
            "bin_start": 0.2,
            "count": 0
           },
           {
            "bin_end": 0.4,
            "bin_start": 0.30000000000000004,
            "count": 0
           },
           {
            "bin_end": 0.5,
            "bin_start": 0.4,
            "count": 0
           },
           {
            "bin_end": 0.6000000000000001,
            "bin_start": 0.5,
            "count": 0
           },
           {
            "bin_end": 0.7000000000000001,
            "bin_start": 0.6000000000000001,
            "count": 0
           },
           {
            "bin_end": 0.8,
            "bin_start": 0.7000000000000001,
            "count": 0
           },
           {
            "bin_end": 0.9,
            "bin_start": 0.8,
            "count": 0
           },
           {
            "bin_end": 1,
            "bin_start": 0.9,
            "count": 1
           }
          ],
          "max": "1",
          "min": "0",
          "nan_count": 0,
          "unique_count": 2
         }
        },
        {
         "dtype": "int64",
         "name": "_deepnote_index_column"
        }
       ],
       "row_count": 5,
       "rows_bottom": null,
       "rows_top": [
        {
         "Age": "4",
         "City Tier": "Tier 1",
         "Gender": 0,
         "Items": 10,
         "Monthly Income": 7313,
         "Record": 5,
         "Total Spend": 4198.385084,
         "Transaction ID": "TXN001",
         "Transaction Time": 627.6681268,
         "_deepnote_index_column": 0
        },
        {
         "Age": "3",
         "City Tier": "Tier 2",
         "Gender": 0,
         "Items": 8,
         "Monthly Income": 17747,
         "Record": 3,
         "Total Spend": 4134.976648,
         "Transaction ID": "TXN002",
         "Transaction Time": 126.9045667,
         "_deepnote_index_column": 1
        },
        {
         "Age": "4",
         "City Tier": "Tier 2",
         "Gender": 1,
         "Items": 11,
         "Monthly Income": 22845,
         "Record": 2,
         "Total Spend": 5166.614455,
         "Transaction ID": "TXN003",
         "Transaction Time": 873.4697005,
         "_deepnote_index_column": 2
        },
        {
         "Age": "4",
         "City Tier": "Tier 1",
         "Gender": 0,
         "Items": 11,
         "Monthly Income": 18552,
         "Record": 7,
         "Total Spend": 7784.447676,
         "Transaction ID": "TXN004",
         "Transaction Time": 380.2194284,
         "_deepnote_index_column": 3
        },
        {
         "Age": "4",
         "City Tier": "Tier 2",
         "Gender": 0,
         "Items": 2,
         "Monthly Income": 14439,
         "Record": 2,
         "Total Spend": 3254.160485,
         "Transaction ID": "TXN005",
         "Transaction Time": 403.3742228,
         "_deepnote_index_column": 4
        }
       ]
      },
      "text/html": [
       "<div>\n",
       "<style scoped>\n",
       "    .dataframe tbody tr th:only-of-type {\n",
       "        vertical-align: middle;\n",
       "    }\n",
       "\n",
       "    .dataframe tbody tr th {\n",
       "        vertical-align: top;\n",
       "    }\n",
       "\n",
       "    .dataframe thead th {\n",
       "        text-align: right;\n",
       "    }\n",
       "</style>\n",
       "<table border=\"1\" class=\"dataframe\">\n",
       "  <thead>\n",
       "    <tr style=\"text-align: right;\">\n",
       "      <th></th>\n",
       "      <th>Transaction ID</th>\n",
       "      <th>Age</th>\n",
       "      <th>Items</th>\n",
       "      <th>Monthly Income</th>\n",
       "      <th>Transaction Time</th>\n",
       "      <th>Record</th>\n",
       "      <th>City Tier</th>\n",
       "      <th>Total Spend</th>\n",
       "      <th>Gender</th>\n",
       "    </tr>\n",
       "  </thead>\n",
       "  <tbody>\n",
       "    <tr>\n",
       "      <th>0</th>\n",
       "      <td>TXN001</td>\n",
       "      <td>4</td>\n",
       "      <td>10</td>\n",
       "      <td>7313</td>\n",
       "      <td>627.668127</td>\n",
       "      <td>5</td>\n",
       "      <td>Tier 1</td>\n",
       "      <td>4198.385084</td>\n",
       "      <td>0</td>\n",
       "    </tr>\n",
       "    <tr>\n",
       "      <th>1</th>\n",
       "      <td>TXN002</td>\n",
       "      <td>3</td>\n",
       "      <td>8</td>\n",
       "      <td>17747</td>\n",
       "      <td>126.904567</td>\n",
       "      <td>3</td>\n",
       "      <td>Tier 2</td>\n",
       "      <td>4134.976648</td>\n",
       "      <td>0</td>\n",
       "    </tr>\n",
       "    <tr>\n",
       "      <th>2</th>\n",
       "      <td>TXN003</td>\n",
       "      <td>4</td>\n",
       "      <td>11</td>\n",
       "      <td>22845</td>\n",
       "      <td>873.469701</td>\n",
       "      <td>2</td>\n",
       "      <td>Tier 2</td>\n",
       "      <td>5166.614455</td>\n",
       "      <td>1</td>\n",
       "    </tr>\n",
       "    <tr>\n",
       "      <th>3</th>\n",
       "      <td>TXN004</td>\n",
       "      <td>4</td>\n",
       "      <td>11</td>\n",
       "      <td>18552</td>\n",
       "      <td>380.219428</td>\n",
       "      <td>7</td>\n",
       "      <td>Tier 1</td>\n",
       "      <td>7784.447676</td>\n",
       "      <td>0</td>\n",
       "    </tr>\n",
       "    <tr>\n",
       "      <th>4</th>\n",
       "      <td>TXN005</td>\n",
       "      <td>4</td>\n",
       "      <td>2</td>\n",
       "      <td>14439</td>\n",
       "      <td>403.374223</td>\n",
       "      <td>2</td>\n",
       "      <td>Tier 2</td>\n",
       "      <td>3254.160485</td>\n",
       "      <td>0</td>\n",
       "    </tr>\n",
       "  </tbody>\n",
       "</table>\n",
       "</div>"
      ],
      "text/plain": [
       "  Transaction ID Age  Items  Monthly Income  Transaction Time  Record  \\\n",
       "0         TXN001   4     10            7313        627.668127       5   \n",
       "1         TXN002   3      8           17747        126.904567       3   \n",
       "2         TXN003   4     11           22845        873.469701       2   \n",
       "3         TXN004   4     11           18552        380.219428       7   \n",
       "4         TXN005   4      2           14439        403.374223       2   \n",
       "\n",
       "  City Tier  Total Spend  Gender  \n",
       "0    Tier 1  4198.385084       0  \n",
       "1    Tier 2  4134.976648       0  \n",
       "2    Tier 2  5166.614455       1  \n",
       "3    Tier 1  7784.447676       0  \n",
       "4    Tier 2  3254.160485       0  "
      ]
     },
     "execution_count": 9,
     "metadata": {},
     "output_type": "execute_result"
    }
   ],
   "source": [
    "data.head()"
   ]
  },
  {
   "cell_type": "code",
   "execution_count": 10,
   "metadata": {
    "cell_id": "00011-b5171b86-799f-412e-b68a-d43bddca6ace",
    "deepnote_cell_type": "code",
    "deepnote_to_be_reexecuted": false,
    "execution_millis": 17,
    "execution_start": 1636673900152,
    "source_hash": "858115d0",
    "tags": []
   },
   "outputs": [
    {
     "data": {
      "text/plain": [
       "Tier 1    815\n",
       "Tier 2    782\n",
       "Tier 3    765\n",
       "Name: City Tier, dtype: int64"
      ]
     },
     "execution_count": 10,
     "metadata": {},
     "output_type": "execute_result"
    }
   ],
   "source": [
    "# Contar los valores por categorías\n",
    "\n",
    "data['City Tier'].value_counts()"
   ]
  },
  {
   "cell_type": "code",
   "execution_count": 11,
   "metadata": {
    "cell_id": "00011-ea1a9000-50d4-4e02-a309-e1c2eabe2918",
    "deepnote_cell_type": "code",
    "deepnote_to_be_reexecuted": false,
    "execution_millis": 1,
    "execution_start": 1636673900153,
    "source_hash": "61d66494",
    "tags": []
   },
   "outputs": [],
   "source": [
    "# Mapear, cambiar las categorías\n",
    "\n",
    "tiers = {'Tier 1': 1, 'Tier 2': 2, 'Tier 3': 3}\n",
    "data['City Tier'] = data['City Tier'].map(tiers)"
   ]
  },
  {
   "cell_type": "code",
   "execution_count": 12,
   "metadata": {
    "cell_id": "00011-1c68d1ae-65b0-4f6f-baf9-64fcc9f272c8",
    "deepnote_cell_type": "code",
    "deepnote_to_be_reexecuted": false,
    "execution_millis": 5,
    "execution_start": 1636673900189,
    "source_hash": "85aee354",
    "tags": []
   },
   "outputs": [
    {
     "data": {
      "text/plain": [
       "1    815\n",
       "2    782\n",
       "3    765\n",
       "Name: City Tier, dtype: int64"
      ]
     },
     "execution_count": 12,
     "metadata": {},
     "output_type": "execute_result"
    }
   ],
   "source": [
    "data['City Tier'].value_counts()"
   ]
  },
  {
   "cell_type": "code",
   "execution_count": 13,
   "metadata": {
    "cell_id": "00011-50b275cc-9ab6-4e00-b387-c15e6a984478",
    "deepnote_cell_type": "code",
    "deepnote_to_be_reexecuted": false,
    "execution_millis": 4,
    "execution_start": 1636673900190,
    "source_hash": "9ccae1f6",
    "tags": []
   },
   "outputs": [
    {
     "data": {
      "text/plain": [
       "(2362, 3)"
      ]
     },
     "execution_count": 13,
     "metadata": {},
     "output_type": "execute_result"
    }
   ],
   "source": [
    "# Creamos un nuevo dataframe con las variables dummies\n",
    "\n",
    "dummy_city_tier = pd.get_dummies(data['City Tier'], prefix='City')\n",
    "dummy_city_tier.shape"
   ]
  },
  {
   "cell_type": "code",
   "execution_count": 14,
   "metadata": {
    "cell_id": "00013-099b5d97-2614-4873-8956-5e1b878e9d27",
    "deepnote_cell_type": "code",
    "deepnote_to_be_reexecuted": false,
    "execution_millis": 0,
    "execution_start": 1636673900191,
    "source_hash": "336c1e76",
    "tags": []
   },
   "outputs": [],
   "source": [
    "# Lo concatenamos con nuestro dataframe original\n",
    "\n",
    "data_new = pd.concat([data, dummy_city_tier], axis=1)"
   ]
  },
  {
   "cell_type": "code",
   "execution_count": 15,
   "metadata": {
    "cell_id": "00014-11f40cec-e0be-4b85-99af-a146a5c07d3e",
    "deepnote_cell_type": "code",
    "deepnote_to_be_reexecuted": false,
    "execution_millis": 148,
    "execution_start": 1636673900206,
    "source_hash": "e0458a40",
    "tags": []
   },
   "outputs": [
    {
     "data": {
      "application/vnd.deepnote.dataframe.v2+json": {
       "column_count": 11,
       "columns": [
        {
         "dtype": "object",
         "name": "Transaction ID",
         "stats": {
          "categories": [
           {
            "count": 1,
            "name": "TXN001"
           },
           {
            "count": 1,
            "name": "TXN002"
           },
           {
            "count": 2360,
            "name": "2360 others"
           }
          ],
          "nan_count": 0,
          "unique_count": 2362
         }
        },
        {
         "dtype": "category",
         "name": "Age",
         "stats": {
          "categories": [
           {
            "count": 1417,
            "name": "4"
           },
           {
            "count": 945,
            "name": "3"
           }
          ],
          "nan_count": 0,
          "unique_count": 2
         }
        },
        {
         "dtype": "int64",
         "name": "Items",
         "stats": {
          "histogram": [
           {
            "bin_end": 2.4,
            "bin_start": 1,
            "count": 344
           },
           {
            "bin_end": 3.8,
            "bin_start": 2.4,
            "count": 151
           },
           {
            "bin_end": 5.199999999999999,
            "bin_start": 3.8,
            "count": 292
           },
           {
            "bin_end": 6.6,
            "bin_start": 5.199999999999999,
            "count": 167
           },
           {
            "bin_end": 8,
            "bin_start": 6.6,
            "count": 156
           },
           {
            "bin_end": 9.399999999999999,
            "bin_start": 8,
            "count": 341
           },
           {
            "bin_end": 10.799999999999999,
            "bin_start": 9.399999999999999,
            "count": 159
           },
           {
            "bin_end": 12.2,
            "bin_start": 10.799999999999999,
            "count": 319
           },
           {
            "bin_end": 13.6,
            "bin_start": 12.2,
            "count": 145
           },
           {
            "bin_end": 15,
            "bin_start": 13.6,
            "count": 288
           }
          ],
          "max": "15",
          "min": "1",
          "nan_count": 0,
          "unique_count": 15
         }
        },
        {
         "dtype": "int64",
         "name": "Monthly Income",
         "stats": {
          "histogram": [
           {
            "bin_end": 4802.7,
            "bin_start": 2003,
            "count": 217
           },
           {
            "bin_end": 7602.4,
            "bin_start": 4802.7,
            "count": 235
           },
           {
            "bin_end": 10402.099999999999,
            "bin_start": 7602.4,
            "count": 260
           },
           {
            "bin_end": 13201.8,
            "bin_start": 10402.099999999999,
            "count": 248
           },
           {
            "bin_end": 16001.5,
            "bin_start": 13201.8,
            "count": 237
           },
           {
            "bin_end": 18801.199999999997,
            "bin_start": 16001.5,
            "count": 246
           },
           {
            "bin_end": 21600.899999999998,
            "bin_start": 18801.199999999997,
            "count": 223
           },
           {
            "bin_end": 24400.6,
            "bin_start": 21600.899999999998,
            "count": 224
           },
           {
            "bin_end": 27200.3,
            "bin_start": 24400.6,
            "count": 241
           },
           {
            "bin_end": 30000,
            "bin_start": 27200.3,
            "count": 231
           }
          ],
          "max": "30000",
          "min": "2003",
          "nan_count": 0,
          "unique_count": 2251
         }
        },
        {
         "dtype": "float64",
         "name": "Transaction Time",
         "stats": {
          "histogram": [
           {
            "bin_end": 100.4866877699,
            "bin_start": 0.463297411,
            "count": 239
           },
           {
            "bin_end": 200.51007812880002,
            "bin_start": 100.4866877699,
            "count": 229
           },
           {
            "bin_end": 300.5334684877,
            "bin_start": 200.51007812880002,
            "count": 249
           },
           {
            "bin_end": 400.5568588466,
            "bin_start": 300.5334684877,
            "count": 234
           },
           {
            "bin_end": 500.58024920549997,
            "bin_start": 400.5568588466,
            "count": 242
           },
           {
            "bin_end": 600.6036395644,
            "bin_start": 500.58024920549997,
            "count": 251
           },
           {
            "bin_end": 700.6270299233,
            "bin_start": 600.6036395644,
            "count": 221
           },
           {
            "bin_end": 800.6504202822,
            "bin_start": 700.6270299233,
            "count": 230
           },
           {
            "bin_end": 900.6738106411,
            "bin_start": 800.6504202822,
            "count": 244
           },
           {
            "bin_end": 1000.697201,
            "bin_start": 900.6738106411,
            "count": 223
           }
          ],
          "max": "1000.697201",
          "min": "0.463297411",
          "nan_count": 0,
          "unique_count": 2362
         }
        },
        {
         "dtype": "int64",
         "name": "Record",
         "stats": {
          "histogram": [
           {
            "bin_end": 1,
            "bin_start": 0,
            "count": 212
           },
           {
            "bin_end": 2,
            "bin_start": 1,
            "count": 208
           },
           {
            "bin_end": 3,
            "bin_start": 2,
            "count": 217
           },
           {
            "bin_end": 4,
            "bin_start": 3,
            "count": 220
           },
           {
            "bin_end": 5,
            "bin_start": 4,
            "count": 218
           },
           {
            "bin_end": 6,
            "bin_start": 5,
            "count": 237
           },
           {
            "bin_end": 7,
            "bin_start": 6,
            "count": 220
           },
           {
            "bin_end": 8,
            "bin_start": 7,
            "count": 239
           },
           {
            "bin_end": 9,
            "bin_start": 8,
            "count": 215
           },
           {
            "bin_end": 10,
            "bin_start": 9,
            "count": 376
           }
          ],
          "max": "10",
          "min": "0",
          "nan_count": 0,
          "unique_count": 11
         }
        },
        {
         "dtype": "float64",
         "name": "Total Spend",
         "stats": {
          "histogram": [
           {
            "bin_end": 2384.2385373999996,
            "bin_start": 1099.815246,
            "count": 119
           },
           {
            "bin_end": 3668.6618288,
            "bin_start": 2384.2385373999996,
            "count": 355
           },
           {
            "bin_end": 4953.085120199999,
            "bin_start": 3668.6618288,
            "count": 463
           },
           {
            "bin_end": 6237.5084116,
            "bin_start": 4953.085120199999,
            "count": 429
           },
           {
            "bin_end": 7521.931703,
            "bin_start": 6237.5084116,
            "count": 303
           },
           {
            "bin_end": 8806.354994399999,
            "bin_start": 7521.931703,
            "count": 221
           },
           {
            "bin_end": 10090.7782858,
            "bin_start": 8806.354994399999,
            "count": 195
           },
           {
            "bin_end": 11375.2015772,
            "bin_start": 10090.7782858,
            "count": 149
           },
           {
            "bin_end": 12659.6248686,
            "bin_start": 11375.2015772,
            "count": 94
           },
           {
            "bin_end": 13944.04816,
            "bin_start": 12659.6248686,
            "count": 34
           }
          ],
          "max": "13944.04816",
          "min": "1099.815246",
          "nan_count": 0,
          "unique_count": 2362
         }
        },
        {
         "dtype": "int64",
         "name": "Gender",
         "stats": {
          "histogram": [
           {
            "bin_end": 0.1,
            "bin_start": 0,
            "count": 1162
           },
           {
            "bin_end": 0.2,
            "bin_start": 0.1,
            "count": 0
           },
           {
            "bin_end": 0.30000000000000004,
            "bin_start": 0.2,
            "count": 0
           },
           {
            "bin_end": 0.4,
            "bin_start": 0.30000000000000004,
            "count": 0
           },
           {
            "bin_end": 0.5,
            "bin_start": 0.4,
            "count": 0
           },
           {
            "bin_end": 0.6000000000000001,
            "bin_start": 0.5,
            "count": 0
           },
           {
            "bin_end": 0.7000000000000001,
            "bin_start": 0.6000000000000001,
            "count": 0
           },
           {
            "bin_end": 0.8,
            "bin_start": 0.7000000000000001,
            "count": 0
           },
           {
            "bin_end": 0.9,
            "bin_start": 0.8,
            "count": 0
           },
           {
            "bin_end": 1,
            "bin_start": 0.9,
            "count": 1200
           }
          ],
          "max": "1",
          "min": "0",
          "nan_count": 0,
          "unique_count": 2
         }
        },
        {
         "dtype": "uint8",
         "name": "City_1",
         "stats": {
          "histogram": [
           {
            "bin_end": 0.1,
            "bin_start": 0,
            "count": 1547
           },
           {
            "bin_end": 0.2,
            "bin_start": 0.1,
            "count": 0
           },
           {
            "bin_end": 0.30000000000000004,
            "bin_start": 0.2,
            "count": 0
           },
           {
            "bin_end": 0.4,
            "bin_start": 0.30000000000000004,
            "count": 0
           },
           {
            "bin_end": 0.5,
            "bin_start": 0.4,
            "count": 0
           },
           {
            "bin_end": 0.6000000000000001,
            "bin_start": 0.5,
            "count": 0
           },
           {
            "bin_end": 0.7000000000000001,
            "bin_start": 0.6000000000000001,
            "count": 0
           },
           {
            "bin_end": 0.8,
            "bin_start": 0.7000000000000001,
            "count": 0
           },
           {
            "bin_end": 0.9,
            "bin_start": 0.8,
            "count": 0
           },
           {
            "bin_end": 1,
            "bin_start": 0.9,
            "count": 815
           }
          ],
          "max": "1",
          "min": "0",
          "nan_count": 0,
          "unique_count": 2
         }
        },
        {
         "dtype": "uint8",
         "name": "City_2",
         "stats": {
          "histogram": [
           {
            "bin_end": 0.1,
            "bin_start": 0,
            "count": 1580
           },
           {
            "bin_end": 0.2,
            "bin_start": 0.1,
            "count": 0
           },
           {
            "bin_end": 0.30000000000000004,
            "bin_start": 0.2,
            "count": 0
           },
           {
            "bin_end": 0.4,
            "bin_start": 0.30000000000000004,
            "count": 0
           },
           {
            "bin_end": 0.5,
            "bin_start": 0.4,
            "count": 0
           },
           {
            "bin_end": 0.6000000000000001,
            "bin_start": 0.5,
            "count": 0
           },
           {
            "bin_end": 0.7000000000000001,
            "bin_start": 0.6000000000000001,
            "count": 0
           },
           {
            "bin_end": 0.8,
            "bin_start": 0.7000000000000001,
            "count": 0
           },
           {
            "bin_end": 0.9,
            "bin_start": 0.8,
            "count": 0
           },
           {
            "bin_end": 1,
            "bin_start": 0.9,
            "count": 782
           }
          ],
          "max": "1",
          "min": "0",
          "nan_count": 0,
          "unique_count": 2
         }
        },
        {
         "dtype": "uint8",
         "name": "City_3",
         "stats": {
          "histogram": [
           {
            "bin_end": 0.1,
            "bin_start": 0,
            "count": 1597
           },
           {
            "bin_end": 0.2,
            "bin_start": 0.1,
            "count": 0
           },
           {
            "bin_end": 0.30000000000000004,
            "bin_start": 0.2,
            "count": 0
           },
           {
            "bin_end": 0.4,
            "bin_start": 0.30000000000000004,
            "count": 0
           },
           {
            "bin_end": 0.5,
            "bin_start": 0.4,
            "count": 0
           },
           {
            "bin_end": 0.6000000000000001,
            "bin_start": 0.5,
            "count": 0
           },
           {
            "bin_end": 0.7000000000000001,
            "bin_start": 0.6000000000000001,
            "count": 0
           },
           {
            "bin_end": 0.8,
            "bin_start": 0.7000000000000001,
            "count": 0
           },
           {
            "bin_end": 0.9,
            "bin_start": 0.8,
            "count": 0
           },
           {
            "bin_end": 1,
            "bin_start": 0.9,
            "count": 765
           }
          ],
          "max": "1",
          "min": "0",
          "nan_count": 0,
          "unique_count": 2
         }
        },
        {
         "dtype": "int64",
         "name": "_deepnote_index_column"
        }
       ],
       "row_count": 2362,
       "rows_bottom": [
        {
         "Age": "3",
         "City_1": 0,
         "City_2": 0,
         "City_3": 1,
         "Gender": 0,
         "Items": 5,
         "Monthly Income": 12784,
         "Record": 8,
         "Total Spend": 7643.818386,
         "Transaction ID": "TXN2318",
         "Transaction Time": 245.0494504,
         "_deepnote_index_column": 2317
        },
        {
         "Age": "4",
         "City_1": 0,
         "City_2": 1,
         "City_3": 0,
         "Gender": 1,
         "Items": 13,
         "Monthly Income": 13155,
         "Record": 0,
         "Total Spend": 3568.678078,
         "Transaction ID": "TXN2319",
         "Transaction Time": 652.0498284,
         "_deepnote_index_column": 2318
        },
        {
         "Age": "3",
         "City_1": 0,
         "City_2": 1,
         "City_3": 0,
         "Gender": 1,
         "Items": 1,
         "Monthly Income": 9209,
         "Record": 4,
         "Total Spend": 3577.751704,
         "Transaction ID": "TXN2320",
         "Transaction Time": 737.8256554,
         "_deepnote_index_column": 2319
        },
        {
         "Age": "4",
         "City_1": 0,
         "City_2": 0,
         "City_3": 1,
         "Gender": 0,
         "Items": 7,
         "Monthly Income": 2634,
         "Record": 6,
         "Total Spend": 4038.325109,
         "Transaction ID": "TXN2321",
         "Transaction Time": 568.6010107,
         "_deepnote_index_column": 2320
        },
        {
         "Age": "3",
         "City_1": 0,
         "City_2": 0,
         "City_3": 1,
         "Gender": 0,
         "Items": 4,
         "Monthly Income": 13523,
         "Record": 8,
         "Total Spend": 7766.398004,
         "Transaction ID": "TXN2322",
         "Transaction Time": 597.7917422,
         "_deepnote_index_column": 2321
        },
        {
         "Age": "4",
         "City_1": 1,
         "City_2": 0,
         "City_3": 0,
         "Gender": 0,
         "Items": 11,
         "Monthly Income": 9196,
         "Record": 0,
         "Total Spend": 2807.751504,
         "Transaction ID": "TXN2323",
         "Transaction Time": 697.4531419,
         "_deepnote_index_column": 2322
        },
        {
         "Age": "3",
         "City_1": 1,
         "City_2": 0,
         "City_3": 0,
         "Gender": 0,
         "Items": 8,
         "Monthly Income": 12737,
         "Record": 6,
         "Total Spend": 5663.95447,
         "Transaction ID": "TXN2324",
         "Transaction Time": 992.2046141,
         "_deepnote_index_column": 2323
        },
        {
         "Age": "4",
         "City_1": 1,
         "City_2": 0,
         "City_3": 0,
         "Gender": 0,
         "Items": 9,
         "Monthly Income": 11307,
         "Record": 1,
         "Total Spend": 2990.039532,
         "Transaction ID": "TXN2325",
         "Transaction Time": 436.4106327,
         "_deepnote_index_column": 2324
        },
        {
         "Age": "4",
         "City_1": 1,
         "City_2": 0,
         "City_3": 0,
         "Gender": 1,
         "Items": 6,
         "Monthly Income": 21351,
         "Record": 7,
         "Total Spend": 8242.170667,
         "Transaction ID": "TXN2326",
         "Transaction Time": 629.164498,
         "_deepnote_index_column": 2325
        },
        {
         "Age": "3",
         "City_1": 0,
         "City_2": 1,
         "City_3": 0,
         "Gender": 0,
         "Items": 11,
         "Monthly Income": 12925,
         "Record": 7,
         "Total Spend": 6637.584034,
         "Transaction ID": "TXN2327",
         "Transaction Time": 81.63903874,
         "_deepnote_index_column": 2326
        },
        {
         "Age": "3",
         "City_1": 0,
         "City_2": 1,
         "City_3": 0,
         "Gender": 0,
         "Items": 1,
         "Monthly Income": 23376,
         "Record": 3,
         "Total Spend": 4568.865903,
         "Transaction ID": "TXN2328",
         "Transaction Time": 4.455226624,
         "_deepnote_index_column": 2327
        },
        {
         "Age": "3",
         "City_1": 0,
         "City_2": 1,
         "City_3": 0,
         "Gender": 1,
         "Items": 3,
         "Monthly Income": 9151,
         "Record": 7,
         "Total Spend": 6110.209901,
         "Transaction ID": "TXN2329",
         "Transaction Time": 388.290312,
         "_deepnote_index_column": 2328
        },
        {
         "Age": "4",
         "City_1": 0,
         "City_2": 0,
         "City_3": 1,
         "Gender": 0,
         "Items": 1,
         "Monthly Income": 18898,
         "Record": 9,
         "Total Spend": 9820.742218,
         "Transaction ID": "TXN2330",
         "Transaction Time": 199.837246,
         "_deepnote_index_column": 2329
        },
        {
         "Age": "4",
         "City_1": 0,
         "City_2": 1,
         "City_3": 0,
         "Gender": 1,
         "Items": 5,
         "Monthly Income": 11405,
         "Record": 0,
         "Total Spend": 2955.120138,
         "Transaction ID": "TXN2331",
         "Transaction Time": 541.6283376,
         "_deepnote_index_column": 2330
        },
        {
         "Age": "4",
         "City_1": 0,
         "City_2": 1,
         "City_3": 0,
         "Gender": 1,
         "Items": 11,
         "Monthly Income": 14510,
         "Record": 0,
         "Total Spend": 3816.487156,
         "Transaction ID": "TXN2332",
         "Transaction Time": 850.8863629,
         "_deepnote_index_column": 2331
        },
        {
         "Age": "4",
         "City_1": 0,
         "City_2": 0,
         "City_3": 1,
         "Gender": 1,
         "Items": 4,
         "Monthly Income": 17916,
         "Record": 1,
         "Total Spend": 3992.663438,
         "Transaction ID": "TXN2333",
         "Transaction Time": 252.7169555,
         "_deepnote_index_column": 2332
        },
        {
         "Age": "3",
         "City_1": 0,
         "City_2": 0,
         "City_3": 1,
         "Gender": 0,
         "Items": 3,
         "Monthly Income": 24366,
         "Record": 0,
         "Total Spend": 4499.440811,
         "Transaction ID": "TXN2334",
         "Transaction Time": 750.5992305,
         "_deepnote_index_column": 2333
        },
        {
         "Age": "4",
         "City_1": 1,
         "City_2": 0,
         "City_3": 0,
         "Gender": 0,
         "Items": 11,
         "Monthly Income": 11041,
         "Record": 9,
         "Total Spend": 9255.917532,
         "Transaction ID": "TXN2335",
         "Transaction Time": 150.6362767,
         "_deepnote_index_column": 2334
        },
        {
         "Age": "4",
         "City_1": 1,
         "City_2": 0,
         "City_3": 0,
         "Gender": 0,
         "Items": 9,
         "Monthly Income": 11853,
         "Record": 7,
         "Total Spend": 6591.377065,
         "Transaction ID": "TXN2336",
         "Transaction Time": 772.3749615,
         "_deepnote_index_column": 2335
        },
        {
         "Age": "4",
         "City_1": 0,
         "City_2": 1,
         "City_3": 0,
         "Gender": 1,
         "Items": 10,
         "Monthly Income": 9669,
         "Record": 8,
         "Total Spend": 7810.574323,
         "Transaction ID": "TXN2337",
         "Transaction Time": 644.6338354,
         "_deepnote_index_column": 2336
        },
        {
         "Age": "3",
         "City_1": 1,
         "City_2": 0,
         "City_3": 0,
         "Gender": 1,
         "Items": 15,
         "Monthly Income": 27785,
         "Record": 7,
         "Total Spend": 9461.450479,
         "Transaction ID": "TXN2338",
         "Transaction Time": 25.15140952,
         "_deepnote_index_column": 2337
        },
        {
         "Age": "4",
         "City_1": 0,
         "City_2": 0,
         "City_3": 1,
         "Gender": 0,
         "Items": 2,
         "Monthly Income": 8000,
         "Record": 3,
         "Total Spend": 2625.887751,
         "Transaction ID": "TXN2339",
         "Transaction Time": 135.8589602,
         "_deepnote_index_column": 2338
        },
        {
         "Age": "3",
         "City_1": 0,
         "City_2": 1,
         "City_3": 0,
         "Gender": 0,
         "Items": 3,
         "Monthly Income": 12618,
         "Record": 3,
         "Total Spend": 3285.883842,
         "Transaction ID": "TXN2340",
         "Transaction Time": 143.2350144,
         "_deepnote_index_column": 2339
        },
        {
         "Age": "3",
         "City_1": 0,
         "City_2": 0,
         "City_3": 1,
         "Gender": 0,
         "Items": 12,
         "Monthly Income": 10293,
         "Record": 8,
         "Total Spend": 7494.051932,
         "Transaction ID": "TXN2341",
         "Transaction Time": 738.0557821,
         "_deepnote_index_column": 2340
        },
        {
         "Age": "4",
         "City_1": 0,
         "City_2": 1,
         "City_3": 0,
         "Gender": 0,
         "Items": 7,
         "Monthly Income": 24094,
         "Record": 0,
         "Total Spend": 4698.938272,
         "Transaction ID": "TXN2342",
         "Transaction Time": 268.1530366,
         "_deepnote_index_column": 2341
        },
        {
         "Age": "4",
         "City_1": 0,
         "City_2": 1,
         "City_3": 0,
         "Gender": 1,
         "Items": 15,
         "Monthly Income": 29852,
         "Record": 6,
         "Total Spend": 8768.882298,
         "Transaction ID": "TXN2343",
         "Transaction Time": 420.1259655,
         "_deepnote_index_column": 2342
        },
        {
         "Age": "3",
         "City_1": 1,
         "City_2": 0,
         "City_3": 0,
         "Gender": 0,
         "Items": 11,
         "Monthly Income": 5882,
         "Record": 3,
         "Total Spend": 2607.949377,
         "Transaction ID": "TXN2344",
         "Transaction Time": 417.5462103,
         "_deepnote_index_column": 2343
        },
        {
         "Age": "3",
         "City_1": 0,
         "City_2": 1,
         "City_3": 0,
         "Gender": 0,
         "Items": 9,
         "Monthly Income": 7619,
         "Record": 9,
         "Total Spend": 8467.276299,
         "Transaction ID": "TXN2345",
         "Transaction Time": 451.3539471,
         "_deepnote_index_column": 2344
        },
        {
         "Age": "4",
         "City_1": 0,
         "City_2": 0,
         "City_3": 1,
         "Gender": 0,
         "Items": 14,
         "Monthly Income": 2897,
         "Record": 1,
         "Total Spend": 1730.554041,
         "Transaction ID": "TXN2346",
         "Transaction Time": 676.1458909,
         "_deepnote_index_column": 2345
        },
        {
         "Age": "4",
         "City_1": 1,
         "City_2": 0,
         "City_3": 0,
         "Gender": 1,
         "Items": 1,
         "Monthly Income": 15528,
         "Record": 8,
         "Total Spend": 8365.792225,
         "Transaction ID": "TXN2347",
         "Transaction Time": 167.1060318,
         "_deepnote_index_column": 2346
        },
        {
         "Age": "3",
         "City_1": 1,
         "City_2": 0,
         "City_3": 0,
         "Gender": 0,
         "Items": 2,
         "Monthly Income": 7828,
         "Record": 6,
         "Total Spend": 4737.047961,
         "Transaction ID": "TXN2348",
         "Transaction Time": 814.7720974,
         "_deepnote_index_column": 2347
        },
        {
         "Age": "4",
         "City_1": 0,
         "City_2": 0,
         "City_3": 1,
         "Gender": 0,
         "Items": 2,
         "Monthly Income": 22398,
         "Record": 7,
         "Total Spend": 7738.585197,
         "Transaction ID": "TXN2349",
         "Transaction Time": 107.7480734,
         "_deepnote_index_column": 2348
        },
        {
         "Age": "4",
         "City_1": 0,
         "City_2": 0,
         "City_3": 1,
         "Gender": 1,
         "Items": 13,
         "Monthly Income": 25578,
         "Record": 3,
         "Total Spend": 5905.80694,
         "Transaction ID": "TXN2350",
         "Transaction Time": 519.1348289,
         "_deepnote_index_column": 2349
        },
        {
         "Age": "4",
         "City_1": 1,
         "City_2": 0,
         "City_3": 0,
         "Gender": 0,
         "Items": 1,
         "Monthly Income": 3323,
         "Record": 8,
         "Total Spend": 6318.97829,
         "Transaction ID": "TXN2351",
         "Transaction Time": 41.91338833,
         "_deepnote_index_column": 2350
        },
        {
         "Age": "4",
         "City_1": 0,
         "City_2": 1,
         "City_3": 0,
         "Gender": 0,
         "Items": 9,
         "Monthly Income": 16714,
         "Record": 0,
         "Total Spend": 3751.97699,
         "Transaction ID": "TXN2352",
         "Transaction Time": 674.1707378,
         "_deepnote_index_column": 2351
        },
        {
         "Age": "4",
         "City_1": 1,
         "City_2": 0,
         "City_3": 0,
         "Gender": 0,
         "Items": 1,
         "Monthly Income": 21134,
         "Record": 0,
         "Total Spend": 4151.359282,
         "Transaction ID": "TXN2353",
         "Transaction Time": 470.5359582,
         "_deepnote_index_column": 2352
        },
        {
         "Age": "4",
         "City_1": 0,
         "City_2": 0,
         "City_3": 1,
         "Gender": 1,
         "Items": 10,
         "Monthly Income": 7808,
         "Record": 6,
         "Total Spend": 5085.117527,
         "Transaction ID": "TXN2354",
         "Transaction Time": 214.6504546,
         "_deepnote_index_column": 2353
        },
        {
         "Age": "4",
         "City_1": 0,
         "City_2": 0,
         "City_3": 1,
         "Gender": 0,
         "Items": 11,
         "Monthly Income": 24233,
         "Record": 7,
         "Total Spend": 8369.397349,
         "Transaction ID": "TXN2355",
         "Transaction Time": 887.2193955,
         "_deepnote_index_column": 2354
        },
        {
         "Age": "4",
         "City_1": 1,
         "City_2": 0,
         "City_3": 0,
         "Gender": 1,
         "Items": 2,
         "Monthly Income": 11500,
         "Record": 1,
         "Total Spend": 2948.938011,
         "Transaction ID": "TXN2356",
         "Transaction Time": 397.5393403,
         "_deepnote_index_column": 2355
        },
        {
         "Age": "3",
         "City_1": 0,
         "City_2": 0,
         "City_3": 1,
         "Gender": 0,
         "Items": 4,
         "Monthly Income": 13481,
         "Record": 8,
         "Total Spend": 7578.431026,
         "Transaction ID": "TXN2357",
         "Transaction Time": 602.3932975,
         "_deepnote_index_column": 2356
        },
        {
         "Age": "4",
         "City_1": 0,
         "City_2": 1,
         "City_3": 0,
         "Gender": 1,
         "Items": 7,
         "Monthly Income": 5705,
         "Record": 3,
         "Total Spend": 2909.619546,
         "Transaction ID": "TXN2358",
         "Transaction Time": 460.157207,
         "_deepnote_index_column": 2357
        },
        {
         "Age": "3",
         "City_1": 0,
         "City_2": 1,
         "City_3": 0,
         "Gender": 1,
         "Items": 11,
         "Monthly Income": 11202,
         "Record": 8,
         "Total Spend": 7968.633136,
         "Transaction ID": "TXN2359",
         "Transaction Time": 851.924751,
         "_deepnote_index_column": 2358
        },
        {
         "Age": "3",
         "City_1": 0,
         "City_2": 0,
         "City_3": 1,
         "Gender": 0,
         "Items": 5,
         "Monthly Income": 21335,
         "Record": 8,
         "Total Spend": 8816.406448,
         "Transaction ID": "TXN2360",
         "Transaction Time": 435.1453578,
         "_deepnote_index_column": 2359
        },
        {
         "Age": "4",
         "City_1": 1,
         "City_2": 0,
         "City_3": 0,
         "Gender": 0,
         "Items": 12,
         "Monthly Income": 19294,
         "Record": 7,
         "Total Spend": 7915.595856,
         "Transaction ID": "TXN2361",
         "Transaction Time": 658.4398376,
         "_deepnote_index_column": 2360
        },
        {
         "Age": "4",
         "City_1": 1,
         "City_2": 0,
         "City_3": 0,
         "Gender": 1,
         "Items": 7,
         "Monthly Income": 2855,
         "Record": 8,
         "Total Spend": 6832.401686,
         "Transaction ID": "TXN2362",
         "Transaction Time": 560.5143406,
         "_deepnote_index_column": 2361
        }
       ],
       "rows_top": [
        {
         "Age": "4",
         "City_1": 1,
         "City_2": 0,
         "City_3": 0,
         "Gender": 0,
         "Items": 10,
         "Monthly Income": 7313,
         "Record": 5,
         "Total Spend": 4198.385084,
         "Transaction ID": "TXN001",
         "Transaction Time": 627.6681268,
         "_deepnote_index_column": 0
        },
        {
         "Age": "3",
         "City_1": 0,
         "City_2": 1,
         "City_3": 0,
         "Gender": 0,
         "Items": 8,
         "Monthly Income": 17747,
         "Record": 3,
         "Total Spend": 4134.976648,
         "Transaction ID": "TXN002",
         "Transaction Time": 126.9045667,
         "_deepnote_index_column": 1
        },
        {
         "Age": "4",
         "City_1": 0,
         "City_2": 1,
         "City_3": 0,
         "Gender": 1,
         "Items": 11,
         "Monthly Income": 22845,
         "Record": 2,
         "Total Spend": 5166.614455,
         "Transaction ID": "TXN003",
         "Transaction Time": 873.4697005,
         "_deepnote_index_column": 2
        },
        {
         "Age": "4",
         "City_1": 1,
         "City_2": 0,
         "City_3": 0,
         "Gender": 0,
         "Items": 11,
         "Monthly Income": 18552,
         "Record": 7,
         "Total Spend": 7784.447676,
         "Transaction ID": "TXN004",
         "Transaction Time": 380.2194284,
         "_deepnote_index_column": 3
        },
        {
         "Age": "4",
         "City_1": 0,
         "City_2": 1,
         "City_3": 0,
         "Gender": 0,
         "Items": 2,
         "Monthly Income": 14439,
         "Record": 2,
         "Total Spend": 3254.160485,
         "Transaction ID": "TXN005",
         "Transaction Time": 403.3742228,
         "_deepnote_index_column": 4
        },
        {
         "Age": "4",
         "City_1": 0,
         "City_2": 1,
         "City_3": 0,
         "Gender": 1,
         "Items": 6,
         "Monthly Income": 6282,
         "Record": 2,
         "Total Spend": 2375.036467,
         "Transaction ID": "TXN006",
         "Transaction Time": 48.97426843,
         "_deepnote_index_column": 5
        },
        {
         "Age": "3",
         "City_1": 1,
         "City_2": 0,
         "City_3": 0,
         "Gender": 1,
         "Items": 14,
         "Monthly Income": 7086,
         "Record": 8,
         "Total Spend": 7494.474559,
         "Transaction ID": "TXN007",
         "Transaction Time": 961.2037677,
         "_deepnote_index_column": 6
        },
        {
         "Age": "4",
         "City_1": 0,
         "City_2": 0,
         "City_3": 1,
         "Gender": 1,
         "Items": 9,
         "Monthly Income": 8881,
         "Record": 10,
         "Total Spend": 10782.94492,
         "Transaction ID": "TXN008",
         "Transaction Time": 962.2537396,
         "_deepnote_index_column": 7
        },
        {
         "Age": "3",
         "City_1": 1,
         "City_2": 0,
         "City_3": 0,
         "Gender": 1,
         "Items": 6,
         "Monthly Income": 5635,
         "Record": 5,
         "Total Spend": 3854.277411,
         "Transaction ID": "TXN009",
         "Transaction Time": 858.3281315,
         "_deepnote_index_column": 8
        },
        {
         "Age": "4",
         "City_1": 0,
         "City_2": 1,
         "City_3": 0,
         "Gender": 0,
         "Items": 12,
         "Monthly Income": 20861,
         "Record": 4,
         "Total Spend": 5346.140262,
         "Transaction ID": "TXN010",
         "Transaction Time": 43.03673676,
         "_deepnote_index_column": 9
        },
        {
         "Age": "4",
         "City_1": 0,
         "City_2": 0,
         "City_3": 1,
         "Gender": 1,
         "Items": 8,
         "Monthly Income": 2556,
         "Record": 1,
         "Total Spend": 1712.073796,
         "Transaction ID": "TXN011",
         "Transaction Time": 947.8463863,
         "_deepnote_index_column": 10
        },
        {
         "Age": "4",
         "City_1": 0,
         "City_2": 1,
         "City_3": 0,
         "Gender": 1,
         "Items": 8,
         "Monthly Income": 27947,
         "Record": 6,
         "Total Spend": 8047.046153,
         "Transaction ID": "TXN012",
         "Transaction Time": 89.64334818,
         "_deepnote_index_column": 11
        },
        {
         "Age": "4",
         "City_1": 0,
         "City_2": 0,
         "City_3": 1,
         "Gender": 1,
         "Items": 12,
         "Monthly Income": 23445,
         "Record": 9,
         "Total Spend": 11334.57824,
         "Transaction ID": "TXN013",
         "Transaction Time": 773.6359876,
         "_deepnote_index_column": 12
        },
        {
         "Age": "3",
         "City_1": 0,
         "City_2": 1,
         "City_3": 0,
         "Gender": 1,
         "Items": 10,
         "Monthly Income": 14297,
         "Record": 2,
         "Total Spend": 3791.364491,
         "Transaction ID": "TXN014",
         "Transaction Time": 245.8941503,
         "_deepnote_index_column": 13
        },
        {
         "Age": "4",
         "City_1": 1,
         "City_2": 0,
         "City_3": 0,
         "Gender": 1,
         "Items": 1,
         "Monthly Income": 3405,
         "Record": 1,
         "Total Spend": 1674.998658,
         "Transaction ID": "TXN015",
         "Transaction Time": 120.9167811,
         "_deepnote_index_column": 14
        },
        {
         "Age": "3",
         "City_1": 0,
         "City_2": 1,
         "City_3": 0,
         "Gender": 1,
         "Items": 13,
         "Monthly Income": 28714,
         "Record": 6,
         "Total Spend": 8446.607517,
         "Transaction ID": "TXN016",
         "Transaction Time": 546.5522745,
         "_deepnote_index_column": 15
        },
        {
         "Age": "4",
         "City_1": 1,
         "City_2": 0,
         "City_3": 0,
         "Gender": 0,
         "Items": 13,
         "Monthly Income": 14069,
         "Record": 8,
         "Total Spend": 8338.43853,
         "Transaction ID": "TXN017",
         "Transaction Time": 131.2064474,
         "_deepnote_index_column": 16
        },
        {
         "Age": "4",
         "City_1": 0,
         "City_2": 0,
         "City_3": 1,
         "Gender": 0,
         "Items": 14,
         "Monthly Income": 28428,
         "Record": 9,
         "Total Spend": 11933.05688,
         "Transaction ID": "TXN018",
         "Transaction Time": 102.0523714,
         "_deepnote_index_column": 17
        },
        {
         "Age": "4",
         "City_1": 0,
         "City_2": 1,
         "City_3": 0,
         "Gender": 1,
         "Items": 15,
         "Monthly Income": 14982,
         "Record": 10,
         "Total Spend": 11898.85488,
         "Transaction ID": "TXN019",
         "Transaction Time": 69.32488327,
         "_deepnote_index_column": 18
        },
        {
         "Age": "4",
         "City_1": 1,
         "City_2": 0,
         "City_3": 0,
         "Gender": 0,
         "Items": 13,
         "Monthly Income": 27864,
         "Record": 8,
         "Total Spend": 10502.3972,
         "Transaction ID": "TXN020",
         "Transaction Time": 350.7857034,
         "_deepnote_index_column": 19
        },
        {
         "Age": "3",
         "City_1": 0,
         "City_2": 1,
         "City_3": 0,
         "Gender": 1,
         "Items": 5,
         "Monthly Income": 16960,
         "Record": 10,
         "Total Spend": 11640.42717,
         "Transaction ID": "TXN021",
         "Transaction Time": 588.3179495,
         "_deepnote_index_column": 20
        },
        {
         "Age": "4",
         "City_1": 0,
         "City_2": 0,
         "City_3": 1,
         "Gender": 1,
         "Items": 14,
         "Monthly Income": 3041,
         "Record": 8,
         "Total Spend": 6929.271468,
         "Transaction ID": "TXN022",
         "Transaction Time": 361.6467376,
         "_deepnote_index_column": 21
        },
        {
         "Age": "3",
         "City_1": 0,
         "City_2": 1,
         "City_3": 0,
         "Gender": 0,
         "Items": 13,
         "Monthly Income": 5037,
         "Record": 6,
         "Total Spend": 4659.60114,
         "Transaction ID": "TXN023",
         "Transaction Time": 579.519349,
         "_deepnote_index_column": 22
        },
        {
         "Age": "4",
         "City_1": 0,
         "City_2": 0,
         "City_3": 1,
         "Gender": 0,
         "Items": 4,
         "Monthly Income": 27403,
         "Record": 2,
         "Total Spend": 5186.995354,
         "Transaction ID": "TXN024",
         "Transaction Time": 755.1910339,
         "_deepnote_index_column": 23
        },
        {
         "Age": "3",
         "City_1": 1,
         "City_2": 0,
         "City_3": 0,
         "Gender": 1,
         "Items": 11,
         "Monthly Income": 23570,
         "Record": 6,
         "Total Spend": 7573.790334,
         "Transaction ID": "TXN025",
         "Transaction Time": 484.6853402,
         "_deepnote_index_column": 24
        },
        {
         "Age": "3",
         "City_1": 0,
         "City_2": 0,
         "City_3": 1,
         "Gender": 0,
         "Items": 5,
         "Monthly Income": 8954,
         "Record": 1,
         "Total Spend": 2113.269251,
         "Transaction ID": "TXN026",
         "Transaction Time": 87.43644917,
         "_deepnote_index_column": 25
        },
        {
         "Age": "3",
         "City_1": 1,
         "City_2": 0,
         "City_3": 0,
         "Gender": 1,
         "Items": 15,
         "Monthly Income": 12015,
         "Record": 8,
         "Total Spend": 8316.443505,
         "Transaction ID": "TXN027",
         "Transaction Time": 997.7113664,
         "_deepnote_index_column": 26
        },
        {
         "Age": "4",
         "City_1": 0,
         "City_2": 1,
         "City_3": 0,
         "Gender": 0,
         "Items": 9,
         "Monthly Income": 8061,
         "Record": 7,
         "Total Spend": 6016.72732,
         "Transaction ID": "TXN028",
         "Transaction Time": 629.9857716,
         "_deepnote_index_column": 27
        },
        {
         "Age": "3",
         "City_1": 1,
         "City_2": 0,
         "City_3": 0,
         "Gender": 0,
         "Items": 4,
         "Monthly Income": 20163,
         "Record": 10,
         "Total Spend": 11998.37951,
         "Transaction ID": "TXN029",
         "Transaction Time": 623.2114898,
         "_deepnote_index_column": 28
        },
        {
         "Age": "3",
         "City_1": 1,
         "City_2": 0,
         "City_3": 0,
         "Gender": 1,
         "Items": 10,
         "Monthly Income": 22859,
         "Record": 5,
         "Total Spend": 6719.134009,
         "Transaction ID": "TXN030",
         "Transaction Time": 925.1652785,
         "_deepnote_index_column": 29
        },
        {
         "Age": "4",
         "City_1": 0,
         "City_2": 1,
         "City_3": 0,
         "Gender": 0,
         "Items": 7,
         "Monthly Income": 10568,
         "Record": 0,
         "Total Spend": 2592.460708,
         "Transaction ID": "TXN031",
         "Transaction Time": 515.9493631,
         "_deepnote_index_column": 30
        },
        {
         "Age": "3",
         "City_1": 1,
         "City_2": 0,
         "City_3": 0,
         "Gender": 1,
         "Items": 2,
         "Monthly Income": 13087,
         "Record": 10,
         "Total Spend": 10984.28461,
         "Transaction ID": "TXN032",
         "Transaction Time": 233.1774339,
         "_deepnote_index_column": 31
        },
        {
         "Age": "4",
         "City_1": 0,
         "City_2": 0,
         "City_3": 1,
         "Gender": 1,
         "Items": 6,
         "Monthly Income": 7189,
         "Record": 4,
         "Total Spend": 3325.512874,
         "Transaction ID": "TXN033",
         "Transaction Time": 11.90050671,
         "_deepnote_index_column": 32
        },
        {
         "Age": "4",
         "City_1": 0,
         "City_2": 0,
         "City_3": 1,
         "Gender": 1,
         "Items": 11,
         "Monthly Income": 19822,
         "Record": 2,
         "Total Spend": 4776.55483,
         "Transaction ID": "TXN034",
         "Transaction Time": 452.0136871,
         "_deepnote_index_column": 33
        },
        {
         "Age": "4",
         "City_1": 0,
         "City_2": 1,
         "City_3": 0,
         "Gender": 1,
         "Items": 9,
         "Monthly Income": 25446,
         "Record": 4,
         "Total Spend": 6397.661491,
         "Transaction ID": "TXN035",
         "Transaction Time": 448.282333,
         "_deepnote_index_column": 34
        },
        {
         "Age": "3",
         "City_1": 0,
         "City_2": 1,
         "City_3": 0,
         "Gender": 1,
         "Items": 3,
         "Monthly Income": 12299,
         "Record": 2,
         "Total Spend": 3135.468955,
         "Transaction ID": "TXN036",
         "Transaction Time": 974.5246754,
         "_deepnote_index_column": 35
        },
        {
         "Age": "4",
         "City_1": 0,
         "City_2": 1,
         "City_3": 0,
         "Gender": 0,
         "Items": 12,
         "Monthly Income": 3510,
         "Record": 2,
         "Total Spend": 1891.335778,
         "Transaction ID": "TXN037",
         "Transaction Time": 219.2608392,
         "_deepnote_index_column": 36
        },
        {
         "Age": "3",
         "City_1": 0,
         "City_2": 1,
         "City_3": 0,
         "Gender": 0,
         "Items": 8,
         "Monthly Income": 19919,
         "Record": 1,
         "Total Spend": 4150.034405,
         "Transaction ID": "TXN038",
         "Transaction Time": 663.5047641,
         "_deepnote_index_column": 37
        },
        {
         "Age": "3",
         "City_1": 0,
         "City_2": 1,
         "City_3": 0,
         "Gender": 1,
         "Items": 15,
         "Monthly Income": 2871,
         "Record": 7,
         "Total Spend": 5661.557539,
         "Transaction ID": "TXN039",
         "Transaction Time": 696.0379652,
         "_deepnote_index_column": 38
        },
        {
         "Age": "4",
         "City_1": 0,
         "City_2": 1,
         "City_3": 0,
         "Gender": 1,
         "Items": 9,
         "Monthly Income": 22498,
         "Record": 9,
         "Total Spend": 11260.30254,
         "Transaction ID": "TXN040",
         "Transaction Time": 432.7923821,
         "_deepnote_index_column": 39
        },
        {
         "Age": "4",
         "City_1": 1,
         "City_2": 0,
         "City_3": 0,
         "Gender": 1,
         "Items": 5,
         "Monthly Income": 8932,
         "Record": 6,
         "Total Spend": 5329.916412,
         "Transaction ID": "TXN041",
         "Transaction Time": 145.7876254,
         "_deepnote_index_column": 40
        },
        {
         "Age": "3",
         "City_1": 0,
         "City_2": 1,
         "City_3": 0,
         "Gender": 0,
         "Items": 9,
         "Monthly Income": 18488,
         "Record": 1,
         "Total Spend": 3751.922048,
         "Transaction ID": "TXN042",
         "Transaction Time": 12.80030972,
         "_deepnote_index_column": 41
        },
        {
         "Age": "3",
         "City_1": 0,
         "City_2": 0,
         "City_3": 1,
         "Gender": 0,
         "Items": 11,
         "Monthly Income": 26992,
         "Record": 7,
         "Total Spend": 8881.123893,
         "Transaction ID": "TXN043",
         "Transaction Time": 753.0025977,
         "_deepnote_index_column": 42
        },
        {
         "Age": "4",
         "City_1": 1,
         "City_2": 0,
         "City_3": 0,
         "Gender": 0,
         "Items": 4,
         "Monthly Income": 16666,
         "Record": 0,
         "Total Spend": 3687.496775,
         "Transaction ID": "TXN044",
         "Transaction Time": 968.2059664,
         "_deepnote_index_column": 43
        },
        {
         "Age": "3",
         "City_1": 1,
         "City_2": 0,
         "City_3": 0,
         "Gender": 1,
         "Items": 1,
         "Monthly Income": 26814,
         "Record": 9,
         "Total Spend": 11412.00241,
         "Transaction ID": "TXN045",
         "Transaction Time": 330.581355,
         "_deepnote_index_column": 44
        }
       ]
      },
      "text/html": [
       "<div>\n",
       "<style scoped>\n",
       "    .dataframe tbody tr th:only-of-type {\n",
       "        vertical-align: middle;\n",
       "    }\n",
       "\n",
       "    .dataframe tbody tr th {\n",
       "        vertical-align: top;\n",
       "    }\n",
       "\n",
       "    .dataframe thead th {\n",
       "        text-align: right;\n",
       "    }\n",
       "</style>\n",
       "<table border=\"1\" class=\"dataframe\">\n",
       "  <thead>\n",
       "    <tr style=\"text-align: right;\">\n",
       "      <th></th>\n",
       "      <th>Transaction ID</th>\n",
       "      <th>Age</th>\n",
       "      <th>Items</th>\n",
       "      <th>Monthly Income</th>\n",
       "      <th>Transaction Time</th>\n",
       "      <th>Record</th>\n",
       "      <th>Total Spend</th>\n",
       "      <th>Gender</th>\n",
       "      <th>City_1</th>\n",
       "      <th>City_2</th>\n",
       "      <th>City_3</th>\n",
       "    </tr>\n",
       "  </thead>\n",
       "  <tbody>\n",
       "    <tr>\n",
       "      <th>0</th>\n",
       "      <td>TXN001</td>\n",
       "      <td>4</td>\n",
       "      <td>10</td>\n",
       "      <td>7313</td>\n",
       "      <td>627.668127</td>\n",
       "      <td>5</td>\n",
       "      <td>4198.385084</td>\n",
       "      <td>0</td>\n",
       "      <td>1</td>\n",
       "      <td>0</td>\n",
       "      <td>0</td>\n",
       "    </tr>\n",
       "    <tr>\n",
       "      <th>1</th>\n",
       "      <td>TXN002</td>\n",
       "      <td>3</td>\n",
       "      <td>8</td>\n",
       "      <td>17747</td>\n",
       "      <td>126.904567</td>\n",
       "      <td>3</td>\n",
       "      <td>4134.976648</td>\n",
       "      <td>0</td>\n",
       "      <td>0</td>\n",
       "      <td>1</td>\n",
       "      <td>0</td>\n",
       "    </tr>\n",
       "    <tr>\n",
       "      <th>2</th>\n",
       "      <td>TXN003</td>\n",
       "      <td>4</td>\n",
       "      <td>11</td>\n",
       "      <td>22845</td>\n",
       "      <td>873.469701</td>\n",
       "      <td>2</td>\n",
       "      <td>5166.614455</td>\n",
       "      <td>1</td>\n",
       "      <td>0</td>\n",
       "      <td>1</td>\n",
       "      <td>0</td>\n",
       "    </tr>\n",
       "    <tr>\n",
       "      <th>3</th>\n",
       "      <td>TXN004</td>\n",
       "      <td>4</td>\n",
       "      <td>11</td>\n",
       "      <td>18552</td>\n",
       "      <td>380.219428</td>\n",
       "      <td>7</td>\n",
       "      <td>7784.447676</td>\n",
       "      <td>0</td>\n",
       "      <td>1</td>\n",
       "      <td>0</td>\n",
       "      <td>0</td>\n",
       "    </tr>\n",
       "    <tr>\n",
       "      <th>4</th>\n",
       "      <td>TXN005</td>\n",
       "      <td>4</td>\n",
       "      <td>2</td>\n",
       "      <td>14439</td>\n",
       "      <td>403.374223</td>\n",
       "      <td>2</td>\n",
       "      <td>3254.160485</td>\n",
       "      <td>0</td>\n",
       "      <td>0</td>\n",
       "      <td>1</td>\n",
       "      <td>0</td>\n",
       "    </tr>\n",
       "    <tr>\n",
       "      <th>...</th>\n",
       "      <td>...</td>\n",
       "      <td>...</td>\n",
       "      <td>...</td>\n",
       "      <td>...</td>\n",
       "      <td>...</td>\n",
       "      <td>...</td>\n",
       "      <td>...</td>\n",
       "      <td>...</td>\n",
       "      <td>...</td>\n",
       "      <td>...</td>\n",
       "      <td>...</td>\n",
       "    </tr>\n",
       "    <tr>\n",
       "      <th>2357</th>\n",
       "      <td>TXN2358</td>\n",
       "      <td>4</td>\n",
       "      <td>7</td>\n",
       "      <td>5705</td>\n",
       "      <td>460.157207</td>\n",
       "      <td>3</td>\n",
       "      <td>2909.619546</td>\n",
       "      <td>1</td>\n",
       "      <td>0</td>\n",
       "      <td>1</td>\n",
       "      <td>0</td>\n",
       "    </tr>\n",
       "    <tr>\n",
       "      <th>2358</th>\n",
       "      <td>TXN2359</td>\n",
       "      <td>3</td>\n",
       "      <td>11</td>\n",
       "      <td>11202</td>\n",
       "      <td>851.924751</td>\n",
       "      <td>8</td>\n",
       "      <td>7968.633136</td>\n",
       "      <td>1</td>\n",
       "      <td>0</td>\n",
       "      <td>1</td>\n",
       "      <td>0</td>\n",
       "    </tr>\n",
       "    <tr>\n",
       "      <th>2359</th>\n",
       "      <td>TXN2360</td>\n",
       "      <td>3</td>\n",
       "      <td>5</td>\n",
       "      <td>21335</td>\n",
       "      <td>435.145358</td>\n",
       "      <td>8</td>\n",
       "      <td>8816.406448</td>\n",
       "      <td>0</td>\n",
       "      <td>0</td>\n",
       "      <td>0</td>\n",
       "      <td>1</td>\n",
       "    </tr>\n",
       "    <tr>\n",
       "      <th>2360</th>\n",
       "      <td>TXN2361</td>\n",
       "      <td>4</td>\n",
       "      <td>12</td>\n",
       "      <td>19294</td>\n",
       "      <td>658.439838</td>\n",
       "      <td>7</td>\n",
       "      <td>7915.595856</td>\n",
       "      <td>0</td>\n",
       "      <td>1</td>\n",
       "      <td>0</td>\n",
       "      <td>0</td>\n",
       "    </tr>\n",
       "    <tr>\n",
       "      <th>2361</th>\n",
       "      <td>TXN2362</td>\n",
       "      <td>4</td>\n",
       "      <td>7</td>\n",
       "      <td>2855</td>\n",
       "      <td>560.514341</td>\n",
       "      <td>8</td>\n",
       "      <td>6832.401686</td>\n",
       "      <td>1</td>\n",
       "      <td>1</td>\n",
       "      <td>0</td>\n",
       "      <td>0</td>\n",
       "    </tr>\n",
       "  </tbody>\n",
       "</table>\n",
       "<p>2362 rows × 11 columns</p>\n",
       "</div>"
      ],
      "text/plain": [
       "     Transaction ID Age  Items  Monthly Income  Transaction Time  Record  \\\n",
       "0            TXN001   4     10            7313        627.668127       5   \n",
       "1            TXN002   3      8           17747        126.904567       3   \n",
       "2            TXN003   4     11           22845        873.469701       2   \n",
       "3            TXN004   4     11           18552        380.219428       7   \n",
       "4            TXN005   4      2           14439        403.374223       2   \n",
       "...             ...  ..    ...             ...               ...     ...   \n",
       "2357        TXN2358   4      7            5705        460.157207       3   \n",
       "2358        TXN2359   3     11           11202        851.924751       8   \n",
       "2359        TXN2360   3      5           21335        435.145358       8   \n",
       "2360        TXN2361   4     12           19294        658.439838       7   \n",
       "2361        TXN2362   4      7            2855        560.514341       8   \n",
       "\n",
       "      Total Spend  Gender  City_1  City_2  City_3  \n",
       "0     4198.385084       0       1       0       0  \n",
       "1     4134.976648       0       0       1       0  \n",
       "2     5166.614455       1       0       1       0  \n",
       "3     7784.447676       0       1       0       0  \n",
       "4     3254.160485       0       0       1       0  \n",
       "...           ...     ...     ...     ...     ...  \n",
       "2357  2909.619546       1       0       1       0  \n",
       "2358  7968.633136       1       0       1       0  \n",
       "2359  8816.406448       0       0       0       1  \n",
       "2360  7915.595856       0       1       0       0  \n",
       "2361  6832.401686       1       1       0       0  \n",
       "\n",
       "[2362 rows x 11 columns]"
      ]
     },
     "execution_count": 15,
     "metadata": {},
     "output_type": "execute_result"
    }
   ],
   "source": [
    "# Dropeamos la columna ya no nos interesa\n",
    "\n",
    "data_new.drop(['City Tier'], axis=1, inplace=True)\n",
    "data_new"
   ]
  },
  {
   "cell_type": "code",
   "execution_count": 16,
   "metadata": {
    "cell_id": "00015-d4c82305-3686-4cc0-8c84-667ab0eed4e6",
    "deepnote_cell_type": "code",
    "deepnote_to_be_reexecuted": false,
    "execution_millis": 0,
    "execution_start": 1636673900335,
    "source_hash": "29abd090",
    "tags": []
   },
   "outputs": [],
   "source": [
    "# Downcasteamos\n",
    "\n",
    "data_new['Gender'] = pd.to_numeric(data_new['Gender'], downcast='integer')\n",
    "data_new['Record'] = pd.to_numeric(data_new['Record'], downcast='integer')\n",
    "data_new['Items'] = pd.to_numeric(data_new['Items'], downcast='integer')\n",
    "data_new['Total Spend'] = pd.to_numeric(data_new['Total Spend'], downcast='float')\n",
    "data_new['Transaction Time'] = pd.to_numeric(data_new['Transaction Time'], downcast='float')\n",
    "data_new['Monthly Income'] = pd.to_numeric(data_new['Monthly Income'], downcast='integer')"
   ]
  },
  {
   "cell_type": "code",
   "execution_count": 17,
   "metadata": {
    "cell_id": "00016-f552e760-6387-4b7d-b112-fd02355f5846",
    "deepnote_cell_type": "code",
    "deepnote_to_be_reexecuted": false,
    "execution_millis": 19,
    "execution_start": 1636673900336,
    "source_hash": "75095a59",
    "tags": []
   },
   "outputs": [
    {
     "data": {
      "text/plain": [
       "Transaction ID        object\n",
       "Age                 category\n",
       "Items                   int8\n",
       "Monthly Income         int16\n",
       "Transaction Time     float32\n",
       "Record                  int8\n",
       "Total Spend          float32\n",
       "Gender                  int8\n",
       "City_1                 uint8\n",
       "City_2                 uint8\n",
       "City_3                 uint8\n",
       "dtype: object"
      ]
     },
     "execution_count": 17,
     "metadata": {},
     "output_type": "execute_result"
    }
   ],
   "source": [
    "# Cuando downcasteamos reducimos espacio en memoria del tipo de objeto que tenemos\n",
    "\n",
    "data_new.dtypes"
   ]
  },
  {
   "cell_type": "code",
   "execution_count": 18,
   "metadata": {
    "cell_id": "00016-8bcfe66b-3b75-42a4-bc3c-3ae9ab775a0f",
    "deepnote_cell_type": "code",
    "deepnote_to_be_reexecuted": false,
    "execution_millis": 109,
    "execution_start": 1636673900342,
    "source_hash": "a7c0dd18",
    "tags": []
   },
   "outputs": [
    {
     "data": {
      "application/vnd.deepnote.dataframe.v2+json": {
       "column_count": 11,
       "columns": [
        {
         "dtype": "object",
         "name": "Transaction ID",
         "stats": {
          "categories": [
           {
            "count": 1,
            "name": "TXN001"
           },
           {
            "count": 1,
            "name": "TXN002"
           },
           {
            "count": 2360,
            "name": "2360 others"
           }
          ],
          "nan_count": 0,
          "unique_count": 2362
         }
        },
        {
         "dtype": "category",
         "name": "Age",
         "stats": {
          "categories": [
           {
            "count": 1417,
            "name": "4"
           },
           {
            "count": 945,
            "name": "3"
           }
          ],
          "nan_count": 0,
          "unique_count": 2
         }
        },
        {
         "dtype": "int8",
         "name": "Items",
         "stats": {
          "histogram": [
           {
            "bin_end": 2.4,
            "bin_start": 1,
            "count": 344
           },
           {
            "bin_end": 3.8,
            "bin_start": 2.4,
            "count": 151
           },
           {
            "bin_end": 5.199999999999999,
            "bin_start": 3.8,
            "count": 292
           },
           {
            "bin_end": 6.6,
            "bin_start": 5.199999999999999,
            "count": 167
           },
           {
            "bin_end": 8,
            "bin_start": 6.6,
            "count": 156
           },
           {
            "bin_end": 9.399999999999999,
            "bin_start": 8,
            "count": 341
           },
           {
            "bin_end": 10.799999999999999,
            "bin_start": 9.399999999999999,
            "count": 159
           },
           {
            "bin_end": 12.2,
            "bin_start": 10.799999999999999,
            "count": 319
           },
           {
            "bin_end": 13.6,
            "bin_start": 12.2,
            "count": 145
           },
           {
            "bin_end": 15,
            "bin_start": 13.6,
            "count": 288
           }
          ],
          "max": "15",
          "min": "1",
          "nan_count": 0,
          "unique_count": 15
         }
        },
        {
         "dtype": "int16",
         "name": "Monthly Income",
         "stats": {
          "histogram": [
           {
            "bin_end": 4802.7,
            "bin_start": 2003,
            "count": 217
           },
           {
            "bin_end": 7602.4,
            "bin_start": 4802.7,
            "count": 235
           },
           {
            "bin_end": 10402.099999999999,
            "bin_start": 7602.4,
            "count": 260
           },
           {
            "bin_end": 13201.8,
            "bin_start": 10402.099999999999,
            "count": 248
           },
           {
            "bin_end": 16001.5,
            "bin_start": 13201.8,
            "count": 237
           },
           {
            "bin_end": 18801.199999999997,
            "bin_start": 16001.5,
            "count": 246
           },
           {
            "bin_end": 21600.899999999998,
            "bin_start": 18801.199999999997,
            "count": 223
           },
           {
            "bin_end": 24400.6,
            "bin_start": 21600.899999999998,
            "count": 224
           },
           {
            "bin_end": 27200.3,
            "bin_start": 24400.6,
            "count": 241
           },
           {
            "bin_end": 30000,
            "bin_start": 27200.3,
            "count": 231
           }
          ],
          "max": "30000",
          "min": "2003",
          "nan_count": 0,
          "unique_count": 2251
         }
        },
        {
         "dtype": "float32",
         "name": "Transaction Time",
         "stats": {
          "histogram": [
           {
            "bin_end": 100.48668670654297,
            "bin_start": 0.46329739689826965,
            "count": 239
           },
           {
            "bin_end": 200.5100860595703,
            "bin_start": 100.48668670654297,
            "count": 229
           },
           {
            "bin_end": 300.5334777832031,
            "bin_start": 200.5100860595703,
            "count": 249
           },
           {
            "bin_end": 400.5568542480469,
            "bin_start": 300.5334777832031,
            "count": 234
           },
           {
            "bin_end": 500.58026123046875,
            "bin_start": 400.5568542480469,
            "count": 242
           },
           {
            "bin_end": 600.6036376953125,
            "bin_start": 500.58026123046875,
            "count": 251
           },
           {
            "bin_end": 700.6270141601562,
            "bin_start": 600.6036376953125,
            "count": 221
           },
           {
            "bin_end": 800.6504516601562,
            "bin_start": 700.6270141601562,
            "count": 230
           },
           {
            "bin_end": 900.673828125,
            "bin_start": 800.6504516601562,
            "count": 244
           },
           {
            "bin_end": 1000.6972045898438,
            "bin_start": 900.673828125,
            "count": 223
           }
          ],
          "max": "1000.6972045898438",
          "min": "0.46329739689826965",
          "nan_count": 0,
          "unique_count": 2362
         }
        },
        {
         "dtype": "int8",
         "name": "Record",
         "stats": {
          "histogram": [
           {
            "bin_end": 1,
            "bin_start": 0,
            "count": 212
           },
           {
            "bin_end": 2,
            "bin_start": 1,
            "count": 208
           },
           {
            "bin_end": 3,
            "bin_start": 2,
            "count": 217
           },
           {
            "bin_end": 4,
            "bin_start": 3,
            "count": 220
           },
           {
            "bin_end": 5,
            "bin_start": 4,
            "count": 218
           },
           {
            "bin_end": 6,
            "bin_start": 5,
            "count": 237
           },
           {
            "bin_end": 7,
            "bin_start": 6,
            "count": 220
           },
           {
            "bin_end": 8,
            "bin_start": 7,
            "count": 239
           },
           {
            "bin_end": 9,
            "bin_start": 8,
            "count": 215
           },
           {
            "bin_end": 10,
            "bin_start": 9,
            "count": 376
           }
          ],
          "max": "10",
          "min": "0",
          "nan_count": 0,
          "unique_count": 11
         }
        },
        {
         "dtype": "float32",
         "name": "Total Spend",
         "stats": {
          "histogram": [
           {
            "bin_end": 2384.238525390625,
            "bin_start": 1099.815185546875,
            "count": 119
           },
           {
            "bin_end": 3668.66162109375,
            "bin_start": 2384.238525390625,
            "count": 355
           },
           {
            "bin_end": 4953.0849609375,
            "bin_start": 3668.66162109375,
            "count": 463
           },
           {
            "bin_end": 6237.50830078125,
            "bin_start": 4953.0849609375,
            "count": 429
           },
           {
            "bin_end": 7521.931640625,
            "bin_start": 6237.50830078125,
            "count": 303
           },
           {
            "bin_end": 8806.3544921875,
            "bin_start": 7521.931640625,
            "count": 221
           },
           {
            "bin_end": 10090.7783203125,
            "bin_start": 8806.3544921875,
            "count": 195
           },
           {
            "bin_end": 11375.201171875,
            "bin_start": 10090.7783203125,
            "count": 149
           },
           {
            "bin_end": 12659.625,
            "bin_start": 11375.201171875,
            "count": 94
           },
           {
            "bin_end": 13944.0478515625,
            "bin_start": 12659.625,
            "count": 34
           }
          ],
          "max": "13944.0478515625",
          "min": "1099.815185546875",
          "nan_count": 0,
          "unique_count": 2362
         }
        },
        {
         "dtype": "int8",
         "name": "Gender",
         "stats": {
          "histogram": [
           {
            "bin_end": 0.1,
            "bin_start": 0,
            "count": 1162
           },
           {
            "bin_end": 0.2,
            "bin_start": 0.1,
            "count": 0
           },
           {
            "bin_end": 0.30000000000000004,
            "bin_start": 0.2,
            "count": 0
           },
           {
            "bin_end": 0.4,
            "bin_start": 0.30000000000000004,
            "count": 0
           },
           {
            "bin_end": 0.5,
            "bin_start": 0.4,
            "count": 0
           },
           {
            "bin_end": 0.6000000000000001,
            "bin_start": 0.5,
            "count": 0
           },
           {
            "bin_end": 0.7000000000000001,
            "bin_start": 0.6000000000000001,
            "count": 0
           },
           {
            "bin_end": 0.8,
            "bin_start": 0.7000000000000001,
            "count": 0
           },
           {
            "bin_end": 0.9,
            "bin_start": 0.8,
            "count": 0
           },
           {
            "bin_end": 1,
            "bin_start": 0.9,
            "count": 1200
           }
          ],
          "max": "1",
          "min": "0",
          "nan_count": 0,
          "unique_count": 2
         }
        },
        {
         "dtype": "uint8",
         "name": "City_1",
         "stats": {
          "histogram": [
           {
            "bin_end": 0.1,
            "bin_start": 0,
            "count": 1547
           },
           {
            "bin_end": 0.2,
            "bin_start": 0.1,
            "count": 0
           },
           {
            "bin_end": 0.30000000000000004,
            "bin_start": 0.2,
            "count": 0
           },
           {
            "bin_end": 0.4,
            "bin_start": 0.30000000000000004,
            "count": 0
           },
           {
            "bin_end": 0.5,
            "bin_start": 0.4,
            "count": 0
           },
           {
            "bin_end": 0.6000000000000001,
            "bin_start": 0.5,
            "count": 0
           },
           {
            "bin_end": 0.7000000000000001,
            "bin_start": 0.6000000000000001,
            "count": 0
           },
           {
            "bin_end": 0.8,
            "bin_start": 0.7000000000000001,
            "count": 0
           },
           {
            "bin_end": 0.9,
            "bin_start": 0.8,
            "count": 0
           },
           {
            "bin_end": 1,
            "bin_start": 0.9,
            "count": 815
           }
          ],
          "max": "1",
          "min": "0",
          "nan_count": 0,
          "unique_count": 2
         }
        },
        {
         "dtype": "uint8",
         "name": "City_2",
         "stats": {
          "histogram": [
           {
            "bin_end": 0.1,
            "bin_start": 0,
            "count": 1580
           },
           {
            "bin_end": 0.2,
            "bin_start": 0.1,
            "count": 0
           },
           {
            "bin_end": 0.30000000000000004,
            "bin_start": 0.2,
            "count": 0
           },
           {
            "bin_end": 0.4,
            "bin_start": 0.30000000000000004,
            "count": 0
           },
           {
            "bin_end": 0.5,
            "bin_start": 0.4,
            "count": 0
           },
           {
            "bin_end": 0.6000000000000001,
            "bin_start": 0.5,
            "count": 0
           },
           {
            "bin_end": 0.7000000000000001,
            "bin_start": 0.6000000000000001,
            "count": 0
           },
           {
            "bin_end": 0.8,
            "bin_start": 0.7000000000000001,
            "count": 0
           },
           {
            "bin_end": 0.9,
            "bin_start": 0.8,
            "count": 0
           },
           {
            "bin_end": 1,
            "bin_start": 0.9,
            "count": 782
           }
          ],
          "max": "1",
          "min": "0",
          "nan_count": 0,
          "unique_count": 2
         }
        },
        {
         "dtype": "uint8",
         "name": "City_3",
         "stats": {
          "histogram": [
           {
            "bin_end": 0.1,
            "bin_start": 0,
            "count": 1597
           },
           {
            "bin_end": 0.2,
            "bin_start": 0.1,
            "count": 0
           },
           {
            "bin_end": 0.30000000000000004,
            "bin_start": 0.2,
            "count": 0
           },
           {
            "bin_end": 0.4,
            "bin_start": 0.30000000000000004,
            "count": 0
           },
           {
            "bin_end": 0.5,
            "bin_start": 0.4,
            "count": 0
           },
           {
            "bin_end": 0.6000000000000001,
            "bin_start": 0.5,
            "count": 0
           },
           {
            "bin_end": 0.7000000000000001,
            "bin_start": 0.6000000000000001,
            "count": 0
           },
           {
            "bin_end": 0.8,
            "bin_start": 0.7000000000000001,
            "count": 0
           },
           {
            "bin_end": 0.9,
            "bin_start": 0.8,
            "count": 0
           },
           {
            "bin_end": 1,
            "bin_start": 0.9,
            "count": 765
           }
          ],
          "max": "1",
          "min": "0",
          "nan_count": 0,
          "unique_count": 2
         }
        },
        {
         "dtype": "int64",
         "name": "_deepnote_index_column"
        }
       ],
       "row_count": 2362,
       "rows_bottom": [
        {
         "Age": "3",
         "City_1": 0,
         "City_2": 0,
         "City_3": 1,
         "Gender": 0,
         "Items": 5,
         "Monthly Income": 12784,
         "Record": 8,
         "Total Spend": 7643.818359375,
         "Transaction ID": "TXN2318",
         "Transaction Time": 245.04945373535156,
         "_deepnote_index_column": 2317
        },
        {
         "Age": "4",
         "City_1": 0,
         "City_2": 1,
         "City_3": 0,
         "Gender": 1,
         "Items": 13,
         "Monthly Income": 13155,
         "Record": 0,
         "Total Spend": 3568.677978515625,
         "Transaction ID": "TXN2319",
         "Transaction Time": 652.0498046875,
         "_deepnote_index_column": 2318
        },
        {
         "Age": "3",
         "City_1": 0,
         "City_2": 1,
         "City_3": 0,
         "Gender": 1,
         "Items": 1,
         "Monthly Income": 9209,
         "Record": 4,
         "Total Spend": 3577.751708984375,
         "Transaction ID": "TXN2320",
         "Transaction Time": 737.82568359375,
         "_deepnote_index_column": 2319
        },
        {
         "Age": "4",
         "City_1": 0,
         "City_2": 0,
         "City_3": 1,
         "Gender": 0,
         "Items": 7,
         "Monthly Income": 2634,
         "Record": 6,
         "Total Spend": 4038.3251953125,
         "Transaction ID": "TXN2321",
         "Transaction Time": 568.6010131835938,
         "_deepnote_index_column": 2320
        },
        {
         "Age": "3",
         "City_1": 0,
         "City_2": 0,
         "City_3": 1,
         "Gender": 0,
         "Items": 4,
         "Monthly Income": 13523,
         "Record": 8,
         "Total Spend": 7766.39794921875,
         "Transaction ID": "TXN2322",
         "Transaction Time": 597.791748046875,
         "_deepnote_index_column": 2321
        },
        {
         "Age": "4",
         "City_1": 1,
         "City_2": 0,
         "City_3": 0,
         "Gender": 0,
         "Items": 11,
         "Monthly Income": 9196,
         "Record": 0,
         "Total Spend": 2807.75146484375,
         "Transaction ID": "TXN2323",
         "Transaction Time": 697.453125,
         "_deepnote_index_column": 2322
        },
        {
         "Age": "3",
         "City_1": 1,
         "City_2": 0,
         "City_3": 0,
         "Gender": 0,
         "Items": 8,
         "Monthly Income": 12737,
         "Record": 6,
         "Total Spend": 5663.95458984375,
         "Transaction ID": "TXN2324",
         "Transaction Time": 992.20458984375,
         "_deepnote_index_column": 2323
        },
        {
         "Age": "4",
         "City_1": 1,
         "City_2": 0,
         "City_3": 0,
         "Gender": 0,
         "Items": 9,
         "Monthly Income": 11307,
         "Record": 1,
         "Total Spend": 2990.03955078125,
         "Transaction ID": "TXN2325",
         "Transaction Time": 436.41064453125,
         "_deepnote_index_column": 2324
        },
        {
         "Age": "4",
         "City_1": 1,
         "City_2": 0,
         "City_3": 0,
         "Gender": 1,
         "Items": 6,
         "Monthly Income": 21351,
         "Record": 7,
         "Total Spend": 8242.1708984375,
         "Transaction ID": "TXN2326",
         "Transaction Time": 629.1644897460938,
         "_deepnote_index_column": 2325
        },
        {
         "Age": "3",
         "City_1": 0,
         "City_2": 1,
         "City_3": 0,
         "Gender": 0,
         "Items": 11,
         "Monthly Income": 12925,
         "Record": 7,
         "Total Spend": 6637.583984375,
         "Transaction ID": "TXN2327",
         "Transaction Time": 81.6390380859375,
         "_deepnote_index_column": 2326
        },
        {
         "Age": "3",
         "City_1": 0,
         "City_2": 1,
         "City_3": 0,
         "Gender": 0,
         "Items": 1,
         "Monthly Income": 23376,
         "Record": 3,
         "Total Spend": 4568.86572265625,
         "Transaction ID": "TXN2328",
         "Transaction Time": 4.455226421356201,
         "_deepnote_index_column": 2327
        },
        {
         "Age": "3",
         "City_1": 0,
         "City_2": 1,
         "City_3": 0,
         "Gender": 1,
         "Items": 3,
         "Monthly Income": 9151,
         "Record": 7,
         "Total Spend": 6110.2099609375,
         "Transaction ID": "TXN2329",
         "Transaction Time": 388.2903137207031,
         "_deepnote_index_column": 2328
        },
        {
         "Age": "4",
         "City_1": 0,
         "City_2": 0,
         "City_3": 1,
         "Gender": 0,
         "Items": 1,
         "Monthly Income": 18898,
         "Record": 9,
         "Total Spend": 9820.7421875,
         "Transaction ID": "TXN2330",
         "Transaction Time": 199.83724975585938,
         "_deepnote_index_column": 2329
        },
        {
         "Age": "4",
         "City_1": 0,
         "City_2": 1,
         "City_3": 0,
         "Gender": 1,
         "Items": 5,
         "Monthly Income": 11405,
         "Record": 0,
         "Total Spend": 2955.1201171875,
         "Transaction ID": "TXN2331",
         "Transaction Time": 541.6283569335938,
         "_deepnote_index_column": 2330
        },
        {
         "Age": "4",
         "City_1": 0,
         "City_2": 1,
         "City_3": 0,
         "Gender": 1,
         "Items": 11,
         "Monthly Income": 14510,
         "Record": 0,
         "Total Spend": 3816.487060546875,
         "Transaction ID": "TXN2332",
         "Transaction Time": 850.8863525390625,
         "_deepnote_index_column": 2331
        },
        {
         "Age": "4",
         "City_1": 0,
         "City_2": 0,
         "City_3": 1,
         "Gender": 1,
         "Items": 4,
         "Monthly Income": 17916,
         "Record": 1,
         "Total Spend": 3992.663330078125,
         "Transaction ID": "TXN2333",
         "Transaction Time": 252.71694946289062,
         "_deepnote_index_column": 2332
        },
        {
         "Age": "3",
         "City_1": 0,
         "City_2": 0,
         "City_3": 1,
         "Gender": 0,
         "Items": 3,
         "Monthly Income": 24366,
         "Record": 0,
         "Total Spend": 4499.44091796875,
         "Transaction ID": "TXN2334",
         "Transaction Time": 750.5992431640625,
         "_deepnote_index_column": 2333
        },
        {
         "Age": "4",
         "City_1": 1,
         "City_2": 0,
         "City_3": 0,
         "Gender": 0,
         "Items": 11,
         "Monthly Income": 11041,
         "Record": 9,
         "Total Spend": 9255.91796875,
         "Transaction ID": "TXN2335",
         "Transaction Time": 150.6362762451172,
         "_deepnote_index_column": 2334
        },
        {
         "Age": "4",
         "City_1": 1,
         "City_2": 0,
         "City_3": 0,
         "Gender": 0,
         "Items": 9,
         "Monthly Income": 11853,
         "Record": 7,
         "Total Spend": 6591.376953125,
         "Transaction ID": "TXN2336",
         "Transaction Time": 772.3749389648438,
         "_deepnote_index_column": 2335
        },
        {
         "Age": "4",
         "City_1": 0,
         "City_2": 1,
         "City_3": 0,
         "Gender": 1,
         "Items": 10,
         "Monthly Income": 9669,
         "Record": 8,
         "Total Spend": 7810.57421875,
         "Transaction ID": "TXN2337",
         "Transaction Time": 644.6338500976562,
         "_deepnote_index_column": 2336
        },
        {
         "Age": "3",
         "City_1": 1,
         "City_2": 0,
         "City_3": 0,
         "Gender": 1,
         "Items": 15,
         "Monthly Income": 27785,
         "Record": 7,
         "Total Spend": 9461.4501953125,
         "Transaction ID": "TXN2338",
         "Transaction Time": 25.151409149169922,
         "_deepnote_index_column": 2337
        },
        {
         "Age": "4",
         "City_1": 0,
         "City_2": 0,
         "City_3": 1,
         "Gender": 0,
         "Items": 2,
         "Monthly Income": 8000,
         "Record": 3,
         "Total Spend": 2625.8876953125,
         "Transaction ID": "TXN2339",
         "Transaction Time": 135.8589630126953,
         "_deepnote_index_column": 2338
        },
        {
         "Age": "3",
         "City_1": 0,
         "City_2": 1,
         "City_3": 0,
         "Gender": 0,
         "Items": 3,
         "Monthly Income": 12618,
         "Record": 3,
         "Total Spend": 3285.8837890625,
         "Transaction ID": "TXN2340",
         "Transaction Time": 143.23501586914062,
         "_deepnote_index_column": 2339
        },
        {
         "Age": "3",
         "City_1": 0,
         "City_2": 0,
         "City_3": 1,
         "Gender": 0,
         "Items": 12,
         "Monthly Income": 10293,
         "Record": 8,
         "Total Spend": 7494.0517578125,
         "Transaction ID": "TXN2341",
         "Transaction Time": 738.0557861328125,
         "_deepnote_index_column": 2340
        },
        {
         "Age": "4",
         "City_1": 0,
         "City_2": 1,
         "City_3": 0,
         "Gender": 0,
         "Items": 7,
         "Monthly Income": 24094,
         "Record": 0,
         "Total Spend": 4698.9384765625,
         "Transaction ID": "TXN2342",
         "Transaction Time": 268.1530456542969,
         "_deepnote_index_column": 2341
        },
        {
         "Age": "4",
         "City_1": 0,
         "City_2": 1,
         "City_3": 0,
         "Gender": 1,
         "Items": 15,
         "Monthly Income": 29852,
         "Record": 6,
         "Total Spend": 8768.8818359375,
         "Transaction ID": "TXN2343",
         "Transaction Time": 420.1259765625,
         "_deepnote_index_column": 2342
        },
        {
         "Age": "3",
         "City_1": 1,
         "City_2": 0,
         "City_3": 0,
         "Gender": 0,
         "Items": 11,
         "Monthly Income": 5882,
         "Record": 3,
         "Total Spend": 2607.949462890625,
         "Transaction ID": "TXN2344",
         "Transaction Time": 417.54620361328125,
         "_deepnote_index_column": 2343
        },
        {
         "Age": "3",
         "City_1": 0,
         "City_2": 1,
         "City_3": 0,
         "Gender": 0,
         "Items": 9,
         "Monthly Income": 7619,
         "Record": 9,
         "Total Spend": 8467.2763671875,
         "Transaction ID": "TXN2345",
         "Transaction Time": 451.35394287109375,
         "_deepnote_index_column": 2344
        },
        {
         "Age": "4",
         "City_1": 0,
         "City_2": 0,
         "City_3": 1,
         "Gender": 0,
         "Items": 14,
         "Monthly Income": 2897,
         "Record": 1,
         "Total Spend": 1730.5540771484375,
         "Transaction ID": "TXN2346",
         "Transaction Time": 676.1458740234375,
         "_deepnote_index_column": 2345
        },
        {
         "Age": "4",
         "City_1": 1,
         "City_2": 0,
         "City_3": 0,
         "Gender": 1,
         "Items": 1,
         "Monthly Income": 15528,
         "Record": 8,
         "Total Spend": 8365.7919921875,
         "Transaction ID": "TXN2347",
         "Transaction Time": 167.1060333251953,
         "_deepnote_index_column": 2346
        },
        {
         "Age": "3",
         "City_1": 1,
         "City_2": 0,
         "City_3": 0,
         "Gender": 0,
         "Items": 2,
         "Monthly Income": 7828,
         "Record": 6,
         "Total Spend": 4737.0478515625,
         "Transaction ID": "TXN2348",
         "Transaction Time": 814.7720947265625,
         "_deepnote_index_column": 2347
        },
        {
         "Age": "4",
         "City_1": 0,
         "City_2": 0,
         "City_3": 1,
         "Gender": 0,
         "Items": 2,
         "Monthly Income": 22398,
         "Record": 7,
         "Total Spend": 7738.5849609375,
         "Transaction ID": "TXN2349",
         "Transaction Time": 107.7480697631836,
         "_deepnote_index_column": 2348
        },
        {
         "Age": "4",
         "City_1": 0,
         "City_2": 0,
         "City_3": 1,
         "Gender": 1,
         "Items": 13,
         "Monthly Income": 25578,
         "Record": 3,
         "Total Spend": 5905.80712890625,
         "Transaction ID": "TXN2350",
         "Transaction Time": 519.1348266601562,
         "_deepnote_index_column": 2349
        },
        {
         "Age": "4",
         "City_1": 1,
         "City_2": 0,
         "City_3": 0,
         "Gender": 0,
         "Items": 1,
         "Monthly Income": 3323,
         "Record": 8,
         "Total Spend": 6318.978515625,
         "Transaction ID": "TXN2351",
         "Transaction Time": 41.913387298583984,
         "_deepnote_index_column": 2350
        },
        {
         "Age": "4",
         "City_1": 0,
         "City_2": 1,
         "City_3": 0,
         "Gender": 0,
         "Items": 9,
         "Monthly Income": 16714,
         "Record": 0,
         "Total Spend": 3751.97705078125,
         "Transaction ID": "TXN2352",
         "Transaction Time": 674.1707153320312,
         "_deepnote_index_column": 2351
        },
        {
         "Age": "4",
         "City_1": 1,
         "City_2": 0,
         "City_3": 0,
         "Gender": 0,
         "Items": 1,
         "Monthly Income": 21134,
         "Record": 0,
         "Total Spend": 4151.359375,
         "Transaction ID": "TXN2353",
         "Transaction Time": 470.53594970703125,
         "_deepnote_index_column": 2352
        },
        {
         "Age": "4",
         "City_1": 0,
         "City_2": 0,
         "City_3": 1,
         "Gender": 1,
         "Items": 10,
         "Monthly Income": 7808,
         "Record": 6,
         "Total Spend": 5085.11767578125,
         "Transaction ID": "TXN2354",
         "Transaction Time": 214.65045166015625,
         "_deepnote_index_column": 2353
        },
        {
         "Age": "4",
         "City_1": 0,
         "City_2": 0,
         "City_3": 1,
         "Gender": 0,
         "Items": 11,
         "Monthly Income": 24233,
         "Record": 7,
         "Total Spend": 8369.3974609375,
         "Transaction ID": "TXN2355",
         "Transaction Time": 887.2194213867188,
         "_deepnote_index_column": 2354
        },
        {
         "Age": "4",
         "City_1": 1,
         "City_2": 0,
         "City_3": 0,
         "Gender": 1,
         "Items": 2,
         "Monthly Income": 11500,
         "Record": 1,
         "Total Spend": 2948.93798828125,
         "Transaction ID": "TXN2356",
         "Transaction Time": 397.5393371582031,
         "_deepnote_index_column": 2355
        },
        {
         "Age": "3",
         "City_1": 0,
         "City_2": 0,
         "City_3": 1,
         "Gender": 0,
         "Items": 4,
         "Monthly Income": 13481,
         "Record": 8,
         "Total Spend": 7578.43115234375,
         "Transaction ID": "TXN2357",
         "Transaction Time": 602.393310546875,
         "_deepnote_index_column": 2356
        },
        {
         "Age": "4",
         "City_1": 0,
         "City_2": 1,
         "City_3": 0,
         "Gender": 1,
         "Items": 7,
         "Monthly Income": 5705,
         "Record": 3,
         "Total Spend": 2909.61962890625,
         "Transaction ID": "TXN2358",
         "Transaction Time": 460.1571960449219,
         "_deepnote_index_column": 2357
        },
        {
         "Age": "3",
         "City_1": 0,
         "City_2": 1,
         "City_3": 0,
         "Gender": 1,
         "Items": 11,
         "Monthly Income": 11202,
         "Record": 8,
         "Total Spend": 7968.63330078125,
         "Transaction ID": "TXN2359",
         "Transaction Time": 851.9247436523438,
         "_deepnote_index_column": 2358
        },
        {
         "Age": "3",
         "City_1": 0,
         "City_2": 0,
         "City_3": 1,
         "Gender": 0,
         "Items": 5,
         "Monthly Income": 21335,
         "Record": 8,
         "Total Spend": 8816.40625,
         "Transaction ID": "TXN2360",
         "Transaction Time": 435.1453552246094,
         "_deepnote_index_column": 2359
        },
        {
         "Age": "4",
         "City_1": 1,
         "City_2": 0,
         "City_3": 0,
         "Gender": 0,
         "Items": 12,
         "Monthly Income": 19294,
         "Record": 7,
         "Total Spend": 7915.595703125,
         "Transaction ID": "TXN2361",
         "Transaction Time": 658.4398193359375,
         "_deepnote_index_column": 2360
        },
        {
         "Age": "4",
         "City_1": 1,
         "City_2": 0,
         "City_3": 0,
         "Gender": 1,
         "Items": 7,
         "Monthly Income": 2855,
         "Record": 8,
         "Total Spend": 6832.40185546875,
         "Transaction ID": "TXN2362",
         "Transaction Time": 560.5143432617188,
         "_deepnote_index_column": 2361
        }
       ],
       "rows_top": [
        {
         "Age": "4",
         "City_1": 1,
         "City_2": 0,
         "City_3": 0,
         "Gender": 0,
         "Items": 10,
         "Monthly Income": 7313,
         "Record": 5,
         "Total Spend": 4198.38525390625,
         "Transaction ID": "TXN001",
         "Transaction Time": 627.6681518554688,
         "_deepnote_index_column": 0
        },
        {
         "Age": "3",
         "City_1": 0,
         "City_2": 1,
         "City_3": 0,
         "Gender": 0,
         "Items": 8,
         "Monthly Income": 17747,
         "Record": 3,
         "Total Spend": 4134.9765625,
         "Transaction ID": "TXN002",
         "Transaction Time": 126.9045639038086,
         "_deepnote_index_column": 1
        },
        {
         "Age": "4",
         "City_1": 0,
         "City_2": 1,
         "City_3": 0,
         "Gender": 1,
         "Items": 11,
         "Monthly Income": 22845,
         "Record": 2,
         "Total Spend": 5166.6142578125,
         "Transaction ID": "TXN003",
         "Transaction Time": 873.4697265625,
         "_deepnote_index_column": 2
        },
        {
         "Age": "4",
         "City_1": 1,
         "City_2": 0,
         "City_3": 0,
         "Gender": 0,
         "Items": 11,
         "Monthly Income": 18552,
         "Record": 7,
         "Total Spend": 7784.44775390625,
         "Transaction ID": "TXN004",
         "Transaction Time": 380.21942138671875,
         "_deepnote_index_column": 3
        },
        {
         "Age": "4",
         "City_1": 0,
         "City_2": 1,
         "City_3": 0,
         "Gender": 0,
         "Items": 2,
         "Monthly Income": 14439,
         "Record": 2,
         "Total Spend": 3254.160400390625,
         "Transaction ID": "TXN005",
         "Transaction Time": 403.3742370605469,
         "_deepnote_index_column": 4
        },
        {
         "Age": "4",
         "City_1": 0,
         "City_2": 1,
         "City_3": 0,
         "Gender": 1,
         "Items": 6,
         "Monthly Income": 6282,
         "Record": 2,
         "Total Spend": 2375.036376953125,
         "Transaction ID": "TXN006",
         "Transaction Time": 48.97426986694336,
         "_deepnote_index_column": 5
        },
        {
         "Age": "3",
         "City_1": 1,
         "City_2": 0,
         "City_3": 0,
         "Gender": 1,
         "Items": 14,
         "Monthly Income": 7086,
         "Record": 8,
         "Total Spend": 7494.474609375,
         "Transaction ID": "TXN007",
         "Transaction Time": 961.2037963867188,
         "_deepnote_index_column": 6
        },
        {
         "Age": "4",
         "City_1": 0,
         "City_2": 0,
         "City_3": 1,
         "Gender": 1,
         "Items": 9,
         "Monthly Income": 8881,
         "Record": 10,
         "Total Spend": 10782.9453125,
         "Transaction ID": "TXN008",
         "Transaction Time": 962.2537231445312,
         "_deepnote_index_column": 7
        },
        {
         "Age": "3",
         "City_1": 1,
         "City_2": 0,
         "City_3": 0,
         "Gender": 1,
         "Items": 6,
         "Monthly Income": 5635,
         "Record": 5,
         "Total Spend": 3854.27734375,
         "Transaction ID": "TXN009",
         "Transaction Time": 858.328125,
         "_deepnote_index_column": 8
        },
        {
         "Age": "4",
         "City_1": 0,
         "City_2": 1,
         "City_3": 0,
         "Gender": 0,
         "Items": 12,
         "Monthly Income": 20861,
         "Record": 4,
         "Total Spend": 5346.14013671875,
         "Transaction ID": "TXN010",
         "Transaction Time": 43.03673553466797,
         "_deepnote_index_column": 9
        },
        {
         "Age": "4",
         "City_1": 0,
         "City_2": 0,
         "City_3": 1,
         "Gender": 1,
         "Items": 8,
         "Monthly Income": 2556,
         "Record": 1,
         "Total Spend": 1712.0738525390625,
         "Transaction ID": "TXN011",
         "Transaction Time": 947.8463745117188,
         "_deepnote_index_column": 10
        },
        {
         "Age": "4",
         "City_1": 0,
         "City_2": 1,
         "City_3": 0,
         "Gender": 1,
         "Items": 8,
         "Monthly Income": 27947,
         "Record": 6,
         "Total Spend": 8047.04638671875,
         "Transaction ID": "TXN012",
         "Transaction Time": 89.64334869384766,
         "_deepnote_index_column": 11
        },
        {
         "Age": "4",
         "City_1": 0,
         "City_2": 0,
         "City_3": 1,
         "Gender": 1,
         "Items": 12,
         "Monthly Income": 23445,
         "Record": 9,
         "Total Spend": 11334.578125,
         "Transaction ID": "TXN013",
         "Transaction Time": 773.635986328125,
         "_deepnote_index_column": 12
        },
        {
         "Age": "3",
         "City_1": 0,
         "City_2": 1,
         "City_3": 0,
         "Gender": 1,
         "Items": 10,
         "Monthly Income": 14297,
         "Record": 2,
         "Total Spend": 3791.364501953125,
         "Transaction ID": "TXN014",
         "Transaction Time": 245.89414978027344,
         "_deepnote_index_column": 13
        },
        {
         "Age": "4",
         "City_1": 1,
         "City_2": 0,
         "City_3": 0,
         "Gender": 1,
         "Items": 1,
         "Monthly Income": 3405,
         "Record": 1,
         "Total Spend": 1674.9986572265625,
         "Transaction ID": "TXN015",
         "Transaction Time": 120.91677856445312,
         "_deepnote_index_column": 14
        },
        {
         "Age": "3",
         "City_1": 0,
         "City_2": 1,
         "City_3": 0,
         "Gender": 1,
         "Items": 13,
         "Monthly Income": 28714,
         "Record": 6,
         "Total Spend": 8446.607421875,
         "Transaction ID": "TXN016",
         "Transaction Time": 546.55224609375,
         "_deepnote_index_column": 15
        },
        {
         "Age": "4",
         "City_1": 1,
         "City_2": 0,
         "City_3": 0,
         "Gender": 0,
         "Items": 13,
         "Monthly Income": 14069,
         "Record": 8,
         "Total Spend": 8338.4384765625,
         "Transaction ID": "TXN017",
         "Transaction Time": 131.20645141601562,
         "_deepnote_index_column": 16
        },
        {
         "Age": "4",
         "City_1": 0,
         "City_2": 0,
         "City_3": 1,
         "Gender": 0,
         "Items": 14,
         "Monthly Income": 28428,
         "Record": 9,
         "Total Spend": 11933.056640625,
         "Transaction ID": "TXN018",
         "Transaction Time": 102.0523681640625,
         "_deepnote_index_column": 17
        },
        {
         "Age": "4",
         "City_1": 0,
         "City_2": 1,
         "City_3": 0,
         "Gender": 1,
         "Items": 15,
         "Monthly Income": 14982,
         "Record": 10,
         "Total Spend": 11898.8544921875,
         "Transaction ID": "TXN019",
         "Transaction Time": 69.32488250732422,
         "_deepnote_index_column": 18
        },
        {
         "Age": "4",
         "City_1": 1,
         "City_2": 0,
         "City_3": 0,
         "Gender": 0,
         "Items": 13,
         "Monthly Income": 27864,
         "Record": 8,
         "Total Spend": 10502.3974609375,
         "Transaction ID": "TXN020",
         "Transaction Time": 350.78570556640625,
         "_deepnote_index_column": 19
        },
        {
         "Age": "3",
         "City_1": 0,
         "City_2": 1,
         "City_3": 0,
         "Gender": 1,
         "Items": 5,
         "Monthly Income": 16960,
         "Record": 10,
         "Total Spend": 11640.4267578125,
         "Transaction ID": "TXN021",
         "Transaction Time": 588.3179321289062,
         "_deepnote_index_column": 20
        },
        {
         "Age": "4",
         "City_1": 0,
         "City_2": 0,
         "City_3": 1,
         "Gender": 1,
         "Items": 14,
         "Monthly Income": 3041,
         "Record": 8,
         "Total Spend": 6929.271484375,
         "Transaction ID": "TXN022",
         "Transaction Time": 361.646728515625,
         "_deepnote_index_column": 21
        },
        {
         "Age": "3",
         "City_1": 0,
         "City_2": 1,
         "City_3": 0,
         "Gender": 0,
         "Items": 13,
         "Monthly Income": 5037,
         "Record": 6,
         "Total Spend": 4659.60107421875,
         "Transaction ID": "TXN023",
         "Transaction Time": 579.5193481445312,
         "_deepnote_index_column": 22
        },
        {
         "Age": "4",
         "City_1": 0,
         "City_2": 0,
         "City_3": 1,
         "Gender": 0,
         "Items": 4,
         "Monthly Income": 27403,
         "Record": 2,
         "Total Spend": 5186.9951171875,
         "Transaction ID": "TXN024",
         "Transaction Time": 755.1910400390625,
         "_deepnote_index_column": 23
        },
        {
         "Age": "3",
         "City_1": 1,
         "City_2": 0,
         "City_3": 0,
         "Gender": 1,
         "Items": 11,
         "Monthly Income": 23570,
         "Record": 6,
         "Total Spend": 7573.79052734375,
         "Transaction ID": "TXN025",
         "Transaction Time": 484.6853332519531,
         "_deepnote_index_column": 24
        },
        {
         "Age": "3",
         "City_1": 0,
         "City_2": 0,
         "City_3": 1,
         "Gender": 0,
         "Items": 5,
         "Monthly Income": 8954,
         "Record": 1,
         "Total Spend": 2113.269287109375,
         "Transaction ID": "TXN026",
         "Transaction Time": 87.43644714355469,
         "_deepnote_index_column": 25
        },
        {
         "Age": "3",
         "City_1": 1,
         "City_2": 0,
         "City_3": 0,
         "Gender": 1,
         "Items": 15,
         "Monthly Income": 12015,
         "Record": 8,
         "Total Spend": 8316.443359375,
         "Transaction ID": "TXN027",
         "Transaction Time": 997.7113647460938,
         "_deepnote_index_column": 26
        },
        {
         "Age": "4",
         "City_1": 0,
         "City_2": 1,
         "City_3": 0,
         "Gender": 0,
         "Items": 9,
         "Monthly Income": 8061,
         "Record": 7,
         "Total Spend": 6016.7275390625,
         "Transaction ID": "TXN028",
         "Transaction Time": 629.9857788085938,
         "_deepnote_index_column": 27
        },
        {
         "Age": "3",
         "City_1": 1,
         "City_2": 0,
         "City_3": 0,
         "Gender": 0,
         "Items": 4,
         "Monthly Income": 20163,
         "Record": 10,
         "Total Spend": 11998.3798828125,
         "Transaction ID": "TXN029",
         "Transaction Time": 623.2114868164062,
         "_deepnote_index_column": 28
        },
        {
         "Age": "3",
         "City_1": 1,
         "City_2": 0,
         "City_3": 0,
         "Gender": 1,
         "Items": 10,
         "Monthly Income": 22859,
         "Record": 5,
         "Total Spend": 6719.1337890625,
         "Transaction ID": "TXN030",
         "Transaction Time": 925.165283203125,
         "_deepnote_index_column": 29
        },
        {
         "Age": "4",
         "City_1": 0,
         "City_2": 1,
         "City_3": 0,
         "Gender": 0,
         "Items": 7,
         "Monthly Income": 10568,
         "Record": 0,
         "Total Spend": 2592.460693359375,
         "Transaction ID": "TXN031",
         "Transaction Time": 515.9493408203125,
         "_deepnote_index_column": 30
        },
        {
         "Age": "3",
         "City_1": 1,
         "City_2": 0,
         "City_3": 0,
         "Gender": 1,
         "Items": 2,
         "Monthly Income": 13087,
         "Record": 10,
         "Total Spend": 10984.2841796875,
         "Transaction ID": "TXN032",
         "Transaction Time": 233.17742919921875,
         "_deepnote_index_column": 31
        },
        {
         "Age": "4",
         "City_1": 0,
         "City_2": 0,
         "City_3": 1,
         "Gender": 1,
         "Items": 6,
         "Monthly Income": 7189,
         "Record": 4,
         "Total Spend": 3325.512939453125,
         "Transaction ID": "TXN033",
         "Transaction Time": 11.900506973266602,
         "_deepnote_index_column": 32
        },
        {
         "Age": "4",
         "City_1": 0,
         "City_2": 0,
         "City_3": 1,
         "Gender": 1,
         "Items": 11,
         "Monthly Income": 19822,
         "Record": 2,
         "Total Spend": 4776.5546875,
         "Transaction ID": "TXN034",
         "Transaction Time": 452.013671875,
         "_deepnote_index_column": 33
        },
        {
         "Age": "4",
         "City_1": 0,
         "City_2": 1,
         "City_3": 0,
         "Gender": 1,
         "Items": 9,
         "Monthly Income": 25446,
         "Record": 4,
         "Total Spend": 6397.66162109375,
         "Transaction ID": "TXN035",
         "Transaction Time": 448.2823181152344,
         "_deepnote_index_column": 34
        },
        {
         "Age": "3",
         "City_1": 0,
         "City_2": 1,
         "City_3": 0,
         "Gender": 1,
         "Items": 3,
         "Monthly Income": 12299,
         "Record": 2,
         "Total Spend": 3135.468994140625,
         "Transaction ID": "TXN036",
         "Transaction Time": 974.524658203125,
         "_deepnote_index_column": 35
        },
        {
         "Age": "4",
         "City_1": 0,
         "City_2": 1,
         "City_3": 0,
         "Gender": 0,
         "Items": 12,
         "Monthly Income": 3510,
         "Record": 2,
         "Total Spend": 1891.3358154296875,
         "Transaction ID": "TXN037",
         "Transaction Time": 219.26083374023438,
         "_deepnote_index_column": 36
        },
        {
         "Age": "3",
         "City_1": 0,
         "City_2": 1,
         "City_3": 0,
         "Gender": 0,
         "Items": 8,
         "Monthly Income": 19919,
         "Record": 1,
         "Total Spend": 4150.0341796875,
         "Transaction ID": "TXN038",
         "Transaction Time": 663.5047607421875,
         "_deepnote_index_column": 37
        },
        {
         "Age": "3",
         "City_1": 0,
         "City_2": 1,
         "City_3": 0,
         "Gender": 1,
         "Items": 15,
         "Monthly Income": 2871,
         "Record": 7,
         "Total Spend": 5661.5576171875,
         "Transaction ID": "TXN039",
         "Transaction Time": 696.0379638671875,
         "_deepnote_index_column": 38
        },
        {
         "Age": "4",
         "City_1": 0,
         "City_2": 1,
         "City_3": 0,
         "Gender": 1,
         "Items": 9,
         "Monthly Income": 22498,
         "Record": 9,
         "Total Spend": 11260.302734375,
         "Transaction ID": "TXN040",
         "Transaction Time": 432.7923889160156,
         "_deepnote_index_column": 39
        },
        {
         "Age": "4",
         "City_1": 1,
         "City_2": 0,
         "City_3": 0,
         "Gender": 1,
         "Items": 5,
         "Monthly Income": 8932,
         "Record": 6,
         "Total Spend": 5329.91650390625,
         "Transaction ID": "TXN041",
         "Transaction Time": 145.78762817382812,
         "_deepnote_index_column": 40
        },
        {
         "Age": "3",
         "City_1": 0,
         "City_2": 1,
         "City_3": 0,
         "Gender": 0,
         "Items": 9,
         "Monthly Income": 18488,
         "Record": 1,
         "Total Spend": 3751.922119140625,
         "Transaction ID": "TXN042",
         "Transaction Time": 12.800310134887695,
         "_deepnote_index_column": 41
        },
        {
         "Age": "3",
         "City_1": 0,
         "City_2": 0,
         "City_3": 1,
         "Gender": 0,
         "Items": 11,
         "Monthly Income": 26992,
         "Record": 7,
         "Total Spend": 8881.1240234375,
         "Transaction ID": "TXN043",
         "Transaction Time": 753.0026245117188,
         "_deepnote_index_column": 42
        },
        {
         "Age": "4",
         "City_1": 1,
         "City_2": 0,
         "City_3": 0,
         "Gender": 0,
         "Items": 4,
         "Monthly Income": 16666,
         "Record": 0,
         "Total Spend": 3687.496826171875,
         "Transaction ID": "TXN044",
         "Transaction Time": 968.2059936523438,
         "_deepnote_index_column": 43
        },
        {
         "Age": "3",
         "City_1": 1,
         "City_2": 0,
         "City_3": 0,
         "Gender": 1,
         "Items": 1,
         "Monthly Income": 26814,
         "Record": 9,
         "Total Spend": 11412.001953125,
         "Transaction ID": "TXN045",
         "Transaction Time": 330.58135986328125,
         "_deepnote_index_column": 44
        }
       ]
      },
      "text/html": [
       "<div>\n",
       "<style scoped>\n",
       "    .dataframe tbody tr th:only-of-type {\n",
       "        vertical-align: middle;\n",
       "    }\n",
       "\n",
       "    .dataframe tbody tr th {\n",
       "        vertical-align: top;\n",
       "    }\n",
       "\n",
       "    .dataframe thead th {\n",
       "        text-align: right;\n",
       "    }\n",
       "</style>\n",
       "<table border=\"1\" class=\"dataframe\">\n",
       "  <thead>\n",
       "    <tr style=\"text-align: right;\">\n",
       "      <th></th>\n",
       "      <th>Transaction ID</th>\n",
       "      <th>Age</th>\n",
       "      <th>Items</th>\n",
       "      <th>Monthly Income</th>\n",
       "      <th>Transaction Time</th>\n",
       "      <th>Record</th>\n",
       "      <th>Total Spend</th>\n",
       "      <th>Gender</th>\n",
       "      <th>City_1</th>\n",
       "      <th>City_2</th>\n",
       "      <th>City_3</th>\n",
       "    </tr>\n",
       "  </thead>\n",
       "  <tbody>\n",
       "    <tr>\n",
       "      <th>0</th>\n",
       "      <td>TXN001</td>\n",
       "      <td>4</td>\n",
       "      <td>10</td>\n",
       "      <td>7313</td>\n",
       "      <td>627.668152</td>\n",
       "      <td>5</td>\n",
       "      <td>4198.385254</td>\n",
       "      <td>0</td>\n",
       "      <td>1</td>\n",
       "      <td>0</td>\n",
       "      <td>0</td>\n",
       "    </tr>\n",
       "    <tr>\n",
       "      <th>1</th>\n",
       "      <td>TXN002</td>\n",
       "      <td>3</td>\n",
       "      <td>8</td>\n",
       "      <td>17747</td>\n",
       "      <td>126.904564</td>\n",
       "      <td>3</td>\n",
       "      <td>4134.976562</td>\n",
       "      <td>0</td>\n",
       "      <td>0</td>\n",
       "      <td>1</td>\n",
       "      <td>0</td>\n",
       "    </tr>\n",
       "    <tr>\n",
       "      <th>2</th>\n",
       "      <td>TXN003</td>\n",
       "      <td>4</td>\n",
       "      <td>11</td>\n",
       "      <td>22845</td>\n",
       "      <td>873.469727</td>\n",
       "      <td>2</td>\n",
       "      <td>5166.614258</td>\n",
       "      <td>1</td>\n",
       "      <td>0</td>\n",
       "      <td>1</td>\n",
       "      <td>0</td>\n",
       "    </tr>\n",
       "    <tr>\n",
       "      <th>3</th>\n",
       "      <td>TXN004</td>\n",
       "      <td>4</td>\n",
       "      <td>11</td>\n",
       "      <td>18552</td>\n",
       "      <td>380.219421</td>\n",
       "      <td>7</td>\n",
       "      <td>7784.447754</td>\n",
       "      <td>0</td>\n",
       "      <td>1</td>\n",
       "      <td>0</td>\n",
       "      <td>0</td>\n",
       "    </tr>\n",
       "    <tr>\n",
       "      <th>4</th>\n",
       "      <td>TXN005</td>\n",
       "      <td>4</td>\n",
       "      <td>2</td>\n",
       "      <td>14439</td>\n",
       "      <td>403.374237</td>\n",
       "      <td>2</td>\n",
       "      <td>3254.160400</td>\n",
       "      <td>0</td>\n",
       "      <td>0</td>\n",
       "      <td>1</td>\n",
       "      <td>0</td>\n",
       "    </tr>\n",
       "    <tr>\n",
       "      <th>...</th>\n",
       "      <td>...</td>\n",
       "      <td>...</td>\n",
       "      <td>...</td>\n",
       "      <td>...</td>\n",
       "      <td>...</td>\n",
       "      <td>...</td>\n",
       "      <td>...</td>\n",
       "      <td>...</td>\n",
       "      <td>...</td>\n",
       "      <td>...</td>\n",
       "      <td>...</td>\n",
       "    </tr>\n",
       "    <tr>\n",
       "      <th>2357</th>\n",
       "      <td>TXN2358</td>\n",
       "      <td>4</td>\n",
       "      <td>7</td>\n",
       "      <td>5705</td>\n",
       "      <td>460.157196</td>\n",
       "      <td>3</td>\n",
       "      <td>2909.619629</td>\n",
       "      <td>1</td>\n",
       "      <td>0</td>\n",
       "      <td>1</td>\n",
       "      <td>0</td>\n",
       "    </tr>\n",
       "    <tr>\n",
       "      <th>2358</th>\n",
       "      <td>TXN2359</td>\n",
       "      <td>3</td>\n",
       "      <td>11</td>\n",
       "      <td>11202</td>\n",
       "      <td>851.924744</td>\n",
       "      <td>8</td>\n",
       "      <td>7968.633301</td>\n",
       "      <td>1</td>\n",
       "      <td>0</td>\n",
       "      <td>1</td>\n",
       "      <td>0</td>\n",
       "    </tr>\n",
       "    <tr>\n",
       "      <th>2359</th>\n",
       "      <td>TXN2360</td>\n",
       "      <td>3</td>\n",
       "      <td>5</td>\n",
       "      <td>21335</td>\n",
       "      <td>435.145355</td>\n",
       "      <td>8</td>\n",
       "      <td>8816.406250</td>\n",
       "      <td>0</td>\n",
       "      <td>0</td>\n",
       "      <td>0</td>\n",
       "      <td>1</td>\n",
       "    </tr>\n",
       "    <tr>\n",
       "      <th>2360</th>\n",
       "      <td>TXN2361</td>\n",
       "      <td>4</td>\n",
       "      <td>12</td>\n",
       "      <td>19294</td>\n",
       "      <td>658.439819</td>\n",
       "      <td>7</td>\n",
       "      <td>7915.595703</td>\n",
       "      <td>0</td>\n",
       "      <td>1</td>\n",
       "      <td>0</td>\n",
       "      <td>0</td>\n",
       "    </tr>\n",
       "    <tr>\n",
       "      <th>2361</th>\n",
       "      <td>TXN2362</td>\n",
       "      <td>4</td>\n",
       "      <td>7</td>\n",
       "      <td>2855</td>\n",
       "      <td>560.514343</td>\n",
       "      <td>8</td>\n",
       "      <td>6832.401855</td>\n",
       "      <td>1</td>\n",
       "      <td>1</td>\n",
       "      <td>0</td>\n",
       "      <td>0</td>\n",
       "    </tr>\n",
       "  </tbody>\n",
       "</table>\n",
       "<p>2362 rows × 11 columns</p>\n",
       "</div>"
      ],
      "text/plain": [
       "     Transaction ID Age  Items  Monthly Income  Transaction Time  Record  \\\n",
       "0            TXN001   4     10            7313        627.668152       5   \n",
       "1            TXN002   3      8           17747        126.904564       3   \n",
       "2            TXN003   4     11           22845        873.469727       2   \n",
       "3            TXN004   4     11           18552        380.219421       7   \n",
       "4            TXN005   4      2           14439        403.374237       2   \n",
       "...             ...  ..    ...             ...               ...     ...   \n",
       "2357        TXN2358   4      7            5705        460.157196       3   \n",
       "2358        TXN2359   3     11           11202        851.924744       8   \n",
       "2359        TXN2360   3      5           21335        435.145355       8   \n",
       "2360        TXN2361   4     12           19294        658.439819       7   \n",
       "2361        TXN2362   4      7            2855        560.514343       8   \n",
       "\n",
       "      Total Spend  Gender  City_1  City_2  City_3  \n",
       "0     4198.385254       0       1       0       0  \n",
       "1     4134.976562       0       0       1       0  \n",
       "2     5166.614258       1       0       1       0  \n",
       "3     7784.447754       0       1       0       0  \n",
       "4     3254.160400       0       0       1       0  \n",
       "...           ...     ...     ...     ...     ...  \n",
       "2357  2909.619629       1       0       1       0  \n",
       "2358  7968.633301       1       0       1       0  \n",
       "2359  8816.406250       0       0       0       1  \n",
       "2360  7915.595703       0       1       0       0  \n",
       "2361  6832.401855       1       1       0       0  \n",
       "\n",
       "[2362 rows x 11 columns]"
      ]
     },
     "execution_count": 18,
     "metadata": {},
     "output_type": "execute_result"
    }
   ],
   "source": [
    "data_new"
   ]
  },
  {
   "cell_type": "code",
   "execution_count": 19,
   "metadata": {
    "cell_id": "00018-3a3880f2-7ca7-4b30-90b3-c6627828a08b",
    "deepnote_cell_type": "code",
    "deepnote_to_be_reexecuted": false,
    "execution_millis": 1450612,
    "execution_start": 1636673900448,
    "source_hash": "6bd063e0",
    "tags": []
   },
   "outputs": [],
   "source": [
    "# Definimos features y target\n",
    "\n",
    "X = data_new.drop(['Transaction ID', 'Total Spend'], axis=1)\n",
    "y = data_new['Total Spend']"
   ]
  },
  {
   "cell_type": "code",
   "execution_count": 20,
   "metadata": {
    "cell_id": "00019-c7df4ebd-fbf4-4bc4-998b-f6ef525b065d",
    "deepnote_cell_type": "code",
    "deepnote_to_be_reexecuted": false,
    "execution_millis": 0,
    "execution_start": 1636673900448,
    "source_hash": "e4bcc145",
    "tags": []
   },
   "outputs": [],
   "source": [
    "# Separamos los datos de entrenamiento y testing\n",
    "\n",
    "X_train, X_test, y_train, y_test = train_test_split(X, y, test_size=0.2, random_state=25)"
   ]
  },
  {
   "cell_type": "code",
   "execution_count": 21,
   "metadata": {
    "cell_id": "00019-ced3dfa1-459d-4639-8866-9e22533f8d92",
    "deepnote_cell_type": "code",
    "deepnote_to_be_reexecuted": false,
    "execution_millis": 0,
    "execution_start": 1636673900449,
    "source_hash": "1f197d5f",
    "tags": []
   },
   "outputs": [
    {
     "data": {
      "text/plain": [
       "(2362, 9)"
      ]
     },
     "metadata": {},
     "output_type": "display_data"
    },
    {
     "data": {
      "text/plain": [
       "(2362,)"
      ]
     },
     "metadata": {},
     "output_type": "display_data"
    }
   ],
   "source": [
    "# Dimensionamos\n",
    "\n",
    "display(X.shape)\n",
    "display(y.shape)"
   ]
  },
  {
   "cell_type": "code",
   "execution_count": 22,
   "metadata": {
    "cell_id": "00020-d8c92250-8d14-4925-804a-d0f8e9b27f6c",
    "deepnote_cell_type": "code",
    "deepnote_to_be_reexecuted": false,
    "execution_millis": 1450592,
    "execution_start": 1636673900467,
    "source_hash": "41583ae9",
    "tags": []
   },
   "outputs": [
    {
     "data": {
      "text/plain": [
       "Index(['Age', 'Items', 'Monthly Income', 'Transaction Time', 'Record',\n",
       "       'Gender', 'City_1', 'City_2', 'City_3'],\n",
       "      dtype='object')"
      ]
     },
     "execution_count": 22,
     "metadata": {},
     "output_type": "execute_result"
    }
   ],
   "source": [
    "X.columns"
   ]
  },
  {
   "cell_type": "code",
   "execution_count": 23,
   "metadata": {
    "cell_id": "00021-c0e08eaa-37cb-4e1a-a9bd-53ce2750c4f5",
    "deepnote_cell_type": "code",
    "deepnote_to_be_reexecuted": false,
    "execution_millis": 3,
    "execution_start": 1636673900515,
    "source_hash": "57ff0800",
    "tags": []
   },
   "outputs": [],
   "source": [
    "# Definimos el estimador y lo entranamos con los datos de entrenamiento\n",
    "\n",
    "linear_model = LinearRegression().fit(X_train, y_train)"
   ]
  },
  {
   "cell_type": "code",
   "execution_count": 24,
   "metadata": {
    "cell_id": "00024-496ace22-e20c-40b2-a209-867e0a2c3091",
    "deepnote_cell_type": "code",
    "deepnote_to_be_reexecuted": false,
    "execution_millis": 1450584,
    "execution_start": 1636673900516,
    "source_hash": "be02f338",
    "tags": []
   },
   "outputs": [
    {
     "data": {
      "text/plain": [
       "'Intercepto: -947.6857440628928'"
      ]
     },
     "metadata": {},
     "output_type": "display_data"
    },
    {
     "name": "stdout",
     "output_type": "stream",
     "text": [
      "Parámetros: [ 1.06571835e+02  3.91097121e+01  1.49872211e-01  1.98283868e-01\n",
      "  7.69427964e+02  2.82004302e+02  8.18814866e+01  3.89346563e+01\n",
      " -1.20816143e+02]\n"
     ]
    }
   ],
   "source": [
    "# Intercepto y Parámetros\n",
    "\n",
    "display(f'Intercepto: {linear_model.intercept_}')\n",
    "print(f'Parámetros: {linear_model.coef_}')"
   ]
  },
  {
   "cell_type": "code",
   "execution_count": 25,
   "metadata": {
    "cell_id": "00025-2a7c6bb6-5404-445c-a92e-0e7b31bc4bda",
    "deepnote_cell_type": "code",
    "deepnote_to_be_reexecuted": false,
    "execution_millis": 1450559,
    "execution_start": 1636673900517,
    "source_hash": "7cfb96c7",
    "tags": []
   },
   "outputs": [
    {
     "data": {
      "text/plain": [
       "{'Age': 106.57183466665157,\n",
       " 'Items': 39.109712125038065,\n",
       " 'Monthly Income': 0.14987221136720308,\n",
       " 'Transaction Time': 0.19828386843195078,\n",
       " 'Record': 769.4279636080081,\n",
       " 'Gender': 282.0043017490621,\n",
       " 'City_1': 81.8814866327437,\n",
       " 'City_2': 38.93465627390436,\n",
       " 'City_3': -120.81614290664788}"
      ]
     },
     "execution_count": 25,
     "metadata": {},
     "output_type": "execute_result"
    }
   ],
   "source": [
    "# Empaquetamos\n",
    "\n",
    "dict(zip(X, linear_model.coef_))"
   ]
  },
  {
   "cell_type": "code",
   "execution_count": 26,
   "metadata": {
    "cell_id": "00022-1e442b91-87d7-492b-8c24-76febcf0a003",
    "deepnote_cell_type": "code",
    "deepnote_to_be_reexecuted": false,
    "execution_millis": 2,
    "execution_start": 1636673900563,
    "source_hash": "e5a2e26",
    "tags": []
   },
   "outputs": [
    {
     "data": {
      "text/plain": [
       "0.9212324545732028"
      ]
     },
     "metadata": {},
     "output_type": "display_data"
    }
   ],
   "source": [
    "# R2\n",
    "\n",
    "R2 = linear_model.score(X_test, y_test)\n",
    "display(R2)"
   ]
  },
  {
   "cell_type": "code",
   "execution_count": 27,
   "metadata": {
    "cell_id": "00025-13437ec6-ddf6-44dd-8ccd-cfff20f503af",
    "deepnote_cell_type": "code",
    "deepnote_to_be_reexecuted": false,
    "execution_millis": 38,
    "execution_start": 1636673900563,
    "source_hash": "6cbbc060",
    "tags": []
   },
   "outputs": [
    {
     "data": {
      "application/vnd.deepnote.dataframe.v2+json": {
       "column_count": 1,
       "columns": [
        {
         "dtype": "float64",
         "name": "Predicción",
         "stats": {
          "histogram": [
           {
            "bin_end": 5260.47523525686,
            "bin_start": 4730.3088176120145,
            "count": 1
           },
           {
            "bin_end": 5790.641652901706,
            "bin_start": 5260.47523525686,
            "count": 1
           },
           {
            "bin_end": 6320.808070546551,
            "bin_start": 5790.641652901706,
            "count": 0
           },
           {
            "bin_end": 6850.974488191397,
            "bin_start": 6320.808070546551,
            "count": 0
           },
           {
            "bin_end": 7381.140905836242,
            "bin_start": 6850.974488191397,
            "count": 2
           },
           {
            "bin_end": 7911.307323481087,
            "bin_start": 7381.140905836242,
            "count": 0
           },
           {
            "bin_end": 8441.473741125934,
            "bin_start": 7911.307323481087,
            "count": 0
           },
           {
            "bin_end": 8971.640158770779,
            "bin_start": 8441.473741125934,
            "count": 0
           },
           {
            "bin_end": 9501.806576415624,
            "bin_start": 8971.640158770779,
            "count": 0
           },
           {
            "bin_end": 10031.97299406047,
            "bin_start": 9501.806576415624,
            "count": 1
           }
          ],
          "max": "10031.97299406047",
          "min": "4730.3088176120145",
          "nan_count": 0,
          "unique_count": 5
         }
        },
        {
         "dtype": "int64",
         "name": "_deepnote_index_column"
        }
       ],
       "row_count": 5,
       "rows_bottom": null,
       "rows_top": [
        {
         "Predicción": 5401.317320639007,
         "_deepnote_index_column": 0
        },
        {
         "Predicción": 10031.97299406047,
         "_deepnote_index_column": 1
        },
        {
         "Predicción": 7061.526781979813,
         "_deepnote_index_column": 2
        },
        {
         "Predicción": 4730.3088176120145,
         "_deepnote_index_column": 3
        },
        {
         "Predicción": 7281.684031620468,
         "_deepnote_index_column": 4
        }
       ]
      },
      "text/html": [
       "<div>\n",
       "<style scoped>\n",
       "    .dataframe tbody tr th:only-of-type {\n",
       "        vertical-align: middle;\n",
       "    }\n",
       "\n",
       "    .dataframe tbody tr th {\n",
       "        vertical-align: top;\n",
       "    }\n",
       "\n",
       "    .dataframe thead th {\n",
       "        text-align: right;\n",
       "    }\n",
       "</style>\n",
       "<table border=\"1\" class=\"dataframe\">\n",
       "  <thead>\n",
       "    <tr style=\"text-align: right;\">\n",
       "      <th></th>\n",
       "      <th>Predicción</th>\n",
       "    </tr>\n",
       "  </thead>\n",
       "  <tbody>\n",
       "    <tr>\n",
       "      <th>0</th>\n",
       "      <td>5401.317321</td>\n",
       "    </tr>\n",
       "    <tr>\n",
       "      <th>1</th>\n",
       "      <td>10031.972994</td>\n",
       "    </tr>\n",
       "    <tr>\n",
       "      <th>2</th>\n",
       "      <td>7061.526782</td>\n",
       "    </tr>\n",
       "    <tr>\n",
       "      <th>3</th>\n",
       "      <td>4730.308818</td>\n",
       "    </tr>\n",
       "    <tr>\n",
       "      <th>4</th>\n",
       "      <td>7281.684032</td>\n",
       "    </tr>\n",
       "  </tbody>\n",
       "</table>\n",
       "</div>"
      ],
      "text/plain": [
       "     Predicción\n",
       "0   5401.317321\n",
       "1  10031.972994\n",
       "2   7061.526782\n",
       "3   4730.308818\n",
       "4   7281.684032"
      ]
     },
     "execution_count": 27,
     "metadata": {},
     "output_type": "execute_result"
    }
   ],
   "source": [
    "# Predicción\n",
    "\n",
    "y_pred = linear_model.predict(X_test)\n",
    "y_pred = pd.DataFrame(y_pred, columns=['Predicción'])\n",
    "y_pred.head()"
   ]
  },
  {
   "cell_type": "code",
   "execution_count": 28,
   "metadata": {
    "cell_id": "00027-d21978de-94f0-44ac-ab9f-329b0d42b8ad",
    "deepnote_cell_type": "code",
    "deepnote_to_be_reexecuted": false,
    "execution_millis": 1,
    "execution_start": 1636673900598,
    "source_hash": "4b65c686",
    "tags": []
   },
   "outputs": [],
   "source": [
    "# Definimos nuevos features y target\n",
    "\n",
    "X2 = data_new.drop(['Transaction ID', 'Total Spend', 'Monthly Income', 'Transaction Time'], axis=1)\n",
    "y2 = data_new['Total Spend']"
   ]
  },
  {
   "cell_type": "code",
   "execution_count": 29,
   "metadata": {
    "cell_id": "00029-7f01c105-5ab1-4f04-9188-ccf94b5bd8b0",
    "deepnote_cell_type": "code",
    "deepnote_to_be_reexecuted": false,
    "execution_millis": 0,
    "execution_start": 1636673900599,
    "source_hash": "c13e03b0",
    "tags": []
   },
   "outputs": [],
   "source": [
    "# Separamos los datos de entrenamiento y testing\n",
    "\n",
    "X_train2, X_test2, y_train2, y_test2 = train_test_split(X2, y2, test_size=0.2, random_state=25)"
   ]
  },
  {
   "cell_type": "code",
   "execution_count": 30,
   "metadata": {
    "cell_id": "00028-89124539-fbc6-469b-b66f-ad310250ee6c",
    "deepnote_cell_type": "code",
    "deepnote_to_be_reexecuted": false,
    "execution_millis": 0,
    "execution_start": 1636673900647,
    "source_hash": "9fa7268",
    "tags": []
   },
   "outputs": [],
   "source": [
    "# Definimos el segundo estimador y lo entranamos con los datos de entrenamiento\n",
    "\n",
    "linear_model2 = LinearRegression().fit(X_train2, y_train2)"
   ]
  },
  {
   "cell_type": "code",
   "execution_count": 31,
   "metadata": {
    "cell_id": "00029-8fa97268-5878-408c-a6a1-4f38cabfef94",
    "deepnote_cell_type": "code",
    "deepnote_to_be_reexecuted": false,
    "execution_millis": 0,
    "execution_start": 1636673900648,
    "source_hash": "4287dc87",
    "tags": []
   },
   "outputs": [
    {
     "data": {
      "text/plain": [
       "'Intercepto: 1279.864961528403'"
      ]
     },
     "metadata": {},
     "output_type": "display_data"
    },
    {
     "name": "stdout",
     "output_type": "stream",
     "text": [
      "Parámetros: [162.67346714  37.31190794 776.59940158 334.70871459  81.68850998\n",
      "   6.47638218 -88.16489217]\n"
     ]
    }
   ],
   "source": [
    "# Intercepto y Parámetros\n",
    "\n",
    "display(f'Intercepto: {linear_model2.intercept_}')\n",
    "print(f'Parámetros: {linear_model2.coef_}')"
   ]
  },
  {
   "cell_type": "code",
   "execution_count": 32,
   "metadata": {
    "cell_id": "00030-549f7c07-9e21-442d-bb22-e56fd27712d0",
    "deepnote_cell_type": "code",
    "deepnote_to_be_reexecuted": false,
    "execution_millis": 1450537,
    "execution_start": 1636673900691,
    "source_hash": "f93f733f",
    "tags": []
   },
   "outputs": [
    {
     "data": {
      "text/plain": [
       "{'Age': 162.67346714037313,\n",
       " 'Items': 37.31190793642588,\n",
       " 'Record': 776.5994015787551,\n",
       " 'Gender': 334.70871459019105,\n",
       " 'City_1': 81.68850998476947,\n",
       " 'City_2': 6.476382184027997,\n",
       " 'City_3': -88.164892168797}"
      ]
     },
     "execution_count": 32,
     "metadata": {},
     "output_type": "execute_result"
    }
   ],
   "source": [
    "# Empaquetamos\n",
    "\n",
    "dict(zip(X2, linear_model2.coef_))"
   ]
  },
  {
   "cell_type": "code",
   "execution_count": 33,
   "metadata": {
    "cell_id": "00031-3e65f2c1-d5cb-4b82-8d75-0e3a246b946f",
    "deepnote_cell_type": "code",
    "deepnote_to_be_reexecuted": false,
    "execution_millis": 1450578,
    "execution_start": 1636673900692,
    "source_hash": "ff8b679e",
    "tags": []
   },
   "outputs": [
    {
     "data": {
      "text/plain": [
       "0.741795808369287"
      ]
     },
     "metadata": {},
     "output_type": "display_data"
    }
   ],
   "source": [
    "# R2\n",
    "\n",
    "R2_2 = linear_model2.score(X_test2, y_test2)\n",
    "display(R2_2)"
   ]
  },
  {
   "cell_type": "code",
   "execution_count": 34,
   "metadata": {
    "cell_id": "00032-d944b590-4250-4fb1-ab25-f7373fa03745",
    "deepnote_cell_type": "code",
    "deepnote_to_be_reexecuted": false,
    "execution_millis": 977729,
    "execution_start": 1636673900713,
    "source_hash": "d5680e5e",
    "tags": []
   },
   "outputs": [
    {
     "data": {
      "application/vnd.deepnote.dataframe.v2+json": {
       "column_count": 1,
       "columns": [
        {
         "dtype": "float64",
         "name": "Predicción 2",
         "stats": {
          "histogram": [
           {
            "bin_end": 5733.709535525333,
            "bin_start": 5345.796696142133,
            "count": 1
           },
           {
            "bin_end": 6121.622374908532,
            "bin_start": 5733.709535525333,
            "count": 2
           },
           {
            "bin_end": 6509.535214291732,
            "bin_start": 6121.622374908532,
            "count": 0
           },
           {
            "bin_end": 6897.448053674931,
            "bin_start": 6509.535214291732,
            "count": 0
           },
           {
            "bin_end": 7285.36089305813,
            "bin_start": 6897.448053674931,
            "count": 0
           },
           {
            "bin_end": 7673.27373244133,
            "bin_start": 7285.36089305813,
            "count": 0
           },
           {
            "bin_end": 8061.18657182453,
            "bin_start": 7673.27373244133,
            "count": 0
           },
           {
            "bin_end": 8449.099411207728,
            "bin_start": 8061.18657182453,
            "count": 0
           },
           {
            "bin_end": 8837.012250590928,
            "bin_start": 8449.099411207728,
            "count": 1
           },
           {
            "bin_end": 9224.925089974127,
            "bin_start": 8837.012250590928,
            "count": 1
           }
          ],
          "max": "9224.925089974127",
          "min": "5345.796696142133",
          "nan_count": 0,
          "unique_count": 5
         }
        },
        {
         "dtype": "int64",
         "name": "_deepnote_index_column"
        }
       ],
       "row_count": 5,
       "rows_bottom": null,
       "rows_top": [
        {
         "Predicción 2": 5345.796696142133,
         "_deepnote_index_column": 0
        },
        {
         "Predicción 2": 9224.925089974127,
         "_deepnote_index_column": 1
        },
        {
         "Predicción 2": 8598.161632068965,
         "_deepnote_index_column": 2
        },
        {
         "Predicción 2": 5769.882788764493,
         "_deepnote_index_column": 3
        },
        {
         "Predicción 2": 5975.720372089839,
         "_deepnote_index_column": 4
        }
       ]
      },
      "text/html": [
       "<div>\n",
       "<style scoped>\n",
       "    .dataframe tbody tr th:only-of-type {\n",
       "        vertical-align: middle;\n",
       "    }\n",
       "\n",
       "    .dataframe tbody tr th {\n",
       "        vertical-align: top;\n",
       "    }\n",
       "\n",
       "    .dataframe thead th {\n",
       "        text-align: right;\n",
       "    }\n",
       "</style>\n",
       "<table border=\"1\" class=\"dataframe\">\n",
       "  <thead>\n",
       "    <tr style=\"text-align: right;\">\n",
       "      <th></th>\n",
       "      <th>Predicción 2</th>\n",
       "    </tr>\n",
       "  </thead>\n",
       "  <tbody>\n",
       "    <tr>\n",
       "      <th>0</th>\n",
       "      <td>5345.796696</td>\n",
       "    </tr>\n",
       "    <tr>\n",
       "      <th>1</th>\n",
       "      <td>9224.925090</td>\n",
       "    </tr>\n",
       "    <tr>\n",
       "      <th>2</th>\n",
       "      <td>8598.161632</td>\n",
       "    </tr>\n",
       "    <tr>\n",
       "      <th>3</th>\n",
       "      <td>5769.882789</td>\n",
       "    </tr>\n",
       "    <tr>\n",
       "      <th>4</th>\n",
       "      <td>5975.720372</td>\n",
       "    </tr>\n",
       "  </tbody>\n",
       "</table>\n",
       "</div>"
      ],
      "text/plain": [
       "   Predicción 2\n",
       "0   5345.796696\n",
       "1   9224.925090\n",
       "2   8598.161632\n",
       "3   5769.882789\n",
       "4   5975.720372"
      ]
     },
     "execution_count": 34,
     "metadata": {},
     "output_type": "execute_result"
    }
   ],
   "source": [
    "# Predicción del modelo 2\n",
    "\n",
    "y_pred2 = linear_model2.predict(X_test2)\n",
    "y_pred2 = pd.DataFrame(y_pred2, columns=['Predicción 2'])\n",
    "y_pred2.head()"
   ]
  },
  {
   "cell_type": "code",
   "execution_count": 35,
   "metadata": {
    "cell_id": "00034-c7b28821-e6c6-42a6-9085-5366fc805b3c",
    "deepnote_cell_type": "code",
    "deepnote_to_be_reexecuted": false,
    "execution_millis": 265428,
    "execution_start": 1636673900759,
    "source_hash": "c798fc90",
    "tags": []
   },
   "outputs": [
    {
     "name": "stdout",
     "output_type": "stream",
     "text": [
      "2362 2362\n",
      "473 473\n"
     ]
    }
   ],
   "source": [
    "# Número de datos\n",
    "\n",
    "print(len(y), len(y2))\n",
    "print(len(y_pred), len(y_pred2))"
   ]
  },
  {
   "cell_type": "markdown",
   "metadata": {
    "created_in_deepnote_cell": true,
    "deepnote_cell_type": "markdown",
    "tags": []
   },
   "source": [
    "<a style='text-decoration:none;line-height:16px;display:flex;color:#5B5B62;padding:10px;justify-content:end;' href='https://deepnote.com?utm_source=created-in-deepnote-cell&projectId=4ec84517-f553-446b-9032-1da3132bd62a' target=\"_blank\">\n",
    "<img alt='Created in deepnote.com' style='display:inline;max-height:16px;margin:0px;margin-right:7.5px;' src='data:image/svg+xml;base64,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' > </img>\n",
    "Created in <span style='font-weight:600;margin-left:4px;'>Deepnote</span></a>"
   ]
  }
 ],
 "metadata": {
  "deepnote": {
   "is_reactive": false
  },
  "deepnote_execution_queue": [],
  "deepnote_notebook_id": "3d1b0000-f460-413d-9ace-0df46f871c67",
  "kernelspec": {
   "display_name": "Python 3 (ipykernel)",
   "language": "python",
   "name": "python3"
  },
  "language_info": {
   "codemirror_mode": {
    "name": "ipython",
    "version": 3
   },
   "file_extension": ".py",
   "mimetype": "text/x-python",
   "name": "python",
   "nbconvert_exporter": "python",
   "pygments_lexer": "ipython3",
   "version": "3.9.7"
  }
 },
 "nbformat": 4,
 "nbformat_minor": 2
}
