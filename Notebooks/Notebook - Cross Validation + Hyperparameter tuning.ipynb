{
 "cells": [
  {
   "cell_type": "code",
   "metadata": {
    "tags": [],
    "cell_id": "00000-e7996375-870d-4230-947e-58f18ab711e3",
    "deepnote_to_be_reexecuted": false,
    "source_hash": "81f8bfde",
    "execution_start": 1637017568615,
    "execution_millis": 1200,
    "deepnote_cell_type": "code"
   },
   "source": "# Core\nimport numpy as np\nimport pandas as pd\nimport warnings\n\n# Machine Learning\nfrom sklearn import metrics, preprocessing, tree\nfrom sklearn.metrics import  f1_score, make_scorer\nfrom sklearn.model_selection import cross_val_score\nfrom sklearn.model_selection import GridSearchCV, RandomizedSearchCV\nfrom sklearn.model_selection import train_test_split",
   "execution_count": 1,
   "outputs": []
  },
  {
   "cell_type": "code",
   "source": "# Evitar los warnings\nwarnings.filterwarnings('ignore')",
   "metadata": {
    "tags": [],
    "cell_id": "00001-16b0c7d3-9001-4642-86dd-09af73a410b6",
    "deepnote_to_be_reexecuted": false,
    "source_hash": "75462d12",
    "execution_start": 1637017569830,
    "execution_millis": 2,
    "deepnote_cell_type": "code"
   },
   "outputs": [],
   "execution_count": 2
  },
  {
   "cell_type": "code",
   "metadata": {
    "tags": [],
    "cell_id": "00000-55bdbf6c-35cf-4315-bc83-24d9e5b62d57",
    "deepnote_to_be_reexecuted": false,
    "source_hash": "96cf9a80",
    "execution_start": 1637017569839,
    "execution_millis": 91,
    "deepnote_cell_type": "code"
   },
   "source": "# Dataset\ndata = pd.read_csv('https://raw.githubusercontent.com/jorge-robledo11/Datasets/main/Datasets/Social_Network_Ads.csv')\ndata.head()",
   "execution_count": 3,
   "outputs": [
    {
     "output_type": "execute_result",
     "execution_count": 3,
     "data": {
      "application/vnd.deepnote.dataframe.v2+json": {
       "row_count": 5,
       "column_count": 5,
       "columns": [
        {
         "name": "User ID",
         "dtype": "int64",
         "stats": {
          "unique_count": 5,
          "nan_count": 0,
          "min": "15603246",
          "max": "15810944",
          "histogram": [
           {
            "bin_start": 15603246,
            "bin_end": 15624015.8,
            "count": 1
           },
           {
            "bin_start": 15624015.8,
            "bin_end": 15644785.6,
            "count": 1
           },
           {
            "bin_start": 15644785.6,
            "bin_end": 15665555.4,
            "count": 0
           },
           {
            "bin_start": 15665555.4,
            "bin_end": 15686325.2,
            "count": 1
           },
           {
            "bin_start": 15686325.2,
            "bin_end": 15707095,
            "count": 0
           },
           {
            "bin_start": 15707095,
            "bin_end": 15727864.8,
            "count": 0
           },
           {
            "bin_start": 15727864.8,
            "bin_end": 15748634.6,
            "count": 0
           },
           {
            "bin_start": 15748634.6,
            "bin_end": 15769404.4,
            "count": 0
           },
           {
            "bin_start": 15769404.4,
            "bin_end": 15790174.2,
            "count": 0
           },
           {
            "bin_start": 15790174.2,
            "bin_end": 15810944,
            "count": 2
           }
          ]
         }
        },
        {
         "name": "Gender",
         "dtype": "object",
         "stats": {
          "unique_count": 2,
          "nan_count": 0,
          "categories": [
           {
            "name": "Male",
            "count": 3
           },
           {
            "name": "Female",
            "count": 2
           }
          ]
         }
        },
        {
         "name": "Age",
         "dtype": "int64",
         "stats": {
          "unique_count": 4,
          "nan_count": 0,
          "min": "19",
          "max": "35",
          "histogram": [
           {
            "bin_start": 19,
            "bin_end": 20.6,
            "count": 2
           },
           {
            "bin_start": 20.6,
            "bin_end": 22.2,
            "count": 0
           },
           {
            "bin_start": 22.2,
            "bin_end": 23.8,
            "count": 0
           },
           {
            "bin_start": 23.8,
            "bin_end": 25.4,
            "count": 0
           },
           {
            "bin_start": 25.4,
            "bin_end": 27,
            "count": 1
           },
           {
            "bin_start": 27,
            "bin_end": 28.6,
            "count": 1
           },
           {
            "bin_start": 28.6,
            "bin_end": 30.200000000000003,
            "count": 0
           },
           {
            "bin_start": 30.200000000000003,
            "bin_end": 31.8,
            "count": 0
           },
           {
            "bin_start": 31.8,
            "bin_end": 33.4,
            "count": 0
           },
           {
            "bin_start": 33.4,
            "bin_end": 35,
            "count": 1
           }
          ]
         }
        },
        {
         "name": "EstimatedSalary",
         "dtype": "int64",
         "stats": {
          "unique_count": 5,
          "nan_count": 0,
          "min": "19000",
          "max": "76000",
          "histogram": [
           {
            "bin_start": 19000,
            "bin_end": 24700,
            "count": 2
           },
           {
            "bin_start": 24700,
            "bin_end": 30400,
            "count": 0
           },
           {
            "bin_start": 30400,
            "bin_end": 36100,
            "count": 0
           },
           {
            "bin_start": 36100,
            "bin_end": 41800,
            "count": 0
           },
           {
            "bin_start": 41800,
            "bin_end": 47500,
            "count": 1
           },
           {
            "bin_start": 47500,
            "bin_end": 53200,
            "count": 0
           },
           {
            "bin_start": 53200,
            "bin_end": 58900,
            "count": 1
           },
           {
            "bin_start": 58900,
            "bin_end": 64600,
            "count": 0
           },
           {
            "bin_start": 64600,
            "bin_end": 70300,
            "count": 0
           },
           {
            "bin_start": 70300,
            "bin_end": 76000,
            "count": 1
           }
          ]
         }
        },
        {
         "name": "Purchased",
         "dtype": "int64",
         "stats": {
          "unique_count": 1,
          "nan_count": 0,
          "min": "0",
          "max": "0",
          "histogram": [
           {
            "bin_start": -0.5,
            "bin_end": -0.4,
            "count": 0
           },
           {
            "bin_start": -0.4,
            "bin_end": -0.3,
            "count": 0
           },
           {
            "bin_start": -0.3,
            "bin_end": -0.19999999999999996,
            "count": 0
           },
           {
            "bin_start": -0.19999999999999996,
            "bin_end": -0.09999999999999998,
            "count": 0
           },
           {
            "bin_start": -0.09999999999999998,
            "bin_end": 0,
            "count": 0
           },
           {
            "bin_start": 0,
            "bin_end": 0.10000000000000009,
            "count": 5
           },
           {
            "bin_start": 0.10000000000000009,
            "bin_end": 0.20000000000000007,
            "count": 0
           },
           {
            "bin_start": 0.20000000000000007,
            "bin_end": 0.30000000000000004,
            "count": 0
           },
           {
            "bin_start": 0.30000000000000004,
            "bin_end": 0.4,
            "count": 0
           },
           {
            "bin_start": 0.4,
            "bin_end": 0.5,
            "count": 0
           }
          ]
         }
        },
        {
         "name": "_deepnote_index_column",
         "dtype": "int64"
        }
       ],
       "rows_top": [
        {
         "User ID": 15624510,
         "Gender": "Male",
         "Age": 19,
         "EstimatedSalary": 19000,
         "Purchased": 0,
         "_deepnote_index_column": 0
        },
        {
         "User ID": 15810944,
         "Gender": "Male",
         "Age": 35,
         "EstimatedSalary": 20000,
         "Purchased": 0,
         "_deepnote_index_column": 1
        },
        {
         "User ID": 15668575,
         "Gender": "Female",
         "Age": 26,
         "EstimatedSalary": 43000,
         "Purchased": 0,
         "_deepnote_index_column": 2
        },
        {
         "User ID": 15603246,
         "Gender": "Female",
         "Age": 27,
         "EstimatedSalary": 57000,
         "Purchased": 0,
         "_deepnote_index_column": 3
        },
        {
         "User ID": 15804002,
         "Gender": "Male",
         "Age": 19,
         "EstimatedSalary": 76000,
         "Purchased": 0,
         "_deepnote_index_column": 4
        }
       ],
       "rows_bottom": null
      },
      "text/plain": "    User ID  Gender  Age  EstimatedSalary  Purchased\n0  15624510    Male   19            19000          0\n1  15810944    Male   35            20000          0\n2  15668575  Female   26            43000          0\n3  15603246  Female   27            57000          0\n4  15804002    Male   19            76000          0",
      "text/html": "<div>\n<style scoped>\n    .dataframe tbody tr th:only-of-type {\n        vertical-align: middle;\n    }\n\n    .dataframe tbody tr th {\n        vertical-align: top;\n    }\n\n    .dataframe thead th {\n        text-align: right;\n    }\n</style>\n<table border=\"1\" class=\"dataframe\">\n  <thead>\n    <tr style=\"text-align: right;\">\n      <th></th>\n      <th>User ID</th>\n      <th>Gender</th>\n      <th>Age</th>\n      <th>EstimatedSalary</th>\n      <th>Purchased</th>\n    </tr>\n  </thead>\n  <tbody>\n    <tr>\n      <th>0</th>\n      <td>15624510</td>\n      <td>Male</td>\n      <td>19</td>\n      <td>19000</td>\n      <td>0</td>\n    </tr>\n    <tr>\n      <th>1</th>\n      <td>15810944</td>\n      <td>Male</td>\n      <td>35</td>\n      <td>20000</td>\n      <td>0</td>\n    </tr>\n    <tr>\n      <th>2</th>\n      <td>15668575</td>\n      <td>Female</td>\n      <td>26</td>\n      <td>43000</td>\n      <td>0</td>\n    </tr>\n    <tr>\n      <th>3</th>\n      <td>15603246</td>\n      <td>Female</td>\n      <td>27</td>\n      <td>57000</td>\n      <td>0</td>\n    </tr>\n    <tr>\n      <th>4</th>\n      <td>15804002</td>\n      <td>Male</td>\n      <td>19</td>\n      <td>76000</td>\n      <td>0</td>\n    </tr>\n  </tbody>\n</table>\n</div>"
     },
     "metadata": {}
    }
   ]
  },
  {
   "cell_type": "code",
   "metadata": {
    "tags": [],
    "cell_id": "00002-05cba15a-9468-45eb-a04b-0a6a3dab9d69",
    "deepnote_to_be_reexecuted": false,
    "source_hash": "44ec2fda",
    "execution_start": 1637017569941,
    "execution_millis": 130640,
    "deepnote_cell_type": "code"
   },
   "source": "# Dimensiones\ndata.shape",
   "execution_count": 4,
   "outputs": [
    {
     "output_type": "execute_result",
     "execution_count": 4,
     "data": {
      "text/plain": "(400, 5)"
     },
     "metadata": {}
    }
   ]
  },
  {
   "cell_type": "code",
   "metadata": {
    "tags": [],
    "cell_id": "00003-7970091f-1ea9-4eb0-bd7c-42126d88ba3c",
    "deepnote_to_be_reexecuted": false,
    "source_hash": "5803bd52",
    "execution_start": 1637017569978,
    "execution_millis": 130601,
    "deepnote_cell_type": "code"
   },
   "source": "\"\"\"\n1. Importamos nuestro estimador\n2. Definimos nuestros features y target\n\"\"\"\n\nfrom sklearn.tree import DecisionTreeClassifier\n\nX = data.iloc[:,[2,3]].values\ny = data.iloc[:,4].values",
   "execution_count": 5,
   "outputs": []
  },
  {
   "cell_type": "code",
   "metadata": {
    "tags": [],
    "cell_id": "00004-1f69dbcf-714f-4b31-a909-42fa526f8bcb",
    "deepnote_to_be_reexecuted": false,
    "source_hash": "4cedacc9",
    "execution_start": 1637017570039,
    "execution_millis": 130635,
    "deepnote_cell_type": "code"
   },
   "source": "# Separando y entrenado los subsets\nX_train, X_test, y_train, y_test = train_test_split(X, y, test_size=0.2, random_state=0)",
   "execution_count": 6,
   "outputs": []
  },
  {
   "cell_type": "code",
   "metadata": {
    "tags": [],
    "cell_id": "00005-90bb3709-664b-474b-8d19-5e65a869097a",
    "deepnote_to_be_reexecuted": false,
    "source_hash": "3546c9bd",
    "execution_start": 1637017570039,
    "execution_millis": 130622,
    "deepnote_cell_type": "code"
   },
   "source": "# Feature Scaling\nfrom sklearn.preprocessing import StandardScaler\n\nsc = StandardScaler()\nX_train = sc.fit_transform(X_train)\nX_test = sc.fit_transform(X_test)",
   "execution_count": 7,
   "outputs": []
  },
  {
   "cell_type": "markdown",
   "source": "## Cross Validation",
   "metadata": {
    "tags": [],
    "is_collapsed": false,
    "cell_id": "00007-1b04bd3c-75a6-432b-aa00-12513c2db8b7",
    "deepnote_cell_type": "text-cell-h2"
   }
  },
  {
   "cell_type": "code",
   "metadata": {
    "tags": [],
    "cell_id": "00006-aae72443-43c7-4b7a-a40e-78808a2aadee",
    "deepnote_to_be_reexecuted": false,
    "source_hash": "61c02f4",
    "execution_start": 1637017570083,
    "execution_millis": 2890,
    "deepnote_cell_type": "code"
   },
   "source": "\"\"\"\n1. Definimos el clasificador e instanciamos\n2. Hacemos validación cruzada y sacamos la media de los resultados\n\"\"\"\n\nclf = DecisionTreeClassifier()\n\nscores = cross_val_score(clf, X_train, y_train, cv=5, n_jobs=-1, scoring='f1_macro').mean()\nscores",
   "execution_count": 8,
   "outputs": [
    {
     "output_type": "execute_result",
     "execution_count": 8,
     "data": {
      "text/plain": "0.817141371470228"
     },
     "metadata": {}
    }
   ]
  },
  {
   "cell_type": "markdown",
   "source": "## Grid Search",
   "metadata": {
    "tags": [],
    "is_collapsed": false,
    "cell_id": "00009-039bb575-1439-4dad-8788-7551f9ef9007",
    "deepnote_cell_type": "text-cell-h2"
   }
  },
  {
   "cell_type": "code",
   "metadata": {
    "tags": [],
    "cell_id": "00007-2824e50c-d4d0-4008-b8f2-3ed4c50f8e8c",
    "deepnote_to_be_reexecuted": false,
    "source_hash": "f9b381ae",
    "execution_start": 1637017572986,
    "execution_millis": 18,
    "deepnote_cell_type": "code"
   },
   "source": "# Obtenemos nuestra grilla de parámetros\nparameters = {'max_depth': [1,2,3,4,5],\n              'min_samples_leaf': [1,2,3,4,5],\n              'min_samples_split': [2,3,4,5],\n              'criterion': ['gini','entropy']}",
   "execution_count": 9,
   "outputs": []
  },
  {
   "cell_type": "code",
   "metadata": {
    "tags": [],
    "cell_id": "00008-8524ac58-e2d0-477d-89da-5256c7af9cfe",
    "deepnote_to_be_reexecuted": false,
    "source_hash": "67d8c52f",
    "execution_start": 1637017573016,
    "execution_millis": 344,
    "deepnote_cell_type": "code"
   },
   "source": "\"\"\"\n1. Entrenamos nuestro clasificador con validación cruzada y los parámetros conseguidos\n2. Printeamos los resultados de las medias de las validaciones cruzadas de todas las combinaciones posibles de modelos \ncon los parámetros\n3. Tomamos el mejor modelo de los resultados obtenidos\n\"\"\"\n\nclf_rcv = RandomizedSearchCV(clf, parameters, cv=5, n_jobs=-1, scoring='f1_macro').fit(X_train, y_train)\nprint(clf_rcv.cv_results_['mean_test_score'])\nbest_model_r = clf_rcv.best_estimator_",
   "execution_count": 10,
   "outputs": [
    {
     "name": "stdout",
     "text": "[0.84507158 0.89566755 0.89599762 0.89599762 0.78915787 0.85727076\n 0.89599762 0.78915787 0.86553328 0.8397691 ]\n",
     "output_type": "stream"
    }
   ]
  },
  {
   "cell_type": "code",
   "metadata": {
    "tags": [],
    "cell_id": "00009-13208344-233b-47c6-9b24-386a64ebed95",
    "deepnote_to_be_reexecuted": false,
    "source_hash": "3eab3ec2",
    "execution_start": 1637017573371,
    "execution_millis": 57,
    "deepnote_cell_type": "code"
   },
   "source": "# Hacemos validación cruzada con nuestro mejor modelo y sacamos la media de la mejor validación cruzada\nscores = cross_val_score(best_model_r, X_train, y_train, cv=5, scoring='f1_macro').mean()\nscores = round(scores,3)\nscores",
   "execution_count": 11,
   "outputs": [
    {
     "output_type": "execute_result",
     "execution_count": 11,
     "data": {
      "text/plain": "0.896"
     },
     "metadata": {}
    }
   ]
  },
  {
   "cell_type": "code",
   "metadata": {
    "tags": [],
    "cell_id": "00010-5a6cd179-6d2b-4534-bf6a-127d6ede8bd0",
    "deepnote_to_be_reexecuted": false,
    "source_hash": "1efc2572",
    "execution_start": 1637017573439,
    "execution_millis": 18,
    "deepnote_cell_type": "code"
   },
   "source": "# Entrenamos el modelo con los datos de entrenamiento y printeamos el score con los resultados tanto de train como de test\n\nbest_model_r.fit(X_train, y_train)\nprint(round(best_model_r.score(X_train, y_train),3))\nprint(round(best_model_r.score(X_test, y_test),3))",
   "execution_count": 12,
   "outputs": [
    {
     "name": "stdout",
     "text": "0.909\n0.925\n",
     "output_type": "stream"
    }
   ]
  },
  {
   "cell_type": "markdown",
   "source": "## Hyperparameters Tuning",
   "metadata": {
    "tags": [],
    "is_collapsed": false,
    "cell_id": "00014-00282641-0200-4bfd-9474-9df38dfaabcd",
    "deepnote_cell_type": "text-cell-h2"
   }
  },
  {
   "cell_type": "code",
   "metadata": {
    "tags": [],
    "cell_id": "00008-1ea12101-8248-4709-85d6-350bace0bf33",
    "deepnote_to_be_reexecuted": false,
    "source_hash": "4ad8d18f",
    "execution_start": 1637017573473,
    "execution_millis": 4509,
    "deepnote_cell_type": "code"
   },
   "source": "\"\"\"\n1. Entrenamos nuestro clasificador con validación cruzada y los parámetros conseguidos\n2. Printeamos los resultados de las medias de las validaciones cruzadas de todas las combinaciones posibles de modelos \ncon los parámetros\n3. Tomamos el mejor modelo de los resultados obtenidos\n\"\"\"\n\nclf_cv = GridSearchCV(clf, parameters, cv=5, n_jobs=-1, scoring='f1_macro').fit(X_train, y_train)\nprint(clf_cv.cv_results_['mean_test_score'])\nbest_model = clf_cv.best_estimator_",
   "execution_count": 13,
   "outputs": [
    {
     "name": "stdout",
     "text": "[0.78915787 0.78915787 0.78915787 0.78915787 0.78915787 0.78915787\n 0.78915787 0.78915787 0.78915787 0.78915787 0.78915787 0.78915787\n 0.78915787 0.78915787 0.78915787 0.78915787 0.78915787 0.78915787\n 0.78915787 0.78915787 0.89599762 0.89599762 0.89599762 0.89599762\n 0.89599762 0.89599762 0.89599762 0.89599762 0.89599762 0.89599762\n 0.89599762 0.89599762 0.89599762 0.89599762 0.89599762 0.89599762\n 0.89599762 0.89599762 0.89599762 0.89599762 0.88548069 0.88548069\n 0.88548069 0.88548069 0.88209749 0.88209749 0.88209749 0.88209749\n 0.88548069 0.88548069 0.88548069 0.88548069 0.89566755 0.89566755\n 0.89566755 0.89566755 0.89566755 0.89566755 0.89566755 0.89566755\n 0.83936213 0.84356318 0.84356318 0.84356318 0.84713676 0.84713676\n 0.84713676 0.84713676 0.85417767 0.85417767 0.85417767 0.85417767\n 0.86553328 0.86553328 0.86553328 0.86553328 0.86553328 0.86553328\n 0.86553328 0.86553328 0.84891384 0.84090015 0.84496774 0.84496774\n 0.83700241 0.84071137 0.83664378 0.84071137 0.84081787 0.84081787\n 0.84081787 0.84081787 0.8397691  0.8397691  0.8397691  0.8397691\n 0.86526129 0.86526129 0.86526129 0.86526129 0.78915787 0.78915787\n 0.78915787 0.78915787 0.78915787 0.78915787 0.78915787 0.78915787\n 0.78915787 0.78915787 0.78915787 0.78915787 0.78915787 0.78915787\n 0.78915787 0.78915787 0.78915787 0.78915787 0.78915787 0.78915787\n 0.89599762 0.89599762 0.89599762 0.89599762 0.89599762 0.89599762\n 0.89599762 0.89599762 0.89599762 0.89599762 0.89599762 0.89599762\n 0.89599762 0.89599762 0.89599762 0.89599762 0.89599762 0.89599762\n 0.89599762 0.89599762 0.88548069 0.88548069 0.88548069 0.88548069\n 0.88548069 0.88548069 0.88548069 0.88548069 0.88548069 0.88548069\n 0.88548069 0.88548069 0.89566755 0.89566755 0.89566755 0.89566755\n 0.89566755 0.89566755 0.89566755 0.89566755 0.85521545 0.85521545\n 0.85137986 0.85521545 0.8624402  0.8624402  0.85860462 0.8624402\n 0.85417767 0.85417767 0.85417767 0.85417767 0.85727076 0.85727076\n 0.85727076 0.85727076 0.86553328 0.86553328 0.86553328 0.86553328\n 0.841236   0.841236   0.84507158 0.84507158 0.84494944 0.8486584\n 0.8486584  0.85249398 0.84400913 0.84400913 0.84400913 0.84400913\n 0.84211251 0.85251117 0.85251117 0.84211251 0.86845255 0.86845255\n 0.86845255 0.86845255]\n",
     "output_type": "stream"
    }
   ]
  },
  {
   "cell_type": "code",
   "metadata": {
    "tags": [],
    "cell_id": "00009-95e94e51-31ad-4f21-958a-8addc596940b",
    "deepnote_to_be_reexecuted": false,
    "source_hash": "73819272",
    "execution_start": 1637017577996,
    "execution_millis": 46,
    "deepnote_cell_type": "code"
   },
   "source": "# Hacemos validación cruzada con nuestro mejor modelo y sacamos la media de la mejor validación cruzada\n\nscores = cross_val_score(best_model, X_train, y_train, cv=5, scoring='f1_macro').mean()\nscores = round(scores,3)\nscores",
   "execution_count": 14,
   "outputs": [
    {
     "output_type": "execute_result",
     "execution_count": 14,
     "data": {
      "text/plain": "0.896"
     },
     "metadata": {}
    }
   ]
  },
  {
   "cell_type": "code",
   "metadata": {
    "tags": [],
    "cell_id": "00009-811fc87d-c5ab-46dc-84b7-352a3d5026c1",
    "deepnote_to_be_reexecuted": false,
    "source_hash": "a87aeb6b",
    "execution_start": 1637017578057,
    "execution_millis": 134102,
    "deepnote_cell_type": "code"
   },
   "source": "# Entrenamos el modelo con los datos de entrenamiento y printeamos el score con los resultados tanto de train como de test\nbest_model.fit(X_train, y_train)\nprint(round(best_model.score(X_train, y_train),3))\nprint(round(best_model.score(X_test, y_test),3))",
   "execution_count": 15,
   "outputs": [
    {
     "name": "stdout",
     "text": "0.909\n0.925\n",
     "output_type": "stream"
    }
   ]
  },
  {
   "cell_type": "code",
   "metadata": {
    "tags": [],
    "cell_id": "00009-6ae895a8-538d-4ee7-b9d2-1219aa07912c",
    "deepnote_to_be_reexecuted": false,
    "source_hash": "7270b87",
    "execution_start": 1637017578111,
    "execution_millis": 134074,
    "deepnote_cell_type": "code"
   },
   "source": "# Observamos los mejores parámetros del estimador\nprint(clf_cv.best_params_)",
   "execution_count": 16,
   "outputs": [
    {
     "name": "stdout",
     "text": "{'criterion': 'gini', 'max_depth': 2, 'min_samples_leaf': 1, 'min_samples_split': 2}\n",
     "output_type": "stream"
    }
   ]
  },
  {
   "cell_type": "code",
   "metadata": {
    "tags": [],
    "cell_id": "00011-463eedbd-5c69-44df-8867-a380bf658e49",
    "deepnote_to_be_reexecuted": false,
    "source_hash": "67fad7fb",
    "execution_start": 1637017578111,
    "execution_millis": 134079,
    "deepnote_cell_type": "code"
   },
   "source": "# Definimos nuestro segundo clasificador\nclf2 = DecisionTreeClassifier(criterion='entropy', max_depth=4, min_samples_leaf=3, min_samples_split=2)\n\nclf2.fit(X_train, y_train)\nprint(round(clf2.score(X_train, y_train),3))\nprint(round(clf2.score(X_test, y_test),3))",
   "execution_count": 17,
   "outputs": [
    {
     "name": "stdout",
     "text": "0.916\n0.938\n",
     "output_type": "stream"
    }
   ]
  },
  {
   "cell_type": "markdown",
   "source": "<a style='text-decoration:none;line-height:16px;display:flex;color:#5B5B62;padding:10px;justify-content:end;' href='https://deepnote.com?utm_source=created-in-deepnote-cell&projectId=4ec84517-f553-446b-9032-1da3132bd62a' target=\"_blank\">\n<img alt='Created in deepnote.com' style='display:inline;max-height:16px;margin:0px;margin-right:7.5px;' src='data:image/svg+xml;base64,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' > </img>\nCreated in <span style='font-weight:600;margin-left:4px;'>Deepnote</span></a>",
   "metadata": {
    "tags": [],
    "created_in_deepnote_cell": true,
    "deepnote_cell_type": "markdown"
   }
  }
 ],
 "nbformat": 4,
 "nbformat_minor": 2,
 "metadata": {
  "orig_nbformat": 2,
  "deepnote": {
   "is_reactive": false
  },
  "deepnote_notebook_id": "19e0f4c8-108f-4f10-be43-d60bc37e76e5",
  "deepnote_execution_queue": []
 }
}