{
 "cells": [
  {
   "cell_type": "code",
   "metadata": {
    "tags": [],
    "cell_id": "00000-59afe79b-129b-4839-8631-0e9a33e02314",
    "deepnote_to_be_reexecuted": false,
    "source_hash": "3fc38cec",
    "execution_start": 1637018582733,
    "execution_millis": 914,
    "deepnote_cell_type": "code"
   },
   "source": "import pandas as pd\nimport numpy as np\nimport warnings\nfrom sklearn import metrics, preprocessing, tree\nfrom sklearn.metrics import  f1_score, make_scorer\nfrom sklearn.model_selection import train_test_split\nfrom sklearn.model_selection import cross_val_score\nfrom sklearn.model_selection import GridSearchCV\nfrom sklearn.model_selection import KFold",
   "execution_count": 1,
   "outputs": []
  },
  {
   "cell_type": "code",
   "metadata": {
    "tags": [],
    "cell_id": "00002-71c11f7e-4654-47d7-9674-fa23fe6d484c",
    "deepnote_to_be_reexecuted": false,
    "source_hash": "c7434af7",
    "execution_start": 1637018583659,
    "execution_millis": 8,
    "deepnote_cell_type": "code"
   },
   "source": "# Ignore Warnings\nwarnings.filterwarnings('ignore')",
   "execution_count": 2,
   "outputs": []
  },
  {
   "cell_type": "code",
   "metadata": {
    "tags": [],
    "cell_id": "00002-b59678b5-5f1f-475b-995c-f71df906f146",
    "deepnote_to_be_reexecuted": false,
    "source_hash": "52efbe7a",
    "execution_start": 1637018583672,
    "execution_millis": 165,
    "deepnote_cell_type": "code"
   },
   "source": "data = pd.read_csv('https://raw.githubusercontent.com/jorge-robledo11/Datasets/main/Datasets/Social_Network_Ads.csv')\ndata.head()",
   "execution_count": 3,
   "outputs": [
    {
     "output_type": "execute_result",
     "execution_count": 3,
     "data": {
      "application/vnd.deepnote.dataframe.v2+json": {
       "row_count": 5,
       "column_count": 5,
       "columns": [
        {
         "name": "User ID",
         "dtype": "int64",
         "stats": {
          "unique_count": 5,
          "nan_count": 0,
          "min": "15603246",
          "max": "15810944",
          "histogram": [
           {
            "bin_start": 15603246,
            "bin_end": 15624015.8,
            "count": 1
           },
           {
            "bin_start": 15624015.8,
            "bin_end": 15644785.6,
            "count": 1
           },
           {
            "bin_start": 15644785.6,
            "bin_end": 15665555.4,
            "count": 0
           },
           {
            "bin_start": 15665555.4,
            "bin_end": 15686325.2,
            "count": 1
           },
           {
            "bin_start": 15686325.2,
            "bin_end": 15707095,
            "count": 0
           },
           {
            "bin_start": 15707095,
            "bin_end": 15727864.8,
            "count": 0
           },
           {
            "bin_start": 15727864.8,
            "bin_end": 15748634.6,
            "count": 0
           },
           {
            "bin_start": 15748634.6,
            "bin_end": 15769404.4,
            "count": 0
           },
           {
            "bin_start": 15769404.4,
            "bin_end": 15790174.2,
            "count": 0
           },
           {
            "bin_start": 15790174.2,
            "bin_end": 15810944,
            "count": 2
           }
          ]
         }
        },
        {
         "name": "Gender",
         "dtype": "object",
         "stats": {
          "unique_count": 2,
          "nan_count": 0,
          "categories": [
           {
            "name": "Male",
            "count": 3
           },
           {
            "name": "Female",
            "count": 2
           }
          ]
         }
        },
        {
         "name": "Age",
         "dtype": "int64",
         "stats": {
          "unique_count": 4,
          "nan_count": 0,
          "min": "19",
          "max": "35",
          "histogram": [
           {
            "bin_start": 19,
            "bin_end": 20.6,
            "count": 2
           },
           {
            "bin_start": 20.6,
            "bin_end": 22.2,
            "count": 0
           },
           {
            "bin_start": 22.2,
            "bin_end": 23.8,
            "count": 0
           },
           {
            "bin_start": 23.8,
            "bin_end": 25.4,
            "count": 0
           },
           {
            "bin_start": 25.4,
            "bin_end": 27,
            "count": 1
           },
           {
            "bin_start": 27,
            "bin_end": 28.6,
            "count": 1
           },
           {
            "bin_start": 28.6,
            "bin_end": 30.200000000000003,
            "count": 0
           },
           {
            "bin_start": 30.200000000000003,
            "bin_end": 31.8,
            "count": 0
           },
           {
            "bin_start": 31.8,
            "bin_end": 33.4,
            "count": 0
           },
           {
            "bin_start": 33.4,
            "bin_end": 35,
            "count": 1
           }
          ]
         }
        },
        {
         "name": "EstimatedSalary",
         "dtype": "int64",
         "stats": {
          "unique_count": 5,
          "nan_count": 0,
          "min": "19000",
          "max": "76000",
          "histogram": [
           {
            "bin_start": 19000,
            "bin_end": 24700,
            "count": 2
           },
           {
            "bin_start": 24700,
            "bin_end": 30400,
            "count": 0
           },
           {
            "bin_start": 30400,
            "bin_end": 36100,
            "count": 0
           },
           {
            "bin_start": 36100,
            "bin_end": 41800,
            "count": 0
           },
           {
            "bin_start": 41800,
            "bin_end": 47500,
            "count": 1
           },
           {
            "bin_start": 47500,
            "bin_end": 53200,
            "count": 0
           },
           {
            "bin_start": 53200,
            "bin_end": 58900,
            "count": 1
           },
           {
            "bin_start": 58900,
            "bin_end": 64600,
            "count": 0
           },
           {
            "bin_start": 64600,
            "bin_end": 70300,
            "count": 0
           },
           {
            "bin_start": 70300,
            "bin_end": 76000,
            "count": 1
           }
          ]
         }
        },
        {
         "name": "Purchased",
         "dtype": "int64",
         "stats": {
          "unique_count": 1,
          "nan_count": 0,
          "min": "0",
          "max": "0",
          "histogram": [
           {
            "bin_start": -0.5,
            "bin_end": -0.4,
            "count": 0
           },
           {
            "bin_start": -0.4,
            "bin_end": -0.3,
            "count": 0
           },
           {
            "bin_start": -0.3,
            "bin_end": -0.19999999999999996,
            "count": 0
           },
           {
            "bin_start": -0.19999999999999996,
            "bin_end": -0.09999999999999998,
            "count": 0
           },
           {
            "bin_start": -0.09999999999999998,
            "bin_end": 0,
            "count": 0
           },
           {
            "bin_start": 0,
            "bin_end": 0.10000000000000009,
            "count": 5
           },
           {
            "bin_start": 0.10000000000000009,
            "bin_end": 0.20000000000000007,
            "count": 0
           },
           {
            "bin_start": 0.20000000000000007,
            "bin_end": 0.30000000000000004,
            "count": 0
           },
           {
            "bin_start": 0.30000000000000004,
            "bin_end": 0.4,
            "count": 0
           },
           {
            "bin_start": 0.4,
            "bin_end": 0.5,
            "count": 0
           }
          ]
         }
        },
        {
         "name": "_deepnote_index_column",
         "dtype": "int64"
        }
       ],
       "rows_top": [
        {
         "User ID": 15624510,
         "Gender": "Male",
         "Age": 19,
         "EstimatedSalary": 19000,
         "Purchased": 0,
         "_deepnote_index_column": 0
        },
        {
         "User ID": 15810944,
         "Gender": "Male",
         "Age": 35,
         "EstimatedSalary": 20000,
         "Purchased": 0,
         "_deepnote_index_column": 1
        },
        {
         "User ID": 15668575,
         "Gender": "Female",
         "Age": 26,
         "EstimatedSalary": 43000,
         "Purchased": 0,
         "_deepnote_index_column": 2
        },
        {
         "User ID": 15603246,
         "Gender": "Female",
         "Age": 27,
         "EstimatedSalary": 57000,
         "Purchased": 0,
         "_deepnote_index_column": 3
        },
        {
         "User ID": 15804002,
         "Gender": "Male",
         "Age": 19,
         "EstimatedSalary": 76000,
         "Purchased": 0,
         "_deepnote_index_column": 4
        }
       ],
       "rows_bottom": null
      },
      "text/plain": "    User ID  Gender  Age  EstimatedSalary  Purchased\n0  15624510    Male   19            19000          0\n1  15810944    Male   35            20000          0\n2  15668575  Female   26            43000          0\n3  15603246  Female   27            57000          0\n4  15804002    Male   19            76000          0",
      "text/html": "<div>\n<style scoped>\n    .dataframe tbody tr th:only-of-type {\n        vertical-align: middle;\n    }\n\n    .dataframe tbody tr th {\n        vertical-align: top;\n    }\n\n    .dataframe thead th {\n        text-align: right;\n    }\n</style>\n<table border=\"1\" class=\"dataframe\">\n  <thead>\n    <tr style=\"text-align: right;\">\n      <th></th>\n      <th>User ID</th>\n      <th>Gender</th>\n      <th>Age</th>\n      <th>EstimatedSalary</th>\n      <th>Purchased</th>\n    </tr>\n  </thead>\n  <tbody>\n    <tr>\n      <th>0</th>\n      <td>15624510</td>\n      <td>Male</td>\n      <td>19</td>\n      <td>19000</td>\n      <td>0</td>\n    </tr>\n    <tr>\n      <th>1</th>\n      <td>15810944</td>\n      <td>Male</td>\n      <td>35</td>\n      <td>20000</td>\n      <td>0</td>\n    </tr>\n    <tr>\n      <th>2</th>\n      <td>15668575</td>\n      <td>Female</td>\n      <td>26</td>\n      <td>43000</td>\n      <td>0</td>\n    </tr>\n    <tr>\n      <th>3</th>\n      <td>15603246</td>\n      <td>Female</td>\n      <td>27</td>\n      <td>57000</td>\n      <td>0</td>\n    </tr>\n    <tr>\n      <th>4</th>\n      <td>15804002</td>\n      <td>Male</td>\n      <td>19</td>\n      <td>76000</td>\n      <td>0</td>\n    </tr>\n  </tbody>\n</table>\n</div>"
     },
     "metadata": {}
    }
   ]
  },
  {
   "cell_type": "code",
   "source": "data.shape",
   "metadata": {
    "tags": [],
    "cell_id": "00004-4e1e3aca-267a-4b95-9842-6153bd701c55",
    "deepnote_to_be_reexecuted": false,
    "source_hash": "2007f58",
    "execution_start": 1637018583846,
    "execution_millis": 8,
    "deepnote_cell_type": "code"
   },
   "outputs": [
    {
     "output_type": "execute_result",
     "execution_count": 4,
     "data": {
      "text/plain": "(400, 5)"
     },
     "metadata": {}
    }
   ],
   "execution_count": 4
  },
  {
   "cell_type": "code",
   "metadata": {
    "tags": [],
    "cell_id": "00003-3393d295-98a3-49a7-b72a-bf36c175c86c",
    "deepnote_to_be_reexecuted": false,
    "source_hash": "a089be86",
    "execution_start": 1637018583886,
    "execution_millis": 91805,
    "deepnote_cell_type": "code"
   },
   "source": "X = data.iloc[:,[2,3]].values\ny = data.iloc[:,4].values",
   "execution_count": 5,
   "outputs": []
  },
  {
   "cell_type": "code",
   "metadata": {
    "tags": [],
    "cell_id": "00006-d2236d59-deba-428f-b1fd-917dfe9d7027",
    "deepnote_to_be_reexecuted": false,
    "source_hash": "1bad0600",
    "execution_start": 1637018583886,
    "execution_millis": 91805,
    "deepnote_cell_type": "code"
   },
   "source": "# Feature Scaling\n\nfrom sklearn.preprocessing import StandardScaler\n\nsc = StandardScaler()\nX = sc.fit_transform(X)",
   "execution_count": 6,
   "outputs": []
  },
  {
   "cell_type": "code",
   "metadata": {
    "tags": [],
    "cell_id": "00004-9264307c-4a8e-41d3-8f14-8f6495744982",
    "deepnote_to_be_reexecuted": false,
    "source_hash": "640bedc5",
    "execution_start": 1637018583887,
    "execution_millis": 91805,
    "deepnote_cell_type": "code"
   },
   "source": "X = pd.DataFrame(X)\ny = pd.DataFrame(y)",
   "execution_count": 7,
   "outputs": []
  },
  {
   "cell_type": "markdown",
   "source": "## K - Fold Cross Validation",
   "metadata": {
    "tags": [],
    "is_collapsed": false,
    "cell_id": "00007-8bff9274-448d-498a-a75c-b7b7160c1aff",
    "deepnote_cell_type": "text-cell-h2"
   }
  },
  {
   "cell_type": "code",
   "metadata": {
    "tags": [],
    "cell_id": "00004-1474a7d5-060d-4e63-afdd-6fe33a3b1006",
    "deepnote_to_be_reexecuted": false,
    "source_hash": "75bd52ec",
    "execution_start": 1637018583888,
    "execution_millis": 8,
    "deepnote_cell_type": "code"
   },
   "source": "# Obtenemos nuestros datos de entrenamiento y test por medio de K-Fold\n\nkf = KFold(n_splits=5, shuffle=True, random_state=0)\n\nfor train, test in kf.split(X):\n\n    X_train = X.iloc[train]\n    y_train = y.iloc[train]\n    X_test = X.iloc[test]\n    y_test = y.iloc[test]\n\nprint(len(X_train))\nprint(len(X_test))\nprint(len(y_train))\nprint(len(y_test))",
   "execution_count": 8,
   "outputs": [
    {
     "name": "stdout",
     "text": "320\n80\n320\n80\n",
     "output_type": "stream"
    }
   ]
  },
  {
   "cell_type": "code",
   "metadata": {
    "tags": [],
    "cell_id": "00007-3e7e3c65-384c-42e7-9bea-d6d2355b179c",
    "deepnote_to_be_reexecuted": false,
    "source_hash": "49dfa3f4",
    "execution_start": 1637018583900,
    "execution_millis": 7,
    "deepnote_cell_type": "code"
   },
   "source": "# Obtenemos nuestra grilla de parámetros\n\nparameters = {'max_depth': [1,2,3,4,5],\n              'min_samples_leaf': [1,2,3,4,5],\n              'min_samples_split': [2,3,4,5],\n              'criterion': ['gini','entropy']}",
   "execution_count": 9,
   "outputs": []
  },
  {
   "cell_type": "code",
   "metadata": {
    "tags": [],
    "cell_id": "00008-8ab0abba-d4cf-44ef-bc75-ca708872b251",
    "deepnote_to_be_reexecuted": false,
    "source_hash": "2ee3357f",
    "execution_start": 1637018583911,
    "execution_millis": 4,
    "deepnote_cell_type": "code"
   },
   "source": "\"\"\"\n1. Definimos el clasificador e instanciamos\n2. Hacemos validación cruzada y sacamos la media de los resultados\n\"\"\"\n\nfrom sklearn.tree import DecisionTreeClassifier\n\nclf = DecisionTreeClassifier()",
   "execution_count": 10,
   "outputs": []
  },
  {
   "cell_type": "code",
   "metadata": {
    "tags": [],
    "cell_id": "00008-1b9437c2-28d4-44f7-b77b-71ee6c319e51",
    "deepnote_to_be_reexecuted": false,
    "source_hash": "abeb60cd",
    "execution_start": 1637018583966,
    "execution_millis": 12142,
    "deepnote_cell_type": "code"
   },
   "source": "\"\"\"\n1. Entrenamos nuestro clasificador con validación cruzada y los parámetros conseguidos\n2. Printeamos los resultados de las medias de las validaciones cruzadas de todas las combinaciones posibles de modelos \ncon los parámetros\n3. Tomamos el mejor modelo de los resultados obtenidos\n\"\"\"\n\nclf_cv = GridSearchCV(clf, parameters, cv=kf, n_jobs=-1, scoring='f1_macro').fit(X_train, y_train)\nprint(clf_cv.cv_results_['mean_test_score'])\nbest_model = clf_cv.best_estimator_",
   "execution_count": 11,
   "outputs": [
    {
     "name": "stdout",
     "text": "[0.79362428 0.79362428 0.79362428 0.79362428 0.79362428 0.79362428\n 0.79362428 0.79362428 0.79362428 0.79362428 0.79362428 0.79362428\n 0.79362428 0.79362428 0.79362428 0.79362428 0.79362428 0.79362428\n 0.79362428 0.79362428 0.8880848  0.8880848  0.8880848  0.8880848\n 0.8880848  0.8880848  0.8880848  0.8880848  0.8880848  0.8880848\n 0.8880848  0.8880848  0.8880848  0.8880848  0.8880848  0.8880848\n 0.8880848  0.8880848  0.8880848  0.8880848  0.88104714 0.88104714\n 0.88104714 0.88104714 0.88104714 0.88104714 0.88104714 0.88104714\n 0.88104714 0.88104714 0.88104714 0.88104714 0.88104714 0.88104714\n 0.88104714 0.88104714 0.88104714 0.88104714 0.88104714 0.88104714\n 0.87509558 0.87509558 0.87509558 0.87861577 0.87509558 0.87509558\n 0.87509558 0.87861577 0.88880678 0.88880678 0.88880678 0.88880678\n 0.88880678 0.88880678 0.88880678 0.88880678 0.88880678 0.88880678\n 0.88880678 0.88880678 0.87264248 0.86895024 0.87949153 0.87949153\n 0.87266832 0.87610833 0.87610833 0.87949153 0.86078616 0.86078616\n 0.86078616 0.86078616 0.87023232 0.87023232 0.87023232 0.87023232\n 0.87328556 0.87328556 0.87328556 0.87328556 0.79362428 0.79362428\n 0.79362428 0.79362428 0.79362428 0.79362428 0.79362428 0.79362428\n 0.79362428 0.79362428 0.79362428 0.79362428 0.79362428 0.79362428\n 0.79362428 0.79362428 0.79362428 0.79362428 0.79362428 0.79362428\n 0.8880848  0.8880848  0.8880848  0.8880848  0.8880848  0.8880848\n 0.8880848  0.8880848  0.8880848  0.8880848  0.8880848  0.8880848\n 0.8880848  0.8880848  0.8880848  0.8880848  0.8880848  0.8880848\n 0.8880848  0.8880848  0.8880848  0.8880848  0.8880848  0.8880848\n 0.8880848  0.8880848  0.8880848  0.8880848  0.8880848  0.8880848\n 0.8880848  0.8880848  0.8880848  0.8880848  0.8880848  0.8880848\n 0.8880848  0.8880848  0.8880848  0.8880848  0.87371532 0.87371532\n 0.87371532 0.87723551 0.87371532 0.87371532 0.87371532 0.87723551\n 0.88742652 0.88742652 0.88742652 0.88742652 0.8950354  0.8950354\n 0.8950354  0.8950354  0.8950354  0.8950354  0.8950354  0.8950354\n 0.87036228 0.86352491 0.87375716 0.87375716 0.87870127 0.87870127\n 0.88214128 0.88552448 0.8576053  0.8576053  0.8576053  0.8576053\n 0.87083324 0.87083324 0.87083324 0.87083324 0.87388648 0.87388648\n 0.87388648 0.87388648]\n",
     "output_type": "stream"
    }
   ]
  },
  {
   "cell_type": "code",
   "metadata": {
    "tags": [],
    "cell_id": "00009-c866adb0-8b3c-4a28-bfc0-102519678752",
    "deepnote_to_be_reexecuted": false,
    "source_hash": "700d28c3",
    "execution_start": 1637018596124,
    "execution_millis": 72,
    "deepnote_cell_type": "code"
   },
   "source": "# Hacemos validación cruzada con nuestro mejor modelo y sacamos la media de la mejor validación cruzada\n\nscores = cross_val_score(best_model, X_train, y_train, cv=kf, scoring='f1_macro').mean()\nscores",
   "execution_count": 12,
   "outputs": [
    {
     "output_type": "execute_result",
     "execution_count": 12,
     "data": {
      "text/plain": "0.8950354039513796"
     },
     "metadata": {}
    }
   ]
  },
  {
   "cell_type": "code",
   "metadata": {
    "tags": [],
    "cell_id": "00010-46ef63d2-bb31-49b6-84bf-223207fbfb6a",
    "deepnote_to_be_reexecuted": false,
    "source_hash": "263b54f9",
    "execution_start": 1637018596208,
    "execution_millis": 45,
    "deepnote_cell_type": "code"
   },
   "source": "# Entrenamos el modelo con los datos de entrenamiento y printeamos el score con los resultados tanto de train como de test\n\nbest_model.fit(X_train, y_train)\nprint(best_model.score(X_train, y_train))\nprint(best_model.score(X_test, y_test))",
   "execution_count": 13,
   "outputs": [
    {
     "name": "stdout",
     "text": "0.915625\n0.95\n",
     "output_type": "stream"
    }
   ]
  },
  {
   "cell_type": "code",
   "metadata": {
    "tags": [],
    "cell_id": "00011-a60084fd-0434-4e3d-8f9e-6686f29f7f59",
    "deepnote_to_be_reexecuted": false,
    "source_hash": "c020d2be",
    "execution_start": 1637018596252,
    "execution_millis": 45,
    "deepnote_cell_type": "code"
   },
   "source": "y_pred = best_model.predict(X_test)\ny_pred",
   "execution_count": 14,
   "outputs": [
    {
     "output_type": "execute_result",
     "execution_count": 14,
     "data": {
      "text/plain": "array([0, 1, 0, 1, 0, 0, 0, 1, 0, 0, 0, 0, 0, 0, 0, 0, 0, 0, 0, 0, 0, 0,\n       0, 0, 0, 0, 0, 0, 0, 0, 0, 1, 0, 0, 0, 0, 0, 0, 0, 0, 1, 0, 1, 1,\n       1, 0, 0, 0, 1, 1, 0, 1, 1, 1, 0, 1, 1, 1, 0, 1, 1, 1, 0, 0, 0, 0,\n       0, 1, 0, 1, 0, 0, 0, 1, 0, 1, 0, 1, 0, 0])"
     },
     "metadata": {}
    }
   ]
  },
  {
   "cell_type": "markdown",
   "source": "<a style='text-decoration:none;line-height:16px;display:flex;color:#5B5B62;padding:10px;justify-content:end;' href='https://deepnote.com?utm_source=created-in-deepnote-cell&projectId=4ec84517-f553-446b-9032-1da3132bd62a' target=\"_blank\">\n<img alt='Created in deepnote.com' style='display:inline;max-height:16px;margin:0px;margin-right:7.5px;' src='data:image/svg+xml;base64,PD94bWwgdmVyc2lvbj0iMS4wIiBlbmNvZGluZz0iVVRGLTgiPz4KPHN2ZyB3aWR0aD0iODBweCIgaGVpZ2h0PSI4MHB4IiB2aWV3Qm94PSIwIDAgODAgODAiIHZlcnNpb249IjEuMSIgeG1sbnM9Imh0dHA6Ly93d3cudzMub3JnLzIwMDAvc3ZnIiB4bWxuczp4bGluaz0iaHR0cDovL3d3dy53My5vcmcvMTk5OS94bGluayI+CiAgICA8IS0tIEdlbmVyYXRvcjogU2tldGNoIDU0LjEgKDc2NDkwKSAtIGh0dHBzOi8vc2tldGNoYXBwLmNvbSAtLT4KICAgIDx0aXRsZT5Hcm91cCAzPC90aXRsZT4KICAgIDxkZXNjPkNyZWF0ZWQgd2l0aCBTa2V0Y2guPC9kZXNjPgogICAgPGcgaWQ9IkxhbmRpbmciIHN0cm9rZT0ibm9uZSIgc3Ryb2tlLXdpZHRoPSIxIiBmaWxsPSJub25lIiBmaWxsLXJ1bGU9ImV2ZW5vZGQiPgogICAgICAgIDxnIGlkPSJBcnRib2FyZCIgdHJhbnNmb3JtPSJ0cmFuc2xhdGUoLTEyMzUuMDAwMDAwLCAtNzkuMDAwMDAwKSI+CiAgICAgICAgICAgIDxnIGlkPSJHcm91cC0zIiB0cmFuc2Zvcm09InRyYW5zbGF0ZSgxMjM1LjAwMDAwMCwgNzkuMDAwMDAwKSI+CiAgICAgICAgICAgICAgICA8cG9seWdvbiBpZD0iUGF0aC0yMCIgZmlsbD0iIzAyNjVCNCIgcG9pbnRzPSIyLjM3NjIzNzYyIDgwIDM4LjA0NzY2NjcgODAgNTcuODIxNzgyMiA3My44MDU3NTkyIDU3LjgyMTc4MjIgMzIuNzU5MjczOSAzOS4xNDAyMjc4IDMxLjY4MzE2ODMiPjwvcG9seWdvbj4KICAgICAgICAgICAgICAgIDxwYXRoIGQ9Ik0zNS4wMDc3MTgsODAgQzQyLjkwNjIwMDcsNzYuNDU0OTM1OCA0Ny41NjQ5MTY3LDcxLjU0MjI2NzEgNDguOTgzODY2LDY1LjI2MTk5MzkgQzUxLjExMjI4OTksNTUuODQxNTg0MiA0MS42NzcxNzk1LDQ5LjIxMjIyODQgMjUuNjIzOTg0Niw0OS4yMTIyMjg0IEMyNS40ODQ5Mjg5LDQ5LjEyNjg0NDggMjkuODI2MTI5Niw0My4yODM4MjQ4IDM4LjY0NzU4NjksMzEuNjgzMTY4MyBMNzIuODcxMjg3MSwzMi41NTQ0MjUgTDY1LjI4MDk3Myw2Ny42NzYzNDIxIEw1MS4xMTIyODk5LDc3LjM3NjE0NCBMMzUuMDA3NzE4LDgwIFoiIGlkPSJQYXRoLTIyIiBmaWxsPSIjMDAyODY4Ij48L3BhdGg+CiAgICAgICAgICAgICAgICA8cGF0aCBkPSJNMCwzNy43MzA0NDA1IEwyNy4xMTQ1MzcsMC4yNTcxMTE0MzYgQzYyLjM3MTUxMjMsLTEuOTkwNzE3MDEgODAsMTAuNTAwMzkyNyA4MCwzNy43MzA0NDA1IEM4MCw2NC45NjA0ODgyIDY0Ljc3NjUwMzgsNzkuMDUwMzQxNCAzNC4zMjk1MTEzLDgwIEM0Ny4wNTUzNDg5LDc3LjU2NzA4MDggNTMuNDE4MjY3Nyw3MC4zMTM2MTAzIDUzLjQxODI2NzcsNTguMjM5NTg4NSBDNTMuNDE4MjY3Nyw0MC4xMjg1NTU3IDM2LjMwMzk1NDQsMzcuNzMwNDQwNSAyNS4yMjc0MTcsMzcuNzMwNDQwNSBDMTcuODQzMDU4NiwzNy43MzA0NDA1IDkuNDMzOTE5NjYsMzcuNzMwNDQwNSAwLDM3LjczMDQ0MDUgWiIgaWQ9IlBhdGgtMTkiIGZpbGw9IiMzNzkzRUYiPjwvcGF0aD4KICAgICAgICAgICAgPC9nPgogICAgICAgIDwvZz4KICAgIDwvZz4KPC9zdmc+' > </img>\nCreated in <span style='font-weight:600;margin-left:4px;'>Deepnote</span></a>",
   "metadata": {
    "tags": [],
    "created_in_deepnote_cell": true,
    "deepnote_cell_type": "markdown"
   }
  }
 ],
 "nbformat": 4,
 "nbformat_minor": 2,
 "metadata": {
  "orig_nbformat": 2,
  "deepnote": {
   "is_reactive": false
  },
  "deepnote_notebook_id": "e4f6c691-27d1-46d2-89f1-a55c3e49ccfc",
  "deepnote_execution_queue": []
 }
}