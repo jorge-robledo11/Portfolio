{
 "cells": [
  {
   "cell_type": "markdown",
   "source": "# Preprocesamiento de datos\n\n### Importamos nuestras librerías de trabajo",
   "metadata": {
    "tags": [],
    "cell_id": "00000-2f0165bf-566a-44c9-8dc9-fb6b81d16412",
    "deepnote_app_coordinates": {
     "x": 0,
     "y": null,
     "w": 12,
     "h": 5
    },
    "deepnote_cell_type": "markdown"
   }
  },
  {
   "cell_type": "code",
   "metadata": {
    "tags": [],
    "cell_id": "00001-e94ea6a4-d94e-4ee9-90e9-20311be610f8",
    "deepnote_to_be_reexecuted": false,
    "source_hash": "c76c7c51",
    "execution_start": 1633316368202,
    "execution_millis": 0,
    "deepnote_app_coordinates": {
     "x": 0,
     "y": 6,
     "w": 12,
     "h": 5
    },
    "deepnote_cell_type": "code"
   },
   "source": "import pandas as pd\nimport numpy as np",
   "execution_count": null,
   "outputs": []
  },
  {
   "cell_type": "markdown",
   "source": "### Definimos df (dataframe) como nuestra dataset contenido ahí\n\nVisualizamos nuestra base de datos en df",
   "metadata": {
    "tags": [],
    "cell_id": "00002-7e398220-8bc4-44e5-8d4a-92ae0d6adb21",
    "deepnote_app_coordinates": {
     "x": 0,
     "y": 12,
     "w": 12,
     "h": 5
    },
    "deepnote_cell_type": "markdown"
   }
  },
  {
   "cell_type": "code",
   "metadata": {
    "tags": [],
    "cell_id": "00003-246fc98b-d5f2-43db-b103-f78851d5cd9e",
    "deepnote_to_be_reexecuted": false,
    "source_hash": "6552c5ea",
    "execution_start": 1633316368203,
    "execution_millis": 127,
    "deepnote_app_coordinates": {
     "x": 0,
     "y": 18,
     "w": 12,
     "h": 5
    },
    "deepnote_cell_type": "code"
   },
   "source": "df = pd.read_csv('/work/Notebooks/Titanic/Titanic - Train.csv')\ndf",
   "execution_count": null,
   "outputs": [
    {
     "output_type": "execute_result",
     "execution_count": 2,
     "data": {
      "application/vnd.deepnote.dataframe.v2+json": {
       "row_count": 891,
       "column_count": 12,
       "columns": [
        {
         "name": "PassengerId",
         "dtype": "int64",
         "stats": {
          "unique_count": 891,
          "nan_count": 0,
          "min": "1",
          "max": "891",
          "histogram": [
           {
            "bin_start": 1,
            "bin_end": 90,
            "count": 89
           },
           {
            "bin_start": 90,
            "bin_end": 179,
            "count": 89
           },
           {
            "bin_start": 179,
            "bin_end": 268,
            "count": 89
           },
           {
            "bin_start": 268,
            "bin_end": 357,
            "count": 89
           },
           {
            "bin_start": 357,
            "bin_end": 446,
            "count": 89
           },
           {
            "bin_start": 446,
            "bin_end": 535,
            "count": 89
           },
           {
            "bin_start": 535,
            "bin_end": 624,
            "count": 89
           },
           {
            "bin_start": 624,
            "bin_end": 713,
            "count": 89
           },
           {
            "bin_start": 713,
            "bin_end": 802,
            "count": 89
           },
           {
            "bin_start": 802,
            "bin_end": 891,
            "count": 90
           }
          ]
         }
        },
        {
         "name": "Survived",
         "dtype": "int64",
         "stats": {
          "unique_count": 2,
          "nan_count": 0,
          "min": "0",
          "max": "1",
          "histogram": [
           {
            "bin_start": 0,
            "bin_end": 0.1,
            "count": 549
           },
           {
            "bin_start": 0.1,
            "bin_end": 0.2,
            "count": 0
           },
           {
            "bin_start": 0.2,
            "bin_end": 0.30000000000000004,
            "count": 0
           },
           {
            "bin_start": 0.30000000000000004,
            "bin_end": 0.4,
            "count": 0
           },
           {
            "bin_start": 0.4,
            "bin_end": 0.5,
            "count": 0
           },
           {
            "bin_start": 0.5,
            "bin_end": 0.6000000000000001,
            "count": 0
           },
           {
            "bin_start": 0.6000000000000001,
            "bin_end": 0.7000000000000001,
            "count": 0
           },
           {
            "bin_start": 0.7000000000000001,
            "bin_end": 0.8,
            "count": 0
           },
           {
            "bin_start": 0.8,
            "bin_end": 0.9,
            "count": 0
           },
           {
            "bin_start": 0.9,
            "bin_end": 1,
            "count": 342
           }
          ]
         }
        },
        {
         "name": "Pclass",
         "dtype": "int64",
         "stats": {
          "unique_count": 3,
          "nan_count": 0,
          "min": "1",
          "max": "3",
          "histogram": [
           {
            "bin_start": 1,
            "bin_end": 1.2,
            "count": 216
           },
           {
            "bin_start": 1.2,
            "bin_end": 1.4,
            "count": 0
           },
           {
            "bin_start": 1.4,
            "bin_end": 1.6,
            "count": 0
           },
           {
            "bin_start": 1.6,
            "bin_end": 1.8,
            "count": 0
           },
           {
            "bin_start": 1.8,
            "bin_end": 2,
            "count": 0
           },
           {
            "bin_start": 2,
            "bin_end": 2.2,
            "count": 184
           },
           {
            "bin_start": 2.2,
            "bin_end": 2.4000000000000004,
            "count": 0
           },
           {
            "bin_start": 2.4000000000000004,
            "bin_end": 2.6,
            "count": 0
           },
           {
            "bin_start": 2.6,
            "bin_end": 2.8,
            "count": 0
           },
           {
            "bin_start": 2.8,
            "bin_end": 3,
            "count": 491
           }
          ]
         }
        },
        {
         "name": "Name",
         "dtype": "object",
         "stats": {
          "unique_count": 891,
          "nan_count": 0,
          "categories": [
           {
            "name": "Braund, Mr. Owen Harris",
            "count": 1
           },
           {
            "name": "Cumings, Mrs. John Bradley (Florence Briggs Thayer)",
            "count": 1
           },
           {
            "name": "889 others",
            "count": 889
           }
          ]
         }
        },
        {
         "name": "Sex",
         "dtype": "object",
         "stats": {
          "unique_count": 2,
          "nan_count": 0,
          "categories": [
           {
            "name": "male",
            "count": 577
           },
           {
            "name": "female",
            "count": 314
           }
          ]
         }
        },
        {
         "name": "Age",
         "dtype": "float64",
         "stats": {
          "unique_count": 88,
          "nan_count": 177,
          "min": "0.42",
          "max": "80.0",
          "histogram": [
           {
            "bin_start": 0.42,
            "bin_end": 8.378,
            "count": 54
           },
           {
            "bin_start": 8.378,
            "bin_end": 16.336000000000002,
            "count": 46
           },
           {
            "bin_start": 16.336000000000002,
            "bin_end": 24.294000000000004,
            "count": 177
           },
           {
            "bin_start": 24.294000000000004,
            "bin_end": 32.252,
            "count": 169
           },
           {
            "bin_start": 32.252,
            "bin_end": 40.21,
            "count": 118
           },
           {
            "bin_start": 40.21,
            "bin_end": 48.168000000000006,
            "count": 70
           },
           {
            "bin_start": 48.168000000000006,
            "bin_end": 56.126000000000005,
            "count": 45
           },
           {
            "bin_start": 56.126000000000005,
            "bin_end": 64.084,
            "count": 24
           },
           {
            "bin_start": 64.084,
            "bin_end": 72.042,
            "count": 9
           },
           {
            "bin_start": 72.042,
            "bin_end": 80,
            "count": 2
           }
          ]
         }
        },
        {
         "name": "SibSp",
         "dtype": "int64",
         "stats": {
          "unique_count": 7,
          "nan_count": 0,
          "min": "0",
          "max": "8",
          "histogram": [
           {
            "bin_start": 0,
            "bin_end": 0.8,
            "count": 608
           },
           {
            "bin_start": 0.8,
            "bin_end": 1.6,
            "count": 209
           },
           {
            "bin_start": 1.6,
            "bin_end": 2.4000000000000004,
            "count": 28
           },
           {
            "bin_start": 2.4000000000000004,
            "bin_end": 3.2,
            "count": 16
           },
           {
            "bin_start": 3.2,
            "bin_end": 4,
            "count": 0
           },
           {
            "bin_start": 4,
            "bin_end": 4.800000000000001,
            "count": 18
           },
           {
            "bin_start": 4.800000000000001,
            "bin_end": 5.6000000000000005,
            "count": 5
           },
           {
            "bin_start": 5.6000000000000005,
            "bin_end": 6.4,
            "count": 0
           },
           {
            "bin_start": 6.4,
            "bin_end": 7.2,
            "count": 0
           },
           {
            "bin_start": 7.2,
            "bin_end": 8,
            "count": 7
           }
          ]
         }
        },
        {
         "name": "Parch",
         "dtype": "int64",
         "stats": {
          "unique_count": 7,
          "nan_count": 0,
          "min": "0",
          "max": "6",
          "histogram": [
           {
            "bin_start": 0,
            "bin_end": 0.6,
            "count": 678
           },
           {
            "bin_start": 0.6,
            "bin_end": 1.2,
            "count": 118
           },
           {
            "bin_start": 1.2,
            "bin_end": 1.7999999999999998,
            "count": 0
           },
           {
            "bin_start": 1.7999999999999998,
            "bin_end": 2.4,
            "count": 80
           },
           {
            "bin_start": 2.4,
            "bin_end": 3,
            "count": 0
           },
           {
            "bin_start": 3,
            "bin_end": 3.5999999999999996,
            "count": 5
           },
           {
            "bin_start": 3.5999999999999996,
            "bin_end": 4.2,
            "count": 4
           },
           {
            "bin_start": 4.2,
            "bin_end": 4.8,
            "count": 0
           },
           {
            "bin_start": 4.8,
            "bin_end": 5.3999999999999995,
            "count": 5
           },
           {
            "bin_start": 5.3999999999999995,
            "bin_end": 6,
            "count": 1
           }
          ]
         }
        },
        {
         "name": "Ticket",
         "dtype": "object",
         "stats": {
          "unique_count": 681,
          "nan_count": 0,
          "categories": [
           {
            "name": "347082",
            "count": 7
           },
           {
            "name": "1601",
            "count": 7
           },
           {
            "name": "679 others",
            "count": 877
           }
          ]
         }
        },
        {
         "name": "Fare",
         "dtype": "float64",
         "stats": {
          "unique_count": 248,
          "nan_count": 0,
          "min": "0.0",
          "max": "512.3292",
          "histogram": [
           {
            "bin_start": 0,
            "bin_end": 51.23292,
            "count": 732
           },
           {
            "bin_start": 51.23292,
            "bin_end": 102.46584,
            "count": 106
           },
           {
            "bin_start": 102.46584,
            "bin_end": 153.69876,
            "count": 31
           },
           {
            "bin_start": 153.69876,
            "bin_end": 204.93168,
            "count": 2
           },
           {
            "bin_start": 204.93168,
            "bin_end": 256.1646,
            "count": 11
           },
           {
            "bin_start": 256.1646,
            "bin_end": 307.39752,
            "count": 6
           },
           {
            "bin_start": 307.39752,
            "bin_end": 358.63044,
            "count": 0
           },
           {
            "bin_start": 358.63044,
            "bin_end": 409.86336,
            "count": 0
           },
           {
            "bin_start": 409.86336,
            "bin_end": 461.09628,
            "count": 0
           },
           {
            "bin_start": 461.09628,
            "bin_end": 512.3292,
            "count": 3
           }
          ]
         }
        },
        {
         "name": "Cabin",
         "dtype": "object",
         "stats": {
          "unique_count": 147,
          "nan_count": 687,
          "categories": [
           {
            "name": "G6",
            "count": 4
           },
           {
            "name": "146 others",
            "count": 200
           },
           {
            "name": "Missing",
            "count": 687
           }
          ]
         }
        },
        {
         "name": "Embarked",
         "dtype": "object",
         "stats": {
          "unique_count": 3,
          "nan_count": 2,
          "categories": [
           {
            "name": "S",
            "count": 644
           },
           {
            "name": "2 others",
            "count": 245
           },
           {
            "name": "Missing",
            "count": 2
           }
          ]
         }
        },
        {
         "name": "_deepnote_index_column",
         "dtype": "int64"
        }
       ],
       "rows_top": [
        {
         "PassengerId": 1,
         "Survived": 0,
         "Pclass": 3,
         "Name": "Braund, Mr. Owen Harris",
         "Sex": "male",
         "Age": 22,
         "SibSp": 1,
         "Parch": 0,
         "Ticket": "A/5 21171",
         "Fare": 7.25,
         "Cabin": "nan",
         "Embarked": "S",
         "_deepnote_index_column": 0
        },
        {
         "PassengerId": 2,
         "Survived": 1,
         "Pclass": 1,
         "Name": "Cumings, Mrs. John Bradley (Florence Briggs Thayer)",
         "Sex": "female",
         "Age": 38,
         "SibSp": 1,
         "Parch": 0,
         "Ticket": "PC 17599",
         "Fare": 71.2833,
         "Cabin": "C85",
         "Embarked": "C",
         "_deepnote_index_column": 1
        },
        {
         "PassengerId": 3,
         "Survived": 1,
         "Pclass": 3,
         "Name": "Heikkinen, Miss. Laina",
         "Sex": "female",
         "Age": 26,
         "SibSp": 0,
         "Parch": 0,
         "Ticket": "STON/O2. 3101282",
         "Fare": 7.925,
         "Cabin": "nan",
         "Embarked": "S",
         "_deepnote_index_column": 2
        },
        {
         "PassengerId": 4,
         "Survived": 1,
         "Pclass": 1,
         "Name": "Futrelle, Mrs. Jacques Heath (Lily May Peel)",
         "Sex": "female",
         "Age": 35,
         "SibSp": 1,
         "Parch": 0,
         "Ticket": "113803",
         "Fare": 53.1,
         "Cabin": "C123",
         "Embarked": "S",
         "_deepnote_index_column": 3
        },
        {
         "PassengerId": 5,
         "Survived": 0,
         "Pclass": 3,
         "Name": "Allen, Mr. William Henry",
         "Sex": "male",
         "Age": 35,
         "SibSp": 0,
         "Parch": 0,
         "Ticket": "373450",
         "Fare": 8.05,
         "Cabin": "nan",
         "Embarked": "S",
         "_deepnote_index_column": 4
        },
        {
         "PassengerId": 6,
         "Survived": 0,
         "Pclass": 3,
         "Name": "Moran, Mr. James",
         "Sex": "male",
         "Age": "nan",
         "SibSp": 0,
         "Parch": 0,
         "Ticket": "330877",
         "Fare": 8.4583,
         "Cabin": "nan",
         "Embarked": "Q",
         "_deepnote_index_column": 5
        },
        {
         "PassengerId": 7,
         "Survived": 0,
         "Pclass": 1,
         "Name": "McCarthy, Mr. Timothy J",
         "Sex": "male",
         "Age": 54,
         "SibSp": 0,
         "Parch": 0,
         "Ticket": "17463",
         "Fare": 51.8625,
         "Cabin": "E46",
         "Embarked": "S",
         "_deepnote_index_column": 6
        },
        {
         "PassengerId": 8,
         "Survived": 0,
         "Pclass": 3,
         "Name": "Palsson, Master. Gosta Leonard",
         "Sex": "male",
         "Age": 2,
         "SibSp": 3,
         "Parch": 1,
         "Ticket": "349909",
         "Fare": 21.075,
         "Cabin": "nan",
         "Embarked": "S",
         "_deepnote_index_column": 7
        },
        {
         "PassengerId": 9,
         "Survived": 1,
         "Pclass": 3,
         "Name": "Johnson, Mrs. Oscar W (Elisabeth Vilhelmina Berg)",
         "Sex": "female",
         "Age": 27,
         "SibSp": 0,
         "Parch": 2,
         "Ticket": "347742",
         "Fare": 11.1333,
         "Cabin": "nan",
         "Embarked": "S",
         "_deepnote_index_column": 8
        },
        {
         "PassengerId": 10,
         "Survived": 1,
         "Pclass": 2,
         "Name": "Nasser, Mrs. Nicholas (Adele Achem)",
         "Sex": "female",
         "Age": 14,
         "SibSp": 1,
         "Parch": 0,
         "Ticket": "237736",
         "Fare": 30.0708,
         "Cabin": "nan",
         "Embarked": "C",
         "_deepnote_index_column": 9
        },
        {
         "PassengerId": 11,
         "Survived": 1,
         "Pclass": 3,
         "Name": "Sandstrom, Miss. Marguerite Rut",
         "Sex": "female",
         "Age": 4,
         "SibSp": 1,
         "Parch": 1,
         "Ticket": "PP 9549",
         "Fare": 16.7,
         "Cabin": "G6",
         "Embarked": "S",
         "_deepnote_index_column": 10
        },
        {
         "PassengerId": 12,
         "Survived": 1,
         "Pclass": 1,
         "Name": "Bonnell, Miss. Elizabeth",
         "Sex": "female",
         "Age": 58,
         "SibSp": 0,
         "Parch": 0,
         "Ticket": "113783",
         "Fare": 26.55,
         "Cabin": "C103",
         "Embarked": "S",
         "_deepnote_index_column": 11
        },
        {
         "PassengerId": 13,
         "Survived": 0,
         "Pclass": 3,
         "Name": "Saundercock, Mr. William Henry",
         "Sex": "male",
         "Age": 20,
         "SibSp": 0,
         "Parch": 0,
         "Ticket": "A/5. 2151",
         "Fare": 8.05,
         "Cabin": "nan",
         "Embarked": "S",
         "_deepnote_index_column": 12
        },
        {
         "PassengerId": 14,
         "Survived": 0,
         "Pclass": 3,
         "Name": "Andersson, Mr. Anders Johan",
         "Sex": "male",
         "Age": 39,
         "SibSp": 1,
         "Parch": 5,
         "Ticket": "347082",
         "Fare": 31.275,
         "Cabin": "nan",
         "Embarked": "S",
         "_deepnote_index_column": 13
        },
        {
         "PassengerId": 15,
         "Survived": 0,
         "Pclass": 3,
         "Name": "Vestrom, Miss. Hulda Amanda Adolfina",
         "Sex": "female",
         "Age": 14,
         "SibSp": 0,
         "Parch": 0,
         "Ticket": "350406",
         "Fare": 7.8542,
         "Cabin": "nan",
         "Embarked": "S",
         "_deepnote_index_column": 14
        },
        {
         "PassengerId": 16,
         "Survived": 1,
         "Pclass": 2,
         "Name": "Hewlett, Mrs. (Mary D Kingcome) ",
         "Sex": "female",
         "Age": 55,
         "SibSp": 0,
         "Parch": 0,
         "Ticket": "248706",
         "Fare": 16,
         "Cabin": "nan",
         "Embarked": "S",
         "_deepnote_index_column": 15
        },
        {
         "PassengerId": 17,
         "Survived": 0,
         "Pclass": 3,
         "Name": "Rice, Master. Eugene",
         "Sex": "male",
         "Age": 2,
         "SibSp": 4,
         "Parch": 1,
         "Ticket": "382652",
         "Fare": 29.125,
         "Cabin": "nan",
         "Embarked": "Q",
         "_deepnote_index_column": 16
        },
        {
         "PassengerId": 18,
         "Survived": 1,
         "Pclass": 2,
         "Name": "Williams, Mr. Charles Eugene",
         "Sex": "male",
         "Age": "nan",
         "SibSp": 0,
         "Parch": 0,
         "Ticket": "244373",
         "Fare": 13,
         "Cabin": "nan",
         "Embarked": "S",
         "_deepnote_index_column": 17
        },
        {
         "PassengerId": 19,
         "Survived": 0,
         "Pclass": 3,
         "Name": "Vander Planke, Mrs. Julius (Emelia Maria Vandemoortele)",
         "Sex": "female",
         "Age": 31,
         "SibSp": 1,
         "Parch": 0,
         "Ticket": "345763",
         "Fare": 18,
         "Cabin": "nan",
         "Embarked": "S",
         "_deepnote_index_column": 18
        },
        {
         "PassengerId": 20,
         "Survived": 1,
         "Pclass": 3,
         "Name": "Masselmani, Mrs. Fatima",
         "Sex": "female",
         "Age": "nan",
         "SibSp": 0,
         "Parch": 0,
         "Ticket": "2649",
         "Fare": 7.225,
         "Cabin": "nan",
         "Embarked": "C",
         "_deepnote_index_column": 19
        },
        {
         "PassengerId": 21,
         "Survived": 0,
         "Pclass": 2,
         "Name": "Fynney, Mr. Joseph J",
         "Sex": "male",
         "Age": 35,
         "SibSp": 0,
         "Parch": 0,
         "Ticket": "239865",
         "Fare": 26,
         "Cabin": "nan",
         "Embarked": "S",
         "_deepnote_index_column": 20
        },
        {
         "PassengerId": 22,
         "Survived": 1,
         "Pclass": 2,
         "Name": "Beesley, Mr. Lawrence",
         "Sex": "male",
         "Age": 34,
         "SibSp": 0,
         "Parch": 0,
         "Ticket": "248698",
         "Fare": 13,
         "Cabin": "D56",
         "Embarked": "S",
         "_deepnote_index_column": 21
        },
        {
         "PassengerId": 23,
         "Survived": 1,
         "Pclass": 3,
         "Name": "McGowan, Miss. Anna \"Annie\"",
         "Sex": "female",
         "Age": 15,
         "SibSp": 0,
         "Parch": 0,
         "Ticket": "330923",
         "Fare": 8.0292,
         "Cabin": "nan",
         "Embarked": "Q",
         "_deepnote_index_column": 22
        },
        {
         "PassengerId": 24,
         "Survived": 1,
         "Pclass": 1,
         "Name": "Sloper, Mr. William Thompson",
         "Sex": "male",
         "Age": 28,
         "SibSp": 0,
         "Parch": 0,
         "Ticket": "113788",
         "Fare": 35.5,
         "Cabin": "A6",
         "Embarked": "S",
         "_deepnote_index_column": 23
        },
        {
         "PassengerId": 25,
         "Survived": 0,
         "Pclass": 3,
         "Name": "Palsson, Miss. Torborg Danira",
         "Sex": "female",
         "Age": 8,
         "SibSp": 3,
         "Parch": 1,
         "Ticket": "349909",
         "Fare": 21.075,
         "Cabin": "nan",
         "Embarked": "S",
         "_deepnote_index_column": 24
        },
        {
         "PassengerId": 26,
         "Survived": 1,
         "Pclass": 3,
         "Name": "Asplund, Mrs. Carl Oscar (Selma Augusta Emilia Johansson)",
         "Sex": "female",
         "Age": 38,
         "SibSp": 1,
         "Parch": 5,
         "Ticket": "347077",
         "Fare": 31.3875,
         "Cabin": "nan",
         "Embarked": "S",
         "_deepnote_index_column": 25
        },
        {
         "PassengerId": 27,
         "Survived": 0,
         "Pclass": 3,
         "Name": "Emir, Mr. Farred Chehab",
         "Sex": "male",
         "Age": "nan",
         "SibSp": 0,
         "Parch": 0,
         "Ticket": "2631",
         "Fare": 7.225,
         "Cabin": "nan",
         "Embarked": "C",
         "_deepnote_index_column": 26
        },
        {
         "PassengerId": 28,
         "Survived": 0,
         "Pclass": 1,
         "Name": "Fortune, Mr. Charles Alexander",
         "Sex": "male",
         "Age": 19,
         "SibSp": 3,
         "Parch": 2,
         "Ticket": "19950",
         "Fare": 263,
         "Cabin": "C23 C25 C27",
         "Embarked": "S",
         "_deepnote_index_column": 27
        },
        {
         "PassengerId": 29,
         "Survived": 1,
         "Pclass": 3,
         "Name": "O'Dwyer, Miss. Ellen \"Nellie\"",
         "Sex": "female",
         "Age": "nan",
         "SibSp": 0,
         "Parch": 0,
         "Ticket": "330959",
         "Fare": 7.8792,
         "Cabin": "nan",
         "Embarked": "Q",
         "_deepnote_index_column": 28
        },
        {
         "PassengerId": 30,
         "Survived": 0,
         "Pclass": 3,
         "Name": "Todoroff, Mr. Lalio",
         "Sex": "male",
         "Age": "nan",
         "SibSp": 0,
         "Parch": 0,
         "Ticket": "349216",
         "Fare": 7.8958,
         "Cabin": "nan",
         "Embarked": "S",
         "_deepnote_index_column": 29
        },
        {
         "PassengerId": 31,
         "Survived": 0,
         "Pclass": 1,
         "Name": "Uruchurtu, Don. Manuel E",
         "Sex": "male",
         "Age": 40,
         "SibSp": 0,
         "Parch": 0,
         "Ticket": "PC 17601",
         "Fare": 27.7208,
         "Cabin": "nan",
         "Embarked": "C",
         "_deepnote_index_column": 30
        },
        {
         "PassengerId": 32,
         "Survived": 1,
         "Pclass": 1,
         "Name": "Spencer, Mrs. William Augustus (Marie Eugenie)",
         "Sex": "female",
         "Age": "nan",
         "SibSp": 1,
         "Parch": 0,
         "Ticket": "PC 17569",
         "Fare": 146.5208,
         "Cabin": "B78",
         "Embarked": "C",
         "_deepnote_index_column": 31
        },
        {
         "PassengerId": 33,
         "Survived": 1,
         "Pclass": 3,
         "Name": "Glynn, Miss. Mary Agatha",
         "Sex": "female",
         "Age": "nan",
         "SibSp": 0,
         "Parch": 0,
         "Ticket": "335677",
         "Fare": 7.75,
         "Cabin": "nan",
         "Embarked": "Q",
         "_deepnote_index_column": 32
        },
        {
         "PassengerId": 34,
         "Survived": 0,
         "Pclass": 2,
         "Name": "Wheadon, Mr. Edward H",
         "Sex": "male",
         "Age": 66,
         "SibSp": 0,
         "Parch": 0,
         "Ticket": "C.A. 24579",
         "Fare": 10.5,
         "Cabin": "nan",
         "Embarked": "S",
         "_deepnote_index_column": 33
        },
        {
         "PassengerId": 35,
         "Survived": 0,
         "Pclass": 1,
         "Name": "Meyer, Mr. Edgar Joseph",
         "Sex": "male",
         "Age": 28,
         "SibSp": 1,
         "Parch": 0,
         "Ticket": "PC 17604",
         "Fare": 82.1708,
         "Cabin": "nan",
         "Embarked": "C",
         "_deepnote_index_column": 34
        },
        {
         "PassengerId": 36,
         "Survived": 0,
         "Pclass": 1,
         "Name": "Holverson, Mr. Alexander Oskar",
         "Sex": "male",
         "Age": 42,
         "SibSp": 1,
         "Parch": 0,
         "Ticket": "113789",
         "Fare": 52,
         "Cabin": "nan",
         "Embarked": "S",
         "_deepnote_index_column": 35
        },
        {
         "PassengerId": 37,
         "Survived": 1,
         "Pclass": 3,
         "Name": "Mamee, Mr. Hanna",
         "Sex": "male",
         "Age": "nan",
         "SibSp": 0,
         "Parch": 0,
         "Ticket": "2677",
         "Fare": 7.2292,
         "Cabin": "nan",
         "Embarked": "C",
         "_deepnote_index_column": 36
        },
        {
         "PassengerId": 38,
         "Survived": 0,
         "Pclass": 3,
         "Name": "Cann, Mr. Ernest Charles",
         "Sex": "male",
         "Age": 21,
         "SibSp": 0,
         "Parch": 0,
         "Ticket": "A./5. 2152",
         "Fare": 8.05,
         "Cabin": "nan",
         "Embarked": "S",
         "_deepnote_index_column": 37
        },
        {
         "PassengerId": 39,
         "Survived": 0,
         "Pclass": 3,
         "Name": "Vander Planke, Miss. Augusta Maria",
         "Sex": "female",
         "Age": 18,
         "SibSp": 2,
         "Parch": 0,
         "Ticket": "345764",
         "Fare": 18,
         "Cabin": "nan",
         "Embarked": "S",
         "_deepnote_index_column": 38
        },
        {
         "PassengerId": 40,
         "Survived": 1,
         "Pclass": 3,
         "Name": "Nicola-Yarred, Miss. Jamila",
         "Sex": "female",
         "Age": 14,
         "SibSp": 1,
         "Parch": 0,
         "Ticket": "2651",
         "Fare": 11.2417,
         "Cabin": "nan",
         "Embarked": "C",
         "_deepnote_index_column": 39
        },
        {
         "PassengerId": 41,
         "Survived": 0,
         "Pclass": 3,
         "Name": "Ahlin, Mrs. Johan (Johanna Persdotter Larsson)",
         "Sex": "female",
         "Age": 40,
         "SibSp": 1,
         "Parch": 0,
         "Ticket": "7546",
         "Fare": 9.475,
         "Cabin": "nan",
         "Embarked": "S",
         "_deepnote_index_column": 40
        }
       ],
       "rows_bottom": [
        {
         "PassengerId": 850,
         "Survived": 1,
         "Pclass": 1,
         "Name": "Goldenberg, Mrs. Samuel L (Edwiga Grabowska)",
         "Sex": "female",
         "Age": "nan",
         "SibSp": 1,
         "Parch": 0,
         "Ticket": "17453",
         "Fare": 89.1042,
         "Cabin": "C92",
         "Embarked": "C",
         "_deepnote_index_column": 849
        },
        {
         "PassengerId": 851,
         "Survived": 0,
         "Pclass": 3,
         "Name": "Andersson, Master. Sigvard Harald Elias",
         "Sex": "male",
         "Age": 4,
         "SibSp": 4,
         "Parch": 2,
         "Ticket": "347082",
         "Fare": 31.275,
         "Cabin": "nan",
         "Embarked": "S",
         "_deepnote_index_column": 850
        },
        {
         "PassengerId": 852,
         "Survived": 0,
         "Pclass": 3,
         "Name": "Svensson, Mr. Johan",
         "Sex": "male",
         "Age": 74,
         "SibSp": 0,
         "Parch": 0,
         "Ticket": "347060",
         "Fare": 7.775,
         "Cabin": "nan",
         "Embarked": "S",
         "_deepnote_index_column": 851
        },
        {
         "PassengerId": 853,
         "Survived": 0,
         "Pclass": 3,
         "Name": "Boulos, Miss. Nourelain",
         "Sex": "female",
         "Age": 9,
         "SibSp": 1,
         "Parch": 1,
         "Ticket": "2678",
         "Fare": 15.2458,
         "Cabin": "nan",
         "Embarked": "C",
         "_deepnote_index_column": 852
        },
        {
         "PassengerId": 854,
         "Survived": 1,
         "Pclass": 1,
         "Name": "Lines, Miss. Mary Conover",
         "Sex": "female",
         "Age": 16,
         "SibSp": 0,
         "Parch": 1,
         "Ticket": "PC 17592",
         "Fare": 39.4,
         "Cabin": "D28",
         "Embarked": "S",
         "_deepnote_index_column": 853
        },
        {
         "PassengerId": 855,
         "Survived": 0,
         "Pclass": 2,
         "Name": "Carter, Mrs. Ernest Courtenay (Lilian Hughes)",
         "Sex": "female",
         "Age": 44,
         "SibSp": 1,
         "Parch": 0,
         "Ticket": "244252",
         "Fare": 26,
         "Cabin": "nan",
         "Embarked": "S",
         "_deepnote_index_column": 854
        },
        {
         "PassengerId": 856,
         "Survived": 1,
         "Pclass": 3,
         "Name": "Aks, Mrs. Sam (Leah Rosen)",
         "Sex": "female",
         "Age": 18,
         "SibSp": 0,
         "Parch": 1,
         "Ticket": "392091",
         "Fare": 9.35,
         "Cabin": "nan",
         "Embarked": "S",
         "_deepnote_index_column": 855
        },
        {
         "PassengerId": 857,
         "Survived": 1,
         "Pclass": 1,
         "Name": "Wick, Mrs. George Dennick (Mary Hitchcock)",
         "Sex": "female",
         "Age": 45,
         "SibSp": 1,
         "Parch": 1,
         "Ticket": "36928",
         "Fare": 164.8667,
         "Cabin": "nan",
         "Embarked": "S",
         "_deepnote_index_column": 856
        },
        {
         "PassengerId": 858,
         "Survived": 1,
         "Pclass": 1,
         "Name": "Daly, Mr. Peter Denis ",
         "Sex": "male",
         "Age": 51,
         "SibSp": 0,
         "Parch": 0,
         "Ticket": "113055",
         "Fare": 26.55,
         "Cabin": "E17",
         "Embarked": "S",
         "_deepnote_index_column": 857
        },
        {
         "PassengerId": 859,
         "Survived": 1,
         "Pclass": 3,
         "Name": "Baclini, Mrs. Solomon (Latifa Qurban)",
         "Sex": "female",
         "Age": 24,
         "SibSp": 0,
         "Parch": 3,
         "Ticket": "2666",
         "Fare": 19.2583,
         "Cabin": "nan",
         "Embarked": "C",
         "_deepnote_index_column": 858
        },
        {
         "PassengerId": 860,
         "Survived": 0,
         "Pclass": 3,
         "Name": "Razi, Mr. Raihed",
         "Sex": "male",
         "Age": "nan",
         "SibSp": 0,
         "Parch": 0,
         "Ticket": "2629",
         "Fare": 7.2292,
         "Cabin": "nan",
         "Embarked": "C",
         "_deepnote_index_column": 859
        },
        {
         "PassengerId": 861,
         "Survived": 0,
         "Pclass": 3,
         "Name": "Hansen, Mr. Claus Peter",
         "Sex": "male",
         "Age": 41,
         "SibSp": 2,
         "Parch": 0,
         "Ticket": "350026",
         "Fare": 14.1083,
         "Cabin": "nan",
         "Embarked": "S",
         "_deepnote_index_column": 860
        },
        {
         "PassengerId": 862,
         "Survived": 0,
         "Pclass": 2,
         "Name": "Giles, Mr. Frederick Edward",
         "Sex": "male",
         "Age": 21,
         "SibSp": 1,
         "Parch": 0,
         "Ticket": "28134",
         "Fare": 11.5,
         "Cabin": "nan",
         "Embarked": "S",
         "_deepnote_index_column": 861
        },
        {
         "PassengerId": 863,
         "Survived": 1,
         "Pclass": 1,
         "Name": "Swift, Mrs. Frederick Joel (Margaret Welles Barron)",
         "Sex": "female",
         "Age": 48,
         "SibSp": 0,
         "Parch": 0,
         "Ticket": "17466",
         "Fare": 25.9292,
         "Cabin": "D17",
         "Embarked": "S",
         "_deepnote_index_column": 862
        },
        {
         "PassengerId": 864,
         "Survived": 0,
         "Pclass": 3,
         "Name": "Sage, Miss. Dorothy Edith \"Dolly\"",
         "Sex": "female",
         "Age": "nan",
         "SibSp": 8,
         "Parch": 2,
         "Ticket": "CA. 2343",
         "Fare": 69.55,
         "Cabin": "nan",
         "Embarked": "S",
         "_deepnote_index_column": 863
        },
        {
         "PassengerId": 865,
         "Survived": 0,
         "Pclass": 2,
         "Name": "Gill, Mr. John William",
         "Sex": "male",
         "Age": 24,
         "SibSp": 0,
         "Parch": 0,
         "Ticket": "233866",
         "Fare": 13,
         "Cabin": "nan",
         "Embarked": "S",
         "_deepnote_index_column": 864
        },
        {
         "PassengerId": 866,
         "Survived": 1,
         "Pclass": 2,
         "Name": "Bystrom, Mrs. (Karolina)",
         "Sex": "female",
         "Age": 42,
         "SibSp": 0,
         "Parch": 0,
         "Ticket": "236852",
         "Fare": 13,
         "Cabin": "nan",
         "Embarked": "S",
         "_deepnote_index_column": 865
        },
        {
         "PassengerId": 867,
         "Survived": 1,
         "Pclass": 2,
         "Name": "Duran y More, Miss. Asuncion",
         "Sex": "female",
         "Age": 27,
         "SibSp": 1,
         "Parch": 0,
         "Ticket": "SC/PARIS 2149",
         "Fare": 13.8583,
         "Cabin": "nan",
         "Embarked": "C",
         "_deepnote_index_column": 866
        },
        {
         "PassengerId": 868,
         "Survived": 0,
         "Pclass": 1,
         "Name": "Roebling, Mr. Washington Augustus II",
         "Sex": "male",
         "Age": 31,
         "SibSp": 0,
         "Parch": 0,
         "Ticket": "PC 17590",
         "Fare": 50.4958,
         "Cabin": "A24",
         "Embarked": "S",
         "_deepnote_index_column": 867
        },
        {
         "PassengerId": 869,
         "Survived": 0,
         "Pclass": 3,
         "Name": "van Melkebeke, Mr. Philemon",
         "Sex": "male",
         "Age": "nan",
         "SibSp": 0,
         "Parch": 0,
         "Ticket": "345777",
         "Fare": 9.5,
         "Cabin": "nan",
         "Embarked": "S",
         "_deepnote_index_column": 868
        },
        {
         "PassengerId": 870,
         "Survived": 1,
         "Pclass": 3,
         "Name": "Johnson, Master. Harold Theodor",
         "Sex": "male",
         "Age": 4,
         "SibSp": 1,
         "Parch": 1,
         "Ticket": "347742",
         "Fare": 11.1333,
         "Cabin": "nan",
         "Embarked": "S",
         "_deepnote_index_column": 869
        },
        {
         "PassengerId": 871,
         "Survived": 0,
         "Pclass": 3,
         "Name": "Balkic, Mr. Cerin",
         "Sex": "male",
         "Age": 26,
         "SibSp": 0,
         "Parch": 0,
         "Ticket": "349248",
         "Fare": 7.8958,
         "Cabin": "nan",
         "Embarked": "S",
         "_deepnote_index_column": 870
        },
        {
         "PassengerId": 872,
         "Survived": 1,
         "Pclass": 1,
         "Name": "Beckwith, Mrs. Richard Leonard (Sallie Monypeny)",
         "Sex": "female",
         "Age": 47,
         "SibSp": 1,
         "Parch": 1,
         "Ticket": "11751",
         "Fare": 52.5542,
         "Cabin": "D35",
         "Embarked": "S",
         "_deepnote_index_column": 871
        },
        {
         "PassengerId": 873,
         "Survived": 0,
         "Pclass": 1,
         "Name": "Carlsson, Mr. Frans Olof",
         "Sex": "male",
         "Age": 33,
         "SibSp": 0,
         "Parch": 0,
         "Ticket": "695",
         "Fare": 5,
         "Cabin": "B51 B53 B55",
         "Embarked": "S",
         "_deepnote_index_column": 872
        },
        {
         "PassengerId": 874,
         "Survived": 0,
         "Pclass": 3,
         "Name": "Vander Cruyssen, Mr. Victor",
         "Sex": "male",
         "Age": 47,
         "SibSp": 0,
         "Parch": 0,
         "Ticket": "345765",
         "Fare": 9,
         "Cabin": "nan",
         "Embarked": "S",
         "_deepnote_index_column": 873
        },
        {
         "PassengerId": 875,
         "Survived": 1,
         "Pclass": 2,
         "Name": "Abelson, Mrs. Samuel (Hannah Wizosky)",
         "Sex": "female",
         "Age": 28,
         "SibSp": 1,
         "Parch": 0,
         "Ticket": "P/PP 3381",
         "Fare": 24,
         "Cabin": "nan",
         "Embarked": "C",
         "_deepnote_index_column": 874
        },
        {
         "PassengerId": 876,
         "Survived": 1,
         "Pclass": 3,
         "Name": "Najib, Miss. Adele Kiamie \"Jane\"",
         "Sex": "female",
         "Age": 15,
         "SibSp": 0,
         "Parch": 0,
         "Ticket": "2667",
         "Fare": 7.225,
         "Cabin": "nan",
         "Embarked": "C",
         "_deepnote_index_column": 875
        },
        {
         "PassengerId": 877,
         "Survived": 0,
         "Pclass": 3,
         "Name": "Gustafsson, Mr. Alfred Ossian",
         "Sex": "male",
         "Age": 20,
         "SibSp": 0,
         "Parch": 0,
         "Ticket": "7534",
         "Fare": 9.8458,
         "Cabin": "nan",
         "Embarked": "S",
         "_deepnote_index_column": 876
        },
        {
         "PassengerId": 878,
         "Survived": 0,
         "Pclass": 3,
         "Name": "Petroff, Mr. Nedelio",
         "Sex": "male",
         "Age": 19,
         "SibSp": 0,
         "Parch": 0,
         "Ticket": "349212",
         "Fare": 7.8958,
         "Cabin": "nan",
         "Embarked": "S",
         "_deepnote_index_column": 877
        },
        {
         "PassengerId": 879,
         "Survived": 0,
         "Pclass": 3,
         "Name": "Laleff, Mr. Kristo",
         "Sex": "male",
         "Age": "nan",
         "SibSp": 0,
         "Parch": 0,
         "Ticket": "349217",
         "Fare": 7.8958,
         "Cabin": "nan",
         "Embarked": "S",
         "_deepnote_index_column": 878
        },
        {
         "PassengerId": 880,
         "Survived": 1,
         "Pclass": 1,
         "Name": "Potter, Mrs. Thomas Jr (Lily Alexenia Wilson)",
         "Sex": "female",
         "Age": 56,
         "SibSp": 0,
         "Parch": 1,
         "Ticket": "11767",
         "Fare": 83.1583,
         "Cabin": "C50",
         "Embarked": "C",
         "_deepnote_index_column": 879
        },
        {
         "PassengerId": 881,
         "Survived": 1,
         "Pclass": 2,
         "Name": "Shelley, Mrs. William (Imanita Parrish Hall)",
         "Sex": "female",
         "Age": 25,
         "SibSp": 0,
         "Parch": 1,
         "Ticket": "230433",
         "Fare": 26,
         "Cabin": "nan",
         "Embarked": "S",
         "_deepnote_index_column": 880
        },
        {
         "PassengerId": 882,
         "Survived": 0,
         "Pclass": 3,
         "Name": "Markun, Mr. Johann",
         "Sex": "male",
         "Age": 33,
         "SibSp": 0,
         "Parch": 0,
         "Ticket": "349257",
         "Fare": 7.8958,
         "Cabin": "nan",
         "Embarked": "S",
         "_deepnote_index_column": 881
        },
        {
         "PassengerId": 883,
         "Survived": 0,
         "Pclass": 3,
         "Name": "Dahlberg, Miss. Gerda Ulrika",
         "Sex": "female",
         "Age": 22,
         "SibSp": 0,
         "Parch": 0,
         "Ticket": "7552",
         "Fare": 10.5167,
         "Cabin": "nan",
         "Embarked": "S",
         "_deepnote_index_column": 882
        },
        {
         "PassengerId": 884,
         "Survived": 0,
         "Pclass": 2,
         "Name": "Banfield, Mr. Frederick James",
         "Sex": "male",
         "Age": 28,
         "SibSp": 0,
         "Parch": 0,
         "Ticket": "C.A./SOTON 34068",
         "Fare": 10.5,
         "Cabin": "nan",
         "Embarked": "S",
         "_deepnote_index_column": 883
        },
        {
         "PassengerId": 885,
         "Survived": 0,
         "Pclass": 3,
         "Name": "Sutehall, Mr. Henry Jr",
         "Sex": "male",
         "Age": 25,
         "SibSp": 0,
         "Parch": 0,
         "Ticket": "SOTON/OQ 392076",
         "Fare": 7.05,
         "Cabin": "nan",
         "Embarked": "S",
         "_deepnote_index_column": 884
        },
        {
         "PassengerId": 886,
         "Survived": 0,
         "Pclass": 3,
         "Name": "Rice, Mrs. William (Margaret Norton)",
         "Sex": "female",
         "Age": 39,
         "SibSp": 0,
         "Parch": 5,
         "Ticket": "382652",
         "Fare": 29.125,
         "Cabin": "nan",
         "Embarked": "Q",
         "_deepnote_index_column": 885
        },
        {
         "PassengerId": 887,
         "Survived": 0,
         "Pclass": 2,
         "Name": "Montvila, Rev. Juozas",
         "Sex": "male",
         "Age": 27,
         "SibSp": 0,
         "Parch": 0,
         "Ticket": "211536",
         "Fare": 13,
         "Cabin": "nan",
         "Embarked": "S",
         "_deepnote_index_column": 886
        },
        {
         "PassengerId": 888,
         "Survived": 1,
         "Pclass": 1,
         "Name": "Graham, Miss. Margaret Edith",
         "Sex": "female",
         "Age": 19,
         "SibSp": 0,
         "Parch": 0,
         "Ticket": "112053",
         "Fare": 30,
         "Cabin": "B42",
         "Embarked": "S",
         "_deepnote_index_column": 887
        },
        {
         "PassengerId": 889,
         "Survived": 0,
         "Pclass": 3,
         "Name": "Johnston, Miss. Catherine Helen \"Carrie\"",
         "Sex": "female",
         "Age": "nan",
         "SibSp": 1,
         "Parch": 2,
         "Ticket": "W./C. 6607",
         "Fare": 23.45,
         "Cabin": "nan",
         "Embarked": "S",
         "_deepnote_index_column": 888
        },
        {
         "PassengerId": 890,
         "Survived": 1,
         "Pclass": 1,
         "Name": "Behr, Mr. Karl Howell",
         "Sex": "male",
         "Age": 26,
         "SibSp": 0,
         "Parch": 0,
         "Ticket": "111369",
         "Fare": 30,
         "Cabin": "C148",
         "Embarked": "C",
         "_deepnote_index_column": 889
        },
        {
         "PassengerId": 891,
         "Survived": 0,
         "Pclass": 3,
         "Name": "Dooley, Mr. Patrick",
         "Sex": "male",
         "Age": 32,
         "SibSp": 0,
         "Parch": 0,
         "Ticket": "370376",
         "Fare": 7.75,
         "Cabin": "nan",
         "Embarked": "Q",
         "_deepnote_index_column": 890
        }
       ]
      },
      "text/plain": "     PassengerId  Survived  Pclass  \\\n0              1         0       3   \n1              2         1       1   \n2              3         1       3   \n3              4         1       1   \n4              5         0       3   \n..           ...       ...     ...   \n886          887         0       2   \n887          888         1       1   \n888          889         0       3   \n889          890         1       1   \n890          891         0       3   \n\n                                                  Name     Sex   Age  SibSp  \\\n0                              Braund, Mr. Owen Harris    male  22.0      1   \n1    Cumings, Mrs. John Bradley (Florence Briggs Th...  female  38.0      1   \n2                               Heikkinen, Miss. Laina  female  26.0      0   \n3         Futrelle, Mrs. Jacques Heath (Lily May Peel)  female  35.0      1   \n4                             Allen, Mr. William Henry    male  35.0      0   \n..                                                 ...     ...   ...    ...   \n886                              Montvila, Rev. Juozas    male  27.0      0   \n887                       Graham, Miss. Margaret Edith  female  19.0      0   \n888           Johnston, Miss. Catherine Helen \"Carrie\"  female   NaN      1   \n889                              Behr, Mr. Karl Howell    male  26.0      0   \n890                                Dooley, Mr. Patrick    male  32.0      0   \n\n     Parch            Ticket     Fare Cabin Embarked  \n0        0         A/5 21171   7.2500   NaN        S  \n1        0          PC 17599  71.2833   C85        C  \n2        0  STON/O2. 3101282   7.9250   NaN        S  \n3        0            113803  53.1000  C123        S  \n4        0            373450   8.0500   NaN        S  \n..     ...               ...      ...   ...      ...  \n886      0            211536  13.0000   NaN        S  \n887      0            112053  30.0000   B42        S  \n888      2        W./C. 6607  23.4500   NaN        S  \n889      0            111369  30.0000  C148        C  \n890      0            370376   7.7500   NaN        Q  \n\n[891 rows x 12 columns]",
      "text/html": "<div>\n<style scoped>\n    .dataframe tbody tr th:only-of-type {\n        vertical-align: middle;\n    }\n\n    .dataframe tbody tr th {\n        vertical-align: top;\n    }\n\n    .dataframe thead th {\n        text-align: right;\n    }\n</style>\n<table border=\"1\" class=\"dataframe\">\n  <thead>\n    <tr style=\"text-align: right;\">\n      <th></th>\n      <th>PassengerId</th>\n      <th>Survived</th>\n      <th>Pclass</th>\n      <th>Name</th>\n      <th>Sex</th>\n      <th>Age</th>\n      <th>SibSp</th>\n      <th>Parch</th>\n      <th>Ticket</th>\n      <th>Fare</th>\n      <th>Cabin</th>\n      <th>Embarked</th>\n    </tr>\n  </thead>\n  <tbody>\n    <tr>\n      <th>0</th>\n      <td>1</td>\n      <td>0</td>\n      <td>3</td>\n      <td>Braund, Mr. Owen Harris</td>\n      <td>male</td>\n      <td>22.0</td>\n      <td>1</td>\n      <td>0</td>\n      <td>A/5 21171</td>\n      <td>7.2500</td>\n      <td>NaN</td>\n      <td>S</td>\n    </tr>\n    <tr>\n      <th>1</th>\n      <td>2</td>\n      <td>1</td>\n      <td>1</td>\n      <td>Cumings, Mrs. John Bradley (Florence Briggs Th...</td>\n      <td>female</td>\n      <td>38.0</td>\n      <td>1</td>\n      <td>0</td>\n      <td>PC 17599</td>\n      <td>71.2833</td>\n      <td>C85</td>\n      <td>C</td>\n    </tr>\n    <tr>\n      <th>2</th>\n      <td>3</td>\n      <td>1</td>\n      <td>3</td>\n      <td>Heikkinen, Miss. Laina</td>\n      <td>female</td>\n      <td>26.0</td>\n      <td>0</td>\n      <td>0</td>\n      <td>STON/O2. 3101282</td>\n      <td>7.9250</td>\n      <td>NaN</td>\n      <td>S</td>\n    </tr>\n    <tr>\n      <th>3</th>\n      <td>4</td>\n      <td>1</td>\n      <td>1</td>\n      <td>Futrelle, Mrs. Jacques Heath (Lily May Peel)</td>\n      <td>female</td>\n      <td>35.0</td>\n      <td>1</td>\n      <td>0</td>\n      <td>113803</td>\n      <td>53.1000</td>\n      <td>C123</td>\n      <td>S</td>\n    </tr>\n    <tr>\n      <th>4</th>\n      <td>5</td>\n      <td>0</td>\n      <td>3</td>\n      <td>Allen, Mr. William Henry</td>\n      <td>male</td>\n      <td>35.0</td>\n      <td>0</td>\n      <td>0</td>\n      <td>373450</td>\n      <td>8.0500</td>\n      <td>NaN</td>\n      <td>S</td>\n    </tr>\n    <tr>\n      <th>...</th>\n      <td>...</td>\n      <td>...</td>\n      <td>...</td>\n      <td>...</td>\n      <td>...</td>\n      <td>...</td>\n      <td>...</td>\n      <td>...</td>\n      <td>...</td>\n      <td>...</td>\n      <td>...</td>\n      <td>...</td>\n    </tr>\n    <tr>\n      <th>886</th>\n      <td>887</td>\n      <td>0</td>\n      <td>2</td>\n      <td>Montvila, Rev. Juozas</td>\n      <td>male</td>\n      <td>27.0</td>\n      <td>0</td>\n      <td>0</td>\n      <td>211536</td>\n      <td>13.0000</td>\n      <td>NaN</td>\n      <td>S</td>\n    </tr>\n    <tr>\n      <th>887</th>\n      <td>888</td>\n      <td>1</td>\n      <td>1</td>\n      <td>Graham, Miss. Margaret Edith</td>\n      <td>female</td>\n      <td>19.0</td>\n      <td>0</td>\n      <td>0</td>\n      <td>112053</td>\n      <td>30.0000</td>\n      <td>B42</td>\n      <td>S</td>\n    </tr>\n    <tr>\n      <th>888</th>\n      <td>889</td>\n      <td>0</td>\n      <td>3</td>\n      <td>Johnston, Miss. Catherine Helen \"Carrie\"</td>\n      <td>female</td>\n      <td>NaN</td>\n      <td>1</td>\n      <td>2</td>\n      <td>W./C. 6607</td>\n      <td>23.4500</td>\n      <td>NaN</td>\n      <td>S</td>\n    </tr>\n    <tr>\n      <th>889</th>\n      <td>890</td>\n      <td>1</td>\n      <td>1</td>\n      <td>Behr, Mr. Karl Howell</td>\n      <td>male</td>\n      <td>26.0</td>\n      <td>0</td>\n      <td>0</td>\n      <td>111369</td>\n      <td>30.0000</td>\n      <td>C148</td>\n      <td>C</td>\n    </tr>\n    <tr>\n      <th>890</th>\n      <td>891</td>\n      <td>0</td>\n      <td>3</td>\n      <td>Dooley, Mr. Patrick</td>\n      <td>male</td>\n      <td>32.0</td>\n      <td>0</td>\n      <td>0</td>\n      <td>370376</td>\n      <td>7.7500</td>\n      <td>NaN</td>\n      <td>Q</td>\n    </tr>\n  </tbody>\n</table>\n<p>891 rows × 12 columns</p>\n</div>"
     },
     "metadata": {}
    }
   ]
  },
  {
   "cell_type": "markdown",
   "source": "### Utilizamos los métodos .head y .tail para visualizar nuestro dataset de pie a cabeza\n\ndf.head(n) => Presenta las primeras 'n' filas del dataframe (base de datos)\n\ndf.tail(n) => Presenta las últimas 'n' filas del dataframe (base de datos)",
   "metadata": {
    "tags": [],
    "cell_id": "00004-c965b0a8-e146-4e81-94e7-989f300051ec",
    "deepnote_app_coordinates": {
     "x": 0,
     "y": 24,
     "w": 12,
     "h": 5
    },
    "deepnote_cell_type": "markdown"
   }
  },
  {
   "cell_type": "code",
   "metadata": {
    "tags": [],
    "cell_id": "00005-68906915-7f0d-42b1-8fae-bb7db0b2abfd",
    "deepnote_to_be_reexecuted": false,
    "source_hash": "e640778",
    "execution_start": 1633316368414,
    "execution_millis": 9,
    "deepnote_app_coordinates": {
     "x": 0,
     "y": 30,
     "w": 12,
     "h": 5
    },
    "deepnote_cell_type": "code"
   },
   "source": "df.head(7)",
   "execution_count": null,
   "outputs": [
    {
     "output_type": "execute_result",
     "execution_count": 3,
     "data": {
      "application/vnd.deepnote.dataframe.v2+json": {
       "row_count": 7,
       "column_count": 12,
       "columns": [
        {
         "name": "PassengerId",
         "dtype": "int64",
         "stats": {
          "unique_count": 7,
          "nan_count": 0,
          "min": "1",
          "max": "7",
          "histogram": [
           {
            "bin_start": 1,
            "bin_end": 1.6,
            "count": 1
           },
           {
            "bin_start": 1.6,
            "bin_end": 2.2,
            "count": 1
           },
           {
            "bin_start": 2.2,
            "bin_end": 2.8,
            "count": 0
           },
           {
            "bin_start": 2.8,
            "bin_end": 3.4,
            "count": 1
           },
           {
            "bin_start": 3.4,
            "bin_end": 4,
            "count": 0
           },
           {
            "bin_start": 4,
            "bin_end": 4.6,
            "count": 1
           },
           {
            "bin_start": 4.6,
            "bin_end": 5.2,
            "count": 1
           },
           {
            "bin_start": 5.2,
            "bin_end": 5.8,
            "count": 0
           },
           {
            "bin_start": 5.8,
            "bin_end": 6.3999999999999995,
            "count": 1
           },
           {
            "bin_start": 6.3999999999999995,
            "bin_end": 7,
            "count": 1
           }
          ]
         }
        },
        {
         "name": "Survived",
         "dtype": "int64",
         "stats": {
          "unique_count": 2,
          "nan_count": 0,
          "min": "0",
          "max": "1",
          "histogram": [
           {
            "bin_start": 0,
            "bin_end": 0.1,
            "count": 4
           },
           {
            "bin_start": 0.1,
            "bin_end": 0.2,
            "count": 0
           },
           {
            "bin_start": 0.2,
            "bin_end": 0.30000000000000004,
            "count": 0
           },
           {
            "bin_start": 0.30000000000000004,
            "bin_end": 0.4,
            "count": 0
           },
           {
            "bin_start": 0.4,
            "bin_end": 0.5,
            "count": 0
           },
           {
            "bin_start": 0.5,
            "bin_end": 0.6000000000000001,
            "count": 0
           },
           {
            "bin_start": 0.6000000000000001,
            "bin_end": 0.7000000000000001,
            "count": 0
           },
           {
            "bin_start": 0.7000000000000001,
            "bin_end": 0.8,
            "count": 0
           },
           {
            "bin_start": 0.8,
            "bin_end": 0.9,
            "count": 0
           },
           {
            "bin_start": 0.9,
            "bin_end": 1,
            "count": 3
           }
          ]
         }
        },
        {
         "name": "Pclass",
         "dtype": "int64",
         "stats": {
          "unique_count": 2,
          "nan_count": 0,
          "min": "1",
          "max": "3",
          "histogram": [
           {
            "bin_start": 1,
            "bin_end": 1.2,
            "count": 3
           },
           {
            "bin_start": 1.2,
            "bin_end": 1.4,
            "count": 0
           },
           {
            "bin_start": 1.4,
            "bin_end": 1.6,
            "count": 0
           },
           {
            "bin_start": 1.6,
            "bin_end": 1.8,
            "count": 0
           },
           {
            "bin_start": 1.8,
            "bin_end": 2,
            "count": 0
           },
           {
            "bin_start": 2,
            "bin_end": 2.2,
            "count": 0
           },
           {
            "bin_start": 2.2,
            "bin_end": 2.4000000000000004,
            "count": 0
           },
           {
            "bin_start": 2.4000000000000004,
            "bin_end": 2.6,
            "count": 0
           },
           {
            "bin_start": 2.6,
            "bin_end": 2.8,
            "count": 0
           },
           {
            "bin_start": 2.8,
            "bin_end": 3,
            "count": 4
           }
          ]
         }
        },
        {
         "name": "Name",
         "dtype": "object",
         "stats": {
          "unique_count": 7,
          "nan_count": 0,
          "categories": [
           {
            "name": "Braund, Mr. Owen Harris",
            "count": 1
           },
           {
            "name": "Cumings, Mrs. John Bradley (Florence Briggs Thayer)",
            "count": 1
           },
           {
            "name": "5 others",
            "count": 5
           }
          ]
         }
        },
        {
         "name": "Sex",
         "dtype": "object",
         "stats": {
          "unique_count": 2,
          "nan_count": 0,
          "categories": [
           {
            "name": "male",
            "count": 4
           },
           {
            "name": "female",
            "count": 3
           }
          ]
         }
        },
        {
         "name": "Age",
         "dtype": "float64",
         "stats": {
          "unique_count": 5,
          "nan_count": 1,
          "min": "22.0",
          "max": "54.0",
          "histogram": [
           {
            "bin_start": 22,
            "bin_end": 25.2,
            "count": 1
           },
           {
            "bin_start": 25.2,
            "bin_end": 28.4,
            "count": 1
           },
           {
            "bin_start": 28.4,
            "bin_end": 31.6,
            "count": 0
           },
           {
            "bin_start": 31.6,
            "bin_end": 34.8,
            "count": 0
           },
           {
            "bin_start": 34.8,
            "bin_end": 38,
            "count": 2
           },
           {
            "bin_start": 38,
            "bin_end": 41.2,
            "count": 1
           },
           {
            "bin_start": 41.2,
            "bin_end": 44.400000000000006,
            "count": 0
           },
           {
            "bin_start": 44.400000000000006,
            "bin_end": 47.6,
            "count": 0
           },
           {
            "bin_start": 47.6,
            "bin_end": 50.8,
            "count": 0
           },
           {
            "bin_start": 50.8,
            "bin_end": 54,
            "count": 1
           }
          ]
         }
        },
        {
         "name": "SibSp",
         "dtype": "int64",
         "stats": {
          "unique_count": 2,
          "nan_count": 0,
          "min": "0",
          "max": "1",
          "histogram": [
           {
            "bin_start": 0,
            "bin_end": 0.1,
            "count": 4
           },
           {
            "bin_start": 0.1,
            "bin_end": 0.2,
            "count": 0
           },
           {
            "bin_start": 0.2,
            "bin_end": 0.30000000000000004,
            "count": 0
           },
           {
            "bin_start": 0.30000000000000004,
            "bin_end": 0.4,
            "count": 0
           },
           {
            "bin_start": 0.4,
            "bin_end": 0.5,
            "count": 0
           },
           {
            "bin_start": 0.5,
            "bin_end": 0.6000000000000001,
            "count": 0
           },
           {
            "bin_start": 0.6000000000000001,
            "bin_end": 0.7000000000000001,
            "count": 0
           },
           {
            "bin_start": 0.7000000000000001,
            "bin_end": 0.8,
            "count": 0
           },
           {
            "bin_start": 0.8,
            "bin_end": 0.9,
            "count": 0
           },
           {
            "bin_start": 0.9,
            "bin_end": 1,
            "count": 3
           }
          ]
         }
        },
        {
         "name": "Parch",
         "dtype": "int64",
         "stats": {
          "unique_count": 1,
          "nan_count": 0,
          "min": "0",
          "max": "0",
          "histogram": [
           {
            "bin_start": -0.5,
            "bin_end": -0.4,
            "count": 0
           },
           {
            "bin_start": -0.4,
            "bin_end": -0.3,
            "count": 0
           },
           {
            "bin_start": -0.3,
            "bin_end": -0.19999999999999996,
            "count": 0
           },
           {
            "bin_start": -0.19999999999999996,
            "bin_end": -0.09999999999999998,
            "count": 0
           },
           {
            "bin_start": -0.09999999999999998,
            "bin_end": 0,
            "count": 0
           },
           {
            "bin_start": 0,
            "bin_end": 0.10000000000000009,
            "count": 7
           },
           {
            "bin_start": 0.10000000000000009,
            "bin_end": 0.20000000000000007,
            "count": 0
           },
           {
            "bin_start": 0.20000000000000007,
            "bin_end": 0.30000000000000004,
            "count": 0
           },
           {
            "bin_start": 0.30000000000000004,
            "bin_end": 0.4,
            "count": 0
           },
           {
            "bin_start": 0.4,
            "bin_end": 0.5,
            "count": 0
           }
          ]
         }
        },
        {
         "name": "Ticket",
         "dtype": "object",
         "stats": {
          "unique_count": 7,
          "nan_count": 0,
          "categories": [
           {
            "name": "A/5 21171",
            "count": 1
           },
           {
            "name": "PC 17599",
            "count": 1
           },
           {
            "name": "5 others",
            "count": 5
           }
          ]
         }
        },
        {
         "name": "Fare",
         "dtype": "float64",
         "stats": {
          "unique_count": 7,
          "nan_count": 0,
          "min": "7.25",
          "max": "71.2833",
          "histogram": [
           {
            "bin_start": 7.25,
            "bin_end": 13.65333,
            "count": 4
           },
           {
            "bin_start": 13.65333,
            "bin_end": 20.05666,
            "count": 0
           },
           {
            "bin_start": 20.05666,
            "bin_end": 26.459989999999998,
            "count": 0
           },
           {
            "bin_start": 26.459989999999998,
            "bin_end": 32.86332,
            "count": 0
           },
           {
            "bin_start": 32.86332,
            "bin_end": 39.26665,
            "count": 0
           },
           {
            "bin_start": 39.26665,
            "bin_end": 45.669979999999995,
            "count": 0
           },
           {
            "bin_start": 45.669979999999995,
            "bin_end": 52.07331,
            "count": 1
           },
           {
            "bin_start": 52.07331,
            "bin_end": 58.476639999999996,
            "count": 1
           },
           {
            "bin_start": 58.476639999999996,
            "bin_end": 64.87996999999999,
            "count": 0
           },
           {
            "bin_start": 64.87996999999999,
            "bin_end": 71.2833,
            "count": 1
           }
          ]
         }
        },
        {
         "name": "Cabin",
         "dtype": "object",
         "stats": {
          "unique_count": 3,
          "nan_count": 4,
          "categories": [
           {
            "name": "C85",
            "count": 1
           },
           {
            "name": "2 others",
            "count": 2
           },
           {
            "name": "Missing",
            "count": 4
           }
          ]
         }
        },
        {
         "name": "Embarked",
         "dtype": "object",
         "stats": {
          "unique_count": 3,
          "nan_count": 0,
          "categories": [
           {
            "name": "S",
            "count": 5
           },
           {
            "name": "C",
            "count": 1
           },
           {
            "name": "Q",
            "count": 1
           }
          ]
         }
        },
        {
         "name": "_deepnote_index_column",
         "dtype": "int64"
        }
       ],
       "rows_top": [
        {
         "PassengerId": 1,
         "Survived": 0,
         "Pclass": 3,
         "Name": "Braund, Mr. Owen Harris",
         "Sex": "male",
         "Age": 22,
         "SibSp": 1,
         "Parch": 0,
         "Ticket": "A/5 21171",
         "Fare": 7.25,
         "Cabin": "nan",
         "Embarked": "S",
         "_deepnote_index_column": 0
        },
        {
         "PassengerId": 2,
         "Survived": 1,
         "Pclass": 1,
         "Name": "Cumings, Mrs. John Bradley (Florence Briggs Thayer)",
         "Sex": "female",
         "Age": 38,
         "SibSp": 1,
         "Parch": 0,
         "Ticket": "PC 17599",
         "Fare": 71.2833,
         "Cabin": "C85",
         "Embarked": "C",
         "_deepnote_index_column": 1
        },
        {
         "PassengerId": 3,
         "Survived": 1,
         "Pclass": 3,
         "Name": "Heikkinen, Miss. Laina",
         "Sex": "female",
         "Age": 26,
         "SibSp": 0,
         "Parch": 0,
         "Ticket": "STON/O2. 3101282",
         "Fare": 7.925,
         "Cabin": "nan",
         "Embarked": "S",
         "_deepnote_index_column": 2
        },
        {
         "PassengerId": 4,
         "Survived": 1,
         "Pclass": 1,
         "Name": "Futrelle, Mrs. Jacques Heath (Lily May Peel)",
         "Sex": "female",
         "Age": 35,
         "SibSp": 1,
         "Parch": 0,
         "Ticket": "113803",
         "Fare": 53.1,
         "Cabin": "C123",
         "Embarked": "S",
         "_deepnote_index_column": 3
        },
        {
         "PassengerId": 5,
         "Survived": 0,
         "Pclass": 3,
         "Name": "Allen, Mr. William Henry",
         "Sex": "male",
         "Age": 35,
         "SibSp": 0,
         "Parch": 0,
         "Ticket": "373450",
         "Fare": 8.05,
         "Cabin": "nan",
         "Embarked": "S",
         "_deepnote_index_column": 4
        },
        {
         "PassengerId": 6,
         "Survived": 0,
         "Pclass": 3,
         "Name": "Moran, Mr. James",
         "Sex": "male",
         "Age": "nan",
         "SibSp": 0,
         "Parch": 0,
         "Ticket": "330877",
         "Fare": 8.4583,
         "Cabin": "nan",
         "Embarked": "Q",
         "_deepnote_index_column": 5
        },
        {
         "PassengerId": 7,
         "Survived": 0,
         "Pclass": 1,
         "Name": "McCarthy, Mr. Timothy J",
         "Sex": "male",
         "Age": 54,
         "SibSp": 0,
         "Parch": 0,
         "Ticket": "17463",
         "Fare": 51.8625,
         "Cabin": "E46",
         "Embarked": "S",
         "_deepnote_index_column": 6
        }
       ],
       "rows_bottom": null
      },
      "text/plain": "   PassengerId  Survived  Pclass  \\\n0            1         0       3   \n1            2         1       1   \n2            3         1       3   \n3            4         1       1   \n4            5         0       3   \n5            6         0       3   \n6            7         0       1   \n\n                                                Name     Sex   Age  SibSp  \\\n0                            Braund, Mr. Owen Harris    male  22.0      1   \n1  Cumings, Mrs. John Bradley (Florence Briggs Th...  female  38.0      1   \n2                             Heikkinen, Miss. Laina  female  26.0      0   \n3       Futrelle, Mrs. Jacques Heath (Lily May Peel)  female  35.0      1   \n4                           Allen, Mr. William Henry    male  35.0      0   \n5                                   Moran, Mr. James    male   NaN      0   \n6                            McCarthy, Mr. Timothy J    male  54.0      0   \n\n   Parch            Ticket     Fare Cabin Embarked  \n0      0         A/5 21171   7.2500   NaN        S  \n1      0          PC 17599  71.2833   C85        C  \n2      0  STON/O2. 3101282   7.9250   NaN        S  \n3      0            113803  53.1000  C123        S  \n4      0            373450   8.0500   NaN        S  \n5      0            330877   8.4583   NaN        Q  \n6      0             17463  51.8625   E46        S  ",
      "text/html": "<div>\n<style scoped>\n    .dataframe tbody tr th:only-of-type {\n        vertical-align: middle;\n    }\n\n    .dataframe tbody tr th {\n        vertical-align: top;\n    }\n\n    .dataframe thead th {\n        text-align: right;\n    }\n</style>\n<table border=\"1\" class=\"dataframe\">\n  <thead>\n    <tr style=\"text-align: right;\">\n      <th></th>\n      <th>PassengerId</th>\n      <th>Survived</th>\n      <th>Pclass</th>\n      <th>Name</th>\n      <th>Sex</th>\n      <th>Age</th>\n      <th>SibSp</th>\n      <th>Parch</th>\n      <th>Ticket</th>\n      <th>Fare</th>\n      <th>Cabin</th>\n      <th>Embarked</th>\n    </tr>\n  </thead>\n  <tbody>\n    <tr>\n      <th>0</th>\n      <td>1</td>\n      <td>0</td>\n      <td>3</td>\n      <td>Braund, Mr. Owen Harris</td>\n      <td>male</td>\n      <td>22.0</td>\n      <td>1</td>\n      <td>0</td>\n      <td>A/5 21171</td>\n      <td>7.2500</td>\n      <td>NaN</td>\n      <td>S</td>\n    </tr>\n    <tr>\n      <th>1</th>\n      <td>2</td>\n      <td>1</td>\n      <td>1</td>\n      <td>Cumings, Mrs. John Bradley (Florence Briggs Th...</td>\n      <td>female</td>\n      <td>38.0</td>\n      <td>1</td>\n      <td>0</td>\n      <td>PC 17599</td>\n      <td>71.2833</td>\n      <td>C85</td>\n      <td>C</td>\n    </tr>\n    <tr>\n      <th>2</th>\n      <td>3</td>\n      <td>1</td>\n      <td>3</td>\n      <td>Heikkinen, Miss. Laina</td>\n      <td>female</td>\n      <td>26.0</td>\n      <td>0</td>\n      <td>0</td>\n      <td>STON/O2. 3101282</td>\n      <td>7.9250</td>\n      <td>NaN</td>\n      <td>S</td>\n    </tr>\n    <tr>\n      <th>3</th>\n      <td>4</td>\n      <td>1</td>\n      <td>1</td>\n      <td>Futrelle, Mrs. Jacques Heath (Lily May Peel)</td>\n      <td>female</td>\n      <td>35.0</td>\n      <td>1</td>\n      <td>0</td>\n      <td>113803</td>\n      <td>53.1000</td>\n      <td>C123</td>\n      <td>S</td>\n    </tr>\n    <tr>\n      <th>4</th>\n      <td>5</td>\n      <td>0</td>\n      <td>3</td>\n      <td>Allen, Mr. William Henry</td>\n      <td>male</td>\n      <td>35.0</td>\n      <td>0</td>\n      <td>0</td>\n      <td>373450</td>\n      <td>8.0500</td>\n      <td>NaN</td>\n      <td>S</td>\n    </tr>\n    <tr>\n      <th>5</th>\n      <td>6</td>\n      <td>0</td>\n      <td>3</td>\n      <td>Moran, Mr. James</td>\n      <td>male</td>\n      <td>NaN</td>\n      <td>0</td>\n      <td>0</td>\n      <td>330877</td>\n      <td>8.4583</td>\n      <td>NaN</td>\n      <td>Q</td>\n    </tr>\n    <tr>\n      <th>6</th>\n      <td>7</td>\n      <td>0</td>\n      <td>1</td>\n      <td>McCarthy, Mr. Timothy J</td>\n      <td>male</td>\n      <td>54.0</td>\n      <td>0</td>\n      <td>0</td>\n      <td>17463</td>\n      <td>51.8625</td>\n      <td>E46</td>\n      <td>S</td>\n    </tr>\n  </tbody>\n</table>\n</div>"
     },
     "metadata": {}
    }
   ]
  },
  {
   "cell_type": "markdown",
   "source": "### Reemplazamos la cabecera de nuestro dataset utilizando el método .columns para que sea más fácil de entender los datos para nosotros\n\ndf.columns => Reemplaza los títulos de las columnas de nuestras variables",
   "metadata": {
    "tags": [],
    "cell_id": "00006-a128c0a2-3d24-4e31-9dd9-584d2ffafa4b",
    "deepnote_app_coordinates": {
     "x": 0,
     "y": 36,
     "w": 12,
     "h": 5
    },
    "deepnote_cell_type": "markdown"
   }
  },
  {
   "cell_type": "code",
   "metadata": {
    "tags": [],
    "cell_id": "00007-d6c76dd9-e4c3-42ed-81a1-b95b05d30781",
    "deepnote_to_be_reexecuted": false,
    "source_hash": "61f3be90",
    "execution_start": 1633316368428,
    "execution_millis": 93,
    "deepnote_app_coordinates": {
     "x": 0,
     "y": 42,
     "w": 12,
     "h": 5
    },
    "deepnote_cell_type": "code"
   },
   "source": "cabecera = [\"ID\",\"Sobrevivientes\",\"Clases\",\"Nombres\",\"Género\",\"Edad\",\"Hermanos\",\"Hijos\",\"Ticket\",\"Tarifa\",\"Cabina\",\"Embarque\"]\n\ndf.columns = cabecera\ndf.head()",
   "execution_count": null,
   "outputs": [
    {
     "output_type": "execute_result",
     "execution_count": 4,
     "data": {
      "application/vnd.deepnote.dataframe.v2+json": {
       "row_count": 5,
       "column_count": 12,
       "columns": [
        {
         "name": "ID",
         "dtype": "int64",
         "stats": {
          "unique_count": 5,
          "nan_count": 0,
          "min": "1",
          "max": "5",
          "histogram": [
           {
            "bin_start": 1,
            "bin_end": 1.4,
            "count": 1
           },
           {
            "bin_start": 1.4,
            "bin_end": 1.8,
            "count": 0
           },
           {
            "bin_start": 1.8,
            "bin_end": 2.2,
            "count": 1
           },
           {
            "bin_start": 2.2,
            "bin_end": 2.6,
            "count": 0
           },
           {
            "bin_start": 2.6,
            "bin_end": 3,
            "count": 0
           },
           {
            "bin_start": 3,
            "bin_end": 3.4000000000000004,
            "count": 1
           },
           {
            "bin_start": 3.4000000000000004,
            "bin_end": 3.8000000000000003,
            "count": 0
           },
           {
            "bin_start": 3.8000000000000003,
            "bin_end": 4.2,
            "count": 1
           },
           {
            "bin_start": 4.2,
            "bin_end": 4.6,
            "count": 0
           },
           {
            "bin_start": 4.6,
            "bin_end": 5,
            "count": 1
           }
          ]
         }
        },
        {
         "name": "Sobrevivientes",
         "dtype": "int64",
         "stats": {
          "unique_count": 2,
          "nan_count": 0,
          "min": "0",
          "max": "1",
          "histogram": [
           {
            "bin_start": 0,
            "bin_end": 0.1,
            "count": 2
           },
           {
            "bin_start": 0.1,
            "bin_end": 0.2,
            "count": 0
           },
           {
            "bin_start": 0.2,
            "bin_end": 0.30000000000000004,
            "count": 0
           },
           {
            "bin_start": 0.30000000000000004,
            "bin_end": 0.4,
            "count": 0
           },
           {
            "bin_start": 0.4,
            "bin_end": 0.5,
            "count": 0
           },
           {
            "bin_start": 0.5,
            "bin_end": 0.6000000000000001,
            "count": 0
           },
           {
            "bin_start": 0.6000000000000001,
            "bin_end": 0.7000000000000001,
            "count": 0
           },
           {
            "bin_start": 0.7000000000000001,
            "bin_end": 0.8,
            "count": 0
           },
           {
            "bin_start": 0.8,
            "bin_end": 0.9,
            "count": 0
           },
           {
            "bin_start": 0.9,
            "bin_end": 1,
            "count": 3
           }
          ]
         }
        },
        {
         "name": "Clases",
         "dtype": "int64",
         "stats": {
          "unique_count": 2,
          "nan_count": 0,
          "min": "1",
          "max": "3",
          "histogram": [
           {
            "bin_start": 1,
            "bin_end": 1.2,
            "count": 2
           },
           {
            "bin_start": 1.2,
            "bin_end": 1.4,
            "count": 0
           },
           {
            "bin_start": 1.4,
            "bin_end": 1.6,
            "count": 0
           },
           {
            "bin_start": 1.6,
            "bin_end": 1.8,
            "count": 0
           },
           {
            "bin_start": 1.8,
            "bin_end": 2,
            "count": 0
           },
           {
            "bin_start": 2,
            "bin_end": 2.2,
            "count": 0
           },
           {
            "bin_start": 2.2,
            "bin_end": 2.4000000000000004,
            "count": 0
           },
           {
            "bin_start": 2.4000000000000004,
            "bin_end": 2.6,
            "count": 0
           },
           {
            "bin_start": 2.6,
            "bin_end": 2.8,
            "count": 0
           },
           {
            "bin_start": 2.8,
            "bin_end": 3,
            "count": 3
           }
          ]
         }
        },
        {
         "name": "Nombres",
         "dtype": "object",
         "stats": {
          "unique_count": 5,
          "nan_count": 0,
          "categories": [
           {
            "name": "Braund, Mr. Owen Harris",
            "count": 1
           },
           {
            "name": "Cumings, Mrs. John Bradley (Florence Briggs Thayer)",
            "count": 1
           },
           {
            "name": "3 others",
            "count": 3
           }
          ]
         }
        },
        {
         "name": "Género",
         "dtype": "object",
         "stats": {
          "unique_count": 2,
          "nan_count": 0,
          "categories": [
           {
            "name": "female",
            "count": 3
           },
           {
            "name": "male",
            "count": 2
           }
          ]
         }
        },
        {
         "name": "Edad",
         "dtype": "float64",
         "stats": {
          "unique_count": 4,
          "nan_count": 0,
          "min": "22.0",
          "max": "38.0",
          "histogram": [
           {
            "bin_start": 22,
            "bin_end": 23.6,
            "count": 1
           },
           {
            "bin_start": 23.6,
            "bin_end": 25.2,
            "count": 0
           },
           {
            "bin_start": 25.2,
            "bin_end": 26.8,
            "count": 1
           },
           {
            "bin_start": 26.8,
            "bin_end": 28.4,
            "count": 0
           },
           {
            "bin_start": 28.4,
            "bin_end": 30,
            "count": 0
           },
           {
            "bin_start": 30,
            "bin_end": 31.6,
            "count": 0
           },
           {
            "bin_start": 31.6,
            "bin_end": 33.2,
            "count": 0
           },
           {
            "bin_start": 33.2,
            "bin_end": 34.8,
            "count": 0
           },
           {
            "bin_start": 34.8,
            "bin_end": 36.4,
            "count": 2
           },
           {
            "bin_start": 36.4,
            "bin_end": 38,
            "count": 1
           }
          ]
         }
        },
        {
         "name": "Hermanos",
         "dtype": "int64",
         "stats": {
          "unique_count": 2,
          "nan_count": 0,
          "min": "0",
          "max": "1",
          "histogram": [
           {
            "bin_start": 0,
            "bin_end": 0.1,
            "count": 2
           },
           {
            "bin_start": 0.1,
            "bin_end": 0.2,
            "count": 0
           },
           {
            "bin_start": 0.2,
            "bin_end": 0.30000000000000004,
            "count": 0
           },
           {
            "bin_start": 0.30000000000000004,
            "bin_end": 0.4,
            "count": 0
           },
           {
            "bin_start": 0.4,
            "bin_end": 0.5,
            "count": 0
           },
           {
            "bin_start": 0.5,
            "bin_end": 0.6000000000000001,
            "count": 0
           },
           {
            "bin_start": 0.6000000000000001,
            "bin_end": 0.7000000000000001,
            "count": 0
           },
           {
            "bin_start": 0.7000000000000001,
            "bin_end": 0.8,
            "count": 0
           },
           {
            "bin_start": 0.8,
            "bin_end": 0.9,
            "count": 0
           },
           {
            "bin_start": 0.9,
            "bin_end": 1,
            "count": 3
           }
          ]
         }
        },
        {
         "name": "Hijos",
         "dtype": "int64",
         "stats": {
          "unique_count": 1,
          "nan_count": 0,
          "min": "0",
          "max": "0",
          "histogram": [
           {
            "bin_start": -0.5,
            "bin_end": -0.4,
            "count": 0
           },
           {
            "bin_start": -0.4,
            "bin_end": -0.3,
            "count": 0
           },
           {
            "bin_start": -0.3,
            "bin_end": -0.19999999999999996,
            "count": 0
           },
           {
            "bin_start": -0.19999999999999996,
            "bin_end": -0.09999999999999998,
            "count": 0
           },
           {
            "bin_start": -0.09999999999999998,
            "bin_end": 0,
            "count": 0
           },
           {
            "bin_start": 0,
            "bin_end": 0.10000000000000009,
            "count": 5
           },
           {
            "bin_start": 0.10000000000000009,
            "bin_end": 0.20000000000000007,
            "count": 0
           },
           {
            "bin_start": 0.20000000000000007,
            "bin_end": 0.30000000000000004,
            "count": 0
           },
           {
            "bin_start": 0.30000000000000004,
            "bin_end": 0.4,
            "count": 0
           },
           {
            "bin_start": 0.4,
            "bin_end": 0.5,
            "count": 0
           }
          ]
         }
        },
        {
         "name": "Ticket",
         "dtype": "object",
         "stats": {
          "unique_count": 5,
          "nan_count": 0,
          "categories": [
           {
            "name": "A/5 21171",
            "count": 1
           },
           {
            "name": "PC 17599",
            "count": 1
           },
           {
            "name": "3 others",
            "count": 3
           }
          ]
         }
        },
        {
         "name": "Tarifa",
         "dtype": "float64",
         "stats": {
          "unique_count": 5,
          "nan_count": 0,
          "min": "7.25",
          "max": "71.2833",
          "histogram": [
           {
            "bin_start": 7.25,
            "bin_end": 13.65333,
            "count": 3
           },
           {
            "bin_start": 13.65333,
            "bin_end": 20.05666,
            "count": 0
           },
           {
            "bin_start": 20.05666,
            "bin_end": 26.459989999999998,
            "count": 0
           },
           {
            "bin_start": 26.459989999999998,
            "bin_end": 32.86332,
            "count": 0
           },
           {
            "bin_start": 32.86332,
            "bin_end": 39.26665,
            "count": 0
           },
           {
            "bin_start": 39.26665,
            "bin_end": 45.669979999999995,
            "count": 0
           },
           {
            "bin_start": 45.669979999999995,
            "bin_end": 52.07331,
            "count": 0
           },
           {
            "bin_start": 52.07331,
            "bin_end": 58.476639999999996,
            "count": 1
           },
           {
            "bin_start": 58.476639999999996,
            "bin_end": 64.87996999999999,
            "count": 0
           },
           {
            "bin_start": 64.87996999999999,
            "bin_end": 71.2833,
            "count": 1
           }
          ]
         }
        },
        {
         "name": "Cabina",
         "dtype": "object",
         "stats": {
          "unique_count": 2,
          "nan_count": 3,
          "categories": [
           {
            "name": "C85",
            "count": 1
           },
           {
            "name": "C123",
            "count": 1
           },
           {
            "name": "Missing",
            "count": 3
           }
          ]
         }
        },
        {
         "name": "Embarque",
         "dtype": "object",
         "stats": {
          "unique_count": 2,
          "nan_count": 0,
          "categories": [
           {
            "name": "S",
            "count": 4
           },
           {
            "name": "C",
            "count": 1
           }
          ]
         }
        },
        {
         "name": "_deepnote_index_column",
         "dtype": "int64"
        }
       ],
       "rows_top": [
        {
         "ID": 1,
         "Sobrevivientes": 0,
         "Clases": 3,
         "Nombres": "Braund, Mr. Owen Harris",
         "Género": "male",
         "Edad": 22,
         "Hermanos": 1,
         "Hijos": 0,
         "Ticket": "A/5 21171",
         "Tarifa": 7.25,
         "Cabina": "nan",
         "Embarque": "S",
         "_deepnote_index_column": 0
        },
        {
         "ID": 2,
         "Sobrevivientes": 1,
         "Clases": 1,
         "Nombres": "Cumings, Mrs. John Bradley (Florence Briggs Thayer)",
         "Género": "female",
         "Edad": 38,
         "Hermanos": 1,
         "Hijos": 0,
         "Ticket": "PC 17599",
         "Tarifa": 71.2833,
         "Cabina": "C85",
         "Embarque": "C",
         "_deepnote_index_column": 1
        },
        {
         "ID": 3,
         "Sobrevivientes": 1,
         "Clases": 3,
         "Nombres": "Heikkinen, Miss. Laina",
         "Género": "female",
         "Edad": 26,
         "Hermanos": 0,
         "Hijos": 0,
         "Ticket": "STON/O2. 3101282",
         "Tarifa": 7.925,
         "Cabina": "nan",
         "Embarque": "S",
         "_deepnote_index_column": 2
        },
        {
         "ID": 4,
         "Sobrevivientes": 1,
         "Clases": 1,
         "Nombres": "Futrelle, Mrs. Jacques Heath (Lily May Peel)",
         "Género": "female",
         "Edad": 35,
         "Hermanos": 1,
         "Hijos": 0,
         "Ticket": "113803",
         "Tarifa": 53.1,
         "Cabina": "C123",
         "Embarque": "S",
         "_deepnote_index_column": 3
        },
        {
         "ID": 5,
         "Sobrevivientes": 0,
         "Clases": 3,
         "Nombres": "Allen, Mr. William Henry",
         "Género": "male",
         "Edad": 35,
         "Hermanos": 0,
         "Hijos": 0,
         "Ticket": "373450",
         "Tarifa": 8.05,
         "Cabina": "nan",
         "Embarque": "S",
         "_deepnote_index_column": 4
        }
       ],
       "rows_bottom": null
      },
      "text/plain": "   ID  Sobrevivientes  Clases  \\\n0   1               0       3   \n1   2               1       1   \n2   3               1       3   \n3   4               1       1   \n4   5               0       3   \n\n                                             Nombres  Género  Edad  Hermanos  \\\n0                            Braund, Mr. Owen Harris    male  22.0         1   \n1  Cumings, Mrs. John Bradley (Florence Briggs Th...  female  38.0         1   \n2                             Heikkinen, Miss. Laina  female  26.0         0   \n3       Futrelle, Mrs. Jacques Heath (Lily May Peel)  female  35.0         1   \n4                           Allen, Mr. William Henry    male  35.0         0   \n\n   Hijos            Ticket   Tarifa Cabina Embarque  \n0      0         A/5 21171   7.2500    NaN        S  \n1      0          PC 17599  71.2833    C85        C  \n2      0  STON/O2. 3101282   7.9250    NaN        S  \n3      0            113803  53.1000   C123        S  \n4      0            373450   8.0500    NaN        S  ",
      "text/html": "<div>\n<style scoped>\n    .dataframe tbody tr th:only-of-type {\n        vertical-align: middle;\n    }\n\n    .dataframe tbody tr th {\n        vertical-align: top;\n    }\n\n    .dataframe thead th {\n        text-align: right;\n    }\n</style>\n<table border=\"1\" class=\"dataframe\">\n  <thead>\n    <tr style=\"text-align: right;\">\n      <th></th>\n      <th>ID</th>\n      <th>Sobrevivientes</th>\n      <th>Clases</th>\n      <th>Nombres</th>\n      <th>Género</th>\n      <th>Edad</th>\n      <th>Hermanos</th>\n      <th>Hijos</th>\n      <th>Ticket</th>\n      <th>Tarifa</th>\n      <th>Cabina</th>\n      <th>Embarque</th>\n    </tr>\n  </thead>\n  <tbody>\n    <tr>\n      <th>0</th>\n      <td>1</td>\n      <td>0</td>\n      <td>3</td>\n      <td>Braund, Mr. Owen Harris</td>\n      <td>male</td>\n      <td>22.0</td>\n      <td>1</td>\n      <td>0</td>\n      <td>A/5 21171</td>\n      <td>7.2500</td>\n      <td>NaN</td>\n      <td>S</td>\n    </tr>\n    <tr>\n      <th>1</th>\n      <td>2</td>\n      <td>1</td>\n      <td>1</td>\n      <td>Cumings, Mrs. John Bradley (Florence Briggs Th...</td>\n      <td>female</td>\n      <td>38.0</td>\n      <td>1</td>\n      <td>0</td>\n      <td>PC 17599</td>\n      <td>71.2833</td>\n      <td>C85</td>\n      <td>C</td>\n    </tr>\n    <tr>\n      <th>2</th>\n      <td>3</td>\n      <td>1</td>\n      <td>3</td>\n      <td>Heikkinen, Miss. Laina</td>\n      <td>female</td>\n      <td>26.0</td>\n      <td>0</td>\n      <td>0</td>\n      <td>STON/O2. 3101282</td>\n      <td>7.9250</td>\n      <td>NaN</td>\n      <td>S</td>\n    </tr>\n    <tr>\n      <th>3</th>\n      <td>4</td>\n      <td>1</td>\n      <td>1</td>\n      <td>Futrelle, Mrs. Jacques Heath (Lily May Peel)</td>\n      <td>female</td>\n      <td>35.0</td>\n      <td>1</td>\n      <td>0</td>\n      <td>113803</td>\n      <td>53.1000</td>\n      <td>C123</td>\n      <td>S</td>\n    </tr>\n    <tr>\n      <th>4</th>\n      <td>5</td>\n      <td>0</td>\n      <td>3</td>\n      <td>Allen, Mr. William Henry</td>\n      <td>male</td>\n      <td>35.0</td>\n      <td>0</td>\n      <td>0</td>\n      <td>373450</td>\n      <td>8.0500</td>\n      <td>NaN</td>\n      <td>S</td>\n    </tr>\n  </tbody>\n</table>\n</div>"
     },
     "metadata": {}
    }
   ]
  },
  {
   "cell_type": "markdown",
   "source": "### Ahora lo que necesitamos saber es qué tipo de datos tenemos en cada columna y verificar si hay alguna anomalía y corregirlo, para que no nos presente algún inconveniente más adelante al momento de procesar los datos\n\ndf.dtypes => Nos devuelve la información de los tipos de datos existentes",
   "metadata": {
    "tags": [],
    "cell_id": "00008-959fe073-85a1-4213-8e57-f3ce9c1e2ac1",
    "deepnote_app_coordinates": {
     "x": 0,
     "y": 48,
     "w": 12,
     "h": 5
    },
    "deepnote_cell_type": "markdown"
   }
  },
  {
   "cell_type": "code",
   "metadata": {
    "tags": [],
    "cell_id": "00009-cfc83c37-ad31-4731-94a7-e7ddb4149345",
    "deepnote_to_be_reexecuted": false,
    "source_hash": "52430027",
    "execution_start": 1633316368583,
    "execution_millis": 2,
    "deepnote_app_coordinates": {
     "x": 0,
     "y": 54,
     "w": 12,
     "h": 5
    },
    "deepnote_cell_type": "code"
   },
   "source": "df.dtypes",
   "execution_count": null,
   "outputs": [
    {
     "output_type": "execute_result",
     "execution_count": 5,
     "data": {
      "text/plain": "ID                  int64\nSobrevivientes      int64\nClases              int64\nNombres            object\nGénero             object\nEdad              float64\nHermanos            int64\nHijos               int64\nTicket             object\nTarifa            float64\nCabina             object\nEmbarque           object\ndtype: object"
     },
     "metadata": {}
    }
   ]
  },
  {
   "cell_type": "markdown",
   "source": "### Análisis estadístico de los datos nos puede decir si hay incosistencias en nuestros datos como extremos atípicos y grandes desviaciones\n\ndf.describe() => Devuelve una serie con un resumen descriptivo que incluye el número de datos (cantidad de registros en el data set), su suma, el mínimo, el máximo, la media, la desviación estándar y los cuartiles. \n\n<br />\nComo podemos observar solo procesa datos numéricos y omite los datos categóricos, para eso debemos utilizar otro método para llegar al fondo de toda nuestra información  \n\n<br />\ndf.describe(include = \"all\") => Incluye datos categóricos de todas las filas y columnas del dataframe",
   "metadata": {
    "tags": [],
    "cell_id": "00010-9f3e3f04-fa17-4251-b181-c6527cd5f653",
    "deepnote_app_coordinates": {
     "x": 0,
     "y": 60,
     "w": 12,
     "h": 5
    },
    "deepnote_cell_type": "markdown"
   }
  },
  {
   "cell_type": "code",
   "metadata": {
    "tags": [],
    "cell_id": "00011-429f5f7b-502c-4dd4-b157-60eb18380215",
    "deepnote_to_be_reexecuted": false,
    "source_hash": "f88152d9",
    "execution_start": 1633316368635,
    "execution_millis": 250,
    "deepnote_app_coordinates": {
     "x": 0,
     "y": 66,
     "w": 12,
     "h": 5
    },
    "deepnote_cell_type": "code"
   },
   "source": "df.describe()",
   "execution_count": null,
   "outputs": [
    {
     "output_type": "execute_result",
     "execution_count": 6,
     "data": {
      "application/vnd.deepnote.dataframe.v2+json": {
       "row_count": 8,
       "column_count": 7,
       "columns": [
        {
         "name": "ID",
         "dtype": "float64",
         "stats": {
          "unique_count": 6,
          "nan_count": 0,
          "min": "1.0",
          "max": "891.0",
          "histogram": [
           {
            "bin_start": 1,
            "bin_end": 90,
            "count": 1
           },
           {
            "bin_start": 90,
            "bin_end": 179,
            "count": 0
           },
           {
            "bin_start": 179,
            "bin_end": 268,
            "count": 2
           },
           {
            "bin_start": 268,
            "bin_end": 357,
            "count": 0
           },
           {
            "bin_start": 357,
            "bin_end": 446,
            "count": 0
           },
           {
            "bin_start": 446,
            "bin_end": 535,
            "count": 2
           },
           {
            "bin_start": 535,
            "bin_end": 624,
            "count": 0
           },
           {
            "bin_start": 624,
            "bin_end": 713,
            "count": 1
           },
           {
            "bin_start": 713,
            "bin_end": 802,
            "count": 0
           },
           {
            "bin_start": 802,
            "bin_end": 891,
            "count": 2
           }
          ]
         }
        },
        {
         "name": "Sobrevivientes",
         "dtype": "float64",
         "stats": {
          "unique_count": 5,
          "nan_count": 0,
          "min": "0.0",
          "max": "891.0",
          "histogram": [
           {
            "bin_start": 0,
            "bin_end": 89.1,
            "count": 7
           },
           {
            "bin_start": 89.1,
            "bin_end": 178.2,
            "count": 0
           },
           {
            "bin_start": 178.2,
            "bin_end": 267.29999999999995,
            "count": 0
           },
           {
            "bin_start": 267.29999999999995,
            "bin_end": 356.4,
            "count": 0
           },
           {
            "bin_start": 356.4,
            "bin_end": 445.5,
            "count": 0
           },
           {
            "bin_start": 445.5,
            "bin_end": 534.5999999999999,
            "count": 0
           },
           {
            "bin_start": 534.5999999999999,
            "bin_end": 623.6999999999999,
            "count": 0
           },
           {
            "bin_start": 623.6999999999999,
            "bin_end": 712.8,
            "count": 0
           },
           {
            "bin_start": 712.8,
            "bin_end": 801.9,
            "count": 0
           },
           {
            "bin_start": 801.9,
            "bin_end": 891,
            "count": 1
           }
          ]
         }
        },
        {
         "name": "Clases",
         "dtype": "float64",
         "stats": {
          "unique_count": 6,
          "nan_count": 0,
          "min": "0.836071240977049",
          "max": "891.0",
          "histogram": [
           {
            "bin_start": 0.836071240977049,
            "bin_end": 89.85246411687935,
            "count": 7
           },
           {
            "bin_start": 89.85246411687935,
            "bin_end": 178.86885699278164,
            "count": 0
           },
           {
            "bin_start": 178.86885699278164,
            "bin_end": 267.88524986868396,
            "count": 0
           },
           {
            "bin_start": 267.88524986868396,
            "bin_end": 356.90164274458624,
            "count": 0
           },
           {
            "bin_start": 356.90164274458624,
            "bin_end": 445.9180356204885,
            "count": 0
           },
           {
            "bin_start": 445.9180356204885,
            "bin_end": 534.9344284963909,
            "count": 0
           },
           {
            "bin_start": 534.9344284963909,
            "bin_end": 623.9508213722931,
            "count": 0
           },
           {
            "bin_start": 623.9508213722931,
            "bin_end": 712.9672142481954,
            "count": 0
           },
           {
            "bin_start": 712.9672142481954,
            "bin_end": 801.9836071240977,
            "count": 0
           },
           {
            "bin_start": 801.9836071240977,
            "bin_end": 891,
            "count": 1
           }
          ]
         }
        },
        {
         "name": "Edad",
         "dtype": "float64",
         "stats": {
          "unique_count": 8,
          "nan_count": 0,
          "min": "0.42",
          "max": "714.0",
          "histogram": [
           {
            "bin_start": 0.42,
            "bin_end": 71.778,
            "count": 6
           },
           {
            "bin_start": 71.778,
            "bin_end": 143.136,
            "count": 1
           },
           {
            "bin_start": 143.136,
            "bin_end": 214.494,
            "count": 0
           },
           {
            "bin_start": 214.494,
            "bin_end": 285.85200000000003,
            "count": 0
           },
           {
            "bin_start": 285.85200000000003,
            "bin_end": 357.21000000000004,
            "count": 0
           },
           {
            "bin_start": 357.21000000000004,
            "bin_end": 428.56800000000004,
            "count": 0
           },
           {
            "bin_start": 428.56800000000004,
            "bin_end": 499.92600000000004,
            "count": 0
           },
           {
            "bin_start": 499.92600000000004,
            "bin_end": 571.284,
            "count": 0
           },
           {
            "bin_start": 571.284,
            "bin_end": 642.6419999999999,
            "count": 0
           },
           {
            "bin_start": 642.6419999999999,
            "bin_end": 714,
            "count": 1
           }
          ]
         }
        },
        {
         "name": "Hermanos",
         "dtype": "float64",
         "stats": {
          "unique_count": 6,
          "nan_count": 0,
          "min": "0.0",
          "max": "891.0",
          "histogram": [
           {
            "bin_start": 0,
            "bin_end": 89.1,
            "count": 7
           },
           {
            "bin_start": 89.1,
            "bin_end": 178.2,
            "count": 0
           },
           {
            "bin_start": 178.2,
            "bin_end": 267.29999999999995,
            "count": 0
           },
           {
            "bin_start": 267.29999999999995,
            "bin_end": 356.4,
            "count": 0
           },
           {
            "bin_start": 356.4,
            "bin_end": 445.5,
            "count": 0
           },
           {
            "bin_start": 445.5,
            "bin_end": 534.5999999999999,
            "count": 0
           },
           {
            "bin_start": 534.5999999999999,
            "bin_end": 623.6999999999999,
            "count": 0
           },
           {
            "bin_start": 623.6999999999999,
            "bin_end": 712.8,
            "count": 0
           },
           {
            "bin_start": 712.8,
            "bin_end": 801.9,
            "count": 0
           },
           {
            "bin_start": 801.9,
            "bin_end": 891,
            "count": 1
           }
          ]
         }
        },
        {
         "name": "Hijos",
         "dtype": "float64",
         "stats": {
          "unique_count": 5,
          "nan_count": 0,
          "min": "0.0",
          "max": "891.0",
          "histogram": [
           {
            "bin_start": 0,
            "bin_end": 89.1,
            "count": 7
           },
           {
            "bin_start": 89.1,
            "bin_end": 178.2,
            "count": 0
           },
           {
            "bin_start": 178.2,
            "bin_end": 267.29999999999995,
            "count": 0
           },
           {
            "bin_start": 267.29999999999995,
            "bin_end": 356.4,
            "count": 0
           },
           {
            "bin_start": 356.4,
            "bin_end": 445.5,
            "count": 0
           },
           {
            "bin_start": 445.5,
            "bin_end": 534.5999999999999,
            "count": 0
           },
           {
            "bin_start": 534.5999999999999,
            "bin_end": 623.6999999999999,
            "count": 0
           },
           {
            "bin_start": 623.6999999999999,
            "bin_end": 712.8,
            "count": 0
           },
           {
            "bin_start": 712.8,
            "bin_end": 801.9,
            "count": 0
           },
           {
            "bin_start": 801.9,
            "bin_end": 891,
            "count": 1
           }
          ]
         }
        },
        {
         "name": "Tarifa",
         "dtype": "float64",
         "stats": {
          "unique_count": 8,
          "nan_count": 0,
          "min": "0.0",
          "max": "891.0",
          "histogram": [
           {
            "bin_start": 0,
            "bin_end": 89.1,
            "count": 6
           },
           {
            "bin_start": 89.1,
            "bin_end": 178.2,
            "count": 0
           },
           {
            "bin_start": 178.2,
            "bin_end": 267.29999999999995,
            "count": 0
           },
           {
            "bin_start": 267.29999999999995,
            "bin_end": 356.4,
            "count": 0
           },
           {
            "bin_start": 356.4,
            "bin_end": 445.5,
            "count": 0
           },
           {
            "bin_start": 445.5,
            "bin_end": 534.5999999999999,
            "count": 1
           },
           {
            "bin_start": 534.5999999999999,
            "bin_end": 623.6999999999999,
            "count": 0
           },
           {
            "bin_start": 623.6999999999999,
            "bin_end": 712.8,
            "count": 0
           },
           {
            "bin_start": 712.8,
            "bin_end": 801.9,
            "count": 0
           },
           {
            "bin_start": 801.9,
            "bin_end": 891,
            "count": 1
           }
          ]
         }
        },
        {
         "name": "_deepnote_index_column",
         "dtype": "object"
        }
       ],
       "rows_top": [
        {
         "ID": 891,
         "Sobrevivientes": 891,
         "Clases": 891,
         "Edad": 714,
         "Hermanos": 891,
         "Hijos": 891,
         "Tarifa": 891,
         "_deepnote_index_column": "count"
        },
        {
         "ID": 446,
         "Sobrevivientes": 0.3838383838383838,
         "Clases": 2.308641975308642,
         "Edad": 29.69911764705882,
         "Hermanos": 0.5230078563411896,
         "Hijos": 0.38159371492704824,
         "Tarifa": 32.204207968574636,
         "_deepnote_index_column": "mean"
        },
        {
         "ID": 257.3538420152301,
         "Sobrevivientes": 0.4865924542648575,
         "Clases": 0.836071240977049,
         "Edad": 14.526497332334042,
         "Hermanos": 1.1027434322934317,
         "Hijos": 0.8060572211299483,
         "Tarifa": 49.6934285971809,
         "_deepnote_index_column": "std"
        },
        {
         "ID": 1,
         "Sobrevivientes": 0,
         "Clases": 1,
         "Edad": 0.42,
         "Hermanos": 0,
         "Hijos": 0,
         "Tarifa": 0,
         "_deepnote_index_column": "min"
        },
        {
         "ID": 223.5,
         "Sobrevivientes": 0,
         "Clases": 2,
         "Edad": 20.125,
         "Hermanos": 0,
         "Hijos": 0,
         "Tarifa": 7.9104,
         "_deepnote_index_column": "25%"
        },
        {
         "ID": 446,
         "Sobrevivientes": 0,
         "Clases": 3,
         "Edad": 28,
         "Hermanos": 0,
         "Hijos": 0,
         "Tarifa": 14.4542,
         "_deepnote_index_column": "50%"
        },
        {
         "ID": 668.5,
         "Sobrevivientes": 1,
         "Clases": 3,
         "Edad": 38,
         "Hermanos": 1,
         "Hijos": 0,
         "Tarifa": 31,
         "_deepnote_index_column": "75%"
        },
        {
         "ID": 891,
         "Sobrevivientes": 1,
         "Clases": 3,
         "Edad": 80,
         "Hermanos": 8,
         "Hijos": 6,
         "Tarifa": 512.3292,
         "_deepnote_index_column": "max"
        }
       ],
       "rows_bottom": null
      },
      "text/plain": "               ID  Sobrevivientes      Clases        Edad    Hermanos  \\\ncount  891.000000      891.000000  891.000000  714.000000  891.000000   \nmean   446.000000        0.383838    2.308642   29.699118    0.523008   \nstd    257.353842        0.486592    0.836071   14.526497    1.102743   \nmin      1.000000        0.000000    1.000000    0.420000    0.000000   \n25%    223.500000        0.000000    2.000000   20.125000    0.000000   \n50%    446.000000        0.000000    3.000000   28.000000    0.000000   \n75%    668.500000        1.000000    3.000000   38.000000    1.000000   \nmax    891.000000        1.000000    3.000000   80.000000    8.000000   \n\n            Hijos      Tarifa  \ncount  891.000000  891.000000  \nmean     0.381594   32.204208  \nstd      0.806057   49.693429  \nmin      0.000000    0.000000  \n25%      0.000000    7.910400  \n50%      0.000000   14.454200  \n75%      0.000000   31.000000  \nmax      6.000000  512.329200  ",
      "text/html": "<div>\n<style scoped>\n    .dataframe tbody tr th:only-of-type {\n        vertical-align: middle;\n    }\n\n    .dataframe tbody tr th {\n        vertical-align: top;\n    }\n\n    .dataframe thead th {\n        text-align: right;\n    }\n</style>\n<table border=\"1\" class=\"dataframe\">\n  <thead>\n    <tr style=\"text-align: right;\">\n      <th></th>\n      <th>ID</th>\n      <th>Sobrevivientes</th>\n      <th>Clases</th>\n      <th>Edad</th>\n      <th>Hermanos</th>\n      <th>Hijos</th>\n      <th>Tarifa</th>\n    </tr>\n  </thead>\n  <tbody>\n    <tr>\n      <th>count</th>\n      <td>891.000000</td>\n      <td>891.000000</td>\n      <td>891.000000</td>\n      <td>714.000000</td>\n      <td>891.000000</td>\n      <td>891.000000</td>\n      <td>891.000000</td>\n    </tr>\n    <tr>\n      <th>mean</th>\n      <td>446.000000</td>\n      <td>0.383838</td>\n      <td>2.308642</td>\n      <td>29.699118</td>\n      <td>0.523008</td>\n      <td>0.381594</td>\n      <td>32.204208</td>\n    </tr>\n    <tr>\n      <th>std</th>\n      <td>257.353842</td>\n      <td>0.486592</td>\n      <td>0.836071</td>\n      <td>14.526497</td>\n      <td>1.102743</td>\n      <td>0.806057</td>\n      <td>49.693429</td>\n    </tr>\n    <tr>\n      <th>min</th>\n      <td>1.000000</td>\n      <td>0.000000</td>\n      <td>1.000000</td>\n      <td>0.420000</td>\n      <td>0.000000</td>\n      <td>0.000000</td>\n      <td>0.000000</td>\n    </tr>\n    <tr>\n      <th>25%</th>\n      <td>223.500000</td>\n      <td>0.000000</td>\n      <td>2.000000</td>\n      <td>20.125000</td>\n      <td>0.000000</td>\n      <td>0.000000</td>\n      <td>7.910400</td>\n    </tr>\n    <tr>\n      <th>50%</th>\n      <td>446.000000</td>\n      <td>0.000000</td>\n      <td>3.000000</td>\n      <td>28.000000</td>\n      <td>0.000000</td>\n      <td>0.000000</td>\n      <td>14.454200</td>\n    </tr>\n    <tr>\n      <th>75%</th>\n      <td>668.500000</td>\n      <td>1.000000</td>\n      <td>3.000000</td>\n      <td>38.000000</td>\n      <td>1.000000</td>\n      <td>0.000000</td>\n      <td>31.000000</td>\n    </tr>\n    <tr>\n      <th>max</th>\n      <td>891.000000</td>\n      <td>1.000000</td>\n      <td>3.000000</td>\n      <td>80.000000</td>\n      <td>8.000000</td>\n      <td>6.000000</td>\n      <td>512.329200</td>\n    </tr>\n  </tbody>\n</table>\n</div>"
     },
     "metadata": {}
    }
   ]
  },
  {
   "cell_type": "code",
   "metadata": {
    "tags": [],
    "cell_id": "00012-ec7d015e-8c0c-441f-80e6-52d6a2962791",
    "deepnote_to_be_reexecuted": false,
    "source_hash": "d2e9ac4",
    "execution_start": 1633316368932,
    "execution_millis": 355,
    "deepnote_app_coordinates": {
     "x": 0,
     "y": 72,
     "w": 12,
     "h": 5
    },
    "deepnote_cell_type": "code"
   },
   "source": "df.describe(include = \"all\")",
   "execution_count": null,
   "outputs": [
    {
     "output_type": "execute_result",
     "execution_count": 7,
     "data": {
      "application/vnd.deepnote.dataframe.v2+json": {
       "row_count": 11,
       "column_count": 12,
       "columns": [
        {
         "name": "ID",
         "dtype": "float64",
         "stats": {
          "unique_count": 6,
          "nan_count": 3,
          "min": "1.0",
          "max": "891.0",
          "histogram": [
           {
            "bin_start": 1,
            "bin_end": 90,
            "count": 1
           },
           {
            "bin_start": 90,
            "bin_end": 179,
            "count": 0
           },
           {
            "bin_start": 179,
            "bin_end": 268,
            "count": 2
           },
           {
            "bin_start": 268,
            "bin_end": 357,
            "count": 0
           },
           {
            "bin_start": 357,
            "bin_end": 446,
            "count": 0
           },
           {
            "bin_start": 446,
            "bin_end": 535,
            "count": 2
           },
           {
            "bin_start": 535,
            "bin_end": 624,
            "count": 0
           },
           {
            "bin_start": 624,
            "bin_end": 713,
            "count": 1
           },
           {
            "bin_start": 713,
            "bin_end": 802,
            "count": 0
           },
           {
            "bin_start": 802,
            "bin_end": 891,
            "count": 2
           }
          ]
         }
        },
        {
         "name": "Sobrevivientes",
         "dtype": "float64",
         "stats": {
          "unique_count": 5,
          "nan_count": 3,
          "min": "0.0",
          "max": "891.0",
          "histogram": [
           {
            "bin_start": 0,
            "bin_end": 89.1,
            "count": 7
           },
           {
            "bin_start": 89.1,
            "bin_end": 178.2,
            "count": 0
           },
           {
            "bin_start": 178.2,
            "bin_end": 267.29999999999995,
            "count": 0
           },
           {
            "bin_start": 267.29999999999995,
            "bin_end": 356.4,
            "count": 0
           },
           {
            "bin_start": 356.4,
            "bin_end": 445.5,
            "count": 0
           },
           {
            "bin_start": 445.5,
            "bin_end": 534.5999999999999,
            "count": 0
           },
           {
            "bin_start": 534.5999999999999,
            "bin_end": 623.6999999999999,
            "count": 0
           },
           {
            "bin_start": 623.6999999999999,
            "bin_end": 712.8,
            "count": 0
           },
           {
            "bin_start": 712.8,
            "bin_end": 801.9,
            "count": 0
           },
           {
            "bin_start": 801.9,
            "bin_end": 891,
            "count": 1
           }
          ]
         }
        },
        {
         "name": "Clases",
         "dtype": "float64",
         "stats": {
          "unique_count": 6,
          "nan_count": 3,
          "min": "0.836071240977049",
          "max": "891.0",
          "histogram": [
           {
            "bin_start": 0.836071240977049,
            "bin_end": 89.85246411687935,
            "count": 7
           },
           {
            "bin_start": 89.85246411687935,
            "bin_end": 178.86885699278164,
            "count": 0
           },
           {
            "bin_start": 178.86885699278164,
            "bin_end": 267.88524986868396,
            "count": 0
           },
           {
            "bin_start": 267.88524986868396,
            "bin_end": 356.90164274458624,
            "count": 0
           },
           {
            "bin_start": 356.90164274458624,
            "bin_end": 445.9180356204885,
            "count": 0
           },
           {
            "bin_start": 445.9180356204885,
            "bin_end": 534.9344284963909,
            "count": 0
           },
           {
            "bin_start": 534.9344284963909,
            "bin_end": 623.9508213722931,
            "count": 0
           },
           {
            "bin_start": 623.9508213722931,
            "bin_end": 712.9672142481954,
            "count": 0
           },
           {
            "bin_start": 712.9672142481954,
            "bin_end": 801.9836071240977,
            "count": 0
           },
           {
            "bin_start": 801.9836071240977,
            "bin_end": 891,
            "count": 1
           }
          ]
         }
        },
        {
         "name": "Nombres",
         "dtype": "object",
         "stats": {
          "unique_count": 3,
          "nan_count": 7,
          "categories": [
           {
            "name": "891",
            "count": 2
           },
           {
            "name": "2 others",
            "count": 2
           },
           {
            "name": "Missing",
            "count": 7
           }
          ]
         }
        },
        {
         "name": "Género",
         "dtype": "object",
         "stats": {
          "unique_count": 4,
          "nan_count": 7,
          "categories": [
           {
            "name": "891",
            "count": 1
           },
           {
            "name": "3 others",
            "count": 3
           },
           {
            "name": "Missing",
            "count": 7
           }
          ]
         }
        },
        {
         "name": "Edad",
         "dtype": "float64",
         "stats": {
          "unique_count": 8,
          "nan_count": 3,
          "min": "0.42",
          "max": "714.0",
          "histogram": [
           {
            "bin_start": 0.42,
            "bin_end": 71.778,
            "count": 6
           },
           {
            "bin_start": 71.778,
            "bin_end": 143.136,
            "count": 1
           },
           {
            "bin_start": 143.136,
            "bin_end": 214.494,
            "count": 0
           },
           {
            "bin_start": 214.494,
            "bin_end": 285.85200000000003,
            "count": 0
           },
           {
            "bin_start": 285.85200000000003,
            "bin_end": 357.21000000000004,
            "count": 0
           },
           {
            "bin_start": 357.21000000000004,
            "bin_end": 428.56800000000004,
            "count": 0
           },
           {
            "bin_start": 428.56800000000004,
            "bin_end": 499.92600000000004,
            "count": 0
           },
           {
            "bin_start": 499.92600000000004,
            "bin_end": 571.284,
            "count": 0
           },
           {
            "bin_start": 571.284,
            "bin_end": 642.6419999999999,
            "count": 0
           },
           {
            "bin_start": 642.6419999999999,
            "bin_end": 714,
            "count": 1
           }
          ]
         }
        },
        {
         "name": "Hermanos",
         "dtype": "float64",
         "stats": {
          "unique_count": 6,
          "nan_count": 3,
          "min": "0.0",
          "max": "891.0",
          "histogram": [
           {
            "bin_start": 0,
            "bin_end": 89.1,
            "count": 7
           },
           {
            "bin_start": 89.1,
            "bin_end": 178.2,
            "count": 0
           },
           {
            "bin_start": 178.2,
            "bin_end": 267.29999999999995,
            "count": 0
           },
           {
            "bin_start": 267.29999999999995,
            "bin_end": 356.4,
            "count": 0
           },
           {
            "bin_start": 356.4,
            "bin_end": 445.5,
            "count": 0
           },
           {
            "bin_start": 445.5,
            "bin_end": 534.5999999999999,
            "count": 0
           },
           {
            "bin_start": 534.5999999999999,
            "bin_end": 623.6999999999999,
            "count": 0
           },
           {
            "bin_start": 623.6999999999999,
            "bin_end": 712.8,
            "count": 0
           },
           {
            "bin_start": 712.8,
            "bin_end": 801.9,
            "count": 0
           },
           {
            "bin_start": 801.9,
            "bin_end": 891,
            "count": 1
           }
          ]
         }
        },
        {
         "name": "Hijos",
         "dtype": "float64",
         "stats": {
          "unique_count": 5,
          "nan_count": 3,
          "min": "0.0",
          "max": "891.0",
          "histogram": [
           {
            "bin_start": 0,
            "bin_end": 89.1,
            "count": 7
           },
           {
            "bin_start": 89.1,
            "bin_end": 178.2,
            "count": 0
           },
           {
            "bin_start": 178.2,
            "bin_end": 267.29999999999995,
            "count": 0
           },
           {
            "bin_start": 267.29999999999995,
            "bin_end": 356.4,
            "count": 0
           },
           {
            "bin_start": 356.4,
            "bin_end": 445.5,
            "count": 0
           },
           {
            "bin_start": 445.5,
            "bin_end": 534.5999999999999,
            "count": 0
           },
           {
            "bin_start": 534.5999999999999,
            "bin_end": 623.6999999999999,
            "count": 0
           },
           {
            "bin_start": 623.6999999999999,
            "bin_end": 712.8,
            "count": 0
           },
           {
            "bin_start": 712.8,
            "bin_end": 801.9,
            "count": 0
           },
           {
            "bin_start": 801.9,
            "bin_end": 891,
            "count": 1
           }
          ]
         }
        },
        {
         "name": "Ticket",
         "dtype": "object",
         "stats": {
          "unique_count": 4,
          "nan_count": 7,
          "categories": [
           {
            "name": "891",
            "count": 1
           },
           {
            "name": "3 others",
            "count": 3
           },
           {
            "name": "Missing",
            "count": 7
           }
          ]
         }
        },
        {
         "name": "Tarifa",
         "dtype": "float64",
         "stats": {
          "unique_count": 8,
          "nan_count": 3,
          "min": "0.0",
          "max": "891.0",
          "histogram": [
           {
            "bin_start": 0,
            "bin_end": 89.1,
            "count": 6
           },
           {
            "bin_start": 89.1,
            "bin_end": 178.2,
            "count": 0
           },
           {
            "bin_start": 178.2,
            "bin_end": 267.29999999999995,
            "count": 0
           },
           {
            "bin_start": 267.29999999999995,
            "bin_end": 356.4,
            "count": 0
           },
           {
            "bin_start": 356.4,
            "bin_end": 445.5,
            "count": 0
           },
           {
            "bin_start": 445.5,
            "bin_end": 534.5999999999999,
            "count": 1
           },
           {
            "bin_start": 534.5999999999999,
            "bin_end": 623.6999999999999,
            "count": 0
           },
           {
            "bin_start": 623.6999999999999,
            "bin_end": 712.8,
            "count": 0
           },
           {
            "bin_start": 712.8,
            "bin_end": 801.9,
            "count": 0
           },
           {
            "bin_start": 801.9,
            "bin_end": 891,
            "count": 1
           }
          ]
         }
        },
        {
         "name": "Cabina",
         "dtype": "object",
         "stats": {
          "unique_count": 4,
          "nan_count": 7,
          "categories": [
           {
            "name": "204",
            "count": 1
           },
           {
            "name": "3 others",
            "count": 3
           },
           {
            "name": "Missing",
            "count": 7
           }
          ]
         }
        },
        {
         "name": "Embarque",
         "dtype": "object",
         "stats": {
          "unique_count": 4,
          "nan_count": 7,
          "categories": [
           {
            "name": "889",
            "count": 1
           },
           {
            "name": "3 others",
            "count": 3
           },
           {
            "name": "Missing",
            "count": 7
           }
          ]
         }
        },
        {
         "name": "_deepnote_index_column",
         "dtype": "object"
        }
       ],
       "rows_top": [
        {
         "ID": 891,
         "Sobrevivientes": 891,
         "Clases": 891,
         "Nombres": "891",
         "Género": "891",
         "Edad": 714,
         "Hermanos": 891,
         "Hijos": 891,
         "Ticket": "891",
         "Tarifa": 891,
         "Cabina": "204",
         "Embarque": "889",
         "_deepnote_index_column": "count"
        },
        {
         "ID": "nan",
         "Sobrevivientes": "nan",
         "Clases": "nan",
         "Nombres": "891",
         "Género": "2",
         "Edad": "nan",
         "Hermanos": "nan",
         "Hijos": "nan",
         "Ticket": "681",
         "Tarifa": "nan",
         "Cabina": "147",
         "Embarque": "3",
         "_deepnote_index_column": "unique"
        },
        {
         "ID": "nan",
         "Sobrevivientes": "nan",
         "Clases": "nan",
         "Nombres": "Lester, Mr. James",
         "Género": "male",
         "Edad": "nan",
         "Hermanos": "nan",
         "Hijos": "nan",
         "Ticket": "CA. 2343",
         "Tarifa": "nan",
         "Cabina": "C23 C25 C27",
         "Embarque": "S",
         "_deepnote_index_column": "top"
        },
        {
         "ID": "nan",
         "Sobrevivientes": "nan",
         "Clases": "nan",
         "Nombres": "1",
         "Género": "577",
         "Edad": "nan",
         "Hermanos": "nan",
         "Hijos": "nan",
         "Ticket": "7",
         "Tarifa": "nan",
         "Cabina": "4",
         "Embarque": "644",
         "_deepnote_index_column": "freq"
        },
        {
         "ID": 446,
         "Sobrevivientes": 0.3838383838383838,
         "Clases": 2.308641975308642,
         "Nombres": "nan",
         "Género": "nan",
         "Edad": 29.69911764705882,
         "Hermanos": 0.5230078563411896,
         "Hijos": 0.38159371492704824,
         "Ticket": "nan",
         "Tarifa": 32.204207968574636,
         "Cabina": "nan",
         "Embarque": "nan",
         "_deepnote_index_column": "mean"
        },
        {
         "ID": 257.3538420152301,
         "Sobrevivientes": 0.4865924542648575,
         "Clases": 0.836071240977049,
         "Nombres": "nan",
         "Género": "nan",
         "Edad": 14.526497332334042,
         "Hermanos": 1.1027434322934317,
         "Hijos": 0.8060572211299483,
         "Ticket": "nan",
         "Tarifa": 49.6934285971809,
         "Cabina": "nan",
         "Embarque": "nan",
         "_deepnote_index_column": "std"
        },
        {
         "ID": 1,
         "Sobrevivientes": 0,
         "Clases": 1,
         "Nombres": "nan",
         "Género": "nan",
         "Edad": 0.42,
         "Hermanos": 0,
         "Hijos": 0,
         "Ticket": "nan",
         "Tarifa": 0,
         "Cabina": "nan",
         "Embarque": "nan",
         "_deepnote_index_column": "min"
        },
        {
         "ID": 223.5,
         "Sobrevivientes": 0,
         "Clases": 2,
         "Nombres": "nan",
         "Género": "nan",
         "Edad": 20.125,
         "Hermanos": 0,
         "Hijos": 0,
         "Ticket": "nan",
         "Tarifa": 7.9104,
         "Cabina": "nan",
         "Embarque": "nan",
         "_deepnote_index_column": "25%"
        },
        {
         "ID": 446,
         "Sobrevivientes": 0,
         "Clases": 3,
         "Nombres": "nan",
         "Género": "nan",
         "Edad": 28,
         "Hermanos": 0,
         "Hijos": 0,
         "Ticket": "nan",
         "Tarifa": 14.4542,
         "Cabina": "nan",
         "Embarque": "nan",
         "_deepnote_index_column": "50%"
        },
        {
         "ID": 668.5,
         "Sobrevivientes": 1,
         "Clases": 3,
         "Nombres": "nan",
         "Género": "nan",
         "Edad": 38,
         "Hermanos": 1,
         "Hijos": 0,
         "Ticket": "nan",
         "Tarifa": 31,
         "Cabina": "nan",
         "Embarque": "nan",
         "_deepnote_index_column": "75%"
        },
        {
         "ID": 891,
         "Sobrevivientes": 1,
         "Clases": 3,
         "Nombres": "nan",
         "Género": "nan",
         "Edad": 80,
         "Hermanos": 8,
         "Hijos": 6,
         "Ticket": "nan",
         "Tarifa": 512.3292,
         "Cabina": "nan",
         "Embarque": "nan",
         "_deepnote_index_column": "max"
        }
       ],
       "rows_bottom": null
      },
      "text/plain": "                ID  Sobrevivientes      Clases            Nombres Género  \\\ncount   891.000000      891.000000  891.000000                891    891   \nunique         NaN             NaN         NaN                891      2   \ntop            NaN             NaN         NaN  Lester, Mr. James   male   \nfreq           NaN             NaN         NaN                  1    577   \nmean    446.000000        0.383838    2.308642                NaN    NaN   \nstd     257.353842        0.486592    0.836071                NaN    NaN   \nmin       1.000000        0.000000    1.000000                NaN    NaN   \n25%     223.500000        0.000000    2.000000                NaN    NaN   \n50%     446.000000        0.000000    3.000000                NaN    NaN   \n75%     668.500000        1.000000    3.000000                NaN    NaN   \nmax     891.000000        1.000000    3.000000                NaN    NaN   \n\n              Edad    Hermanos       Hijos    Ticket      Tarifa       Cabina  \\\ncount   714.000000  891.000000  891.000000       891  891.000000          204   \nunique         NaN         NaN         NaN       681         NaN          147   \ntop            NaN         NaN         NaN  CA. 2343         NaN  C23 C25 C27   \nfreq           NaN         NaN         NaN         7         NaN            4   \nmean     29.699118    0.523008    0.381594       NaN   32.204208          NaN   \nstd      14.526497    1.102743    0.806057       NaN   49.693429          NaN   \nmin       0.420000    0.000000    0.000000       NaN    0.000000          NaN   \n25%      20.125000    0.000000    0.000000       NaN    7.910400          NaN   \n50%      28.000000    0.000000    0.000000       NaN   14.454200          NaN   \n75%      38.000000    1.000000    0.000000       NaN   31.000000          NaN   \nmax      80.000000    8.000000    6.000000       NaN  512.329200          NaN   \n\n       Embarque  \ncount       889  \nunique        3  \ntop           S  \nfreq        644  \nmean        NaN  \nstd         NaN  \nmin         NaN  \n25%         NaN  \n50%         NaN  \n75%         NaN  \nmax         NaN  ",
      "text/html": "<div>\n<style scoped>\n    .dataframe tbody tr th:only-of-type {\n        vertical-align: middle;\n    }\n\n    .dataframe tbody tr th {\n        vertical-align: top;\n    }\n\n    .dataframe thead th {\n        text-align: right;\n    }\n</style>\n<table border=\"1\" class=\"dataframe\">\n  <thead>\n    <tr style=\"text-align: right;\">\n      <th></th>\n      <th>ID</th>\n      <th>Sobrevivientes</th>\n      <th>Clases</th>\n      <th>Nombres</th>\n      <th>Género</th>\n      <th>Edad</th>\n      <th>Hermanos</th>\n      <th>Hijos</th>\n      <th>Ticket</th>\n      <th>Tarifa</th>\n      <th>Cabina</th>\n      <th>Embarque</th>\n    </tr>\n  </thead>\n  <tbody>\n    <tr>\n      <th>count</th>\n      <td>891.000000</td>\n      <td>891.000000</td>\n      <td>891.000000</td>\n      <td>891</td>\n      <td>891</td>\n      <td>714.000000</td>\n      <td>891.000000</td>\n      <td>891.000000</td>\n      <td>891</td>\n      <td>891.000000</td>\n      <td>204</td>\n      <td>889</td>\n    </tr>\n    <tr>\n      <th>unique</th>\n      <td>NaN</td>\n      <td>NaN</td>\n      <td>NaN</td>\n      <td>891</td>\n      <td>2</td>\n      <td>NaN</td>\n      <td>NaN</td>\n      <td>NaN</td>\n      <td>681</td>\n      <td>NaN</td>\n      <td>147</td>\n      <td>3</td>\n    </tr>\n    <tr>\n      <th>top</th>\n      <td>NaN</td>\n      <td>NaN</td>\n      <td>NaN</td>\n      <td>Lester, Mr. James</td>\n      <td>male</td>\n      <td>NaN</td>\n      <td>NaN</td>\n      <td>NaN</td>\n      <td>CA. 2343</td>\n      <td>NaN</td>\n      <td>C23 C25 C27</td>\n      <td>S</td>\n    </tr>\n    <tr>\n      <th>freq</th>\n      <td>NaN</td>\n      <td>NaN</td>\n      <td>NaN</td>\n      <td>1</td>\n      <td>577</td>\n      <td>NaN</td>\n      <td>NaN</td>\n      <td>NaN</td>\n      <td>7</td>\n      <td>NaN</td>\n      <td>4</td>\n      <td>644</td>\n    </tr>\n    <tr>\n      <th>mean</th>\n      <td>446.000000</td>\n      <td>0.383838</td>\n      <td>2.308642</td>\n      <td>NaN</td>\n      <td>NaN</td>\n      <td>29.699118</td>\n      <td>0.523008</td>\n      <td>0.381594</td>\n      <td>NaN</td>\n      <td>32.204208</td>\n      <td>NaN</td>\n      <td>NaN</td>\n    </tr>\n    <tr>\n      <th>std</th>\n      <td>257.353842</td>\n      <td>0.486592</td>\n      <td>0.836071</td>\n      <td>NaN</td>\n      <td>NaN</td>\n      <td>14.526497</td>\n      <td>1.102743</td>\n      <td>0.806057</td>\n      <td>NaN</td>\n      <td>49.693429</td>\n      <td>NaN</td>\n      <td>NaN</td>\n    </tr>\n    <tr>\n      <th>min</th>\n      <td>1.000000</td>\n      <td>0.000000</td>\n      <td>1.000000</td>\n      <td>NaN</td>\n      <td>NaN</td>\n      <td>0.420000</td>\n      <td>0.000000</td>\n      <td>0.000000</td>\n      <td>NaN</td>\n      <td>0.000000</td>\n      <td>NaN</td>\n      <td>NaN</td>\n    </tr>\n    <tr>\n      <th>25%</th>\n      <td>223.500000</td>\n      <td>0.000000</td>\n      <td>2.000000</td>\n      <td>NaN</td>\n      <td>NaN</td>\n      <td>20.125000</td>\n      <td>0.000000</td>\n      <td>0.000000</td>\n      <td>NaN</td>\n      <td>7.910400</td>\n      <td>NaN</td>\n      <td>NaN</td>\n    </tr>\n    <tr>\n      <th>50%</th>\n      <td>446.000000</td>\n      <td>0.000000</td>\n      <td>3.000000</td>\n      <td>NaN</td>\n      <td>NaN</td>\n      <td>28.000000</td>\n      <td>0.000000</td>\n      <td>0.000000</td>\n      <td>NaN</td>\n      <td>14.454200</td>\n      <td>NaN</td>\n      <td>NaN</td>\n    </tr>\n    <tr>\n      <th>75%</th>\n      <td>668.500000</td>\n      <td>1.000000</td>\n      <td>3.000000</td>\n      <td>NaN</td>\n      <td>NaN</td>\n      <td>38.000000</td>\n      <td>1.000000</td>\n      <td>0.000000</td>\n      <td>NaN</td>\n      <td>31.000000</td>\n      <td>NaN</td>\n      <td>NaN</td>\n    </tr>\n    <tr>\n      <th>max</th>\n      <td>891.000000</td>\n      <td>1.000000</td>\n      <td>3.000000</td>\n      <td>NaN</td>\n      <td>NaN</td>\n      <td>80.000000</td>\n      <td>8.000000</td>\n      <td>6.000000</td>\n      <td>NaN</td>\n      <td>512.329200</td>\n      <td>NaN</td>\n      <td>NaN</td>\n    </tr>\n  </tbody>\n</table>\n</div>"
     },
     "metadata": {}
    }
   ]
  },
  {
   "cell_type": "markdown",
   "source": "### Para finalizar con nuestra exploración exhaustiva utilzaremos el método .info que nos visualiza las 30 filas superiores e inferiores del dataframe\n\ndf.info => Visualiza 30 filas del dataset",
   "metadata": {
    "tags": [],
    "cell_id": "00012-b66ac6e5-bf05-4242-8977-ae2d4fd4d5d9",
    "deepnote_app_coordinates": {
     "x": 0,
     "y": 78,
     "w": 12,
     "h": 5
    },
    "deepnote_cell_type": "markdown"
   }
  },
  {
   "cell_type": "code",
   "metadata": {
    "tags": [],
    "cell_id": "00013-22c7719d-b7d3-4e2b-a79a-a343214737ea",
    "deepnote_to_be_reexecuted": false,
    "source_hash": "5d53e1ef",
    "execution_start": 1633316369284,
    "execution_millis": 91,
    "deepnote_app_coordinates": {
     "x": 0,
     "y": 84,
     "w": 12,
     "h": 5
    },
    "deepnote_cell_type": "code"
   },
   "source": "df.info",
   "execution_count": null,
   "outputs": [
    {
     "output_type": "execute_result",
     "execution_count": 8,
     "data": {
      "text/plain": "<bound method DataFrame.info of       ID  Sobrevivientes  Clases  \\\n0      1               0       3   \n1      2               1       1   \n2      3               1       3   \n3      4               1       1   \n4      5               0       3   \n..   ...             ...     ...   \n886  887               0       2   \n887  888               1       1   \n888  889               0       3   \n889  890               1       1   \n890  891               0       3   \n\n                                               Nombres  Género  Edad  \\\n0                              Braund, Mr. Owen Harris    male  22.0   \n1    Cumings, Mrs. John Bradley (Florence Briggs Th...  female  38.0   \n2                               Heikkinen, Miss. Laina  female  26.0   \n3         Futrelle, Mrs. Jacques Heath (Lily May Peel)  female  35.0   \n4                             Allen, Mr. William Henry    male  35.0   \n..                                                 ...     ...   ...   \n886                              Montvila, Rev. Juozas    male  27.0   \n887                       Graham, Miss. Margaret Edith  female  19.0   \n888           Johnston, Miss. Catherine Helen \"Carrie\"  female   NaN   \n889                              Behr, Mr. Karl Howell    male  26.0   \n890                                Dooley, Mr. Patrick    male  32.0   \n\n     Hermanos  Hijos            Ticket   Tarifa Cabina Embarque  \n0           1      0         A/5 21171   7.2500    NaN        S  \n1           1      0          PC 17599  71.2833    C85        C  \n2           0      0  STON/O2. 3101282   7.9250    NaN        S  \n3           1      0            113803  53.1000   C123        S  \n4           0      0            373450   8.0500    NaN        S  \n..        ...    ...               ...      ...    ...      ...  \n886         0      0            211536  13.0000    NaN        S  \n887         0      0            112053  30.0000    B42        S  \n888         1      2        W./C. 6607  23.4500    NaN        S  \n889         0      0            111369  30.0000   C148        C  \n890         0      0            370376   7.7500    NaN        Q  \n\n[891 rows x 12 columns]>"
     },
     "metadata": {}
    }
   ]
  },
  {
   "cell_type": "markdown",
   "source": "### Manipulación de datos, llegamos al punto en el que analizamos con detenimiento si debemos corregir datos perdidos, ya que lo que harían es entorpecer nuestro proceso de modelamiento, tenemos ciertas opciones las cuáles son:\n\n    1. Verificar con la persona que recopiló los datos si se puede encontrar el valor faltante\n    2. Eliminar los datos donde se encuentra un valor perdido\n    3. Reemplazar los datos, esto se puede hacer calculando el valor promedio de la variable completa (Solo en caso para datos numéricos)\n    4. Dejar los datos faltantes así como datos perdidos\n\nSupongamos que nos decidimos por eliminar datos faltantes, utilizaremos el método .dropna, procederemos a seleccionar la fila o columna utilizando el comando axis, pero normalmente no es lo ideal porque nos deshacemos de un gran número de datos que pueden sernos útil, para eso tenemos otras opciones  \n<br />\nComo podemos observar en nuestro dataset en la columna *Cabina* es donde más hay datos faltantes, una buena opción sería hacer: \n\n<br />\n\n<df.dropna(subset = [\"Cabina\"], axis = 0, inplace = True)> Estaríamos eliminando los datos de la columna *Cabina* que sean faltantes pero no nos conviene del todo  \n\n<br />\nOtra opción sería reemplazar datos numéricos en donde hagan falta como es el caso de la Edad en nuestro trabajo, por un valor promedio de la misma columna, utilizando el método .mean, posteriormente nos arroja un valor muy cercano a 30 el cual fue el que promediamos y lo definimos para que más adelante sea usado como argumento para reemplazar los valores NaN, utilizamos el método .replace con el argumento promedio para deshacernos de esos datos\n\n<br />\ndf.dropna => Consiste en elegir la fila o columna que contenga valores faltantes y eliminarla\n\naxis = 0 => Para eliminar filas\n\naxis = 1 => Para eliminar columnas\n\ndf[\"Edad\"].mean() => Nos devuelve el valor promedio que se encuentra en la columna *Edad*\n\ndf = df[\"Edad\"].replace(np.nan, promedio) => Estaríamos reemplazando el argumento *promedio* en lugar de valores *NaN* en nuestra columna *Edad*",
   "metadata": {
    "tags": [],
    "cell_id": "00015-0679ddab-a09c-4998-9018-503919041f5c",
    "deepnote_app_coordinates": {
     "x": 0,
     "y": 90,
     "w": 12,
     "h": 5
    },
    "deepnote_cell_type": "markdown"
   }
  },
  {
   "cell_type": "code",
   "metadata": {
    "tags": [],
    "cell_id": "00016-7589375f-cfe2-431b-be8e-1a4603a84f62",
    "deepnote_to_be_reexecuted": false,
    "source_hash": "a2b0f5da",
    "execution_start": 1633316369378,
    "execution_millis": 41,
    "deepnote_app_coordinates": {
     "x": 0,
     "y": 96,
     "w": 12,
     "h": 5
    },
    "deepnote_cell_type": "code"
   },
   "source": "df[\"Edad\"].mean()",
   "execution_count": null,
   "outputs": [
    {
     "output_type": "execute_result",
     "execution_count": 9,
     "data": {
      "text/plain": "29.69911764705882"
     },
     "metadata": {}
    }
   ]
  },
  {
   "cell_type": "code",
   "metadata": {
    "tags": [],
    "cell_id": "00017-7aec12ed-82c0-493c-8d4a-fa79b6408940",
    "deepnote_to_be_reexecuted": false,
    "source_hash": "64bc3d2e",
    "execution_start": 1633316369407,
    "execution_millis": 422124805,
    "deepnote_app_coordinates": {
     "x": 0,
     "y": 102,
     "w": 12,
     "h": 5
    },
    "deepnote_cell_type": "code"
   },
   "source": "# Promedio de edades\n\npromedio = 30",
   "execution_count": null,
   "outputs": []
  },
  {
   "cell_type": "code",
   "metadata": {
    "tags": [],
    "cell_id": "00018-662ae90d-7bc5-41be-acb8-d3945651c51a",
    "deepnote_to_be_reexecuted": false,
    "source_hash": "39122181",
    "execution_start": 1633316369470,
    "execution_millis": 422124808,
    "deepnote_app_coordinates": {
     "x": 0,
     "y": 108,
     "w": 12,
     "h": 5
    },
    "deepnote_cell_type": "code"
   },
   "source": "df[\"Edad\"] = df[\"Edad\"].replace(np.nan, promedio)",
   "execution_count": null,
   "outputs": []
  },
  {
   "cell_type": "markdown",
   "source": "### Como podemos observar en los campos que contenían *NaN* han sido sustituidos por el valor 30 (promedio de edades)",
   "metadata": {
    "tags": [],
    "cell_id": "00019-b5e03495-cf5a-4b90-a6bd-ca46b1ab2d71",
    "deepnote_app_coordinates": {
     "x": 0,
     "y": 114,
     "w": 12,
     "h": 5
    },
    "deepnote_cell_type": "markdown"
   }
  },
  {
   "cell_type": "code",
   "metadata": {
    "tags": [],
    "cell_id": "00020-5eed209e-37ca-4316-9ede-26cd4dda9c11",
    "deepnote_to_be_reexecuted": false,
    "source_hash": "244bca08",
    "execution_start": 1633316369510,
    "execution_millis": 0,
    "deepnote_app_coordinates": {
     "x": 0,
     "y": 120,
     "w": 12,
     "h": 5
    },
    "deepnote_cell_type": "code"
   },
   "source": "# Visualizamos los 11 primeros datos de la columna\n\ndf[\"Edad\"].head(11)",
   "execution_count": null,
   "outputs": [
    {
     "output_type": "execute_result",
     "execution_count": 12,
     "data": {
      "text/plain": "0     22.0\n1     38.0\n2     26.0\n3     35.0\n4     35.0\n5     30.0\n6     54.0\n7      2.0\n8     27.0\n9     14.0\n10     4.0\nName: Edad, dtype: float64"
     },
     "metadata": {}
    }
   ]
  },
  {
   "cell_type": "markdown",
   "source": "### Cambiando variables categóricas por numéricas, tal es el caso de la columna *Género* en la que tenemos 2 tipos de datos: hombre o mujer, es un tipo de dato que podemos cambiar para que sea calculable dentro del modelamiento\n\nPara esto utilizaremos el método pd.get_dummies() para hacer dicha tarea, dividiendo la columna en 2 una para hombres y otra para mujeres, sin embargo no es del todo conveniente tener dos o más columnas parecidas, porque podría causarnos un error al momento de ejecutar un algoritmo matemático, entonces eliminaremos una de las dos columnas sin perder información utilizando el método .drop_first = True, en nuestro método pd.get_dummies(), quedando así:  \n<df = pd.get_dummies(df, columns = [\"Género\"], drop_first = True)>  \n<br />\npd.get_dummies => Transforma nuestros datos categóricos en datos numéricos  \ndf = pd.get_dummies(df, columns = [\"Género\"], drop_first = True) => Transforma nuestros datos categóricos a numéricos y elimina una columna que no usaremos en el modelamiento haciendo la información más precisa",
   "metadata": {
    "tags": [],
    "cell_id": "00021-2e3896b0-0716-4b44-b149-bdfa44a8dd0d",
    "deepnote_app_coordinates": {
     "x": 0,
     "y": 126,
     "w": 12,
     "h": 5
    },
    "deepnote_cell_type": "markdown"
   }
  },
  {
   "cell_type": "code",
   "metadata": {
    "tags": [],
    "cell_id": "00022-d712c9f0-3966-4b8d-a385-28371bc6a9cd",
    "deepnote_to_be_reexecuted": false,
    "source_hash": "6dc37692",
    "execution_start": 1633316369511,
    "execution_millis": 2,
    "deepnote_app_coordinates": {
     "x": 0,
     "y": 132,
     "w": 12,
     "h": 5
    },
    "deepnote_cell_type": "code"
   },
   "source": "df = pd.get_dummies(df, columns = [\"Género\"], drop_first = True)",
   "execution_count": null,
   "outputs": []
  },
  {
   "cell_type": "code",
   "metadata": {
    "tags": [],
    "cell_id": "00023-235950c7-ea11-4c40-9ebd-b5121c265965",
    "deepnote_to_be_reexecuted": false,
    "source_hash": "21d8bb49",
    "execution_start": 1633316369512,
    "execution_millis": 5,
    "deepnote_app_coordinates": {
     "x": 0,
     "y": 138,
     "w": 12,
     "h": 5
    },
    "deepnote_cell_type": "code"
   },
   "source": "# Nuestra nueva columna\n\ndf[\"Género_male\"].head(11)",
   "execution_count": null,
   "outputs": [
    {
     "output_type": "execute_result",
     "execution_count": 14,
     "data": {
      "text/plain": "0     1\n1     0\n2     0\n3     0\n4     1\n5     1\n6     1\n7     1\n8     0\n9     0\n10    0\nName: Género_male, dtype: uint8"
     },
     "metadata": {}
    }
   ]
  },
  {
   "cell_type": "markdown",
   "source": "### Podemos renombrar la columna utilizando el método .rename, asignando el nombre actual y nuevo nombre como key y value\n\ndf.rename => Este método requiere que se le asigne un diccionario con el nombre original como clave y el nuevo nombre como valor.",
   "metadata": {
    "tags": [],
    "cell_id": "00024-f895b5c0-099e-4ce2-bebc-1e2db34d5400",
    "deepnote_app_coordinates": {
     "x": 0,
     "y": 144,
     "w": 12,
     "h": 5
    },
    "deepnote_cell_type": "markdown"
   }
  },
  {
   "cell_type": "code",
   "metadata": {
    "tags": [],
    "cell_id": "00024-569bf142-9320-4f3d-b5df-97b416721e65",
    "deepnote_to_be_reexecuted": false,
    "source_hash": "a24f92ad",
    "execution_start": 1633316369596,
    "execution_millis": 1,
    "deepnote_app_coordinates": {
     "x": 0,
     "y": 150,
     "w": 12,
     "h": 5
    },
    "deepnote_cell_type": "code"
   },
   "source": "# Renombramos la columna deseada\n\ndf = df.rename(columns={'Género_male':'Género'})",
   "execution_count": null,
   "outputs": []
  },
  {
   "cell_type": "markdown",
   "source": "### Observamos que de nuevo utilizamos el mismo nombre en nuestra columna pero ahora con los valores binarios en *Género*",
   "metadata": {
    "tags": [],
    "cell_id": "00026-92d9bf88-4fe9-4e34-9675-c56a0683134f",
    "deepnote_app_coordinates": {
     "x": 0,
     "y": 156,
     "w": 12,
     "h": 5
    },
    "deepnote_cell_type": "markdown"
   }
  },
  {
   "cell_type": "code",
   "metadata": {
    "tags": [],
    "cell_id": "00026-c1a316fd-d18d-4cd4-ad32-96c1cfc1665c",
    "deepnote_to_be_reexecuted": false,
    "source_hash": "7bd471a8",
    "execution_start": 1633316369597,
    "execution_millis": 13,
    "deepnote_app_coordinates": {
     "x": 0,
     "y": 162,
     "w": 12,
     "h": 5
    },
    "deepnote_cell_type": "code"
   },
   "source": "# Etiqueta con el nombre Género en la columna\n\ndf[\"Género\"].head(11)",
   "execution_count": null,
   "outputs": [
    {
     "output_type": "execute_result",
     "execution_count": 16,
     "data": {
      "text/plain": "0     1\n1     0\n2     0\n3     0\n4     1\n5     1\n6     1\n7     1\n8     0\n9     0\n10    0\nName: Género, dtype: uint8"
     },
     "metadata": {}
    }
   ]
  },
  {
   "cell_type": "markdown",
   "source": "### Agrupamos los datos en compartimientos (rangos) podemos mejorar la precisión de los modelos predictivos, a su vez puede mejorar la comprensión de la distribución de los datos \n\nEl método es pd.cut, pero primero debemos segmentar la información, para eso creamos unos rangos a nuestro gusto con el comando **bins** y asignamos unas etiquetas preferiblemente numéricas para el Machine Learner en una variable llamada names, los números contenidos en names simplemente comprenden los rangos distribuidos de esa manera, significa que:  \n<br />\n\n0 ~ 5 años = 1\n\n6 ~ 12 años = 2\n\n13 ~ 18 años = 3\n\n19 ~ 35 años = 4\n\n36 ~ 60 años = 5\n\n61 ~ 100 años = 6\n\n<br />\nbins => Crea los rangos que deseamos en la distribución\n\nlabels => Etiquetas\n\npd.cut => Segmenta la información en rangos",
   "metadata": {
    "tags": [],
    "cell_id": "00028-7f568e29-8c88-4fb5-8006-2f97537e1960",
    "deepnote_app_coordinates": {
     "x": 0,
     "y": 168,
     "w": 12,
     "h": 5
    },
    "deepnote_cell_type": "markdown"
   }
  },
  {
   "cell_type": "code",
   "metadata": {
    "tags": [],
    "cell_id": "00029-29dce61e-3011-45f3-ba13-e5767da56e67",
    "deepnote_to_be_reexecuted": false,
    "source_hash": "302eb622",
    "execution_start": 1633316369598,
    "execution_millis": 1,
    "deepnote_app_coordinates": {
     "x": 0,
     "y": 174,
     "w": 12,
     "h": 5
    },
    "deepnote_cell_type": "code"
   },
   "source": "# Rangos y etiquetas\n\nbins = [0, 5, 12, 18, 35, 60, 100]\n\nnames = [\"1\",\"2\",\"3\",\"4\",\"5\",\"6\"]",
   "execution_count": null,
   "outputs": []
  },
  {
   "cell_type": "code",
   "metadata": {
    "tags": [],
    "cell_id": "00030-accfb578-629b-408b-9fb4-77eb0c4cfd4b",
    "deepnote_to_be_reexecuted": false,
    "source_hash": "9a94b212",
    "execution_start": 1633316369601,
    "execution_millis": 3,
    "deepnote_app_coordinates": {
     "x": 0,
     "y": 180,
     "w": 12,
     "h": 5
    },
    "deepnote_cell_type": "code"
   },
   "source": "df[\"Edad\"] = pd.cut(df[\"Edad\"], bins, labels = names)",
   "execution_count": null,
   "outputs": []
  },
  {
   "cell_type": "code",
   "metadata": {
    "tags": [],
    "cell_id": "00031-dae617f6-dc4d-4820-8ce2-f18de2fd6707",
    "deepnote_to_be_reexecuted": false,
    "source_hash": "e640778",
    "execution_start": 1633316369788,
    "execution_millis": 24,
    "deepnote_app_coordinates": {
     "x": 0,
     "y": 186,
     "w": 12,
     "h": 5
    },
    "deepnote_cell_type": "code"
   },
   "source": "df.head(7)",
   "execution_count": null,
   "outputs": [
    {
     "output_type": "execute_result",
     "execution_count": 19,
     "data": {
      "application/vnd.deepnote.dataframe.v2+json": {
       "row_count": 7,
       "column_count": 12,
       "columns": [
        {
         "name": "ID",
         "dtype": "int64",
         "stats": {
          "unique_count": 7,
          "nan_count": 0,
          "min": "1",
          "max": "7",
          "histogram": [
           {
            "bin_start": 1,
            "bin_end": 1.6,
            "count": 1
           },
           {
            "bin_start": 1.6,
            "bin_end": 2.2,
            "count": 1
           },
           {
            "bin_start": 2.2,
            "bin_end": 2.8,
            "count": 0
           },
           {
            "bin_start": 2.8,
            "bin_end": 3.4,
            "count": 1
           },
           {
            "bin_start": 3.4,
            "bin_end": 4,
            "count": 0
           },
           {
            "bin_start": 4,
            "bin_end": 4.6,
            "count": 1
           },
           {
            "bin_start": 4.6,
            "bin_end": 5.2,
            "count": 1
           },
           {
            "bin_start": 5.2,
            "bin_end": 5.8,
            "count": 0
           },
           {
            "bin_start": 5.8,
            "bin_end": 6.3999999999999995,
            "count": 1
           },
           {
            "bin_start": 6.3999999999999995,
            "bin_end": 7,
            "count": 1
           }
          ]
         }
        },
        {
         "name": "Sobrevivientes",
         "dtype": "int64",
         "stats": {
          "unique_count": 2,
          "nan_count": 0,
          "min": "0",
          "max": "1",
          "histogram": [
           {
            "bin_start": 0,
            "bin_end": 0.1,
            "count": 4
           },
           {
            "bin_start": 0.1,
            "bin_end": 0.2,
            "count": 0
           },
           {
            "bin_start": 0.2,
            "bin_end": 0.30000000000000004,
            "count": 0
           },
           {
            "bin_start": 0.30000000000000004,
            "bin_end": 0.4,
            "count": 0
           },
           {
            "bin_start": 0.4,
            "bin_end": 0.5,
            "count": 0
           },
           {
            "bin_start": 0.5,
            "bin_end": 0.6000000000000001,
            "count": 0
           },
           {
            "bin_start": 0.6000000000000001,
            "bin_end": 0.7000000000000001,
            "count": 0
           },
           {
            "bin_start": 0.7000000000000001,
            "bin_end": 0.8,
            "count": 0
           },
           {
            "bin_start": 0.8,
            "bin_end": 0.9,
            "count": 0
           },
           {
            "bin_start": 0.9,
            "bin_end": 1,
            "count": 3
           }
          ]
         }
        },
        {
         "name": "Clases",
         "dtype": "int64",
         "stats": {
          "unique_count": 2,
          "nan_count": 0,
          "min": "1",
          "max": "3",
          "histogram": [
           {
            "bin_start": 1,
            "bin_end": 1.2,
            "count": 3
           },
           {
            "bin_start": 1.2,
            "bin_end": 1.4,
            "count": 0
           },
           {
            "bin_start": 1.4,
            "bin_end": 1.6,
            "count": 0
           },
           {
            "bin_start": 1.6,
            "bin_end": 1.8,
            "count": 0
           },
           {
            "bin_start": 1.8,
            "bin_end": 2,
            "count": 0
           },
           {
            "bin_start": 2,
            "bin_end": 2.2,
            "count": 0
           },
           {
            "bin_start": 2.2,
            "bin_end": 2.4000000000000004,
            "count": 0
           },
           {
            "bin_start": 2.4000000000000004,
            "bin_end": 2.6,
            "count": 0
           },
           {
            "bin_start": 2.6,
            "bin_end": 2.8,
            "count": 0
           },
           {
            "bin_start": 2.8,
            "bin_end": 3,
            "count": 4
           }
          ]
         }
        },
        {
         "name": "Nombres",
         "dtype": "object",
         "stats": {
          "unique_count": 7,
          "nan_count": 0,
          "categories": [
           {
            "name": "Braund, Mr. Owen Harris",
            "count": 1
           },
           {
            "name": "Cumings, Mrs. John Bradley (Florence Briggs Thayer)",
            "count": 1
           },
           {
            "name": "5 others",
            "count": 5
           }
          ]
         }
        },
        {
         "name": "Edad",
         "dtype": "category",
         "stats": {
          "unique_count": 2,
          "nan_count": 0,
          "categories": [
           {
            "name": "4",
            "count": 5
           },
           {
            "name": "5",
            "count": 2
           }
          ]
         }
        },
        {
         "name": "Hermanos",
         "dtype": "int64",
         "stats": {
          "unique_count": 2,
          "nan_count": 0,
          "min": "0",
          "max": "1",
          "histogram": [
           {
            "bin_start": 0,
            "bin_end": 0.1,
            "count": 4
           },
           {
            "bin_start": 0.1,
            "bin_end": 0.2,
            "count": 0
           },
           {
            "bin_start": 0.2,
            "bin_end": 0.30000000000000004,
            "count": 0
           },
           {
            "bin_start": 0.30000000000000004,
            "bin_end": 0.4,
            "count": 0
           },
           {
            "bin_start": 0.4,
            "bin_end": 0.5,
            "count": 0
           },
           {
            "bin_start": 0.5,
            "bin_end": 0.6000000000000001,
            "count": 0
           },
           {
            "bin_start": 0.6000000000000001,
            "bin_end": 0.7000000000000001,
            "count": 0
           },
           {
            "bin_start": 0.7000000000000001,
            "bin_end": 0.8,
            "count": 0
           },
           {
            "bin_start": 0.8,
            "bin_end": 0.9,
            "count": 0
           },
           {
            "bin_start": 0.9,
            "bin_end": 1,
            "count": 3
           }
          ]
         }
        },
        {
         "name": "Hijos",
         "dtype": "int64",
         "stats": {
          "unique_count": 1,
          "nan_count": 0,
          "min": "0",
          "max": "0",
          "histogram": [
           {
            "bin_start": -0.5,
            "bin_end": -0.4,
            "count": 0
           },
           {
            "bin_start": -0.4,
            "bin_end": -0.3,
            "count": 0
           },
           {
            "bin_start": -0.3,
            "bin_end": -0.19999999999999996,
            "count": 0
           },
           {
            "bin_start": -0.19999999999999996,
            "bin_end": -0.09999999999999998,
            "count": 0
           },
           {
            "bin_start": -0.09999999999999998,
            "bin_end": 0,
            "count": 0
           },
           {
            "bin_start": 0,
            "bin_end": 0.10000000000000009,
            "count": 7
           },
           {
            "bin_start": 0.10000000000000009,
            "bin_end": 0.20000000000000007,
            "count": 0
           },
           {
            "bin_start": 0.20000000000000007,
            "bin_end": 0.30000000000000004,
            "count": 0
           },
           {
            "bin_start": 0.30000000000000004,
            "bin_end": 0.4,
            "count": 0
           },
           {
            "bin_start": 0.4,
            "bin_end": 0.5,
            "count": 0
           }
          ]
         }
        },
        {
         "name": "Ticket",
         "dtype": "object",
         "stats": {
          "unique_count": 7,
          "nan_count": 0,
          "categories": [
           {
            "name": "A/5 21171",
            "count": 1
           },
           {
            "name": "PC 17599",
            "count": 1
           },
           {
            "name": "5 others",
            "count": 5
           }
          ]
         }
        },
        {
         "name": "Tarifa",
         "dtype": "float64",
         "stats": {
          "unique_count": 7,
          "nan_count": 0,
          "min": "7.25",
          "max": "71.2833",
          "histogram": [
           {
            "bin_start": 7.25,
            "bin_end": 13.65333,
            "count": 4
           },
           {
            "bin_start": 13.65333,
            "bin_end": 20.05666,
            "count": 0
           },
           {
            "bin_start": 20.05666,
            "bin_end": 26.459989999999998,
            "count": 0
           },
           {
            "bin_start": 26.459989999999998,
            "bin_end": 32.86332,
            "count": 0
           },
           {
            "bin_start": 32.86332,
            "bin_end": 39.26665,
            "count": 0
           },
           {
            "bin_start": 39.26665,
            "bin_end": 45.669979999999995,
            "count": 0
           },
           {
            "bin_start": 45.669979999999995,
            "bin_end": 52.07331,
            "count": 1
           },
           {
            "bin_start": 52.07331,
            "bin_end": 58.476639999999996,
            "count": 1
           },
           {
            "bin_start": 58.476639999999996,
            "bin_end": 64.87996999999999,
            "count": 0
           },
           {
            "bin_start": 64.87996999999999,
            "bin_end": 71.2833,
            "count": 1
           }
          ]
         }
        },
        {
         "name": "Cabina",
         "dtype": "object",
         "stats": {
          "unique_count": 3,
          "nan_count": 4,
          "categories": [
           {
            "name": "C85",
            "count": 1
           },
           {
            "name": "2 others",
            "count": 2
           },
           {
            "name": "Missing",
            "count": 4
           }
          ]
         }
        },
        {
         "name": "Embarque",
         "dtype": "object",
         "stats": {
          "unique_count": 3,
          "nan_count": 0,
          "categories": [
           {
            "name": "S",
            "count": 5
           },
           {
            "name": "C",
            "count": 1
           },
           {
            "name": "Q",
            "count": 1
           }
          ]
         }
        },
        {
         "name": "Género",
         "dtype": "uint8",
         "stats": {
          "unique_count": 2,
          "nan_count": 0,
          "min": "0",
          "max": "1",
          "histogram": [
           {
            "bin_start": 0,
            "bin_end": 0.1,
            "count": 3
           },
           {
            "bin_start": 0.1,
            "bin_end": 0.2,
            "count": 0
           },
           {
            "bin_start": 0.2,
            "bin_end": 0.30000000000000004,
            "count": 0
           },
           {
            "bin_start": 0.30000000000000004,
            "bin_end": 0.4,
            "count": 0
           },
           {
            "bin_start": 0.4,
            "bin_end": 0.5,
            "count": 0
           },
           {
            "bin_start": 0.5,
            "bin_end": 0.6000000000000001,
            "count": 0
           },
           {
            "bin_start": 0.6000000000000001,
            "bin_end": 0.7000000000000001,
            "count": 0
           },
           {
            "bin_start": 0.7000000000000001,
            "bin_end": 0.8,
            "count": 0
           },
           {
            "bin_start": 0.8,
            "bin_end": 0.9,
            "count": 0
           },
           {
            "bin_start": 0.9,
            "bin_end": 1,
            "count": 4
           }
          ]
         }
        },
        {
         "name": "_deepnote_index_column",
         "dtype": "int64"
        }
       ],
       "rows_top": [
        {
         "ID": 1,
         "Sobrevivientes": 0,
         "Clases": 3,
         "Nombres": "Braund, Mr. Owen Harris",
         "Edad": "4",
         "Hermanos": 1,
         "Hijos": 0,
         "Ticket": "A/5 21171",
         "Tarifa": 7.25,
         "Cabina": "nan",
         "Embarque": "S",
         "Género": 1,
         "_deepnote_index_column": 0
        },
        {
         "ID": 2,
         "Sobrevivientes": 1,
         "Clases": 1,
         "Nombres": "Cumings, Mrs. John Bradley (Florence Briggs Thayer)",
         "Edad": "5",
         "Hermanos": 1,
         "Hijos": 0,
         "Ticket": "PC 17599",
         "Tarifa": 71.2833,
         "Cabina": "C85",
         "Embarque": "C",
         "Género": 0,
         "_deepnote_index_column": 1
        },
        {
         "ID": 3,
         "Sobrevivientes": 1,
         "Clases": 3,
         "Nombres": "Heikkinen, Miss. Laina",
         "Edad": "4",
         "Hermanos": 0,
         "Hijos": 0,
         "Ticket": "STON/O2. 3101282",
         "Tarifa": 7.925,
         "Cabina": "nan",
         "Embarque": "S",
         "Género": 0,
         "_deepnote_index_column": 2
        },
        {
         "ID": 4,
         "Sobrevivientes": 1,
         "Clases": 1,
         "Nombres": "Futrelle, Mrs. Jacques Heath (Lily May Peel)",
         "Edad": "4",
         "Hermanos": 1,
         "Hijos": 0,
         "Ticket": "113803",
         "Tarifa": 53.1,
         "Cabina": "C123",
         "Embarque": "S",
         "Género": 0,
         "_deepnote_index_column": 3
        },
        {
         "ID": 5,
         "Sobrevivientes": 0,
         "Clases": 3,
         "Nombres": "Allen, Mr. William Henry",
         "Edad": "4",
         "Hermanos": 0,
         "Hijos": 0,
         "Ticket": "373450",
         "Tarifa": 8.05,
         "Cabina": "nan",
         "Embarque": "S",
         "Género": 1,
         "_deepnote_index_column": 4
        },
        {
         "ID": 6,
         "Sobrevivientes": 0,
         "Clases": 3,
         "Nombres": "Moran, Mr. James",
         "Edad": "4",
         "Hermanos": 0,
         "Hijos": 0,
         "Ticket": "330877",
         "Tarifa": 8.4583,
         "Cabina": "nan",
         "Embarque": "Q",
         "Género": 1,
         "_deepnote_index_column": 5
        },
        {
         "ID": 7,
         "Sobrevivientes": 0,
         "Clases": 1,
         "Nombres": "McCarthy, Mr. Timothy J",
         "Edad": "5",
         "Hermanos": 0,
         "Hijos": 0,
         "Ticket": "17463",
         "Tarifa": 51.8625,
         "Cabina": "E46",
         "Embarque": "S",
         "Género": 1,
         "_deepnote_index_column": 6
        }
       ],
       "rows_bottom": null
      },
      "text/plain": "   ID  Sobrevivientes  Clases  \\\n0   1               0       3   \n1   2               1       1   \n2   3               1       3   \n3   4               1       1   \n4   5               0       3   \n5   6               0       3   \n6   7               0       1   \n\n                                             Nombres Edad  Hermanos  Hijos  \\\n0                            Braund, Mr. Owen Harris    4         1      0   \n1  Cumings, Mrs. John Bradley (Florence Briggs Th...    5         1      0   \n2                             Heikkinen, Miss. Laina    4         0      0   \n3       Futrelle, Mrs. Jacques Heath (Lily May Peel)    4         1      0   \n4                           Allen, Mr. William Henry    4         0      0   \n5                                   Moran, Mr. James    4         0      0   \n6                            McCarthy, Mr. Timothy J    5         0      0   \n\n             Ticket   Tarifa Cabina Embarque  Género  \n0         A/5 21171   7.2500    NaN        S       1  \n1          PC 17599  71.2833    C85        C       0  \n2  STON/O2. 3101282   7.9250    NaN        S       0  \n3            113803  53.1000   C123        S       0  \n4            373450   8.0500    NaN        S       1  \n5            330877   8.4583    NaN        Q       1  \n6             17463  51.8625    E46        S       1  ",
      "text/html": "<div>\n<style scoped>\n    .dataframe tbody tr th:only-of-type {\n        vertical-align: middle;\n    }\n\n    .dataframe tbody tr th {\n        vertical-align: top;\n    }\n\n    .dataframe thead th {\n        text-align: right;\n    }\n</style>\n<table border=\"1\" class=\"dataframe\">\n  <thead>\n    <tr style=\"text-align: right;\">\n      <th></th>\n      <th>ID</th>\n      <th>Sobrevivientes</th>\n      <th>Clases</th>\n      <th>Nombres</th>\n      <th>Edad</th>\n      <th>Hermanos</th>\n      <th>Hijos</th>\n      <th>Ticket</th>\n      <th>Tarifa</th>\n      <th>Cabina</th>\n      <th>Embarque</th>\n      <th>Género</th>\n    </tr>\n  </thead>\n  <tbody>\n    <tr>\n      <th>0</th>\n      <td>1</td>\n      <td>0</td>\n      <td>3</td>\n      <td>Braund, Mr. Owen Harris</td>\n      <td>4</td>\n      <td>1</td>\n      <td>0</td>\n      <td>A/5 21171</td>\n      <td>7.2500</td>\n      <td>NaN</td>\n      <td>S</td>\n      <td>1</td>\n    </tr>\n    <tr>\n      <th>1</th>\n      <td>2</td>\n      <td>1</td>\n      <td>1</td>\n      <td>Cumings, Mrs. John Bradley (Florence Briggs Th...</td>\n      <td>5</td>\n      <td>1</td>\n      <td>0</td>\n      <td>PC 17599</td>\n      <td>71.2833</td>\n      <td>C85</td>\n      <td>C</td>\n      <td>0</td>\n    </tr>\n    <tr>\n      <th>2</th>\n      <td>3</td>\n      <td>1</td>\n      <td>3</td>\n      <td>Heikkinen, Miss. Laina</td>\n      <td>4</td>\n      <td>0</td>\n      <td>0</td>\n      <td>STON/O2. 3101282</td>\n      <td>7.9250</td>\n      <td>NaN</td>\n      <td>S</td>\n      <td>0</td>\n    </tr>\n    <tr>\n      <th>3</th>\n      <td>4</td>\n      <td>1</td>\n      <td>1</td>\n      <td>Futrelle, Mrs. Jacques Heath (Lily May Peel)</td>\n      <td>4</td>\n      <td>1</td>\n      <td>0</td>\n      <td>113803</td>\n      <td>53.1000</td>\n      <td>C123</td>\n      <td>S</td>\n      <td>0</td>\n    </tr>\n    <tr>\n      <th>4</th>\n      <td>5</td>\n      <td>0</td>\n      <td>3</td>\n      <td>Allen, Mr. William Henry</td>\n      <td>4</td>\n      <td>0</td>\n      <td>0</td>\n      <td>373450</td>\n      <td>8.0500</td>\n      <td>NaN</td>\n      <td>S</td>\n      <td>1</td>\n    </tr>\n    <tr>\n      <th>5</th>\n      <td>6</td>\n      <td>0</td>\n      <td>3</td>\n      <td>Moran, Mr. James</td>\n      <td>4</td>\n      <td>0</td>\n      <td>0</td>\n      <td>330877</td>\n      <td>8.4583</td>\n      <td>NaN</td>\n      <td>Q</td>\n      <td>1</td>\n    </tr>\n    <tr>\n      <th>6</th>\n      <td>7</td>\n      <td>0</td>\n      <td>1</td>\n      <td>McCarthy, Mr. Timothy J</td>\n      <td>5</td>\n      <td>0</td>\n      <td>0</td>\n      <td>17463</td>\n      <td>51.8625</td>\n      <td>E46</td>\n      <td>S</td>\n      <td>1</td>\n    </tr>\n  </tbody>\n</table>\n</div>"
     },
     "metadata": {}
    }
   ]
  },
  {
   "cell_type": "markdown",
   "source": "### Trabajo completado\n\n![link text](https://media.giphy.com/media/fDzM81OYrNjJC/source.gif?cid=ecf05e471mkgebs0ci5cquqshmfeg7fbpcbmws5rspjgh31e&rid=source.gif&ct=g)",
   "metadata": {
    "tags": [],
    "cell_id": "00034-b8bd5c8d-bcab-4de1-b6ca-81666785dd24",
    "deepnote_app_coordinates": {
     "x": 0,
     "y": 198,
     "w": 12,
     "h": 5
    },
    "deepnote_cell_type": "markdown"
   }
  },
  {
   "cell_type": "markdown",
   "source": "<a style='text-decoration:none;line-height:16px;display:flex;color:#5B5B62;padding:10px;justify-content:end;' href='https://deepnote.com?utm_source=created-in-deepnote-cell&projectId=4ec84517-f553-446b-9032-1da3132bd62a' target=\"_blank\">\n<img alt='Created in deepnote.com' style='display:inline;max-height:16px;margin:0px;margin-right:7.5px;' src='data:image/svg+xml;base64,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' > </img>\nCreated in <span style='font-weight:600;margin-left:4px;'>Deepnote</span></a>",
   "metadata": {
    "tags": [],
    "created_in_deepnote_cell": true,
    "deepnote_cell_type": "markdown"
   }
  }
 ],
 "nbformat": 4,
 "nbformat_minor": 2,
 "metadata": {
  "orig_nbformat": 2,
  "deepnote": {
   "is_reactive": false
  },
  "deepnote_notebook_id": "6d4fb232-eb49-4991-94c8-714c36ef10fe",
  "deepnote_execution_queue": [],
  "deepnote_app_layout": "article"
 }
}