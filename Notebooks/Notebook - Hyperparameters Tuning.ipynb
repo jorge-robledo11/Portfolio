{
 "cells": [
  {
   "cell_type": "code",
   "execution_count": 1,
   "metadata": {
    "cell_id": "00000-e975cf8b-dbc0-41b2-a325-8ecbe454bb00",
    "deepnote_cell_type": "code",
    "deepnote_to_be_reexecuted": false,
    "execution_millis": 1470,
    "execution_start": 1637016791673,
    "source_hash": "ec86f59a",
    "tags": []
   },
   "outputs": [],
   "source": [
    "# Core\n",
    "import numpy as np\n",
    "import pandas as pd\n",
    "import matplotlib.pyplot as plt\n",
    "import seaborn as sns"
   ]
  },
  {
   "cell_type": "code",
   "execution_count": 2,
   "metadata": {
    "cell_id": "00002-62ef3959-80cd-41c3-a9b0-e817175ca598",
    "deepnote_cell_type": "code",
    "deepnote_to_be_reexecuted": false,
    "execution_millis": 140,
    "execution_start": 1637016793151,
    "source_hash": "8b4eb950",
    "tags": []
   },
   "outputs": [
    {
     "data": {
      "application/vnd.deepnote.dataframe.v2+json": {
       "column_count": 5,
       "columns": [
        {
         "dtype": "int64",
         "name": "User ID",
         "stats": {
          "histogram": [
           {
            "bin_end": 15624015.8,
            "bin_start": 15603246,
            "count": 1
           },
           {
            "bin_end": 15644785.6,
            "bin_start": 15624015.8,
            "count": 1
           },
           {
            "bin_end": 15665555.4,
            "bin_start": 15644785.6,
            "count": 0
           },
           {
            "bin_end": 15686325.2,
            "bin_start": 15665555.4,
            "count": 1
           },
           {
            "bin_end": 15707095,
            "bin_start": 15686325.2,
            "count": 0
           },
           {
            "bin_end": 15727864.8,
            "bin_start": 15707095,
            "count": 0
           },
           {
            "bin_end": 15748634.6,
            "bin_start": 15727864.8,
            "count": 0
           },
           {
            "bin_end": 15769404.4,
            "bin_start": 15748634.6,
            "count": 0
           },
           {
            "bin_end": 15790174.2,
            "bin_start": 15769404.4,
            "count": 0
           },
           {
            "bin_end": 15810944,
            "bin_start": 15790174.2,
            "count": 2
           }
          ],
          "max": "15810944",
          "min": "15603246",
          "nan_count": 0,
          "unique_count": 5
         }
        },
        {
         "dtype": "object",
         "name": "Gender",
         "stats": {
          "categories": [
           {
            "count": 3,
            "name": "Male"
           },
           {
            "count": 2,
            "name": "Female"
           }
          ],
          "nan_count": 0,
          "unique_count": 2
         }
        },
        {
         "dtype": "int64",
         "name": "Age",
         "stats": {
          "histogram": [
           {
            "bin_end": 20.6,
            "bin_start": 19,
            "count": 2
           },
           {
            "bin_end": 22.2,
            "bin_start": 20.6,
            "count": 0
           },
           {
            "bin_end": 23.8,
            "bin_start": 22.2,
            "count": 0
           },
           {
            "bin_end": 25.4,
            "bin_start": 23.8,
            "count": 0
           },
           {
            "bin_end": 27,
            "bin_start": 25.4,
            "count": 1
           },
           {
            "bin_end": 28.6,
            "bin_start": 27,
            "count": 1
           },
           {
            "bin_end": 30.200000000000003,
            "bin_start": 28.6,
            "count": 0
           },
           {
            "bin_end": 31.8,
            "bin_start": 30.200000000000003,
            "count": 0
           },
           {
            "bin_end": 33.4,
            "bin_start": 31.8,
            "count": 0
           },
           {
            "bin_end": 35,
            "bin_start": 33.4,
            "count": 1
           }
          ],
          "max": "35",
          "min": "19",
          "nan_count": 0,
          "unique_count": 4
         }
        },
        {
         "dtype": "int64",
         "name": "EstimatedSalary",
         "stats": {
          "histogram": [
           {
            "bin_end": 24700,
            "bin_start": 19000,
            "count": 2
           },
           {
            "bin_end": 30400,
            "bin_start": 24700,
            "count": 0
           },
           {
            "bin_end": 36100,
            "bin_start": 30400,
            "count": 0
           },
           {
            "bin_end": 41800,
            "bin_start": 36100,
            "count": 0
           },
           {
            "bin_end": 47500,
            "bin_start": 41800,
            "count": 1
           },
           {
            "bin_end": 53200,
            "bin_start": 47500,
            "count": 0
           },
           {
            "bin_end": 58900,
            "bin_start": 53200,
            "count": 1
           },
           {
            "bin_end": 64600,
            "bin_start": 58900,
            "count": 0
           },
           {
            "bin_end": 70300,
            "bin_start": 64600,
            "count": 0
           },
           {
            "bin_end": 76000,
            "bin_start": 70300,
            "count": 1
           }
          ],
          "max": "76000",
          "min": "19000",
          "nan_count": 0,
          "unique_count": 5
         }
        },
        {
         "dtype": "int64",
         "name": "Purchased",
         "stats": {
          "histogram": [
           {
            "bin_end": -0.4,
            "bin_start": -0.5,
            "count": 0
           },
           {
            "bin_end": -0.3,
            "bin_start": -0.4,
            "count": 0
           },
           {
            "bin_end": -0.19999999999999996,
            "bin_start": -0.3,
            "count": 0
           },
           {
            "bin_end": -0.09999999999999998,
            "bin_start": -0.19999999999999996,
            "count": 0
           },
           {
            "bin_end": 0,
            "bin_start": -0.09999999999999998,
            "count": 0
           },
           {
            "bin_end": 0.10000000000000009,
            "bin_start": 0,
            "count": 5
           },
           {
            "bin_end": 0.20000000000000007,
            "bin_start": 0.10000000000000009,
            "count": 0
           },
           {
            "bin_end": 0.30000000000000004,
            "bin_start": 0.20000000000000007,
            "count": 0
           },
           {
            "bin_end": 0.4,
            "bin_start": 0.30000000000000004,
            "count": 0
           },
           {
            "bin_end": 0.5,
            "bin_start": 0.4,
            "count": 0
           }
          ],
          "max": "0",
          "min": "0",
          "nan_count": 0,
          "unique_count": 1
         }
        },
        {
         "dtype": "int64",
         "name": "_deepnote_index_column"
        }
       ],
       "row_count": 5,
       "rows_bottom": null,
       "rows_top": [
        {
         "Age": 19,
         "EstimatedSalary": 19000,
         "Gender": "Male",
         "Purchased": 0,
         "User ID": 15624510,
         "_deepnote_index_column": 0
        },
        {
         "Age": 35,
         "EstimatedSalary": 20000,
         "Gender": "Male",
         "Purchased": 0,
         "User ID": 15810944,
         "_deepnote_index_column": 1
        },
        {
         "Age": 26,
         "EstimatedSalary": 43000,
         "Gender": "Female",
         "Purchased": 0,
         "User ID": 15668575,
         "_deepnote_index_column": 2
        },
        {
         "Age": 27,
         "EstimatedSalary": 57000,
         "Gender": "Female",
         "Purchased": 0,
         "User ID": 15603246,
         "_deepnote_index_column": 3
        },
        {
         "Age": 19,
         "EstimatedSalary": 76000,
         "Gender": "Male",
         "Purchased": 0,
         "User ID": 15804002,
         "_deepnote_index_column": 4
        }
       ]
      },
      "text/html": [
       "<div>\n",
       "<style scoped>\n",
       "    .dataframe tbody tr th:only-of-type {\n",
       "        vertical-align: middle;\n",
       "    }\n",
       "\n",
       "    .dataframe tbody tr th {\n",
       "        vertical-align: top;\n",
       "    }\n",
       "\n",
       "    .dataframe thead th {\n",
       "        text-align: right;\n",
       "    }\n",
       "</style>\n",
       "<table border=\"1\" class=\"dataframe\">\n",
       "  <thead>\n",
       "    <tr style=\"text-align: right;\">\n",
       "      <th></th>\n",
       "      <th>User ID</th>\n",
       "      <th>Gender</th>\n",
       "      <th>Age</th>\n",
       "      <th>EstimatedSalary</th>\n",
       "      <th>Purchased</th>\n",
       "    </tr>\n",
       "  </thead>\n",
       "  <tbody>\n",
       "    <tr>\n",
       "      <th>0</th>\n",
       "      <td>15624510</td>\n",
       "      <td>Male</td>\n",
       "      <td>19</td>\n",
       "      <td>19000</td>\n",
       "      <td>0</td>\n",
       "    </tr>\n",
       "    <tr>\n",
       "      <th>1</th>\n",
       "      <td>15810944</td>\n",
       "      <td>Male</td>\n",
       "      <td>35</td>\n",
       "      <td>20000</td>\n",
       "      <td>0</td>\n",
       "    </tr>\n",
       "    <tr>\n",
       "      <th>2</th>\n",
       "      <td>15668575</td>\n",
       "      <td>Female</td>\n",
       "      <td>26</td>\n",
       "      <td>43000</td>\n",
       "      <td>0</td>\n",
       "    </tr>\n",
       "    <tr>\n",
       "      <th>3</th>\n",
       "      <td>15603246</td>\n",
       "      <td>Female</td>\n",
       "      <td>27</td>\n",
       "      <td>57000</td>\n",
       "      <td>0</td>\n",
       "    </tr>\n",
       "    <tr>\n",
       "      <th>4</th>\n",
       "      <td>15804002</td>\n",
       "      <td>Male</td>\n",
       "      <td>19</td>\n",
       "      <td>76000</td>\n",
       "      <td>0</td>\n",
       "    </tr>\n",
       "  </tbody>\n",
       "</table>\n",
       "</div>"
      ],
      "text/plain": [
       "    User ID  Gender  Age  EstimatedSalary  Purchased\n",
       "0  15624510    Male   19            19000          0\n",
       "1  15810944    Male   35            20000          0\n",
       "2  15668575  Female   26            43000          0\n",
       "3  15603246  Female   27            57000          0\n",
       "4  15804002    Male   19            76000          0"
      ]
     },
     "execution_count": 2,
     "metadata": {},
     "output_type": "execute_result"
    }
   ],
   "source": [
    "# Importing dataset\n",
    "data = pd.read_csv('https://raw.githubusercontent.com/jorge-robledo11/Datasets/main/Datasets/Social_Network_Ads.csv')\n",
    "data.head()"
   ]
  },
  {
   "cell_type": "markdown",
   "metadata": {
    "cell_id": "00003-c5deda69-3614-4faa-9e27-172e33811011",
    "deepnote_cell_type": "text-cell-h2",
    "is_collapsed": false,
    "tags": []
   },
   "source": [
    "## Hyperparameter Tuning"
   ]
  },
  {
   "cell_type": "code",
   "execution_count": 3,
   "metadata": {
    "cell_id": "00003-bb533b27-3cdf-4d45-a78b-23e74ff8e90c",
    "deepnote_cell_type": "code",
    "deepnote_to_be_reexecuted": false,
    "execution_millis": 226,
    "execution_start": 1637016793300,
    "source_hash": "4343fd3e",
    "tags": []
   },
   "outputs": [],
   "source": [
    "# Hyperparamteter tuning\n",
    "\n",
    "from scipy.stats import randint\n",
    "from sklearn.model_selection import RandomizedSearchCV"
   ]
  },
  {
   "cell_type": "code",
   "execution_count": 4,
   "metadata": {
    "cell_id": "00003-436b98ef-97aa-45c8-b846-079de54e65f3",
    "deepnote_cell_type": "code",
    "deepnote_to_be_reexecuted": false,
    "execution_millis": 3,
    "execution_start": 1637016793536,
    "source_hash": "cc29ce39",
    "tags": []
   },
   "outputs": [],
   "source": [
    "# Features and target\n",
    "\n",
    "X = data.iloc[:,[2,3]].values\n",
    "y = data.iloc[:,4].values"
   ]
  },
  {
   "cell_type": "code",
   "execution_count": 5,
   "metadata": {
    "cell_id": "00004-e3ebda4f-c674-4dc3-b3f1-8d035d155f65",
    "deepnote_cell_type": "code",
    "deepnote_to_be_reexecuted": false,
    "execution_millis": 2,
    "execution_start": 1637016793546,
    "source_hash": "2bcac2eb",
    "tags": []
   },
   "outputs": [],
   "source": [
    "# Splitting the dataset into Training set and Test set\n",
    "\n",
    "from sklearn.model_selection import train_test_split\n",
    "\n",
    "X_train, X_test, y_train, y_test = train_test_split(X,y,test_size=0.25,random_state=0)"
   ]
  },
  {
   "cell_type": "code",
   "execution_count": 6,
   "metadata": {
    "cell_id": "00005-08a62466-87f7-43e3-b04a-420ac8e1fd99",
    "deepnote_cell_type": "code",
    "deepnote_to_be_reexecuted": false,
    "execution_millis": 9,
    "execution_start": 1637016793561,
    "source_hash": "4bbc13a1",
    "tags": []
   },
   "outputs": [],
   "source": [
    "# Feature Scaling\n",
    "\n",
    "from sklearn.preprocessing import StandardScaler\n",
    "\n",
    "sc = StandardScaler()\n",
    "X_train = sc.fit_transform(X_train)\n",
    "X_test = sc.fit_transform(X_test)"
   ]
  },
  {
   "cell_type": "code",
   "execution_count": 7,
   "metadata": {
    "cell_id": "00008-679a6993-b005-45f5-9e35-11e0d929c247",
    "deepnote_cell_type": "code",
    "deepnote_to_be_reexecuted": false,
    "execution_millis": 7,
    "execution_start": 1637016793579,
    "source_hash": "71f98e47",
    "tags": []
   },
   "outputs": [],
   "source": [
    "# Setup the paramteres and distribution to sample from: param_dist\n",
    "\n",
    "param_dist = {'max_depth': [3,None],\n",
    "              'min_samples_leaf': randint(1,9),\n",
    "              'criterion': ['gini', 'entropy']}"
   ]
  },
  {
   "cell_type": "code",
   "execution_count": 8,
   "metadata": {
    "cell_id": "00006-fd1d3df2-0fec-4a73-b9b9-7b796410ab12",
    "deepnote_cell_type": "code",
    "deepnote_to_be_reexecuted": false,
    "execution_millis": 236,
    "execution_start": 1637016793587,
    "source_hash": "e639c468",
    "tags": []
   },
   "outputs": [],
   "source": [
    "# Instantiate a Decision Tree Classifier: clf\n",
    "\n",
    "from sklearn.tree import DecisionTreeClassifier\n",
    "\n",
    "clf = DecisionTreeClassifier()"
   ]
  },
  {
   "cell_type": "code",
   "execution_count": 9,
   "metadata": {
    "cell_id": "00010-3f1f7e11-3692-488d-a514-d24cd7e98e6d",
    "deepnote_cell_type": "code",
    "deepnote_to_be_reexecuted": false,
    "execution_millis": 5,
    "execution_start": 1637016793832,
    "source_hash": "1ce0b86d",
    "tags": []
   },
   "outputs": [],
   "source": [
    "# Instantiate a Randomized Grid Search object: clf_cv\n",
    "\n",
    "clf_cv = RandomizedSearchCV(clf, param_dist, cv=5)"
   ]
  },
  {
   "cell_type": "code",
   "execution_count": 10,
   "metadata": {
    "cell_id": "00011-0595c6f3-dd54-4a18-bed8-5ac9f794fe77",
    "deepnote_cell_type": "code",
    "deepnote_to_be_reexecuted": false,
    "execution_millis": 98,
    "execution_start": 1637016793851,
    "source_hash": "e8437e76",
    "tags": []
   },
   "outputs": [
    {
     "data": {
      "text/plain": [
       "RandomizedSearchCV(cv=5, estimator=DecisionTreeClassifier(),\n",
       "                   param_distributions={'criterion': ['gini', 'entropy'],\n",
       "                                        'max_depth': [3, None],\n",
       "                                        'min_samples_leaf': <scipy.stats._distn_infrastructure.rv_frozen object at 0x7fbda8fdbfa0>})"
      ]
     },
     "execution_count": 10,
     "metadata": {},
     "output_type": "execute_result"
    }
   ],
   "source": [
    "# Fit it with the data\n",
    "\n",
    "clf_cv.fit(X_train, y_train)"
   ]
  },
  {
   "cell_type": "code",
   "execution_count": 11,
   "metadata": {
    "cell_id": "00012-0ac2a11c-5468-4373-b55f-c3ea1c6abb2b",
    "deepnote_cell_type": "code",
    "deepnote_to_be_reexecuted": false,
    "execution_millis": 9,
    "execution_start": 1637016793954,
    "source_hash": "ab0bf95e",
    "tags": []
   },
   "outputs": [
    {
     "data": {
      "text/plain": [
       "\"Mejores parámetros para el clasificador: {'criterion': 'entropy', 'max_depth': 3, 'min_samples_leaf': 7}\""
      ]
     },
     "metadata": {},
     "output_type": "display_data"
    },
    {
     "data": {
      "text/plain": [
       "'Mejor score para el clasificador: 0.9'"
      ]
     },
     "metadata": {},
     "output_type": "display_data"
    }
   ],
   "source": [
    "# Print the tuned parameters and score\n",
    "\n",
    "display(f'Mejores parámetros para el clasificador: {clf_cv.best_params_}')\n",
    "display(f'Mejor score para el clasificador: {clf_cv.best_score_}')"
   ]
  },
  {
   "cell_type": "code",
   "execution_count": 12,
   "metadata": {
    "cell_id": "00007-e219a75b-594d-42bc-8e81-0d8059116c7a",
    "deepnote_cell_type": "code",
    "deepnote_to_be_reexecuted": false,
    "execution_millis": 242098855,
    "execution_start": 1637016793971,
    "source_hash": "74346e96",
    "tags": []
   },
   "outputs": [],
   "source": [
    "# Predicting the Test set results\n",
    "\n",
    "y_pred = clf_cv.predict(X_test)"
   ]
  },
  {
   "cell_type": "code",
   "execution_count": 13,
   "metadata": {
    "cell_id": "00008-81bc137e-627e-4efe-ac5d-b473391cd7d1",
    "deepnote_cell_type": "code",
    "deepnote_to_be_reexecuted": false,
    "execution_millis": 422,
    "execution_start": 1637016794018,
    "source_hash": "af4c4b59",
    "tags": []
   },
   "outputs": [
    {
     "data": {
      "image/png": "[encoded data removed]",
      "text/plain": [
       "<Figure size 576x504 with 2 Axes>"
      ]
     },
     "metadata": {
      "image/png": {
       "height": 498,
       "width": 530
      },
      "needs_background": "light"
     },
     "output_type": "display_data"
    }
   ],
   "source": [
    "# Making Confusion Matrix\n",
    "\n",
    "from sklearn.metrics import confusion_matrix\n",
    "cnf_matrix = confusion_matrix(y_test, y_pred)\n",
    "\n",
    "# Confusion Matrix\n",
    "\n",
    "class_names = [0,1]\n",
    "fig,ax = plt.subplots(figsize=(8,7)) \n",
    "tick_marks = np.arange(len(class_names))\n",
    "plt.xticks(tick_marks, class_names)\n",
    "plt.yticks(tick_marks, class_names) \n",
    "\n",
    "sns.heatmap(pd.DataFrame(cnf_matrix), annot = True, cmap='magma_r', fmt='g')\n",
    "ax.xaxis.set_label_position('top')\n",
    "plt.title('Matriz de Confusión\\n', y=1.1, fontsize=14)\n",
    "plt.ylabel('Etiqueta Actual', fontsize=12)\n",
    "plt.xlabel('Etiqueta de Predicción', fontsize=12)\n",
    "plt.tight_layout();"
   ]
  },
  {
   "cell_type": "markdown",
   "metadata": {
    "created_in_deepnote_cell": true,
    "deepnote_cell_type": "markdown",
    "tags": []
   },
   "source": [
    "<a style='text-decoration:none;line-height:16px;display:flex;color:#5B5B62;padding:10px;justify-content:end;' href='https://deepnote.com?utm_source=created-in-deepnote-cell&projectId=4ec84517-f553-446b-9032-1da3132bd62a' target=\"_blank\">\n",
    "<img alt='Created in deepnote.com' style='display:inline;max-height:16px;margin:0px;margin-right:7.5px;' src='data:image/svg+xml;base64,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' > </img>\n",
    "Created in <span style='font-weight:600;margin-left:4px;'>Deepnote</span></a>"
   ]
  }
 ],
 "metadata": {
  "deepnote": {
   "is_reactive": false
  },
  "deepnote_execution_queue": [],
  "deepnote_notebook_id": "a3dc4c77-0d24-4278-9ef5-d281fef9f5d2",
  "kernelspec": {
   "display_name": "Python 3 (ipykernel)",
   "language": "python",
   "name": "python3"
  },
  "language_info": {
   "codemirror_mode": {
    "name": "ipython",
    "version": 3
   },
   "file_extension": ".py",
   "mimetype": "text/x-python",
   "name": "python",
   "nbconvert_exporter": "python",
   "pygments_lexer": "ipython3",
   "version": "3.9.7"
  }
 },
 "nbformat": 4,
 "nbformat_minor": 2
}
